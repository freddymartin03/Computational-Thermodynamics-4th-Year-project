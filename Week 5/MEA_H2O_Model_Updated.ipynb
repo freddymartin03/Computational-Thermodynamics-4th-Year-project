{
 "cells": [
  {
   "cell_type": "code",
   "execution_count": 3,
   "id": "5988fb3f-bee8-4f0c-b1dd-aec5ed0ed427",
   "metadata": {},
   "outputs": [],
   "source": [
    "using Clapeyron\n",
    "using Plots\n",
    "using CSV\n",
    "using DataFrames\n",
    "using LaTeXStrings"
   ]
  },
  {
   "cell_type": "markdown",
   "id": "d44f77ab-465c-4d55-a61a-0be65be1f453",
   "metadata": {},
   "source": [
    "# Set up MEA + H2O Model"
   ]
  },
  {
   "cell_type": "code",
   "execution_count": 6,
   "id": "2bcbc1b7-e529-4de8-93c5-3f827bd45ecb",
   "metadata": {},
   "outputs": [],
   "source": [
    "model_mix = SAFTgammaMie([(\"MEA\",[\"NH2\"=>1, \"CH2\"=>1, \"CH2OH\"=>1]),(\"Water\",[\"H2O\"=>1])];\n",
    "\n",
    "        userlocations = (Mw = [16.02285, 14.02658, 31.03392, 18.01528],\n",
    "\n",
    "        epsilon = [284.78 348.39 528.21 339.89;\n",
    "\n",
    "                   348.39 473.39 423.17 423.63;\n",
    "\n",
    "                   528.21 423.17 407.22 358.02;\n",
    "\n",
    "                   339.89 423.63 358.02 266.68],\n",
    "\n",
    "        sigma = [3.2477, 4.8801, 3.4054, 3.0063],\n",
    "\n",
    "        lambda_a = [6, 6, 6, 6],\n",
    "\n",
    "        lambda_r = [10.354 14.063 52.305 13.085;\n",
    "\n",
    "                    14.063 19.871 21.230 100.00;\n",
    "\n",
    "                    52.305 21.230 22.699 19.619;\n",
    "\n",
    "                    13.085 100.00 19.619 17.020],\n",
    "\n",
    "        vst = [1, 1, 2, 1],\n",
    "\n",
    "        S = [0.79675, 0.22932, 0.58538, 1],\n",
    "\n",
    "        n_H=[2, 0, 1, 2],\n",
    "\n",
    "        n_e=[1, 0, 2, 2],\n",
    "\n",
    "        epsilon_assoc = Dict([((\"NH2\",\"H\"),(\"NH2\",\"e\")) => 1070.80,\n",
    "\n",
    "                              ((\"NH2\",\"H\"),(\"CH2OH\",\"e\")) => 629.88,\n",
    "\n",
    "                              ((\"NH2\",\"H\"),(\"H2O\",\"e\")) => 1364.40,\n",
    "\n",
    "                              ((\"CH2OH\",\"H\"),(\"NH2\",\"e\")) => 2403.78,\n",
    "\n",
    "                              ((\"CH2OH\",\"H\"),(\"CH2OH\",\"e\")) => 2097.90,\n",
    "\n",
    "                              ((\"CH2OH\",\"H\"),(\"H2O\",\"e\")) => 600.00,\n",
    "\n",
    "                              ((\"H2O\",\"H\"),(\"NH2\",\"e\")) => 1877.50,\n",
    "\n",
    "                              ((\"H2O\",\"H\"),(\"CH2OH\",\"e\")) => 2000.6,\n",
    "\n",
    "                              ((\"H2O\",\"H\"),(\"H2O\",\"e\")) => 1985.40]),\n",
    "\n",
    "        bondvol = Dict([((\"NH2\",\"H\"),(\"NH2\",\"e\")) => 95.225e-30,\n",
    "\n",
    "                              ((\"NH2\",\"H\"),(\"CH2OH\",\"e\")) => 346.08e-30,\n",
    "\n",
    "                              ((\"NH2\",\"H\"),(\"H2O\",\"e\")) => 22.450e-30,\n",
    "\n",
    "                              ((\"CH2OH\",\"H\"),(\"NH2\",\"e\")) => 26.192e-30,\n",
    "\n",
    "                              ((\"CH2OH\",\"H\"),(\"CH2OH\",\"e\")) => 62.309e-30,\n",
    "\n",
    "                              ((\"CH2OH\",\"H\"),(\"H2O\",\"e\")) => 490.19e-30,\n",
    "\n",
    "                              ((\"H2O\",\"H\"),(\"NH2\",\"e\")) => 459.18e-30,\n",
    "\n",
    "                              ((\"H2O\",\"H\"),(\"CH2OH\",\"e\")) => 130.02e-30,\n",
    "\n",
    "                              ((\"H2O\",\"H\"),(\"H2O\",\"e\")) => 101.69e-30])));"
   ]
  },
  {
   "cell_type": "code",
   "execution_count": null,
   "id": "890094a0-d7a9-45d3-a8f0-be3d065d8133",
   "metadata": {},
   "outputs": [],
   "source": []
  }
 ],
 "metadata": {
  "kernelspec": {
   "display_name": "Julia 1.10.5",
   "language": "julia",
   "name": "julia-1.10"
  },
  "language_info": {
   "file_extension": ".jl",
   "mimetype": "application/julia",
   "name": "julia",
   "version": "1.10.5"
  }
 },
 "nbformat": 4,
 "nbformat_minor": 5
}
