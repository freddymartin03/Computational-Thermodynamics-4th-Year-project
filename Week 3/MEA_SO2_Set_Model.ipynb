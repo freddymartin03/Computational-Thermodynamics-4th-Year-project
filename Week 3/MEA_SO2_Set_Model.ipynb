{
 "cells": [
  {
   "cell_type": "markdown",
   "id": "c93fcced-3921-4c2c-9ed7-df6f8a3c3480",
   "metadata": {},
   "source": [
    "# Import Relevant Packages"
   ]
  },
  {
   "cell_type": "code",
   "execution_count": 9,
   "id": "32d768ac-518c-4fcc-82cd-c9f6a56c5a0d",
   "metadata": {},
   "outputs": [],
   "source": [
    "using Clapeyron\n",
    "using Plots\n",
    "using CSV\n",
    "using DataFrames\n",
    "using LaTeXStrings"
   ]
  },
  {
   "cell_type": "markdown",
   "id": "d26d3312-1083-43b4-bb98-480250551c62",
   "metadata": {},
   "source": [
    "# SO2 + MEA Binary Model (Chris Weston Values)"
   ]
  },
  {
   "cell_type": "code",
   "execution_count": 11,
   "id": "cf00459f-4644-4952-8120-c7c6274b1798",
   "metadata": {},
   "outputs": [],
   "source": [
    "model_mix  = SAFTgammaMie([(\"MEA\", [\"NH2\" => 1, \"CH2\" => 1, \"CH2OH\" => 1]), (\"Sulfur dioxide\", [\"SO2\" => 1])];\n",
    "        userlocations=(;\n",
    "        Mw = [16.02285, 14.02658, 31.03392, 64.0638],\n",
    "        epsilon = [284.78 348.39 528.21 260.017;\n",
    "                   348.39 473.39 423.17 301.958;\n",
    "                   528.21 423.17 407.22 302.889;\n",
    "                   260.017 301.958 302.889 237.54],\n",
    "        sigma = [3.2477, 4.8801, 3.4054, 3.1605],\n",
    "        lambda_a = [6.000, 6.000, 6.000, 6.000],\n",
    "        lambda_r = [10.254 14.063 52.305 12.412;\n",
    "                    14.063 19.871 21.230 17.354;\n",
    "                    52.305 21.230 22.699 18.511;\n",
    "                    12.412 17.354 18.511 15.213],\n",
    "        vst = [1, 1, 2, 3],\n",
    "        S = [0.79675, 0.22932, 0.58538, 0.62547], \n",
    "        n_e=[1, 0, 2, 1],\n",
    "        n_H=[2, 0, 1, 1],\n",
    "        #Need to add in all the cross association epsilons\n",
    "        epsilon_assoc = Dict([((\"SO2\",\"H\"),(\"SO2\",\"e\")) => 955.58, \n",
    "                              ((\"CH2OH\",\"H\"),(\"CH2OH\",\"e\")) => 2097.9,\n",
    "                              ((\"NH2\",\"H\"),(\"NH2\",\"e\")) => 1070.8,\n",
    "                              ((\"SO2\",\"e\"),(\"CH2OH\",\"H\")) => 1415.88,\n",
    "                              ((\"SO2\",\"H\"),(\"CH2OH\",\"e\")) => 1415.88,\n",
    "                              ((\"SO2\",\"e\"),(\"NH2\",\"H\")) => 1011.551,\n",
    "                              ((\"SO2\",\"H\"),(\"NH2\",\"e\")) => 1011.551,\n",
    "                              ((\"CH2OH\",\"e\"),(\"NH2\",\"H\")) => 629.88,\n",
    "                              ((\"CH2OH\",\"H\"),(\"NH2\",\"e\")) => 2403.8]),\n",
    "        bondvol = Dict([((\"SO2\",\"H\"),(\"SO2\",\"e\")) => 849.99e-30,\n",
    "                        ((\"CH2OH\",\"H\"),(\"CH2OH\",\"e\")) => 62.309e-30,\n",
    "                        ((\"NH2\",\"H\"),(\"NH2\",\"e\")) => 95.225e-30,\n",
    "                        ((\"SO2\",\"e\"),(\"CH2OH\",\"H\")) => 303.268e-30,\n",
    "                        ((\"SO2\",\"H\"),(\"CH2OH\",\"e\")) => 303.268e-30,\n",
    "                        ((\"SO2\",\"e\"),(\"NH2\",\"H\")) => 345.885e-30,\n",
    "                        ((\"SO2\",\"H\"),(\"NH2\",\"e\")) => 345.885e-30,\n",
    "                        ((\"CH2OH\",\"e\"),(\"NH2\",\"H\")) => 346.08e-30,\n",
    "                        ((\"CH2OH\",\"H\"),(\"NH2\",\"e\")) => 26.192e-30])));\n"
   ]
  },
  {
   "cell_type": "markdown",
   "id": "db2f5483-51ef-4643-9d75-f21110503282",
   "metadata": {},
   "source": [
    "# Calculate Model Bubble and Dew Pressure Values"
   ]
  },
  {
   "cell_type": "code",
   "execution_count": 50,
   "id": "9ce078d6-931a-4dea-8bd0-283fe8288fd7",
   "metadata": {},
   "outputs": [
    {
     "ename": "LoadError",
     "evalue": "ParseError:\n\u001b[90m# Error @ \u001b[0;0m\u001b]8;;file://C:/Users/gk321/In[50]#27:1\u001b\\\u001b[90mIn[50]:27:1\u001b[0;0m\u001b]8;;\u001b\\\n\n\u001b[48;2;120;70;70m\u001b[0;0mend\n\u001b[90m└ ── \u001b[0;0m\u001b[91mExpected `]`\u001b[0;0m",
     "output_type": "error",
     "traceback": [
      "ParseError:\n\u001b[90m# Error @ \u001b[0;0m\u001b]8;;file://C:/Users/gk321/In[50]#27:1\u001b\\\u001b[90mIn[50]:27:1\u001b[0;0m\u001b]8;;\u001b\\\n\n\u001b[48;2;120;70;70m\u001b[0;0mend\n\u001b[90m└ ── \u001b[0;0m\u001b[91mExpected `]`\u001b[0;0m",
      "",
      "Stacktrace:",
      " [1] top-level scope",
      "   @ In[50]:27"
     ]
    }
   ],
   "source": [
    "iter = 100\n",
    "T_isotherm = 300\n",
    "x = LinRange(0, 1, iter+1)\n",
    "\n",
    "\n",
    "global bub_curve,dew_curve,iter\n",
    "\n",
    "bub_curve = zeros(iter+1, 2)\n",
    "dew_curve = zeros(iter+1, 2)\n",
    "bub_check = zeros(iter+1,1)\n",
    "dew_check = zeros(iter+1,1)\n",
    "\n",
    "\n",
    "for i_x in 1:iter+1\n",
    "    local dummy_bub, dummy_dew, dummy_x\n",
    "    dummy_bub = bubble_pressure(model_mix,T_isotherm, [x[i_x],1-x[i_x]])\n",
    "    bub_curve[i_x,1] = dummy_bub[1]\n",
    "    bub_curve[i_x,2] = dummy_bub[4][1]\n",
    "    bub_check[i_x,1] = dummy_bub[4][1] + dummy_bub[4][2]\n",
    "    \n",
    "    dummy_dew = dew_pressure(model_mix,T_isotherm,[x[i_x],1-x[i_x]])\n",
    "    dew_curve[i_x,1] = dummy_dew[1]\n",
    "    dew_curve[i_x,2] = dummy_dew[4][1\n",
    "    dew_check[i_x,1] = dummy_dew[4][1] + dummy_dew[4][2]\n",
    "\n",
    "\n",
    "end"
   ]
  },
  {
   "cell_type": "markdown",
   "id": "f4f34f86-e5f9-4555-8f70-0589e0ab5f3f",
   "metadata": {},
   "source": [
    "# Plot Bubble and Dew Pressures"
   ]
  },
  {
   "cell_type": "code",
   "execution_count": 46,
   "id": "b826172d-4d5c-474d-855c-8958870c09b7",
   "metadata": {},
   "outputs": [
    {
     "ename": "LoadError",
     "evalue": "Expects 101 elements in each col of y, found 1.",
     "output_type": "error",
     "traceback": [
      "Expects 101 elements in each col of y, found 1.",
      "",
      "Stacktrace:",
      " [1] error(s::String)",
      "   @ Base .\\error.jl:35",
      " [2] _compute_xyz(x::Vector{Float64}, y::Vector{Float64}, z::Nothing, nice_error::Bool)",
      "   @ RecipesPipeline C:\\Users\\gk321\\.julia\\packages\\RecipesPipeline\\BGM3l\\src\\series.jl:90",
      " [3] macro expansion",
      "   @ C:\\Users\\gk321\\.julia\\packages\\RecipesPipeline\\BGM3l\\src\\series.jl:140 [inlined]",
      " [4] apply_recipe(plotattributes::AbstractDict{Symbol, Any}, ::Type{RecipesPipeline.SliceIt}, x::Any, y::Any, z::Any)",
      "   @ RecipesPipeline C:\\Users\\gk321\\.julia\\packages\\RecipesBase\\BRe07\\src\\RecipesBase.jl:300",
      " [5] _process_userrecipes!(plt::Any, plotattributes::Any, args::Any)",
      "   @ RecipesPipeline C:\\Users\\gk321\\.julia\\packages\\RecipesPipeline\\BGM3l\\src\\user_recipe.jl:38",
      " [6] recipe_pipeline!(plt::Any, plotattributes::Any, args::Any)",
      "   @ RecipesPipeline C:\\Users\\gk321\\.julia\\packages\\RecipesPipeline\\BGM3l\\src\\RecipesPipeline.jl:72",
      " [7] _plot!(plt::Plots.Plot, plotattributes::Any, args::Any)",
      "   @ Plots C:\\Users\\gk321\\.julia\\packages\\Plots\\kLeqV\\src\\plot.jl:223",
      " [8] plot!(::Plots.Plot, ::Any, ::Vararg{Any}; kw...)",
      "   @ Plots C:\\Users\\gk321\\.julia\\packages\\Plots\\kLeqV\\src\\plot.jl:213",
      " [9] top-level scope",
      "   @ In[46]:8"
     ]
    }
   ],
   "source": [
    "plt = plot(grid = :off, \n",
    "           framestyle = :box, \n",
    "           foreground_color_legend = nothing, \n",
    "           legend_font = font(12),\n",
    "           xtickfont = font(12),\n",
    "           ytickfont = font(12))\n",
    "\n",
    "plot!(plt, bub_curve[:,2], (bub_curve[:,1] ./ 1e5)', \n",
    "      seriestype = :scatter, \n",
    "      color = \"deepskyblue1\", \n",
    "      markerstrokecolor = \"black\", \n",
    "      line = (:path, 3), \n",
    "      label = \"Bubble Curve\")\n",
    "\n",
    "plot!(plt, dew_curve[:,2], (dew_curve[:, 1] ./ 1e5)', \n",
    "      seriestype = :scatter, \n",
    "      color = \"indianred2\", \n",
    "      markerstrokecolor = \"black\", \n",
    "      line = (:path, 3), \n",
    "      label = \"Dew Curve\")\n",
    "\n",
    "xlabel!(plt, \"Composition\", yguidefontsize=12)\n",
    "ylabel!(plt, \"Pressure / (bar)\", xguidefontsize=12)"
   ]
  },
  {
   "cell_type": "code",
   "execution_count": null,
   "id": "299b9f0a-4a5e-453d-8e53-2893ef1c6d5f",
   "metadata": {},
   "outputs": [],
   "source": []
  }
 ],
 "metadata": {
  "kernelspec": {
   "display_name": "Julia 1.10.5",
   "language": "julia",
   "name": "julia-1.10"
  },
  "language_info": {
   "file_extension": ".jl",
   "mimetype": "application/julia",
   "name": "julia",
   "version": "1.10.5"
  }
 },
 "nbformat": 4,
 "nbformat_minor": 5
}
