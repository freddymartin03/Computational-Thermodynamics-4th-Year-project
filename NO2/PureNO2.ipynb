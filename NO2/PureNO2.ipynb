{
 "cells": [
  {
   "cell_type": "code",
   "execution_count": 140,
   "id": "9d4a36f7-342c-4420-aac7-df5b307b7e1b",
   "metadata": {},
   "outputs": [],
   "source": [
    "using Clapeyron\n",
    "using Plots\n",
    "using CSV\n",
    "using DataFrames\n",
    "using LaTeXStrings"
   ]
  },
  {
   "cell_type": "markdown",
   "id": "d5b4d040-8565-426c-9ba3-0d5785cfcab3",
   "metadata": {},
   "source": [
    "Define The Model For Pure NO2 and Set User Parameters"
   ]
  },
  {
   "cell_type": "code",
   "execution_count": 143,
   "id": "e5bffdc9-4f5a-477d-b156-2249a0e4237d",
   "metadata": {},
   "outputs": [],
   "source": [
    "model = SAFTgammaMie([(\"nitrogen dioxide\",[\"NO2\"=>1])];userlocations=(Mw = [46.0055],\n",
    "        epsilon = [318.75],\n",
    "        sigma = [3.2004],\n",
    "        lambda_a = [6],\n",
    "        lambda_r = [17.989],\n",
    "        vst = [2],\n",
    "        S = [0.64494], \n",
    "        n_e=[1],\n",
    "        n_H=[0],\n",
    "        epsilon_assoc=Dict(((\"NO2\",\"e\"),(\"NO2\",\"e\")) => 5444.9),\n",
    "        bondvol=Dict(((\"NO2\",\"e\"),(\"NO2\",\"e\")) => 0.10002e-30)));"
   ]
  },
  {
   "cell_type": "markdown",
   "id": "b16c26e8-4caa-42f3-ba1d-e7a379a04b39",
   "metadata": {},
   "source": [
    "Show the Model Parameters"
   ]
  },
  {
   "cell_type": "code",
   "execution_count": 146,
   "id": "cdafae51-0c95-42b0-b362-fdc46080a030",
   "metadata": {},
   "outputs": [
    {
     "name": "stdout",
     "output_type": "stream",
     "text": [
      "model = SAFTgammaMie{BasicIdeal}(\"nitrogen dioxide\")\n",
      "model.params.lambda_r.values = [17.989;;]\n",
      "model.params.lambda_a.values = [6.0;;]\n",
      "model.params.sigma.values = [3.2004e-10;;]\n",
      "model.params.epsilon.values = [318.75;;]\n",
      "model.params.segment.values = [2]\n",
      "model.params.shapefactor.values = [0.64494]\n",
      "model.params.epsilon_assoc.values = Clapeyron.Compressed4DMatrix{Float64, Vector{Float64}}[5444.9]\n",
      "model.params.bondvol.values = Clapeyron.Compressed4DMatrix{Float64, Vector{Float64}}[1.0002e-31]\n"
     ]
    },
    {
     "data": {
      "text/plain": [
       "Clapeyron.Compressed4DMatrix{Float64, Vector{Float64}} with 1 entry:\n",
       " (1, 1) >=< (1, 1): 1.0002e-31"
      ]
     },
     "execution_count": 146,
     "metadata": {},
     "output_type": "execute_result"
    }
   ],
   "source": [
    "@show model\n",
    "\n",
    "    @show model.params.lambda_r.values\n",
    "    @show model.params.lambda_a.values\n",
    "    @show model.params.sigma.values\n",
    "    @show model.params.epsilon.values\n",
    "    @show model.params.segment.values\n",
    "    @show model.params.shapefactor.values\n",
    "    @show model.params.epsilon_assoc.values\n",
    "    @show model.params.bondvol.values"
   ]
  },
  {
   "cell_type": "markdown",
   "id": "2e7cddde-42c0-49c8-979e-17d4e95c5c71",
   "metadata": {},
   "source": [
    "Load In Experimental Critical Values From NIST"
   ]
  },
  {
   "cell_type": "code",
   "execution_count": 149,
   "id": "e984f12b-be8f-453c-a098-3fa45ffe213e",
   "metadata": {
    "scrolled": true
   },
   "outputs": [],
   "source": [
    "Tc_exp = 431.23;\n",
    "Pc_exp = 101.0875;\n",
    "Rhoc_exp = 12148.14;\n",
    "\n",
    "#= units in kelvin, bar and mol/m3 =#"
   ]
  },
  {
   "cell_type": "markdown",
   "id": "2243004e-f380-436b-8d7b-ca871fbafeca",
   "metadata": {},
   "source": [
    "Calaculate Critical Values Using the Model"
   ]
  },
  {
   "cell_type": "code",
   "execution_count": 152,
   "id": "01b64cd8-c72e-469a-856e-995c5b8a2f00",
   "metadata": {},
   "outputs": [
    {
     "name": "stdout",
     "output_type": "stream",
     "text": [
      "(Tc, Pc, Rhoc) = (430.54961713256796, 9.54369986176589e6, 13593.66661727738)\n"
     ]
    },
    {
     "data": {
      "text/plain": [
       "(430.54961713256796, 9.54369986176589e6, 13593.66661727738)"
      ]
     },
     "execution_count": 152,
     "metadata": {},
     "output_type": "execute_result"
    }
   ],
   "source": [
    "(Tc,Pc,Vc) = crit_pure(model);\n",
    "Rhoc = 1/Vc;\n",
    "\n",
    "@show Tc,Pc,Rhoc\n",
    "\n",
    "#= units in kelvin, Pa and mol/m3 =#"
   ]
  },
  {
   "cell_type": "markdown",
   "id": "01d4d5a8-e05f-4107-948f-a5b120836a32",
   "metadata": {},
   "source": [
    "Calculate Ratios"
   ]
  },
  {
   "cell_type": "code",
   "execution_count": 155,
   "id": "258045e4-18fe-4499-b7d4-20886d482397",
   "metadata": {},
   "outputs": [
    {
     "name": "stdout",
     "output_type": "stream",
     "text": [
      "(Tc_Ratio, Pc_Ratio, Rhoc_Ratio) = (0.9984222274251976, 0.9441028674926069, 1.1189916001361015)\n"
     ]
    },
    {
     "data": {
      "text/plain": [
       "(0.9984222274251976, 0.9441028674926069, 1.1189916001361015)"
      ]
     },
     "execution_count": 155,
     "metadata": {},
     "output_type": "execute_result"
    }
   ],
   "source": [
    "Tc_Ratio = Tc/Tc_exp;\n",
    "Pc_Ratio = (Pc/1e5)/Pc_exp;\n",
    "Rhoc_Ratio = Rhoc/Rhoc_exp;\n",
    "\n",
    "@show Tc_Ratio,Pc_Ratio,Rhoc_Ratio"
   ]
  },
  {
   "cell_type": "markdown",
   "id": "fa9359eb-ca8e-46d3-bb64-98985ab88f48",
   "metadata": {},
   "source": [
    "Use temperatures from 300k below up to critical point spaced evenly with 120 points"
   ]
  },
  {
   "cell_type": "code",
   "execution_count": 158,
   "id": "779f0380-3135-4eff-8d3d-f1484c4c4f96",
   "metadata": {},
   "outputs": [],
   "source": [
    "N = 120;\n",
    "T = LinRange(Tc-300,Tc,N);"
   ]
  },
  {
   "cell_type": "markdown",
   "id": "cbf58467-f8dd-4254-bea5-f3f2e580ca2c",
   "metadata": {},
   "source": [
    "Initialise Arrays"
   ]
  },
  {
   "cell_type": "code",
   "execution_count": 161,
   "id": "6aa507ad-8237-4bd1-80e0-463c8625dc05",
   "metadata": {},
   "outputs": [],
   "source": [
    "p = zeros(N);\n",
    "Vl = zeros(N);\n",
    "Vv = zeros(N);\n",
    "Rho_l = zeros(N);\n",
    "Rho_v = zeros(N);"
   ]
  },
  {
   "cell_type": "markdown",
   "id": "000eb3f4-f9e0-4a3b-a9df-dfdf1f6a14a2",
   "metadata": {},
   "source": [
    "Get the Model Results"
   ]
  },
  {
   "cell_type": "code",
   "execution_count": 164,
   "id": "6f57cac5-81a0-498d-a3df-4d7c73849f01",
   "metadata": {},
   "outputs": [],
   "source": [
    "for i in 1:N\n",
    "    p[i],Vl[i],Vv[i] = saturation_pressure(model,T[i]);\n",
    "    Rho_l[i] = 1/Vl[i];\n",
    "    Rho_v[i] = 1/Vv[i];\n",
    "end"
   ]
  },
  {
   "cell_type": "markdown",
   "id": "14205c7d-e6da-4c1a-a40c-98b68cdd4166",
   "metadata": {},
   "source": [
    "Import The Experimental Data"
   ]
  },
  {
   "cell_type": "code",
   "execution_count": 167,
   "id": "ec20d320-b524-46af-8aa5-df72b559cbf4",
   "metadata": {},
   "outputs": [],
   "source": [
    "Rho_l_exp = CSV.read(\"NO2_rho_liq_sat_Clap.csv\",header=[1,2,3],DataFrame);\n",
    "Rho_l_exp_HiT = CSV.read(\"NO2_rho_liq_sat_Hi-T_Clap.csv\",header=[1,2,3],DataFrame);\n",
    "Rho_v_exp = CSV.read(\"NO2_rho_vap_sat_Clap.csv\",header=[1,2,3],DataFrame);\n",
    "p_exp = CSV.read(\"NO2_vp_Clap.csv\",header=[1,2,3],DataFrame);\n",
    "p_exp_HiT = CSV.read(\"NO2_vp_Clap_Hi-T.csv\",header=[1,2,3],DataFrame);"
   ]
  },
  {
   "cell_type": "code",
   "execution_count": null,
   "id": "0866ec5a-f0f2-4c1e-a714-6ae5c175a7d5",
   "metadata": {},
   "outputs": [],
   "source": []
  },
  {
   "cell_type": "code",
   "execution_count": 170,
   "id": "6aaaa932-6888-4b5f-8cb9-5bb60070b02a",
   "metadata": {},
   "outputs": [
    {
     "name": "stdout",
     "output_type": "stream",
     "text": [
      "(Rho_l_exp, Rho_l_exp_HiT, Rho_v_exp, p_exp, p_exp_HiT) = (24×2 DataFrame\n",
      " Row │ C_[method=saturation_rhol]_T  D_Column2_out_rho\n",
      "     │ Float64                       Float64\n",
      "─────┼─────────────────────────────────────────────────\n",
      "   1 │                       273.15            32387.4\n",
      "   2 │                       275.15            32300.5\n",
      "   3 │                       277.15            32213.5\n",
      "   4 │                       279.15            32126.6\n",
      "   5 │                       281.15            32017.9\n",
      "   6 │                       283.15            31931.0\n",
      "   7 │                       286.15            31800.5\n",
      "   8 │                       287.15            31735.3\n",
      "   9 │                       288.15            31691.9\n",
      "  10 │                       290.15            31604.9\n",
      "  11 │                       291.15            31561.4\n",
      "  12 │                       293.15            31452.8\n",
      "  13 │                       294.15            31409.3\n",
      "  14 │                       294.65            31387.6\n",
      "  15 │                       293.15            31452.8\n",
      "  16 │                       273.15            32691.7\n",
      "  17 │                       288.15            31691.9\n",
      "  18 │                       293.15            31450.6\n",
      "  19 │                       303.15            30735.5\n",
      "  20 │                       318.15            29757.3\n",
      "  21 │                       333.15            28757.4\n",
      "  22 │                       348.15            27692.3\n",
      "  23 │                       363.15            26540.3\n",
      "  24 │                       378.15            25257.8, 3×2 DataFrame\n",
      " Row │ G_[method=saturation_rhol]_T  H_Column2_out_rho\n",
      "     │ Float64                       Float64\n",
      "─────┼─────────────────────────────────────────────────\n",
      "   1 │                       393.15            23758.0\n",
      "   2 │                       408.15            21801.7\n",
      "   3 │                       423.15            18693.4, 34×2 DataFrame\n",
      " Row │ I_[method=saturation_rhol]_T  J_Column2_out_rho\n",
      "     │ Float64                       Float64\n",
      "─────┼─────────────────────────────────────────────────\n",
      "   1 │                       294.26            73.8173\n",
      "   2 │                       294.26            73.9042\n",
      "   3 │                       299.81            93.6192\n",
      "   4 │                       305.37           112.182\n",
      "   5 │                       310.93           138.179\n",
      "   6 │                       310.93           138.223\n",
      "   7 │                       316.48           169.762\n",
      "   8 │                       322.04           207.866\n",
      "   9 │                       327.59           254.491\n",
      "  10 │                       327.59           254.513\n",
      "  11 │                       333.15           309.224\n",
      "  12 │                       338.7            374.281\n",
      "  13 │                       344.26           449.881\n",
      "  14 │                       344.26           450.251\n",
      "  15 │                       349.81           541.174\n",
      "  16 │                       355.37           645.858\n",
      "  17 │                       360.93           764.995\n",
      "  18 │                       360.93           764.909\n",
      "  19 │                       366.48           911.478\n",
      "  20 │                       372.04          1077.31\n",
      "  21 │                       377.59          1270.28\n",
      "  22 │                       377.59          1269.37\n",
      "  23 │                       383.15          1500.8\n",
      "  24 │                       388.7           1771.94\n",
      "  25 │                       394.26          2093.73\n",
      "  26 │                       394.26          2093.73\n",
      "  27 │                       399.81          2488.81\n",
      "  28 │                       405.37          2953.23\n",
      "  29 │                       410.93          3560.1\n",
      "  30 │                       410.93          3537.4\n",
      "  31 │                       416.48          4300.18\n",
      "  32 │                       422.04          5384.88\n",
      "  33 │                       427.59          7408.2\n",
      "  34 │                       431.37         11965.2, 21×2 DataFrame\n",
      " Row │ A_[method=saturation_p]_T  B_Column2_out_pre\n",
      "     │ Float64                    Float64\n",
      "─────┼──────────────────────────────────────────────\n",
      "   1 │                   310.926          2.11944e5\n",
      "   2 │                   310.926          2.09945e5\n",
      "   3 │                   310.926          2.11462e5\n",
      "   4 │                   327.592          4.13753e5\n",
      "   5 │                   344.259          7.68004e5\n",
      "   6 │                   344.259          7.6635e5\n",
      "   7 │                   344.259          7.69176e5\n",
      "   8 │                   344.259          7.67177e5\n",
      "   9 │                   360.926          1.35385e6\n",
      "  10 │                   377.592          2.28609e6\n",
      "  11 │                   377.592          2.29284e6\n",
      "  12 │                   377.592          2.29581e6\n",
      "  13 │                   294.3       101325.0\n",
      "  14 │                   294.75      101325.0\n",
      "  15 │                   295.15      101325.0\n",
      "  16 │                   277.592      44815.8\n",
      "  17 │                   310.926          2.13737e5\n",
      "  18 │                   344.259          7.65315e5\n",
      "  19 │                   377.592          2.29595e6\n",
      "  20 │                   294.426     101325.0\n",
      "  21 │                   394.259          3.75025e6, 5×2 DataFrame\n",
      " Row │ M_[method=saturation_p]_T  N_Column2_out_pre\n",
      "     │ Float64                    Int64\n",
      "─────┼──────────────────────────────────────────────\n",
      "   1 │                   410.926            5957601\n",
      "   2 │                   416.481            6911970\n",
      "   3 │                   422.037            7984101\n",
      "   4 │                   422.037            7998580\n",
      "   5 │                   410.926            5957049)\n"
     ]
    },
    {
     "data": {
      "text/plain": [
       "(\u001b[1m24×2 DataFrame\u001b[0m\n",
       "\u001b[1m Row \u001b[0m│\u001b[1m C_[method=saturation_rhol]_T \u001b[0m\u001b[1m D_Column2_out_rho \u001b[0m\n",
       "     │\u001b[90m Float64                      \u001b[0m\u001b[90m Float64           \u001b[0m\n",
       "─────┼─────────────────────────────────────────────────\n",
       "   1 │                       273.15            32387.4\n",
       "   2 │                       275.15            32300.5\n",
       "   3 │                       277.15            32213.5\n",
       "   4 │                       279.15            32126.6\n",
       "   5 │                       281.15            32017.9\n",
       "   6 │                       283.15            31931.0\n",
       "   7 │                       286.15            31800.5\n",
       "   8 │                       287.15            31735.3\n",
       "   9 │                       288.15            31691.9\n",
       "  10 │                       290.15            31604.9\n",
       "  11 │                       291.15            31561.4\n",
       "  ⋮  │              ⋮                        ⋮\n",
       "  15 │                       293.15            31452.8\n",
       "  16 │                       273.15            32691.7\n",
       "  17 │                       288.15            31691.9\n",
       "  18 │                       293.15            31450.6\n",
       "  19 │                       303.15            30735.5\n",
       "  20 │                       318.15            29757.3\n",
       "  21 │                       333.15            28757.4\n",
       "  22 │                       348.15            27692.3\n",
       "  23 │                       363.15            26540.3\n",
       "  24 │                       378.15            25257.8\n",
       "\u001b[36m                                         3 rows omitted\u001b[0m, \u001b[1m3×2 DataFrame\u001b[0m\n",
       "\u001b[1m Row \u001b[0m│\u001b[1m G_[method=saturation_rhol]_T \u001b[0m\u001b[1m H_Column2_out_rho \u001b[0m\n",
       "     │\u001b[90m Float64                      \u001b[0m\u001b[90m Float64           \u001b[0m\n",
       "─────┼─────────────────────────────────────────────────\n",
       "   1 │                       393.15            23758.0\n",
       "   2 │                       408.15            21801.7\n",
       "   3 │                       423.15            18693.4, \u001b[1m34×2 DataFrame\u001b[0m\n",
       "\u001b[1m Row \u001b[0m│\u001b[1m I_[method=saturation_rhol]_T \u001b[0m\u001b[1m J_Column2_out_rho \u001b[0m\n",
       "     │\u001b[90m Float64                      \u001b[0m\u001b[90m Float64           \u001b[0m\n",
       "─────┼─────────────────────────────────────────────────\n",
       "   1 │                       294.26            73.8173\n",
       "   2 │                       294.26            73.9042\n",
       "   3 │                       299.81            93.6192\n",
       "   4 │                       305.37           112.182\n",
       "   5 │                       310.93           138.179\n",
       "   6 │                       310.93           138.223\n",
       "   7 │                       316.48           169.762\n",
       "   8 │                       322.04           207.866\n",
       "   9 │                       327.59           254.491\n",
       "  10 │                       327.59           254.513\n",
       "  11 │                       333.15           309.224\n",
       "  ⋮  │              ⋮                        ⋮\n",
       "  25 │                       394.26          2093.73\n",
       "  26 │                       394.26          2093.73\n",
       "  27 │                       399.81          2488.81\n",
       "  28 │                       405.37          2953.23\n",
       "  29 │                       410.93          3560.1\n",
       "  30 │                       410.93          3537.4\n",
       "  31 │                       416.48          4300.18\n",
       "  32 │                       422.04          5384.88\n",
       "  33 │                       427.59          7408.2\n",
       "  34 │                       431.37         11965.2\n",
       "\u001b[36m                                        13 rows omitted\u001b[0m, \u001b[1m21×2 DataFrame\u001b[0m\n",
       "\u001b[1m Row \u001b[0m│\u001b[1m A_[method=saturation_p]_T \u001b[0m\u001b[1m B_Column2_out_pre \u001b[0m\n",
       "     │\u001b[90m Float64                   \u001b[0m\u001b[90m Float64           \u001b[0m\n",
       "─────┼──────────────────────────────────────────────\n",
       "   1 │                   310.926          2.11944e5\n",
       "   2 │                   310.926          2.09945e5\n",
       "   3 │                   310.926          2.11462e5\n",
       "   4 │                   327.592          4.13753e5\n",
       "   5 │                   344.259          7.68004e5\n",
       "   6 │                   344.259          7.6635e5\n",
       "   7 │                   344.259          7.69176e5\n",
       "   8 │                   344.259          7.67177e5\n",
       "   9 │                   360.926          1.35385e6\n",
       "  10 │                   377.592          2.28609e6\n",
       "  11 │                   377.592          2.29284e6\n",
       "  12 │                   377.592          2.29581e6\n",
       "  13 │                   294.3       101325.0\n",
       "  14 │                   294.75      101325.0\n",
       "  15 │                   295.15      101325.0\n",
       "  16 │                   277.592      44815.8\n",
       "  17 │                   310.926          2.13737e5\n",
       "  18 │                   344.259          7.65315e5\n",
       "  19 │                   377.592          2.29595e6\n",
       "  20 │                   294.426     101325.0\n",
       "  21 │                   394.259          3.75025e6, \u001b[1m5×2 DataFrame\u001b[0m\n",
       "\u001b[1m Row \u001b[0m│\u001b[1m M_[method=saturation_p]_T \u001b[0m\u001b[1m N_Column2_out_pre \u001b[0m\n",
       "     │\u001b[90m Float64                   \u001b[0m\u001b[90m Int64             \u001b[0m\n",
       "─────┼──────────────────────────────────────────────\n",
       "   1 │                   410.926            5957601\n",
       "   2 │                   416.481            6911970\n",
       "   3 │                   422.037            7984101\n",
       "   4 │                   422.037            7998580\n",
       "   5 │                   410.926            5957049)"
      ]
     },
     "execution_count": 170,
     "metadata": {},
     "output_type": "execute_result"
    }
   ],
   "source": [
    "@show Rho_l_exp, Rho_l_exp_HiT, Rho_v_exp, p_exp, p_exp_HiT"
   ]
  },
  {
   "cell_type": "markdown",
   "id": "400697bf-6ef6-4b62-a7ab-2f4d2e9bc74c",
   "metadata": {},
   "source": [
    "Get Index Numbers"
   ]
  },
  {
   "cell_type": "code",
   "execution_count": 173,
   "id": "41c4d6e6-f2f5-496f-913c-853bf92e23b3",
   "metadata": {},
   "outputs": [],
   "source": [
    "N_exp = size(p_exp)[1];\n",
    "N_exp_high_T = size(p_exp_HiT)[1];\n",
    "\n",
    "N_rho_exp = size(Rho_l_exp)[1];\n",
    "N_rho_exp_high_T = size(Rho_l_exp_HiT)[1];\n",
    "N_rho_exp_vap = size(Rho_v_exp)[1];"
   ]
  },
  {
   "cell_type": "markdown",
   "id": "9774bcee-6da4-4a01-8227-c81c8d500588",
   "metadata": {},
   "source": [
    "Make Vectors for this data"
   ]
  },
  {
   "cell_type": "code",
   "execution_count": 176,
   "id": "b5005fb9-82e5-4a93-817a-89dfad9e11c6",
   "metadata": {},
   "outputs": [],
   "source": [
    "T_vp_exp = zeros(N_exp)\n",
    "p_exp_T = zeros(N_exp)\n",
    "\n",
    "T_vp_exp_high_T = zeros(N_exp_high_T);\n",
    "p_exp_high_T = zeros(N_exp_high_T);\n",
    "\n",
    "T_rho_exp = zeros(N_rho_exp);\n",
    "rho_exp = zeros(N_rho_exp);\n",
    "\n",
    "T_rho_exp_high_T = zeros(N_rho_exp_high_T);\n",
    "rho_exp_high_T = zeros(N_rho_exp_high_T);\n",
    "\n",
    "T_rho_vap = zeros(N_rho_exp_vap);\n",
    "rho_exp_vap = zeros(N_rho_exp_vap);"
   ]
  },
  {
   "cell_type": "markdown",
   "id": "e36712cd-f1a5-4512-8f23-ba19b0e3da83",
   "metadata": {},
   "source": [
    "Fill in the Vectors"
   ]
  },
  {
   "cell_type": "code",
   "execution_count": 179,
   "id": "2cc3c730-fee0-489b-946e-5b6e0e709e7e",
   "metadata": {},
   "outputs": [],
   "source": [
    "T_vp_exp = p_exp[:,1];\n",
    "p_exp_T = p_exp[:,2];\n",
    "\n",
    "T_vp_exp_high_T = p_exp_HiT[:,1];\n",
    "p_exp_high_T = p_exp_HiT[:,2];\n",
    "\n",
    "T_rho_exp = Rho_l_exp[:,1];\n",
    "rho_exp = Rho_l_exp[:,2];\n",
    "\n",
    "T_rho_exp_high_T = Rho_l_exp_HiT[:,1];\n",
    "rho_exp_high_T = Rho_l_exp_HiT[:,2];\n",
    "\n",
    "T_rho_exp_vap = Rho_v_exp[:,1];\n",
    "rho_exp_vap = Rho_v_exp[:,2];"
   ]
  },
  {
   "cell_type": "markdown",
   "id": "53842296-d1b8-46c4-923c-164c1efac451",
   "metadata": {},
   "source": [
    "Plot the graphs"
   ]
  },
  {
   "cell_type": "code",
   "execution_count": 182,
   "id": "8dabaf99-7d6d-42c1-8680-1b4a4aae9209",
   "metadata": {},
   "outputs": [
    {
     "data": {
      "text/plain": [
       "\"C:\\\\Users\\\\gk321\\\\OneDrive - Imperial College London\\\\Documents\\\\4th year\\\\Research Project\\\\NO2\\\\NO2_Pressure_Temp.png\""
      ]
     },
     "execution_count": 182,
     "metadata": {},
     "output_type": "execute_result"
    }
   ],
   "source": [
    "plt = plot(xlims=(175,450),grid = :off, \n",
    "           framestyle = :box, \n",
    "           foreground_color_legend = nothing, \n",
    "           legend_font = font(12),\n",
    "           legend = :topleft)\n",
    "\n",
    "plot!(plt, T, p./1e5, \n",
    "      color = \"black\", \n",
    "      line = (:path, 3), \n",
    "      label = \"Model\")\n",
    "\n",
    "plot!(plt, [Tc], [Pc]./1e5, \n",
    "      seriestype = :scatter, \n",
    "      color = \"black\", \n",
    "      markerstrokecolor = \"black\",\n",
    "      marker = :square,\n",
    "      line = (:scatter, 0.5), \n",
    "      label = \"Model Critical Point\")\n",
    "\n",
    "plot!(plt, T_vp_exp, p_exp_T./1e5, \n",
    "      seriestype = :scatter, \n",
    "      color = \"white\", \n",
    "      markerstrokecolor = \"black\", \n",
    "      line = (:scatter, 0.4), \n",
    "      label = \"Experimental Data\")\n",
    "\n",
    "plot!(plt, T_vp_exp_high_T, p_exp_high_T./1e5, \n",
    "      seriestype = :scatter, \n",
    "      color = \"white\", \n",
    "      markerstrokecolor = \"black\", \n",
    "      line = (:scatter, 0.4), \n",
    "      label = false)\n",
    "\n",
    "plot!(plt, [431.15], [101.32], \n",
    "      seriestype = :scatter, \n",
    "      color = \"white\", \n",
    "      markerstrokecolor = \"black\",\n",
    "      marker = :square,\n",
    "      line = (:scatter, 0.4), \n",
    "      label = \"Experimental Critical Point\")\n",
    "\n",
    "xlabel!(plt, \"Temperature / (K)\", xguidefontsize = 12)\n",
    "ylabel!(plt, \"Pressure / (bar)\", yguidefontsize = 12)\n",
    "\n",
    "savefig(plt, \"NO2_Pressure_Temp\")"
   ]
  },
  {
   "cell_type": "markdown",
   "id": "f7cb0c12-076a-43df-80a1-62c3167e7f1c",
   "metadata": {},
   "source": [
    "Plot the density curves"
   ]
  },
  {
   "cell_type": "code",
   "execution_count": 185,
   "id": "8a68f27a-419a-442c-8b9d-558a2ade1b69",
   "metadata": {},
   "outputs": [
    {
     "data": {
      "text/plain": [
       "\"C:\\\\Users\\\\gk321\\\\OneDrive - Imperial College London\\\\Documents\\\\4th year\\\\Research Project\\\\NO2\\\\NO2_Density_Temp.png\""
      ]
     },
     "execution_count": 185,
     "metadata": {},
     "output_type": "execute_result"
    }
   ],
   "source": [
    "mw = (14+32)/1000;\n",
    "colours = [\"indianred2\", \"deepskyblue1\"]\n",
    "plt2 = plot(ylims=(200,:440),grid = :off, \n",
    "           framestyle = :box, \n",
    "           foreground_color_legend = nothing, \n",
    "           legend_font = font(12),\n",
    "           legend = :bottomleft)\n",
    "\n",
    "plot!(plt2, Rho_v.*mw, T, \n",
    "      color = colours[1], \n",
    "      line = (:path, 3), \n",
    "      label = \"Vapour Density\")\n",
    "\n",
    "plot!(plt2, Rho_l.*mw, T,\n",
    "      color = colours[2],\n",
    "      line = (:path, 3),\n",
    "      label = \"Liquid Density\")\n",
    "\n",
    "plot!(plt2, [Rhoc].*mw, [Tc],\n",
    "      seriestype=:scatter, \n",
    "      color=\"black\", \n",
    "      markerstrokecolor=\"black\", \n",
    "      marker = :square,\n",
    "      line = (:scatter, 0.5),\n",
    "      label = \"Model Critical Point\")\n",
    "\n",
    "plot!(plt2, rho_exp.*mw, T_rho_exp,\n",
    "      seriestype=:scatter,\n",
    "      color=\"white\",\n",
    "      markerstrokecolor=\"black\", \n",
    "      line = (:scatter, 0.5),\n",
    "      label = \"Experimental Data\")\n",
    "\n",
    "plot!(plt2, rho_exp_high_T.*mw, T_rho_exp_high_T,\n",
    "      seriestype=:scatter,\n",
    "      color=\"white\",\n",
    "      markerstrokecolor=\"black\", \n",
    "      line = (:scatter, 0.5),\n",
    "      label = false)\n",
    "\n",
    "plot!(plt2, rho_exp_vap.*mw, T_rho_exp_vap,\n",
    "      seriestype=:scatter,\n",
    "      color=\"white\",\n",
    "      markerstrokecolor=\"black\", \n",
    "      line = (:scatter, 0.5),\n",
    "      label = false)\n",
    "\n",
    "plot!(plt2, rho_exp_vap.*mw, T_rho_exp_vap,\n",
    "      seriestype=:scatter,\n",
    "      color=\"white\",\n",
    "      markerstrokecolor=\"black\", \n",
    "      line = (:scatter, 0.5),\n",
    "      label = false)\n",
    "\n",
    "plot!(plt2, [Rhoc_exp*mw], [430.64],\n",
    "      seriestype=:scatter,\n",
    "      color=\"white\",\n",
    "      markerstrokecolor=\"black\", \n",
    "      marker = :square,\n",
    "      line = (:scatter, 0.5),\n",
    "      label = \"Experimental Critical Point\")\n",
    "\n",
    "xlabel!(plt2, \"Density / (kg m⁻³)\", yguidefontsize=12)\n",
    "ylabel!(plt2, \"Temperature / (K)\", xguidefontsize=12)\n",
    "\n",
    "savefig(plt2, \"NO2_Density_Temp\")"
   ]
  }
 ],
 "metadata": {
  "kernelspec": {
   "display_name": "Julia 1.10.5",
   "language": "julia",
   "name": "julia-1.10"
  },
  "language_info": {
   "file_extension": ".jl",
   "mimetype": "application/julia",
   "name": "julia",
   "version": "1.10.5"
  }
 },
 "nbformat": 4,
 "nbformat_minor": 5
}
