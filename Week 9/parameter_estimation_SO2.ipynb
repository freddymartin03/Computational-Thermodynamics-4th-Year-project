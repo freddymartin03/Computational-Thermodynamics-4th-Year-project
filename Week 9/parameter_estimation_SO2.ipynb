{
 "cells": [
  {
   "cell_type": "code",
   "execution_count": 1,
   "metadata": {},
   "outputs": [],
   "source": [
    "using Clapeyron\n",
    "using Plots\n",
    "using CSV\n",
    "using DataFrames\n",
    "using LaTeXStrings\n",
    "using Measures\n",
    "using Metaheuristics"
   ]
  },
  {
   "cell_type": "code",
   "execution_count": 2,
   "metadata": {},
   "outputs": [
    {
     "data": {
      "text/plain": [
       "partial_SO2"
      ]
     },
     "execution_count": 2,
     "metadata": {},
     "output_type": "execute_result"
    }
   ],
   "source": [
    "@doc \"\"\"\n",
    "Inputs:\n",
    "    model::EoSModel\n",
    "    T = 292, 313, 333 / K\n",
    "    w = wt% MEA\n",
    "    loading = SO2 loading\n",
    "\n",
    "Outputs:\n",
    "    partial pressure of SO2 at given T, wt % MEA & SO2 loading\n",
    "\n",
    "\"\"\"\n",
    "function partial_SO2(model::EoSModel, T, w, loading)\n",
    "\n",
    "    mw_MEA = 61.08\n",
    "    mw_H2O = 18.01528\n",
    "\n",
    "    wt_MEA = w\n",
    "    wt_H2O = 1 - w\n",
    "\n",
    "    x_MEA = (wt_MEA / mw_MEA) * (1 / ((wt_MEA / mw_MEA) + (wt_H2O / mw_H2O)))\n",
    "    x_H2O = 1 - x_MEA\n",
    "    solvrat = x_H2O / x_MEA\n",
    "\n",
    "    x_MEA = 1 / (1 + loading + solvrat)\n",
    "    x_SO2 = x_MEA * loading\n",
    "    x_H2O = 1 - x_MEA - x_SO2\n",
    "\n",
    "    x_bub = [x_MEA, x_H2O, x_SO2]\n",
    "\n",
    "    calc = bubble_pressure(model_mix, T, x_bub)\n",
    "    pvap = calc[1]\n",
    "    y_MEA = calc[4][1]\n",
    "    y_H2O = calc[4][2]\n",
    "    y_SO2 = calc[4][3]\n",
    "\n",
    "    out_partial_SO2 = y_SO2 * pvap\n",
    "    return out_partial_SO2\n",
    "end \n"
   ]
  },
  {
   "cell_type": "code",
   "execution_count": 3,
   "metadata": {},
   "outputs": [
    {
     "data": {
      "text/plain": [
       "SAFTgammaMie{BasicIdeal} with 3 components:\n",
       " \"MEA\": \"NH2\" => 1, \"CH2\" => 1, \"CH2OH\" => 1\n",
       " \"Water\": \"H2O\" => 1\n",
       " \"Sulphur Dioxide\": \"SO2\" => 1\n",
       "Group Type: SAFTgammaMie\n",
       "Contains parameters: segment, shapefactor, lambda_a, lambda_r, sigma, epsilon, epsilon_assoc, bondvol"
      ]
     },
     "execution_count": 3,
     "metadata": {},
     "output_type": "execute_result"
    }
   ],
   "source": [
    "model_mix = SAFTgammaMie([(\"MEA\",[\"NH2\"=>1, \"CH2\"=>1, \"CH2OH\"=>1]),(\"Water\",[\"H2O\"=>1]),(\"Sulphur Dioxide\",[\"SO2\"=>1])];\n",
    "        userlocations = (Mw = [16.02285, 14.02658, 31.03392, 18.01528, 64.066],\n",
    "        epsilon = [284.78 348.39 528.21 339.89 259.90;\n",
    "                   348.39 473.39 423.17 423.63 301.96;\n",
    "                   528.21 423.17 407.22 358.02 302.89;\n",
    "                   339.89 423.63 358.02 266.68 239.53;\n",
    "                   259.90 301.96 302.89 239.53 237.54],\n",
    "        sigma = [3.2477, 4.8801, 3.4054, 3.0063, 3.1605],\n",
    "        lambda_a = [6, 6, 6, 6, 6],\n",
    "        lambda_r = [10.354 14.063 52.305 13.085 12.412;\n",
    "                    14.063 19.871 21.230 100.00 17.354;\n",
    "                    52.305 21.230 22.699 19.619 18.511;\n",
    "                    13.085 100.00 19.619 17.020 16.085;\n",
    "                    12.412 17.354 18.511 16.085 15.213],\n",
    "        vst = [1, 1, 2, 1, 3],\n",
    "        S = [0.79675, 0.22932, 0.58538, 1, 0.62547],\n",
    "        n_H=[2, 0, 1, 2, 1],\n",
    "        n_e=[1, 0, 2, 2, 1],\n",
    "        epsilon_assoc = Dict([((\"NH2\",\"H\"),(\"NH2\",\"e\")) => 1070.80,\n",
    "                              ((\"NH2\",\"H\"),(\"CH2OH\",\"e\")) => 629.88,\n",
    "                              ((\"NH2\",\"H\"),(\"H2O\",\"e\")) => 1364.40,\n",
    "                              ((\"NH2\",\"H\"),(\"SO2\",\"e\")) => 1011.60,\n",
    "                              ((\"CH2OH\",\"H\"),(\"NH2\",\"e\")) => 2403.78,\n",
    "                              ((\"CH2OH\",\"H\"),(\"CH2OH\",\"e\")) => 2097.90,\n",
    "                              ((\"CH2OH\",\"H\"),(\"H2O\",\"e\")) => 600.00,\n",
    "                              ((\"CH2OH\",\"H\"),(\"SO2\",\"e\")) => 1415.90,\n",
    "                              ((\"H2O\",\"H\"),(\"NH2\",\"e\")) => 1877.50,\n",
    "                              ((\"H2O\",\"H\"),(\"CH2OH\",\"e\")) => 2000.60,\n",
    "                              ((\"H2O\",\"H\"),(\"H2O\",\"e\")) => 1985.40,\n",
    "                              ((\"H2O\",\"H\"),(\"SO2\",\"e\")) => 1343.90,\n",
    "                              ((\"SO2\",\"H\"),(\"NH2\",\"e\")) => 1011.60,\n",
    "                              ((\"SO2\",\"H\"),(\"CH2OH\",\"e\")) => 1415.90,\n",
    "                              ((\"SO2\",\"H\"),(\"H2O\",\"e\")) => 1343.90,\n",
    "                              ((\"SO2\",\"H\"),(\"SO2\",\"e\")) => 955.58]),\n",
    "        bondvol = Dict([((\"NH2\",\"H\"),(\"NH2\",\"e\")) => 95.225e-30,\n",
    "                        ((\"NH2\",\"H\"),(\"CH2OH\",\"e\")) => 346.08e-30,\n",
    "                        ((\"NH2\",\"H\"),(\"H2O\",\"e\")) => 22.450e-30,\n",
    "                        ((\"NH2\",\"H\"),(\"SO2\",\"e\")) => 345.890e-30,\n",
    "                        ((\"CH2OH\",\"H\"),(\"NH2\",\"e\")) => 26.192e-30,\n",
    "                        ((\"CH2OH\",\"H\"),(\"CH2OH\",\"e\")) => 62.309e-30,\n",
    "                        ((\"CH2OH\",\"H\"),(\"H2O\",\"e\")) => 490.19e-30,\n",
    "                        ((\"CH2OH\",\"H\"),(\"SO2\",\"e\")) => 303.270e-30,\n",
    "                        ((\"H2O\",\"H\"),(\"NH2\",\"e\")) => 459.18e-30,\n",
    "                        ((\"H2O\",\"H\"),(\"CH2OH\",\"e\")) => 130.02e-30,\n",
    "                        ((\"H2O\",\"H\"),(\"H2O\",\"e\")) => 101.69e-30,\n",
    "                        ((\"H2O\",\"H\"),(\"SO2\",\"e\")) => 353.41e-30,\n",
    "                        ((\"SO2\",\"H\"),(\"NH2\",\"e\")) => 345.890e-30,\n",
    "                        ((\"SO2\",\"H\"),(\"CH2OH\",\"e\")) => 303.270e-30,\n",
    "                        ((\"SO2\",\"H\"),(\"H2O\",\"e\")) => 353.41e-30,\n",
    "                        ((\"SO2\",\"H\"),(\"SO2\",\"e\")) => 849.99e-30])))\n",
    "                        "
   ]
  },
  {
   "cell_type": "code",
   "execution_count": 4,
   "metadata": {},
   "outputs": [
    {
     "data": {
      "text/plain": [
       "1-element Vector{Dict{Symbol, Any}}:\n",
       " Dict(:symmetric => true, :upper => 800.0, :param => :epsilon, :indices => (5, 1), :guess => 259.9, :lower => 250.0)"
      ]
     },
     "execution_count": 4,
     "metadata": {},
     "output_type": "execute_result"
    }
   ],
   "source": [
    "toestimate = [\n",
    "    Dict(\n",
    "        :param => :epsilon,\n",
    "        :indices => (5,1),\n",
    "        :symmetric => true,\n",
    "        :lower => 250.00,\n",
    "        :upper => 800.00,\n",
    "        :guess => 259.90,\n",
    "    )\n",
    "]"
   ]
  },
  {
   "cell_type": "code",
   "execution_count": 5,
   "metadata": {},
   "outputs": [],
   "source": [
    "estimator,objective,initial,upper,lower = Estimation(model_mix,toestimate,[\"SO2_EXP_All_Data.csv\"], [:vrmodel]);"
   ]
  },
  {
   "cell_type": "code",
   "execution_count": 6,
   "metadata": {},
   "outputs": [
    {
     "data": {
      "text/plain": [
       "\u001b[34m\u001b[1mAlgorithm Parameters\u001b[22m\u001b[39m\n",
       "\u001b[39m====================\u001b[39m\n",
       "  ECA(η_max=2.0, K=7, N=0, N_init=0, p_exploit=0.95, p_bin=0.02, ε=0.0, adaptive=false, resize_population=false)\n",
       "\n",
       "\u001b[34m\u001b[1mOptimization Result\u001b[22m\u001b[39m\n",
       "\u001b[39m===================\u001b[39m\n",
       "  Empty status.\n"
      ]
     },
     "execution_count": 6,
     "metadata": {},
     "output_type": "execute_result"
    }
   ],
   "source": [
    "method = ECA(;options=Options(iterations=10000)) # change later "
   ]
  },
  {
   "cell_type": "code",
   "execution_count": 7,
   "metadata": {},
   "outputs": [],
   "source": [
    "params, model = optimize(objective, estimator, method);"
   ]
  },
  {
   "cell_type": "code",
   "execution_count": 8,
   "metadata": {},
   "outputs": [
    {
     "data": {
      "text/plain": [
       "1-element Vector{Float64}:\n",
       " 530.7857502320899"
      ]
     },
     "execution_count": 8,
     "metadata": {},
     "output_type": "execute_result"
    }
   ],
   "source": [
    "params"
   ]
  },
  {
   "cell_type": "code",
   "execution_count": null,
   "metadata": {},
   "outputs": [],
   "source": []
  }
 ],
 "metadata": {
  "kernelspec": {
   "display_name": "Julia 1.10.4",
   "language": "julia",
   "name": "julia-1.10"
  },
  "language_info": {
   "file_extension": ".jl",
   "mimetype": "application/julia",
   "name": "julia",
   "version": "1.10.4"
  }
 },
 "nbformat": 4,
 "nbformat_minor": 2
}
