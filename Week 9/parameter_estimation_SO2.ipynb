{
 "cells": [
  {
   "cell_type": "code",
   "execution_count": 1,
   "metadata": {},
   "outputs": [],
   "source": [
    "using Clapeyron\n",
    "using Plots\n",
    "using CSV\n",
    "using DataFrames\n",
    "using LaTeXStrings\n",
    "using Measures\n",
    "using Metaheuristics"
   ]
  },
  {
   "cell_type": "code",
   "execution_count": 3,
   "metadata": {},
   "outputs": [
    {
     "data": {
      "text/plain": [
       "partial_SO2"
      ]
     },
     "execution_count": 3,
     "metadata": {},
     "output_type": "execute_result"
    }
   ],
   "source": [
    "@doc \"\"\"\n",
    "Inputs:\n",
    "    model::EoSModel\n",
    "    T = 292, 313, 333 / K\n",
    "    w = wt% MEA\n",
    "    loading = SO2 loading\n",
    "\n",
    "outputs:\n",
    "    partial pressure of SO2 at given T, wt % MEA & SO2 loading\n",
    "\n",
    "\"\"\"\n",
    "function partial_SO2(model::EoSModel, T, w, loading)\n",
    "\n",
    "    return nothing\n",
    "\n",
    "end \n"
   ]
  },
  {
   "cell_type": "code",
   "execution_count": null,
   "metadata": {},
   "outputs": [],
   "source": []
  }
 ],
 "metadata": {
  "kernelspec": {
   "display_name": "Julia 1.10.4",
   "language": "julia",
   "name": "julia-1.10"
  },
  "language_info": {
   "file_extension": ".jl",
   "mimetype": "application/julia",
   "name": "julia",
   "version": "1.10.4"
  }
 },
 "nbformat": 4,
 "nbformat_minor": 2
}
