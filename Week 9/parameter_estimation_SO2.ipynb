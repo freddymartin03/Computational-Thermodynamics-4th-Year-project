{
 "cells": [
  {
   "cell_type": "code",
   "execution_count": 1,
   "metadata": {},
   "outputs": [],
   "source": [
    "using Clapeyron\n",
    "using Plots\n",
    "using CSV\n",
    "using DataFrames\n",
    "using LaTeXStrings\n",
    "using Measures\n",
    "using Metaheuristics"
   ]
  },
  {
   "cell_type": "code",
   "execution_count": null,
   "metadata": {},
   "outputs": [],
   "source": [
    "data = CSV.read(\"SO2_EXP_0.5wt.csv\", DataFrame; header=false)"
   ]
  },
  {
   "cell_type": "code",
   "execution_count": null,
   "metadata": {},
   "outputs": [
    {
     "data": {
      "text/plain": [
       "partial_SO2"
      ]
     },
     "execution_count": 3,
     "metadata": {},
     "output_type": "execute_result"
    }
   ],
   "source": [
    "@doc \"\"\"\n",
    "Inputs:\n",
    "    model::EoSModel\n",
    "    T = 292, 313, 333 / K\n",
    "    w = wt% MEA\n",
    "    loading = SO2 loading\n",
    "\n",
    "Outputs:\n",
    "    partial pressure of SO2 at given T, wt % MEA & SO2 loading\n",
    "\n",
    "\"\"\"\n",
    "function partial_SO2(model::EoSModel, T, w, loading)\n",
    "    \n",
    "    return nothing\n",
    "end \n"
   ]
  },
  {
   "cell_type": "code",
   "execution_count": 4,
   "metadata": {},
   "outputs": [
    {
     "data": {
      "text/latex": [
       "Inputs:     model::EoSModel     T = 292, 313, 333 / K     w = wt\\% MEA     loading = SO2 loading\n",
       "\n",
       "outputs:     partial pressure of SO2 at given T, wt \\% MEA \\& SO2 loading\n",
       "\n"
      ],
      "text/markdown": [
       "Inputs:     model::EoSModel     T = 292, 313, 333 / K     w = wt% MEA     loading = SO2 loading\n",
       "\n",
       "outputs:     partial pressure of SO2 at given T, wt % MEA & SO2 loading\n"
      ],
      "text/plain": [
       "  Inputs: model::EoSModel T = 292, 313, 333 / K w = wt% MEA loading = SO2\n",
       "  loading\n",
       "\n",
       "  outputs: partial pressure of SO2 at given T, wt % MEA & SO2 loading"
      ]
     },
     "execution_count": 4,
     "metadata": {},
     "output_type": "execute_result"
    }
   ],
   "source": [
    "@doc partial_SO2"
   ]
  },
  {
   "cell_type": "code",
   "execution_count": null,
   "metadata": {},
   "outputs": [],
   "source": []
  }
 ],
 "metadata": {
  "kernelspec": {
   "display_name": "Julia 1.10.4",
   "language": "julia",
   "name": "julia-1.10"
  },
  "language_info": {
   "file_extension": ".jl",
   "mimetype": "application/julia",
   "name": "julia",
   "version": "1.10.4"
  }
 },
 "nbformat": 4,
 "nbformat_minor": 2
}
