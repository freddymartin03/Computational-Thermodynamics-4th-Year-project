{
 "cells": [
  {
   "cell_type": "code",
   "execution_count": 1,
   "metadata": {},
   "outputs": [],
   "source": [
    "using Clapeyron\n",
    "using Plots\n",
    "using CSV\n",
    "using DataFrames\n",
    "using LaTeXStrings\n",
    "using Measures\n",
    "using Metaheuristics"
   ]
  },
  {
   "cell_type": "code",
   "execution_count": 2,
   "metadata": {},
   "outputs": [
    {
     "data": {
      "text/plain": [
       "partial_SO2"
      ]
     },
     "execution_count": 2,
     "metadata": {},
     "output_type": "execute_result"
    }
   ],
   "source": [
    "@doc \"\"\"\n",
    "Inputs:\n",
    "    model::EoSModel\n",
    "    T = 292, 313, 333 / K\n",
    "    w = wt% MEA\n",
    "    loading = SO2 loading\n",
    "\n",
    "Outputs:\n",
    "    partial pressure of SO2 at given T, wt % MEA & SO2 loading\n",
    "\n",
    "\"\"\"\n",
    "function partial_SO2(model::EoSModel, T, w, loading)\n",
    "\n",
    "    mw_MEA = 61.08\n",
    "    mw_H2O = 18.01528\n",
    "\n",
    "    wt_MEA = w\n",
    "    wt_H2O = 1 - w\n",
    "\n",
    "    x_MEA = (wt_MEA / mw_MEA) * (1 / ((wt_MEA / mw_MEA) + (wt_H2O / mw_H2O)))\n",
    "    x_H2O = 1 - x_MEA\n",
    "    solvrat = x_H2O / x_MEA\n",
    "\n",
    "    x_MEA = 1 / (1 + loading + solvrat)\n",
    "    x_SO2 = x_MEA * loading\n",
    "    x_H2O = 1 - x_MEA - x_SO2\n",
    "\n",
    "    x_bub = [x_MEA, x_H2O, x_SO2]\n",
    "\n",
    "    calc = bubble_pressure(model, T, x_bub)\n",
    "    pvap = calc[1]\n",
    "    y_MEA = calc[4][1]\n",
    "    y_H2O = calc[4][2]\n",
    "    y_SO2 = calc[4][3]\n",
    "\n",
    "    out_partial = y_SO2 * pvap\n",
    "    return out_partial\n",
    "end \n"
   ]
  },
  {
   "cell_type": "code",
   "execution_count": 118,
   "metadata": {},
   "outputs": [
    {
     "data": {
      "text/plain": [
       "SAFTgammaMie{BasicIdeal} with 3 components:\n",
       " \"MEA\": \"NH2\" => 1, \"CH2\" => 1, \"CH2OH\" => 1\n",
       " \"Water\": \"H2O\" => 1\n",
       " \"Sulphur Dioxide\": \"SO2\" => 1\n",
       "Group Type: SAFTgammaMie\n",
       "Contains parameters: segment, shapefactor, lambda_a, lambda_r, sigma, epsilon, epsilon_assoc, bondvol"
      ]
     },
     "execution_count": 118,
     "metadata": {},
     "output_type": "execute_result"
    }
   ],
   "source": [
    "# This has changed values based off the optimisation!!! (epsilon, lambda_r, epsilon_assoc, bondvol)\n",
    "model = SAFTgammaMie([(\"MEA\",[\"NH2\"=>1, \"CH2\"=>1, \"CH2OH\"=>1]),(\"Water\",[\"H2O\"=>1]),(\"Sulphur Dioxide\",[\"SO2\"=>1])];\n",
    "        userlocations = (Mw = [16.02285, 14.02658, 31.03392, 18.01528, 64.066],\n",
    "        epsilon = [284.78 348.39 528.21 339.89 250.02;\n",
    "                   348.39 473.39 423.17 423.63 301.96;\n",
    "                   528.21 423.17 407.22 358.02 302.89;\n",
    "                   339.89 423.63 358.02 266.68 239.53;\n",
    "                   250.02 301.96 302.89 239.53 237.54], # (5,1) & (1,5)\n",
    "        sigma = [3.2477, 4.8801, 3.4054, 3.0063, 3.1605],\n",
    "        lambda_a = [6, 6, 6, 6, 6],\n",
    "        lambda_r = [10.354 14.063 52.305 13.085 6.3790;\n",
    "                    14.063 19.871 21.230 100.00 17.354;\n",
    "                    52.305 21.230 22.699 19.619 18.511;\n",
    "                    13.085 100.00 19.619 17.020 16.085;\n",
    "                    6.3790 17.354 18.511 16.085 15.213], # (5,1) & (1,5)\n",
    "        vst = [1, 1, 2, 1, 3],\n",
    "        S = [0.79675, 0.22932, 0.58538, 1, 0.62547],\n",
    "        n_H=[2, 0, 1, 2, 1],\n",
    "        n_e=[1, 0, 2, 2, 1],\n",
    "        epsilon_assoc = Dict([((\"NH2\",\"H\"),(\"NH2\",\"e\")) => 1070.80,\n",
    "                              ((\"NH2\",\"H\"),(\"CH2OH\",\"e\")) => 629.88,\n",
    "                              ((\"NH2\",\"H\"),(\"H2O\",\"e\")) => 1364.40,\n",
    "                              ((\"NH2\",\"H\"),(\"SO2\",\"e\")) => 800.013, # changed\n",
    "                              ((\"CH2OH\",\"H\"),(\"NH2\",\"e\")) => 2403.78,\n",
    "                              ((\"CH2OH\",\"H\"),(\"CH2OH\",\"e\")) => 2097.90,\n",
    "                              ((\"CH2OH\",\"H\"),(\"H2O\",\"e\")) => 600.00,\n",
    "                              ((\"CH2OH\",\"H\"),(\"SO2\",\"e\")) => 1415.90,\n",
    "                              ((\"H2O\",\"H\"),(\"NH2\",\"e\")) => 1877.50,\n",
    "                              ((\"H2O\",\"H\"),(\"CH2OH\",\"e\")) => 2000.60,\n",
    "                              ((\"H2O\",\"H\"),(\"H2O\",\"e\")) => 1985.40,\n",
    "                              ((\"H2O\",\"H\"),(\"SO2\",\"e\")) => 1343.90,\n",
    "                              ((\"SO2\",\"H\"),(\"NH2\",\"e\")) => 1561.75, # changed\n",
    "                              ((\"SO2\",\"H\"),(\"CH2OH\",\"e\")) => 1415.90,\n",
    "                              ((\"SO2\",\"H\"),(\"H2O\",\"e\")) => 1343.90,\n",
    "                              ((\"SO2\",\"H\"),(\"SO2\",\"e\")) => 955.58]),\n",
    "        bondvol = Dict([((\"NH2\",\"H\"),(\"NH2\",\"e\")) => 95.225e-30,\n",
    "                        ((\"NH2\",\"H\"),(\"CH2OH\",\"e\")) => 346.08e-30,\n",
    "                        ((\"NH2\",\"H\"),(\"H2O\",\"e\")) => 22.450e-30,\n",
    "                        ((\"NH2\",\"H\"),(\"SO2\",\"e\")) => 649.617e-30, # changed                      ,\n",
    "                        ((\"CH2OH\",\"H\"),(\"NH2\",\"e\")) => 26.192e-30,\n",
    "                        ((\"CH2OH\",\"H\"),(\"CH2OH\",\"e\")) => 62.309e-30,\n",
    "                        ((\"CH2OH\",\"H\"),(\"H2O\",\"e\")) => 490.19e-30,\n",
    "                        ((\"CH2OH\",\"H\"),(\"SO2\",\"e\")) => 303.270e-30,\n",
    "                        ((\"H2O\",\"H\"),(\"NH2\",\"e\")) => 459.18e-30,\n",
    "                        ((\"H2O\",\"H\"),(\"CH2OH\",\"e\")) => 130.02e-30,\n",
    "                        ((\"H2O\",\"H\"),(\"H2O\",\"e\")) => 101.69e-30,\n",
    "                        ((\"H2O\",\"H\"),(\"SO2\",\"e\")) => 353.41e-30,\n",
    "                        ((\"SO2\",\"H\"),(\"NH2\",\"e\")) => 999.90e-28, # changed\n",
    "                        ((\"SO2\",\"H\"),(\"CH2OH\",\"e\")) => 303.270e-30,\n",
    "                        ((\"SO2\",\"H\"),(\"H2O\",\"e\")) => 353.41e-30,\n",
    "                        ((\"SO2\",\"H\"),(\"SO2\",\"e\")) => 849.99e-30])))\n",
    "                        "
   ]
  },
  {
   "cell_type": "code",
   "execution_count": 120,
   "metadata": {},
   "outputs": [
    {
     "data": {
      "text/plain": [
       "6-element Vector{Dict{Symbol, Any}}:\n",
       " Dict(:symmetric => true, :upper => 800.0, :param => :epsilon, :indices => (1, 5), :guess => 250.0, :lower => 100.0)\n",
       " Dict(:symmetric => true, :upper => 100.0, :param => :lambda_r, :indices => (1, 5), :guess => 6.3, :lower => 4.5)\n",
       " Dict(:upper => 3500.0, :param => :epsilon_assoc, :indices => 6, :guess => 800.0, :cross_assoc => false, :lower => 500.0)\n",
       " Dict(:upper => 3500.0, :param => :epsilon_assoc, :indices => 7, :guess => 1100.0, :cross_assoc => false, :lower => 800.0)\n",
       " Dict(:upper => 1000.0, :param => :bondvol, :indices => 6, :guess => 650.0, :cross_assoc => false, :lower => 20.0, :factor => 1.0e-30)\n",
       " Dict(:upper => 1500.0, :param => :bondvol, :indices => 7, :guess => 1000.0, :cross_assoc => false, :lower => 20.0, :factor => 1.0e-30)"
      ]
     },
     "execution_count": 120,
     "metadata": {},
     "output_type": "execute_result"
    }
   ],
   "source": [
    "toestimate = [\n",
    "    Dict(\n",
    "        :param => :epsilon,\n",
    "        :indices => (1,5),\n",
    "        :symmetric => true,\n",
    "        :lower => 100.00,\n",
    "        :upper => 800.00,\n",
    "        :guess => 250.00,\n",
    "    ),\n",
    "    Dict(\n",
    "        :param => :lambda_r,\n",
    "        :indices => (1,5),\n",
    "        :symmetric => true,\n",
    "        :lower => 4.500,\n",
    "        :upper => 100.00,\n",
    "        :guess => 6.3,\n",
    "    ),\n",
    "    Dict(\n",
    "        :param => :epsilon_assoc,\n",
    "        :indices => 6,\n",
    "        :cross_assoc => false,\n",
    "        :lower => 500.00,\n",
    "        :upper => 3500.00,\n",
    "        :guess => 800.00,\n",
    "    ),\n",
    "    Dict(\n",
    "        :param => :epsilon_assoc,\n",
    "        :indices => 7,\n",
    "        :cross_assoc => false,\n",
    "        :lower => 800.00,\n",
    "        :upper => 3500.00,\n",
    "        :guess => 1100.00,\n",
    "    ),\n",
    "    Dict(\n",
    "        :param => :bondvol,\n",
    "        :indices => 6,\n",
    "        :cross_assoc => false,\n",
    "        :lower => 20.00,\n",
    "        :upper => 1000.00,\n",
    "        :guess => 650.00,\n",
    "        :factor => 1e-30,\n",
    "    ),\n",
    "    Dict(\n",
    "        :param => :bondvol,\n",
    "        :indices => 7,\n",
    "        :cross_assoc => false,\n",
    "        :lower => 20.00,\n",
    "        :upper => 1500.00,\n",
    "        :guess => 1000.00,\n",
    "        :factor => 1e-30,\n",
    "    )\n",
    "]"
   ]
  },
  {
   "cell_type": "code",
   "execution_count": 121,
   "metadata": {},
   "outputs": [],
   "source": [
    "error(pred,exp) = abs(pred-exp)\n",
    "estimator,objective,initial,upper,lower = Estimation(model,toestimate,[\"SO2_EXP_All_Data.csv\"], [:vrmodel], error)\n",
    "options = Options(\n",
    "    iterations=500,\n",
    "    x_tol=1e-05,\n",
    "    f_tol=1e-05,\n",
    "    debug=true\n",
    "    # f_calls_limit=10000\n",
    ")\n",
    "method = ECA(;options=options);"
   ]
  },
  {
   "cell_type": "code",
   "execution_count": 122,
   "metadata": {},
   "outputs": [
    {
     "name": "stderr",
     "output_type": "stream",
     "text": [
      "\u001b[36m\u001b[1m[ \u001b[22m\u001b[39m\u001b[36m\u001b[1mInfo: \u001b[22m\u001b[39mInitializing population...\n",
      "\u001b[33m\u001b[1m┌ \u001b[22m\u001b[39m\u001b[33m\u001b[1mWarning: \u001b[22m\u001b[39mf_calls_limit increased to 60000.0\n",
      "\u001b[33m\u001b[1m└ \u001b[22m\u001b[39m\u001b[90m@ Metaheuristics C:\\Users\\fjm21\\.julia\\packages\\Metaheuristics\\KyWxd\\src\\algorithms\\ECA\\ECA.jl:252\u001b[39m\n",
      "\u001b[36m\u001b[1m[ \u001b[22m\u001b[39m\u001b[36m\u001b[1mInfo: \u001b[22m\u001b[39mSet termination criteria: convergence indicators\n",
      "\u001b[36m\u001b[1m[ \u001b[22m\u001b[39m\u001b[36m\u001b[1mInfo: \u001b[22m\u001b[39mCurrent Status of ECA\n"
     ]
    },
    {
     "data": {
      "text/html": [
       "<pre>\n",
       "Optimization Result\n",
       "===================\n",
       "  Iteration:       1\n",
       "  Minimum:         15339\n",
       "  Minimizer:       [522.328, 65.706, 1719.82, …, 1322.72]\n",
       "  Function calls:  42\n",
       "  Total time:      56.5350 s\n",
       "  Stop reason:     \n",
       "</pre>\n"
      ],
      "text/plain": [
       "\u001b[34m\u001b[1mOptimization Result\u001b[22m\u001b[39m\n",
       "\u001b[39m===================\u001b[39m\n",
       "  Iteration:       1\n",
       "  Minimum:         15339\n",
       "  Minimizer:       [522.328, 65.706, 1719.82, …, 1322.72]\n",
       "  Function calls:  42\n",
       "  Total time:      56.5350 s\n",
       "  Stop reason:     \n"
      ]
     },
     "metadata": {},
     "output_type": "display_data"
    },
    {
     "name": "stderr",
     "output_type": "stream",
     "text": [
      "\u001b[36m\u001b[1m[ \u001b[22m\u001b[39m\u001b[36m\u001b[1mInfo: \u001b[22m\u001b[39mStarting main loop...\n",
      "\u001b[36m\u001b[1m[ \u001b[22m\u001b[39m\u001b[36m\u001b[1mInfo: \u001b[22m\u001b[39mCurrent Status of ECA\n"
     ]
    },
    {
     "data": {
      "text/html": [
       "<pre>\n",
       "Optimization Result\n",
       "===================\n",
       "  Iteration:       2\n",
       "  Minimum:         14305.4\n",
       "  Minimizer:       [661.17, 79.6984, 822.999, …, 720]\n",
       "  Function calls:  84\n",
       "  Total time:      93.1080 s\n",
       "  Stop reason:     \n",
       "</pre>\n"
      ],
      "text/plain": [
       "\u001b[34m\u001b[1mOptimization Result\u001b[22m\u001b[39m\n",
       "\u001b[39m===================\u001b[39m\n",
       "  Iteration:       2\n",
       "  Minimum:         14305.4\n",
       "  Minimizer:       [661.17, 79.6984, 822.999, …, 720]\n",
       "  Function calls:  84\n",
       "  Total time:      93.1080 s\n",
       "  Stop reason:     \n"
      ]
     },
     "metadata": {},
     "output_type": "display_data"
    },
    {
     "name": "stderr",
     "output_type": "stream",
     "text": [
      "\u001b[36m\u001b[1m[ \u001b[22m\u001b[39m\u001b[36m\u001b[1mInfo: \u001b[22m\u001b[39mCurrent Status of ECA\n"
     ]
    },
    {
     "data": {
      "text/html": [
       "<pre>\n",
       "Optimization Result\n",
       "===================\n",
       "  Iteration:       3\n",
       "  Minimum:         13784.9\n",
       "  Minimizer:       [406.113, 13.1602, 1227.09, …, 894.92]\n",
       "  Function calls:  126\n",
       "  Total time:      128.8400 s\n",
       "  Stop reason:     \n",
       "</pre>\n"
      ],
      "text/plain": [
       "\u001b[34m\u001b[1mOptimization Result\u001b[22m\u001b[39m\n",
       "\u001b[39m===================\u001b[39m\n",
       "  Iteration:       3\n",
       "  Minimum:         13784.9\n",
       "  Minimizer:       [406.113, 13.1602, 1227.09, …, 894.92]\n",
       "  Function calls:  126\n",
       "  Total time:      128.8400 s\n",
       "  Stop reason:     \n"
      ]
     },
     "metadata": {},
     "output_type": "display_data"
    },
    {
     "name": "stderr",
     "output_type": "stream",
     "text": [
      "\u001b[36m\u001b[1m[ \u001b[22m\u001b[39m\u001b[36m\u001b[1mInfo: \u001b[22m\u001b[39mCurrent Status of ECA\n"
     ]
    },
    {
     "data": {
      "text/html": [
       "<pre>\n",
       "Optimization Result\n",
       "===================\n",
       "  Iteration:       4\n",
       "  Minimum:         13784.9\n",
       "  Minimizer:       [406.113, 13.1602, 1227.09, …, 894.92]\n",
       "  Function calls:  168\n",
       "  Total time:      159.7700 s\n",
       "  Stop reason:     \n",
       "</pre>\n"
      ],
      "text/plain": [
       "\u001b[34m\u001b[1mOptimization Result\u001b[22m\u001b[39m\n",
       "\u001b[39m===================\u001b[39m\n",
       "  Iteration:       4\n",
       "  Minimum:         13784.9\n",
       "  Minimizer:       [406.113, 13.1602, 1227.09, …, 894.92]\n",
       "  Function calls:  168\n",
       "  Total time:      159.7700 s\n",
       "  Stop reason:     \n"
      ]
     },
     "metadata": {},
     "output_type": "display_data"
    },
    {
     "name": "stderr",
     "output_type": "stream",
     "text": [
      "\u001b[36m\u001b[1m[ \u001b[22m\u001b[39m\u001b[36m\u001b[1mInfo: \u001b[22m\u001b[39mCurrent Status of ECA\n"
     ]
    },
    {
     "data": {
      "text/html": [
       "<pre>\n",
       "Optimization Result\n",
       "===================\n",
       "  Iteration:       5\n",
       "  Minimum:         13784.9\n",
       "  Minimizer:       [406.113, 13.1602, 1227.09, …, 894.92]\n",
       "  Function calls:  210\n",
       "  Total time:      189.9570 s\n",
       "  Stop reason:     \n",
       "</pre>\n"
      ],
      "text/plain": [
       "\u001b[34m\u001b[1mOptimization Result\u001b[22m\u001b[39m\n",
       "\u001b[39m===================\u001b[39m\n",
       "  Iteration:       5\n",
       "  Minimum:         13784.9\n",
       "  Minimizer:       [406.113, 13.1602, 1227.09, …, 894.92]\n",
       "  Function calls:  210\n",
       "  Total time:      189.9570 s\n",
       "  Stop reason:     \n"
      ]
     },
     "metadata": {},
     "output_type": "display_data"
    },
    {
     "name": "stderr",
     "output_type": "stream",
     "text": [
      "\u001b[36m\u001b[1m[ \u001b[22m\u001b[39m\u001b[36m\u001b[1mInfo: \u001b[22m\u001b[39mCurrent Status of ECA\n"
     ]
    },
    {
     "data": {
      "text/html": [
       "<pre>\n",
       "Optimization Result\n",
       "===================\n",
       "  Iteration:       6\n",
       "  Minimum:         13784.9\n",
       "  Minimizer:       [406.113, 13.1602, 1227.09, …, 894.92]\n",
       "  Function calls:  252\n",
       "  Total time:      219.2560 s\n",
       "  Stop reason:     \n",
       "</pre>\n"
      ],
      "text/plain": [
       "\u001b[34m\u001b[1mOptimization Result\u001b[22m\u001b[39m\n",
       "\u001b[39m===================\u001b[39m\n",
       "  Iteration:       6\n",
       "  Minimum:         13784.9\n",
       "  Minimizer:       [406.113, 13.1602, 1227.09, …, 894.92]\n",
       "  Function calls:  252\n",
       "  Total time:      219.2560 s\n",
       "  Stop reason:     \n"
      ]
     },
     "metadata": {},
     "output_type": "display_data"
    },
    {
     "name": "stderr",
     "output_type": "stream",
     "text": [
      "\u001b[36m\u001b[1m[ \u001b[22m\u001b[39m\u001b[36m\u001b[1mInfo: \u001b[22m\u001b[39mCurrent Status of ECA\n"
     ]
    },
    {
     "data": {
      "text/html": [
       "<pre>\n",
       "Optimization Result\n",
       "===================\n",
       "  Iteration:       7\n",
       "  Minimum:         13784.9\n",
       "  Minimizer:       [406.113, 13.1602, 1227.09, …, 894.92]\n",
       "  Function calls:  294\n",
       "  Total time:      250.3670 s\n",
       "  Stop reason:     \n",
       "</pre>\n"
      ],
      "text/plain": [
       "\u001b[34m\u001b[1mOptimization Result\u001b[22m\u001b[39m\n",
       "\u001b[39m===================\u001b[39m\n",
       "  Iteration:       7\n",
       "  Minimum:         13784.9\n",
       "  Minimizer:       [406.113, 13.1602, 1227.09, …, 894.92]\n",
       "  Function calls:  294\n",
       "  Total time:      250.3670 s\n",
       "  Stop reason:     \n"
      ]
     },
     "metadata": {},
     "output_type": "display_data"
    },
    {
     "name": "stderr",
     "output_type": "stream",
     "text": [
      "\u001b[36m\u001b[1m[ \u001b[22m\u001b[39m\u001b[36m\u001b[1mInfo: \u001b[22m\u001b[39mCurrent Status of ECA\n"
     ]
    },
    {
     "data": {
      "text/html": [
       "<pre>\n",
       "Optimization Result\n",
       "===================\n",
       "  Iteration:       8\n",
       "  Minimum:         13784.9\n",
       "  Minimizer:       [406.113, 13.1602, 1227.09, …, 894.92]\n",
       "  Function calls:  336\n",
       "  Total time:      280.6560 s\n",
       "  Stop reason:     \n",
       "</pre>\n"
      ],
      "text/plain": [
       "\u001b[34m\u001b[1mOptimization Result\u001b[22m\u001b[39m\n",
       "\u001b[39m===================\u001b[39m\n",
       "  Iteration:       8\n",
       "  Minimum:         13784.9\n",
       "  Minimizer:       [406.113, 13.1602, 1227.09, …, 894.92]\n",
       "  Function calls:  336\n",
       "  Total time:      280.6560 s\n",
       "  Stop reason:     \n"
      ]
     },
     "metadata": {},
     "output_type": "display_data"
    },
    {
     "name": "stderr",
     "output_type": "stream",
     "text": [
      "\u001b[36m\u001b[1m[ \u001b[22m\u001b[39m\u001b[36m\u001b[1mInfo: \u001b[22m\u001b[39mCurrent Status of ECA\n"
     ]
    },
    {
     "data": {
      "text/html": [
       "<pre>\n",
       "Optimization Result\n",
       "===================\n",
       "  Iteration:       9\n",
       "  Minimum:         13784.9\n",
       "  Minimizer:       [406.113, 13.1602, 1227.09, …, 894.92]\n",
       "  Function calls:  378\n",
       "  Total time:      310.5830 s\n",
       "  Stop reason:     \n",
       "</pre>\n"
      ],
      "text/plain": [
       "\u001b[34m\u001b[1mOptimization Result\u001b[22m\u001b[39m\n",
       "\u001b[39m===================\u001b[39m\n",
       "  Iteration:       9\n",
       "  Minimum:         13784.9\n",
       "  Minimizer:       [406.113, 13.1602, 1227.09, …, 894.92]\n",
       "  Function calls:  378\n",
       "  Total time:      310.5830 s\n",
       "  Stop reason:     \n"
      ]
     },
     "metadata": {},
     "output_type": "display_data"
    },
    {
     "name": "stderr",
     "output_type": "stream",
     "text": [
      "\u001b[36m\u001b[1m[ \u001b[22m\u001b[39m\u001b[36m\u001b[1mInfo: \u001b[22m\u001b[39mCurrent Status of ECA\n"
     ]
    },
    {
     "data": {
      "text/html": [
       "<pre>\n",
       "Optimization Result\n",
       "===================\n",
       "  Iteration:       10\n",
       "  Minimum:         13784.9\n",
       "  Minimizer:       [406.113, 13.1602, 1227.09, …, 894.92]\n",
       "  Function calls:  420\n",
       "  Total time:      343.0760 s\n",
       "  Stop reason:     \n",
       "</pre>\n"
      ],
      "text/plain": [
       "\u001b[34m\u001b[1mOptimization Result\u001b[22m\u001b[39m\n",
       "\u001b[39m===================\u001b[39m\n",
       "  Iteration:       10\n",
       "  Minimum:         13784.9\n",
       "  Minimizer:       [406.113, 13.1602, 1227.09, …, 894.92]\n",
       "  Function calls:  420\n",
       "  Total time:      343.0760 s\n",
       "  Stop reason:     \n"
      ]
     },
     "metadata": {},
     "output_type": "display_data"
    },
    {
     "name": "stderr",
     "output_type": "stream",
     "text": [
      "\u001b[36m\u001b[1m[ \u001b[22m\u001b[39m\u001b[36m\u001b[1mInfo: \u001b[22m\u001b[39mCurrent Status of ECA\n"
     ]
    },
    {
     "data": {
      "text/html": [
       "<pre>\n",
       "Optimization Result\n",
       "===================\n",
       "  Iteration:       11\n",
       "  Minimum:         13784.9\n",
       "  Minimizer:       [406.113, 13.1602, 1227.09, …, 894.92]\n",
       "  Function calls:  462\n",
       "  Total time:      373.1440 s\n",
       "  Stop reason:     \n",
       "</pre>\n"
      ],
      "text/plain": [
       "\u001b[34m\u001b[1mOptimization Result\u001b[22m\u001b[39m\n",
       "\u001b[39m===================\u001b[39m\n",
       "  Iteration:       11\n",
       "  Minimum:         13784.9\n",
       "  Minimizer:       [406.113, 13.1602, 1227.09, …, 894.92]\n",
       "  Function calls:  462\n",
       "  Total time:      373.1440 s\n",
       "  Stop reason:     \n"
      ]
     },
     "metadata": {},
     "output_type": "display_data"
    },
    {
     "name": "stderr",
     "output_type": "stream",
     "text": [
      "\u001b[36m\u001b[1m[ \u001b[22m\u001b[39m\u001b[36m\u001b[1mInfo: \u001b[22m\u001b[39mCurrent Status of ECA\n"
     ]
    },
    {
     "data": {
      "text/html": [
       "<pre>\n",
       "Optimization Result\n",
       "===================\n",
       "  Iteration:       12\n",
       "  Minimum:         13784.9\n",
       "  Minimizer:       [406.113, 13.1602, 1227.09, …, 894.92]\n",
       "  Function calls:  504\n",
       "  Total time:      402.5680 s\n",
       "  Stop reason:     \n",
       "</pre>\n"
      ],
      "text/plain": [
       "\u001b[34m\u001b[1mOptimization Result\u001b[22m\u001b[39m\n",
       "\u001b[39m===================\u001b[39m\n",
       "  Iteration:       12\n",
       "  Minimum:         13784.9\n",
       "  Minimizer:       [406.113, 13.1602, 1227.09, …, 894.92]\n",
       "  Function calls:  504\n",
       "  Total time:      402.5680 s\n",
       "  Stop reason:     \n"
      ]
     },
     "metadata": {},
     "output_type": "display_data"
    },
    {
     "name": "stderr",
     "output_type": "stream",
     "text": [
      "\u001b[36m\u001b[1m[ \u001b[22m\u001b[39m\u001b[36m\u001b[1mInfo: \u001b[22m\u001b[39mCurrent Status of ECA\n"
     ]
    },
    {
     "data": {
      "text/html": [
       "<pre>\n",
       "Optimization Result\n",
       "===================\n",
       "  Iteration:       13\n",
       "  Minimum:         13784.9\n",
       "  Minimizer:       [406.113, 13.1602, 1227.09, …, 894.92]\n",
       "  Function calls:  546\n",
       "  Total time:      437.2080 s\n",
       "  Stop reason:     \n",
       "</pre>\n"
      ],
      "text/plain": [
       "\u001b[34m\u001b[1mOptimization Result\u001b[22m\u001b[39m\n",
       "\u001b[39m===================\u001b[39m\n",
       "  Iteration:       13\n",
       "  Minimum:         13784.9\n",
       "  Minimizer:       [406.113, 13.1602, 1227.09, …, 894.92]\n",
       "  Function calls:  546\n",
       "  Total time:      437.2080 s\n",
       "  Stop reason:     \n"
      ]
     },
     "metadata": {},
     "output_type": "display_data"
    },
    {
     "name": "stderr",
     "output_type": "stream",
     "text": [
      "\u001b[36m\u001b[1m[ \u001b[22m\u001b[39m\u001b[36m\u001b[1mInfo: \u001b[22m\u001b[39mCurrent Status of ECA\n"
     ]
    },
    {
     "data": {
      "text/html": [
       "<pre>\n",
       "Optimization Result\n",
       "===================\n",
       "  Iteration:       14\n",
       "  Minimum:         13784.9\n",
       "  Minimizer:       [406.113, 13.1602, 1227.09, …, 894.92]\n",
       "  Function calls:  588\n",
       "  Total time:      472.3440 s\n",
       "  Stop reason:     \n",
       "</pre>\n"
      ],
      "text/plain": [
       "\u001b[34m\u001b[1mOptimization Result\u001b[22m\u001b[39m\n",
       "\u001b[39m===================\u001b[39m\n",
       "  Iteration:       14\n",
       "  Minimum:         13784.9\n",
       "  Minimizer:       [406.113, 13.1602, 1227.09, …, 894.92]\n",
       "  Function calls:  588\n",
       "  Total time:      472.3440 s\n",
       "  Stop reason:     \n"
      ]
     },
     "metadata": {},
     "output_type": "display_data"
    },
    {
     "name": "stderr",
     "output_type": "stream",
     "text": [
      "\u001b[36m\u001b[1m[ \u001b[22m\u001b[39m\u001b[36m\u001b[1mInfo: \u001b[22m\u001b[39mCurrent Status of ECA\n"
     ]
    },
    {
     "data": {
      "text/html": [
       "<pre>\n",
       "Optimization Result\n",
       "===================\n",
       "  Iteration:       15\n",
       "  Minimum:         13784.9\n",
       "  Minimizer:       [406.113, 13.1602, 1227.09, …, 894.92]\n",
       "  Function calls:  630\n",
       "  Total time:      506.1660 s\n",
       "  Stop reason:     \n",
       "</pre>\n"
      ],
      "text/plain": [
       "\u001b[34m\u001b[1mOptimization Result\u001b[22m\u001b[39m\n",
       "\u001b[39m===================\u001b[39m\n",
       "  Iteration:       15\n",
       "  Minimum:         13784.9\n",
       "  Minimizer:       [406.113, 13.1602, 1227.09, …, 894.92]\n",
       "  Function calls:  630\n",
       "  Total time:      506.1660 s\n",
       "  Stop reason:     \n"
      ]
     },
     "metadata": {},
     "output_type": "display_data"
    },
    {
     "name": "stderr",
     "output_type": "stream",
     "text": [
      "\u001b[36m\u001b[1m[ \u001b[22m\u001b[39m\u001b[36m\u001b[1mInfo: \u001b[22m\u001b[39mCurrent Status of ECA\n"
     ]
    },
    {
     "data": {
      "text/html": [
       "<pre>\n",
       "Optimization Result\n",
       "===================\n",
       "  Iteration:       16\n",
       "  Minimum:         13784.9\n",
       "  Minimizer:       [406.113, 13.1602, 1227.09, …, 894.92]\n",
       "  Function calls:  672\n",
       "  Total time:      538.3390 s\n",
       "  Stop reason:     \n",
       "</pre>\n"
      ],
      "text/plain": [
       "\u001b[34m\u001b[1mOptimization Result\u001b[22m\u001b[39m\n",
       "\u001b[39m===================\u001b[39m\n",
       "  Iteration:       16\n",
       "  Minimum:         13784.9\n",
       "  Minimizer:       [406.113, 13.1602, 1227.09, …, 894.92]\n",
       "  Function calls:  672\n",
       "  Total time:      538.3390 s\n",
       "  Stop reason:     \n"
      ]
     },
     "metadata": {},
     "output_type": "display_data"
    },
    {
     "name": "stderr",
     "output_type": "stream",
     "text": [
      "\u001b[36m\u001b[1m[ \u001b[22m\u001b[39m\u001b[36m\u001b[1mInfo: \u001b[22m\u001b[39mCurrent Status of ECA\n"
     ]
    },
    {
     "data": {
      "text/html": [
       "<pre>\n",
       "Optimization Result\n",
       "===================\n",
       "  Iteration:       17\n",
       "  Minimum:         13784.9\n",
       "  Minimizer:       [406.113, 13.1602, 1227.09, …, 894.92]\n",
       "  Function calls:  714\n",
       "  Total time:      568.2660 s\n",
       "  Stop reason:     \n",
       "</pre>\n"
      ],
      "text/plain": [
       "\u001b[34m\u001b[1mOptimization Result\u001b[22m\u001b[39m\n",
       "\u001b[39m===================\u001b[39m\n",
       "  Iteration:       17\n",
       "  Minimum:         13784.9\n",
       "  Minimizer:       [406.113, 13.1602, 1227.09, …, 894.92]\n",
       "  Function calls:  714\n",
       "  Total time:      568.2660 s\n",
       "  Stop reason:     \n"
      ]
     },
     "metadata": {},
     "output_type": "display_data"
    },
    {
     "name": "stderr",
     "output_type": "stream",
     "text": [
      "\u001b[36m\u001b[1m[ \u001b[22m\u001b[39m\u001b[36m\u001b[1mInfo: \u001b[22m\u001b[39mCurrent Status of ECA\n"
     ]
    },
    {
     "data": {
      "text/html": [
       "<pre>\n",
       "Optimization Result\n",
       "===================\n",
       "  Iteration:       18\n",
       "  Minimum:         13770.6\n",
       "  Minimizer:       [406.113, 11.676, 890.877, …, 516.088]\n",
       "  Function calls:  756\n",
       "  Total time:      598.5400 s\n",
       "  Stop reason:     \n",
       "</pre>\n"
      ],
      "text/plain": [
       "\u001b[34m\u001b[1mOptimization Result\u001b[22m\u001b[39m\n",
       "\u001b[39m===================\u001b[39m\n",
       "  Iteration:       18\n",
       "  Minimum:         13770.6\n",
       "  Minimizer:       [406.113, 11.676, 890.877, …, 516.088]\n",
       "  Function calls:  756\n",
       "  Total time:      598.5400 s\n",
       "  Stop reason:     \n"
      ]
     },
     "metadata": {},
     "output_type": "display_data"
    },
    {
     "name": "stderr",
     "output_type": "stream",
     "text": [
      "\u001b[36m\u001b[1m[ \u001b[22m\u001b[39m\u001b[36m\u001b[1mInfo: \u001b[22m\u001b[39mCurrent Status of ECA\n"
     ]
    },
    {
     "data": {
      "text/html": [
       "<pre>\n",
       "Optimization Result\n",
       "===================\n",
       "  Iteration:       19\n",
       "  Minimum:         13770.6\n",
       "  Minimizer:       [406.113, 11.676, 890.877, …, 516.088]\n",
       "  Function calls:  798\n",
       "  Total time:      628.0320 s\n",
       "  Stop reason:     \n",
       "</pre>\n"
      ],
      "text/plain": [
       "\u001b[34m\u001b[1mOptimization Result\u001b[22m\u001b[39m\n",
       "\u001b[39m===================\u001b[39m\n",
       "  Iteration:       19\n",
       "  Minimum:         13770.6\n",
       "  Minimizer:       [406.113, 11.676, 890.877, …, 516.088]\n",
       "  Function calls:  798\n",
       "  Total time:      628.0320 s\n",
       "  Stop reason:     \n"
      ]
     },
     "metadata": {},
     "output_type": "display_data"
    },
    {
     "name": "stderr",
     "output_type": "stream",
     "text": [
      "\u001b[36m\u001b[1m[ \u001b[22m\u001b[39m\u001b[36m\u001b[1mInfo: \u001b[22m\u001b[39mCurrent Status of ECA\n"
     ]
    },
    {
     "data": {
      "text/html": [
       "<pre>\n",
       "Optimization Result\n",
       "===================\n",
       "  Iteration:       20\n",
       "  Minimum:         13770.6\n",
       "  Minimizer:       [406.113, 11.676, 890.877, …, 516.088]\n",
       "  Function calls:  840\n",
       "  Total time:      657.6910 s\n",
       "  Stop reason:     \n",
       "</pre>\n"
      ],
      "text/plain": [
       "\u001b[34m\u001b[1mOptimization Result\u001b[22m\u001b[39m\n",
       "\u001b[39m===================\u001b[39m\n",
       "  Iteration:       20\n",
       "  Minimum:         13770.6\n",
       "  Minimizer:       [406.113, 11.676, 890.877, …, 516.088]\n",
       "  Function calls:  840\n",
       "  Total time:      657.6910 s\n",
       "  Stop reason:     \n"
      ]
     },
     "metadata": {},
     "output_type": "display_data"
    },
    {
     "name": "stderr",
     "output_type": "stream",
     "text": [
      "\u001b[36m\u001b[1m[ \u001b[22m\u001b[39m\u001b[36m\u001b[1mInfo: \u001b[22m\u001b[39mCurrent Status of ECA\n"
     ]
    },
    {
     "data": {
      "text/html": [
       "<pre>\n",
       "Optimization Result\n",
       "===================\n",
       "  Iteration:       21\n",
       "  Minimum:         13770.6\n",
       "  Minimizer:       [406.113, 11.676, 890.877, …, 516.088]\n",
       "  Function calls:  882\n",
       "  Total time:      688.3000 s\n",
       "  Stop reason:     \n",
       "</pre>\n"
      ],
      "text/plain": [
       "\u001b[34m\u001b[1mOptimization Result\u001b[22m\u001b[39m\n",
       "\u001b[39m===================\u001b[39m\n",
       "  Iteration:       21\n",
       "  Minimum:         13770.6\n",
       "  Minimizer:       [406.113, 11.676, 890.877, …, 516.088]\n",
       "  Function calls:  882\n",
       "  Total time:      688.3000 s\n",
       "  Stop reason:     \n"
      ]
     },
     "metadata": {},
     "output_type": "display_data"
    },
    {
     "name": "stderr",
     "output_type": "stream",
     "text": [
      "\u001b[36m\u001b[1m[ \u001b[22m\u001b[39m\u001b[36m\u001b[1mInfo: \u001b[22m\u001b[39mCurrent Status of ECA\n"
     ]
    },
    {
     "data": {
      "text/html": [
       "<pre>\n",
       "Optimization Result\n",
       "===================\n",
       "  Iteration:       22\n",
       "  Minimum:         13645.9\n",
       "  Minimizer:       [406.113, 12.1003, 1212.01, …, 681.458]\n",
       "  Function calls:  924\n",
       "  Total time:      720.4250 s\n",
       "  Stop reason:     \n",
       "</pre>\n"
      ],
      "text/plain": [
       "\u001b[34m\u001b[1mOptimization Result\u001b[22m\u001b[39m\n",
       "\u001b[39m===================\u001b[39m\n",
       "  Iteration:       22\n",
       "  Minimum:         13645.9\n",
       "  Minimizer:       [406.113, 12.1003, 1212.01, …, 681.458]\n",
       "  Function calls:  924\n",
       "  Total time:      720.4250 s\n",
       "  Stop reason:     \n"
      ]
     },
     "metadata": {},
     "output_type": "display_data"
    },
    {
     "name": "stderr",
     "output_type": "stream",
     "text": [
      "\u001b[36m\u001b[1m[ \u001b[22m\u001b[39m\u001b[36m\u001b[1mInfo: \u001b[22m\u001b[39mCurrent Status of ECA\n"
     ]
    },
    {
     "data": {
      "text/html": [
       "<pre>\n",
       "Optimization Result\n",
       "===================\n",
       "  Iteration:       23\n",
       "  Minimum:         13645.9\n",
       "  Minimizer:       [406.113, 12.1003, 1212.01, …, 681.458]\n",
       "  Function calls:  966\n",
       "  Total time:      751.8440 s\n",
       "  Stop reason:     \n",
       "</pre>\n"
      ],
      "text/plain": [
       "\u001b[34m\u001b[1mOptimization Result\u001b[22m\u001b[39m\n",
       "\u001b[39m===================\u001b[39m\n",
       "  Iteration:       23\n",
       "  Minimum:         13645.9\n",
       "  Minimizer:       [406.113, 12.1003, 1212.01, …, 681.458]\n",
       "  Function calls:  966\n",
       "  Total time:      751.8440 s\n",
       "  Stop reason:     \n"
      ]
     },
     "metadata": {},
     "output_type": "display_data"
    },
    {
     "name": "stderr",
     "output_type": "stream",
     "text": [
      "\u001b[36m\u001b[1m[ \u001b[22m\u001b[39m\u001b[36m\u001b[1mInfo: \u001b[22m\u001b[39mCurrent Status of ECA\n"
     ]
    },
    {
     "data": {
      "text/html": [
       "<pre>\n",
       "Optimization Result\n",
       "===================\n",
       "  Iteration:       24\n",
       "  Minimum:         13645.9\n",
       "  Minimizer:       [406.113, 12.1003, 1212.01, …, 681.458]\n",
       "  Function calls:  1008\n",
       "  Total time:      783.0380 s\n",
       "  Stop reason:     \n",
       "</pre>\n"
      ],
      "text/plain": [
       "\u001b[34m\u001b[1mOptimization Result\u001b[22m\u001b[39m\n",
       "\u001b[39m===================\u001b[39m\n",
       "  Iteration:       24\n",
       "  Minimum:         13645.9\n",
       "  Minimizer:       [406.113, 12.1003, 1212.01, …, 681.458]\n",
       "  Function calls:  1008\n",
       "  Total time:      783.0380 s\n",
       "  Stop reason:     \n"
      ]
     },
     "metadata": {},
     "output_type": "display_data"
    },
    {
     "name": "stderr",
     "output_type": "stream",
     "text": [
      "\u001b[36m\u001b[1m[ \u001b[22m\u001b[39m\u001b[36m\u001b[1mInfo: \u001b[22m\u001b[39mCurrent Status of ECA\n"
     ]
    },
    {
     "data": {
      "text/html": [
       "<pre>\n",
       "Optimization Result\n",
       "===================\n",
       "  Iteration:       25\n",
       "  Minimum:         13645.9\n",
       "  Minimizer:       [406.113, 12.1003, 1212.01, …, 681.458]\n",
       "  Function calls:  1050\n",
       "  Total time:      813.3130 s\n",
       "  Stop reason:     \n",
       "</pre>\n"
      ],
      "text/plain": [
       "\u001b[34m\u001b[1mOptimization Result\u001b[22m\u001b[39m\n",
       "\u001b[39m===================\u001b[39m\n",
       "  Iteration:       25\n",
       "  Minimum:         13645.9\n",
       "  Minimizer:       [406.113, 12.1003, 1212.01, …, 681.458]\n",
       "  Function calls:  1050\n",
       "  Total time:      813.3130 s\n",
       "  Stop reason:     \n"
      ]
     },
     "metadata": {},
     "output_type": "display_data"
    },
    {
     "name": "stderr",
     "output_type": "stream",
     "text": [
      "\u001b[36m\u001b[1m[ \u001b[22m\u001b[39m\u001b[36m\u001b[1mInfo: \u001b[22m\u001b[39mCurrent Status of ECA\n"
     ]
    },
    {
     "data": {
      "text/html": [
       "<pre>\n",
       "Optimization Result\n",
       "===================\n",
       "  Iteration:       26\n",
       "  Minimum:         13645.9\n",
       "  Minimizer:       [406.113, 12.1003, 1212.01, …, 681.458]\n",
       "  Function calls:  1092\n",
       "  Total time:      843.2220 s\n",
       "  Stop reason:     \n",
       "</pre>\n"
      ],
      "text/plain": [
       "\u001b[34m\u001b[1mOptimization Result\u001b[22m\u001b[39m\n",
       "\u001b[39m===================\u001b[39m\n",
       "  Iteration:       26\n",
       "  Minimum:         13645.9\n",
       "  Minimizer:       [406.113, 12.1003, 1212.01, …, 681.458]\n",
       "  Function calls:  1092\n",
       "  Total time:      843.2220 s\n",
       "  Stop reason:     \n"
      ]
     },
     "metadata": {},
     "output_type": "display_data"
    },
    {
     "name": "stderr",
     "output_type": "stream",
     "text": [
      "\u001b[36m\u001b[1m[ \u001b[22m\u001b[39m\u001b[36m\u001b[1mInfo: \u001b[22m\u001b[39mCurrent Status of ECA\n"
     ]
    },
    {
     "data": {
      "text/html": [
       "<pre>\n",
       "Optimization Result\n",
       "===================\n",
       "  Iteration:       27\n",
       "  Minimum:         13645.9\n",
       "  Minimizer:       [406.113, 12.1003, 1212.01, …, 681.458]\n",
       "  Function calls:  1134\n",
       "  Total time:      873.4680 s\n",
       "  Stop reason:     \n",
       "</pre>\n"
      ],
      "text/plain": [
       "\u001b[34m\u001b[1mOptimization Result\u001b[22m\u001b[39m\n",
       "\u001b[39m===================\u001b[39m\n",
       "  Iteration:       27\n",
       "  Minimum:         13645.9\n",
       "  Minimizer:       [406.113, 12.1003, 1212.01, …, 681.458]\n",
       "  Function calls:  1134\n",
       "  Total time:      873.4680 s\n",
       "  Stop reason:     \n"
      ]
     },
     "metadata": {},
     "output_type": "display_data"
    },
    {
     "name": "stderr",
     "output_type": "stream",
     "text": [
      "\u001b[36m\u001b[1m[ \u001b[22m\u001b[39m\u001b[36m\u001b[1mInfo: \u001b[22m\u001b[39mCurrent Status of ECA\n"
     ]
    },
    {
     "data": {
      "text/html": [
       "<pre>\n",
       "Optimization Result\n",
       "===================\n",
       "  Iteration:       28\n",
       "  Minimum:         13645.9\n",
       "  Minimizer:       [406.113, 12.1003, 1212.01, …, 681.458]\n",
       "  Function calls:  1176\n",
       "  Total time:      905.2050 s\n",
       "  Stop reason:     \n",
       "</pre>\n"
      ],
      "text/plain": [
       "\u001b[34m\u001b[1mOptimization Result\u001b[22m\u001b[39m\n",
       "\u001b[39m===================\u001b[39m\n",
       "  Iteration:       28\n",
       "  Minimum:         13645.9\n",
       "  Minimizer:       [406.113, 12.1003, 1212.01, …, 681.458]\n",
       "  Function calls:  1176\n",
       "  Total time:      905.2050 s\n",
       "  Stop reason:     \n"
      ]
     },
     "metadata": {},
     "output_type": "display_data"
    },
    {
     "name": "stderr",
     "output_type": "stream",
     "text": [
      "\u001b[36m\u001b[1m[ \u001b[22m\u001b[39m\u001b[36m\u001b[1mInfo: \u001b[22m\u001b[39mCurrent Status of ECA\n"
     ]
    },
    {
     "data": {
      "text/html": [
       "<pre>\n",
       "Optimization Result\n",
       "===================\n",
       "  Iteration:       29\n",
       "  Minimum:         13645.9\n",
       "  Minimizer:       [406.113, 12.1003, 1212.01, …, 681.458]\n",
       "  Function calls:  1218\n",
       "  Total time:      935.3950 s\n",
       "  Stop reason:     \n",
       "</pre>\n"
      ],
      "text/plain": [
       "\u001b[34m\u001b[1mOptimization Result\u001b[22m\u001b[39m\n",
       "\u001b[39m===================\u001b[39m\n",
       "  Iteration:       29\n",
       "  Minimum:         13645.9\n",
       "  Minimizer:       [406.113, 12.1003, 1212.01, …, 681.458]\n",
       "  Function calls:  1218\n",
       "  Total time:      935.3950 s\n",
       "  Stop reason:     \n"
      ]
     },
     "metadata": {},
     "output_type": "display_data"
    },
    {
     "name": "stderr",
     "output_type": "stream",
     "text": [
      "\u001b[36m\u001b[1m[ \u001b[22m\u001b[39m\u001b[36m\u001b[1mInfo: \u001b[22m\u001b[39mCurrent Status of ECA\n"
     ]
    },
    {
     "data": {
      "text/html": [
       "<pre>\n",
       "Optimization Result\n",
       "===================\n",
       "  Iteration:       30\n",
       "  Minimum:         13635.4\n",
       "  Minimizer:       [404.603, 11.9771, 1216.02, …, 680.467]\n",
       "  Function calls:  1260\n",
       "  Total time:      965.4190 s\n",
       "  Stop reason:     \n",
       "</pre>\n"
      ],
      "text/plain": [
       "\u001b[34m\u001b[1mOptimization Result\u001b[22m\u001b[39m\n",
       "\u001b[39m===================\u001b[39m\n",
       "  Iteration:       30\n",
       "  Minimum:         13635.4\n",
       "  Minimizer:       [404.603, 11.9771, 1216.02, …, 680.467]\n",
       "  Function calls:  1260\n",
       "  Total time:      965.4190 s\n",
       "  Stop reason:     \n"
      ]
     },
     "metadata": {},
     "output_type": "display_data"
    },
    {
     "name": "stderr",
     "output_type": "stream",
     "text": [
      "\u001b[36m\u001b[1m[ \u001b[22m\u001b[39m\u001b[36m\u001b[1mInfo: \u001b[22m\u001b[39mCurrent Status of ECA\n"
     ]
    },
    {
     "data": {
      "text/html": [
       "<pre>\n",
       "Optimization Result\n",
       "===================\n",
       "  Iteration:       31\n",
       "  Minimum:         13635.4\n",
       "  Minimizer:       [404.603, 11.9771, 1216.02, …, 680.467]\n",
       "  Function calls:  1302\n",
       "  Total time:      995.0760 s\n",
       "  Stop reason:     \n",
       "</pre>\n"
      ],
      "text/plain": [
       "\u001b[34m\u001b[1mOptimization Result\u001b[22m\u001b[39m\n",
       "\u001b[39m===================\u001b[39m\n",
       "  Iteration:       31\n",
       "  Minimum:         13635.4\n",
       "  Minimizer:       [404.603, 11.9771, 1216.02, …, 680.467]\n",
       "  Function calls:  1302\n",
       "  Total time:      995.0760 s\n",
       "  Stop reason:     \n"
      ]
     },
     "metadata": {},
     "output_type": "display_data"
    },
    {
     "name": "stderr",
     "output_type": "stream",
     "text": [
      "\u001b[36m\u001b[1m[ \u001b[22m\u001b[39m\u001b[36m\u001b[1mInfo: \u001b[22m\u001b[39mCurrent Status of ECA\n"
     ]
    },
    {
     "data": {
      "text/html": [
       "<pre>\n",
       "Optimization Result\n",
       "===================\n",
       "  Iteration:       32\n",
       "  Minimum:         13635.4\n",
       "  Minimizer:       [404.603, 11.9771, 1216.02, …, 680.467]\n",
       "  Function calls:  1344\n",
       "  Total time:      1024.9010 s\n",
       "  Stop reason:     \n",
       "</pre>\n"
      ],
      "text/plain": [
       "\u001b[34m\u001b[1mOptimization Result\u001b[22m\u001b[39m\n",
       "\u001b[39m===================\u001b[39m\n",
       "  Iteration:       32\n",
       "  Minimum:         13635.4\n",
       "  Minimizer:       [404.603, 11.9771, 1216.02, …, 680.467]\n",
       "  Function calls:  1344\n",
       "  Total time:      1024.9010 s\n",
       "  Stop reason:     \n"
      ]
     },
     "metadata": {},
     "output_type": "display_data"
    },
    {
     "name": "stderr",
     "output_type": "stream",
     "text": [
      "\u001b[36m\u001b[1m[ \u001b[22m\u001b[39m\u001b[36m\u001b[1mInfo: \u001b[22m\u001b[39mCurrent Status of ECA\n"
     ]
    },
    {
     "data": {
      "text/html": [
       "<pre>\n",
       "Optimization Result\n",
       "===================\n",
       "  Iteration:       33\n",
       "  Minimum:         13635.4\n",
       "  Minimizer:       [404.603, 11.9771, 1216.02, …, 680.467]\n",
       "  Function calls:  1386\n",
       "  Total time:      1055.2200 s\n",
       "  Stop reason:     \n",
       "</pre>\n"
      ],
      "text/plain": [
       "\u001b[34m\u001b[1mOptimization Result\u001b[22m\u001b[39m\n",
       "\u001b[39m===================\u001b[39m\n",
       "  Iteration:       33\n",
       "  Minimum:         13635.4\n",
       "  Minimizer:       [404.603, 11.9771, 1216.02, …, 680.467]\n",
       "  Function calls:  1386\n",
       "  Total time:      1055.2200 s\n",
       "  Stop reason:     \n"
      ]
     },
     "metadata": {},
     "output_type": "display_data"
    },
    {
     "name": "stderr",
     "output_type": "stream",
     "text": [
      "\u001b[36m\u001b[1m[ \u001b[22m\u001b[39m\u001b[36m\u001b[1mInfo: \u001b[22m\u001b[39mCurrent Status of ECA\n"
     ]
    },
    {
     "data": {
      "text/html": [
       "<pre>\n",
       "Optimization Result\n",
       "===================\n",
       "  Iteration:       34\n",
       "  Minimum:         13635.4\n",
       "  Minimizer:       [404.603, 11.9771, 1216.02, …, 680.467]\n",
       "  Function calls:  1428\n",
       "  Total time:      1087.1660 s\n",
       "  Stop reason:     \n",
       "</pre>\n"
      ],
      "text/plain": [
       "\u001b[34m\u001b[1mOptimization Result\u001b[22m\u001b[39m\n",
       "\u001b[39m===================\u001b[39m\n",
       "  Iteration:       34\n",
       "  Minimum:         13635.4\n",
       "  Minimizer:       [404.603, 11.9771, 1216.02, …, 680.467]\n",
       "  Function calls:  1428\n",
       "  Total time:      1087.1660 s\n",
       "  Stop reason:     \n"
      ]
     },
     "metadata": {},
     "output_type": "display_data"
    },
    {
     "name": "stderr",
     "output_type": "stream",
     "text": [
      "\u001b[36m\u001b[1m[ \u001b[22m\u001b[39m\u001b[36m\u001b[1mInfo: \u001b[22m\u001b[39mCurrent Status of ECA\n"
     ]
    },
    {
     "data": {
      "text/html": [
       "<pre>\n",
       "Optimization Result\n",
       "===================\n",
       "  Iteration:       35\n",
       "  Minimum:         13635.4\n",
       "  Minimizer:       [404.603, 11.9771, 1216.02, …, 680.467]\n",
       "  Function calls:  1470\n",
       "  Total time:      1117.3740 s\n",
       "  Stop reason:     \n",
       "</pre>\n"
      ],
      "text/plain": [
       "\u001b[34m\u001b[1mOptimization Result\u001b[22m\u001b[39m\n",
       "\u001b[39m===================\u001b[39m\n",
       "  Iteration:       35\n",
       "  Minimum:         13635.4\n",
       "  Minimizer:       [404.603, 11.9771, 1216.02, …, 680.467]\n",
       "  Function calls:  1470\n",
       "  Total time:      1117.3740 s\n",
       "  Stop reason:     \n"
      ]
     },
     "metadata": {},
     "output_type": "display_data"
    },
    {
     "name": "stderr",
     "output_type": "stream",
     "text": [
      "\u001b[36m\u001b[1m[ \u001b[22m\u001b[39m\u001b[36m\u001b[1mInfo: \u001b[22m\u001b[39mCurrent Status of ECA\n"
     ]
    },
    {
     "data": {
      "text/html": [
       "<pre>\n",
       "Optimization Result\n",
       "===================\n",
       "  Iteration:       36\n",
       "  Minimum:         13635.4\n",
       "  Minimizer:       [404.603, 11.9771, 1216.02, …, 680.467]\n",
       "  Function calls:  1512\n",
       "  Total time:      1147.2480 s\n",
       "  Stop reason:     \n",
       "</pre>\n"
      ],
      "text/plain": [
       "\u001b[34m\u001b[1mOptimization Result\u001b[22m\u001b[39m\n",
       "\u001b[39m===================\u001b[39m\n",
       "  Iteration:       36\n",
       "  Minimum:         13635.4\n",
       "  Minimizer:       [404.603, 11.9771, 1216.02, …, 680.467]\n",
       "  Function calls:  1512\n",
       "  Total time:      1147.2480 s\n",
       "  Stop reason:     \n"
      ]
     },
     "metadata": {},
     "output_type": "display_data"
    },
    {
     "name": "stderr",
     "output_type": "stream",
     "text": [
      "\u001b[36m\u001b[1m[ \u001b[22m\u001b[39m\u001b[36m\u001b[1mInfo: \u001b[22m\u001b[39mCurrent Status of ECA\n"
     ]
    },
    {
     "data": {
      "text/html": [
       "<pre>\n",
       "Optimization Result\n",
       "===================\n",
       "  Iteration:       37\n",
       "  Minimum:         13635.4\n",
       "  Minimizer:       [404.603, 11.9771, 1216.02, …, 680.467]\n",
       "  Function calls:  1554\n",
       "  Total time:      1177.0460 s\n",
       "  Stop reason:     \n",
       "</pre>\n"
      ],
      "text/plain": [
       "\u001b[34m\u001b[1mOptimization Result\u001b[22m\u001b[39m\n",
       "\u001b[39m===================\u001b[39m\n",
       "  Iteration:       37\n",
       "  Minimum:         13635.4\n",
       "  Minimizer:       [404.603, 11.9771, 1216.02, …, 680.467]\n",
       "  Function calls:  1554\n",
       "  Total time:      1177.0460 s\n",
       "  Stop reason:     \n"
      ]
     },
     "metadata": {},
     "output_type": "display_data"
    },
    {
     "name": "stderr",
     "output_type": "stream",
     "text": [
      "\u001b[36m\u001b[1m[ \u001b[22m\u001b[39m\u001b[36m\u001b[1mInfo: \u001b[22m\u001b[39mCurrent Status of ECA\n"
     ]
    },
    {
     "data": {
      "text/html": [
       "<pre>\n",
       "Optimization Result\n",
       "===================\n",
       "  Iteration:       38\n",
       "  Minimum:         13635.4\n",
       "  Minimizer:       [404.603, 11.9771, 1216.02, …, 680.467]\n",
       "  Function calls:  1596\n",
       "  Total time:      1208.6530 s\n",
       "  Stop reason:     \n",
       "</pre>\n"
      ],
      "text/plain": [
       "\u001b[34m\u001b[1mOptimization Result\u001b[22m\u001b[39m\n",
       "\u001b[39m===================\u001b[39m\n",
       "  Iteration:       38\n",
       "  Minimum:         13635.4\n",
       "  Minimizer:       [404.603, 11.9771, 1216.02, …, 680.467]\n",
       "  Function calls:  1596\n",
       "  Total time:      1208.6530 s\n",
       "  Stop reason:     \n"
      ]
     },
     "metadata": {},
     "output_type": "display_data"
    },
    {
     "name": "stderr",
     "output_type": "stream",
     "text": [
      "\u001b[36m\u001b[1m[ \u001b[22m\u001b[39m\u001b[36m\u001b[1mInfo: \u001b[22m\u001b[39mCurrent Status of ECA\n"
     ]
    },
    {
     "data": {
      "text/html": [
       "<pre>\n",
       "Optimization Result\n",
       "===================\n",
       "  Iteration:       39\n",
       "  Minimum:         13635.4\n",
       "  Minimizer:       [404.603, 11.9771, 1216.02, …, 680.467]\n",
       "  Function calls:  1638\n",
       "  Total time:      1239.8260 s\n",
       "  Stop reason:     \n",
       "</pre>\n"
      ],
      "text/plain": [
       "\u001b[34m\u001b[1mOptimization Result\u001b[22m\u001b[39m\n",
       "\u001b[39m===================\u001b[39m\n",
       "  Iteration:       39\n",
       "  Minimum:         13635.4\n",
       "  Minimizer:       [404.603, 11.9771, 1216.02, …, 680.467]\n",
       "  Function calls:  1638\n",
       "  Total time:      1239.8260 s\n",
       "  Stop reason:     \n"
      ]
     },
     "metadata": {},
     "output_type": "display_data"
    },
    {
     "name": "stderr",
     "output_type": "stream",
     "text": [
      "\u001b[36m\u001b[1m[ \u001b[22m\u001b[39m\u001b[36m\u001b[1mInfo: \u001b[22m\u001b[39mCurrent Status of ECA\n"
     ]
    },
    {
     "data": {
      "text/html": [
       "<pre>\n",
       "Optimization Result\n",
       "===================\n",
       "  Iteration:       40\n",
       "  Minimum:         13635.4\n",
       "  Minimizer:       [404.603, 11.9771, 1216.02, …, 680.467]\n",
       "  Function calls:  1680\n",
       "  Total time:      1270.9630 s\n",
       "  Stop reason:     \n",
       "</pre>\n"
      ],
      "text/plain": [
       "\u001b[34m\u001b[1mOptimization Result\u001b[22m\u001b[39m\n",
       "\u001b[39m===================\u001b[39m\n",
       "  Iteration:       40\n",
       "  Minimum:         13635.4\n",
       "  Minimizer:       [404.603, 11.9771, 1216.02, …, 680.467]\n",
       "  Function calls:  1680\n",
       "  Total time:      1270.9630 s\n",
       "  Stop reason:     \n"
      ]
     },
     "metadata": {},
     "output_type": "display_data"
    },
    {
     "name": "stderr",
     "output_type": "stream",
     "text": [
      "\u001b[36m\u001b[1m[ \u001b[22m\u001b[39m\u001b[36m\u001b[1mInfo: \u001b[22m\u001b[39mCurrent Status of ECA\n"
     ]
    },
    {
     "data": {
      "text/html": [
       "<pre>\n",
       "Optimization Result\n",
       "===================\n",
       "  Iteration:       41\n",
       "  Minimum:         13599.5\n",
       "  Minimizer:       [389.908, 11.0068, 1349.82, …, 636.874]\n",
       "  Function calls:  1722\n",
       "  Total time:      1300.3900 s\n",
       "  Stop reason:     \n",
       "</pre>\n"
      ],
      "text/plain": [
       "\u001b[34m\u001b[1mOptimization Result\u001b[22m\u001b[39m\n",
       "\u001b[39m===================\u001b[39m\n",
       "  Iteration:       41\n",
       "  Minimum:         13599.5\n",
       "  Minimizer:       [389.908, 11.0068, 1349.82, …, 636.874]\n",
       "  Function calls:  1722\n",
       "  Total time:      1300.3900 s\n",
       "  Stop reason:     \n"
      ]
     },
     "metadata": {},
     "output_type": "display_data"
    },
    {
     "name": "stderr",
     "output_type": "stream",
     "text": [
      "\u001b[36m\u001b[1m[ \u001b[22m\u001b[39m\u001b[36m\u001b[1mInfo: \u001b[22m\u001b[39mCurrent Status of ECA\n"
     ]
    },
    {
     "data": {
      "text/html": [
       "<pre>\n",
       "Optimization Result\n",
       "===================\n",
       "  Iteration:       42\n",
       "  Minimum:         13599.5\n",
       "  Minimizer:       [389.908, 11.0068, 1349.82, …, 636.874]\n",
       "  Function calls:  1764\n",
       "  Total time:      1330.0610 s\n",
       "  Stop reason:     \n",
       "</pre>\n"
      ],
      "text/plain": [
       "\u001b[34m\u001b[1mOptimization Result\u001b[22m\u001b[39m\n",
       "\u001b[39m===================\u001b[39m\n",
       "  Iteration:       42\n",
       "  Minimum:         13599.5\n",
       "  Minimizer:       [389.908, 11.0068, 1349.82, …, 636.874]\n",
       "  Function calls:  1764\n",
       "  Total time:      1330.0610 s\n",
       "  Stop reason:     \n"
      ]
     },
     "metadata": {},
     "output_type": "display_data"
    },
    {
     "name": "stderr",
     "output_type": "stream",
     "text": [
      "\u001b[36m\u001b[1m[ \u001b[22m\u001b[39m\u001b[36m\u001b[1mInfo: \u001b[22m\u001b[39mCurrent Status of ECA\n"
     ]
    },
    {
     "data": {
      "text/html": [
       "<pre>\n",
       "Optimization Result\n",
       "===================\n",
       "  Iteration:       43\n",
       "  Minimum:         13599.5\n",
       "  Minimizer:       [389.908, 11.0068, 1349.82, …, 636.874]\n",
       "  Function calls:  1806\n",
       "  Total time:      1359.8540 s\n",
       "  Stop reason:     \n",
       "</pre>\n"
      ],
      "text/plain": [
       "\u001b[34m\u001b[1mOptimization Result\u001b[22m\u001b[39m\n",
       "\u001b[39m===================\u001b[39m\n",
       "  Iteration:       43\n",
       "  Minimum:         13599.5\n",
       "  Minimizer:       [389.908, 11.0068, 1349.82, …, 636.874]\n",
       "  Function calls:  1806\n",
       "  Total time:      1359.8540 s\n",
       "  Stop reason:     \n"
      ]
     },
     "metadata": {},
     "output_type": "display_data"
    },
    {
     "name": "stderr",
     "output_type": "stream",
     "text": [
      "\u001b[36m\u001b[1m[ \u001b[22m\u001b[39m\u001b[36m\u001b[1mInfo: \u001b[22m\u001b[39mCurrent Status of ECA\n"
     ]
    },
    {
     "data": {
      "text/html": [
       "<pre>\n",
       "Optimization Result\n",
       "===================\n",
       "  Iteration:       44\n",
       "  Minimum:         13599.5\n",
       "  Minimizer:       [389.908, 11.0068, 1349.82, …, 636.874]\n",
       "  Function calls:  1848\n",
       "  Total time:      1389.4550 s\n",
       "  Stop reason:     \n",
       "</pre>\n"
      ],
      "text/plain": [
       "\u001b[34m\u001b[1mOptimization Result\u001b[22m\u001b[39m\n",
       "\u001b[39m===================\u001b[39m\n",
       "  Iteration:       44\n",
       "  Minimum:         13599.5\n",
       "  Minimizer:       [389.908, 11.0068, 1349.82, …, 636.874]\n",
       "  Function calls:  1848\n",
       "  Total time:      1389.4550 s\n",
       "  Stop reason:     \n"
      ]
     },
     "metadata": {},
     "output_type": "display_data"
    },
    {
     "name": "stderr",
     "output_type": "stream",
     "text": [
      "\u001b[36m\u001b[1m[ \u001b[22m\u001b[39m\u001b[36m\u001b[1mInfo: \u001b[22m\u001b[39mCurrent Status of ECA\n"
     ]
    },
    {
     "data": {
      "text/html": [
       "<pre>\n",
       "Optimization Result\n",
       "===================\n",
       "  Iteration:       45\n",
       "  Minimum:         13599.5\n",
       "  Minimizer:       [389.908, 11.0068, 1349.82, …, 636.874]\n",
       "  Function calls:  1890\n",
       "  Total time:      1419.7490 s\n",
       "  Stop reason:     \n",
       "</pre>\n"
      ],
      "text/plain": [
       "\u001b[34m\u001b[1mOptimization Result\u001b[22m\u001b[39m\n",
       "\u001b[39m===================\u001b[39m\n",
       "  Iteration:       45\n",
       "  Minimum:         13599.5\n",
       "  Minimizer:       [389.908, 11.0068, 1349.82, …, 636.874]\n",
       "  Function calls:  1890\n",
       "  Total time:      1419.7490 s\n",
       "  Stop reason:     \n"
      ]
     },
     "metadata": {},
     "output_type": "display_data"
    },
    {
     "name": "stderr",
     "output_type": "stream",
     "text": [
      "\u001b[36m\u001b[1m[ \u001b[22m\u001b[39m\u001b[36m\u001b[1mInfo: \u001b[22m\u001b[39mCurrent Status of ECA\n"
     ]
    },
    {
     "data": {
      "text/html": [
       "<pre>\n",
       "Optimization Result\n",
       "===================\n",
       "  Iteration:       46\n",
       "  Minimum:         13599.5\n",
       "  Minimizer:       [389.908, 11.0068, 1349.82, …, 636.874]\n",
       "  Function calls:  1932\n",
       "  Total time:      1450.2910 s\n",
       "  Stop reason:     \n",
       "</pre>\n"
      ],
      "text/plain": [
       "\u001b[34m\u001b[1mOptimization Result\u001b[22m\u001b[39m\n",
       "\u001b[39m===================\u001b[39m\n",
       "  Iteration:       46\n",
       "  Minimum:         13599.5\n",
       "  Minimizer:       [389.908, 11.0068, 1349.82, …, 636.874]\n",
       "  Function calls:  1932\n",
       "  Total time:      1450.2910 s\n",
       "  Stop reason:     \n"
      ]
     },
     "metadata": {},
     "output_type": "display_data"
    },
    {
     "name": "stderr",
     "output_type": "stream",
     "text": [
      "\u001b[36m\u001b[1m[ \u001b[22m\u001b[39m\u001b[36m\u001b[1mInfo: \u001b[22m\u001b[39mCurrent Status of ECA\n"
     ]
    },
    {
     "data": {
      "text/html": [
       "<pre>\n",
       "Optimization Result\n",
       "===================\n",
       "  Iteration:       47\n",
       "  Minimum:         13599.5\n",
       "  Minimizer:       [389.908, 11.0068, 1349.82, …, 636.874]\n",
       "  Function calls:  1974\n",
       "  Total time:      1479.8980 s\n",
       "  Stop reason:     \n",
       "</pre>\n"
      ],
      "text/plain": [
       "\u001b[34m\u001b[1mOptimization Result\u001b[22m\u001b[39m\n",
       "\u001b[39m===================\u001b[39m\n",
       "  Iteration:       47\n",
       "  Minimum:         13599.5\n",
       "  Minimizer:       [389.908, 11.0068, 1349.82, …, 636.874]\n",
       "  Function calls:  1974\n",
       "  Total time:      1479.8980 s\n",
       "  Stop reason:     \n"
      ]
     },
     "metadata": {},
     "output_type": "display_data"
    },
    {
     "name": "stderr",
     "output_type": "stream",
     "text": [
      "\u001b[36m\u001b[1m[ \u001b[22m\u001b[39m\u001b[36m\u001b[1mInfo: \u001b[22m\u001b[39mCurrent Status of ECA\n"
     ]
    },
    {
     "data": {
      "text/html": [
       "<pre>\n",
       "Optimization Result\n",
       "===================\n",
       "  Iteration:       48\n",
       "  Minimum:         13586.5\n",
       "  Minimizer:       [385.561, 10.3923, 1672.98, …, 517.13]\n",
       "  Function calls:  2016\n",
       "  Total time:      1509.4800 s\n",
       "  Stop reason:     \n",
       "</pre>\n"
      ],
      "text/plain": [
       "\u001b[34m\u001b[1mOptimization Result\u001b[22m\u001b[39m\n",
       "\u001b[39m===================\u001b[39m\n",
       "  Iteration:       48\n",
       "  Minimum:         13586.5\n",
       "  Minimizer:       [385.561, 10.3923, 1672.98, …, 517.13]\n",
       "  Function calls:  2016\n",
       "  Total time:      1509.4800 s\n",
       "  Stop reason:     \n"
      ]
     },
     "metadata": {},
     "output_type": "display_data"
    },
    {
     "name": "stderr",
     "output_type": "stream",
     "text": [
      "\u001b[36m\u001b[1m[ \u001b[22m\u001b[39m\u001b[36m\u001b[1mInfo: \u001b[22m\u001b[39mCurrent Status of ECA\n"
     ]
    },
    {
     "data": {
      "text/html": [
       "<pre>\n",
       "Optimization Result\n",
       "===================\n",
       "  Iteration:       49\n",
       "  Minimum:         13521.3\n",
       "  Minimizer:       [356.151, 9.71403, 1563.94, …, 859.461]\n",
       "  Function calls:  2058\n",
       "  Total time:      1539.1600 s\n",
       "  Stop reason:     \n",
       "</pre>\n"
      ],
      "text/plain": [
       "\u001b[34m\u001b[1mOptimization Result\u001b[22m\u001b[39m\n",
       "\u001b[39m===================\u001b[39m\n",
       "  Iteration:       49\n",
       "  Minimum:         13521.3\n",
       "  Minimizer:       [356.151, 9.71403, 1563.94, …, 859.461]\n",
       "  Function calls:  2058\n",
       "  Total time:      1539.1600 s\n",
       "  Stop reason:     \n"
      ]
     },
     "metadata": {},
     "output_type": "display_data"
    },
    {
     "name": "stderr",
     "output_type": "stream",
     "text": [
      "\u001b[36m\u001b[1m[ \u001b[22m\u001b[39m\u001b[36m\u001b[1mInfo: \u001b[22m\u001b[39mCurrent Status of ECA\n"
     ]
    },
    {
     "data": {
      "text/html": [
       "<pre>\n",
       "Optimization Result\n",
       "===================\n",
       "  Iteration:       50\n",
       "  Minimum:         13521.3\n",
       "  Minimizer:       [356.151, 9.71403, 1563.94, …, 859.461]\n",
       "  Function calls:  2100\n",
       "  Total time:      1568.6580 s\n",
       "  Stop reason:     \n",
       "</pre>\n"
      ],
      "text/plain": [
       "\u001b[34m\u001b[1mOptimization Result\u001b[22m\u001b[39m\n",
       "\u001b[39m===================\u001b[39m\n",
       "  Iteration:       50\n",
       "  Minimum:         13521.3\n",
       "  Minimizer:       [356.151, 9.71403, 1563.94, …, 859.461]\n",
       "  Function calls:  2100\n",
       "  Total time:      1568.6580 s\n",
       "  Stop reason:     \n"
      ]
     },
     "metadata": {},
     "output_type": "display_data"
    },
    {
     "name": "stderr",
     "output_type": "stream",
     "text": [
      "\u001b[36m\u001b[1m[ \u001b[22m\u001b[39m\u001b[36m\u001b[1mInfo: \u001b[22m\u001b[39mCurrent Status of ECA\n"
     ]
    },
    {
     "data": {
      "text/html": [
       "<pre>\n",
       "Optimization Result\n",
       "===================\n",
       "  Iteration:       51\n",
       "  Minimum:         13521.3\n",
       "  Minimizer:       [356.151, 9.71403, 1563.94, …, 859.461]\n",
       "  Function calls:  2142\n",
       "  Total time:      1598.5670 s\n",
       "  Stop reason:     \n",
       "</pre>\n"
      ],
      "text/plain": [
       "\u001b[34m\u001b[1mOptimization Result\u001b[22m\u001b[39m\n",
       "\u001b[39m===================\u001b[39m\n",
       "  Iteration:       51\n",
       "  Minimum:         13521.3\n",
       "  Minimizer:       [356.151, 9.71403, 1563.94, …, 859.461]\n",
       "  Function calls:  2142\n",
       "  Total time:      1598.5670 s\n",
       "  Stop reason:     \n"
      ]
     },
     "metadata": {},
     "output_type": "display_data"
    },
    {
     "name": "stderr",
     "output_type": "stream",
     "text": [
      "\u001b[36m\u001b[1m[ \u001b[22m\u001b[39m\u001b[36m\u001b[1mInfo: \u001b[22m\u001b[39mCurrent Status of ECA\n"
     ]
    },
    {
     "data": {
      "text/html": [
       "<pre>\n",
       "Optimization Result\n",
       "===================\n",
       "  Iteration:       52\n",
       "  Minimum:         13521.3\n",
       "  Minimizer:       [356.151, 9.71403, 1563.94, …, 859.461]\n",
       "  Function calls:  2184\n",
       "  Total time:      1630.1080 s\n",
       "  Stop reason:     \n",
       "</pre>\n"
      ],
      "text/plain": [
       "\u001b[34m\u001b[1mOptimization Result\u001b[22m\u001b[39m\n",
       "\u001b[39m===================\u001b[39m\n",
       "  Iteration:       52\n",
       "  Minimum:         13521.3\n",
       "  Minimizer:       [356.151, 9.71403, 1563.94, …, 859.461]\n",
       "  Function calls:  2184\n",
       "  Total time:      1630.1080 s\n",
       "  Stop reason:     \n"
      ]
     },
     "metadata": {},
     "output_type": "display_data"
    },
    {
     "name": "stderr",
     "output_type": "stream",
     "text": [
      "\u001b[36m\u001b[1m[ \u001b[22m\u001b[39m\u001b[36m\u001b[1mInfo: \u001b[22m\u001b[39mCurrent Status of ECA\n"
     ]
    },
    {
     "data": {
      "text/html": [
       "<pre>\n",
       "Optimization Result\n",
       "===================\n",
       "  Iteration:       53\n",
       "  Minimum:         13521.3\n",
       "  Minimizer:       [356.151, 9.71403, 1563.94, …, 859.461]\n",
       "  Function calls:  2226\n",
       "  Total time:      1659.9020 s\n",
       "  Stop reason:     \n",
       "</pre>\n"
      ],
      "text/plain": [
       "\u001b[34m\u001b[1mOptimization Result\u001b[22m\u001b[39m\n",
       "\u001b[39m===================\u001b[39m\n",
       "  Iteration:       53\n",
       "  Minimum:         13521.3\n",
       "  Minimizer:       [356.151, 9.71403, 1563.94, …, 859.461]\n",
       "  Function calls:  2226\n",
       "  Total time:      1659.9020 s\n",
       "  Stop reason:     \n"
      ]
     },
     "metadata": {},
     "output_type": "display_data"
    },
    {
     "name": "stderr",
     "output_type": "stream",
     "text": [
      "\u001b[36m\u001b[1m[ \u001b[22m\u001b[39m\u001b[36m\u001b[1mInfo: \u001b[22m\u001b[39mCurrent Status of ECA\n"
     ]
    },
    {
     "data": {
      "text/html": [
       "<pre>\n",
       "Optimization Result\n",
       "===================\n",
       "  Iteration:       54\n",
       "  Minimum:         13492.6\n",
       "  Minimizer:       [361.873, 9.90523, 1501.88, …, 890.965]\n",
       "  Function calls:  2268\n",
       "  Total time:      1690.4060 s\n",
       "  Stop reason:     \n",
       "</pre>\n"
      ],
      "text/plain": [
       "\u001b[34m\u001b[1mOptimization Result\u001b[22m\u001b[39m\n",
       "\u001b[39m===================\u001b[39m\n",
       "  Iteration:       54\n",
       "  Minimum:         13492.6\n",
       "  Minimizer:       [361.873, 9.90523, 1501.88, …, 890.965]\n",
       "  Function calls:  2268\n",
       "  Total time:      1690.4060 s\n",
       "  Stop reason:     \n"
      ]
     },
     "metadata": {},
     "output_type": "display_data"
    },
    {
     "name": "stderr",
     "output_type": "stream",
     "text": [
      "\u001b[36m\u001b[1m[ \u001b[22m\u001b[39m\u001b[36m\u001b[1mInfo: \u001b[22m\u001b[39mCurrent Status of ECA\n"
     ]
    },
    {
     "data": {
      "text/html": [
       "<pre>\n",
       "Optimization Result\n",
       "===================\n",
       "  Iteration:       55\n",
       "  Minimum:         13471\n",
       "  Minimizer:       [326.395, 8.63116, 1232.66, …, 1059.1]\n",
       "  Function calls:  2310\n",
       "  Total time:      1720.8790 s\n",
       "  Stop reason:     \n",
       "</pre>\n"
      ],
      "text/plain": [
       "\u001b[34m\u001b[1mOptimization Result\u001b[22m\u001b[39m\n",
       "\u001b[39m===================\u001b[39m\n",
       "  Iteration:       55\n",
       "  Minimum:         13471\n",
       "  Minimizer:       [326.395, 8.63116, 1232.66, …, 1059.1]\n",
       "  Function calls:  2310\n",
       "  Total time:      1720.8790 s\n",
       "  Stop reason:     \n"
      ]
     },
     "metadata": {},
     "output_type": "display_data"
    },
    {
     "name": "stderr",
     "output_type": "stream",
     "text": [
      "\u001b[36m\u001b[1m[ \u001b[22m\u001b[39m\u001b[36m\u001b[1mInfo: \u001b[22m\u001b[39mCurrent Status of ECA\n"
     ]
    },
    {
     "data": {
      "text/html": [
       "<pre>\n",
       "Optimization Result\n",
       "===================\n",
       "  Iteration:       56\n",
       "  Minimum:         13471\n",
       "  Minimizer:       [326.395, 8.63116, 1232.66, …, 1059.1]\n",
       "  Function calls:  2352\n",
       "  Total time:      1750.9260 s\n",
       "  Stop reason:     \n",
       "</pre>\n"
      ],
      "text/plain": [
       "\u001b[34m\u001b[1mOptimization Result\u001b[22m\u001b[39m\n",
       "\u001b[39m===================\u001b[39m\n",
       "  Iteration:       56\n",
       "  Minimum:         13471\n",
       "  Minimizer:       [326.395, 8.63116, 1232.66, …, 1059.1]\n",
       "  Function calls:  2352\n",
       "  Total time:      1750.9260 s\n",
       "  Stop reason:     \n"
      ]
     },
     "metadata": {},
     "output_type": "display_data"
    },
    {
     "name": "stderr",
     "output_type": "stream",
     "text": [
      "\u001b[36m\u001b[1m[ \u001b[22m\u001b[39m\u001b[36m\u001b[1mInfo: \u001b[22m\u001b[39mCurrent Status of ECA\n"
     ]
    },
    {
     "data": {
      "text/html": [
       "<pre>\n",
       "Optimization Result\n",
       "===================\n",
       "  Iteration:       57\n",
       "  Minimum:         13471\n",
       "  Minimizer:       [326.395, 8.63116, 1232.66, …, 1059.1]\n",
       "  Function calls:  2394\n",
       "  Total time:      1780.8070 s\n",
       "  Stop reason:     \n",
       "</pre>\n"
      ],
      "text/plain": [
       "\u001b[34m\u001b[1mOptimization Result\u001b[22m\u001b[39m\n",
       "\u001b[39m===================\u001b[39m\n",
       "  Iteration:       57\n",
       "  Minimum:         13471\n",
       "  Minimizer:       [326.395, 8.63116, 1232.66, …, 1059.1]\n",
       "  Function calls:  2394\n",
       "  Total time:      1780.8070 s\n",
       "  Stop reason:     \n"
      ]
     },
     "metadata": {},
     "output_type": "display_data"
    },
    {
     "name": "stderr",
     "output_type": "stream",
     "text": [
      "\u001b[36m\u001b[1m[ \u001b[22m\u001b[39m\u001b[36m\u001b[1mInfo: \u001b[22m\u001b[39mCurrent Status of ECA\n"
     ]
    },
    {
     "data": {
      "text/html": [
       "<pre>\n",
       "Optimization Result\n",
       "===================\n",
       "  Iteration:       58\n",
       "  Minimum:         13471\n",
       "  Minimizer:       [326.395, 8.63116, 1232.66, …, 1059.1]\n",
       "  Function calls:  2436\n",
       "  Total time:      1811.9060 s\n",
       "  Stop reason:     \n",
       "</pre>\n"
      ],
      "text/plain": [
       "\u001b[34m\u001b[1mOptimization Result\u001b[22m\u001b[39m\n",
       "\u001b[39m===================\u001b[39m\n",
       "  Iteration:       58\n",
       "  Minimum:         13471\n",
       "  Minimizer:       [326.395, 8.63116, 1232.66, …, 1059.1]\n",
       "  Function calls:  2436\n",
       "  Total time:      1811.9060 s\n",
       "  Stop reason:     \n"
      ]
     },
     "metadata": {},
     "output_type": "display_data"
    },
    {
     "name": "stderr",
     "output_type": "stream",
     "text": [
      "\u001b[36m\u001b[1m[ \u001b[22m\u001b[39m\u001b[36m\u001b[1mInfo: \u001b[22m\u001b[39mCurrent Status of ECA\n"
     ]
    },
    {
     "data": {
      "text/html": [
       "<pre>\n",
       "Optimization Result\n",
       "===================\n",
       "  Iteration:       59\n",
       "  Minimum:         13464.9\n",
       "  Minimizer:       [346.005, 9.0071, 1309.05, …, 818.515]\n",
       "  Function calls:  2478\n",
       "  Total time:      1841.3840 s\n",
       "  Stop reason:     \n",
       "</pre>\n"
      ],
      "text/plain": [
       "\u001b[34m\u001b[1mOptimization Result\u001b[22m\u001b[39m\n",
       "\u001b[39m===================\u001b[39m\n",
       "  Iteration:       59\n",
       "  Minimum:         13464.9\n",
       "  Minimizer:       [346.005, 9.0071, 1309.05, …, 818.515]\n",
       "  Function calls:  2478\n",
       "  Total time:      1841.3840 s\n",
       "  Stop reason:     \n"
      ]
     },
     "metadata": {},
     "output_type": "display_data"
    },
    {
     "name": "stderr",
     "output_type": "stream",
     "text": [
      "\u001b[36m\u001b[1m[ \u001b[22m\u001b[39m\u001b[36m\u001b[1mInfo: \u001b[22m\u001b[39mCurrent Status of ECA\n"
     ]
    },
    {
     "data": {
      "text/html": [
       "<pre>\n",
       "Optimization Result\n",
       "===================\n",
       "  Iteration:       60\n",
       "  Minimum:         13464.9\n",
       "  Minimizer:       [346.005, 9.0071, 1309.05, …, 818.515]\n",
       "  Function calls:  2520\n",
       "  Total time:      1871.1380 s\n",
       "  Stop reason:     \n",
       "</pre>\n"
      ],
      "text/plain": [
       "\u001b[34m\u001b[1mOptimization Result\u001b[22m\u001b[39m\n",
       "\u001b[39m===================\u001b[39m\n",
       "  Iteration:       60\n",
       "  Minimum:         13464.9\n",
       "  Minimizer:       [346.005, 9.0071, 1309.05, …, 818.515]\n",
       "  Function calls:  2520\n",
       "  Total time:      1871.1380 s\n",
       "  Stop reason:     \n"
      ]
     },
     "metadata": {},
     "output_type": "display_data"
    },
    {
     "name": "stderr",
     "output_type": "stream",
     "text": [
      "\u001b[36m\u001b[1m[ \u001b[22m\u001b[39m\u001b[36m\u001b[1mInfo: \u001b[22m\u001b[39mCurrent Status of ECA\n"
     ]
    },
    {
     "data": {
      "text/html": [
       "<pre>\n",
       "Optimization Result\n",
       "===================\n",
       "  Iteration:       61\n",
       "  Minimum:         13384.3\n",
       "  Minimizer:       [263.164, 6.69531, 1472.46, …, 849.251]\n",
       "  Function calls:  2562\n",
       "  Total time:      1900.9820 s\n",
       "  Stop reason:     \n",
       "</pre>\n"
      ],
      "text/plain": [
       "\u001b[34m\u001b[1mOptimization Result\u001b[22m\u001b[39m\n",
       "\u001b[39m===================\u001b[39m\n",
       "  Iteration:       61\n",
       "  Minimum:         13384.3\n",
       "  Minimizer:       [263.164, 6.69531, 1472.46, …, 849.251]\n",
       "  Function calls:  2562\n",
       "  Total time:      1900.9820 s\n",
       "  Stop reason:     \n"
      ]
     },
     "metadata": {},
     "output_type": "display_data"
    },
    {
     "name": "stderr",
     "output_type": "stream",
     "text": [
      "\u001b[36m\u001b[1m[ \u001b[22m\u001b[39m\u001b[36m\u001b[1mInfo: \u001b[22m\u001b[39mCurrent Status of ECA\n"
     ]
    },
    {
     "data": {
      "text/html": [
       "<pre>\n",
       "Optimization Result\n",
       "===================\n",
       "  Iteration:       62\n",
       "  Minimum:         13384.3\n",
       "  Minimizer:       [263.164, 6.69531, 1472.46, …, 849.251]\n",
       "  Function calls:  2604\n",
       "  Total time:      1930.9400 s\n",
       "  Stop reason:     \n",
       "</pre>\n"
      ],
      "text/plain": [
       "\u001b[34m\u001b[1mOptimization Result\u001b[22m\u001b[39m\n",
       "\u001b[39m===================\u001b[39m\n",
       "  Iteration:       62\n",
       "  Minimum:         13384.3\n",
       "  Minimizer:       [263.164, 6.69531, 1472.46, …, 849.251]\n",
       "  Function calls:  2604\n",
       "  Total time:      1930.9400 s\n",
       "  Stop reason:     \n"
      ]
     },
     "metadata": {},
     "output_type": "display_data"
    },
    {
     "name": "stderr",
     "output_type": "stream",
     "text": [
      "\u001b[36m\u001b[1m[ \u001b[22m\u001b[39m\u001b[36m\u001b[1mInfo: \u001b[22m\u001b[39mCurrent Status of ECA\n"
     ]
    },
    {
     "data": {
      "text/html": [
       "<pre>\n",
       "Optimization Result\n",
       "===================\n",
       "  Iteration:       63\n",
       "  Minimum:         13384.3\n",
       "  Minimizer:       [263.164, 6.69531, 1472.46, …, 849.251]\n",
       "  Function calls:  2646\n",
       "  Total time:      1960.7740 s\n",
       "  Stop reason:     \n",
       "</pre>\n"
      ],
      "text/plain": [
       "\u001b[34m\u001b[1mOptimization Result\u001b[22m\u001b[39m\n",
       "\u001b[39m===================\u001b[39m\n",
       "  Iteration:       63\n",
       "  Minimum:         13384.3\n",
       "  Minimizer:       [263.164, 6.69531, 1472.46, …, 849.251]\n",
       "  Function calls:  2646\n",
       "  Total time:      1960.7740 s\n",
       "  Stop reason:     \n"
      ]
     },
     "metadata": {},
     "output_type": "display_data"
    },
    {
     "name": "stderr",
     "output_type": "stream",
     "text": [
      "\u001b[36m\u001b[1m[ \u001b[22m\u001b[39m\u001b[36m\u001b[1mInfo: \u001b[22m\u001b[39mCurrent Status of ECA\n"
     ]
    },
    {
     "data": {
      "text/html": [
       "<pre>\n",
       "Optimization Result\n",
       "===================\n",
       "  Iteration:       64\n",
       "  Minimum:         13384.3\n",
       "  Minimizer:       [263.164, 6.69531, 1472.46, …, 849.251]\n",
       "  Function calls:  2688\n",
       "  Total time:      1992.3220 s\n",
       "  Stop reason:     \n",
       "</pre>\n"
      ],
      "text/plain": [
       "\u001b[34m\u001b[1mOptimization Result\u001b[22m\u001b[39m\n",
       "\u001b[39m===================\u001b[39m\n",
       "  Iteration:       64\n",
       "  Minimum:         13384.3\n",
       "  Minimizer:       [263.164, 6.69531, 1472.46, …, 849.251]\n",
       "  Function calls:  2688\n",
       "  Total time:      1992.3220 s\n",
       "  Stop reason:     \n"
      ]
     },
     "metadata": {},
     "output_type": "display_data"
    },
    {
     "name": "stderr",
     "output_type": "stream",
     "text": [
      "\u001b[36m\u001b[1m[ \u001b[22m\u001b[39m\u001b[36m\u001b[1mInfo: \u001b[22m\u001b[39mCurrent Status of ECA\n"
     ]
    },
    {
     "data": {
      "text/html": [
       "<pre>\n",
       "Optimization Result\n",
       "===================\n",
       "  Iteration:       65\n",
       "  Minimum:         13384.3\n",
       "  Minimizer:       [263.164, 6.69531, 1472.46, …, 849.251]\n",
       "  Function calls:  2730\n",
       "  Total time:      2022.1040 s\n",
       "  Stop reason:     \n",
       "</pre>\n"
      ],
      "text/plain": [
       "\u001b[34m\u001b[1mOptimization Result\u001b[22m\u001b[39m\n",
       "\u001b[39m===================\u001b[39m\n",
       "  Iteration:       65\n",
       "  Minimum:         13384.3\n",
       "  Minimizer:       [263.164, 6.69531, 1472.46, …, 849.251]\n",
       "  Function calls:  2730\n",
       "  Total time:      2022.1040 s\n",
       "  Stop reason:     \n"
      ]
     },
     "metadata": {},
     "output_type": "display_data"
    },
    {
     "name": "stderr",
     "output_type": "stream",
     "text": [
      "\u001b[36m\u001b[1m[ \u001b[22m\u001b[39m\u001b[36m\u001b[1mInfo: \u001b[22m\u001b[39mCurrent Status of ECA\n"
     ]
    },
    {
     "data": {
      "text/html": [
       "<pre>\n",
       "Optimization Result\n",
       "===================\n",
       "  Iteration:       66\n",
       "  Minimum:         13384.3\n",
       "  Minimizer:       [263.164, 6.69531, 1472.46, …, 849.251]\n",
       "  Function calls:  2772\n",
       "  Total time:      2051.4780 s\n",
       "  Stop reason:     \n",
       "</pre>\n"
      ],
      "text/plain": [
       "\u001b[34m\u001b[1mOptimization Result\u001b[22m\u001b[39m\n",
       "\u001b[39m===================\u001b[39m\n",
       "  Iteration:       66\n",
       "  Minimum:         13384.3\n",
       "  Minimizer:       [263.164, 6.69531, 1472.46, …, 849.251]\n",
       "  Function calls:  2772\n",
       "  Total time:      2051.4780 s\n",
       "  Stop reason:     \n"
      ]
     },
     "metadata": {},
     "output_type": "display_data"
    },
    {
     "name": "stderr",
     "output_type": "stream",
     "text": [
      "\u001b[36m\u001b[1m[ \u001b[22m\u001b[39m\u001b[36m\u001b[1mInfo: \u001b[22m\u001b[39mCurrent Status of ECA\n"
     ]
    },
    {
     "data": {
      "text/html": [
       "<pre>\n",
       "Optimization Result\n",
       "===================\n",
       "  Iteration:       67\n",
       "  Minimum:         13384.3\n",
       "  Minimizer:       [263.164, 6.69531, 1472.46, …, 849.251]\n",
       "  Function calls:  2814\n",
       "  Total time:      2081.0140 s\n",
       "  Stop reason:     \n",
       "</pre>\n"
      ],
      "text/plain": [
       "\u001b[34m\u001b[1mOptimization Result\u001b[22m\u001b[39m\n",
       "\u001b[39m===================\u001b[39m\n",
       "  Iteration:       67\n",
       "  Minimum:         13384.3\n",
       "  Minimizer:       [263.164, 6.69531, 1472.46, …, 849.251]\n",
       "  Function calls:  2814\n",
       "  Total time:      2081.0140 s\n",
       "  Stop reason:     \n"
      ]
     },
     "metadata": {},
     "output_type": "display_data"
    },
    {
     "name": "stderr",
     "output_type": "stream",
     "text": [
      "\u001b[36m\u001b[1m[ \u001b[22m\u001b[39m\u001b[36m\u001b[1mInfo: \u001b[22m\u001b[39mCurrent Status of ECA\n"
     ]
    },
    {
     "data": {
      "text/html": [
       "<pre>\n",
       "Optimization Result\n",
       "===================\n",
       "  Iteration:       68\n",
       "  Minimum:         13384.3\n",
       "  Minimizer:       [263.164, 6.69531, 1472.46, …, 849.251]\n",
       "  Function calls:  2856\n",
       "  Total time:      2111.0080 s\n",
       "  Stop reason:     \n",
       "</pre>\n"
      ],
      "text/plain": [
       "\u001b[34m\u001b[1mOptimization Result\u001b[22m\u001b[39m\n",
       "\u001b[39m===================\u001b[39m\n",
       "  Iteration:       68\n",
       "  Minimum:         13384.3\n",
       "  Minimizer:       [263.164, 6.69531, 1472.46, …, 849.251]\n",
       "  Function calls:  2856\n",
       "  Total time:      2111.0080 s\n",
       "  Stop reason:     \n"
      ]
     },
     "metadata": {},
     "output_type": "display_data"
    },
    {
     "name": "stderr",
     "output_type": "stream",
     "text": [
      "\u001b[36m\u001b[1m[ \u001b[22m\u001b[39m\u001b[36m\u001b[1mInfo: \u001b[22m\u001b[39mCurrent Status of ECA\n"
     ]
    },
    {
     "data": {
      "text/html": [
       "<pre>\n",
       "Optimization Result\n",
       "===================\n",
       "  Iteration:       69\n",
       "  Minimum:         13384.3\n",
       "  Minimizer:       [263.164, 6.69531, 1472.46, …, 849.251]\n",
       "  Function calls:  2898\n",
       "  Total time:      2140.9160 s\n",
       "  Stop reason:     \n",
       "</pre>\n"
      ],
      "text/plain": [
       "\u001b[34m\u001b[1mOptimization Result\u001b[22m\u001b[39m\n",
       "\u001b[39m===================\u001b[39m\n",
       "  Iteration:       69\n",
       "  Minimum:         13384.3\n",
       "  Minimizer:       [263.164, 6.69531, 1472.46, …, 849.251]\n",
       "  Function calls:  2898\n",
       "  Total time:      2140.9160 s\n",
       "  Stop reason:     \n"
      ]
     },
     "metadata": {},
     "output_type": "display_data"
    },
    {
     "name": "stderr",
     "output_type": "stream",
     "text": [
      "\u001b[36m\u001b[1m[ \u001b[22m\u001b[39m\u001b[36m\u001b[1mInfo: \u001b[22m\u001b[39mCurrent Status of ECA\n"
     ]
    },
    {
     "data": {
      "text/html": [
       "<pre>\n",
       "Optimization Result\n",
       "===================\n",
       "  Iteration:       70\n",
       "  Minimum:         13376.7\n",
       "  Minimizer:       [263.476, 6.48779, 1507.4, …, 493.16]\n",
       "  Function calls:  2940\n",
       "  Total time:      2172.5390 s\n",
       "  Stop reason:     \n",
       "</pre>\n"
      ],
      "text/plain": [
       "\u001b[34m\u001b[1mOptimization Result\u001b[22m\u001b[39m\n",
       "\u001b[39m===================\u001b[39m\n",
       "  Iteration:       70\n",
       "  Minimum:         13376.7\n",
       "  Minimizer:       [263.476, 6.48779, 1507.4, …, 493.16]\n",
       "  Function calls:  2940\n",
       "  Total time:      2172.5390 s\n",
       "  Stop reason:     \n"
      ]
     },
     "metadata": {},
     "output_type": "display_data"
    },
    {
     "name": "stderr",
     "output_type": "stream",
     "text": [
      "\u001b[36m\u001b[1m[ \u001b[22m\u001b[39m\u001b[36m\u001b[1mInfo: \u001b[22m\u001b[39mCurrent Status of ECA\n"
     ]
    },
    {
     "data": {
      "text/html": [
       "<pre>\n",
       "Optimization Result\n",
       "===================\n",
       "  Iteration:       71\n",
       "  Minimum:         13376.7\n",
       "  Minimizer:       [263.476, 6.48779, 1507.4, …, 493.16]\n",
       "  Function calls:  2982\n",
       "  Total time:      2202.3330 s\n",
       "  Stop reason:     \n",
       "</pre>\n"
      ],
      "text/plain": [
       "\u001b[34m\u001b[1mOptimization Result\u001b[22m\u001b[39m\n",
       "\u001b[39m===================\u001b[39m\n",
       "  Iteration:       71\n",
       "  Minimum:         13376.7\n",
       "  Minimizer:       [263.476, 6.48779, 1507.4, …, 493.16]\n",
       "  Function calls:  2982\n",
       "  Total time:      2202.3330 s\n",
       "  Stop reason:     \n"
      ]
     },
     "metadata": {},
     "output_type": "display_data"
    },
    {
     "name": "stderr",
     "output_type": "stream",
     "text": [
      "\u001b[36m\u001b[1m[ \u001b[22m\u001b[39m\u001b[36m\u001b[1mInfo: \u001b[22m\u001b[39mCurrent Status of ECA\n"
     ]
    },
    {
     "data": {
      "text/html": [
       "<pre>\n",
       "Optimization Result\n",
       "===================\n",
       "  Iteration:       72\n",
       "  Minimum:         13376.7\n",
       "  Minimizer:       [263.476, 6.48779, 1507.4, …, 493.16]\n",
       "  Function calls:  3024\n",
       "  Total time:      2232.0940 s\n",
       "  Stop reason:     \n",
       "</pre>\n"
      ],
      "text/plain": [
       "\u001b[34m\u001b[1mOptimization Result\u001b[22m\u001b[39m\n",
       "\u001b[39m===================\u001b[39m\n",
       "  Iteration:       72\n",
       "  Minimum:         13376.7\n",
       "  Minimizer:       [263.476, 6.48779, 1507.4, …, 493.16]\n",
       "  Function calls:  3024\n",
       "  Total time:      2232.0940 s\n",
       "  Stop reason:     \n"
      ]
     },
     "metadata": {},
     "output_type": "display_data"
    },
    {
     "name": "stderr",
     "output_type": "stream",
     "text": [
      "\u001b[36m\u001b[1m[ \u001b[22m\u001b[39m\u001b[36m\u001b[1mInfo: \u001b[22m\u001b[39mCurrent Status of ECA\n"
     ]
    },
    {
     "data": {
      "text/html": [
       "<pre>\n",
       "Optimization Result\n",
       "===================\n",
       "  Iteration:       73\n",
       "  Minimum:         13376.7\n",
       "  Minimizer:       [263.476, 6.48779, 1507.4, …, 493.16]\n",
       "  Function calls:  3066\n",
       "  Total time:      2261.6050 s\n",
       "  Stop reason:     \n",
       "</pre>\n"
      ],
      "text/plain": [
       "\u001b[34m\u001b[1mOptimization Result\u001b[22m\u001b[39m\n",
       "\u001b[39m===================\u001b[39m\n",
       "  Iteration:       73\n",
       "  Minimum:         13376.7\n",
       "  Minimizer:       [263.476, 6.48779, 1507.4, …, 493.16]\n",
       "  Function calls:  3066\n",
       "  Total time:      2261.6050 s\n",
       "  Stop reason:     \n"
      ]
     },
     "metadata": {},
     "output_type": "display_data"
    },
    {
     "name": "stderr",
     "output_type": "stream",
     "text": [
      "\u001b[36m\u001b[1m[ \u001b[22m\u001b[39m\u001b[36m\u001b[1mInfo: \u001b[22m\u001b[39mCurrent Status of ECA\n"
     ]
    },
    {
     "data": {
      "text/html": [
       "<pre>\n",
       "Optimization Result\n",
       "===================\n",
       "  Iteration:       74\n",
       "  Minimum:         13372.4\n",
       "  Minimizer:       [272.565, 6.96067, 1450.78, …, 873.933]\n",
       "  Function calls:  3108\n",
       "  Total time:      2290.8560 s\n",
       "  Stop reason:     \n",
       "</pre>\n"
      ],
      "text/plain": [
       "\u001b[34m\u001b[1mOptimization Result\u001b[22m\u001b[39m\n",
       "\u001b[39m===================\u001b[39m\n",
       "  Iteration:       74\n",
       "  Minimum:         13372.4\n",
       "  Minimizer:       [272.565, 6.96067, 1450.78, …, 873.933]\n",
       "  Function calls:  3108\n",
       "  Total time:      2290.8560 s\n",
       "  Stop reason:     \n"
      ]
     },
     "metadata": {},
     "output_type": "display_data"
    },
    {
     "name": "stderr",
     "output_type": "stream",
     "text": [
      "\u001b[36m\u001b[1m[ \u001b[22m\u001b[39m\u001b[36m\u001b[1mInfo: \u001b[22m\u001b[39mCurrent Status of ECA\n"
     ]
    },
    {
     "data": {
      "text/html": [
       "<pre>\n",
       "Optimization Result\n",
       "===================\n",
       "  Iteration:       75\n",
       "  Minimum:         13372.4\n",
       "  Minimizer:       [272.565, 6.96067, 1450.78, …, 873.933]\n",
       "  Function calls:  3150\n",
       "  Total time:      2320.4620 s\n",
       "  Stop reason:     \n",
       "</pre>\n"
      ],
      "text/plain": [
       "\u001b[34m\u001b[1mOptimization Result\u001b[22m\u001b[39m\n",
       "\u001b[39m===================\u001b[39m\n",
       "  Iteration:       75\n",
       "  Minimum:         13372.4\n",
       "  Minimizer:       [272.565, 6.96067, 1450.78, …, 873.933]\n",
       "  Function calls:  3150\n",
       "  Total time:      2320.4620 s\n",
       "  Stop reason:     \n"
      ]
     },
     "metadata": {},
     "output_type": "display_data"
    },
    {
     "name": "stderr",
     "output_type": "stream",
     "text": [
      "\u001b[36m\u001b[1m[ \u001b[22m\u001b[39m\u001b[36m\u001b[1mInfo: \u001b[22m\u001b[39mCurrent Status of ECA\n"
     ]
    },
    {
     "data": {
      "text/html": [
       "<pre>\n",
       "Optimization Result\n",
       "===================\n",
       "  Iteration:       76\n",
       "  Minimum:         13372.4\n",
       "  Minimizer:       [272.565, 6.96067, 1450.78, …, 873.933]\n",
       "  Function calls:  3192\n",
       "  Total time:      2351.9210 s\n",
       "  Stop reason:     \n",
       "</pre>\n"
      ],
      "text/plain": [
       "\u001b[34m\u001b[1mOptimization Result\u001b[22m\u001b[39m\n",
       "\u001b[39m===================\u001b[39m\n",
       "  Iteration:       76\n",
       "  Minimum:         13372.4\n",
       "  Minimizer:       [272.565, 6.96067, 1450.78, …, 873.933]\n",
       "  Function calls:  3192\n",
       "  Total time:      2351.9210 s\n",
       "  Stop reason:     \n"
      ]
     },
     "metadata": {},
     "output_type": "display_data"
    },
    {
     "name": "stderr",
     "output_type": "stream",
     "text": [
      "\u001b[36m\u001b[1m[ \u001b[22m\u001b[39m\u001b[36m\u001b[1mInfo: \u001b[22m\u001b[39mCurrent Status of ECA\n"
     ]
    },
    {
     "data": {
      "text/html": [
       "<pre>\n",
       "Optimization Result\n",
       "===================\n",
       "  Iteration:       77\n",
       "  Minimum:         13372.4\n",
       "  Minimizer:       [272.565, 6.96067, 1450.78, …, 873.933]\n",
       "  Function calls:  3234\n",
       "  Total time:      2381.6470 s\n",
       "  Stop reason:     \n",
       "</pre>\n"
      ],
      "text/plain": [
       "\u001b[34m\u001b[1mOptimization Result\u001b[22m\u001b[39m\n",
       "\u001b[39m===================\u001b[39m\n",
       "  Iteration:       77\n",
       "  Minimum:         13372.4\n",
       "  Minimizer:       [272.565, 6.96067, 1450.78, …, 873.933]\n",
       "  Function calls:  3234\n",
       "  Total time:      2381.6470 s\n",
       "  Stop reason:     \n"
      ]
     },
     "metadata": {},
     "output_type": "display_data"
    },
    {
     "name": "stderr",
     "output_type": "stream",
     "text": [
      "\u001b[36m\u001b[1m[ \u001b[22m\u001b[39m\u001b[36m\u001b[1mInfo: \u001b[22m\u001b[39mCurrent Status of ECA\n"
     ]
    },
    {
     "data": {
      "text/html": [
       "<pre>\n",
       "Optimization Result\n",
       "===================\n",
       "  Iteration:       78\n",
       "  Minimum:         13372.4\n",
       "  Minimizer:       [272.565, 6.96067, 1450.78, …, 873.933]\n",
       "  Function calls:  3276\n",
       "  Total time:      2411.5860 s\n",
       "  Stop reason:     \n",
       "</pre>\n"
      ],
      "text/plain": [
       "\u001b[34m\u001b[1mOptimization Result\u001b[22m\u001b[39m\n",
       "\u001b[39m===================\u001b[39m\n",
       "  Iteration:       78\n",
       "  Minimum:         13372.4\n",
       "  Minimizer:       [272.565, 6.96067, 1450.78, …, 873.933]\n",
       "  Function calls:  3276\n",
       "  Total time:      2411.5860 s\n",
       "  Stop reason:     \n"
      ]
     },
     "metadata": {},
     "output_type": "display_data"
    },
    {
     "name": "stderr",
     "output_type": "stream",
     "text": [
      "\u001b[36m\u001b[1m[ \u001b[22m\u001b[39m\u001b[36m\u001b[1mInfo: \u001b[22m\u001b[39mCurrent Status of ECA\n"
     ]
    },
    {
     "data": {
      "text/html": [
       "<pre>\n",
       "Optimization Result\n",
       "===================\n",
       "  Iteration:       79\n",
       "  Minimum:         13372.4\n",
       "  Minimizer:       [272.565, 6.96067, 1450.78, …, 873.933]\n",
       "  Function calls:  3318\n",
       "  Total time:      2441.3480 s\n",
       "  Stop reason:     \n",
       "</pre>\n"
      ],
      "text/plain": [
       "\u001b[34m\u001b[1mOptimization Result\u001b[22m\u001b[39m\n",
       "\u001b[39m===================\u001b[39m\n",
       "  Iteration:       79\n",
       "  Minimum:         13372.4\n",
       "  Minimizer:       [272.565, 6.96067, 1450.78, …, 873.933]\n",
       "  Function calls:  3318\n",
       "  Total time:      2441.3480 s\n",
       "  Stop reason:     \n"
      ]
     },
     "metadata": {},
     "output_type": "display_data"
    },
    {
     "name": "stderr",
     "output_type": "stream",
     "text": [
      "\u001b[36m\u001b[1m[ \u001b[22m\u001b[39m\u001b[36m\u001b[1mInfo: \u001b[22m\u001b[39mCurrent Status of ECA\n"
     ]
    },
    {
     "data": {
      "text/html": [
       "<pre>\n",
       "Optimization Result\n",
       "===================\n",
       "  Iteration:       80\n",
       "  Minimum:         13361.1\n",
       "  Minimizer:       [271.256, 6.85387, 1414.53, …, 762.591]\n",
       "  Function calls:  3360\n",
       "  Total time:      2471.2240 s\n",
       "  Stop reason:     \n",
       "</pre>\n"
      ],
      "text/plain": [
       "\u001b[34m\u001b[1mOptimization Result\u001b[22m\u001b[39m\n",
       "\u001b[39m===================\u001b[39m\n",
       "  Iteration:       80\n",
       "  Minimum:         13361.1\n",
       "  Minimizer:       [271.256, 6.85387, 1414.53, …, 762.591]\n",
       "  Function calls:  3360\n",
       "  Total time:      2471.2240 s\n",
       "  Stop reason:     \n"
      ]
     },
     "metadata": {},
     "output_type": "display_data"
    },
    {
     "name": "stderr",
     "output_type": "stream",
     "text": [
      "\u001b[36m\u001b[1m[ \u001b[22m\u001b[39m\u001b[36m\u001b[1mInfo: \u001b[22m\u001b[39mCurrent Status of ECA\n"
     ]
    },
    {
     "data": {
      "text/html": [
       "<pre>\n",
       "Optimization Result\n",
       "===================\n",
       "  Iteration:       81\n",
       "  Minimum:         13361.1\n",
       "  Minimizer:       [271.256, 6.85387, 1414.53, …, 762.591]\n",
       "  Function calls:  3402\n",
       "  Total time:      2500.8180 s\n",
       "  Stop reason:     \n",
       "</pre>\n"
      ],
      "text/plain": [
       "\u001b[34m\u001b[1mOptimization Result\u001b[22m\u001b[39m\n",
       "\u001b[39m===================\u001b[39m\n",
       "  Iteration:       81\n",
       "  Minimum:         13361.1\n",
       "  Minimizer:       [271.256, 6.85387, 1414.53, …, 762.591]\n",
       "  Function calls:  3402\n",
       "  Total time:      2500.8180 s\n",
       "  Stop reason:     \n"
      ]
     },
     "metadata": {},
     "output_type": "display_data"
    },
    {
     "name": "stderr",
     "output_type": "stream",
     "text": [
      "\u001b[36m\u001b[1m[ \u001b[22m\u001b[39m\u001b[36m\u001b[1mInfo: \u001b[22m\u001b[39mCurrent Status of ECA\n"
     ]
    },
    {
     "data": {
      "text/html": [
       "<pre>\n",
       "Optimization Result\n",
       "===================\n",
       "  Iteration:       82\n",
       "  Minimum:         13361.1\n",
       "  Minimizer:       [271.256, 6.85387, 1414.53, …, 762.591]\n",
       "  Function calls:  3444\n",
       "  Total time:      2532.2720 s\n",
       "  Stop reason:     \n",
       "</pre>\n"
      ],
      "text/plain": [
       "\u001b[34m\u001b[1mOptimization Result\u001b[22m\u001b[39m\n",
       "\u001b[39m===================\u001b[39m\n",
       "  Iteration:       82\n",
       "  Minimum:         13361.1\n",
       "  Minimizer:       [271.256, 6.85387, 1414.53, …, 762.591]\n",
       "  Function calls:  3444\n",
       "  Total time:      2532.2720 s\n",
       "  Stop reason:     \n"
      ]
     },
     "metadata": {},
     "output_type": "display_data"
    },
    {
     "name": "stderr",
     "output_type": "stream",
     "text": [
      "\u001b[36m\u001b[1m[ \u001b[22m\u001b[39m\u001b[36m\u001b[1mInfo: \u001b[22m\u001b[39mCurrent Status of ECA\n"
     ]
    },
    {
     "data": {
      "text/html": [
       "<pre>\n",
       "Optimization Result\n",
       "===================\n",
       "  Iteration:       83\n",
       "  Minimum:         13361.1\n",
       "  Minimizer:       [271.256, 6.85387, 1414.53, …, 762.591]\n",
       "  Function calls:  3486\n",
       "  Total time:      2561.6470 s\n",
       "  Stop reason:     \n",
       "</pre>\n"
      ],
      "text/plain": [
       "\u001b[34m\u001b[1mOptimization Result\u001b[22m\u001b[39m\n",
       "\u001b[39m===================\u001b[39m\n",
       "  Iteration:       83\n",
       "  Minimum:         13361.1\n",
       "  Minimizer:       [271.256, 6.85387, 1414.53, …, 762.591]\n",
       "  Function calls:  3486\n",
       "  Total time:      2561.6470 s\n",
       "  Stop reason:     \n"
      ]
     },
     "metadata": {},
     "output_type": "display_data"
    },
    {
     "name": "stderr",
     "output_type": "stream",
     "text": [
      "\u001b[36m\u001b[1m[ \u001b[22m\u001b[39m\u001b[36m\u001b[1mInfo: \u001b[22m\u001b[39mCurrent Status of ECA\n"
     ]
    },
    {
     "data": {
      "text/html": [
       "<pre>\n",
       "Optimization Result\n",
       "===================\n",
       "  Iteration:       84\n",
       "  Minimum:         13355.6\n",
       "  Minimizer:       [267.71, 6.74907, 1453.93, …, 716.9]\n",
       "  Function calls:  3528\n",
       "  Total time:      2592.0220 s\n",
       "  Stop reason:     \n",
       "</pre>\n"
      ],
      "text/plain": [
       "\u001b[34m\u001b[1mOptimization Result\u001b[22m\u001b[39m\n",
       "\u001b[39m===================\u001b[39m\n",
       "  Iteration:       84\n",
       "  Minimum:         13355.6\n",
       "  Minimizer:       [267.71, 6.74907, 1453.93, …, 716.9]\n",
       "  Function calls:  3528\n",
       "  Total time:      2592.0220 s\n",
       "  Stop reason:     \n"
      ]
     },
     "metadata": {},
     "output_type": "display_data"
    },
    {
     "name": "stderr",
     "output_type": "stream",
     "text": [
      "\u001b[36m\u001b[1m[ \u001b[22m\u001b[39m\u001b[36m\u001b[1mInfo: \u001b[22m\u001b[39mCurrent Status of ECA\n"
     ]
    },
    {
     "data": {
      "text/html": [
       "<pre>\n",
       "Optimization Result\n",
       "===================\n",
       "  Iteration:       85\n",
       "  Minimum:         13354.1\n",
       "  Minimizer:       [254.911, 6.55033, 1457.72, …, 838.525]\n",
       "  Function calls:  3570\n",
       "  Total time:      2621.9170 s\n",
       "  Stop reason:     \n",
       "</pre>\n"
      ],
      "text/plain": [
       "\u001b[34m\u001b[1mOptimization Result\u001b[22m\u001b[39m\n",
       "\u001b[39m===================\u001b[39m\n",
       "  Iteration:       85\n",
       "  Minimum:         13354.1\n",
       "  Minimizer:       [254.911, 6.55033, 1457.72, …, 838.525]\n",
       "  Function calls:  3570\n",
       "  Total time:      2621.9170 s\n",
       "  Stop reason:     \n"
      ]
     },
     "metadata": {},
     "output_type": "display_data"
    },
    {
     "name": "stderr",
     "output_type": "stream",
     "text": [
      "\u001b[36m\u001b[1m[ \u001b[22m\u001b[39m\u001b[36m\u001b[1mInfo: \u001b[22m\u001b[39mCurrent Status of ECA\n"
     ]
    },
    {
     "data": {
      "text/html": [
       "<pre>\n",
       "Optimization Result\n",
       "===================\n",
       "  Iteration:       86\n",
       "  Minimum:         13354.1\n",
       "  Minimizer:       [254.911, 6.55033, 1457.72, …, 838.525]\n",
       "  Function calls:  3612\n",
       "  Total time:      2651.8860 s\n",
       "  Stop reason:     \n",
       "</pre>\n"
      ],
      "text/plain": [
       "\u001b[34m\u001b[1mOptimization Result\u001b[22m\u001b[39m\n",
       "\u001b[39m===================\u001b[39m\n",
       "  Iteration:       86\n",
       "  Minimum:         13354.1\n",
       "  Minimizer:       [254.911, 6.55033, 1457.72, …, 838.525]\n",
       "  Function calls:  3612\n",
       "  Total time:      2651.8860 s\n",
       "  Stop reason:     \n"
      ]
     },
     "metadata": {},
     "output_type": "display_data"
    },
    {
     "name": "stderr",
     "output_type": "stream",
     "text": [
      "\u001b[36m\u001b[1m[ \u001b[22m\u001b[39m\u001b[36m\u001b[1mInfo: \u001b[22m\u001b[39mCurrent Status of ECA\n"
     ]
    },
    {
     "data": {
      "text/html": [
       "<pre>\n",
       "Optimization Result\n",
       "===================\n",
       "  Iteration:       87\n",
       "  Minimum:         13354.1\n",
       "  Minimizer:       [254.911, 6.55033, 1457.72, …, 838.525]\n",
       "  Function calls:  3654\n",
       "  Total time:      2681.6640 s\n",
       "  Stop reason:     \n",
       "</pre>\n"
      ],
      "text/plain": [
       "\u001b[34m\u001b[1mOptimization Result\u001b[22m\u001b[39m\n",
       "\u001b[39m===================\u001b[39m\n",
       "  Iteration:       87\n",
       "  Minimum:         13354.1\n",
       "  Minimizer:       [254.911, 6.55033, 1457.72, …, 838.525]\n",
       "  Function calls:  3654\n",
       "  Total time:      2681.6640 s\n",
       "  Stop reason:     \n"
      ]
     },
     "metadata": {},
     "output_type": "display_data"
    },
    {
     "name": "stderr",
     "output_type": "stream",
     "text": [
      "\u001b[36m\u001b[1m[ \u001b[22m\u001b[39m\u001b[36m\u001b[1mInfo: \u001b[22m\u001b[39mCurrent Status of ECA\n"
     ]
    },
    {
     "data": {
      "text/html": [
       "<pre>\n",
       "Optimization Result\n",
       "===================\n",
       "  Iteration:       88\n",
       "  Minimum:         13348\n",
       "  Minimizer:       [242.135, 6.3207, 1477.08, …, 918.231]\n",
       "  Function calls:  3696\n",
       "  Total time:      2713.4520 s\n",
       "  Stop reason:     \n",
       "</pre>\n"
      ],
      "text/plain": [
       "\u001b[34m\u001b[1mOptimization Result\u001b[22m\u001b[39m\n",
       "\u001b[39m===================\u001b[39m\n",
       "  Iteration:       88\n",
       "  Minimum:         13348\n",
       "  Minimizer:       [242.135, 6.3207, 1477.08, …, 918.231]\n",
       "  Function calls:  3696\n",
       "  Total time:      2713.4520 s\n",
       "  Stop reason:     \n"
      ]
     },
     "metadata": {},
     "output_type": "display_data"
    },
    {
     "name": "stderr",
     "output_type": "stream",
     "text": [
      "\u001b[36m\u001b[1m[ \u001b[22m\u001b[39m\u001b[36m\u001b[1mInfo: \u001b[22m\u001b[39mCurrent Status of ECA\n"
     ]
    },
    {
     "data": {
      "text/html": [
       "<pre>\n",
       "Optimization Result\n",
       "===================\n",
       "  Iteration:       89\n",
       "  Minimum:         13348\n",
       "  Minimizer:       [242.135, 6.3207, 1477.08, …, 918.231]\n",
       "  Function calls:  3738\n",
       "  Total time:      2743.0960 s\n",
       "  Stop reason:     \n",
       "</pre>\n"
      ],
      "text/plain": [
       "\u001b[34m\u001b[1mOptimization Result\u001b[22m\u001b[39m\n",
       "\u001b[39m===================\u001b[39m\n",
       "  Iteration:       89\n",
       "  Minimum:         13348\n",
       "  Minimizer:       [242.135, 6.3207, 1477.08, …, 918.231]\n",
       "  Function calls:  3738\n",
       "  Total time:      2743.0960 s\n",
       "  Stop reason:     \n"
      ]
     },
     "metadata": {},
     "output_type": "display_data"
    },
    {
     "name": "stderr",
     "output_type": "stream",
     "text": [
      "\u001b[36m\u001b[1m[ \u001b[22m\u001b[39m\u001b[36m\u001b[1mInfo: \u001b[22m\u001b[39mCurrent Status of ECA\n"
     ]
    },
    {
     "data": {
      "text/html": [
       "<pre>\n",
       "Optimization Result\n",
       "===================\n",
       "  Iteration:       90\n",
       "  Minimum:         13348\n",
       "  Minimizer:       [242.135, 6.3207, 1477.08, …, 918.231]\n",
       "  Function calls:  3780\n",
       "  Total time:      2772.8140 s\n",
       "  Stop reason:     \n",
       "</pre>\n"
      ],
      "text/plain": [
       "\u001b[34m\u001b[1mOptimization Result\u001b[22m\u001b[39m\n",
       "\u001b[39m===================\u001b[39m\n",
       "  Iteration:       90\n",
       "  Minimum:         13348\n",
       "  Minimizer:       [242.135, 6.3207, 1477.08, …, 918.231]\n",
       "  Function calls:  3780\n",
       "  Total time:      2772.8140 s\n",
       "  Stop reason:     \n"
      ]
     },
     "metadata": {},
     "output_type": "display_data"
    },
    {
     "name": "stderr",
     "output_type": "stream",
     "text": [
      "\u001b[36m\u001b[1m[ \u001b[22m\u001b[39m\u001b[36m\u001b[1mInfo: \u001b[22m\u001b[39mCurrent Status of ECA\n"
     ]
    },
    {
     "data": {
      "text/html": [
       "<pre>\n",
       "Optimization Result\n",
       "===================\n",
       "  Iteration:       91\n",
       "  Minimum:         13343.4\n",
       "  Minimizer:       [252.683, 6.40171, 1510.41, …, 649.869]\n",
       "  Function calls:  3822\n",
       "  Total time:      2802.1950 s\n",
       "  Stop reason:     \n",
       "</pre>\n"
      ],
      "text/plain": [
       "\u001b[34m\u001b[1mOptimization Result\u001b[22m\u001b[39m\n",
       "\u001b[39m===================\u001b[39m\n",
       "  Iteration:       91\n",
       "  Minimum:         13343.4\n",
       "  Minimizer:       [252.683, 6.40171, 1510.41, …, 649.869]\n",
       "  Function calls:  3822\n",
       "  Total time:      2802.1950 s\n",
       "  Stop reason:     \n"
      ]
     },
     "metadata": {},
     "output_type": "display_data"
    },
    {
     "name": "stderr",
     "output_type": "stream",
     "text": [
      "\u001b[36m\u001b[1m[ \u001b[22m\u001b[39m\u001b[36m\u001b[1mInfo: \u001b[22m\u001b[39mCurrent Status of ECA\n"
     ]
    },
    {
     "data": {
      "text/html": [
       "<pre>\n",
       "Optimization Result\n",
       "===================\n",
       "  Iteration:       92\n",
       "  Minimum:         13339.3\n",
       "  Minimizer:       [248.61, 6.41744, 1541.67, …, 774.821]\n",
       "  Function calls:  3864\n",
       "  Total time:      2832.2080 s\n",
       "  Stop reason:     \n",
       "</pre>\n"
      ],
      "text/plain": [
       "\u001b[34m\u001b[1mOptimization Result\u001b[22m\u001b[39m\n",
       "\u001b[39m===================\u001b[39m\n",
       "  Iteration:       92\n",
       "  Minimum:         13339.3\n",
       "  Minimizer:       [248.61, 6.41744, 1541.67, …, 774.821]\n",
       "  Function calls:  3864\n",
       "  Total time:      2832.2080 s\n",
       "  Stop reason:     \n"
      ]
     },
     "metadata": {},
     "output_type": "display_data"
    },
    {
     "name": "stderr",
     "output_type": "stream",
     "text": [
      "\u001b[36m\u001b[1m[ \u001b[22m\u001b[39m\u001b[36m\u001b[1mInfo: \u001b[22m\u001b[39mCurrent Status of ECA\n"
     ]
    },
    {
     "data": {
      "text/html": [
       "<pre>\n",
       "Optimization Result\n",
       "===================\n",
       "  Iteration:       93\n",
       "  Minimum:         13339\n",
       "  Minimizer:       [246.485, 6.3727, 1542.85, …, 780.332]\n",
       "  Function calls:  3906\n",
       "  Total time:      2862.0220 s\n",
       "  Stop reason:     \n",
       "</pre>\n"
      ],
      "text/plain": [
       "\u001b[34m\u001b[1mOptimization Result\u001b[22m\u001b[39m\n",
       "\u001b[39m===================\u001b[39m\n",
       "  Iteration:       93\n",
       "  Minimum:         13339\n",
       "  Minimizer:       [246.485, 6.3727, 1542.85, …, 780.332]\n",
       "  Function calls:  3906\n",
       "  Total time:      2862.0220 s\n",
       "  Stop reason:     \n"
      ]
     },
     "metadata": {},
     "output_type": "display_data"
    },
    {
     "name": "stderr",
     "output_type": "stream",
     "text": [
      "\u001b[36m\u001b[1m[ \u001b[22m\u001b[39m\u001b[36m\u001b[1mInfo: \u001b[22m\u001b[39mCurrent Status of ECA\n"
     ]
    },
    {
     "data": {
      "text/html": [
       "<pre>\n",
       "Optimization Result\n",
       "===================\n",
       "  Iteration:       94\n",
       "  Minimum:         13339\n",
       "  Minimizer:       [246.485, 6.3727, 1542.85, …, 780.332]\n",
       "  Function calls:  3948\n",
       "  Total time:      2894.0360 s\n",
       "  Stop reason:     \n",
       "</pre>\n"
      ],
      "text/plain": [
       "\u001b[34m\u001b[1mOptimization Result\u001b[22m\u001b[39m\n",
       "\u001b[39m===================\u001b[39m\n",
       "  Iteration:       94\n",
       "  Minimum:         13339\n",
       "  Minimizer:       [246.485, 6.3727, 1542.85, …, 780.332]\n",
       "  Function calls:  3948\n",
       "  Total time:      2894.0360 s\n",
       "  Stop reason:     \n"
      ]
     },
     "metadata": {},
     "output_type": "display_data"
    },
    {
     "name": "stderr",
     "output_type": "stream",
     "text": [
      "\u001b[36m\u001b[1m[ \u001b[22m\u001b[39m\u001b[36m\u001b[1mInfo: \u001b[22m\u001b[39mCurrent Status of ECA\n"
     ]
    },
    {
     "data": {
      "text/html": [
       "<pre>\n",
       "Optimization Result\n",
       "===================\n",
       "  Iteration:       95\n",
       "  Minimum:         13339\n",
       "  Minimizer:       [246.485, 6.3727, 1542.85, …, 780.332]\n",
       "  Function calls:  3990\n",
       "  Total time:      2923.8610 s\n",
       "  Stop reason:     \n",
       "</pre>\n"
      ],
      "text/plain": [
       "\u001b[34m\u001b[1mOptimization Result\u001b[22m\u001b[39m\n",
       "\u001b[39m===================\u001b[39m\n",
       "  Iteration:       95\n",
       "  Minimum:         13339\n",
       "  Minimizer:       [246.485, 6.3727, 1542.85, …, 780.332]\n",
       "  Function calls:  3990\n",
       "  Total time:      2923.8610 s\n",
       "  Stop reason:     \n"
      ]
     },
     "metadata": {},
     "output_type": "display_data"
    },
    {
     "name": "stderr",
     "output_type": "stream",
     "text": [
      "\u001b[36m\u001b[1m[ \u001b[22m\u001b[39m\u001b[36m\u001b[1mInfo: \u001b[22m\u001b[39mCurrent Status of ECA\n"
     ]
    },
    {
     "data": {
      "text/html": [
       "<pre>\n",
       "Optimization Result\n",
       "===================\n",
       "  Iteration:       96\n",
       "  Minimum:         13339\n",
       "  Minimizer:       [246.485, 6.3727, 1542.85, …, 780.332]\n",
       "  Function calls:  4032\n",
       "  Total time:      2953.8510 s\n",
       "  Stop reason:     \n",
       "</pre>\n"
      ],
      "text/plain": [
       "\u001b[34m\u001b[1mOptimization Result\u001b[22m\u001b[39m\n",
       "\u001b[39m===================\u001b[39m\n",
       "  Iteration:       96\n",
       "  Minimum:         13339\n",
       "  Minimizer:       [246.485, 6.3727, 1542.85, …, 780.332]\n",
       "  Function calls:  4032\n",
       "  Total time:      2953.8510 s\n",
       "  Stop reason:     \n"
      ]
     },
     "metadata": {},
     "output_type": "display_data"
    },
    {
     "name": "stderr",
     "output_type": "stream",
     "text": [
      "\u001b[36m\u001b[1m[ \u001b[22m\u001b[39m\u001b[36m\u001b[1mInfo: \u001b[22m\u001b[39mCurrent Status of ECA\n"
     ]
    },
    {
     "data": {
      "text/html": [
       "<pre>\n",
       "Optimization Result\n",
       "===================\n",
       "  Iteration:       97\n",
       "  Minimum:         13339\n",
       "  Minimizer:       [246.485, 6.3727, 1542.85, …, 780.332]\n",
       "  Function calls:  4074\n",
       "  Total time:      2983.7930 s\n",
       "  Stop reason:     \n",
       "</pre>\n"
      ],
      "text/plain": [
       "\u001b[34m\u001b[1mOptimization Result\u001b[22m\u001b[39m\n",
       "\u001b[39m===================\u001b[39m\n",
       "  Iteration:       97\n",
       "  Minimum:         13339\n",
       "  Minimizer:       [246.485, 6.3727, 1542.85, …, 780.332]\n",
       "  Function calls:  4074\n",
       "  Total time:      2983.7930 s\n",
       "  Stop reason:     \n"
      ]
     },
     "metadata": {},
     "output_type": "display_data"
    },
    {
     "name": "stderr",
     "output_type": "stream",
     "text": [
      "\u001b[36m\u001b[1m[ \u001b[22m\u001b[39m\u001b[36m\u001b[1mInfo: \u001b[22m\u001b[39mCurrent Status of ECA\n"
     ]
    },
    {
     "data": {
      "text/html": [
       "<pre>\n",
       "Optimization Result\n",
       "===================\n",
       "  Iteration:       98\n",
       "  Minimum:         13339\n",
       "  Minimizer:       [246.485, 6.3727, 1542.85, …, 780.332]\n",
       "  Function calls:  4116\n",
       "  Total time:      3013.8580 s\n",
       "  Stop reason:     \n",
       "</pre>\n"
      ],
      "text/plain": [
       "\u001b[34m\u001b[1mOptimization Result\u001b[22m\u001b[39m\n",
       "\u001b[39m===================\u001b[39m\n",
       "  Iteration:       98\n",
       "  Minimum:         13339\n",
       "  Minimizer:       [246.485, 6.3727, 1542.85, …, 780.332]\n",
       "  Function calls:  4116\n",
       "  Total time:      3013.8580 s\n",
       "  Stop reason:     \n"
      ]
     },
     "metadata": {},
     "output_type": "display_data"
    },
    {
     "name": "stderr",
     "output_type": "stream",
     "text": [
      "\u001b[36m\u001b[1m[ \u001b[22m\u001b[39m\u001b[36m\u001b[1mInfo: \u001b[22m\u001b[39mCurrent Status of ECA\n"
     ]
    },
    {
     "data": {
      "text/html": [
       "<pre>\n",
       "Optimization Result\n",
       "===================\n",
       "  Iteration:       99\n",
       "  Minimum:         13339\n",
       "  Minimizer:       [246.485, 6.3727, 1542.85, …, 780.332]\n",
       "  Function calls:  4158\n",
       "  Total time:      3043.3100 s\n",
       "  Stop reason:     \n",
       "</pre>\n"
      ],
      "text/plain": [
       "\u001b[34m\u001b[1mOptimization Result\u001b[22m\u001b[39m\n",
       "\u001b[39m===================\u001b[39m\n",
       "  Iteration:       99\n",
       "  Minimum:         13339\n",
       "  Minimizer:       [246.485, 6.3727, 1542.85, …, 780.332]\n",
       "  Function calls:  4158\n",
       "  Total time:      3043.3100 s\n",
       "  Stop reason:     \n"
      ]
     },
     "metadata": {},
     "output_type": "display_data"
    },
    {
     "name": "stderr",
     "output_type": "stream",
     "text": [
      "\u001b[36m\u001b[1m[ \u001b[22m\u001b[39m\u001b[36m\u001b[1mInfo: \u001b[22m\u001b[39mCurrent Status of ECA\n"
     ]
    },
    {
     "data": {
      "text/html": [
       "<pre>\n",
       "Optimization Result\n",
       "===================\n",
       "  Iteration:       100\n",
       "  Minimum:         13338.8\n",
       "  Minimizer:       [241.985, 6.30697, 1525.39, …, 850.867]\n",
       "  Function calls:  4200\n",
       "  Total time:      3076.0420 s\n",
       "  Stop reason:     \n",
       "</pre>\n"
      ],
      "text/plain": [
       "\u001b[34m\u001b[1mOptimization Result\u001b[22m\u001b[39m\n",
       "\u001b[39m===================\u001b[39m\n",
       "  Iteration:       100\n",
       "  Minimum:         13338.8\n",
       "  Minimizer:       [241.985, 6.30697, 1525.39, …, 850.867]\n",
       "  Function calls:  4200\n",
       "  Total time:      3076.0420 s\n",
       "  Stop reason:     \n"
      ]
     },
     "metadata": {},
     "output_type": "display_data"
    },
    {
     "name": "stderr",
     "output_type": "stream",
     "text": [
      "\u001b[36m\u001b[1m[ \u001b[22m\u001b[39m\u001b[36m\u001b[1mInfo: \u001b[22m\u001b[39mCurrent Status of ECA\n"
     ]
    },
    {
     "data": {
      "text/html": [
       "<pre>\n",
       "Optimization Result\n",
       "===================\n",
       "  Iteration:       101\n",
       "  Minimum:         13338.1\n",
       "  Minimizer:       [244.95, 6.33726, 1530.81, …, 787.57]\n",
       "  Function calls:  4242\n",
       "  Total time:      3105.8740 s\n",
       "  Stop reason:     \n",
       "</pre>\n"
      ],
      "text/plain": [
       "\u001b[34m\u001b[1mOptimization Result\u001b[22m\u001b[39m\n",
       "\u001b[39m===================\u001b[39m\n",
       "  Iteration:       101\n",
       "  Minimum:         13338.1\n",
       "  Minimizer:       [244.95, 6.33726, 1530.81, …, 787.57]\n",
       "  Function calls:  4242\n",
       "  Total time:      3105.8740 s\n",
       "  Stop reason:     \n"
      ]
     },
     "metadata": {},
     "output_type": "display_data"
    },
    {
     "name": "stderr",
     "output_type": "stream",
     "text": [
      "\u001b[36m\u001b[1m[ \u001b[22m\u001b[39m\u001b[36m\u001b[1mInfo: \u001b[22m\u001b[39mCurrent Status of ECA\n"
     ]
    },
    {
     "data": {
      "text/html": [
       "<pre>\n",
       "Optimization Result\n",
       "===================\n",
       "  Iteration:       102\n",
       "  Minimum:         13337.3\n",
       "  Minimizer:       [242.748, 6.3249, 1556.72, …, 812.844]\n",
       "  Function calls:  4284\n",
       "  Total time:      3136.0810 s\n",
       "  Stop reason:     \n",
       "</pre>\n"
      ],
      "text/plain": [
       "\u001b[34m\u001b[1mOptimization Result\u001b[22m\u001b[39m\n",
       "\u001b[39m===================\u001b[39m\n",
       "  Iteration:       102\n",
       "  Minimum:         13337.3\n",
       "  Minimizer:       [242.748, 6.3249, 1556.72, …, 812.844]\n",
       "  Function calls:  4284\n",
       "  Total time:      3136.0810 s\n",
       "  Stop reason:     \n"
      ]
     },
     "metadata": {},
     "output_type": "display_data"
    },
    {
     "name": "stderr",
     "output_type": "stream",
     "text": [
      "\u001b[36m\u001b[1m[ \u001b[22m\u001b[39m\u001b[36m\u001b[1mInfo: \u001b[22m\u001b[39mCurrent Status of ECA\n"
     ]
    },
    {
     "data": {
      "text/html": [
       "<pre>\n",
       "Optimization Result\n",
       "===================\n",
       "  Iteration:       103\n",
       "  Minimum:         13336.8\n",
       "  Minimizer:       [232.111, 6.18793, 1551.12, …, 974.18]\n",
       "  Function calls:  4326\n",
       "  Total time:      3166.5570 s\n",
       "  Stop reason:     \n",
       "</pre>\n"
      ],
      "text/plain": [
       "\u001b[34m\u001b[1mOptimization Result\u001b[22m\u001b[39m\n",
       "\u001b[39m===================\u001b[39m\n",
       "  Iteration:       103\n",
       "  Minimum:         13336.8\n",
       "  Minimizer:       [232.111, 6.18793, 1551.12, …, 974.18]\n",
       "  Function calls:  4326\n",
       "  Total time:      3166.5570 s\n",
       "  Stop reason:     \n"
      ]
     },
     "metadata": {},
     "output_type": "display_data"
    },
    {
     "name": "stderr",
     "output_type": "stream",
     "text": [
      "\u001b[36m\u001b[1m[ \u001b[22m\u001b[39m\u001b[36m\u001b[1mInfo: \u001b[22m\u001b[39mCurrent Status of ECA\n"
     ]
    },
    {
     "data": {
      "text/html": [
       "<pre>\n",
       "Optimization Result\n",
       "===================\n",
       "  Iteration:       104\n",
       "  Minimum:         13336.8\n",
       "  Minimizer:       [232.111, 6.18793, 1551.12, …, 974.18]\n",
       "  Function calls:  4368\n",
       "  Total time:      3196.5080 s\n",
       "  Stop reason:     \n",
       "</pre>\n"
      ],
      "text/plain": [
       "\u001b[34m\u001b[1mOptimization Result\u001b[22m\u001b[39m\n",
       "\u001b[39m===================\u001b[39m\n",
       "  Iteration:       104\n",
       "  Minimum:         13336.8\n",
       "  Minimizer:       [232.111, 6.18793, 1551.12, …, 974.18]\n",
       "  Function calls:  4368\n",
       "  Total time:      3196.5080 s\n",
       "  Stop reason:     \n"
      ]
     },
     "metadata": {},
     "output_type": "display_data"
    },
    {
     "name": "stderr",
     "output_type": "stream",
     "text": [
      "\u001b[36m\u001b[1m[ \u001b[22m\u001b[39m\u001b[36m\u001b[1mInfo: \u001b[22m\u001b[39mCurrent Status of ECA\n"
     ]
    },
    {
     "data": {
      "text/html": [
       "<pre>\n",
       "Optimization Result\n",
       "===================\n",
       "  Iteration:       105\n",
       "  Minimum:         13336.8\n",
       "  Minimizer:       [232.111, 6.18793, 1551.12, …, 974.18]\n",
       "  Function calls:  4410\n",
       "  Total time:      3226.2760 s\n",
       "  Stop reason:     \n",
       "</pre>\n"
      ],
      "text/plain": [
       "\u001b[34m\u001b[1mOptimization Result\u001b[22m\u001b[39m\n",
       "\u001b[39m===================\u001b[39m\n",
       "  Iteration:       105\n",
       "  Minimum:         13336.8\n",
       "  Minimizer:       [232.111, 6.18793, 1551.12, …, 974.18]\n",
       "  Function calls:  4410\n",
       "  Total time:      3226.2760 s\n",
       "  Stop reason:     \n"
      ]
     },
     "metadata": {},
     "output_type": "display_data"
    },
    {
     "name": "stderr",
     "output_type": "stream",
     "text": [
      "\u001b[36m\u001b[1m[ \u001b[22m\u001b[39m\u001b[36m\u001b[1mInfo: \u001b[22m\u001b[39mCurrent Status of ECA\n"
     ]
    },
    {
     "data": {
      "text/html": [
       "<pre>\n",
       "Optimization Result\n",
       "===================\n",
       "  Iteration:       106\n",
       "  Minimum:         13336.8\n",
       "  Minimizer:       [241.078, 6.29224, 1560.34, …, 815.321]\n",
       "  Function calls:  4452\n",
       "  Total time:      3258.4830 s\n",
       "  Stop reason:     \n",
       "</pre>\n"
      ],
      "text/plain": [
       "\u001b[34m\u001b[1mOptimization Result\u001b[22m\u001b[39m\n",
       "\u001b[39m===================\u001b[39m\n",
       "  Iteration:       106\n",
       "  Minimum:         13336.8\n",
       "  Minimizer:       [241.078, 6.29224, 1560.34, …, 815.321]\n",
       "  Function calls:  4452\n",
       "  Total time:      3258.4830 s\n",
       "  Stop reason:     \n"
      ]
     },
     "metadata": {},
     "output_type": "display_data"
    },
    {
     "name": "stderr",
     "output_type": "stream",
     "text": [
      "\u001b[36m\u001b[1m[ \u001b[22m\u001b[39m\u001b[36m\u001b[1mInfo: \u001b[22m\u001b[39mCurrent Status of ECA\n"
     ]
    },
    {
     "data": {
      "text/html": [
       "<pre>\n",
       "Optimization Result\n",
       "===================\n",
       "  Iteration:       107\n",
       "  Minimum:         13335.9\n",
       "  Minimizer:       [235.434, 6.2029, 1548.76, …, 878.18]\n",
       "  Function calls:  4494\n",
       "  Total time:      3288.3520 s\n",
       "  Stop reason:     \n",
       "</pre>\n"
      ],
      "text/plain": [
       "\u001b[34m\u001b[1mOptimization Result\u001b[22m\u001b[39m\n",
       "\u001b[39m===================\u001b[39m\n",
       "  Iteration:       107\n",
       "  Minimum:         13335.9\n",
       "  Minimizer:       [235.434, 6.2029, 1548.76, …, 878.18]\n",
       "  Function calls:  4494\n",
       "  Total time:      3288.3520 s\n",
       "  Stop reason:     \n"
      ]
     },
     "metadata": {},
     "output_type": "display_data"
    },
    {
     "name": "stderr",
     "output_type": "stream",
     "text": [
      "\u001b[36m\u001b[1m[ \u001b[22m\u001b[39m\u001b[36m\u001b[1mInfo: \u001b[22m\u001b[39mCurrent Status of ECA\n"
     ]
    },
    {
     "data": {
      "text/html": [
       "<pre>\n",
       "Optimization Result\n",
       "===================\n",
       "  Iteration:       108\n",
       "  Minimum:         13335.9\n",
       "  Minimizer:       [235.434, 6.2029, 1548.76, …, 878.18]\n",
       "  Function calls:  4536\n",
       "  Total time:      3318.4110 s\n",
       "  Stop reason:     \n",
       "</pre>\n"
      ],
      "text/plain": [
       "\u001b[34m\u001b[1mOptimization Result\u001b[22m\u001b[39m\n",
       "\u001b[39m===================\u001b[39m\n",
       "  Iteration:       108\n",
       "  Minimum:         13335.9\n",
       "  Minimizer:       [235.434, 6.2029, 1548.76, …, 878.18]\n",
       "  Function calls:  4536\n",
       "  Total time:      3318.4110 s\n",
       "  Stop reason:     \n"
      ]
     },
     "metadata": {},
     "output_type": "display_data"
    },
    {
     "name": "stderr",
     "output_type": "stream",
     "text": [
      "\u001b[36m\u001b[1m[ \u001b[22m\u001b[39m\u001b[36m\u001b[1mInfo: \u001b[22m\u001b[39mCurrent Status of ECA\n"
     ]
    },
    {
     "data": {
      "text/html": [
       "<pre>\n",
       "Optimization Result\n",
       "===================\n",
       "  Iteration:       109\n",
       "  Minimum:         13335.8\n",
       "  Minimizer:       [241.832, 6.26957, 1543.74, …, 769.425]\n",
       "  Function calls:  4578\n",
       "  Total time:      3348.0390 s\n",
       "  Stop reason:     \n",
       "</pre>\n"
      ],
      "text/plain": [
       "\u001b[34m\u001b[1mOptimization Result\u001b[22m\u001b[39m\n",
       "\u001b[39m===================\u001b[39m\n",
       "  Iteration:       109\n",
       "  Minimum:         13335.8\n",
       "  Minimizer:       [241.832, 6.26957, 1543.74, …, 769.425]\n",
       "  Function calls:  4578\n",
       "  Total time:      3348.0390 s\n",
       "  Stop reason:     \n"
      ]
     },
     "metadata": {},
     "output_type": "display_data"
    },
    {
     "name": "stderr",
     "output_type": "stream",
     "text": [
      "\u001b[36m\u001b[1m[ \u001b[22m\u001b[39m\u001b[36m\u001b[1mInfo: \u001b[22m\u001b[39mCurrent Status of ECA\n"
     ]
    },
    {
     "data": {
      "text/html": [
       "<pre>\n",
       "Optimization Result\n",
       "===================\n",
       "  Iteration:       110\n",
       "  Minimum:         13335.8\n",
       "  Minimizer:       [238.567, 6.22936, 1573.04, …, 780.078]\n",
       "  Function calls:  4620\n",
       "  Total time:      3377.8090 s\n",
       "  Stop reason:     \n",
       "</pre>\n"
      ],
      "text/plain": [
       "\u001b[34m\u001b[1mOptimization Result\u001b[22m\u001b[39m\n",
       "\u001b[39m===================\u001b[39m\n",
       "  Iteration:       110\n",
       "  Minimum:         13335.8\n",
       "  Minimizer:       [238.567, 6.22936, 1573.04, …, 780.078]\n",
       "  Function calls:  4620\n",
       "  Total time:      3377.8090 s\n",
       "  Stop reason:     \n"
      ]
     },
     "metadata": {},
     "output_type": "display_data"
    },
    {
     "name": "stderr",
     "output_type": "stream",
     "text": [
      "\u001b[36m\u001b[1m[ \u001b[22m\u001b[39m\u001b[36m\u001b[1mInfo: \u001b[22m\u001b[39mCurrent Status of ECA\n"
     ]
    },
    {
     "data": {
      "text/html": [
       "<pre>\n",
       "Optimization Result\n",
       "===================\n",
       "  Iteration:       111\n",
       "  Minimum:         13335.7\n",
       "  Minimizer:       [241.956, 6.27016, 1546.84, …, 762.316]\n",
       "  Function calls:  4662\n",
       "  Total time:      3407.7360 s\n",
       "  Stop reason:     \n",
       "</pre>\n"
      ],
      "text/plain": [
       "\u001b[34m\u001b[1mOptimization Result\u001b[22m\u001b[39m\n",
       "\u001b[39m===================\u001b[39m\n",
       "  Iteration:       111\n",
       "  Minimum:         13335.7\n",
       "  Minimizer:       [241.956, 6.27016, 1546.84, …, 762.316]\n",
       "  Function calls:  4662\n",
       "  Total time:      3407.7360 s\n",
       "  Stop reason:     \n"
      ]
     },
     "metadata": {},
     "output_type": "display_data"
    },
    {
     "name": "stderr",
     "output_type": "stream",
     "text": [
      "\u001b[36m\u001b[1m[ \u001b[22m\u001b[39m\u001b[36m\u001b[1mInfo: \u001b[22m\u001b[39mCurrent Status of ECA\n"
     ]
    },
    {
     "data": {
      "text/html": [
       "<pre>\n",
       "Optimization Result\n",
       "===================\n",
       "  Iteration:       112\n",
       "  Minimum:         13335.3\n",
       "  Minimizer:       [237.956, 6.21166, 1563.38, …, 783.715]\n",
       "  Function calls:  4704\n",
       "  Total time:      3439.4110 s\n",
       "  Stop reason:     \n",
       "</pre>\n"
      ],
      "text/plain": [
       "\u001b[34m\u001b[1mOptimization Result\u001b[22m\u001b[39m\n",
       "\u001b[39m===================\u001b[39m\n",
       "  Iteration:       112\n",
       "  Minimum:         13335.3\n",
       "  Minimizer:       [237.956, 6.21166, 1563.38, …, 783.715]\n",
       "  Function calls:  4704\n",
       "  Total time:      3439.4110 s\n",
       "  Stop reason:     \n"
      ]
     },
     "metadata": {},
     "output_type": "display_data"
    },
    {
     "name": "stderr",
     "output_type": "stream",
     "text": [
      "\u001b[36m\u001b[1m[ \u001b[22m\u001b[39m\u001b[36m\u001b[1mInfo: \u001b[22m\u001b[39mCurrent Status of ECA\n"
     ]
    },
    {
     "data": {
      "text/html": [
       "<pre>\n",
       "Optimization Result\n",
       "===================\n",
       "  Iteration:       113\n",
       "  Minimum:         13335.3\n",
       "  Minimizer:       [237.956, 6.21166, 1563.38, …, 783.715]\n",
       "  Function calls:  4746\n",
       "  Total time:      3469.9690 s\n",
       "  Stop reason:     \n",
       "</pre>\n"
      ],
      "text/plain": [
       "\u001b[34m\u001b[1mOptimization Result\u001b[22m\u001b[39m\n",
       "\u001b[39m===================\u001b[39m\n",
       "  Iteration:       113\n",
       "  Minimum:         13335.3\n",
       "  Minimizer:       [237.956, 6.21166, 1563.38, …, 783.715]\n",
       "  Function calls:  4746\n",
       "  Total time:      3469.9690 s\n",
       "  Stop reason:     \n"
      ]
     },
     "metadata": {},
     "output_type": "display_data"
    },
    {
     "name": "stderr",
     "output_type": "stream",
     "text": [
      "\u001b[36m\u001b[1m[ \u001b[22m\u001b[39m\u001b[36m\u001b[1mInfo: \u001b[22m\u001b[39mCurrent Status of ECA\n"
     ]
    },
    {
     "data": {
      "text/html": [
       "<pre>\n",
       "Optimization Result\n",
       "===================\n",
       "  Iteration:       114\n",
       "  Minimum:         13334.8\n",
       "  Minimizer:       [236.478, 6.19369, 1570.24, …, 801.242]\n",
       "  Function calls:  4788\n",
       "  Total time:      3500.0440 s\n",
       "  Stop reason:     \n",
       "</pre>\n"
      ],
      "text/plain": [
       "\u001b[34m\u001b[1mOptimization Result\u001b[22m\u001b[39m\n",
       "\u001b[39m===================\u001b[39m\n",
       "  Iteration:       114\n",
       "  Minimum:         13334.8\n",
       "  Minimizer:       [236.478, 6.19369, 1570.24, …, 801.242]\n",
       "  Function calls:  4788\n",
       "  Total time:      3500.0440 s\n",
       "  Stop reason:     \n"
      ]
     },
     "metadata": {},
     "output_type": "display_data"
    },
    {
     "name": "stderr",
     "output_type": "stream",
     "text": [
      "\u001b[36m\u001b[1m[ \u001b[22m\u001b[39m\u001b[36m\u001b[1mInfo: \u001b[22m\u001b[39mCurrent Status of ECA\n"
     ]
    },
    {
     "data": {
      "text/html": [
       "<pre>\n",
       "Optimization Result\n",
       "===================\n",
       "  Iteration:       115\n",
       "  Minimum:         13334.8\n",
       "  Minimizer:       [236.478, 6.19369, 1570.24, …, 801.242]\n",
       "  Function calls:  4830\n",
       "  Total time:      3530.0370 s\n",
       "  Stop reason:     \n",
       "</pre>\n"
      ],
      "text/plain": [
       "\u001b[34m\u001b[1mOptimization Result\u001b[22m\u001b[39m\n",
       "\u001b[39m===================\u001b[39m\n",
       "  Iteration:       115\n",
       "  Minimum:         13334.8\n",
       "  Minimizer:       [236.478, 6.19369, 1570.24, …, 801.242]\n",
       "  Function calls:  4830\n",
       "  Total time:      3530.0370 s\n",
       "  Stop reason:     \n"
      ]
     },
     "metadata": {},
     "output_type": "display_data"
    },
    {
     "name": "stderr",
     "output_type": "stream",
     "text": [
      "\u001b[36m\u001b[1m[ \u001b[22m\u001b[39m\u001b[36m\u001b[1mInfo: \u001b[22m\u001b[39mCurrent Status of ECA\n"
     ]
    },
    {
     "data": {
      "text/html": [
       "<pre>\n",
       "Optimization Result\n",
       "===================\n",
       "  Iteration:       116\n",
       "  Minimum:         13334.6\n",
       "  Minimizer:       [232.113, 6.14331, 1575.03, …, 864.785]\n",
       "  Function calls:  4872\n",
       "  Total time:      3559.9400 s\n",
       "  Stop reason:     \n",
       "</pre>\n"
      ],
      "text/plain": [
       "\u001b[34m\u001b[1mOptimization Result\u001b[22m\u001b[39m\n",
       "\u001b[39m===================\u001b[39m\n",
       "  Iteration:       116\n",
       "  Minimum:         13334.6\n",
       "  Minimizer:       [232.113, 6.14331, 1575.03, …, 864.785]\n",
       "  Function calls:  4872\n",
       "  Total time:      3559.9400 s\n",
       "  Stop reason:     \n"
      ]
     },
     "metadata": {},
     "output_type": "display_data"
    },
    {
     "name": "stderr",
     "output_type": "stream",
     "text": [
      "\u001b[36m\u001b[1m[ \u001b[22m\u001b[39m\u001b[36m\u001b[1mInfo: \u001b[22m\u001b[39mCurrent Status of ECA\n"
     ]
    },
    {
     "data": {
      "text/html": [
       "<pre>\n",
       "Optimization Result\n",
       "===================\n",
       "  Iteration:       117\n",
       "  Minimum:         13334.5\n",
       "  Minimizer:       [231.312, 6.12622, 1579.95, …, 857.96]\n",
       "  Function calls:  4914\n",
       "  Total time:      3589.6840 s\n",
       "  Stop reason:     \n",
       "</pre>\n"
      ],
      "text/plain": [
       "\u001b[34m\u001b[1mOptimization Result\u001b[22m\u001b[39m\n",
       "\u001b[39m===================\u001b[39m\n",
       "  Iteration:       117\n",
       "  Minimum:         13334.5\n",
       "  Minimizer:       [231.312, 6.12622, 1579.95, …, 857.96]\n",
       "  Function calls:  4914\n",
       "  Total time:      3589.6840 s\n",
       "  Stop reason:     \n"
      ]
     },
     "metadata": {},
     "output_type": "display_data"
    },
    {
     "name": "stderr",
     "output_type": "stream",
     "text": [
      "\u001b[36m\u001b[1m[ \u001b[22m\u001b[39m\u001b[36m\u001b[1mInfo: \u001b[22m\u001b[39mCurrent Status of ECA\n"
     ]
    },
    {
     "data": {
      "text/html": [
       "<pre>\n",
       "Optimization Result\n",
       "===================\n",
       "  Iteration:       118\n",
       "  Minimum:         13334.3\n",
       "  Minimizer:       [236.999, 6.18741, 1576.55, …, 762.809]\n",
       "  Function calls:  4956\n",
       "  Total time:      3621.1250 s\n",
       "  Stop reason:     \n",
       "</pre>\n"
      ],
      "text/plain": [
       "\u001b[34m\u001b[1mOptimization Result\u001b[22m\u001b[39m\n",
       "\u001b[39m===================\u001b[39m\n",
       "  Iteration:       118\n",
       "  Minimum:         13334.3\n",
       "  Minimizer:       [236.999, 6.18741, 1576.55, …, 762.809]\n",
       "  Function calls:  4956\n",
       "  Total time:      3621.1250 s\n",
       "  Stop reason:     \n"
      ]
     },
     "metadata": {},
     "output_type": "display_data"
    },
    {
     "name": "stderr",
     "output_type": "stream",
     "text": [
      "\u001b[36m\u001b[1m[ \u001b[22m\u001b[39m\u001b[36m\u001b[1mInfo: \u001b[22m\u001b[39mCurrent Status of ECA\n"
     ]
    },
    {
     "data": {
      "text/html": [
       "<pre>\n",
       "Optimization Result\n",
       "===================\n",
       "  Iteration:       119\n",
       "  Minimum:         13334.2\n",
       "  Minimizer:       [235.727, 6.14613, 1556.85, …, 760.518]\n",
       "  Function calls:  4998\n",
       "  Total time:      3650.6340 s\n",
       "  Stop reason:     \n",
       "</pre>\n"
      ],
      "text/plain": [
       "\u001b[34m\u001b[1mOptimization Result\u001b[22m\u001b[39m\n",
       "\u001b[39m===================\u001b[39m\n",
       "  Iteration:       119\n",
       "  Minimum:         13334.2\n",
       "  Minimizer:       [235.727, 6.14613, 1556.85, …, 760.518]\n",
       "  Function calls:  4998\n",
       "  Total time:      3650.6340 s\n",
       "  Stop reason:     \n"
      ]
     },
     "metadata": {},
     "output_type": "display_data"
    },
    {
     "name": "stderr",
     "output_type": "stream",
     "text": [
      "\u001b[36m\u001b[1m[ \u001b[22m\u001b[39m\u001b[36m\u001b[1mInfo: \u001b[22m\u001b[39mCurrent Status of ECA\n"
     ]
    },
    {
     "data": {
      "text/html": [
       "<pre>\n",
       "Optimization Result\n",
       "===================\n",
       "  Iteration:       120\n",
       "  Minimum:         13334.2\n",
       "  Minimizer:       [235.727, 6.14613, 1556.85, …, 760.518]\n",
       "  Function calls:  5040\n",
       "  Total time:      3680.5260 s\n",
       "  Stop reason:     \n",
       "</pre>\n"
      ],
      "text/plain": [
       "\u001b[34m\u001b[1mOptimization Result\u001b[22m\u001b[39m\n",
       "\u001b[39m===================\u001b[39m\n",
       "  Iteration:       120\n",
       "  Minimum:         13334.2\n",
       "  Minimizer:       [235.727, 6.14613, 1556.85, …, 760.518]\n",
       "  Function calls:  5040\n",
       "  Total time:      3680.5260 s\n",
       "  Stop reason:     \n"
      ]
     },
     "metadata": {},
     "output_type": "display_data"
    },
    {
     "name": "stderr",
     "output_type": "stream",
     "text": [
      "\u001b[36m\u001b[1m[ \u001b[22m\u001b[39m\u001b[36m\u001b[1mInfo: \u001b[22m\u001b[39mCurrent Status of ECA\n"
     ]
    },
    {
     "data": {
      "text/html": [
       "<pre>\n",
       "Optimization Result\n",
       "===================\n",
       "  Iteration:       121\n",
       "  Minimum:         13334\n",
       "  Minimizer:       [236.891, 6.15521, 1554.2, …, 736.632]\n",
       "  Function calls:  5082\n",
       "  Total time:      3710.4380 s\n",
       "  Stop reason:     \n",
       "</pre>\n"
      ],
      "text/plain": [
       "\u001b[34m\u001b[1mOptimization Result\u001b[22m\u001b[39m\n",
       "\u001b[39m===================\u001b[39m\n",
       "  Iteration:       121\n",
       "  Minimum:         13334\n",
       "  Minimizer:       [236.891, 6.15521, 1554.2, …, 736.632]\n",
       "  Function calls:  5082\n",
       "  Total time:      3710.4380 s\n",
       "  Stop reason:     \n"
      ]
     },
     "metadata": {},
     "output_type": "display_data"
    },
    {
     "name": "stderr",
     "output_type": "stream",
     "text": [
      "\u001b[36m\u001b[1m[ \u001b[22m\u001b[39m\u001b[36m\u001b[1mInfo: \u001b[22m\u001b[39mCurrent Status of ECA\n"
     ]
    },
    {
     "data": {
      "text/html": [
       "<pre>\n",
       "Optimization Result\n",
       "===================\n",
       "  Iteration:       122\n",
       "  Minimum:         13334\n",
       "  Minimizer:       [236.891, 6.15521, 1554.2, …, 736.632]\n",
       "  Function calls:  5124\n",
       "  Total time:      3740.5970 s\n",
       "  Stop reason:     \n",
       "</pre>\n"
      ],
      "text/plain": [
       "\u001b[34m\u001b[1mOptimization Result\u001b[22m\u001b[39m\n",
       "\u001b[39m===================\u001b[39m\n",
       "  Iteration:       122\n",
       "  Minimum:         13334\n",
       "  Minimizer:       [236.891, 6.15521, 1554.2, …, 736.632]\n",
       "  Function calls:  5124\n",
       "  Total time:      3740.5970 s\n",
       "  Stop reason:     \n"
      ]
     },
     "metadata": {},
     "output_type": "display_data"
    },
    {
     "name": "stderr",
     "output_type": "stream",
     "text": [
      "\u001b[36m\u001b[1m[ \u001b[22m\u001b[39m\u001b[36m\u001b[1mInfo: \u001b[22m\u001b[39mCurrent Status of ECA\n"
     ]
    },
    {
     "data": {
      "text/html": [
       "<pre>\n",
       "Optimization Result\n",
       "===================\n",
       "  Iteration:       123\n",
       "  Minimum:         13334\n",
       "  Minimizer:       [236.891, 6.15521, 1554.2, …, 736.632]\n",
       "  Function calls:  5166\n",
       "  Total time:      3770.4830 s\n",
       "  Stop reason:     \n",
       "</pre>\n"
      ],
      "text/plain": [
       "\u001b[34m\u001b[1mOptimization Result\u001b[22m\u001b[39m\n",
       "\u001b[39m===================\u001b[39m\n",
       "  Iteration:       123\n",
       "  Minimum:         13334\n",
       "  Minimizer:       [236.891, 6.15521, 1554.2, …, 736.632]\n",
       "  Function calls:  5166\n",
       "  Total time:      3770.4830 s\n",
       "  Stop reason:     \n"
      ]
     },
     "metadata": {},
     "output_type": "display_data"
    },
    {
     "name": "stderr",
     "output_type": "stream",
     "text": [
      "\u001b[36m\u001b[1m[ \u001b[22m\u001b[39m\u001b[36m\u001b[1mInfo: \u001b[22m\u001b[39mCurrent Status of ECA\n"
     ]
    },
    {
     "data": {
      "text/html": [
       "<pre>\n",
       "Optimization Result\n",
       "===================\n",
       "  Iteration:       124\n",
       "  Minimum:         13333.6\n",
       "  Minimizer:       [236.488, 6.14164, 1566.91, …, 714.543]\n",
       "  Function calls:  5208\n",
       "  Total time:      3802.2440 s\n",
       "  Stop reason:     \n",
       "</pre>\n"
      ],
      "text/plain": [
       "\u001b[34m\u001b[1mOptimization Result\u001b[22m\u001b[39m\n",
       "\u001b[39m===================\u001b[39m\n",
       "  Iteration:       124\n",
       "  Minimum:         13333.6\n",
       "  Minimizer:       [236.488, 6.14164, 1566.91, …, 714.543]\n",
       "  Function calls:  5208\n",
       "  Total time:      3802.2440 s\n",
       "  Stop reason:     \n"
      ]
     },
     "metadata": {},
     "output_type": "display_data"
    },
    {
     "name": "stderr",
     "output_type": "stream",
     "text": [
      "\u001b[36m\u001b[1m[ \u001b[22m\u001b[39m\u001b[36m\u001b[1mInfo: \u001b[22m\u001b[39mCurrent Status of ECA\n"
     ]
    },
    {
     "data": {
      "text/html": [
       "<pre>\n",
       "Optimization Result\n",
       "===================\n",
       "  Iteration:       125\n",
       "  Minimum:         13333.4\n",
       "  Minimizer:       [234.557, 6.1146, 1571.79, …, 730.11]\n",
       "  Function calls:  5250\n",
       "  Total time:      3832.1500 s\n",
       "  Stop reason:     \n",
       "</pre>\n"
      ],
      "text/plain": [
       "\u001b[34m\u001b[1mOptimization Result\u001b[22m\u001b[39m\n",
       "\u001b[39m===================\u001b[39m\n",
       "  Iteration:       125\n",
       "  Minimum:         13333.4\n",
       "  Minimizer:       [234.557, 6.1146, 1571.79, …, 730.11]\n",
       "  Function calls:  5250\n",
       "  Total time:      3832.1500 s\n",
       "  Stop reason:     \n"
      ]
     },
     "metadata": {},
     "output_type": "display_data"
    },
    {
     "name": "stderr",
     "output_type": "stream",
     "text": [
      "\u001b[36m\u001b[1m[ \u001b[22m\u001b[39m\u001b[36m\u001b[1mInfo: \u001b[22m\u001b[39mCurrent Status of ECA\n"
     ]
    },
    {
     "data": {
      "text/html": [
       "<pre>\n",
       "Optimization Result\n",
       "===================\n",
       "  Iteration:       126\n",
       "  Minimum:         13333.3\n",
       "  Minimizer:       [234.162, 6.1162, 1572.86, …, 746.235]\n",
       "  Function calls:  5292\n",
       "  Total time:      3862.3940 s\n",
       "  Stop reason:     \n",
       "</pre>\n"
      ],
      "text/plain": [
       "\u001b[34m\u001b[1mOptimization Result\u001b[22m\u001b[39m\n",
       "\u001b[39m===================\u001b[39m\n",
       "  Iteration:       126\n",
       "  Minimum:         13333.3\n",
       "  Minimizer:       [234.162, 6.1162, 1572.86, …, 746.235]\n",
       "  Function calls:  5292\n",
       "  Total time:      3862.3940 s\n",
       "  Stop reason:     \n"
      ]
     },
     "metadata": {},
     "output_type": "display_data"
    },
    {
     "name": "stderr",
     "output_type": "stream",
     "text": [
      "\u001b[36m\u001b[1m[ \u001b[22m\u001b[39m\u001b[36m\u001b[1mInfo: \u001b[22m\u001b[39mCurrent Status of ECA\n"
     ]
    },
    {
     "data": {
      "text/html": [
       "<pre>\n",
       "Optimization Result\n",
       "===================\n",
       "  Iteration:       127\n",
       "  Minimum:         13333.3\n",
       "  Minimizer:       [233.84, 6.10952, 1569.85, …, 746.2]\n",
       "  Function calls:  5334\n",
       "  Total time:      3892.3530 s\n",
       "  Stop reason:     \n",
       "</pre>\n"
      ],
      "text/plain": [
       "\u001b[34m\u001b[1mOptimization Result\u001b[22m\u001b[39m\n",
       "\u001b[39m===================\u001b[39m\n",
       "  Iteration:       127\n",
       "  Minimum:         13333.3\n",
       "  Minimizer:       [233.84, 6.10952, 1569.85, …, 746.2]\n",
       "  Function calls:  5334\n",
       "  Total time:      3892.3530 s\n",
       "  Stop reason:     \n"
      ]
     },
     "metadata": {},
     "output_type": "display_data"
    },
    {
     "name": "stderr",
     "output_type": "stream",
     "text": [
      "\u001b[36m\u001b[1m[ \u001b[22m\u001b[39m\u001b[36m\u001b[1mInfo: \u001b[22m\u001b[39mCurrent Status of ECA\n"
     ]
    },
    {
     "data": {
      "text/html": [
       "<pre>\n",
       "Optimization Result\n",
       "===================\n",
       "  Iteration:       128\n",
       "  Minimum:         13333.1\n",
       "  Minimizer:       [233.295, 6.10218, 1561.03, …, 764.203]\n",
       "  Function calls:  5376\n",
       "  Total time:      3922.0090 s\n",
       "  Stop reason:     \n",
       "</pre>\n"
      ],
      "text/plain": [
       "\u001b[34m\u001b[1mOptimization Result\u001b[22m\u001b[39m\n",
       "\u001b[39m===================\u001b[39m\n",
       "  Iteration:       128\n",
       "  Minimum:         13333.1\n",
       "  Minimizer:       [233.295, 6.10218, 1561.03, …, 764.203]\n",
       "  Function calls:  5376\n",
       "  Total time:      3922.0090 s\n",
       "  Stop reason:     \n"
      ]
     },
     "metadata": {},
     "output_type": "display_data"
    },
    {
     "name": "stderr",
     "output_type": "stream",
     "text": [
      "\u001b[36m\u001b[1m[ \u001b[22m\u001b[39m\u001b[36m\u001b[1mInfo: \u001b[22m\u001b[39mCurrent Status of ECA\n"
     ]
    },
    {
     "data": {
      "text/html": [
       "<pre>\n",
       "Optimization Result\n",
       "===================\n",
       "  Iteration:       129\n",
       "  Minimum:         13332.9\n",
       "  Minimizer:       [230.822, 6.0902, 1578.19, …, 812.327]\n",
       "  Function calls:  5418\n",
       "  Total time:      3951.9840 s\n",
       "  Stop reason:     \n",
       "</pre>\n"
      ],
      "text/plain": [
       "\u001b[34m\u001b[1mOptimization Result\u001b[22m\u001b[39m\n",
       "\u001b[39m===================\u001b[39m\n",
       "  Iteration:       129\n",
       "  Minimum:         13332.9\n",
       "  Minimizer:       [230.822, 6.0902, 1578.19, …, 812.327]\n",
       "  Function calls:  5418\n",
       "  Total time:      3951.9840 s\n",
       "  Stop reason:     \n"
      ]
     },
     "metadata": {},
     "output_type": "display_data"
    },
    {
     "name": "stderr",
     "output_type": "stream",
     "text": [
      "\u001b[36m\u001b[1m[ \u001b[22m\u001b[39m\u001b[36m\u001b[1mInfo: \u001b[22m\u001b[39mCurrent Status of ECA\n"
     ]
    },
    {
     "data": {
      "text/html": [
       "<pre>\n",
       "Optimization Result\n",
       "===================\n",
       "  Iteration:       130\n",
       "  Minimum:         13332.9\n",
       "  Minimizer:       [230.822, 6.0902, 1578.19, …, 812.327]\n",
       "  Function calls:  5460\n",
       "  Total time:      3983.7920 s\n",
       "  Stop reason:     \n",
       "</pre>\n"
      ],
      "text/plain": [
       "\u001b[34m\u001b[1mOptimization Result\u001b[22m\u001b[39m\n",
       "\u001b[39m===================\u001b[39m\n",
       "  Iteration:       130\n",
       "  Minimum:         13332.9\n",
       "  Minimizer:       [230.822, 6.0902, 1578.19, …, 812.327]\n",
       "  Function calls:  5460\n",
       "  Total time:      3983.7920 s\n",
       "  Stop reason:     \n"
      ]
     },
     "metadata": {},
     "output_type": "display_data"
    },
    {
     "name": "stderr",
     "output_type": "stream",
     "text": [
      "\u001b[36m\u001b[1m[ \u001b[22m\u001b[39m\u001b[36m\u001b[1mInfo: \u001b[22m\u001b[39mCurrent Status of ECA\n"
     ]
    },
    {
     "data": {
      "text/html": [
       "<pre>\n",
       "Optimization Result\n",
       "===================\n",
       "  Iteration:       131\n",
       "  Minimum:         13332.8\n",
       "  Minimizer:       [231.186, 6.06102, 1571.15, …, 754.236]\n",
       "  Function calls:  5502\n",
       "  Total time:      4013.9040 s\n",
       "  Stop reason:     \n",
       "</pre>\n"
      ],
      "text/plain": [
       "\u001b[34m\u001b[1mOptimization Result\u001b[22m\u001b[39m\n",
       "\u001b[39m===================\u001b[39m\n",
       "  Iteration:       131\n",
       "  Minimum:         13332.8\n",
       "  Minimizer:       [231.186, 6.06102, 1571.15, …, 754.236]\n",
       "  Function calls:  5502\n",
       "  Total time:      4013.9040 s\n",
       "  Stop reason:     \n"
      ]
     },
     "metadata": {},
     "output_type": "display_data"
    },
    {
     "name": "stderr",
     "output_type": "stream",
     "text": [
      "\u001b[36m\u001b[1m[ \u001b[22m\u001b[39m\u001b[36m\u001b[1mInfo: \u001b[22m\u001b[39mCurrent Status of ECA\n"
     ]
    },
    {
     "data": {
      "text/html": [
       "<pre>\n",
       "Optimization Result\n",
       "===================\n",
       "  Iteration:       132\n",
       "  Minimum:         13332.8\n",
       "  Minimizer:       [231.088, 6.06013, 1571.36, …, 755.843]\n",
       "  Function calls:  5544\n",
       "  Total time:      4043.9420 s\n",
       "  Stop reason:     \n",
       "</pre>\n"
      ],
      "text/plain": [
       "\u001b[34m\u001b[1mOptimization Result\u001b[22m\u001b[39m\n",
       "\u001b[39m===================\u001b[39m\n",
       "  Iteration:       132\n",
       "  Minimum:         13332.8\n",
       "  Minimizer:       [231.088, 6.06013, 1571.36, …, 755.843]\n",
       "  Function calls:  5544\n",
       "  Total time:      4043.9420 s\n",
       "  Stop reason:     \n"
      ]
     },
     "metadata": {},
     "output_type": "display_data"
    },
    {
     "name": "stderr",
     "output_type": "stream",
     "text": [
      "\u001b[36m\u001b[1m[ \u001b[22m\u001b[39m\u001b[36m\u001b[1mInfo: \u001b[22m\u001b[39mCurrent Status of ECA\n"
     ]
    },
    {
     "data": {
      "text/html": [
       "<pre>\n",
       "Optimization Result\n",
       "===================\n",
       "  Iteration:       133\n",
       "  Minimum:         13332.7\n",
       "  Minimizer:       [231.174, 6.0545, 1568.45, …, 744.869]\n",
       "  Function calls:  5586\n",
       "  Total time:      4073.8150 s\n",
       "  Stop reason:     \n",
       "</pre>\n"
      ],
      "text/plain": [
       "\u001b[34m\u001b[1mOptimization Result\u001b[22m\u001b[39m\n",
       "\u001b[39m===================\u001b[39m\n",
       "  Iteration:       133\n",
       "  Minimum:         13332.7\n",
       "  Minimizer:       [231.174, 6.0545, 1568.45, …, 744.869]\n",
       "  Function calls:  5586\n",
       "  Total time:      4073.8150 s\n",
       "  Stop reason:     \n"
      ]
     },
     "metadata": {},
     "output_type": "display_data"
    },
    {
     "name": "stderr",
     "output_type": "stream",
     "text": [
      "\u001b[36m\u001b[1m[ \u001b[22m\u001b[39m\u001b[36m\u001b[1mInfo: \u001b[22m\u001b[39mCurrent Status of ECA\n"
     ]
    },
    {
     "data": {
      "text/html": [
       "<pre>\n",
       "Optimization Result\n",
       "===================\n",
       "  Iteration:       134\n",
       "  Minimum:         13332.5\n",
       "  Minimizer:       [231.731, 6.05999, 1574.48, …, 726.733]\n",
       "  Function calls:  5628\n",
       "  Total time:      4103.6730 s\n",
       "  Stop reason:     \n",
       "</pre>\n"
      ],
      "text/plain": [
       "\u001b[34m\u001b[1mOptimization Result\u001b[22m\u001b[39m\n",
       "\u001b[39m===================\u001b[39m\n",
       "  Iteration:       134\n",
       "  Minimum:         13332.5\n",
       "  Minimizer:       [231.731, 6.05999, 1574.48, …, 726.733]\n",
       "  Function calls:  5628\n",
       "  Total time:      4103.6730 s\n",
       "  Stop reason:     \n"
      ]
     },
     "metadata": {},
     "output_type": "display_data"
    },
    {
     "name": "stderr",
     "output_type": "stream",
     "text": [
      "\u001b[36m\u001b[1m[ \u001b[22m\u001b[39m\u001b[36m\u001b[1mInfo: \u001b[22m\u001b[39mCurrent Status of ECA\n"
     ]
    },
    {
     "data": {
      "text/html": [
       "<pre>\n",
       "Optimization Result\n",
       "===================\n",
       "  Iteration:       135\n",
       "  Minimum:         13332.3\n",
       "  Minimizer:       [229.302, 6.00481, 1564.76, …, 726.454]\n",
       "  Function calls:  5670\n",
       "  Total time:      4133.4740 s\n",
       "  Stop reason:     \n",
       "</pre>\n"
      ],
      "text/plain": [
       "\u001b[34m\u001b[1mOptimization Result\u001b[22m\u001b[39m\n",
       "\u001b[39m===================\u001b[39m\n",
       "  Iteration:       135\n",
       "  Minimum:         13332.3\n",
       "  Minimizer:       [229.302, 6.00481, 1564.76, …, 726.454]\n",
       "  Function calls:  5670\n",
       "  Total time:      4133.4740 s\n",
       "  Stop reason:     \n"
      ]
     },
     "metadata": {},
     "output_type": "display_data"
    },
    {
     "name": "stderr",
     "output_type": "stream",
     "text": [
      "\u001b[36m\u001b[1m[ \u001b[22m\u001b[39m\u001b[36m\u001b[1mInfo: \u001b[22m\u001b[39mCurrent Status of ECA\n"
     ]
    },
    {
     "data": {
      "text/html": [
       "<pre>\n",
       "Optimization Result\n",
       "===================\n",
       "  Iteration:       136\n",
       "  Minimum:         13331.6\n",
       "  Minimizer:       [227.491, 6.00206, 1571.19, …, 780.107]\n",
       "  Function calls:  5712\n",
       "  Total time:      4164.9840 s\n",
       "  Stop reason:     \n",
       "</pre>\n"
      ],
      "text/plain": [
       "\u001b[34m\u001b[1mOptimization Result\u001b[22m\u001b[39m\n",
       "\u001b[39m===================\u001b[39m\n",
       "  Iteration:       136\n",
       "  Minimum:         13331.6\n",
       "  Minimizer:       [227.491, 6.00206, 1571.19, …, 780.107]\n",
       "  Function calls:  5712\n",
       "  Total time:      4164.9840 s\n",
       "  Stop reason:     \n"
      ]
     },
     "metadata": {},
     "output_type": "display_data"
    },
    {
     "name": "stderr",
     "output_type": "stream",
     "text": [
      "\u001b[36m\u001b[1m[ \u001b[22m\u001b[39m\u001b[36m\u001b[1mInfo: \u001b[22m\u001b[39mCurrent Status of ECA\n"
     ]
    },
    {
     "data": {
      "text/html": [
       "<pre>\n",
       "Optimization Result\n",
       "===================\n",
       "  Iteration:       137\n",
       "  Minimum:         13331.3\n",
       "  Minimizer:       [228.614, 5.99739, 1579.55, …, 720.587]\n",
       "  Function calls:  5754\n",
       "  Total time:      4194.5780 s\n",
       "  Stop reason:     \n",
       "</pre>\n"
      ],
      "text/plain": [
       "\u001b[34m\u001b[1mOptimization Result\u001b[22m\u001b[39m\n",
       "\u001b[39m===================\u001b[39m\n",
       "  Iteration:       137\n",
       "  Minimum:         13331.3\n",
       "  Minimizer:       [228.614, 5.99739, 1579.55, …, 720.587]\n",
       "  Function calls:  5754\n",
       "  Total time:      4194.5780 s\n",
       "  Stop reason:     \n"
      ]
     },
     "metadata": {},
     "output_type": "display_data"
    },
    {
     "name": "stderr",
     "output_type": "stream",
     "text": [
      "\u001b[36m\u001b[1m[ \u001b[22m\u001b[39m\u001b[36m\u001b[1mInfo: \u001b[22m\u001b[39mCurrent Status of ECA\n"
     ]
    },
    {
     "data": {
      "text/html": [
       "<pre>\n",
       "Optimization Result\n",
       "===================\n",
       "  Iteration:       138\n",
       "  Minimum:         13331.3\n",
       "  Minimizer:       [228.614, 5.99739, 1579.55, …, 720.587]\n",
       "  Function calls:  5796\n",
       "  Total time:      4600.1920 s\n",
       "  Stop reason:     \n",
       "</pre>\n"
      ],
      "text/plain": [
       "\u001b[34m\u001b[1mOptimization Result\u001b[22m\u001b[39m\n",
       "\u001b[39m===================\u001b[39m\n",
       "  Iteration:       138\n",
       "  Minimum:         13331.3\n",
       "  Minimizer:       [228.614, 5.99739, 1579.55, …, 720.587]\n",
       "  Function calls:  5796\n",
       "  Total time:      4600.1920 s\n",
       "  Stop reason:     \n"
      ]
     },
     "metadata": {},
     "output_type": "display_data"
    },
    {
     "name": "stderr",
     "output_type": "stream",
     "text": [
      "\u001b[36m\u001b[1m[ \u001b[22m\u001b[39m\u001b[36m\u001b[1mInfo: \u001b[22m\u001b[39mCurrent Status of ECA\n"
     ]
    },
    {
     "data": {
      "text/html": [
       "<pre>\n",
       "Optimization Result\n",
       "===================\n",
       "  Iteration:       139\n",
       "  Minimum:         13331.3\n",
       "  Minimizer:       [228.614, 5.99739, 1579.55, …, 720.587]\n",
       "  Function calls:  5838\n",
       "  Total time:      4630.2090 s\n",
       "  Stop reason:     \n",
       "</pre>\n"
      ],
      "text/plain": [
       "\u001b[34m\u001b[1mOptimization Result\u001b[22m\u001b[39m\n",
       "\u001b[39m===================\u001b[39m\n",
       "  Iteration:       139\n",
       "  Minimum:         13331.3\n",
       "  Minimizer:       [228.614, 5.99739, 1579.55, …, 720.587]\n",
       "  Function calls:  5838\n",
       "  Total time:      4630.2090 s\n",
       "  Stop reason:     \n"
      ]
     },
     "metadata": {},
     "output_type": "display_data"
    },
    {
     "name": "stderr",
     "output_type": "stream",
     "text": [
      "\u001b[36m\u001b[1m[ \u001b[22m\u001b[39m\u001b[36m\u001b[1mInfo: \u001b[22m\u001b[39mCurrent Status of ECA\n"
     ]
    },
    {
     "data": {
      "text/html": [
       "<pre>\n",
       "Optimization Result\n",
       "===================\n",
       "  Iteration:       140\n",
       "  Minimum:         13331.3\n",
       "  Minimizer:       [228.349, 6.00396, 1575.39, …, 747.144]\n",
       "  Function calls:  5880\n",
       "  Total time:      4660.0100 s\n",
       "  Stop reason:     \n",
       "</pre>\n"
      ],
      "text/plain": [
       "\u001b[34m\u001b[1mOptimization Result\u001b[22m\u001b[39m\n",
       "\u001b[39m===================\u001b[39m\n",
       "  Iteration:       140\n",
       "  Minimum:         13331.3\n",
       "  Minimizer:       [228.349, 6.00396, 1575.39, …, 747.144]\n",
       "  Function calls:  5880\n",
       "  Total time:      4660.0100 s\n",
       "  Stop reason:     \n"
      ]
     },
     "metadata": {},
     "output_type": "display_data"
    },
    {
     "name": "stderr",
     "output_type": "stream",
     "text": [
      "\u001b[36m\u001b[1m[ \u001b[22m\u001b[39m\u001b[36m\u001b[1mInfo: \u001b[22m\u001b[39mCurrent Status of ECA\n"
     ]
    },
    {
     "data": {
      "text/html": [
       "<pre>\n",
       "Optimization Result\n",
       "===================\n",
       "  Iteration:       141\n",
       "  Minimum:         13331.3\n",
       "  Minimizer:       [227.019, 5.97652, 1579.98, …, 739.077]\n",
       "  Function calls:  5922\n",
       "  Total time:      4692.2570 s\n",
       "  Stop reason:     \n",
       "</pre>\n"
      ],
      "text/plain": [
       "\u001b[34m\u001b[1mOptimization Result\u001b[22m\u001b[39m\n",
       "\u001b[39m===================\u001b[39m\n",
       "  Iteration:       141\n",
       "  Minimum:         13331.3\n",
       "  Minimizer:       [227.019, 5.97652, 1579.98, …, 739.077]\n",
       "  Function calls:  5922\n",
       "  Total time:      4692.2570 s\n",
       "  Stop reason:     \n"
      ]
     },
     "metadata": {},
     "output_type": "display_data"
    },
    {
     "name": "stderr",
     "output_type": "stream",
     "text": [
      "\u001b[36m\u001b[1m[ \u001b[22m\u001b[39m\u001b[36m\u001b[1mInfo: \u001b[22m\u001b[39mCurrent Status of ECA\n"
     ]
    },
    {
     "data": {
      "text/html": [
       "<pre>\n",
       "Optimization Result\n",
       "===================\n",
       "  Iteration:       142\n",
       "  Minimum:         13330.9\n",
       "  Minimizer:       [223.689, 5.93396, 1580.28, …, 781.146]\n",
       "  Function calls:  5964\n",
       "  Total time:      4722.3010 s\n",
       "  Stop reason:     \n",
       "</pre>\n"
      ],
      "text/plain": [
       "\u001b[34m\u001b[1mOptimization Result\u001b[22m\u001b[39m\n",
       "\u001b[39m===================\u001b[39m\n",
       "  Iteration:       142\n",
       "  Minimum:         13330.9\n",
       "  Minimizer:       [223.689, 5.93396, 1580.28, …, 781.146]\n",
       "  Function calls:  5964\n",
       "  Total time:      4722.3010 s\n",
       "  Stop reason:     \n"
      ]
     },
     "metadata": {},
     "output_type": "display_data"
    },
    {
     "name": "stderr",
     "output_type": "stream",
     "text": [
      "\u001b[36m\u001b[1m[ \u001b[22m\u001b[39m\u001b[36m\u001b[1mInfo: \u001b[22m\u001b[39mCurrent Status of ECA\n"
     ]
    },
    {
     "data": {
      "text/html": [
       "<pre>\n",
       "Optimization Result\n",
       "===================\n",
       "  Iteration:       143\n",
       "  Minimum:         13330.5\n",
       "  Minimizer:       [224.925, 5.93941, 1577.9, …, 747.908]\n",
       "  Function calls:  6006\n",
       "  Total time:      4752.3740 s\n",
       "  Stop reason:     \n",
       "</pre>\n"
      ],
      "text/plain": [
       "\u001b[34m\u001b[1mOptimization Result\u001b[22m\u001b[39m\n",
       "\u001b[39m===================\u001b[39m\n",
       "  Iteration:       143\n",
       "  Minimum:         13330.5\n",
       "  Minimizer:       [224.925, 5.93941, 1577.9, …, 747.908]\n",
       "  Function calls:  6006\n",
       "  Total time:      4752.3740 s\n",
       "  Stop reason:     \n"
      ]
     },
     "metadata": {},
     "output_type": "display_data"
    },
    {
     "name": "stderr",
     "output_type": "stream",
     "text": [
      "\u001b[36m\u001b[1m[ \u001b[22m\u001b[39m\u001b[36m\u001b[1mInfo: \u001b[22m\u001b[39mCurrent Status of ECA\n"
     ]
    },
    {
     "data": {
      "text/html": [
       "<pre>\n",
       "Optimization Result\n",
       "===================\n",
       "  Iteration:       144\n",
       "  Minimum:         13330.2\n",
       "  Minimizer:       [220.31, 5.87211, 1577, …, 791.776]\n",
       "  Function calls:  6048\n",
       "  Total time:      4782.3720 s\n",
       "  Stop reason:     \n",
       "</pre>\n"
      ],
      "text/plain": [
       "\u001b[34m\u001b[1mOptimization Result\u001b[22m\u001b[39m\n",
       "\u001b[39m===================\u001b[39m\n",
       "  Iteration:       144\n",
       "  Minimum:         13330.2\n",
       "  Minimizer:       [220.31, 5.87211, 1577, …, 791.776]\n",
       "  Function calls:  6048\n",
       "  Total time:      4782.3720 s\n",
       "  Stop reason:     \n"
      ]
     },
     "metadata": {},
     "output_type": "display_data"
    },
    {
     "name": "stderr",
     "output_type": "stream",
     "text": [
      "\u001b[36m\u001b[1m[ \u001b[22m\u001b[39m\u001b[36m\u001b[1mInfo: \u001b[22m\u001b[39mCurrent Status of ECA\n"
     ]
    },
    {
     "data": {
      "text/html": [
       "<pre>\n",
       "Optimization Result\n",
       "===================\n",
       "  Iteration:       145\n",
       "  Minimum:         13330.2\n",
       "  Minimizer:       [220.31, 5.87211, 1577, …, 791.776]\n",
       "  Function calls:  6090\n",
       "  Total time:      4812.3580 s\n",
       "  Stop reason:     \n",
       "</pre>\n"
      ],
      "text/plain": [
       "\u001b[34m\u001b[1mOptimization Result\u001b[22m\u001b[39m\n",
       "\u001b[39m===================\u001b[39m\n",
       "  Iteration:       145\n",
       "  Minimum:         13330.2\n",
       "  Minimizer:       [220.31, 5.87211, 1577, …, 791.776]\n",
       "  Function calls:  6090\n",
       "  Total time:      4812.3580 s\n",
       "  Stop reason:     \n"
      ]
     },
     "metadata": {},
     "output_type": "display_data"
    },
    {
     "name": "stderr",
     "output_type": "stream",
     "text": [
      "\u001b[36m\u001b[1m[ \u001b[22m\u001b[39m\u001b[36m\u001b[1mInfo: \u001b[22m\u001b[39mCurrent Status of ECA\n"
     ]
    },
    {
     "data": {
      "text/html": [
       "<pre>\n",
       "Optimization Result\n",
       "===================\n",
       "  Iteration:       146\n",
       "  Minimum:         13330\n",
       "  Minimizer:       [215.952, 5.81966, 1576.29, …, 853.637]\n",
       "  Function calls:  6132\n",
       "  Total time:      4842.3180 s\n",
       "  Stop reason:     \n",
       "</pre>\n"
      ],
      "text/plain": [
       "\u001b[34m\u001b[1mOptimization Result\u001b[22m\u001b[39m\n",
       "\u001b[39m===================\u001b[39m\n",
       "  Iteration:       146\n",
       "  Minimum:         13330\n",
       "  Minimizer:       [215.952, 5.81966, 1576.29, …, 853.637]\n",
       "  Function calls:  6132\n",
       "  Total time:      4842.3180 s\n",
       "  Stop reason:     \n"
      ]
     },
     "metadata": {},
     "output_type": "display_data"
    },
    {
     "name": "stderr",
     "output_type": "stream",
     "text": [
      "\u001b[36m\u001b[1m[ \u001b[22m\u001b[39m\u001b[36m\u001b[1mInfo: \u001b[22m\u001b[39mCurrent Status of ECA\n"
     ]
    },
    {
     "data": {
      "text/html": [
       "<pre>\n",
       "Optimization Result\n",
       "===================\n",
       "  Iteration:       147\n",
       "  Minimum:         13329.9\n",
       "  Minimizer:       [215.848, 5.81741, 1576.08, …, 853.099]\n",
       "  Function calls:  6174\n",
       "  Total time:      4874.3820 s\n",
       "  Stop reason:     \n",
       "</pre>\n"
      ],
      "text/plain": [
       "\u001b[34m\u001b[1mOptimization Result\u001b[22m\u001b[39m\n",
       "\u001b[39m===================\u001b[39m\n",
       "  Iteration:       147\n",
       "  Minimum:         13329.9\n",
       "  Minimizer:       [215.848, 5.81741, 1576.08, …, 853.099]\n",
       "  Function calls:  6174\n",
       "  Total time:      4874.3820 s\n",
       "  Stop reason:     \n"
      ]
     },
     "metadata": {},
     "output_type": "display_data"
    },
    {
     "name": "stderr",
     "output_type": "stream",
     "text": [
      "\u001b[36m\u001b[1m[ \u001b[22m\u001b[39m\u001b[36m\u001b[1mInfo: \u001b[22m\u001b[39mCurrent Status of ECA\n"
     ]
    },
    {
     "data": {
      "text/html": [
       "<pre>\n",
       "Optimization Result\n",
       "===================\n",
       "  Iteration:       148\n",
       "  Minimum:         13329.7\n",
       "  Minimizer:       [221.362, 5.8679, 1575.7, …, 743.366]\n",
       "  Function calls:  6216\n",
       "  Total time:      4904.4860 s\n",
       "  Stop reason:     \n",
       "</pre>\n"
      ],
      "text/plain": [
       "\u001b[34m\u001b[1mOptimization Result\u001b[22m\u001b[39m\n",
       "\u001b[39m===================\u001b[39m\n",
       "  Iteration:       148\n",
       "  Minimum:         13329.7\n",
       "  Minimizer:       [221.362, 5.8679, 1575.7, …, 743.366]\n",
       "  Function calls:  6216\n",
       "  Total time:      4904.4860 s\n",
       "  Stop reason:     \n"
      ]
     },
     "metadata": {},
     "output_type": "display_data"
    },
    {
     "name": "stderr",
     "output_type": "stream",
     "text": [
      "\u001b[36m\u001b[1m[ \u001b[22m\u001b[39m\u001b[36m\u001b[1mInfo: \u001b[22m\u001b[39mCurrent Status of ECA\n"
     ]
    },
    {
     "data": {
      "text/html": [
       "<pre>\n",
       "Optimization Result\n",
       "===================\n",
       "  Iteration:       149\n",
       "  Minimum:         13329.7\n",
       "  Minimizer:       [215.855, 5.81432, 1577.01, …, 845.323]\n",
       "  Function calls:  6258\n",
       "  Total time:      4934.6500 s\n",
       "  Stop reason:     \n",
       "</pre>\n"
      ],
      "text/plain": [
       "\u001b[34m\u001b[1mOptimization Result\u001b[22m\u001b[39m\n",
       "\u001b[39m===================\u001b[39m\n",
       "  Iteration:       149\n",
       "  Minimum:         13329.7\n",
       "  Minimizer:       [215.855, 5.81432, 1577.01, …, 845.323]\n",
       "  Function calls:  6258\n",
       "  Total time:      4934.6500 s\n",
       "  Stop reason:     \n"
      ]
     },
     "metadata": {},
     "output_type": "display_data"
    },
    {
     "name": "stderr",
     "output_type": "stream",
     "text": [
      "\u001b[36m\u001b[1m[ \u001b[22m\u001b[39m\u001b[36m\u001b[1mInfo: \u001b[22m\u001b[39mCurrent Status of ECA\n"
     ]
    },
    {
     "data": {
      "text/html": [
       "<pre>\n",
       "Optimization Result\n",
       "===================\n",
       "  Iteration:       150\n",
       "  Minimum:         13329.7\n",
       "  Minimizer:       [215.855, 5.81432, 1577.01, …, 845.323]\n",
       "  Function calls:  6300\n",
       "  Total time:      4964.3700 s\n",
       "  Stop reason:     \n",
       "</pre>\n"
      ],
      "text/plain": [
       "\u001b[34m\u001b[1mOptimization Result\u001b[22m\u001b[39m\n",
       "\u001b[39m===================\u001b[39m\n",
       "  Iteration:       150\n",
       "  Minimum:         13329.7\n",
       "  Minimizer:       [215.855, 5.81432, 1577.01, …, 845.323]\n",
       "  Function calls:  6300\n",
       "  Total time:      4964.3700 s\n",
       "  Stop reason:     \n"
      ]
     },
     "metadata": {},
     "output_type": "display_data"
    },
    {
     "name": "stderr",
     "output_type": "stream",
     "text": [
      "\u001b[36m\u001b[1m[ \u001b[22m\u001b[39m\u001b[36m\u001b[1mInfo: \u001b[22m\u001b[39mCurrent Status of ECA\n"
     ]
    },
    {
     "data": {
      "text/html": [
       "<pre>\n",
       "Optimization Result\n",
       "===================\n",
       "  Iteration:       151\n",
       "  Minimum:         13329.6\n",
       "  Minimizer:       [217.263, 5.82627, 1576.53, …, 814.965]\n",
       "  Function calls:  6342\n",
       "  Total time:      4994.3330 s\n",
       "  Stop reason:     \n",
       "</pre>\n"
      ],
      "text/plain": [
       "\u001b[34m\u001b[1mOptimization Result\u001b[22m\u001b[39m\n",
       "\u001b[39m===================\u001b[39m\n",
       "  Iteration:       151\n",
       "  Minimum:         13329.6\n",
       "  Minimizer:       [217.263, 5.82627, 1576.53, …, 814.965]\n",
       "  Function calls:  6342\n",
       "  Total time:      4994.3330 s\n",
       "  Stop reason:     \n"
      ]
     },
     "metadata": {},
     "output_type": "display_data"
    },
    {
     "name": "stderr",
     "output_type": "stream",
     "text": [
      "\u001b[36m\u001b[1m[ \u001b[22m\u001b[39m\u001b[36m\u001b[1mInfo: \u001b[22m\u001b[39mCurrent Status of ECA\n"
     ]
    },
    {
     "data": {
      "text/html": [
       "<pre>\n",
       "Optimization Result\n",
       "===================\n",
       "  Iteration:       152\n",
       "  Minimum:         13329.4\n",
       "  Minimizer:       [215.511, 5.79815, 1573.31, …, 828.789]\n",
       "  Function calls:  6384\n",
       "  Total time:      5024.2400 s\n",
       "  Stop reason:     \n",
       "</pre>\n"
      ],
      "text/plain": [
       "\u001b[34m\u001b[1mOptimization Result\u001b[22m\u001b[39m\n",
       "\u001b[39m===================\u001b[39m\n",
       "  Iteration:       152\n",
       "  Minimum:         13329.4\n",
       "  Minimizer:       [215.511, 5.79815, 1573.31, …, 828.789]\n",
       "  Function calls:  6384\n",
       "  Total time:      5024.2400 s\n",
       "  Stop reason:     \n"
      ]
     },
     "metadata": {},
     "output_type": "display_data"
    },
    {
     "name": "stderr",
     "output_type": "stream",
     "text": [
      "\u001b[36m\u001b[1m[ \u001b[22m\u001b[39m\u001b[36m\u001b[1mInfo: \u001b[22m\u001b[39mCurrent Status of ECA\n"
     ]
    },
    {
     "data": {
      "text/html": [
       "<pre>\n",
       "Optimization Result\n",
       "===================\n",
       "  Iteration:       153\n",
       "  Minimum:         13329.1\n",
       "  Minimizer:       [216.225, 5.79803, 1579.23, …, 793.563]\n",
       "  Function calls:  6426\n",
       "  Total time:      5056.2140 s\n",
       "  Stop reason:     \n",
       "</pre>\n"
      ],
      "text/plain": [
       "\u001b[34m\u001b[1mOptimization Result\u001b[22m\u001b[39m\n",
       "\u001b[39m===================\u001b[39m\n",
       "  Iteration:       153\n",
       "  Minimum:         13329.1\n",
       "  Minimizer:       [216.225, 5.79803, 1579.23, …, 793.563]\n",
       "  Function calls:  6426\n",
       "  Total time:      5056.2140 s\n",
       "  Stop reason:     \n"
      ]
     },
     "metadata": {},
     "output_type": "display_data"
    },
    {
     "name": "stderr",
     "output_type": "stream",
     "text": [
      "\u001b[36m\u001b[1m[ \u001b[22m\u001b[39m\u001b[36m\u001b[1mInfo: \u001b[22m\u001b[39mCurrent Status of ECA\n"
     ]
    },
    {
     "data": {
      "text/html": [
       "<pre>\n",
       "Optimization Result\n",
       "===================\n",
       "  Iteration:       154\n",
       "  Minimum:         13328.6\n",
       "  Minimizer:       [214.593, 5.75486, 1564.87, …, 783.206]\n",
       "  Function calls:  6468\n",
       "  Total time:      5086.2390 s\n",
       "  Stop reason:     \n",
       "</pre>\n"
      ],
      "text/plain": [
       "\u001b[34m\u001b[1mOptimization Result\u001b[22m\u001b[39m\n",
       "\u001b[39m===================\u001b[39m\n",
       "  Iteration:       154\n",
       "  Minimum:         13328.6\n",
       "  Minimizer:       [214.593, 5.75486, 1564.87, …, 783.206]\n",
       "  Function calls:  6468\n",
       "  Total time:      5086.2390 s\n",
       "  Stop reason:     \n"
      ]
     },
     "metadata": {},
     "output_type": "display_data"
    },
    {
     "name": "stderr",
     "output_type": "stream",
     "text": [
      "\u001b[36m\u001b[1m[ \u001b[22m\u001b[39m\u001b[36m\u001b[1mInfo: \u001b[22m\u001b[39mCurrent Status of ECA\n"
     ]
    },
    {
     "data": {
      "text/html": [
       "<pre>\n",
       "Optimization Result\n",
       "===================\n",
       "  Iteration:       155\n",
       "  Minimum:         13328.6\n",
       "  Minimizer:       [214.593, 5.75486, 1564.87, …, 783.206]\n",
       "  Function calls:  6510\n",
       "  Total time:      5116.2810 s\n",
       "  Stop reason:     \n",
       "</pre>\n"
      ],
      "text/plain": [
       "\u001b[34m\u001b[1mOptimization Result\u001b[22m\u001b[39m\n",
       "\u001b[39m===================\u001b[39m\n",
       "  Iteration:       155\n",
       "  Minimum:         13328.6\n",
       "  Minimizer:       [214.593, 5.75486, 1564.87, …, 783.206]\n",
       "  Function calls:  6510\n",
       "  Total time:      5116.2810 s\n",
       "  Stop reason:     \n"
      ]
     },
     "metadata": {},
     "output_type": "display_data"
    },
    {
     "name": "stderr",
     "output_type": "stream",
     "text": [
      "\u001b[36m\u001b[1m[ \u001b[22m\u001b[39m\u001b[36m\u001b[1mInfo: \u001b[22m\u001b[39mCurrent Status of ECA\n"
     ]
    },
    {
     "data": {
      "text/html": [
       "<pre>\n",
       "Optimization Result\n",
       "===================\n",
       "  Iteration:       156\n",
       "  Minimum:         13328.6\n",
       "  Minimizer:       [214.593, 5.75486, 1564.87, …, 783.206]\n",
       "  Function calls:  6552\n",
       "  Total time:      5146.2280 s\n",
       "  Stop reason:     \n",
       "</pre>\n"
      ],
      "text/plain": [
       "\u001b[34m\u001b[1mOptimization Result\u001b[22m\u001b[39m\n",
       "\u001b[39m===================\u001b[39m\n",
       "  Iteration:       156\n",
       "  Minimum:         13328.6\n",
       "  Minimizer:       [214.593, 5.75486, 1564.87, …, 783.206]\n",
       "  Function calls:  6552\n",
       "  Total time:      5146.2280 s\n",
       "  Stop reason:     \n"
      ]
     },
     "metadata": {},
     "output_type": "display_data"
    },
    {
     "name": "stderr",
     "output_type": "stream",
     "text": [
      "\u001b[36m\u001b[1m[ \u001b[22m\u001b[39m\u001b[36m\u001b[1mInfo: \u001b[22m\u001b[39mCurrent Status of ECA\n"
     ]
    },
    {
     "data": {
      "text/html": [
       "<pre>\n",
       "Optimization Result\n",
       "===================\n",
       "  Iteration:       157\n",
       "  Minimum:         13328.6\n",
       "  Minimizer:       [213.659, 5.73344, 1584.53, …, 751.826]\n",
       "  Function calls:  6594\n",
       "  Total time:      5176.1630 s\n",
       "  Stop reason:     \n",
       "</pre>\n"
      ],
      "text/plain": [
       "\u001b[34m\u001b[1mOptimization Result\u001b[22m\u001b[39m\n",
       "\u001b[39m===================\u001b[39m\n",
       "  Iteration:       157\n",
       "  Minimum:         13328.6\n",
       "  Minimizer:       [213.659, 5.73344, 1584.53, …, 751.826]\n",
       "  Function calls:  6594\n",
       "  Total time:      5176.1630 s\n",
       "  Stop reason:     \n"
      ]
     },
     "metadata": {},
     "output_type": "display_data"
    },
    {
     "name": "stderr",
     "output_type": "stream",
     "text": [
      "\u001b[36m\u001b[1m[ \u001b[22m\u001b[39m\u001b[36m\u001b[1mInfo: \u001b[22m\u001b[39mCurrent Status of ECA\n"
     ]
    },
    {
     "data": {
      "text/html": [
       "<pre>\n",
       "Optimization Result\n",
       "===================\n",
       "  Iteration:       158\n",
       "  Minimum:         13328.4\n",
       "  Minimizer:       [214.413, 5.72957, 1582.06, …, 716.654]\n",
       "  Function calls:  6636\n",
       "  Total time:      5206.0560 s\n",
       "  Stop reason:     \n",
       "</pre>\n"
      ],
      "text/plain": [
       "\u001b[34m\u001b[1mOptimization Result\u001b[22m\u001b[39m\n",
       "\u001b[39m===================\u001b[39m\n",
       "  Iteration:       158\n",
       "  Minimum:         13328.4\n",
       "  Minimizer:       [214.413, 5.72957, 1582.06, …, 716.654]\n",
       "  Function calls:  6636\n",
       "  Total time:      5206.0560 s\n",
       "  Stop reason:     \n"
      ]
     },
     "metadata": {},
     "output_type": "display_data"
    },
    {
     "name": "stderr",
     "output_type": "stream",
     "text": [
      "\u001b[36m\u001b[1m[ \u001b[22m\u001b[39m\u001b[36m\u001b[1mInfo: \u001b[22m\u001b[39mCurrent Status of ECA\n"
     ]
    },
    {
     "data": {
      "text/html": [
       "<pre>\n",
       "Optimization Result\n",
       "===================\n",
       "  Iteration:       159\n",
       "  Minimum:         13328.4\n",
       "  Minimizer:       [214.413, 5.72957, 1582.06, …, 716.654]\n",
       "  Function calls:  6678\n",
       "  Total time:      5237.9620 s\n",
       "  Stop reason:     \n",
       "</pre>\n"
      ],
      "text/plain": [
       "\u001b[34m\u001b[1mOptimization Result\u001b[22m\u001b[39m\n",
       "\u001b[39m===================\u001b[39m\n",
       "  Iteration:       159\n",
       "  Minimum:         13328.4\n",
       "  Minimizer:       [214.413, 5.72957, 1582.06, …, 716.654]\n",
       "  Function calls:  6678\n",
       "  Total time:      5237.9620 s\n",
       "  Stop reason:     \n"
      ]
     },
     "metadata": {},
     "output_type": "display_data"
    },
    {
     "name": "stderr",
     "output_type": "stream",
     "text": [
      "\u001b[36m\u001b[1m[ \u001b[22m\u001b[39m\u001b[36m\u001b[1mInfo: \u001b[22m\u001b[39mCurrent Status of ECA\n"
     ]
    },
    {
     "data": {
      "text/html": [
       "<pre>\n",
       "Optimization Result\n",
       "===================\n",
       "  Iteration:       160\n",
       "  Minimum:         13328.4\n",
       "  Minimizer:       [212.634, 5.72087, 1574.98, …, 776.094]\n",
       "  Function calls:  6720\n",
       "  Total time:      5267.5710 s\n",
       "  Stop reason:     \n",
       "</pre>\n"
      ],
      "text/plain": [
       "\u001b[34m\u001b[1mOptimization Result\u001b[22m\u001b[39m\n",
       "\u001b[39m===================\u001b[39m\n",
       "  Iteration:       160\n",
       "  Minimum:         13328.4\n",
       "  Minimizer:       [212.634, 5.72087, 1574.98, …, 776.094]\n",
       "  Function calls:  6720\n",
       "  Total time:      5267.5710 s\n",
       "  Stop reason:     \n"
      ]
     },
     "metadata": {},
     "output_type": "display_data"
    },
    {
     "name": "stderr",
     "output_type": "stream",
     "text": [
      "\u001b[36m\u001b[1m[ \u001b[22m\u001b[39m\u001b[36m\u001b[1mInfo: \u001b[22m\u001b[39mCurrent Status of ECA\n"
     ]
    },
    {
     "data": {
      "text/html": [
       "<pre>\n",
       "Optimization Result\n",
       "===================\n",
       "  Iteration:       161\n",
       "  Minimum:         13328.3\n",
       "  Minimizer:       [213.289, 5.7222, 1581.21, …, 745.254]\n",
       "  Function calls:  6762\n",
       "  Total time:      5297.7130 s\n",
       "  Stop reason:     \n",
       "</pre>\n"
      ],
      "text/plain": [
       "\u001b[34m\u001b[1mOptimization Result\u001b[22m\u001b[39m\n",
       "\u001b[39m===================\u001b[39m\n",
       "  Iteration:       161\n",
       "  Minimum:         13328.3\n",
       "  Minimizer:       [213.289, 5.7222, 1581.21, …, 745.254]\n",
       "  Function calls:  6762\n",
       "  Total time:      5297.7130 s\n",
       "  Stop reason:     \n"
      ]
     },
     "metadata": {},
     "output_type": "display_data"
    },
    {
     "name": "stderr",
     "output_type": "stream",
     "text": [
      "\u001b[36m\u001b[1m[ \u001b[22m\u001b[39m\u001b[36m\u001b[1mInfo: \u001b[22m\u001b[39mCurrent Status of ECA\n"
     ]
    },
    {
     "data": {
      "text/html": [
       "<pre>\n",
       "Optimization Result\n",
       "===================\n",
       "  Iteration:       162\n",
       "  Minimum:         13328.1\n",
       "  Minimizer:       [212.766, 5.70216, 1578.08, …, 726.109]\n",
       "  Function calls:  6804\n",
       "  Total time:      5327.6780 s\n",
       "  Stop reason:     \n",
       "</pre>\n"
      ],
      "text/plain": [
       "\u001b[34m\u001b[1mOptimization Result\u001b[22m\u001b[39m\n",
       "\u001b[39m===================\u001b[39m\n",
       "  Iteration:       162\n",
       "  Minimum:         13328.1\n",
       "  Minimizer:       [212.766, 5.70216, 1578.08, …, 726.109]\n",
       "  Function calls:  6804\n",
       "  Total time:      5327.6780 s\n",
       "  Stop reason:     \n"
      ]
     },
     "metadata": {},
     "output_type": "display_data"
    },
    {
     "name": "stderr",
     "output_type": "stream",
     "text": [
      "\u001b[36m\u001b[1m[ \u001b[22m\u001b[39m\u001b[36m\u001b[1mInfo: \u001b[22m\u001b[39mCurrent Status of ECA\n"
     ]
    },
    {
     "data": {
      "text/html": [
       "<pre>\n",
       "Optimization Result\n",
       "===================\n",
       "  Iteration:       163\n",
       "  Minimum:         13328\n",
       "  Minimizer:       [212.728, 5.69459, 1569.55, …, 721.006]\n",
       "  Function calls:  6846\n",
       "  Total time:      5357.6030 s\n",
       "  Stop reason:     \n",
       "</pre>\n"
      ],
      "text/plain": [
       "\u001b[34m\u001b[1mOptimization Result\u001b[22m\u001b[39m\n",
       "\u001b[39m===================\u001b[39m\n",
       "  Iteration:       163\n",
       "  Minimum:         13328\n",
       "  Minimizer:       [212.728, 5.69459, 1569.55, …, 721.006]\n",
       "  Function calls:  6846\n",
       "  Total time:      5357.6030 s\n",
       "  Stop reason:     \n"
      ]
     },
     "metadata": {},
     "output_type": "display_data"
    },
    {
     "name": "stderr",
     "output_type": "stream",
     "text": [
      "\u001b[36m\u001b[1m[ \u001b[22m\u001b[39m\u001b[36m\u001b[1mInfo: \u001b[22m\u001b[39mCurrent Status of ECA\n"
     ]
    },
    {
     "data": {
      "text/html": [
       "<pre>\n",
       "Optimization Result\n",
       "===================\n",
       "  Iteration:       164\n",
       "  Minimum:         13328\n",
       "  Minimizer:       [213.312, 5.68874, 1561.97, …, 694.731]\n",
       "  Function calls:  6888\n",
       "  Total time:      5387.4900 s\n",
       "  Stop reason:     \n",
       "</pre>\n"
      ],
      "text/plain": [
       "\u001b[34m\u001b[1mOptimization Result\u001b[22m\u001b[39m\n",
       "\u001b[39m===================\u001b[39m\n",
       "  Iteration:       164\n",
       "  Minimum:         13328\n",
       "  Minimizer:       [213.312, 5.68874, 1561.97, …, 694.731]\n",
       "  Function calls:  6888\n",
       "  Total time:      5387.4900 s\n",
       "  Stop reason:     \n"
      ]
     },
     "metadata": {},
     "output_type": "display_data"
    },
    {
     "name": "stderr",
     "output_type": "stream",
     "text": [
      "\u001b[36m\u001b[1m[ \u001b[22m\u001b[39m\u001b[36m\u001b[1mInfo: \u001b[22m\u001b[39mCurrent Status of ECA\n"
     ]
    },
    {
     "data": {
      "text/html": [
       "<pre>\n",
       "Optimization Result\n",
       "===================\n",
       "  Iteration:       165\n",
       "  Minimum:         13327.8\n",
       "  Minimizer:       [211.941, 5.67118, 1571.09, …, 699.778]\n",
       "  Function calls:  6930\n",
       "  Total time:      5419.4910 s\n",
       "  Stop reason:     \n",
       "</pre>\n"
      ],
      "text/plain": [
       "\u001b[34m\u001b[1mOptimization Result\u001b[22m\u001b[39m\n",
       "\u001b[39m===================\u001b[39m\n",
       "  Iteration:       165\n",
       "  Minimum:         13327.8\n",
       "  Minimizer:       [211.941, 5.67118, 1571.09, …, 699.778]\n",
       "  Function calls:  6930\n",
       "  Total time:      5419.4910 s\n",
       "  Stop reason:     \n"
      ]
     },
     "metadata": {},
     "output_type": "display_data"
    },
    {
     "name": "stderr",
     "output_type": "stream",
     "text": [
      "\u001b[36m\u001b[1m[ \u001b[22m\u001b[39m\u001b[36m\u001b[1mInfo: \u001b[22m\u001b[39mCurrent Status of ECA\n"
     ]
    },
    {
     "data": {
      "text/html": [
       "<pre>\n",
       "Optimization Result\n",
       "===================\n",
       "  Iteration:       166\n",
       "  Minimum:         13327.8\n",
       "  Minimizer:       [211.941, 5.67118, 1571.09, …, 699.778]\n",
       "  Function calls:  6972\n",
       "  Total time:      5449.4050 s\n",
       "  Stop reason:     \n",
       "</pre>\n"
      ],
      "text/plain": [
       "\u001b[34m\u001b[1mOptimization Result\u001b[22m\u001b[39m\n",
       "\u001b[39m===================\u001b[39m\n",
       "  Iteration:       166\n",
       "  Minimum:         13327.8\n",
       "  Minimizer:       [211.941, 5.67118, 1571.09, …, 699.778]\n",
       "  Function calls:  6972\n",
       "  Total time:      5449.4050 s\n",
       "  Stop reason:     \n"
      ]
     },
     "metadata": {},
     "output_type": "display_data"
    },
    {
     "name": "stderr",
     "output_type": "stream",
     "text": [
      "\u001b[36m\u001b[1m[ \u001b[22m\u001b[39m\u001b[36m\u001b[1mInfo: \u001b[22m\u001b[39mCurrent Status of ECA\n"
     ]
    },
    {
     "data": {
      "text/html": [
       "<pre>\n",
       "Optimization Result\n",
       "===================\n",
       "  Iteration:       167\n",
       "  Minimum:         13327.8\n",
       "  Minimizer:       [211.995, 5.65391, 1565.57, …, 665.698]\n",
       "  Function calls:  7014\n",
       "  Total time:      5479.7630 s\n",
       "  Stop reason:     \n",
       "</pre>\n"
      ],
      "text/plain": [
       "\u001b[34m\u001b[1mOptimization Result\u001b[22m\u001b[39m\n",
       "\u001b[39m===================\u001b[39m\n",
       "  Iteration:       167\n",
       "  Minimum:         13327.8\n",
       "  Minimizer:       [211.995, 5.65391, 1565.57, …, 665.698]\n",
       "  Function calls:  7014\n",
       "  Total time:      5479.7630 s\n",
       "  Stop reason:     \n"
      ]
     },
     "metadata": {},
     "output_type": "display_data"
    },
    {
     "name": "stderr",
     "output_type": "stream",
     "text": [
      "\u001b[36m\u001b[1m[ \u001b[22m\u001b[39m\u001b[36m\u001b[1mInfo: \u001b[22m\u001b[39mCurrent Status of ECA\n"
     ]
    },
    {
     "data": {
      "text/html": [
       "<pre>\n",
       "Optimization Result\n",
       "===================\n",
       "  Iteration:       168\n",
       "  Minimum:         13327.7\n",
       "  Minimizer:       [210.949, 5.64591, 1576.97, …, 676.277]\n",
       "  Function calls:  7056\n",
       "  Total time:      5509.5550 s\n",
       "  Stop reason:     \n",
       "</pre>\n"
      ],
      "text/plain": [
       "\u001b[34m\u001b[1mOptimization Result\u001b[22m\u001b[39m\n",
       "\u001b[39m===================\u001b[39m\n",
       "  Iteration:       168\n",
       "  Minimum:         13327.7\n",
       "  Minimizer:       [210.949, 5.64591, 1576.97, …, 676.277]\n",
       "  Function calls:  7056\n",
       "  Total time:      5509.5550 s\n",
       "  Stop reason:     \n"
      ]
     },
     "metadata": {},
     "output_type": "display_data"
    },
    {
     "name": "stderr",
     "output_type": "stream",
     "text": [
      "\u001b[36m\u001b[1m[ \u001b[22m\u001b[39m\u001b[36m\u001b[1mInfo: \u001b[22m\u001b[39mCurrent Status of ECA\n"
     ]
    },
    {
     "data": {
      "text/html": [
       "<pre>\n",
       "Optimization Result\n",
       "===================\n",
       "  Iteration:       169\n",
       "  Minimum:         13327.7\n",
       "  Minimizer:       [210.949, 5.64591, 1576.97, …, 676.277]\n",
       "  Function calls:  7098\n",
       "  Total time:      5538.7980 s\n",
       "  Stop reason:     \n",
       "</pre>\n"
      ],
      "text/plain": [
       "\u001b[34m\u001b[1mOptimization Result\u001b[22m\u001b[39m\n",
       "\u001b[39m===================\u001b[39m\n",
       "  Iteration:       169\n",
       "  Minimum:         13327.7\n",
       "  Minimizer:       [210.949, 5.64591, 1576.97, …, 676.277]\n",
       "  Function calls:  7098\n",
       "  Total time:      5538.7980 s\n",
       "  Stop reason:     \n"
      ]
     },
     "metadata": {},
     "output_type": "display_data"
    },
    {
     "name": "stderr",
     "output_type": "stream",
     "text": [
      "\u001b[36m\u001b[1m[ \u001b[22m\u001b[39m\u001b[36m\u001b[1mInfo: \u001b[22m\u001b[39mCurrent Status of ECA\n"
     ]
    },
    {
     "data": {
      "text/html": [
       "<pre>\n",
       "Optimization Result\n",
       "===================\n",
       "  Iteration:       170\n",
       "  Minimum:         13327.7\n",
       "  Minimizer:       [210.575, 5.6485, 1565.05, …, 709.334]\n",
       "  Function calls:  7140\n",
       "  Total time:      5568.6900 s\n",
       "  Stop reason:     \n",
       "</pre>\n"
      ],
      "text/plain": [
       "\u001b[34m\u001b[1mOptimization Result\u001b[22m\u001b[39m\n",
       "\u001b[39m===================\u001b[39m\n",
       "  Iteration:       170\n",
       "  Minimum:         13327.7\n",
       "  Minimizer:       [210.575, 5.6485, 1565.05, …, 709.334]\n",
       "  Function calls:  7140\n",
       "  Total time:      5568.6900 s\n",
       "  Stop reason:     \n"
      ]
     },
     "metadata": {},
     "output_type": "display_data"
    },
    {
     "name": "stderr",
     "output_type": "stream",
     "text": [
      "\u001b[36m\u001b[1m[ \u001b[22m\u001b[39m\u001b[36m\u001b[1mInfo: \u001b[22m\u001b[39mCurrent Status of ECA\n"
     ]
    },
    {
     "data": {
      "text/html": [
       "<pre>\n",
       "Optimization Result\n",
       "===================\n",
       "  Iteration:       171\n",
       "  Minimum:         13327.5\n",
       "  Minimizer:       [210.341, 5.64028, 1576.65, …, 688.066]\n",
       "  Function calls:  7182\n",
       "  Total time:      5600.7290 s\n",
       "  Stop reason:     \n",
       "</pre>\n"
      ],
      "text/plain": [
       "\u001b[34m\u001b[1mOptimization Result\u001b[22m\u001b[39m\n",
       "\u001b[39m===================\u001b[39m\n",
       "  Iteration:       171\n",
       "  Minimum:         13327.5\n",
       "  Minimizer:       [210.341, 5.64028, 1576.65, …, 688.066]\n",
       "  Function calls:  7182\n",
       "  Total time:      5600.7290 s\n",
       "  Stop reason:     \n"
      ]
     },
     "metadata": {},
     "output_type": "display_data"
    },
    {
     "name": "stderr",
     "output_type": "stream",
     "text": [
      "\u001b[36m\u001b[1m[ \u001b[22m\u001b[39m\u001b[36m\u001b[1mInfo: \u001b[22m\u001b[39mCurrent Status of ECA\n"
     ]
    },
    {
     "data": {
      "text/html": [
       "<pre>\n",
       "Optimization Result\n",
       "===================\n",
       "  Iteration:       172\n",
       "  Minimum:         13327.5\n",
       "  Minimizer:       [210.341, 5.64028, 1576.65, …, 688.066]\n",
       "  Function calls:  7224\n",
       "  Total time:      5630.9550 s\n",
       "  Stop reason:     \n",
       "</pre>\n"
      ],
      "text/plain": [
       "\u001b[34m\u001b[1mOptimization Result\u001b[22m\u001b[39m\n",
       "\u001b[39m===================\u001b[39m\n",
       "  Iteration:       172\n",
       "  Minimum:         13327.5\n",
       "  Minimizer:       [210.341, 5.64028, 1576.65, …, 688.066]\n",
       "  Function calls:  7224\n",
       "  Total time:      5630.9550 s\n",
       "  Stop reason:     \n"
      ]
     },
     "metadata": {},
     "output_type": "display_data"
    },
    {
     "name": "stderr",
     "output_type": "stream",
     "text": [
      "\u001b[36m\u001b[1m[ \u001b[22m\u001b[39m\u001b[36m\u001b[1mInfo: \u001b[22m\u001b[39mCurrent Status of ECA\n"
     ]
    },
    {
     "data": {
      "text/html": [
       "<pre>\n",
       "Optimization Result\n",
       "===================\n",
       "  Iteration:       173\n",
       "  Minimum:         13327.5\n",
       "  Minimizer:       [210.341, 5.64028, 1576.65, …, 688.066]\n",
       "  Function calls:  7266\n",
       "  Total time:      5660.9460 s\n",
       "  Stop reason:     \n",
       "</pre>\n"
      ],
      "text/plain": [
       "\u001b[34m\u001b[1mOptimization Result\u001b[22m\u001b[39m\n",
       "\u001b[39m===================\u001b[39m\n",
       "  Iteration:       173\n",
       "  Minimum:         13327.5\n",
       "  Minimizer:       [210.341, 5.64028, 1576.65, …, 688.066]\n",
       "  Function calls:  7266\n",
       "  Total time:      5660.9460 s\n",
       "  Stop reason:     \n"
      ]
     },
     "metadata": {},
     "output_type": "display_data"
    },
    {
     "name": "stderr",
     "output_type": "stream",
     "text": [
      "\u001b[36m\u001b[1m[ \u001b[22m\u001b[39m\u001b[36m\u001b[1mInfo: \u001b[22m\u001b[39mCurrent Status of ECA\n"
     ]
    },
    {
     "data": {
      "text/html": [
       "<pre>\n",
       "Optimization Result\n",
       "===================\n",
       "  Iteration:       174\n",
       "  Minimum:         13327.5\n",
       "  Minimizer:       [209.389, 5.62864, 1572.32, …, 703.852]\n",
       "  Function calls:  7308\n",
       "  Total time:      5690.9090 s\n",
       "  Stop reason:     \n",
       "</pre>\n"
      ],
      "text/plain": [
       "\u001b[34m\u001b[1mOptimization Result\u001b[22m\u001b[39m\n",
       "\u001b[39m===================\u001b[39m\n",
       "  Iteration:       174\n",
       "  Minimum:         13327.5\n",
       "  Minimizer:       [209.389, 5.62864, 1572.32, …, 703.852]\n",
       "  Function calls:  7308\n",
       "  Total time:      5690.9090 s\n",
       "  Stop reason:     \n"
      ]
     },
     "metadata": {},
     "output_type": "display_data"
    },
    {
     "name": "stderr",
     "output_type": "stream",
     "text": [
      "\u001b[36m\u001b[1m[ \u001b[22m\u001b[39m\u001b[36m\u001b[1mInfo: \u001b[22m\u001b[39mCurrent Status of ECA\n"
     ]
    },
    {
     "data": {
      "text/html": [
       "<pre>\n",
       "Optimization Result\n",
       "===================\n",
       "  Iteration:       175\n",
       "  Minimum:         13327.3\n",
       "  Minimizer:       [208.514, 5.61603, 1572.72, …, 710.01]\n",
       "  Function calls:  7350\n",
       "  Total time:      5720.8950 s\n",
       "  Stop reason:     \n",
       "</pre>\n"
      ],
      "text/plain": [
       "\u001b[34m\u001b[1mOptimization Result\u001b[22m\u001b[39m\n",
       "\u001b[39m===================\u001b[39m\n",
       "  Iteration:       175\n",
       "  Minimum:         13327.3\n",
       "  Minimizer:       [208.514, 5.61603, 1572.72, …, 710.01]\n",
       "  Function calls:  7350\n",
       "  Total time:      5720.8950 s\n",
       "  Stop reason:     \n"
      ]
     },
     "metadata": {},
     "output_type": "display_data"
    },
    {
     "name": "stderr",
     "output_type": "stream",
     "text": [
      "\u001b[36m\u001b[1m[ \u001b[22m\u001b[39m\u001b[36m\u001b[1mInfo: \u001b[22m\u001b[39mCurrent Status of ECA\n"
     ]
    },
    {
     "data": {
      "text/html": [
       "<pre>\n",
       "Optimization Result\n",
       "===================\n",
       "  Iteration:       176\n",
       "  Minimum:         13327.3\n",
       "  Minimizer:       [204.997, 5.56802, 1572.4, …, 741.826]\n",
       "  Function calls:  7392\n",
       "  Total time:      5750.9860 s\n",
       "  Stop reason:     \n",
       "</pre>\n"
      ],
      "text/plain": [
       "\u001b[34m\u001b[1mOptimization Result\u001b[22m\u001b[39m\n",
       "\u001b[39m===================\u001b[39m\n",
       "  Iteration:       176\n",
       "  Minimum:         13327.3\n",
       "  Minimizer:       [204.997, 5.56802, 1572.4, …, 741.826]\n",
       "  Function calls:  7392\n",
       "  Total time:      5750.9860 s\n",
       "  Stop reason:     \n"
      ]
     },
     "metadata": {},
     "output_type": "display_data"
    },
    {
     "name": "stderr",
     "output_type": "stream",
     "text": [
      "\u001b[36m\u001b[1m[ \u001b[22m\u001b[39m\u001b[36m\u001b[1mInfo: \u001b[22m\u001b[39mCurrent Status of ECA\n"
     ]
    },
    {
     "data": {
      "text/html": [
       "<pre>\n",
       "Optimization Result\n",
       "===================\n",
       "  Iteration:       177\n",
       "  Minimum:         13327.3\n",
       "  Minimizer:       [204.997, 5.56802, 1572.4, …, 741.826]\n",
       "  Function calls:  7434\n",
       "  Total time:      5783.0120 s\n",
       "  Stop reason:     \n",
       "</pre>\n"
      ],
      "text/plain": [
       "\u001b[34m\u001b[1mOptimization Result\u001b[22m\u001b[39m\n",
       "\u001b[39m===================\u001b[39m\n",
       "  Iteration:       177\n",
       "  Minimum:         13327.3\n",
       "  Minimizer:       [204.997, 5.56802, 1572.4, …, 741.826]\n",
       "  Function calls:  7434\n",
       "  Total time:      5783.0120 s\n",
       "  Stop reason:     \n"
      ]
     },
     "metadata": {},
     "output_type": "display_data"
    },
    {
     "name": "stderr",
     "output_type": "stream",
     "text": [
      "\u001b[36m\u001b[1m[ \u001b[22m\u001b[39m\u001b[36m\u001b[1mInfo: \u001b[22m\u001b[39mCurrent Status of ECA\n"
     ]
    },
    {
     "data": {
      "text/html": [
       "<pre>\n",
       "Optimization Result\n",
       "===================\n",
       "  Iteration:       178\n",
       "  Minimum:         13327.2\n",
       "  Minimizer:       [202.781, 5.54294, 1574.34, …, 770.888]\n",
       "  Function calls:  7476\n",
       "  Total time:      5812.7940 s\n",
       "  Stop reason:     \n",
       "</pre>\n"
      ],
      "text/plain": [
       "\u001b[34m\u001b[1mOptimization Result\u001b[22m\u001b[39m\n",
       "\u001b[39m===================\u001b[39m\n",
       "  Iteration:       178\n",
       "  Minimum:         13327.2\n",
       "  Minimizer:       [202.781, 5.54294, 1574.34, …, 770.888]\n",
       "  Function calls:  7476\n",
       "  Total time:      5812.7940 s\n",
       "  Stop reason:     \n"
      ]
     },
     "metadata": {},
     "output_type": "display_data"
    },
    {
     "name": "stderr",
     "output_type": "stream",
     "text": [
      "\u001b[36m\u001b[1m[ \u001b[22m\u001b[39m\u001b[36m\u001b[1mInfo: \u001b[22m\u001b[39mCurrent Status of ECA\n"
     ]
    },
    {
     "data": {
      "text/html": [
       "<pre>\n",
       "Optimization Result\n",
       "===================\n",
       "  Iteration:       179\n",
       "  Minimum:         13327.1\n",
       "  Minimizer:       [203.937, 5.55113, 1580.93, …, 735.515]\n",
       "  Function calls:  7518\n",
       "  Total time:      5842.7330 s\n",
       "  Stop reason:     \n",
       "</pre>\n"
      ],
      "text/plain": [
       "\u001b[34m\u001b[1mOptimization Result\u001b[22m\u001b[39m\n",
       "\u001b[39m===================\u001b[39m\n",
       "  Iteration:       179\n",
       "  Minimum:         13327.1\n",
       "  Minimizer:       [203.937, 5.55113, 1580.93, …, 735.515]\n",
       "  Function calls:  7518\n",
       "  Total time:      5842.7330 s\n",
       "  Stop reason:     \n"
      ]
     },
     "metadata": {},
     "output_type": "display_data"
    },
    {
     "name": "stderr",
     "output_type": "stream",
     "text": [
      "\u001b[36m\u001b[1m[ \u001b[22m\u001b[39m\u001b[36m\u001b[1mInfo: \u001b[22m\u001b[39mCurrent Status of ECA\n"
     ]
    },
    {
     "data": {
      "text/html": [
       "<pre>\n",
       "Optimization Result\n",
       "===================\n",
       "  Iteration:       180\n",
       "  Minimum:         13327.1\n",
       "  Minimizer:       [203.937, 5.55113, 1580.93, …, 735.515]\n",
       "  Function calls:  7560\n",
       "  Total time:      5872.5850 s\n",
       "  Stop reason:     \n",
       "</pre>\n"
      ],
      "text/plain": [
       "\u001b[34m\u001b[1mOptimization Result\u001b[22m\u001b[39m\n",
       "\u001b[39m===================\u001b[39m\n",
       "  Iteration:       180\n",
       "  Minimum:         13327.1\n",
       "  Minimizer:       [203.937, 5.55113, 1580.93, …, 735.515]\n",
       "  Function calls:  7560\n",
       "  Total time:      5872.5850 s\n",
       "  Stop reason:     \n"
      ]
     },
     "metadata": {},
     "output_type": "display_data"
    },
    {
     "name": "stderr",
     "output_type": "stream",
     "text": [
      "\u001b[36m\u001b[1m[ \u001b[22m\u001b[39m\u001b[36m\u001b[1mInfo: \u001b[22m\u001b[39mCurrent Status of ECA\n"
     ]
    },
    {
     "data": {
      "text/html": [
       "<pre>\n",
       "Optimization Result\n",
       "===================\n",
       "  Iteration:       181\n",
       "  Minimum:         13327\n",
       "  Minimizer:       [202.309, 5.52858, 1579.85, …, 750.025]\n",
       "  Function calls:  7602\n",
       "  Total time:      5902.4780 s\n",
       "  Stop reason:     \n",
       "</pre>\n"
      ],
      "text/plain": [
       "\u001b[34m\u001b[1mOptimization Result\u001b[22m\u001b[39m\n",
       "\u001b[39m===================\u001b[39m\n",
       "  Iteration:       181\n",
       "  Minimum:         13327\n",
       "  Minimizer:       [202.309, 5.52858, 1579.85, …, 750.025]\n",
       "  Function calls:  7602\n",
       "  Total time:      5902.4780 s\n",
       "  Stop reason:     \n"
      ]
     },
     "metadata": {},
     "output_type": "display_data"
    },
    {
     "name": "stderr",
     "output_type": "stream",
     "text": [
      "\u001b[36m\u001b[1m[ \u001b[22m\u001b[39m\u001b[36m\u001b[1mInfo: \u001b[22m\u001b[39mCurrent Status of ECA\n"
     ]
    },
    {
     "data": {
      "text/html": [
       "<pre>\n",
       "Optimization Result\n",
       "===================\n",
       "  Iteration:       182\n",
       "  Minimum:         13327\n",
       "  Minimizer:       [201.354, 5.51911, 1583.12, …, 763.439]\n",
       "  Function calls:  7644\n",
       "  Total time:      5932.4080 s\n",
       "  Stop reason:     \n",
       "</pre>\n"
      ],
      "text/plain": [
       "\u001b[34m\u001b[1mOptimization Result\u001b[22m\u001b[39m\n",
       "\u001b[39m===================\u001b[39m\n",
       "  Iteration:       182\n",
       "  Minimum:         13327\n",
       "  Minimizer:       [201.354, 5.51911, 1583.12, …, 763.439]\n",
       "  Function calls:  7644\n",
       "  Total time:      5932.4080 s\n",
       "  Stop reason:     \n"
      ]
     },
     "metadata": {},
     "output_type": "display_data"
    },
    {
     "name": "stderr",
     "output_type": "stream",
     "text": [
      "\u001b[36m\u001b[1m[ \u001b[22m\u001b[39m\u001b[36m\u001b[1mInfo: \u001b[22m\u001b[39mCurrent Status of ECA\n"
     ]
    },
    {
     "data": {
      "text/html": [
       "<pre>\n",
       "Optimization Result\n",
       "===================\n",
       "  Iteration:       183\n",
       "  Minimum:         13326.9\n",
       "  Minimizer:       [203.01, 5.54182, 1582.25, …, 749.959]\n",
       "  Function calls:  7686\n",
       "  Total time:      5964.2100 s\n",
       "  Stop reason:     \n",
       "</pre>\n"
      ],
      "text/plain": [
       "\u001b[34m\u001b[1mOptimization Result\u001b[22m\u001b[39m\n",
       "\u001b[39m===================\u001b[39m\n",
       "  Iteration:       183\n",
       "  Minimum:         13326.9\n",
       "  Minimizer:       [203.01, 5.54182, 1582.25, …, 749.959]\n",
       "  Function calls:  7686\n",
       "  Total time:      5964.2100 s\n",
       "  Stop reason:     \n"
      ]
     },
     "metadata": {},
     "output_type": "display_data"
    },
    {
     "name": "stderr",
     "output_type": "stream",
     "text": [
      "\u001b[36m\u001b[1m[ \u001b[22m\u001b[39m\u001b[36m\u001b[1mInfo: \u001b[22m\u001b[39mCurrent Status of ECA\n"
     ]
    },
    {
     "data": {
      "text/html": [
       "<pre>\n",
       "Optimization Result\n",
       "===================\n",
       "  Iteration:       184\n",
       "  Minimum:         13326.9\n",
       "  Minimizer:       [203.366, 5.54609, 1574.44, …, 754.702]\n",
       "  Function calls:  7728\n",
       "  Total time:      5994.1520 s\n",
       "  Stop reason:     \n",
       "</pre>\n"
      ],
      "text/plain": [
       "\u001b[34m\u001b[1mOptimization Result\u001b[22m\u001b[39m\n",
       "\u001b[39m===================\u001b[39m\n",
       "  Iteration:       184\n",
       "  Minimum:         13326.9\n",
       "  Minimizer:       [203.366, 5.54609, 1574.44, …, 754.702]\n",
       "  Function calls:  7728\n",
       "  Total time:      5994.1520 s\n",
       "  Stop reason:     \n"
      ]
     },
     "metadata": {},
     "output_type": "display_data"
    },
    {
     "name": "stderr",
     "output_type": "stream",
     "text": [
      "\u001b[36m\u001b[1m[ \u001b[22m\u001b[39m\u001b[36m\u001b[1mInfo: \u001b[22m\u001b[39mCurrent Status of ECA\n"
     ]
    },
    {
     "data": {
      "text/html": [
       "<pre>\n",
       "Optimization Result\n",
       "===================\n",
       "  Iteration:       185\n",
       "  Minimum:         13326.9\n",
       "  Minimizer:       [203.225, 5.54469, 1573.97, …, 757.739]\n",
       "  Function calls:  7770\n",
       "  Total time:      6024.1270 s\n",
       "  Stop reason:     \n",
       "</pre>\n"
      ],
      "text/plain": [
       "\u001b[34m\u001b[1mOptimization Result\u001b[22m\u001b[39m\n",
       "\u001b[39m===================\u001b[39m\n",
       "  Iteration:       185\n",
       "  Minimum:         13326.9\n",
       "  Minimizer:       [203.225, 5.54469, 1573.97, …, 757.739]\n",
       "  Function calls:  7770\n",
       "  Total time:      6024.1270 s\n",
       "  Stop reason:     \n"
      ]
     },
     "metadata": {},
     "output_type": "display_data"
    },
    {
     "name": "stderr",
     "output_type": "stream",
     "text": [
      "\u001b[36m\u001b[1m[ \u001b[22m\u001b[39m\u001b[36m\u001b[1mInfo: \u001b[22m\u001b[39mCurrent Status of ECA\n"
     ]
    },
    {
     "data": {
      "text/html": [
       "<pre>\n",
       "Optimization Result\n",
       "===================\n",
       "  Iteration:       186\n",
       "  Minimum:         13326.8\n",
       "  Minimizer:       [202.502, 5.52807, 1581.86, …, 739.167]\n",
       "  Function calls:  7812\n",
       "  Total time:      6054.0350 s\n",
       "  Stop reason:     \n",
       "</pre>\n"
      ],
      "text/plain": [
       "\u001b[34m\u001b[1mOptimization Result\u001b[22m\u001b[39m\n",
       "\u001b[39m===================\u001b[39m\n",
       "  Iteration:       186\n",
       "  Minimum:         13326.8\n",
       "  Minimizer:       [202.502, 5.52807, 1581.86, …, 739.167]\n",
       "  Function calls:  7812\n",
       "  Total time:      6054.0350 s\n",
       "  Stop reason:     \n"
      ]
     },
     "metadata": {},
     "output_type": "display_data"
    },
    {
     "name": "stderr",
     "output_type": "stream",
     "text": [
      "\u001b[36m\u001b[1m[ \u001b[22m\u001b[39m\u001b[36m\u001b[1mInfo: \u001b[22m\u001b[39mCurrent Status of ECA\n"
     ]
    },
    {
     "data": {
      "text/html": [
       "<pre>\n",
       "Optimization Result\n",
       "===================\n",
       "  Iteration:       187\n",
       "  Minimum:         13326.8\n",
       "  Minimizer:       [200.413, 5.50248, 1573.68, …, 773.366]\n",
       "  Function calls:  7854\n",
       "  Total time:      6083.5830 s\n",
       "  Stop reason:     \n",
       "</pre>\n"
      ],
      "text/plain": [
       "\u001b[34m\u001b[1mOptimization Result\u001b[22m\u001b[39m\n",
       "\u001b[39m===================\u001b[39m\n",
       "  Iteration:       187\n",
       "  Minimum:         13326.8\n",
       "  Minimizer:       [200.413, 5.50248, 1573.68, …, 773.366]\n",
       "  Function calls:  7854\n",
       "  Total time:      6083.5830 s\n",
       "  Stop reason:     \n"
      ]
     },
     "metadata": {},
     "output_type": "display_data"
    },
    {
     "name": "stderr",
     "output_type": "stream",
     "text": [
      "\u001b[36m\u001b[1m[ \u001b[22m\u001b[39m\u001b[36m\u001b[1mInfo: \u001b[22m\u001b[39mCurrent Status of ECA\n"
     ]
    },
    {
     "data": {
      "text/html": [
       "<pre>\n",
       "Optimization Result\n",
       "===================\n",
       "  Iteration:       188\n",
       "  Minimum:         13326.8\n",
       "  Minimizer:       [200.695, 5.50558, 1572.48, …, 770.501]\n",
       "  Function calls:  7896\n",
       "  Total time:      6113.7730 s\n",
       "  Stop reason:     \n",
       "</pre>\n"
      ],
      "text/plain": [
       "\u001b[34m\u001b[1mOptimization Result\u001b[22m\u001b[39m\n",
       "\u001b[39m===================\u001b[39m\n",
       "  Iteration:       188\n",
       "  Minimum:         13326.8\n",
       "  Minimizer:       [200.695, 5.50558, 1572.48, …, 770.501]\n",
       "  Function calls:  7896\n",
       "  Total time:      6113.7730 s\n",
       "  Stop reason:     \n"
      ]
     },
     "metadata": {},
     "output_type": "display_data"
    },
    {
     "name": "stderr",
     "output_type": "stream",
     "text": [
      "\u001b[36m\u001b[1m[ \u001b[22m\u001b[39m\u001b[36m\u001b[1mInfo: \u001b[22m\u001b[39mCurrent Status of ECA\n"
     ]
    },
    {
     "data": {
      "text/html": [
       "<pre>\n",
       "Optimization Result\n",
       "===================\n",
       "  Iteration:       189\n",
       "  Minimum:         13326.7\n",
       "  Minimizer:       [201.75, 5.50979, 1568.62, …, 741.779]\n",
       "  Function calls:  7938\n",
       "  Total time:      6145.8740 s\n",
       "  Stop reason:     \n",
       "</pre>\n"
      ],
      "text/plain": [
       "\u001b[34m\u001b[1mOptimization Result\u001b[22m\u001b[39m\n",
       "\u001b[39m===================\u001b[39m\n",
       "  Iteration:       189\n",
       "  Minimum:         13326.7\n",
       "  Minimizer:       [201.75, 5.50979, 1568.62, …, 741.779]\n",
       "  Function calls:  7938\n",
       "  Total time:      6145.8740 s\n",
       "  Stop reason:     \n"
      ]
     },
     "metadata": {},
     "output_type": "display_data"
    },
    {
     "name": "stderr",
     "output_type": "stream",
     "text": [
      "\u001b[36m\u001b[1m[ \u001b[22m\u001b[39m\u001b[36m\u001b[1mInfo: \u001b[22m\u001b[39mCurrent Status of ECA\n"
     ]
    },
    {
     "data": {
      "text/html": [
       "<pre>\n",
       "Optimization Result\n",
       "===================\n",
       "  Iteration:       190\n",
       "  Minimum:         13326.6\n",
       "  Minimizer:       [201.551, 5.50186, 1569.08, …, 730.368]\n",
       "  Function calls:  7980\n",
       "  Total time:      6176.1430 s\n",
       "  Stop reason:     \n",
       "</pre>\n"
      ],
      "text/plain": [
       "\u001b[34m\u001b[1mOptimization Result\u001b[22m\u001b[39m\n",
       "\u001b[39m===================\u001b[39m\n",
       "  Iteration:       190\n",
       "  Minimum:         13326.6\n",
       "  Minimizer:       [201.551, 5.50186, 1569.08, …, 730.368]\n",
       "  Function calls:  7980\n",
       "  Total time:      6176.1430 s\n",
       "  Stop reason:     \n"
      ]
     },
     "metadata": {},
     "output_type": "display_data"
    },
    {
     "name": "stderr",
     "output_type": "stream",
     "text": [
      "\u001b[36m\u001b[1m[ \u001b[22m\u001b[39m\u001b[36m\u001b[1mInfo: \u001b[22m\u001b[39mCurrent Status of ECA\n"
     ]
    },
    {
     "data": {
      "text/html": [
       "<pre>\n",
       "Optimization Result\n",
       "===================\n",
       "  Iteration:       191\n",
       "  Minimum:         13326.6\n",
       "  Minimizer:       [201.551, 5.50186, 1569.08, …, 730.368]\n",
       "  Function calls:  8022\n",
       "  Total time:      6206.0510 s\n",
       "  Stop reason:     \n",
       "</pre>\n"
      ],
      "text/plain": [
       "\u001b[34m\u001b[1mOptimization Result\u001b[22m\u001b[39m\n",
       "\u001b[39m===================\u001b[39m\n",
       "  Iteration:       191\n",
       "  Minimum:         13326.6\n",
       "  Minimizer:       [201.551, 5.50186, 1569.08, …, 730.368]\n",
       "  Function calls:  8022\n",
       "  Total time:      6206.0510 s\n",
       "  Stop reason:     \n"
      ]
     },
     "metadata": {},
     "output_type": "display_data"
    },
    {
     "name": "stderr",
     "output_type": "stream",
     "text": [
      "\u001b[36m\u001b[1m[ \u001b[22m\u001b[39m\u001b[36m\u001b[1mInfo: \u001b[22m\u001b[39mCurrent Status of ECA\n"
     ]
    },
    {
     "data": {
      "text/html": [
       "<pre>\n",
       "Optimization Result\n",
       "===================\n",
       "  Iteration:       192\n",
       "  Minimum:         13326.6\n",
       "  Minimizer:       [201.551, 5.50186, 1569.08, …, 730.368]\n",
       "  Function calls:  8064\n",
       "  Total time:      6235.8830 s\n",
       "  Stop reason:     \n",
       "</pre>\n"
      ],
      "text/plain": [
       "\u001b[34m\u001b[1mOptimization Result\u001b[22m\u001b[39m\n",
       "\u001b[39m===================\u001b[39m\n",
       "  Iteration:       192\n",
       "  Minimum:         13326.6\n",
       "  Minimizer:       [201.551, 5.50186, 1569.08, …, 730.368]\n",
       "  Function calls:  8064\n",
       "  Total time:      6235.8830 s\n",
       "  Stop reason:     \n"
      ]
     },
     "metadata": {},
     "output_type": "display_data"
    },
    {
     "name": "stderr",
     "output_type": "stream",
     "text": [
      "\u001b[36m\u001b[1m[ \u001b[22m\u001b[39m\u001b[36m\u001b[1mInfo: \u001b[22m\u001b[39mCurrent Status of ECA\n"
     ]
    },
    {
     "data": {
      "text/html": [
       "<pre>\n",
       "Optimization Result\n",
       "===================\n",
       "  Iteration:       193\n",
       "  Minimum:         13326.6\n",
       "  Minimizer:       [201.551, 5.50186, 1569.08, …, 730.368]\n",
       "  Function calls:  8106\n",
       "  Total time:      6265.8050 s\n",
       "  Stop reason:     \n",
       "</pre>\n"
      ],
      "text/plain": [
       "\u001b[34m\u001b[1mOptimization Result\u001b[22m\u001b[39m\n",
       "\u001b[39m===================\u001b[39m\n",
       "  Iteration:       193\n",
       "  Minimum:         13326.6\n",
       "  Minimizer:       [201.551, 5.50186, 1569.08, …, 730.368]\n",
       "  Function calls:  8106\n",
       "  Total time:      6265.8050 s\n",
       "  Stop reason:     \n"
      ]
     },
     "metadata": {},
     "output_type": "display_data"
    },
    {
     "name": "stderr",
     "output_type": "stream",
     "text": [
      "\u001b[36m\u001b[1m[ \u001b[22m\u001b[39m\u001b[36m\u001b[1mInfo: \u001b[22m\u001b[39mCurrent Status of ECA\n"
     ]
    },
    {
     "data": {
      "text/html": [
       "<pre>\n",
       "Optimization Result\n",
       "===================\n",
       "  Iteration:       194\n",
       "  Minimum:         13326.6\n",
       "  Minimizer:       [201.551, 5.50186, 1569.08, …, 730.368]\n",
       "  Function calls:  8148\n",
       "  Total time:      6295.7530 s\n",
       "  Stop reason:     \n",
       "</pre>\n"
      ],
      "text/plain": [
       "\u001b[34m\u001b[1mOptimization Result\u001b[22m\u001b[39m\n",
       "\u001b[39m===================\u001b[39m\n",
       "  Iteration:       194\n",
       "  Minimum:         13326.6\n",
       "  Minimizer:       [201.551, 5.50186, 1569.08, …, 730.368]\n",
       "  Function calls:  8148\n",
       "  Total time:      6295.7530 s\n",
       "  Stop reason:     \n"
      ]
     },
     "metadata": {},
     "output_type": "display_data"
    },
    {
     "name": "stderr",
     "output_type": "stream",
     "text": [
      "\u001b[36m\u001b[1m[ \u001b[22m\u001b[39m\u001b[36m\u001b[1mInfo: \u001b[22m\u001b[39mCurrent Status of ECA\n"
     ]
    },
    {
     "data": {
      "text/html": [
       "<pre>\n",
       "Optimization Result\n",
       "===================\n",
       "  Iteration:       195\n",
       "  Minimum:         13326.6\n",
       "  Minimizer:       [201.551, 5.50186, 1569.08, …, 730.368]\n",
       "  Function calls:  8190\n",
       "  Total time:      6327.7050 s\n",
       "  Stop reason:     \n",
       "</pre>\n"
      ],
      "text/plain": [
       "\u001b[34m\u001b[1mOptimization Result\u001b[22m\u001b[39m\n",
       "\u001b[39m===================\u001b[39m\n",
       "  Iteration:       195\n",
       "  Minimum:         13326.6\n",
       "  Minimizer:       [201.551, 5.50186, 1569.08, …, 730.368]\n",
       "  Function calls:  8190\n",
       "  Total time:      6327.7050 s\n",
       "  Stop reason:     \n"
      ]
     },
     "metadata": {},
     "output_type": "display_data"
    },
    {
     "name": "stderr",
     "output_type": "stream",
     "text": [
      "\u001b[36m\u001b[1m[ \u001b[22m\u001b[39m\u001b[36m\u001b[1mInfo: \u001b[22m\u001b[39mCurrent Status of ECA\n"
     ]
    },
    {
     "data": {
      "text/html": [
       "<pre>\n",
       "Optimization Result\n",
       "===================\n",
       "  Iteration:       196\n",
       "  Minimum:         13326.6\n",
       "  Minimizer:       [199.894, 5.47782, 1568.07, …, 741.944]\n",
       "  Function calls:  8232\n",
       "  Total time:      6357.3800 s\n",
       "  Stop reason:     \n",
       "</pre>\n"
      ],
      "text/plain": [
       "\u001b[34m\u001b[1mOptimization Result\u001b[22m\u001b[39m\n",
       "\u001b[39m===================\u001b[39m\n",
       "  Iteration:       196\n",
       "  Minimum:         13326.6\n",
       "  Minimizer:       [199.894, 5.47782, 1568.07, …, 741.944]\n",
       "  Function calls:  8232\n",
       "  Total time:      6357.3800 s\n",
       "  Stop reason:     \n"
      ]
     },
     "metadata": {},
     "output_type": "display_data"
    },
    {
     "name": "stderr",
     "output_type": "stream",
     "text": [
      "\u001b[36m\u001b[1m[ \u001b[22m\u001b[39m\u001b[36m\u001b[1mInfo: \u001b[22m\u001b[39mCurrent Status of ECA\n"
     ]
    },
    {
     "data": {
      "text/html": [
       "<pre>\n",
       "Optimization Result\n",
       "===================\n",
       "  Iteration:       197\n",
       "  Minimum:         13326.6\n",
       "  Minimizer:       [199.894, 5.47782, 1568.07, …, 741.944]\n",
       "  Function calls:  8274\n",
       "  Total time:      6386.8140 s\n",
       "  Stop reason:     \n",
       "</pre>\n"
      ],
      "text/plain": [
       "\u001b[34m\u001b[1mOptimization Result\u001b[22m\u001b[39m\n",
       "\u001b[39m===================\u001b[39m\n",
       "  Iteration:       197\n",
       "  Minimum:         13326.6\n",
       "  Minimizer:       [199.894, 5.47782, 1568.07, …, 741.944]\n",
       "  Function calls:  8274\n",
       "  Total time:      6386.8140 s\n",
       "  Stop reason:     \n"
      ]
     },
     "metadata": {},
     "output_type": "display_data"
    },
    {
     "name": "stderr",
     "output_type": "stream",
     "text": [
      "\u001b[36m\u001b[1m[ \u001b[22m\u001b[39m\u001b[36m\u001b[1mInfo: \u001b[22m\u001b[39mCurrent Status of ECA\n"
     ]
    },
    {
     "data": {
      "text/html": [
       "<pre>\n",
       "Optimization Result\n",
       "===================\n",
       "  Iteration:       198\n",
       "  Minimum:         13326.5\n",
       "  Minimizer:       [200.666, 5.48463, 1569.98, …, 724.241]\n",
       "  Function calls:  8316\n",
       "  Total time:      6416.7750 s\n",
       "  Stop reason:     \n",
       "</pre>\n"
      ],
      "text/plain": [
       "\u001b[34m\u001b[1mOptimization Result\u001b[22m\u001b[39m\n",
       "\u001b[39m===================\u001b[39m\n",
       "  Iteration:       198\n",
       "  Minimum:         13326.5\n",
       "  Minimizer:       [200.666, 5.48463, 1569.98, …, 724.241]\n",
       "  Function calls:  8316\n",
       "  Total time:      6416.7750 s\n",
       "  Stop reason:     \n"
      ]
     },
     "metadata": {},
     "output_type": "display_data"
    },
    {
     "name": "stderr",
     "output_type": "stream",
     "text": [
      "\u001b[36m\u001b[1m[ \u001b[22m\u001b[39m\u001b[36m\u001b[1mInfo: \u001b[22m\u001b[39mCurrent Status of ECA\n"
     ]
    },
    {
     "data": {
      "text/html": [
       "<pre>\n",
       "Optimization Result\n",
       "===================\n",
       "  Iteration:       199\n",
       "  Minimum:         13326.5\n",
       "  Minimizer:       [200.666, 5.48463, 1569.98, …, 724.241]\n",
       "  Function calls:  8358\n",
       "  Total time:      6446.9340 s\n",
       "  Stop reason:     \n",
       "</pre>\n"
      ],
      "text/plain": [
       "\u001b[34m\u001b[1mOptimization Result\u001b[22m\u001b[39m\n",
       "\u001b[39m===================\u001b[39m\n",
       "  Iteration:       199\n",
       "  Minimum:         13326.5\n",
       "  Minimizer:       [200.666, 5.48463, 1569.98, …, 724.241]\n",
       "  Function calls:  8358\n",
       "  Total time:      6446.9340 s\n",
       "  Stop reason:     \n"
      ]
     },
     "metadata": {},
     "output_type": "display_data"
    },
    {
     "name": "stderr",
     "output_type": "stream",
     "text": [
      "\u001b[36m\u001b[1m[ \u001b[22m\u001b[39m\u001b[36m\u001b[1mInfo: \u001b[22m\u001b[39mCurrent Status of ECA\n"
     ]
    },
    {
     "data": {
      "text/html": [
       "<pre>\n",
       "Optimization Result\n",
       "===================\n",
       "  Iteration:       200\n",
       "  Minimum:         13326.5\n",
       "  Minimizer:       [201.212, 5.48349, 1568.38, …, 700.75]\n",
       "  Function calls:  8400\n",
       "  Total time:      6476.9100 s\n",
       "  Stop reason:     \n",
       "</pre>\n"
      ],
      "text/plain": [
       "\u001b[34m\u001b[1mOptimization Result\u001b[22m\u001b[39m\n",
       "\u001b[39m===================\u001b[39m\n",
       "  Iteration:       200\n",
       "  Minimum:         13326.5\n",
       "  Minimizer:       [201.212, 5.48349, 1568.38, …, 700.75]\n",
       "  Function calls:  8400\n",
       "  Total time:      6476.9100 s\n",
       "  Stop reason:     \n"
      ]
     },
     "metadata": {},
     "output_type": "display_data"
    },
    {
     "name": "stderr",
     "output_type": "stream",
     "text": [
      "\u001b[36m\u001b[1m[ \u001b[22m\u001b[39m\u001b[36m\u001b[1mInfo: \u001b[22m\u001b[39mCurrent Status of ECA\n"
     ]
    },
    {
     "data": {
      "text/html": [
       "<pre>\n",
       "Optimization Result\n",
       "===================\n",
       "  Iteration:       201\n",
       "  Minimum:         13326.5\n",
       "  Minimizer:       [201.212, 5.48349, 1568.38, …, 700.75]\n",
       "  Function calls:  8442\n",
       "  Total time:      6508.9180 s\n",
       "  Stop reason:     \n",
       "</pre>\n"
      ],
      "text/plain": [
       "\u001b[34m\u001b[1mOptimization Result\u001b[22m\u001b[39m\n",
       "\u001b[39m===================\u001b[39m\n",
       "  Iteration:       201\n",
       "  Minimum:         13326.5\n",
       "  Minimizer:       [201.212, 5.48349, 1568.38, …, 700.75]\n",
       "  Function calls:  8442\n",
       "  Total time:      6508.9180 s\n",
       "  Stop reason:     \n"
      ]
     },
     "metadata": {},
     "output_type": "display_data"
    },
    {
     "name": "stderr",
     "output_type": "stream",
     "text": [
      "\u001b[36m\u001b[1m[ \u001b[22m\u001b[39m\u001b[36m\u001b[1mInfo: \u001b[22m\u001b[39mCurrent Status of ECA\n"
     ]
    },
    {
     "data": {
      "text/html": [
       "<pre>\n",
       "Optimization Result\n",
       "===================\n",
       "  Iteration:       202\n",
       "  Minimum:         13326.5\n",
       "  Minimizer:       [201.212, 5.48349, 1568.38, …, 700.75]\n",
       "  Function calls:  8484\n",
       "  Total time:      6538.8400 s\n",
       "  Stop reason:     \n",
       "</pre>\n"
      ],
      "text/plain": [
       "\u001b[34m\u001b[1mOptimization Result\u001b[22m\u001b[39m\n",
       "\u001b[39m===================\u001b[39m\n",
       "  Iteration:       202\n",
       "  Minimum:         13326.5\n",
       "  Minimizer:       [201.212, 5.48349, 1568.38, …, 700.75]\n",
       "  Function calls:  8484\n",
       "  Total time:      6538.8400 s\n",
       "  Stop reason:     \n"
      ]
     },
     "metadata": {},
     "output_type": "display_data"
    },
    {
     "name": "stderr",
     "output_type": "stream",
     "text": [
      "\u001b[36m\u001b[1m[ \u001b[22m\u001b[39m\u001b[36m\u001b[1mInfo: \u001b[22m\u001b[39mCurrent Status of ECA\n"
     ]
    },
    {
     "data": {
      "text/html": [
       "<pre>\n",
       "Optimization Result\n",
       "===================\n",
       "  Iteration:       203\n",
       "  Minimum:         13326.5\n",
       "  Minimizer:       [201.212, 5.48349, 1568.38, …, 700.75]\n",
       "  Function calls:  8526\n",
       "  Total time:      6568.8340 s\n",
       "  Stop reason:     \n",
       "</pre>\n"
      ],
      "text/plain": [
       "\u001b[34m\u001b[1mOptimization Result\u001b[22m\u001b[39m\n",
       "\u001b[39m===================\u001b[39m\n",
       "  Iteration:       203\n",
       "  Minimum:         13326.5\n",
       "  Minimizer:       [201.212, 5.48349, 1568.38, …, 700.75]\n",
       "  Function calls:  8526\n",
       "  Total time:      6568.8340 s\n",
       "  Stop reason:     \n"
      ]
     },
     "metadata": {},
     "output_type": "display_data"
    },
    {
     "name": "stderr",
     "output_type": "stream",
     "text": [
      "\u001b[36m\u001b[1m[ \u001b[22m\u001b[39m\u001b[36m\u001b[1mInfo: \u001b[22m\u001b[39mCurrent Status of ECA\n"
     ]
    },
    {
     "data": {
      "text/html": [
       "<pre>\n",
       "Optimization Result\n",
       "===================\n",
       "  Iteration:       204\n",
       "  Minimum:         13326.5\n",
       "  Minimizer:       [200.197, 5.47042, 1571.37, …, 707.595]\n",
       "  Function calls:  8568\n",
       "  Total time:      6599.2620 s\n",
       "  Stop reason:     \n",
       "</pre>\n"
      ],
      "text/plain": [
       "\u001b[34m\u001b[1mOptimization Result\u001b[22m\u001b[39m\n",
       "\u001b[39m===================\u001b[39m\n",
       "  Iteration:       204\n",
       "  Minimum:         13326.5\n",
       "  Minimizer:       [200.197, 5.47042, 1571.37, …, 707.595]\n",
       "  Function calls:  8568\n",
       "  Total time:      6599.2620 s\n",
       "  Stop reason:     \n"
      ]
     },
     "metadata": {},
     "output_type": "display_data"
    },
    {
     "name": "stderr",
     "output_type": "stream",
     "text": [
      "\u001b[36m\u001b[1m[ \u001b[22m\u001b[39m\u001b[36m\u001b[1mInfo: \u001b[22m\u001b[39mCurrent Status of ECA\n"
     ]
    },
    {
     "data": {
      "text/html": [
       "<pre>\n",
       "Optimization Result\n",
       "===================\n",
       "  Iteration:       205\n",
       "  Minimum:         13326.5\n",
       "  Minimizer:       [198.956, 5.46228, 1576.68, …, 732.837]\n",
       "  Function calls:  8610\n",
       "  Total time:      6628.8130 s\n",
       "  Stop reason:     \n",
       "</pre>\n"
      ],
      "text/plain": [
       "\u001b[34m\u001b[1mOptimization Result\u001b[22m\u001b[39m\n",
       "\u001b[39m===================\u001b[39m\n",
       "  Iteration:       205\n",
       "  Minimum:         13326.5\n",
       "  Minimizer:       [198.956, 5.46228, 1576.68, …, 732.837]\n",
       "  Function calls:  8610\n",
       "  Total time:      6628.8130 s\n",
       "  Stop reason:     \n"
      ]
     },
     "metadata": {},
     "output_type": "display_data"
    },
    {
     "name": "stderr",
     "output_type": "stream",
     "text": [
      "\u001b[36m\u001b[1m[ \u001b[22m\u001b[39m\u001b[36m\u001b[1mInfo: \u001b[22m\u001b[39mCurrent Status of ECA\n"
     ]
    },
    {
     "data": {
      "text/html": [
       "<pre>\n",
       "Optimization Result\n",
       "===================\n",
       "  Iteration:       206\n",
       "  Minimum:         13326.5\n",
       "  Minimizer:       [198.956, 5.46228, 1576.68, …, 732.837]\n",
       "  Function calls:  8652\n",
       "  Total time:      6658.5870 s\n",
       "  Stop reason:     \n",
       "</pre>\n"
      ],
      "text/plain": [
       "\u001b[34m\u001b[1mOptimization Result\u001b[22m\u001b[39m\n",
       "\u001b[39m===================\u001b[39m\n",
       "  Iteration:       206\n",
       "  Minimum:         13326.5\n",
       "  Minimizer:       [198.956, 5.46228, 1576.68, …, 732.837]\n",
       "  Function calls:  8652\n",
       "  Total time:      6658.5870 s\n",
       "  Stop reason:     \n"
      ]
     },
     "metadata": {},
     "output_type": "display_data"
    },
    {
     "name": "stderr",
     "output_type": "stream",
     "text": [
      "\u001b[36m\u001b[1m[ \u001b[22m\u001b[39m\u001b[36m\u001b[1mInfo: \u001b[22m\u001b[39mCurrent Status of ECA\n"
     ]
    },
    {
     "data": {
      "text/html": [
       "<pre>\n",
       "Optimization Result\n",
       "===================\n",
       "  Iteration:       207\n",
       "  Minimum:         13326.5\n",
       "  Minimizer:       [198.956, 5.46228, 1576.68, …, 732.837]\n",
       "  Function calls:  8694\n",
       "  Total time:      6690.9840 s\n",
       "  Stop reason:     \n",
       "</pre>\n"
      ],
      "text/plain": [
       "\u001b[34m\u001b[1mOptimization Result\u001b[22m\u001b[39m\n",
       "\u001b[39m===================\u001b[39m\n",
       "  Iteration:       207\n",
       "  Minimum:         13326.5\n",
       "  Minimizer:       [198.956, 5.46228, 1576.68, …, 732.837]\n",
       "  Function calls:  8694\n",
       "  Total time:      6690.9840 s\n",
       "  Stop reason:     \n"
      ]
     },
     "metadata": {},
     "output_type": "display_data"
    },
    {
     "name": "stderr",
     "output_type": "stream",
     "text": [
      "\u001b[36m\u001b[1m[ \u001b[22m\u001b[39m\u001b[36m\u001b[1mInfo: \u001b[22m\u001b[39mCurrent Status of ECA\n"
     ]
    },
    {
     "data": {
      "text/html": [
       "<pre>\n",
       "Optimization Result\n",
       "===================\n",
       "  Iteration:       208\n",
       "  Minimum:         13326.4\n",
       "  Minimizer:       [199.604, 5.46521, 1572.34, …, 718.135]\n",
       "  Function calls:  8736\n",
       "  Total time:      6720.8720 s\n",
       "  Stop reason:     \n",
       "</pre>\n"
      ],
      "text/plain": [
       "\u001b[34m\u001b[1mOptimization Result\u001b[22m\u001b[39m\n",
       "\u001b[39m===================\u001b[39m\n",
       "  Iteration:       208\n",
       "  Minimum:         13326.4\n",
       "  Minimizer:       [199.604, 5.46521, 1572.34, …, 718.135]\n",
       "  Function calls:  8736\n",
       "  Total time:      6720.8720 s\n",
       "  Stop reason:     \n"
      ]
     },
     "metadata": {},
     "output_type": "display_data"
    },
    {
     "name": "stderr",
     "output_type": "stream",
     "text": [
      "\u001b[36m\u001b[1m[ \u001b[22m\u001b[39m\u001b[36m\u001b[1mInfo: \u001b[22m\u001b[39mCurrent Status of ECA\n"
     ]
    },
    {
     "data": {
      "text/html": [
       "<pre>\n",
       "Optimization Result\n",
       "===================\n",
       "  Iteration:       209\n",
       "  Minimum:         13326.4\n",
       "  Minimizer:       [199.604, 5.46521, 1572.34, …, 718.135]\n",
       "  Function calls:  8778\n",
       "  Total time:      6750.8630 s\n",
       "  Stop reason:     \n",
       "</pre>\n"
      ],
      "text/plain": [
       "\u001b[34m\u001b[1mOptimization Result\u001b[22m\u001b[39m\n",
       "\u001b[39m===================\u001b[39m\n",
       "  Iteration:       209\n",
       "  Minimum:         13326.4\n",
       "  Minimizer:       [199.604, 5.46521, 1572.34, …, 718.135]\n",
       "  Function calls:  8778\n",
       "  Total time:      6750.8630 s\n",
       "  Stop reason:     \n"
      ]
     },
     "metadata": {},
     "output_type": "display_data"
    },
    {
     "name": "stderr",
     "output_type": "stream",
     "text": [
      "\u001b[36m\u001b[1m[ \u001b[22m\u001b[39m\u001b[36m\u001b[1mInfo: \u001b[22m\u001b[39mCurrent Status of ECA\n"
     ]
    },
    {
     "data": {
      "text/html": [
       "<pre>\n",
       "Optimization Result\n",
       "===================\n",
       "  Iteration:       210\n",
       "  Minimum:         13326.4\n",
       "  Minimizer:       [199.604, 5.46521, 1572.34, …, 718.135]\n",
       "  Function calls:  8820\n",
       "  Total time:      6780.8910 s\n",
       "  Stop reason:     \n",
       "</pre>\n"
      ],
      "text/plain": [
       "\u001b[34m\u001b[1mOptimization Result\u001b[22m\u001b[39m\n",
       "\u001b[39m===================\u001b[39m\n",
       "  Iteration:       210\n",
       "  Minimum:         13326.4\n",
       "  Minimizer:       [199.604, 5.46521, 1572.34, …, 718.135]\n",
       "  Function calls:  8820\n",
       "  Total time:      6780.8910 s\n",
       "  Stop reason:     \n"
      ]
     },
     "metadata": {},
     "output_type": "display_data"
    },
    {
     "name": "stderr",
     "output_type": "stream",
     "text": [
      "\u001b[36m\u001b[1m[ \u001b[22m\u001b[39m\u001b[36m\u001b[1mInfo: \u001b[22m\u001b[39mCurrent Status of ECA\n"
     ]
    },
    {
     "data": {
      "text/html": [
       "<pre>\n",
       "Optimization Result\n",
       "===================\n",
       "  Iteration:       211\n",
       "  Minimum:         13326.4\n",
       "  Minimizer:       [199.604, 5.46521, 1572.34, …, 718.135]\n",
       "  Function calls:  8862\n",
       "  Total time:      6810.8200 s\n",
       "  Stop reason:     \n",
       "</pre>\n"
      ],
      "text/plain": [
       "\u001b[34m\u001b[1mOptimization Result\u001b[22m\u001b[39m\n",
       "\u001b[39m===================\u001b[39m\n",
       "  Iteration:       211\n",
       "  Minimum:         13326.4\n",
       "  Minimizer:       [199.604, 5.46521, 1572.34, …, 718.135]\n",
       "  Function calls:  8862\n",
       "  Total time:      6810.8200 s\n",
       "  Stop reason:     \n"
      ]
     },
     "metadata": {},
     "output_type": "display_data"
    },
    {
     "name": "stderr",
     "output_type": "stream",
     "text": [
      "\u001b[36m\u001b[1m[ \u001b[22m\u001b[39m\u001b[36m\u001b[1mInfo: \u001b[22m\u001b[39mCurrent Status of ECA\n"
     ]
    },
    {
     "data": {
      "text/html": [
       "<pre>\n",
       "Optimization Result\n",
       "===================\n",
       "  Iteration:       212\n",
       "  Minimum:         13326.4\n",
       "  Minimizer:       [199.297, 5.46425, 1570.09, …, 731.131]\n",
       "  Function calls:  8904\n",
       "  Total time:      6840.8380 s\n",
       "  Stop reason:     \n",
       "</pre>\n"
      ],
      "text/plain": [
       "\u001b[34m\u001b[1mOptimization Result\u001b[22m\u001b[39m\n",
       "\u001b[39m===================\u001b[39m\n",
       "  Iteration:       212\n",
       "  Minimum:         13326.4\n",
       "  Minimizer:       [199.297, 5.46425, 1570.09, …, 731.131]\n",
       "  Function calls:  8904\n",
       "  Total time:      6840.8380 s\n",
       "  Stop reason:     \n"
      ]
     },
     "metadata": {},
     "output_type": "display_data"
    },
    {
     "name": "stderr",
     "output_type": "stream",
     "text": [
      "\u001b[36m\u001b[1m[ \u001b[22m\u001b[39m\u001b[36m\u001b[1mInfo: \u001b[22m\u001b[39mCurrent Status of ECA\n"
     ]
    },
    {
     "data": {
      "text/html": [
       "<pre>\n",
       "Optimization Result\n",
       "===================\n",
       "  Iteration:       213\n",
       "  Minimum:         13326.4\n",
       "  Minimizer:       [199.297, 5.46425, 1570.09, …, 731.131]\n",
       "  Function calls:  8946\n",
       "  Total time:      6872.6280 s\n",
       "  Stop reason:     \n",
       "</pre>\n"
      ],
      "text/plain": [
       "\u001b[34m\u001b[1mOptimization Result\u001b[22m\u001b[39m\n",
       "\u001b[39m===================\u001b[39m\n",
       "  Iteration:       213\n",
       "  Minimum:         13326.4\n",
       "  Minimizer:       [199.297, 5.46425, 1570.09, …, 731.131]\n",
       "  Function calls:  8946\n",
       "  Total time:      6872.6280 s\n",
       "  Stop reason:     \n"
      ]
     },
     "metadata": {},
     "output_type": "display_data"
    },
    {
     "name": "stderr",
     "output_type": "stream",
     "text": [
      "\u001b[36m\u001b[1m[ \u001b[22m\u001b[39m\u001b[36m\u001b[1mInfo: \u001b[22m\u001b[39mCurrent Status of ECA\n"
     ]
    },
    {
     "data": {
      "text/html": [
       "<pre>\n",
       "Optimization Result\n",
       "===================\n",
       "  Iteration:       214\n",
       "  Minimum:         13326.4\n",
       "  Minimizer:       [199.297, 5.46425, 1570.09, …, 731.131]\n",
       "  Function calls:  8988\n",
       "  Total time:      6902.5530 s\n",
       "  Stop reason:     \n",
       "</pre>\n"
      ],
      "text/plain": [
       "\u001b[34m\u001b[1mOptimization Result\u001b[22m\u001b[39m\n",
       "\u001b[39m===================\u001b[39m\n",
       "  Iteration:       214\n",
       "  Minimum:         13326.4\n",
       "  Minimizer:       [199.297, 5.46425, 1570.09, …, 731.131]\n",
       "  Function calls:  8988\n",
       "  Total time:      6902.5530 s\n",
       "  Stop reason:     \n"
      ]
     },
     "metadata": {},
     "output_type": "display_data"
    },
    {
     "name": "stderr",
     "output_type": "stream",
     "text": [
      "\u001b[36m\u001b[1m[ \u001b[22m\u001b[39m\u001b[36m\u001b[1mInfo: \u001b[22m\u001b[39mCurrent Status of ECA\n"
     ]
    },
    {
     "data": {
      "text/html": [
       "<pre>\n",
       "Optimization Result\n",
       "===================\n",
       "  Iteration:       215\n",
       "  Minimum:         13326.4\n",
       "  Minimizer:       [199.52, 5.46711, 1571.92, …, 726.754]\n",
       "  Function calls:  9030\n",
       "  Total time:      6932.0940 s\n",
       "  Stop reason:     \n",
       "</pre>\n"
      ],
      "text/plain": [
       "\u001b[34m\u001b[1mOptimization Result\u001b[22m\u001b[39m\n",
       "\u001b[39m===================\u001b[39m\n",
       "  Iteration:       215\n",
       "  Minimum:         13326.4\n",
       "  Minimizer:       [199.52, 5.46711, 1571.92, …, 726.754]\n",
       "  Function calls:  9030\n",
       "  Total time:      6932.0940 s\n",
       "  Stop reason:     \n"
      ]
     },
     "metadata": {},
     "output_type": "display_data"
    },
    {
     "name": "stderr",
     "output_type": "stream",
     "text": [
      "\u001b[36m\u001b[1m[ \u001b[22m\u001b[39m\u001b[36m\u001b[1mInfo: \u001b[22m\u001b[39mCurrent Status of ECA\n"
     ]
    },
    {
     "data": {
      "text/html": [
       "<pre>\n",
       "Optimization Result\n",
       "===================\n",
       "  Iteration:       216\n",
       "  Minimum:         13326.4\n",
       "  Minimizer:       [199.52, 5.46711, 1571.92, …, 726.754]\n",
       "  Function calls:  9072\n",
       "  Total time:      6961.8200 s\n",
       "  Stop reason:     \n",
       "</pre>\n"
      ],
      "text/plain": [
       "\u001b[34m\u001b[1mOptimization Result\u001b[22m\u001b[39m\n",
       "\u001b[39m===================\u001b[39m\n",
       "  Iteration:       216\n",
       "  Minimum:         13326.4\n",
       "  Minimizer:       [199.52, 5.46711, 1571.92, …, 726.754]\n",
       "  Function calls:  9072\n",
       "  Total time:      6961.8200 s\n",
       "  Stop reason:     \n"
      ]
     },
     "metadata": {},
     "output_type": "display_data"
    },
    {
     "name": "stderr",
     "output_type": "stream",
     "text": [
      "\u001b[36m\u001b[1m[ \u001b[22m\u001b[39m\u001b[36m\u001b[1mInfo: \u001b[22m\u001b[39mCurrent Status of ECA\n"
     ]
    },
    {
     "data": {
      "text/html": [
       "<pre>\n",
       "Optimization Result\n",
       "===================\n",
       "  Iteration:       217\n",
       "  Minimum:         13326.4\n",
       "  Minimizer:       [198.433, 5.45418, 1573.16, …, 738.753]\n",
       "  Function calls:  9114\n",
       "  Total time:      6991.9120 s\n",
       "  Stop reason:     \n",
       "</pre>\n"
      ],
      "text/plain": [
       "\u001b[34m\u001b[1mOptimization Result\u001b[22m\u001b[39m\n",
       "\u001b[39m===================\u001b[39m\n",
       "  Iteration:       217\n",
       "  Minimum:         13326.4\n",
       "  Minimizer:       [198.433, 5.45418, 1573.16, …, 738.753]\n",
       "  Function calls:  9114\n",
       "  Total time:      6991.9120 s\n",
       "  Stop reason:     \n"
      ]
     },
     "metadata": {},
     "output_type": "display_data"
    },
    {
     "name": "stderr",
     "output_type": "stream",
     "text": [
      "\u001b[36m\u001b[1m[ \u001b[22m\u001b[39m\u001b[36m\u001b[1mInfo: \u001b[22m\u001b[39mCurrent Status of ECA\n"
     ]
    },
    {
     "data": {
      "text/html": [
       "<pre>\n",
       "Optimization Result\n",
       "===================\n",
       "  Iteration:       218\n",
       "  Minimum:         13326.4\n",
       "  Minimizer:       [198.801, 5.45528, 1572.18, …, 727.42]\n",
       "  Function calls:  9156\n",
       "  Total time:      7021.9940 s\n",
       "  Stop reason:     \n",
       "</pre>\n"
      ],
      "text/plain": [
       "\u001b[34m\u001b[1mOptimization Result\u001b[22m\u001b[39m\n",
       "\u001b[39m===================\u001b[39m\n",
       "  Iteration:       218\n",
       "  Minimum:         13326.4\n",
       "  Minimizer:       [198.801, 5.45528, 1572.18, …, 727.42]\n",
       "  Function calls:  9156\n",
       "  Total time:      7021.9940 s\n",
       "  Stop reason:     \n"
      ]
     },
     "metadata": {},
     "output_type": "display_data"
    },
    {
     "name": "stderr",
     "output_type": "stream",
     "text": [
      "\u001b[36m\u001b[1m[ \u001b[22m\u001b[39m\u001b[36m\u001b[1mInfo: \u001b[22m\u001b[39mCurrent Status of ECA\n"
     ]
    },
    {
     "data": {
      "text/html": [
       "<pre>\n",
       "Optimization Result\n",
       "===================\n",
       "  Iteration:       219\n",
       "  Minimum:         13326.3\n",
       "  Minimizer:       [198.091, 5.44618, 1570.84, …, 736.068]\n",
       "  Function calls:  9198\n",
       "  Total time:      7054.1620 s\n",
       "  Stop reason:     \n",
       "</pre>\n"
      ],
      "text/plain": [
       "\u001b[34m\u001b[1mOptimization Result\u001b[22m\u001b[39m\n",
       "\u001b[39m===================\u001b[39m\n",
       "  Iteration:       219\n",
       "  Minimum:         13326.3\n",
       "  Minimizer:       [198.091, 5.44618, 1570.84, …, 736.068]\n",
       "  Function calls:  9198\n",
       "  Total time:      7054.1620 s\n",
       "  Stop reason:     \n"
      ]
     },
     "metadata": {},
     "output_type": "display_data"
    },
    {
     "name": "stderr",
     "output_type": "stream",
     "text": [
      "\u001b[36m\u001b[1m[ \u001b[22m\u001b[39m\u001b[36m\u001b[1mInfo: \u001b[22m\u001b[39mCurrent Status of ECA\n"
     ]
    },
    {
     "data": {
      "text/html": [
       "<pre>\n",
       "Optimization Result\n",
       "===================\n",
       "  Iteration:       220\n",
       "  Minimum:         13326.3\n",
       "  Minimizer:       [198.091, 5.44618, 1570.84, …, 736.068]\n",
       "  Function calls:  9240\n",
       "  Total time:      7084.6380 s\n",
       "  Stop reason:     \n",
       "</pre>\n"
      ],
      "text/plain": [
       "\u001b[34m\u001b[1mOptimization Result\u001b[22m\u001b[39m\n",
       "\u001b[39m===================\u001b[39m\n",
       "  Iteration:       220\n",
       "  Minimum:         13326.3\n",
       "  Minimizer:       [198.091, 5.44618, 1570.84, …, 736.068]\n",
       "  Function calls:  9240\n",
       "  Total time:      7084.6380 s\n",
       "  Stop reason:     \n"
      ]
     },
     "metadata": {},
     "output_type": "display_data"
    },
    {
     "name": "stderr",
     "output_type": "stream",
     "text": [
      "\u001b[36m\u001b[1m[ \u001b[22m\u001b[39m\u001b[36m\u001b[1mInfo: \u001b[22m\u001b[39mCurrent Status of ECA\n"
     ]
    },
    {
     "data": {
      "text/html": [
       "<pre>\n",
       "Optimization Result\n",
       "===================\n",
       "  Iteration:       221\n",
       "  Minimum:         13326.3\n",
       "  Minimizer:       [197.526, 5.43808, 1573.82, …, 736.195]\n",
       "  Function calls:  9282\n",
       "  Total time:      7114.5480 s\n",
       "  Stop reason:     \n",
       "</pre>\n"
      ],
      "text/plain": [
       "\u001b[34m\u001b[1mOptimization Result\u001b[22m\u001b[39m\n",
       "\u001b[39m===================\u001b[39m\n",
       "  Iteration:       221\n",
       "  Minimum:         13326.3\n",
       "  Minimizer:       [197.526, 5.43808, 1573.82, …, 736.195]\n",
       "  Function calls:  9282\n",
       "  Total time:      7114.5480 s\n",
       "  Stop reason:     \n"
      ]
     },
     "metadata": {},
     "output_type": "display_data"
    },
    {
     "name": "stderr",
     "output_type": "stream",
     "text": [
      "\u001b[36m\u001b[1m[ \u001b[22m\u001b[39m\u001b[36m\u001b[1mInfo: \u001b[22m\u001b[39mCurrent Status of ECA\n"
     ]
    },
    {
     "data": {
      "text/html": [
       "<pre>\n",
       "Optimization Result\n",
       "===================\n",
       "  Iteration:       222\n",
       "  Minimum:         13326.3\n",
       "  Minimizer:       [198.499, 5.44918, 1570.15, …, 727.128]\n",
       "  Function calls:  9324\n",
       "  Total time:      7144.6400 s\n",
       "  Stop reason:     \n",
       "</pre>\n"
      ],
      "text/plain": [
       "\u001b[34m\u001b[1mOptimization Result\u001b[22m\u001b[39m\n",
       "\u001b[39m===================\u001b[39m\n",
       "  Iteration:       222\n",
       "  Minimum:         13326.3\n",
       "  Minimizer:       [198.499, 5.44918, 1570.15, …, 727.128]\n",
       "  Function calls:  9324\n",
       "  Total time:      7144.6400 s\n",
       "  Stop reason:     \n"
      ]
     },
     "metadata": {},
     "output_type": "display_data"
    },
    {
     "name": "stderr",
     "output_type": "stream",
     "text": [
      "\u001b[36m\u001b[1m[ \u001b[22m\u001b[39m\u001b[36m\u001b[1mInfo: \u001b[22m\u001b[39mCurrent Status of ECA\n"
     ]
    },
    {
     "data": {
      "text/html": [
       "<pre>\n",
       "Optimization Result\n",
       "===================\n",
       "  Iteration:       223\n",
       "  Minimum:         13326.3\n",
       "  Minimizer:       [198.499, 5.44918, 1570.15, …, 727.128]\n",
       "  Function calls:  9366\n",
       "  Total time:      7174.4980 s\n",
       "  Stop reason:     \n",
       "</pre>\n"
      ],
      "text/plain": [
       "\u001b[34m\u001b[1mOptimization Result\u001b[22m\u001b[39m\n",
       "\u001b[39m===================\u001b[39m\n",
       "  Iteration:       223\n",
       "  Minimum:         13326.3\n",
       "  Minimizer:       [198.499, 5.44918, 1570.15, …, 727.128]\n",
       "  Function calls:  9366\n",
       "  Total time:      7174.4980 s\n",
       "  Stop reason:     \n"
      ]
     },
     "metadata": {},
     "output_type": "display_data"
    },
    {
     "name": "stderr",
     "output_type": "stream",
     "text": [
      "\u001b[36m\u001b[1m[ \u001b[22m\u001b[39m\u001b[36m\u001b[1mInfo: \u001b[22m\u001b[39mCurrent Status of ECA\n"
     ]
    },
    {
     "data": {
      "text/html": [
       "<pre>\n",
       "Optimization Result\n",
       "===================\n",
       "  Iteration:       224\n",
       "  Minimum:         13326.3\n",
       "  Minimizer:       [198.02, 5.4434, 1571.25, …, 731.642]\n",
       "  Function calls:  9408\n",
       "  Total time:      7203.8970 s\n",
       "  Stop reason:     \n",
       "</pre>\n"
      ],
      "text/plain": [
       "\u001b[34m\u001b[1mOptimization Result\u001b[22m\u001b[39m\n",
       "\u001b[39m===================\u001b[39m\n",
       "  Iteration:       224\n",
       "  Minimum:         13326.3\n",
       "  Minimizer:       [198.02, 5.4434, 1571.25, …, 731.642]\n",
       "  Function calls:  9408\n",
       "  Total time:      7203.8970 s\n",
       "  Stop reason:     \n"
      ]
     },
     "metadata": {},
     "output_type": "display_data"
    },
    {
     "name": "stderr",
     "output_type": "stream",
     "text": [
      "\u001b[36m\u001b[1m[ \u001b[22m\u001b[39m\u001b[36m\u001b[1mInfo: \u001b[22m\u001b[39mCurrent Status of ECA\n"
     ]
    },
    {
     "data": {
      "text/html": [
       "<pre>\n",
       "Optimization Result\n",
       "===================\n",
       "  Iteration:       225\n",
       "  Minimum:         13326.3\n",
       "  Minimizer:       [198.02, 5.4434, 1571.25, …, 731.642]\n",
       "  Function calls:  9450\n",
       "  Total time:      7235.9960 s\n",
       "  Stop reason:     \n",
       "</pre>\n"
      ],
      "text/plain": [
       "\u001b[34m\u001b[1mOptimization Result\u001b[22m\u001b[39m\n",
       "\u001b[39m===================\u001b[39m\n",
       "  Iteration:       225\n",
       "  Minimum:         13326.3\n",
       "  Minimizer:       [198.02, 5.4434, 1571.25, …, 731.642]\n",
       "  Function calls:  9450\n",
       "  Total time:      7235.9960 s\n",
       "  Stop reason:     \n"
      ]
     },
     "metadata": {},
     "output_type": "display_data"
    },
    {
     "name": "stderr",
     "output_type": "stream",
     "text": [
      "\u001b[36m\u001b[1m[ \u001b[22m\u001b[39m\u001b[36m\u001b[1mInfo: \u001b[22m\u001b[39mCurrent Status of ECA\n"
     ]
    },
    {
     "data": {
      "text/html": [
       "<pre>\n",
       "Optimization Result\n",
       "===================\n",
       "  Iteration:       226\n",
       "  Minimum:         13326.3\n",
       "  Minimizer:       [198.02, 5.4434, 1571.25, …, 731.642]\n",
       "  Function calls:  9492\n",
       "  Total time:      7265.7870 s\n",
       "  Stop reason:     \n",
       "</pre>\n"
      ],
      "text/plain": [
       "\u001b[34m\u001b[1mOptimization Result\u001b[22m\u001b[39m\n",
       "\u001b[39m===================\u001b[39m\n",
       "  Iteration:       226\n",
       "  Minimum:         13326.3\n",
       "  Minimizer:       [198.02, 5.4434, 1571.25, …, 731.642]\n",
       "  Function calls:  9492\n",
       "  Total time:      7265.7870 s\n",
       "  Stop reason:     \n"
      ]
     },
     "metadata": {},
     "output_type": "display_data"
    },
    {
     "name": "stderr",
     "output_type": "stream",
     "text": [
      "\u001b[36m\u001b[1m[ \u001b[22m\u001b[39m\u001b[36m\u001b[1mInfo: \u001b[22m\u001b[39mCurrent Status of ECA\n"
     ]
    },
    {
     "data": {
      "text/html": [
       "<pre>\n",
       "Optimization Result\n",
       "===================\n",
       "  Iteration:       227\n",
       "  Minimum:         13326.3\n",
       "  Minimizer:       [198.02, 5.4434, 1571.25, …, 731.642]\n",
       "  Function calls:  9534\n",
       "  Total time:      7295.7470 s\n",
       "  Stop reason:     \n",
       "</pre>\n"
      ],
      "text/plain": [
       "\u001b[34m\u001b[1mOptimization Result\u001b[22m\u001b[39m\n",
       "\u001b[39m===================\u001b[39m\n",
       "  Iteration:       227\n",
       "  Minimum:         13326.3\n",
       "  Minimizer:       [198.02, 5.4434, 1571.25, …, 731.642]\n",
       "  Function calls:  9534\n",
       "  Total time:      7295.7470 s\n",
       "  Stop reason:     \n"
      ]
     },
     "metadata": {},
     "output_type": "display_data"
    },
    {
     "name": "stderr",
     "output_type": "stream",
     "text": [
      "\u001b[36m\u001b[1m[ \u001b[22m\u001b[39m\u001b[36m\u001b[1mInfo: \u001b[22m\u001b[39mCurrent Status of ECA\n"
     ]
    },
    {
     "data": {
      "text/html": [
       "<pre>\n",
       "Optimization Result\n",
       "===================\n",
       "  Iteration:       228\n",
       "  Minimum:         13326.3\n",
       "  Minimizer:       [197.891, 5.44241, 1570.88, …, 735.022]\n",
       "  Function calls:  9576\n",
       "  Total time:      7325.7220 s\n",
       "  Stop reason:     \n",
       "</pre>\n"
      ],
      "text/plain": [
       "\u001b[34m\u001b[1mOptimization Result\u001b[22m\u001b[39m\n",
       "\u001b[39m===================\u001b[39m\n",
       "  Iteration:       228\n",
       "  Minimum:         13326.3\n",
       "  Minimizer:       [197.891, 5.44241, 1570.88, …, 735.022]\n",
       "  Function calls:  9576\n",
       "  Total time:      7325.7220 s\n",
       "  Stop reason:     \n"
      ]
     },
     "metadata": {},
     "output_type": "display_data"
    },
    {
     "name": "stderr",
     "output_type": "stream",
     "text": [
      "\u001b[36m\u001b[1m[ \u001b[22m\u001b[39m\u001b[36m\u001b[1mInfo: \u001b[22m\u001b[39mCurrent Status of ECA\n"
     ]
    },
    {
     "data": {
      "text/html": [
       "<pre>\n",
       "Optimization Result\n",
       "===================\n",
       "  Iteration:       229\n",
       "  Minimum:         13326.2\n",
       "  Minimizer:       [195.871, 5.41106, 1574.76, …, 737.25]\n",
       "  Function calls:  9618\n",
       "  Total time:      7355.6630 s\n",
       "  Stop reason:     \n",
       "</pre>\n"
      ],
      "text/plain": [
       "\u001b[34m\u001b[1mOptimization Result\u001b[22m\u001b[39m\n",
       "\u001b[39m===================\u001b[39m\n",
       "  Iteration:       229\n",
       "  Minimum:         13326.2\n",
       "  Minimizer:       [195.871, 5.41106, 1574.76, …, 737.25]\n",
       "  Function calls:  9618\n",
       "  Total time:      7355.6630 s\n",
       "  Stop reason:     \n"
      ]
     },
     "metadata": {},
     "output_type": "display_data"
    },
    {
     "name": "stderr",
     "output_type": "stream",
     "text": [
      "\u001b[36m\u001b[1m[ \u001b[22m\u001b[39m\u001b[36m\u001b[1mInfo: \u001b[22m\u001b[39mCurrent Status of ECA\n"
     ]
    },
    {
     "data": {
      "text/html": [
       "<pre>\n",
       "Optimization Result\n",
       "===================\n",
       "  Iteration:       230\n",
       "  Minimum:         13326.2\n",
       "  Minimizer:       [195.871, 5.41106, 1574.76, …, 737.25]\n",
       "  Function calls:  9660\n",
       "  Total time:      7385.9040 s\n",
       "  Stop reason:     \n",
       "</pre>\n"
      ],
      "text/plain": [
       "\u001b[34m\u001b[1mOptimization Result\u001b[22m\u001b[39m\n",
       "\u001b[39m===================\u001b[39m\n",
       "  Iteration:       230\n",
       "  Minimum:         13326.2\n",
       "  Minimizer:       [195.871, 5.41106, 1574.76, …, 737.25]\n",
       "  Function calls:  9660\n",
       "  Total time:      7385.9040 s\n",
       "  Stop reason:     \n"
      ]
     },
     "metadata": {},
     "output_type": "display_data"
    },
    {
     "name": "stderr",
     "output_type": "stream",
     "text": [
      "\u001b[36m\u001b[1m[ \u001b[22m\u001b[39m\u001b[36m\u001b[1mInfo: \u001b[22m\u001b[39mCurrent Status of ECA\n"
     ]
    },
    {
     "data": {
      "text/html": [
       "<pre>\n",
       "Optimization Result\n",
       "===================\n",
       "  Iteration:       231\n",
       "  Minimum:         13326.2\n",
       "  Minimizer:       [195.871, 5.41106, 1574.76, …, 737.25]\n",
       "  Function calls:  9702\n",
       "  Total time:      7417.8780 s\n",
       "  Stop reason:     \n",
       "</pre>\n"
      ],
      "text/plain": [
       "\u001b[34m\u001b[1mOptimization Result\u001b[22m\u001b[39m\n",
       "\u001b[39m===================\u001b[39m\n",
       "  Iteration:       231\n",
       "  Minimum:         13326.2\n",
       "  Minimizer:       [195.871, 5.41106, 1574.76, …, 737.25]\n",
       "  Function calls:  9702\n",
       "  Total time:      7417.8780 s\n",
       "  Stop reason:     \n"
      ]
     },
     "metadata": {},
     "output_type": "display_data"
    },
    {
     "name": "stderr",
     "output_type": "stream",
     "text": [
      "\u001b[36m\u001b[1m[ \u001b[22m\u001b[39m\u001b[36m\u001b[1mInfo: \u001b[22m\u001b[39mCurrent Status of ECA\n"
     ]
    },
    {
     "data": {
      "text/html": [
       "<pre>\n",
       "Optimization Result\n",
       "===================\n",
       "  Iteration:       232\n",
       "  Minimum:         13326.2\n",
       "  Minimizer:       [195.837, 5.41106, 1574.06, …, 739.479]\n",
       "  Function calls:  9744\n",
       "  Total time:      7448.6740 s\n",
       "  Stop reason:     \n",
       "</pre>\n"
      ],
      "text/plain": [
       "\u001b[34m\u001b[1mOptimization Result\u001b[22m\u001b[39m\n",
       "\u001b[39m===================\u001b[39m\n",
       "  Iteration:       232\n",
       "  Minimum:         13326.2\n",
       "  Minimizer:       [195.837, 5.41106, 1574.06, …, 739.479]\n",
       "  Function calls:  9744\n",
       "  Total time:      7448.6740 s\n",
       "  Stop reason:     \n"
      ]
     },
     "metadata": {},
     "output_type": "display_data"
    },
    {
     "name": "stderr",
     "output_type": "stream",
     "text": [
      "\u001b[36m\u001b[1m[ \u001b[22m\u001b[39m\u001b[36m\u001b[1mInfo: \u001b[22m\u001b[39mCurrent Status of ECA\n"
     ]
    },
    {
     "data": {
      "text/html": [
       "<pre>\n",
       "Optimization Result\n",
       "===================\n",
       "  Iteration:       233\n",
       "  Minimum:         13326.2\n",
       "  Minimizer:       [195.837, 5.41106, 1574.06, …, 739.479]\n",
       "  Function calls:  9786\n",
       "  Total time:      7478.6130 s\n",
       "  Stop reason:     \n",
       "</pre>\n"
      ],
      "text/plain": [
       "\u001b[34m\u001b[1mOptimization Result\u001b[22m\u001b[39m\n",
       "\u001b[39m===================\u001b[39m\n",
       "  Iteration:       233\n",
       "  Minimum:         13326.2\n",
       "  Minimizer:       [195.837, 5.41106, 1574.06, …, 739.479]\n",
       "  Function calls:  9786\n",
       "  Total time:      7478.6130 s\n",
       "  Stop reason:     \n"
      ]
     },
     "metadata": {},
     "output_type": "display_data"
    },
    {
     "name": "stderr",
     "output_type": "stream",
     "text": [
      "\u001b[36m\u001b[1m[ \u001b[22m\u001b[39m\u001b[36m\u001b[1mInfo: \u001b[22m\u001b[39mCurrent Status of ECA\n"
     ]
    },
    {
     "data": {
      "text/html": [
       "<pre>\n",
       "Optimization Result\n",
       "===================\n",
       "  Iteration:       234\n",
       "  Minimum:         13326.2\n",
       "  Minimizer:       [195.74, 5.40977, 1572.5, …, 742.1]\n",
       "  Function calls:  9828\n",
       "  Total time:      7508.3880 s\n",
       "  Stop reason:     \n",
       "</pre>\n"
      ],
      "text/plain": [
       "\u001b[34m\u001b[1mOptimization Result\u001b[22m\u001b[39m\n",
       "\u001b[39m===================\u001b[39m\n",
       "  Iteration:       234\n",
       "  Minimum:         13326.2\n",
       "  Minimizer:       [195.74, 5.40977, 1572.5, …, 742.1]\n",
       "  Function calls:  9828\n",
       "  Total time:      7508.3880 s\n",
       "  Stop reason:     \n"
      ]
     },
     "metadata": {},
     "output_type": "display_data"
    },
    {
     "name": "stderr",
     "output_type": "stream",
     "text": [
      "\u001b[36m\u001b[1m[ \u001b[22m\u001b[39m\u001b[36m\u001b[1mInfo: \u001b[22m\u001b[39mCurrent Status of ECA\n"
     ]
    },
    {
     "data": {
      "text/html": [
       "<pre>\n",
       "Optimization Result\n",
       "===================\n",
       "  Iteration:       235\n",
       "  Minimum:         13326.2\n",
       "  Minimizer:       [195.521, 5.40455, 1572.79, …, 737.886]\n",
       "  Function calls:  9870\n",
       "  Total time:      7538.2660 s\n",
       "  Stop reason:     \n",
       "</pre>\n"
      ],
      "text/plain": [
       "\u001b[34m\u001b[1mOptimization Result\u001b[22m\u001b[39m\n",
       "\u001b[39m===================\u001b[39m\n",
       "  Iteration:       235\n",
       "  Minimum:         13326.2\n",
       "  Minimizer:       [195.521, 5.40455, 1572.79, …, 737.886]\n",
       "  Function calls:  9870\n",
       "  Total time:      7538.2660 s\n",
       "  Stop reason:     \n"
      ]
     },
     "metadata": {},
     "output_type": "display_data"
    },
    {
     "name": "stderr",
     "output_type": "stream",
     "text": [
      "\u001b[36m\u001b[1m[ \u001b[22m\u001b[39m\u001b[36m\u001b[1mInfo: \u001b[22m\u001b[39mCurrent Status of ECA\n"
     ]
    },
    {
     "data": {
      "text/html": [
       "<pre>\n",
       "Optimization Result\n",
       "===================\n",
       "  Iteration:       236\n",
       "  Minimum:         13326.2\n",
       "  Minimizer:       [195.521, 5.40455, 1572.79, …, 737.886]\n",
       "  Function calls:  9912\n",
       "  Total time:      7568.2950 s\n",
       "  Stop reason:     \n",
       "</pre>\n"
      ],
      "text/plain": [
       "\u001b[34m\u001b[1mOptimization Result\u001b[22m\u001b[39m\n",
       "\u001b[39m===================\u001b[39m\n",
       "  Iteration:       236\n",
       "  Minimum:         13326.2\n",
       "  Minimizer:       [195.521, 5.40455, 1572.79, …, 737.886]\n",
       "  Function calls:  9912\n",
       "  Total time:      7568.2950 s\n",
       "  Stop reason:     \n"
      ]
     },
     "metadata": {},
     "output_type": "display_data"
    },
    {
     "name": "stderr",
     "output_type": "stream",
     "text": [
      "\u001b[36m\u001b[1m[ \u001b[22m\u001b[39m\u001b[36m\u001b[1mInfo: \u001b[22m\u001b[39mCurrent Status of ECA\n"
     ]
    },
    {
     "data": {
      "text/html": [
       "<pre>\n",
       "Optimization Result\n",
       "===================\n",
       "  Iteration:       237\n",
       "  Minimum:         13326.2\n",
       "  Minimizer:       [195.827, 5.4049, 1568.81, …, 730.214]\n",
       "  Function calls:  9954\n",
       "  Total time:      7600.3970 s\n",
       "  Stop reason:     \n",
       "</pre>\n"
      ],
      "text/plain": [
       "\u001b[34m\u001b[1mOptimization Result\u001b[22m\u001b[39m\n",
       "\u001b[39m===================\u001b[39m\n",
       "  Iteration:       237\n",
       "  Minimum:         13326.2\n",
       "  Minimizer:       [195.827, 5.4049, 1568.81, …, 730.214]\n",
       "  Function calls:  9954\n",
       "  Total time:      7600.3970 s\n",
       "  Stop reason:     \n"
      ]
     },
     "metadata": {},
     "output_type": "display_data"
    },
    {
     "name": "stderr",
     "output_type": "stream",
     "text": [
      "\u001b[36m\u001b[1m[ \u001b[22m\u001b[39m\u001b[36m\u001b[1mInfo: \u001b[22m\u001b[39mCurrent Status of ECA\n"
     ]
    },
    {
     "data": {
      "text/html": [
       "<pre>\n",
       "Optimization Result\n",
       "===================\n",
       "  Iteration:       238\n",
       "  Minimum:         13326.2\n",
       "  Minimizer:       [195.827, 5.4049, 1568.81, …, 730.214]\n",
       "  Function calls:  9996\n",
       "  Total time:      7630.2800 s\n",
       "  Stop reason:     \n",
       "</pre>\n"
      ],
      "text/plain": [
       "\u001b[34m\u001b[1mOptimization Result\u001b[22m\u001b[39m\n",
       "\u001b[39m===================\u001b[39m\n",
       "  Iteration:       238\n",
       "  Minimum:         13326.2\n",
       "  Minimizer:       [195.827, 5.4049, 1568.81, …, 730.214]\n",
       "  Function calls:  9996\n",
       "  Total time:      7630.2800 s\n",
       "  Stop reason:     \n"
      ]
     },
     "metadata": {},
     "output_type": "display_data"
    },
    {
     "name": "stderr",
     "output_type": "stream",
     "text": [
      "\u001b[36m\u001b[1m[ \u001b[22m\u001b[39m\u001b[36m\u001b[1mInfo: \u001b[22m\u001b[39mCurrent Status of ECA\n"
     ]
    },
    {
     "data": {
      "text/html": [
       "<pre>\n",
       "Optimization Result\n",
       "===================\n",
       "  Iteration:       239\n",
       "  Minimum:         13326.2\n",
       "  Minimizer:       [195.827, 5.4049, 1568.81, …, 730.214]\n",
       "  Function calls:  10038\n",
       "  Total time:      7660.2120 s\n",
       "  Stop reason:     \n",
       "</pre>\n"
      ],
      "text/plain": [
       "\u001b[34m\u001b[1mOptimization Result\u001b[22m\u001b[39m\n",
       "\u001b[39m===================\u001b[39m\n",
       "  Iteration:       239\n",
       "  Minimum:         13326.2\n",
       "  Minimizer:       [195.827, 5.4049, 1568.81, …, 730.214]\n",
       "  Function calls:  10038\n",
       "  Total time:      7660.2120 s\n",
       "  Stop reason:     \n"
      ]
     },
     "metadata": {},
     "output_type": "display_data"
    },
    {
     "name": "stderr",
     "output_type": "stream",
     "text": [
      "\u001b[36m\u001b[1m[ \u001b[22m\u001b[39m\u001b[36m\u001b[1mInfo: \u001b[22m\u001b[39mCurrent Status of ECA\n"
     ]
    },
    {
     "data": {
      "text/html": [
       "<pre>\n",
       "Optimization Result\n",
       "===================\n",
       "  Iteration:       240\n",
       "  Minimum:         13326.1\n",
       "  Minimizer:       [195.255, 5.39908, 1575.52, …, 732.125]\n",
       "  Function calls:  10080\n",
       "  Total time:      7690.2100 s\n",
       "  Stop reason:     \n",
       "</pre>\n"
      ],
      "text/plain": [
       "\u001b[34m\u001b[1mOptimization Result\u001b[22m\u001b[39m\n",
       "\u001b[39m===================\u001b[39m\n",
       "  Iteration:       240\n",
       "  Minimum:         13326.1\n",
       "  Minimizer:       [195.255, 5.39908, 1575.52, …, 732.125]\n",
       "  Function calls:  10080\n",
       "  Total time:      7690.2100 s\n",
       "  Stop reason:     \n"
      ]
     },
     "metadata": {},
     "output_type": "display_data"
    },
    {
     "name": "stderr",
     "output_type": "stream",
     "text": [
      "\u001b[36m\u001b[1m[ \u001b[22m\u001b[39m\u001b[36m\u001b[1mInfo: \u001b[22m\u001b[39mCurrent Status of ECA\n"
     ]
    },
    {
     "data": {
      "text/html": [
       "<pre>\n",
       "Optimization Result\n",
       "===================\n",
       "  Iteration:       241\n",
       "  Minimum:         13326.1\n",
       "  Minimizer:       [195.339, 5.39396, 1575.67, …, 715.407]\n",
       "  Function calls:  10122\n",
       "  Total time:      7720.0940 s\n",
       "  Stop reason:     \n",
       "</pre>\n"
      ],
      "text/plain": [
       "\u001b[34m\u001b[1mOptimization Result\u001b[22m\u001b[39m\n",
       "\u001b[39m===================\u001b[39m\n",
       "  Iteration:       241\n",
       "  Minimum:         13326.1\n",
       "  Minimizer:       [195.339, 5.39396, 1575.67, …, 715.407]\n",
       "  Function calls:  10122\n",
       "  Total time:      7720.0940 s\n",
       "  Stop reason:     \n"
      ]
     },
     "metadata": {},
     "output_type": "display_data"
    },
    {
     "name": "stderr",
     "output_type": "stream",
     "text": [
      "\u001b[36m\u001b[1m[ \u001b[22m\u001b[39m\u001b[36m\u001b[1mInfo: \u001b[22m\u001b[39mCurrent Status of ECA\n"
     ]
    },
    {
     "data": {
      "text/html": [
       "<pre>\n",
       "Optimization Result\n",
       "===================\n",
       "  Iteration:       242\n",
       "  Minimum:         13326.1\n",
       "  Minimizer:       [195.339, 5.39396, 1575.67, …, 715.407]\n",
       "  Function calls:  10164\n",
       "  Total time:      7749.7750 s\n",
       "  Stop reason:     \n",
       "</pre>\n"
      ],
      "text/plain": [
       "\u001b[34m\u001b[1mOptimization Result\u001b[22m\u001b[39m\n",
       "\u001b[39m===================\u001b[39m\n",
       "  Iteration:       242\n",
       "  Minimum:         13326.1\n",
       "  Minimizer:       [195.339, 5.39396, 1575.67, …, 715.407]\n",
       "  Function calls:  10164\n",
       "  Total time:      7749.7750 s\n",
       "  Stop reason:     \n"
      ]
     },
     "metadata": {},
     "output_type": "display_data"
    },
    {
     "name": "stderr",
     "output_type": "stream",
     "text": [
      "\u001b[36m\u001b[1m[ \u001b[22m\u001b[39m\u001b[36m\u001b[1mInfo: \u001b[22m\u001b[39mCurrent Status of ECA\n"
     ]
    },
    {
     "data": {
      "text/html": [
       "<pre>\n",
       "Optimization Result\n",
       "===================\n",
       "  Iteration:       243\n",
       "  Minimum:         13326.1\n",
       "  Minimizer:       [195.339, 5.39396, 1575.67, …, 715.407]\n",
       "  Function calls:  10206\n",
       "  Total time:      7781.8420 s\n",
       "  Stop reason:     \n",
       "</pre>\n"
      ],
      "text/plain": [
       "\u001b[34m\u001b[1mOptimization Result\u001b[22m\u001b[39m\n",
       "\u001b[39m===================\u001b[39m\n",
       "  Iteration:       243\n",
       "  Minimum:         13326.1\n",
       "  Minimizer:       [195.339, 5.39396, 1575.67, …, 715.407]\n",
       "  Function calls:  10206\n",
       "  Total time:      7781.8420 s\n",
       "  Stop reason:     \n"
      ]
     },
     "metadata": {},
     "output_type": "display_data"
    },
    {
     "name": "stderr",
     "output_type": "stream",
     "text": [
      "\u001b[36m\u001b[1m[ \u001b[22m\u001b[39m\u001b[36m\u001b[1mInfo: \u001b[22m\u001b[39mCurrent Status of ECA\n"
     ]
    },
    {
     "data": {
      "text/html": [
       "<pre>\n",
       "Optimization Result\n",
       "===================\n",
       "  Iteration:       244\n",
       "  Minimum:         13326.1\n",
       "  Minimizer:       [195.272, 5.39395, 1572.65, …, 721.63]\n",
       "  Function calls:  10248\n",
       "  Total time:      7811.9120 s\n",
       "  Stop reason:     \n",
       "</pre>\n"
      ],
      "text/plain": [
       "\u001b[34m\u001b[1mOptimization Result\u001b[22m\u001b[39m\n",
       "\u001b[39m===================\u001b[39m\n",
       "  Iteration:       244\n",
       "  Minimum:         13326.1\n",
       "  Minimizer:       [195.272, 5.39395, 1572.65, …, 721.63]\n",
       "  Function calls:  10248\n",
       "  Total time:      7811.9120 s\n",
       "  Stop reason:     \n"
      ]
     },
     "metadata": {},
     "output_type": "display_data"
    },
    {
     "name": "stderr",
     "output_type": "stream",
     "text": [
      "\u001b[36m\u001b[1m[ \u001b[22m\u001b[39m\u001b[36m\u001b[1mInfo: \u001b[22m\u001b[39mCurrent Status of ECA\n"
     ]
    },
    {
     "data": {
      "text/html": [
       "<pre>\n",
       "Optimization Result\n",
       "===================\n",
       "  Iteration:       245\n",
       "  Minimum:         13326.1\n",
       "  Minimizer:       [195.272, 5.39395, 1572.65, …, 721.63]\n",
       "  Function calls:  10290\n",
       "  Total time:      7841.5670 s\n",
       "  Stop reason:     \n",
       "</pre>\n"
      ],
      "text/plain": [
       "\u001b[34m\u001b[1mOptimization Result\u001b[22m\u001b[39m\n",
       "\u001b[39m===================\u001b[39m\n",
       "  Iteration:       245\n",
       "  Minimum:         13326.1\n",
       "  Minimizer:       [195.272, 5.39395, 1572.65, …, 721.63]\n",
       "  Function calls:  10290\n",
       "  Total time:      7841.5670 s\n",
       "  Stop reason:     \n"
      ]
     },
     "metadata": {},
     "output_type": "display_data"
    },
    {
     "name": "stderr",
     "output_type": "stream",
     "text": [
      "\u001b[36m\u001b[1m[ \u001b[22m\u001b[39m\u001b[36m\u001b[1mInfo: \u001b[22m\u001b[39mCurrent Status of ECA\n"
     ]
    },
    {
     "data": {
      "text/html": [
       "<pre>\n",
       "Optimization Result\n",
       "===================\n",
       "  Iteration:       246\n",
       "  Minimum:         13326.1\n",
       "  Minimizer:       [195.272, 5.39395, 1572.65, …, 721.63]\n",
       "  Function calls:  10332\n",
       "  Total time:      7871.6200 s\n",
       "  Stop reason:     \n",
       "</pre>\n"
      ],
      "text/plain": [
       "\u001b[34m\u001b[1mOptimization Result\u001b[22m\u001b[39m\n",
       "\u001b[39m===================\u001b[39m\n",
       "  Iteration:       246\n",
       "  Minimum:         13326.1\n",
       "  Minimizer:       [195.272, 5.39395, 1572.65, …, 721.63]\n",
       "  Function calls:  10332\n",
       "  Total time:      7871.6200 s\n",
       "  Stop reason:     \n"
      ]
     },
     "metadata": {},
     "output_type": "display_data"
    },
    {
     "name": "stderr",
     "output_type": "stream",
     "text": [
      "\u001b[36m\u001b[1m[ \u001b[22m\u001b[39m\u001b[36m\u001b[1mInfo: \u001b[22m\u001b[39mCurrent Status of ECA\n"
     ]
    },
    {
     "data": {
      "text/html": [
       "<pre>\n",
       "Optimization Result\n",
       "===================\n",
       "  Iteration:       247\n",
       "  Minimum:         13326.1\n",
       "  Minimizer:       [195.272, 5.39395, 1572.65, …, 721.63]\n",
       "  Function calls:  10374\n",
       "  Total time:      7902.0940 s\n",
       "  Stop reason:     \n",
       "</pre>\n"
      ],
      "text/plain": [
       "\u001b[34m\u001b[1mOptimization Result\u001b[22m\u001b[39m\n",
       "\u001b[39m===================\u001b[39m\n",
       "  Iteration:       247\n",
       "  Minimum:         13326.1\n",
       "  Minimizer:       [195.272, 5.39395, 1572.65, …, 721.63]\n",
       "  Function calls:  10374\n",
       "  Total time:      7902.0940 s\n",
       "  Stop reason:     \n"
      ]
     },
     "metadata": {},
     "output_type": "display_data"
    },
    {
     "name": "stderr",
     "output_type": "stream",
     "text": [
      "\u001b[36m\u001b[1m[ \u001b[22m\u001b[39m\u001b[36m\u001b[1mInfo: \u001b[22m\u001b[39mCurrent Status of ECA\n"
     ]
    },
    {
     "data": {
      "text/html": [
       "<pre>\n",
       "Optimization Result\n",
       "===================\n",
       "  Iteration:       248\n",
       "  Minimum:         13326.1\n",
       "  Minimizer:       [195.272, 5.39395, 1572.65, …, 721.63]\n",
       "  Function calls:  10416\n",
       "  Total time:      7932.1210 s\n",
       "  Stop reason:     \n",
       "</pre>\n"
      ],
      "text/plain": [
       "\u001b[34m\u001b[1mOptimization Result\u001b[22m\u001b[39m\n",
       "\u001b[39m===================\u001b[39m\n",
       "  Iteration:       248\n",
       "  Minimum:         13326.1\n",
       "  Minimizer:       [195.272, 5.39395, 1572.65, …, 721.63]\n",
       "  Function calls:  10416\n",
       "  Total time:      7932.1210 s\n",
       "  Stop reason:     \n"
      ]
     },
     "metadata": {},
     "output_type": "display_data"
    },
    {
     "name": "stderr",
     "output_type": "stream",
     "text": [
      "\u001b[36m\u001b[1m[ \u001b[22m\u001b[39m\u001b[36m\u001b[1mInfo: \u001b[22m\u001b[39mCurrent Status of ECA\n"
     ]
    },
    {
     "data": {
      "text/html": [
       "<pre>\n",
       "Optimization Result\n",
       "===================\n",
       "  Iteration:       249\n",
       "  Minimum:         13326.1\n",
       "  Minimizer:       [195.272, 5.39395, 1572.65, …, 721.63]\n",
       "  Function calls:  10458\n",
       "  Total time:      7965.2730 s\n",
       "  Stop reason:     \n",
       "</pre>\n"
      ],
      "text/plain": [
       "\u001b[34m\u001b[1mOptimization Result\u001b[22m\u001b[39m\n",
       "\u001b[39m===================\u001b[39m\n",
       "  Iteration:       249\n",
       "  Minimum:         13326.1\n",
       "  Minimizer:       [195.272, 5.39395, 1572.65, …, 721.63]\n",
       "  Function calls:  10458\n",
       "  Total time:      7965.2730 s\n",
       "  Stop reason:     \n"
      ]
     },
     "metadata": {},
     "output_type": "display_data"
    },
    {
     "name": "stderr",
     "output_type": "stream",
     "text": [
      "\u001b[36m\u001b[1m[ \u001b[22m\u001b[39m\u001b[36m\u001b[1mInfo: \u001b[22m\u001b[39mCurrent Status of ECA\n"
     ]
    },
    {
     "data": {
      "text/html": [
       "<pre>\n",
       "Optimization Result\n",
       "===================\n",
       "  Iteration:       250\n",
       "  Minimum:         13326.1\n",
       "  Minimizer:       [194.586, 5.38584, 1573.49, …, 729.04]\n",
       "  Function calls:  10500\n",
       "  Total time:      7995.6450 s\n",
       "  Stop reason:     \n",
       "</pre>\n"
      ],
      "text/plain": [
       "\u001b[34m\u001b[1mOptimization Result\u001b[22m\u001b[39m\n",
       "\u001b[39m===================\u001b[39m\n",
       "  Iteration:       250\n",
       "  Minimum:         13326.1\n",
       "  Minimizer:       [194.586, 5.38584, 1573.49, …, 729.04]\n",
       "  Function calls:  10500\n",
       "  Total time:      7995.6450 s\n",
       "  Stop reason:     \n"
      ]
     },
     "metadata": {},
     "output_type": "display_data"
    },
    {
     "name": "stderr",
     "output_type": "stream",
     "text": [
      "\u001b[36m\u001b[1m[ \u001b[22m\u001b[39m\u001b[36m\u001b[1mInfo: \u001b[22m\u001b[39mCurrent Status of ECA\n"
     ]
    },
    {
     "data": {
      "text/html": [
       "<pre>\n",
       "Optimization Result\n",
       "===================\n",
       "  Iteration:       251\n",
       "  Minimum:         13326.1\n",
       "  Minimizer:       [194.586, 5.38584, 1573.49, …, 729.04]\n",
       "  Function calls:  10542\n",
       "  Total time:      8025.5280 s\n",
       "  Stop reason:     \n",
       "</pre>\n"
      ],
      "text/plain": [
       "\u001b[34m\u001b[1mOptimization Result\u001b[22m\u001b[39m\n",
       "\u001b[39m===================\u001b[39m\n",
       "  Iteration:       251\n",
       "  Minimum:         13326.1\n",
       "  Minimizer:       [194.586, 5.38584, 1573.49, …, 729.04]\n",
       "  Function calls:  10542\n",
       "  Total time:      8025.5280 s\n",
       "  Stop reason:     \n"
      ]
     },
     "metadata": {},
     "output_type": "display_data"
    },
    {
     "name": "stderr",
     "output_type": "stream",
     "text": [
      "\u001b[36m\u001b[1m[ \u001b[22m\u001b[39m\u001b[36m\u001b[1mInfo: \u001b[22m\u001b[39mCurrent Status of ECA\n"
     ]
    },
    {
     "data": {
      "text/html": [
       "<pre>\n",
       "Optimization Result\n",
       "===================\n",
       "  Iteration:       252\n",
       "  Minimum:         13326.1\n",
       "  Minimizer:       [195.192, 5.39293, 1572.46, …, 722.607]\n",
       "  Function calls:  10584\n",
       "  Total time:      8055.5150 s\n",
       "  Stop reason:     \n",
       "</pre>\n"
      ],
      "text/plain": [
       "\u001b[34m\u001b[1mOptimization Result\u001b[22m\u001b[39m\n",
       "\u001b[39m===================\u001b[39m\n",
       "  Iteration:       252\n",
       "  Minimum:         13326.1\n",
       "  Minimizer:       [195.192, 5.39293, 1572.46, …, 722.607]\n",
       "  Function calls:  10584\n",
       "  Total time:      8055.5150 s\n",
       "  Stop reason:     \n"
      ]
     },
     "metadata": {},
     "output_type": "display_data"
    },
    {
     "name": "stderr",
     "output_type": "stream",
     "text": [
      "\u001b[36m\u001b[1m[ \u001b[22m\u001b[39m\u001b[36m\u001b[1mInfo: \u001b[22m\u001b[39mCurrent Status of ECA\n"
     ]
    },
    {
     "data": {
      "text/html": [
       "<pre>\n",
       "Optimization Result\n",
       "===================\n",
       "  Iteration:       253\n",
       "  Minimum:         13326.1\n",
       "  Minimizer:       [195.192, 5.39293, 1572.46, …, 722.607]\n",
       "  Function calls:  10626\n",
       "  Total time:      8084.9890 s\n",
       "  Stop reason:     \n",
       "</pre>\n"
      ],
      "text/plain": [
       "\u001b[34m\u001b[1mOptimization Result\u001b[22m\u001b[39m\n",
       "\u001b[39m===================\u001b[39m\n",
       "  Iteration:       253\n",
       "  Minimum:         13326.1\n",
       "  Minimizer:       [195.192, 5.39293, 1572.46, …, 722.607]\n",
       "  Function calls:  10626\n",
       "  Total time:      8084.9890 s\n",
       "  Stop reason:     \n"
      ]
     },
     "metadata": {},
     "output_type": "display_data"
    },
    {
     "name": "stderr",
     "output_type": "stream",
     "text": [
      "\u001b[36m\u001b[1m[ \u001b[22m\u001b[39m\u001b[36m\u001b[1mInfo: \u001b[22m\u001b[39mCurrent Status of ECA\n"
     ]
    },
    {
     "data": {
      "text/html": [
       "<pre>\n",
       "Optimization Result\n",
       "===================\n",
       "  Iteration:       254\n",
       "  Minimum:         13326.1\n",
       "  Minimizer:       [194.714, 5.38654, 1572.56, …, 726.485]\n",
       "  Function calls:  10668\n",
       "  Total time:      8114.5310 s\n",
       "  Stop reason:     \n",
       "</pre>\n"
      ],
      "text/plain": [
       "\u001b[34m\u001b[1mOptimization Result\u001b[22m\u001b[39m\n",
       "\u001b[39m===================\u001b[39m\n",
       "  Iteration:       254\n",
       "  Minimum:         13326.1\n",
       "  Minimizer:       [194.714, 5.38654, 1572.56, …, 726.485]\n",
       "  Function calls:  10668\n",
       "  Total time:      8114.5310 s\n",
       "  Stop reason:     \n"
      ]
     },
     "metadata": {},
     "output_type": "display_data"
    },
    {
     "name": "stderr",
     "output_type": "stream",
     "text": [
      "\u001b[36m\u001b[1m[ \u001b[22m\u001b[39m\u001b[36m\u001b[1mInfo: \u001b[22m\u001b[39mCurrent Status of ECA\n"
     ]
    },
    {
     "data": {
      "text/html": [
       "<pre>\n",
       "Optimization Result\n",
       "===================\n",
       "  Iteration:       255\n",
       "  Minimum:         13326.1\n",
       "  Minimizer:       [195.098, 5.38926, 1567.45, …, 722.829]\n",
       "  Function calls:  10710\n",
       "  Total time:      8146.4710 s\n",
       "  Stop reason:     \n",
       "</pre>\n"
      ],
      "text/plain": [
       "\u001b[34m\u001b[1mOptimization Result\u001b[22m\u001b[39m\n",
       "\u001b[39m===================\u001b[39m\n",
       "  Iteration:       255\n",
       "  Minimum:         13326.1\n",
       "  Minimizer:       [195.098, 5.38926, 1567.45, …, 722.829]\n",
       "  Function calls:  10710\n",
       "  Total time:      8146.4710 s\n",
       "  Stop reason:     \n"
      ]
     },
     "metadata": {},
     "output_type": "display_data"
    },
    {
     "name": "stderr",
     "output_type": "stream",
     "text": [
      "\u001b[36m\u001b[1m[ \u001b[22m\u001b[39m\u001b[36m\u001b[1mInfo: \u001b[22m\u001b[39mCurrent Status of ECA\n"
     ]
    },
    {
     "data": {
      "text/html": [
       "<pre>\n",
       "Optimization Result\n",
       "===================\n",
       "  Iteration:       256\n",
       "  Minimum:         13326.1\n",
       "  Minimizer:       [194.654, 5.38579, 1570.08, …, 729.905]\n",
       "  Function calls:  10752\n",
       "  Total time:      8176.4000 s\n",
       "  Stop reason:     \n",
       "</pre>\n"
      ],
      "text/plain": [
       "\u001b[34m\u001b[1mOptimization Result\u001b[22m\u001b[39m\n",
       "\u001b[39m===================\u001b[39m\n",
       "  Iteration:       256\n",
       "  Minimum:         13326.1\n",
       "  Minimizer:       [194.654, 5.38579, 1570.08, …, 729.905]\n",
       "  Function calls:  10752\n",
       "  Total time:      8176.4000 s\n",
       "  Stop reason:     \n"
      ]
     },
     "metadata": {},
     "output_type": "display_data"
    },
    {
     "name": "stderr",
     "output_type": "stream",
     "text": [
      "\u001b[36m\u001b[1m[ \u001b[22m\u001b[39m\u001b[36m\u001b[1mInfo: \u001b[22m\u001b[39mCurrent Status of ECA\n"
     ]
    },
    {
     "data": {
      "text/html": [
       "<pre>\n",
       "Optimization Result\n",
       "===================\n",
       "  Iteration:       257\n",
       "  Minimum:         13326.1\n",
       "  Minimizer:       [194.684, 5.38455, 1570.71, …, 724.67]\n",
       "  Function calls:  10794\n",
       "  Total time:      8206.2970 s\n",
       "  Stop reason:     \n",
       "</pre>\n"
      ],
      "text/plain": [
       "\u001b[34m\u001b[1mOptimization Result\u001b[22m\u001b[39m\n",
       "\u001b[39m===================\u001b[39m\n",
       "  Iteration:       257\n",
       "  Minimum:         13326.1\n",
       "  Minimizer:       [194.684, 5.38455, 1570.71, …, 724.67]\n",
       "  Function calls:  10794\n",
       "  Total time:      8206.2970 s\n",
       "  Stop reason:     \n"
      ]
     },
     "metadata": {},
     "output_type": "display_data"
    },
    {
     "name": "stderr",
     "output_type": "stream",
     "text": [
      "\u001b[36m\u001b[1m[ \u001b[22m\u001b[39m\u001b[36m\u001b[1mInfo: \u001b[22m\u001b[39mCurrent Status of ECA\n"
     ]
    },
    {
     "data": {
      "text/html": [
       "<pre>\n",
       "Optimization Result\n",
       "===================\n",
       "  Iteration:       258\n",
       "  Minimum:         13326.1\n",
       "  Minimizer:       [194.927, 5.38686, 1569.18, …, 722.051]\n",
       "  Function calls:  10836\n",
       "  Total time:      8236.3620 s\n",
       "  Stop reason:     \n",
       "</pre>\n"
      ],
      "text/plain": [
       "\u001b[34m\u001b[1mOptimization Result\u001b[22m\u001b[39m\n",
       "\u001b[39m===================\u001b[39m\n",
       "  Iteration:       258\n",
       "  Minimum:         13326.1\n",
       "  Minimizer:       [194.927, 5.38686, 1569.18, …, 722.051]\n",
       "  Function calls:  10836\n",
       "  Total time:      8236.3620 s\n",
       "  Stop reason:     \n"
      ]
     },
     "metadata": {},
     "output_type": "display_data"
    },
    {
     "name": "stderr",
     "output_type": "stream",
     "text": [
      "\u001b[36m\u001b[1m[ \u001b[22m\u001b[39m\u001b[36m\u001b[1mInfo: \u001b[22m\u001b[39mCurrent Status of ECA\n"
     ]
    },
    {
     "data": {
      "text/html": [
       "<pre>\n",
       "Optimization Result\n",
       "===================\n",
       "  Iteration:       259\n",
       "  Minimum:         13326.1\n",
       "  Minimizer:       [193.94, 5.37461, 1568.17, …, 733.79]\n",
       "  Function calls:  10878\n",
       "  Total time:      8266.5550 s\n",
       "  Stop reason:     \n",
       "</pre>\n"
      ],
      "text/plain": [
       "\u001b[34m\u001b[1mOptimization Result\u001b[22m\u001b[39m\n",
       "\u001b[39m===================\u001b[39m\n",
       "  Iteration:       259\n",
       "  Minimum:         13326.1\n",
       "  Minimizer:       [193.94, 5.37461, 1568.17, …, 733.79]\n",
       "  Function calls:  10878\n",
       "  Total time:      8266.5550 s\n",
       "  Stop reason:     \n"
      ]
     },
     "metadata": {},
     "output_type": "display_data"
    },
    {
     "name": "stderr",
     "output_type": "stream",
     "text": [
      "\u001b[36m\u001b[1m[ \u001b[22m\u001b[39m\u001b[36m\u001b[1mInfo: \u001b[22m\u001b[39mCurrent Status of ECA\n"
     ]
    },
    {
     "data": {
      "text/html": [
       "<pre>\n",
       "Optimization Result\n",
       "===================\n",
       "  Iteration:       260\n",
       "  Minimum:         13326.1\n",
       "  Minimizer:       [193.94, 5.37461, 1568.17, …, 733.79]\n",
       "  Function calls:  10920\n",
       "  Total time:      8296.4630 s\n",
       "  Stop reason:     \n",
       "</pre>\n"
      ],
      "text/plain": [
       "\u001b[34m\u001b[1mOptimization Result\u001b[22m\u001b[39m\n",
       "\u001b[39m===================\u001b[39m\n",
       "  Iteration:       260\n",
       "  Minimum:         13326.1\n",
       "  Minimizer:       [193.94, 5.37461, 1568.17, …, 733.79]\n",
       "  Function calls:  10920\n",
       "  Total time:      8296.4630 s\n",
       "  Stop reason:     \n"
      ]
     },
     "metadata": {},
     "output_type": "display_data"
    },
    {
     "name": "stderr",
     "output_type": "stream",
     "text": [
      "\u001b[36m\u001b[1m[ \u001b[22m\u001b[39m\u001b[36m\u001b[1mInfo: \u001b[22m\u001b[39mCurrent Status of ECA\n"
     ]
    },
    {
     "data": {
      "text/html": [
       "<pre>\n",
       "Optimization Result\n",
       "===================\n",
       "  Iteration:       261\n",
       "  Minimum:         13326.1\n",
       "  Minimizer:       [193.94, 5.37461, 1568.17, …, 733.79]\n",
       "  Function calls:  10962\n",
       "  Total time:      8328.4030 s\n",
       "  Stop reason:     \n",
       "</pre>\n"
      ],
      "text/plain": [
       "\u001b[34m\u001b[1mOptimization Result\u001b[22m\u001b[39m\n",
       "\u001b[39m===================\u001b[39m\n",
       "  Iteration:       261\n",
       "  Minimum:         13326.1\n",
       "  Minimizer:       [193.94, 5.37461, 1568.17, …, 733.79]\n",
       "  Function calls:  10962\n",
       "  Total time:      8328.4030 s\n",
       "  Stop reason:     \n"
      ]
     },
     "metadata": {},
     "output_type": "display_data"
    },
    {
     "name": "stderr",
     "output_type": "stream",
     "text": [
      "\u001b[36m\u001b[1m[ \u001b[22m\u001b[39m\u001b[36m\u001b[1mInfo: \u001b[22m\u001b[39mCurrent Status of ECA\n"
     ]
    },
    {
     "data": {
      "text/html": [
       "<pre>\n",
       "Optimization Result\n",
       "===================\n",
       "  Iteration:       262\n",
       "  Minimum:         13326.1\n",
       "  Minimizer:       [193.94, 5.37461, 1568.17, …, 733.79]\n",
       "  Function calls:  11004\n",
       "  Total time:      8358.1610 s\n",
       "  Stop reason:     \n",
       "</pre>\n"
      ],
      "text/plain": [
       "\u001b[34m\u001b[1mOptimization Result\u001b[22m\u001b[39m\n",
       "\u001b[39m===================\u001b[39m\n",
       "  Iteration:       262\n",
       "  Minimum:         13326.1\n",
       "  Minimizer:       [193.94, 5.37461, 1568.17, …, 733.79]\n",
       "  Function calls:  11004\n",
       "  Total time:      8358.1610 s\n",
       "  Stop reason:     \n"
      ]
     },
     "metadata": {},
     "output_type": "display_data"
    },
    {
     "name": "stderr",
     "output_type": "stream",
     "text": [
      "\u001b[36m\u001b[1m[ \u001b[22m\u001b[39m\u001b[36m\u001b[1mInfo: \u001b[22m\u001b[39mCurrent Status of ECA\n"
     ]
    },
    {
     "data": {
      "text/html": [
       "<pre>\n",
       "Optimization Result\n",
       "===================\n",
       "  Iteration:       263\n",
       "  Minimum:         13326.1\n",
       "  Minimizer:       [194.436, 5.37961, 1568.86, …, 724.677]\n",
       "  Function calls:  11046\n",
       "  Total time:      8387.6700 s\n",
       "  Stop reason:     \n",
       "</pre>\n"
      ],
      "text/plain": [
       "\u001b[34m\u001b[1mOptimization Result\u001b[22m\u001b[39m\n",
       "\u001b[39m===================\u001b[39m\n",
       "  Iteration:       263\n",
       "  Minimum:         13326.1\n",
       "  Minimizer:       [194.436, 5.37961, 1568.86, …, 724.677]\n",
       "  Function calls:  11046\n",
       "  Total time:      8387.6700 s\n",
       "  Stop reason:     \n"
      ]
     },
     "metadata": {},
     "output_type": "display_data"
    },
    {
     "name": "stderr",
     "output_type": "stream",
     "text": [
      "\u001b[36m\u001b[1m[ \u001b[22m\u001b[39m\u001b[36m\u001b[1mInfo: \u001b[22m\u001b[39mCurrent Status of ECA\n"
     ]
    },
    {
     "data": {
      "text/html": [
       "<pre>\n",
       "Optimization Result\n",
       "===================\n",
       "  Iteration:       264\n",
       "  Minimum:         13326.1\n",
       "  Minimizer:       [194.436, 5.37961, 1568.86, …, 724.677]\n",
       "  Function calls:  11088\n",
       "  Total time:      8417.7130 s\n",
       "  Stop reason:     \n",
       "</pre>\n"
      ],
      "text/plain": [
       "\u001b[34m\u001b[1mOptimization Result\u001b[22m\u001b[39m\n",
       "\u001b[39m===================\u001b[39m\n",
       "  Iteration:       264\n",
       "  Minimum:         13326.1\n",
       "  Minimizer:       [194.436, 5.37961, 1568.86, …, 724.677]\n",
       "  Function calls:  11088\n",
       "  Total time:      8417.7130 s\n",
       "  Stop reason:     \n"
      ]
     },
     "metadata": {},
     "output_type": "display_data"
    },
    {
     "name": "stderr",
     "output_type": "stream",
     "text": [
      "\u001b[36m\u001b[1m[ \u001b[22m\u001b[39m\u001b[36m\u001b[1mInfo: \u001b[22m\u001b[39mCurrent Status of ECA\n"
     ]
    },
    {
     "data": {
      "text/html": [
       "<pre>\n",
       "Optimization Result\n",
       "===================\n",
       "  Iteration:       265\n",
       "  Minimum:         13326.1\n",
       "  Minimizer:       [193.459, 5.36881, 1569.18, …, 738.258]\n",
       "  Function calls:  11130\n",
       "  Total time:      8447.9280 s\n",
       "  Stop reason:     \n",
       "</pre>\n"
      ],
      "text/plain": [
       "\u001b[34m\u001b[1mOptimization Result\u001b[22m\u001b[39m\n",
       "\u001b[39m===================\u001b[39m\n",
       "  Iteration:       265\n",
       "  Minimum:         13326.1\n",
       "  Minimizer:       [193.459, 5.36881, 1569.18, …, 738.258]\n",
       "  Function calls:  11130\n",
       "  Total time:      8447.9280 s\n",
       "  Stop reason:     \n"
      ]
     },
     "metadata": {},
     "output_type": "display_data"
    },
    {
     "name": "stderr",
     "output_type": "stream",
     "text": [
      "\u001b[36m\u001b[1m[ \u001b[22m\u001b[39m\u001b[36m\u001b[1mInfo: \u001b[22m\u001b[39mCurrent Status of ECA\n"
     ]
    },
    {
     "data": {
      "text/html": [
       "<pre>\n",
       "Optimization Result\n",
       "===================\n",
       "  Iteration:       266\n",
       "  Minimum:         13326.1\n",
       "  Minimizer:       [194.192, 5.37793, 1569.88, …, 729.633]\n",
       "  Function calls:  11172\n",
       "  Total time:      8478.0460 s\n",
       "  Stop reason:     \n",
       "</pre>\n"
      ],
      "text/plain": [
       "\u001b[34m\u001b[1mOptimization Result\u001b[22m\u001b[39m\n",
       "\u001b[39m===================\u001b[39m\n",
       "  Iteration:       266\n",
       "  Minimum:         13326.1\n",
       "  Minimizer:       [194.192, 5.37793, 1569.88, …, 729.633]\n",
       "  Function calls:  11172\n",
       "  Total time:      8478.0460 s\n",
       "  Stop reason:     \n"
      ]
     },
     "metadata": {},
     "output_type": "display_data"
    },
    {
     "name": "stderr",
     "output_type": "stream",
     "text": [
      "\u001b[36m\u001b[1m[ \u001b[22m\u001b[39m\u001b[36m\u001b[1mInfo: \u001b[22m\u001b[39mCurrent Status of ECA\n"
     ]
    },
    {
     "data": {
      "text/html": [
       "<pre>\n",
       "Optimization Result\n",
       "===================\n",
       "  Iteration:       267\n",
       "  Minimum:         13326.1\n",
       "  Minimizer:       [194.117, 5.37592, 1568.82, …, 728.832]\n",
       "  Function calls:  11214\n",
       "  Total time:      8510.1200 s\n",
       "  Stop reason:     \n",
       "</pre>\n"
      ],
      "text/plain": [
       "\u001b[34m\u001b[1mOptimization Result\u001b[22m\u001b[39m\n",
       "\u001b[39m===================\u001b[39m\n",
       "  Iteration:       267\n",
       "  Minimum:         13326.1\n",
       "  Minimizer:       [194.117, 5.37592, 1568.82, …, 728.832]\n",
       "  Function calls:  11214\n",
       "  Total time:      8510.1200 s\n",
       "  Stop reason:     \n"
      ]
     },
     "metadata": {},
     "output_type": "display_data"
    },
    {
     "name": "stderr",
     "output_type": "stream",
     "text": [
      "\u001b[36m\u001b[1m[ \u001b[22m\u001b[39m\u001b[36m\u001b[1mInfo: \u001b[22m\u001b[39mCurrent Status of ECA\n"
     ]
    },
    {
     "data": {
      "text/html": [
       "<pre>\n",
       "Optimization Result\n",
       "===================\n",
       "  Iteration:       268\n",
       "  Minimum:         13326.1\n",
       "  Minimizer:       [194.292, 5.37899, 1570.12, …, 727.848]\n",
       "  Function calls:  11256\n",
       "  Total time:      8544.3230 s\n",
       "  Stop reason:     \n",
       "</pre>\n"
      ],
      "text/plain": [
       "\u001b[34m\u001b[1mOptimization Result\u001b[22m\u001b[39m\n",
       "\u001b[39m===================\u001b[39m\n",
       "  Iteration:       268\n",
       "  Minimum:         13326.1\n",
       "  Minimizer:       [194.292, 5.37899, 1570.12, …, 727.848]\n",
       "  Function calls:  11256\n",
       "  Total time:      8544.3230 s\n",
       "  Stop reason:     \n"
      ]
     },
     "metadata": {},
     "output_type": "display_data"
    },
    {
     "name": "stderr",
     "output_type": "stream",
     "text": [
      "\u001b[36m\u001b[1m[ \u001b[22m\u001b[39m\u001b[36m\u001b[1mInfo: \u001b[22m\u001b[39mCurrent Status of ECA\n"
     ]
    },
    {
     "data": {
      "text/html": [
       "<pre>\n",
       "Optimization Result\n",
       "===================\n",
       "  Iteration:       269\n",
       "  Minimum:         13326.1\n",
       "  Minimizer:       [193.623, 5.37079, 1569.5, …, 735.963]\n",
       "  Function calls:  11298\n",
       "  Total time:      8586.3370 s\n",
       "  Stop reason:     \n",
       "</pre>\n"
      ],
      "text/plain": [
       "\u001b[34m\u001b[1mOptimization Result\u001b[22m\u001b[39m\n",
       "\u001b[39m===================\u001b[39m\n",
       "  Iteration:       269\n",
       "  Minimum:         13326.1\n",
       "  Minimizer:       [193.623, 5.37079, 1569.5, …, 735.963]\n",
       "  Function calls:  11298\n",
       "  Total time:      8586.3370 s\n",
       "  Stop reason:     \n"
      ]
     },
     "metadata": {},
     "output_type": "display_data"
    },
    {
     "name": "stderr",
     "output_type": "stream",
     "text": [
      "\u001b[36m\u001b[1m[ \u001b[22m\u001b[39m\u001b[36m\u001b[1mInfo: \u001b[22m\u001b[39mCurrent Status of ECA\n"
     ]
    },
    {
     "data": {
      "text/html": [
       "<pre>\n",
       "Optimization Result\n",
       "===================\n",
       "  Iteration:       270\n",
       "  Minimum:         13326.1\n",
       "  Minimizer:       [193.755, 5.37284, 1569.76, …, 735.331]\n",
       "  Function calls:  11340\n",
       "  Total time:      8622.1750 s\n",
       "  Stop reason:     \n",
       "</pre>\n"
      ],
      "text/plain": [
       "\u001b[34m\u001b[1mOptimization Result\u001b[22m\u001b[39m\n",
       "\u001b[39m===================\u001b[39m\n",
       "  Iteration:       270\n",
       "  Minimum:         13326.1\n",
       "  Minimizer:       [193.755, 5.37284, 1569.76, …, 735.331]\n",
       "  Function calls:  11340\n",
       "  Total time:      8622.1750 s\n",
       "  Stop reason:     \n"
      ]
     },
     "metadata": {},
     "output_type": "display_data"
    },
    {
     "name": "stderr",
     "output_type": "stream",
     "text": [
      "\u001b[36m\u001b[1m[ \u001b[22m\u001b[39m\u001b[36m\u001b[1mInfo: \u001b[22m\u001b[39mCurrent Status of ECA\n"
     ]
    },
    {
     "data": {
      "text/html": [
       "<pre>\n",
       "Optimization Result\n",
       "===================\n",
       "  Iteration:       271\n",
       "  Minimum:         13326.1\n",
       "  Minimizer:       [193.727, 5.37199, 1570.16, …, 733.907]\n",
       "  Function calls:  11382\n",
       "  Total time:      8654.6980 s\n",
       "  Stop reason:     \n",
       "</pre>\n"
      ],
      "text/plain": [
       "\u001b[34m\u001b[1mOptimization Result\u001b[22m\u001b[39m\n",
       "\u001b[39m===================\u001b[39m\n",
       "  Iteration:       271\n",
       "  Minimum:         13326.1\n",
       "  Minimizer:       [193.727, 5.37199, 1570.16, …, 733.907]\n",
       "  Function calls:  11382\n",
       "  Total time:      8654.6980 s\n",
       "  Stop reason:     \n"
      ]
     },
     "metadata": {},
     "output_type": "display_data"
    },
    {
     "name": "stderr",
     "output_type": "stream",
     "text": [
      "\u001b[36m\u001b[1m[ \u001b[22m\u001b[39m\u001b[36m\u001b[1mInfo: \u001b[22m\u001b[39mCurrent Status of ECA\n"
     ]
    },
    {
     "data": {
      "text/html": [
       "<pre>\n",
       "Optimization Result\n",
       "===================\n",
       "  Iteration:       272\n",
       "  Minimum:         13326.1\n",
       "  Minimizer:       [193.805, 5.37286, 1570.49, …, 732.398]\n",
       "  Function calls:  11424\n",
       "  Total time:      8687.4860 s\n",
       "  Stop reason:     \n",
       "</pre>\n"
      ],
      "text/plain": [
       "\u001b[34m\u001b[1mOptimization Result\u001b[22m\u001b[39m\n",
       "\u001b[39m===================\u001b[39m\n",
       "  Iteration:       272\n",
       "  Minimum:         13326.1\n",
       "  Minimizer:       [193.805, 5.37286, 1570.49, …, 732.398]\n",
       "  Function calls:  11424\n",
       "  Total time:      8687.4860 s\n",
       "  Stop reason:     \n"
      ]
     },
     "metadata": {},
     "output_type": "display_data"
    },
    {
     "name": "stderr",
     "output_type": "stream",
     "text": [
      "\u001b[36m\u001b[1m[ \u001b[22m\u001b[39m\u001b[36m\u001b[1mInfo: \u001b[22m\u001b[39mCurrent Status of ECA\n"
     ]
    },
    {
     "data": {
      "text/html": [
       "<pre>\n",
       "Optimization Result\n",
       "===================\n",
       "  Iteration:       273\n",
       "  Minimum:         13326.1\n",
       "  Minimizer:       [193.472, 5.36716, 1570.19, …, 732.269]\n",
       "  Function calls:  11466\n",
       "  Total time:      8718.5120 s\n",
       "  Stop reason:     \n",
       "</pre>\n"
      ],
      "text/plain": [
       "\u001b[34m\u001b[1mOptimization Result\u001b[22m\u001b[39m\n",
       "\u001b[39m===================\u001b[39m\n",
       "  Iteration:       273\n",
       "  Minimum:         13326.1\n",
       "  Minimizer:       [193.472, 5.36716, 1570.19, …, 732.269]\n",
       "  Function calls:  11466\n",
       "  Total time:      8718.5120 s\n",
       "  Stop reason:     \n"
      ]
     },
     "metadata": {},
     "output_type": "display_data"
    },
    {
     "name": "stderr",
     "output_type": "stream",
     "text": [
      "\u001b[36m\u001b[1m[ \u001b[22m\u001b[39m\u001b[36m\u001b[1mInfo: \u001b[22m\u001b[39mCurrent Status of ECA\n"
     ]
    },
    {
     "data": {
      "text/html": [
       "<pre>\n",
       "Optimization Result\n",
       "===================\n",
       "  Iteration:       274\n",
       "  Minimum:         13326.1\n",
       "  Minimizer:       [193.76, 5.36886, 1568.48, …, 726.241]\n",
       "  Function calls:  11508\n",
       "  Total time:      8748.6190 s\n",
       "  Stop reason:     \n",
       "</pre>\n"
      ],
      "text/plain": [
       "\u001b[34m\u001b[1mOptimization Result\u001b[22m\u001b[39m\n",
       "\u001b[39m===================\u001b[39m\n",
       "  Iteration:       274\n",
       "  Minimum:         13326.1\n",
       "  Minimizer:       [193.76, 5.36886, 1568.48, …, 726.241]\n",
       "  Function calls:  11508\n",
       "  Total time:      8748.6190 s\n",
       "  Stop reason:     \n"
      ]
     },
     "metadata": {},
     "output_type": "display_data"
    },
    {
     "name": "stderr",
     "output_type": "stream",
     "text": [
      "\u001b[36m\u001b[1m[ \u001b[22m\u001b[39m\u001b[36m\u001b[1mInfo: \u001b[22m\u001b[39mCurrent Status of ECA\n"
     ]
    },
    {
     "data": {
      "text/html": [
       "<pre>\n",
       "Optimization Result\n",
       "===================\n",
       "  Iteration:       275\n",
       "  Minimum:         13326.1\n",
       "  Minimizer:       [193.703, 5.36773, 1567.94, …, 726.353]\n",
       "  Function calls:  11550\n",
       "  Total time:      8778.5440 s\n",
       "  Stop reason:     \n",
       "</pre>\n"
      ],
      "text/plain": [
       "\u001b[34m\u001b[1mOptimization Result\u001b[22m\u001b[39m\n",
       "\u001b[39m===================\u001b[39m\n",
       "  Iteration:       275\n",
       "  Minimum:         13326.1\n",
       "  Minimizer:       [193.703, 5.36773, 1567.94, …, 726.353]\n",
       "  Function calls:  11550\n",
       "  Total time:      8778.5440 s\n",
       "  Stop reason:     \n"
      ]
     },
     "metadata": {},
     "output_type": "display_data"
    },
    {
     "name": "stderr",
     "output_type": "stream",
     "text": [
      "\u001b[36m\u001b[1m[ \u001b[22m\u001b[39m\u001b[36m\u001b[1mInfo: \u001b[22m\u001b[39mCurrent Status of ECA\n"
     ]
    },
    {
     "data": {
      "text/html": [
       "<pre>\n",
       "Optimization Result\n",
       "===================\n",
       "  Iteration:       276\n",
       "  Minimum:         13326\n",
       "  Minimizer:       [193.782, 5.36769, 1568.44, …, 722.313]\n",
       "  Function calls:  11592\n",
       "  Total time:      8808.5750 s\n",
       "  Stop reason:     \n",
       "</pre>\n"
      ],
      "text/plain": [
       "\u001b[34m\u001b[1mOptimization Result\u001b[22m\u001b[39m\n",
       "\u001b[39m===================\u001b[39m\n",
       "  Iteration:       276\n",
       "  Minimum:         13326\n",
       "  Minimizer:       [193.782, 5.36769, 1568.44, …, 722.313]\n",
       "  Function calls:  11592\n",
       "  Total time:      8808.5750 s\n",
       "  Stop reason:     \n"
      ]
     },
     "metadata": {},
     "output_type": "display_data"
    },
    {
     "name": "stderr",
     "output_type": "stream",
     "text": [
      "\u001b[36m\u001b[1m[ \u001b[22m\u001b[39m\u001b[36m\u001b[1mInfo: \u001b[22m\u001b[39mCurrent Status of ECA\n"
     ]
    },
    {
     "data": {
      "text/html": [
       "<pre>\n",
       "Optimization Result\n",
       "===================\n",
       "  Iteration:       277\n",
       "  Minimum:         13326\n",
       "  Minimizer:       [193.822, 5.36796, 1569.48, …, 720.159]\n",
       "  Function calls:  11634\n",
       "  Total time:      8838.4930 s\n",
       "  Stop reason:     \n",
       "</pre>\n"
      ],
      "text/plain": [
       "\u001b[34m\u001b[1mOptimization Result\u001b[22m\u001b[39m\n",
       "\u001b[39m===================\u001b[39m\n",
       "  Iteration:       277\n",
       "  Minimum:         13326\n",
       "  Minimizer:       [193.822, 5.36796, 1569.48, …, 720.159]\n",
       "  Function calls:  11634\n",
       "  Total time:      8838.4930 s\n",
       "  Stop reason:     \n"
      ]
     },
     "metadata": {},
     "output_type": "display_data"
    },
    {
     "name": "stderr",
     "output_type": "stream",
     "text": [
      "\u001b[36m\u001b[1m[ \u001b[22m\u001b[39m\u001b[36m\u001b[1mInfo: \u001b[22m\u001b[39mCurrent Status of ECA\n"
     ]
    },
    {
     "data": {
      "text/html": [
       "<pre>\n",
       "Optimization Result\n",
       "===================\n",
       "  Iteration:       278\n",
       "  Minimum:         13326\n",
       "  Minimizer:       [193.822, 5.36796, 1569.48, …, 720.159]\n",
       "  Function calls:  11676\n",
       "  Total time:      8870.6810 s\n",
       "  Stop reason:     \n",
       "</pre>\n"
      ],
      "text/plain": [
       "\u001b[34m\u001b[1mOptimization Result\u001b[22m\u001b[39m\n",
       "\u001b[39m===================\u001b[39m\n",
       "  Iteration:       278\n",
       "  Minimum:         13326\n",
       "  Minimizer:       [193.822, 5.36796, 1569.48, …, 720.159]\n",
       "  Function calls:  11676\n",
       "  Total time:      8870.6810 s\n",
       "  Stop reason:     \n"
      ]
     },
     "metadata": {},
     "output_type": "display_data"
    },
    {
     "name": "stderr",
     "output_type": "stream",
     "text": [
      "\u001b[36m\u001b[1m[ \u001b[22m\u001b[39m\u001b[36m\u001b[1mInfo: \u001b[22m\u001b[39mCurrent Status of ECA\n"
     ]
    },
    {
     "data": {
      "text/html": [
       "<pre>\n",
       "Optimization Result\n",
       "===================\n",
       "  Iteration:       279\n",
       "  Minimum:         13326\n",
       "  Minimizer:       [193.822, 5.36796, 1569.48, …, 720.159]\n",
       "  Function calls:  11718\n",
       "  Total time:      8900.8220 s\n",
       "  Stop reason:     \n",
       "</pre>\n"
      ],
      "text/plain": [
       "\u001b[34m\u001b[1mOptimization Result\u001b[22m\u001b[39m\n",
       "\u001b[39m===================\u001b[39m\n",
       "  Iteration:       279\n",
       "  Minimum:         13326\n",
       "  Minimizer:       [193.822, 5.36796, 1569.48, …, 720.159]\n",
       "  Function calls:  11718\n",
       "  Total time:      8900.8220 s\n",
       "  Stop reason:     \n"
      ]
     },
     "metadata": {},
     "output_type": "display_data"
    },
    {
     "name": "stderr",
     "output_type": "stream",
     "text": [
      "\u001b[36m\u001b[1m[ \u001b[22m\u001b[39m\u001b[36m\u001b[1mInfo: \u001b[22m\u001b[39mCurrent Status of ECA\n"
     ]
    },
    {
     "data": {
      "text/html": [
       "<pre>\n",
       "Optimization Result\n",
       "===================\n",
       "  Iteration:       280\n",
       "  Minimum:         13326\n",
       "  Minimizer:       [193.938, 5.36897, 1570.39, …, 716.811]\n",
       "  Function calls:  11760\n",
       "  Total time:      8930.5350 s\n",
       "  Stop reason:     \n",
       "</pre>\n"
      ],
      "text/plain": [
       "\u001b[34m\u001b[1mOptimization Result\u001b[22m\u001b[39m\n",
       "\u001b[39m===================\u001b[39m\n",
       "  Iteration:       280\n",
       "  Minimum:         13326\n",
       "  Minimizer:       [193.938, 5.36897, 1570.39, …, 716.811]\n",
       "  Function calls:  11760\n",
       "  Total time:      8930.5350 s\n",
       "  Stop reason:     \n"
      ]
     },
     "metadata": {},
     "output_type": "display_data"
    },
    {
     "name": "stderr",
     "output_type": "stream",
     "text": [
      "\u001b[36m\u001b[1m[ \u001b[22m\u001b[39m\u001b[36m\u001b[1mInfo: \u001b[22m\u001b[39mCurrent Status of ECA\n"
     ]
    },
    {
     "data": {
      "text/html": [
       "<pre>\n",
       "Optimization Result\n",
       "===================\n",
       "  Iteration:       281\n",
       "  Minimum:         13326\n",
       "  Minimizer:       [193.938, 5.36897, 1570.39, …, 716.811]\n",
       "  Function calls:  11802\n",
       "  Total time:      8960.4570 s\n",
       "  Stop reason:     \n",
       "</pre>\n"
      ],
      "text/plain": [
       "\u001b[34m\u001b[1mOptimization Result\u001b[22m\u001b[39m\n",
       "\u001b[39m===================\u001b[39m\n",
       "  Iteration:       281\n",
       "  Minimum:         13326\n",
       "  Minimizer:       [193.938, 5.36897, 1570.39, …, 716.811]\n",
       "  Function calls:  11802\n",
       "  Total time:      8960.4570 s\n",
       "  Stop reason:     \n"
      ]
     },
     "metadata": {},
     "output_type": "display_data"
    },
    {
     "name": "stderr",
     "output_type": "stream",
     "text": [
      "\u001b[36m\u001b[1m[ \u001b[22m\u001b[39m\u001b[36m\u001b[1mInfo: \u001b[22m\u001b[39mCurrent Status of ECA\n"
     ]
    },
    {
     "data": {
      "text/html": [
       "<pre>\n",
       "Optimization Result\n",
       "===================\n",
       "  Iteration:       282\n",
       "  Minimum:         13326\n",
       "  Minimizer:       [193.917, 5.36784, 1570.57, …, 714.632]\n",
       "  Function calls:  11844\n",
       "  Total time:      8990.3660 s\n",
       "  Stop reason:     \n",
       "</pre>\n"
      ],
      "text/plain": [
       "\u001b[34m\u001b[1mOptimization Result\u001b[22m\u001b[39m\n",
       "\u001b[39m===================\u001b[39m\n",
       "  Iteration:       282\n",
       "  Minimum:         13326\n",
       "  Minimizer:       [193.917, 5.36784, 1570.57, …, 714.632]\n",
       "  Function calls:  11844\n",
       "  Total time:      8990.3660 s\n",
       "  Stop reason:     \n"
      ]
     },
     "metadata": {},
     "output_type": "display_data"
    },
    {
     "name": "stderr",
     "output_type": "stream",
     "text": [
      "\u001b[36m\u001b[1m[ \u001b[22m\u001b[39m\u001b[36m\u001b[1mInfo: \u001b[22m\u001b[39mCurrent Status of ECA\n"
     ]
    },
    {
     "data": {
      "text/html": [
       "<pre>\n",
       "Optimization Result\n",
       "===================\n",
       "  Iteration:       283\n",
       "  Minimum:         13326\n",
       "  Minimizer:       [193.838, 5.36345, 1570.97, …, 706.251]\n",
       "  Function calls:  11886\n",
       "  Total time:      9020.3920 s\n",
       "  Stop reason:     \n",
       "</pre>\n"
      ],
      "text/plain": [
       "\u001b[34m\u001b[1mOptimization Result\u001b[22m\u001b[39m\n",
       "\u001b[39m===================\u001b[39m\n",
       "  Iteration:       283\n",
       "  Minimum:         13326\n",
       "  Minimizer:       [193.838, 5.36345, 1570.97, …, 706.251]\n",
       "  Function calls:  11886\n",
       "  Total time:      9020.3920 s\n",
       "  Stop reason:     \n"
      ]
     },
     "metadata": {},
     "output_type": "display_data"
    },
    {
     "name": "stderr",
     "output_type": "stream",
     "text": [
      "\u001b[36m\u001b[1m[ \u001b[22m\u001b[39m\u001b[36m\u001b[1mInfo: \u001b[22m\u001b[39mCurrent Status of ECA\n"
     ]
    },
    {
     "data": {
      "text/html": [
       "<pre>\n",
       "Optimization Result\n",
       "===================\n",
       "  Iteration:       284\n",
       "  Minimum:         13326\n",
       "  Minimizer:       [193.838, 5.36345, 1570.97, …, 706.251]\n",
       "  Function calls:  11928\n",
       "  Total time:      9052.5490 s\n",
       "  Stop reason:     \n",
       "</pre>\n"
      ],
      "text/plain": [
       "\u001b[34m\u001b[1mOptimization Result\u001b[22m\u001b[39m\n",
       "\u001b[39m===================\u001b[39m\n",
       "  Iteration:       284\n",
       "  Minimum:         13326\n",
       "  Minimizer:       [193.838, 5.36345, 1570.97, …, 706.251]\n",
       "  Function calls:  11928\n",
       "  Total time:      9052.5490 s\n",
       "  Stop reason:     \n"
      ]
     },
     "metadata": {},
     "output_type": "display_data"
    },
    {
     "name": "stderr",
     "output_type": "stream",
     "text": [
      "\u001b[36m\u001b[1m[ \u001b[22m\u001b[39m\u001b[36m\u001b[1mInfo: \u001b[22m\u001b[39mCurrent Status of ECA\n"
     ]
    },
    {
     "data": {
      "text/html": [
       "<pre>\n",
       "Optimization Result\n",
       "===================\n",
       "  Iteration:       285\n",
       "  Minimum:         13326\n",
       "  Minimizer:       [193.838, 5.36444, 1570.87, …, 708.889]\n",
       "  Function calls:  11970\n",
       "  Total time:      9082.5730 s\n",
       "  Stop reason:     \n",
       "</pre>\n"
      ],
      "text/plain": [
       "\u001b[34m\u001b[1mOptimization Result\u001b[22m\u001b[39m\n",
       "\u001b[39m===================\u001b[39m\n",
       "  Iteration:       285\n",
       "  Minimum:         13326\n",
       "  Minimizer:       [193.838, 5.36444, 1570.87, …, 708.889]\n",
       "  Function calls:  11970\n",
       "  Total time:      9082.5730 s\n",
       "  Stop reason:     \n"
      ]
     },
     "metadata": {},
     "output_type": "display_data"
    },
    {
     "name": "stderr",
     "output_type": "stream",
     "text": [
      "\u001b[36m\u001b[1m[ \u001b[22m\u001b[39m\u001b[36m\u001b[1mInfo: \u001b[22m\u001b[39mCurrent Status of ECA\n"
     ]
    },
    {
     "data": {
      "text/html": [
       "<pre>\n",
       "Optimization Result\n",
       "===================\n",
       "  Iteration:       286\n",
       "  Minimum:         13326\n",
       "  Minimizer:       [193.838, 5.36444, 1570.87, …, 708.889]\n",
       "  Function calls:  12012\n",
       "  Total time:      9112.4980 s\n",
       "  Stop reason:     \n",
       "</pre>\n"
      ],
      "text/plain": [
       "\u001b[34m\u001b[1mOptimization Result\u001b[22m\u001b[39m\n",
       "\u001b[39m===================\u001b[39m\n",
       "  Iteration:       286\n",
       "  Minimum:         13326\n",
       "  Minimizer:       [193.838, 5.36444, 1570.87, …, 708.889]\n",
       "  Function calls:  12012\n",
       "  Total time:      9112.4980 s\n",
       "  Stop reason:     \n"
      ]
     },
     "metadata": {},
     "output_type": "display_data"
    },
    {
     "name": "stderr",
     "output_type": "stream",
     "text": [
      "\u001b[36m\u001b[1m[ \u001b[22m\u001b[39m\u001b[36m\u001b[1mInfo: \u001b[22m\u001b[39mCurrent Status of ECA\n"
     ]
    },
    {
     "data": {
      "text/html": [
       "<pre>\n",
       "Optimization Result\n",
       "===================\n",
       "  Iteration:       287\n",
       "  Minimum:         13326\n",
       "  Minimizer:       [193.841, 5.36511, 1570.38, …, 711.028]\n",
       "  Function calls:  12054\n",
       "  Total time:      9142.1790 s\n",
       "  Stop reason:     \n",
       "</pre>\n"
      ],
      "text/plain": [
       "\u001b[34m\u001b[1mOptimization Result\u001b[22m\u001b[39m\n",
       "\u001b[39m===================\u001b[39m\n",
       "  Iteration:       287\n",
       "  Minimum:         13326\n",
       "  Minimizer:       [193.841, 5.36511, 1570.38, …, 711.028]\n",
       "  Function calls:  12054\n",
       "  Total time:      9142.1790 s\n",
       "  Stop reason:     \n"
      ]
     },
     "metadata": {},
     "output_type": "display_data"
    },
    {
     "name": "stderr",
     "output_type": "stream",
     "text": [
      "\u001b[36m\u001b[1m[ \u001b[22m\u001b[39m\u001b[36m\u001b[1mInfo: \u001b[22m\u001b[39mCurrent Status of ECA\n"
     ]
    },
    {
     "data": {
      "text/html": [
       "<pre>\n",
       "Optimization Result\n",
       "===================\n",
       "  Iteration:       288\n",
       "  Minimum:         13326\n",
       "  Minimizer:       [193.815, 5.3642, 1570.11, …, 710.113]\n",
       "  Function calls:  12096\n",
       "  Total time:      9172.7570 s\n",
       "  Stop reason:     \n",
       "</pre>\n"
      ],
      "text/plain": [
       "\u001b[34m\u001b[1mOptimization Result\u001b[22m\u001b[39m\n",
       "\u001b[39m===================\u001b[39m\n",
       "  Iteration:       288\n",
       "  Minimum:         13326\n",
       "  Minimizer:       [193.815, 5.3642, 1570.11, …, 710.113]\n",
       "  Function calls:  12096\n",
       "  Total time:      9172.7570 s\n",
       "  Stop reason:     \n"
      ]
     },
     "metadata": {},
     "output_type": "display_data"
    },
    {
     "name": "stderr",
     "output_type": "stream",
     "text": [
      "\u001b[36m\u001b[1m[ \u001b[22m\u001b[39m\u001b[36m\u001b[1mInfo: \u001b[22m\u001b[39mCurrent Status of ECA\n"
     ]
    },
    {
     "data": {
      "text/html": [
       "<pre>\n",
       "Optimization Result\n",
       "===================\n",
       "  Iteration:       289\n",
       "  Minimum:         13326\n",
       "  Minimizer:       [193.727, 5.36007, 1569.93, …, 703.394]\n",
       "  Function calls:  12138\n",
       "  Total time:      9202.5910 s\n",
       "  Stop reason:     \n",
       "</pre>\n"
      ],
      "text/plain": [
       "\u001b[34m\u001b[1mOptimization Result\u001b[22m\u001b[39m\n",
       "\u001b[39m===================\u001b[39m\n",
       "  Iteration:       289\n",
       "  Minimum:         13326\n",
       "  Minimizer:       [193.727, 5.36007, 1569.93, …, 703.394]\n",
       "  Function calls:  12138\n",
       "  Total time:      9202.5910 s\n",
       "  Stop reason:     \n"
      ]
     },
     "metadata": {},
     "output_type": "display_data"
    },
    {
     "name": "stderr",
     "output_type": "stream",
     "text": [
      "\u001b[36m\u001b[1m[ \u001b[22m\u001b[39m\u001b[36m\u001b[1mInfo: \u001b[22m\u001b[39mCurrent Status of ECA\n"
     ]
    },
    {
     "data": {
      "text/html": [
       "<pre>\n",
       "Optimization Result\n",
       "===================\n",
       "  Iteration:       290\n",
       "  Minimum:         13326\n",
       "  Minimizer:       [193.651, 5.36108, 1570.06, …, 709.05]\n",
       "  Function calls:  12180\n",
       "  Total time:      9234.5490 s\n",
       "  Stop reason:     \n",
       "</pre>\n"
      ],
      "text/plain": [
       "\u001b[34m\u001b[1mOptimization Result\u001b[22m\u001b[39m\n",
       "\u001b[39m===================\u001b[39m\n",
       "  Iteration:       290\n",
       "  Minimum:         13326\n",
       "  Minimizer:       [193.651, 5.36108, 1570.06, …, 709.05]\n",
       "  Function calls:  12180\n",
       "  Total time:      9234.5490 s\n",
       "  Stop reason:     \n"
      ]
     },
     "metadata": {},
     "output_type": "display_data"
    },
    {
     "name": "stderr",
     "output_type": "stream",
     "text": [
      "\u001b[36m\u001b[1m[ \u001b[22m\u001b[39m\u001b[36m\u001b[1mInfo: \u001b[22m\u001b[39mCurrent Status of ECA\n"
     ]
    },
    {
     "data": {
      "text/html": [
       "<pre>\n",
       "Optimization Result\n",
       "===================\n",
       "  Iteration:       291\n",
       "  Minimum:         13326\n",
       "  Minimizer:       [193.685, 5.36124, 1569.75, …, 708.39]\n",
       "  Function calls:  12222\n",
       "  Total time:      9264.6060 s\n",
       "  Stop reason:     \n",
       "</pre>\n"
      ],
      "text/plain": [
       "\u001b[34m\u001b[1mOptimization Result\u001b[22m\u001b[39m\n",
       "\u001b[39m===================\u001b[39m\n",
       "  Iteration:       291\n",
       "  Minimum:         13326\n",
       "  Minimizer:       [193.685, 5.36124, 1569.75, …, 708.39]\n",
       "  Function calls:  12222\n",
       "  Total time:      9264.6060 s\n",
       "  Stop reason:     \n"
      ]
     },
     "metadata": {},
     "output_type": "display_data"
    },
    {
     "name": "stderr",
     "output_type": "stream",
     "text": [
      "\u001b[36m\u001b[1m[ \u001b[22m\u001b[39m\u001b[36m\u001b[1mInfo: \u001b[22m\u001b[39mCurrent Status of ECA\n"
     ]
    },
    {
     "data": {
      "text/html": [
       "<pre>\n",
       "Optimization Result\n",
       "===================\n",
       "  Iteration:       292\n",
       "  Minimum:         13326\n",
       "  Minimizer:       [193.518, 5.35902, 1570.08, …, 709.355]\n",
       "  Function calls:  12264\n",
       "  Total time:      9294.5680 s\n",
       "  Stop reason:     \n",
       "</pre>\n"
      ],
      "text/plain": [
       "\u001b[34m\u001b[1mOptimization Result\u001b[22m\u001b[39m\n",
       "\u001b[39m===================\u001b[39m\n",
       "  Iteration:       292\n",
       "  Minimum:         13326\n",
       "  Minimizer:       [193.518, 5.35902, 1570.08, …, 709.355]\n",
       "  Function calls:  12264\n",
       "  Total time:      9294.5680 s\n",
       "  Stop reason:     \n"
      ]
     },
     "metadata": {},
     "output_type": "display_data"
    },
    {
     "name": "stderr",
     "output_type": "stream",
     "text": [
      "\u001b[36m\u001b[1m[ \u001b[22m\u001b[39m\u001b[36m\u001b[1mInfo: \u001b[22m\u001b[39mCurrent Status of ECA\n"
     ]
    },
    {
     "data": {
      "text/html": [
       "<pre>\n",
       "Optimization Result\n",
       "===================\n",
       "  Iteration:       293\n",
       "  Minimum:         13326\n",
       "  Minimizer:       [193.531, 5.35951, 1570.61, …, 709.501]\n",
       "  Function calls:  12306\n",
       "  Total time:      9326.0160 s\n",
       "  Stop reason:     \n",
       "</pre>\n"
      ],
      "text/plain": [
       "\u001b[34m\u001b[1mOptimization Result\u001b[22m\u001b[39m\n",
       "\u001b[39m===================\u001b[39m\n",
       "  Iteration:       293\n",
       "  Minimum:         13326\n",
       "  Minimizer:       [193.531, 5.35951, 1570.61, …, 709.501]\n",
       "  Function calls:  12306\n",
       "  Total time:      9326.0160 s\n",
       "  Stop reason:     \n"
      ]
     },
     "metadata": {},
     "output_type": "display_data"
    },
    {
     "name": "stderr",
     "output_type": "stream",
     "text": [
      "\u001b[36m\u001b[1m[ \u001b[22m\u001b[39m\u001b[36m\u001b[1mInfo: \u001b[22m\u001b[39mCurrent Status of ECA\n"
     ]
    },
    {
     "data": {
      "text/html": [
       "<pre>\n",
       "Optimization Result\n",
       "===================\n",
       "  Iteration:       294\n",
       "  Minimum:         13326\n",
       "  Minimizer:       [193.543, 5.35631, 1569.71, …, 701.757]\n",
       "  Function calls:  12348\n",
       "  Total time:      9356.1590 s\n",
       "  Stop reason:     \n",
       "</pre>\n"
      ],
      "text/plain": [
       "\u001b[34m\u001b[1mOptimization Result\u001b[22m\u001b[39m\n",
       "\u001b[39m===================\u001b[39m\n",
       "  Iteration:       294\n",
       "  Minimum:         13326\n",
       "  Minimizer:       [193.543, 5.35631, 1569.71, …, 701.757]\n",
       "  Function calls:  12348\n",
       "  Total time:      9356.1590 s\n",
       "  Stop reason:     \n"
      ]
     },
     "metadata": {},
     "output_type": "display_data"
    },
    {
     "name": "stderr",
     "output_type": "stream",
     "text": [
      "\u001b[36m\u001b[1m[ \u001b[22m\u001b[39m\u001b[36m\u001b[1mInfo: \u001b[22m\u001b[39mCurrent Status of ECA\n"
     ]
    },
    {
     "data": {
      "text/html": [
       "<pre>\n",
       "Optimization Result\n",
       "===================\n",
       "  Iteration:       295\n",
       "  Minimum:         13326\n",
       "  Minimizer:       [193.347, 5.35577, 1571.46, …, 706.733]\n",
       "  Function calls:  12390\n",
       "  Total time:      9386.1180 s\n",
       "  Stop reason:     \n",
       "</pre>\n"
      ],
      "text/plain": [
       "\u001b[34m\u001b[1mOptimization Result\u001b[22m\u001b[39m\n",
       "\u001b[39m===================\u001b[39m\n",
       "  Iteration:       295\n",
       "  Minimum:         13326\n",
       "  Minimizer:       [193.347, 5.35577, 1571.46, …, 706.733]\n",
       "  Function calls:  12390\n",
       "  Total time:      9386.1180 s\n",
       "  Stop reason:     \n"
      ]
     },
     "metadata": {},
     "output_type": "display_data"
    },
    {
     "name": "stderr",
     "output_type": "stream",
     "text": [
      "\u001b[36m\u001b[1m[ \u001b[22m\u001b[39m\u001b[36m\u001b[1mInfo: \u001b[22m\u001b[39mCurrent Status of ECA\n"
     ]
    },
    {
     "data": {
      "text/html": [
       "<pre>\n",
       "Optimization Result\n",
       "===================\n",
       "  Iteration:       296\n",
       "  Minimum:         13326\n",
       "  Minimizer:       [193.347, 5.35577, 1571.46, …, 706.733]\n",
       "  Function calls:  12432\n",
       "  Total time:      9417.5750 s\n",
       "  Stop reason:     \n",
       "</pre>\n"
      ],
      "text/plain": [
       "\u001b[34m\u001b[1mOptimization Result\u001b[22m\u001b[39m\n",
       "\u001b[39m===================\u001b[39m\n",
       "  Iteration:       296\n",
       "  Minimum:         13326\n",
       "  Minimizer:       [193.347, 5.35577, 1571.46, …, 706.733]\n",
       "  Function calls:  12432\n",
       "  Total time:      9417.5750 s\n",
       "  Stop reason:     \n"
      ]
     },
     "metadata": {},
     "output_type": "display_data"
    },
    {
     "name": "stderr",
     "output_type": "stream",
     "text": [
      "\u001b[36m\u001b[1m[ \u001b[22m\u001b[39m\u001b[36m\u001b[1mInfo: \u001b[22m\u001b[39mCurrent Status of ECA\n"
     ]
    },
    {
     "data": {
      "text/html": [
       "<pre>\n",
       "Optimization Result\n",
       "===================\n",
       "  Iteration:       297\n",
       "  Minimum:         13326\n",
       "  Minimizer:       [193.126, 5.35221, 1570.12, …, 708.435]\n",
       "  Function calls:  12474\n",
       "  Total time:      9447.5670 s\n",
       "  Stop reason:     \n",
       "</pre>\n"
      ],
      "text/plain": [
       "\u001b[34m\u001b[1mOptimization Result\u001b[22m\u001b[39m\n",
       "\u001b[39m===================\u001b[39m\n",
       "  Iteration:       297\n",
       "  Minimum:         13326\n",
       "  Minimizer:       [193.126, 5.35221, 1570.12, …, 708.435]\n",
       "  Function calls:  12474\n",
       "  Total time:      9447.5670 s\n",
       "  Stop reason:     \n"
      ]
     },
     "metadata": {},
     "output_type": "display_data"
    },
    {
     "name": "stderr",
     "output_type": "stream",
     "text": [
      "\u001b[36m\u001b[1m[ \u001b[22m\u001b[39m\u001b[36m\u001b[1mInfo: \u001b[22m\u001b[39mCurrent Status of ECA\n"
     ]
    },
    {
     "data": {
      "text/html": [
       "<pre>\n",
       "Optimization Result\n",
       "===================\n",
       "  Iteration:       298\n",
       "  Minimum:         13326\n",
       "  Minimizer:       [193.126, 5.35221, 1570.12, …, 708.435]\n",
       "  Function calls:  12516\n",
       "  Total time:      9477.6970 s\n",
       "  Stop reason:     \n",
       "</pre>\n"
      ],
      "text/plain": [
       "\u001b[34m\u001b[1mOptimization Result\u001b[22m\u001b[39m\n",
       "\u001b[39m===================\u001b[39m\n",
       "  Iteration:       298\n",
       "  Minimum:         13326\n",
       "  Minimizer:       [193.126, 5.35221, 1570.12, …, 708.435]\n",
       "  Function calls:  12516\n",
       "  Total time:      9477.6970 s\n",
       "  Stop reason:     \n"
      ]
     },
     "metadata": {},
     "output_type": "display_data"
    },
    {
     "name": "stderr",
     "output_type": "stream",
     "text": [
      "\u001b[36m\u001b[1m[ \u001b[22m\u001b[39m\u001b[36m\u001b[1mInfo: \u001b[22m\u001b[39mCurrent Status of ECA\n"
     ]
    },
    {
     "data": {
      "text/html": [
       "<pre>\n",
       "Optimization Result\n",
       "===================\n",
       "  Iteration:       299\n",
       "  Minimum:         13326\n",
       "  Minimizer:       [193.289, 5.3542, 1571.23, …, 705.384]\n",
       "  Function calls:  12558\n",
       "  Total time:      9507.1680 s\n",
       "  Stop reason:     \n",
       "</pre>\n"
      ],
      "text/plain": [
       "\u001b[34m\u001b[1mOptimization Result\u001b[22m\u001b[39m\n",
       "\u001b[39m===================\u001b[39m\n",
       "  Iteration:       299\n",
       "  Minimum:         13326\n",
       "  Minimizer:       [193.289, 5.3542, 1571.23, …, 705.384]\n",
       "  Function calls:  12558\n",
       "  Total time:      9507.1680 s\n",
       "  Stop reason:     \n"
      ]
     },
     "metadata": {},
     "output_type": "display_data"
    },
    {
     "name": "stderr",
     "output_type": "stream",
     "text": [
      "\u001b[36m\u001b[1m[ \u001b[22m\u001b[39m\u001b[36m\u001b[1mInfo: \u001b[22m\u001b[39mCurrent Status of ECA\n"
     ]
    },
    {
     "data": {
      "text/html": [
       "<pre>\n",
       "Optimization Result\n",
       "===================\n",
       "  Iteration:       300\n",
       "  Minimum:         13326\n",
       "  Minimizer:       [192.925, 5.34949, 1569.23, …, 710.934]\n",
       "  Function calls:  12600\n",
       "  Total time:      9537.1850 s\n",
       "  Stop reason:     \n",
       "</pre>\n"
      ],
      "text/plain": [
       "\u001b[34m\u001b[1mOptimization Result\u001b[22m\u001b[39m\n",
       "\u001b[39m===================\u001b[39m\n",
       "  Iteration:       300\n",
       "  Minimum:         13326\n",
       "  Minimizer:       [192.925, 5.34949, 1569.23, …, 710.934]\n",
       "  Function calls:  12600\n",
       "  Total time:      9537.1850 s\n",
       "  Stop reason:     \n"
      ]
     },
     "metadata": {},
     "output_type": "display_data"
    },
    {
     "name": "stderr",
     "output_type": "stream",
     "text": [
      "\u001b[36m\u001b[1m[ \u001b[22m\u001b[39m\u001b[36m\u001b[1mInfo: \u001b[22m\u001b[39mCurrent Status of ECA\n"
     ]
    },
    {
     "data": {
      "text/html": [
       "<pre>\n",
       "Optimization Result\n",
       "===================\n",
       "  Iteration:       301\n",
       "  Minimum:         13326\n",
       "  Minimizer:       [192.879, 5.34911, 1570.64, …, 710.335]\n",
       "  Function calls:  12642\n",
       "  Total time:      9567.5270 s\n",
       "  Stop reason:     \n",
       "</pre>\n"
      ],
      "text/plain": [
       "\u001b[34m\u001b[1mOptimization Result\u001b[22m\u001b[39m\n",
       "\u001b[39m===================\u001b[39m\n",
       "  Iteration:       301\n",
       "  Minimum:         13326\n",
       "  Minimizer:       [192.879, 5.34911, 1570.64, …, 710.335]\n",
       "  Function calls:  12642\n",
       "  Total time:      9567.5270 s\n",
       "  Stop reason:     \n"
      ]
     },
     "metadata": {},
     "output_type": "display_data"
    },
    {
     "name": "stderr",
     "output_type": "stream",
     "text": [
      "\u001b[36m\u001b[1m[ \u001b[22m\u001b[39m\u001b[36m\u001b[1mInfo: \u001b[22m\u001b[39mCurrent Status of ECA\n"
     ]
    },
    {
     "data": {
      "text/html": [
       "<pre>\n",
       "Optimization Result\n",
       "===================\n",
       "  Iteration:       302\n",
       "  Minimum:         13326\n",
       "  Minimizer:       [192.879, 5.34911, 1570.64, …, 710.335]\n",
       "  Function calls:  12684\n",
       "  Total time:      9599.2330 s\n",
       "  Stop reason:     \n",
       "</pre>\n"
      ],
      "text/plain": [
       "\u001b[34m\u001b[1mOptimization Result\u001b[22m\u001b[39m\n",
       "\u001b[39m===================\u001b[39m\n",
       "  Iteration:       302\n",
       "  Minimum:         13326\n",
       "  Minimizer:       [192.879, 5.34911, 1570.64, …, 710.335]\n",
       "  Function calls:  12684\n",
       "  Total time:      9599.2330 s\n",
       "  Stop reason:     \n"
      ]
     },
     "metadata": {},
     "output_type": "display_data"
    },
    {
     "name": "stderr",
     "output_type": "stream",
     "text": [
      "\u001b[36m\u001b[1m[ \u001b[22m\u001b[39m\u001b[36m\u001b[1mInfo: \u001b[22m\u001b[39mCurrent Status of ECA\n"
     ]
    },
    {
     "data": {
      "text/html": [
       "<pre>\n",
       "Optimization Result\n",
       "===================\n",
       "  Iteration:       303\n",
       "  Minimum:         13326\n",
       "  Minimizer:       [192.648, 5.34632, 1570.48, …, 713.15]\n",
       "  Function calls:  12726\n",
       "  Total time:      9629.2670 s\n",
       "  Stop reason:     \n",
       "</pre>\n"
      ],
      "text/plain": [
       "\u001b[34m\u001b[1mOptimization Result\u001b[22m\u001b[39m\n",
       "\u001b[39m===================\u001b[39m\n",
       "  Iteration:       303\n",
       "  Minimum:         13326\n",
       "  Minimizer:       [192.648, 5.34632, 1570.48, …, 713.15]\n",
       "  Function calls:  12726\n",
       "  Total time:      9629.2670 s\n",
       "  Stop reason:     \n"
      ]
     },
     "metadata": {},
     "output_type": "display_data"
    },
    {
     "name": "stderr",
     "output_type": "stream",
     "text": [
      "\u001b[36m\u001b[1m[ \u001b[22m\u001b[39m\u001b[36m\u001b[1mInfo: \u001b[22m\u001b[39mCurrent Status of ECA\n"
     ]
    },
    {
     "data": {
      "text/html": [
       "<pre>\n",
       "Optimization Result\n",
       "===================\n",
       "  Iteration:       304\n",
       "  Minimum:         13326\n",
       "  Minimizer:       [192.716, 5.34742, 1570.72, …, 712.785]\n",
       "  Function calls:  12768\n",
       "  Total time:      9659.2650 s\n",
       "  Stop reason:     \n",
       "</pre>\n"
      ],
      "text/plain": [
       "\u001b[34m\u001b[1mOptimization Result\u001b[22m\u001b[39m\n",
       "\u001b[39m===================\u001b[39m\n",
       "  Iteration:       304\n",
       "  Minimum:         13326\n",
       "  Minimizer:       [192.716, 5.34742, 1570.72, …, 712.785]\n",
       "  Function calls:  12768\n",
       "  Total time:      9659.2650 s\n",
       "  Stop reason:     \n"
      ]
     },
     "metadata": {},
     "output_type": "display_data"
    },
    {
     "name": "stderr",
     "output_type": "stream",
     "text": [
      "\u001b[36m\u001b[1m[ \u001b[22m\u001b[39m\u001b[36m\u001b[1mInfo: \u001b[22m\u001b[39mCurrent Status of ECA\n"
     ]
    },
    {
     "data": {
      "text/html": [
       "<pre>\n",
       "Optimization Result\n",
       "===================\n",
       "  Iteration:       305\n",
       "  Minimum:         13326\n",
       "  Minimizer:       [192.963, 5.35003, 1570.54, …, 709.233]\n",
       "  Function calls:  12810\n",
       "  Total time:      9689.2920 s\n",
       "  Stop reason:     \n",
       "</pre>\n"
      ],
      "text/plain": [
       "\u001b[34m\u001b[1mOptimization Result\u001b[22m\u001b[39m\n",
       "\u001b[39m===================\u001b[39m\n",
       "  Iteration:       305\n",
       "  Minimum:         13326\n",
       "  Minimizer:       [192.963, 5.35003, 1570.54, …, 709.233]\n",
       "  Function calls:  12810\n",
       "  Total time:      9689.2920 s\n",
       "  Stop reason:     \n"
      ]
     },
     "metadata": {},
     "output_type": "display_data"
    },
    {
     "name": "stderr",
     "output_type": "stream",
     "text": [
      "\u001b[36m\u001b[1m[ \u001b[22m\u001b[39m\u001b[36m\u001b[1mInfo: \u001b[22m\u001b[39mCurrent Status of ECA\n"
     ]
    },
    {
     "data": {
      "text/html": [
       "<pre>\n",
       "Optimization Result\n",
       "===================\n",
       "  Iteration:       306\n",
       "  Minimum:         13326\n",
       "  Minimizer:       [192.963, 5.35003, 1570.54, …, 709.233]\n",
       "  Function calls:  12852\n",
       "  Total time:      9719.2020 s\n",
       "  Stop reason:     \n",
       "</pre>\n"
      ],
      "text/plain": [
       "\u001b[34m\u001b[1mOptimization Result\u001b[22m\u001b[39m\n",
       "\u001b[39m===================\u001b[39m\n",
       "  Iteration:       306\n",
       "  Minimum:         13326\n",
       "  Minimizer:       [192.963, 5.35003, 1570.54, …, 709.233]\n",
       "  Function calls:  12852\n",
       "  Total time:      9719.2020 s\n",
       "  Stop reason:     \n"
      ]
     },
     "metadata": {},
     "output_type": "display_data"
    },
    {
     "name": "stderr",
     "output_type": "stream",
     "text": [
      "\u001b[36m\u001b[1m[ \u001b[22m\u001b[39m\u001b[36m\u001b[1mInfo: \u001b[22m\u001b[39mCurrent Status of ECA\n"
     ]
    },
    {
     "data": {
      "text/html": [
       "<pre>\n",
       "Optimization Result\n",
       "===================\n",
       "  Iteration:       307\n",
       "  Minimum:         13326\n",
       "  Minimizer:       [192.6, 5.34556, 1569.95, …, 713.783]\n",
       "  Function calls:  12894\n",
       "  Total time:      9748.8200 s\n",
       "  Stop reason:     \n",
       "</pre>\n"
      ],
      "text/plain": [
       "\u001b[34m\u001b[1mOptimization Result\u001b[22m\u001b[39m\n",
       "\u001b[39m===================\u001b[39m\n",
       "  Iteration:       307\n",
       "  Minimum:         13326\n",
       "  Minimizer:       [192.6, 5.34556, 1569.95, …, 713.783]\n",
       "  Function calls:  12894\n",
       "  Total time:      9748.8200 s\n",
       "  Stop reason:     \n"
      ]
     },
     "metadata": {},
     "output_type": "display_data"
    },
    {
     "name": "stderr",
     "output_type": "stream",
     "text": [
      "\u001b[36m\u001b[1m[ \u001b[22m\u001b[39m\u001b[36m\u001b[1mInfo: \u001b[22m\u001b[39mCurrent Status of ECA\n"
     ]
    },
    {
     "data": {
      "text/html": [
       "<pre>\n",
       "Optimization Result\n",
       "===================\n",
       "  Iteration:       308\n",
       "  Minimum:         13326\n",
       "  Minimizer:       [192.644, 5.34635, 1571.32, …, 712.395]\n",
       "  Function calls:  12936\n",
       "  Total time:      9780.3650 s\n",
       "  Stop reason:     \n",
       "</pre>\n"
      ],
      "text/plain": [
       "\u001b[34m\u001b[1mOptimization Result\u001b[22m\u001b[39m\n",
       "\u001b[39m===================\u001b[39m\n",
       "  Iteration:       308\n",
       "  Minimum:         13326\n",
       "  Minimizer:       [192.644, 5.34635, 1571.32, …, 712.395]\n",
       "  Function calls:  12936\n",
       "  Total time:      9780.3650 s\n",
       "  Stop reason:     \n"
      ]
     },
     "metadata": {},
     "output_type": "display_data"
    },
    {
     "name": "stderr",
     "output_type": "stream",
     "text": [
      "\u001b[36m\u001b[1m[ \u001b[22m\u001b[39m\u001b[36m\u001b[1mInfo: \u001b[22m\u001b[39mCurrent Status of ECA\n"
     ]
    },
    {
     "data": {
      "text/html": [
       "<pre>\n",
       "Optimization Result\n",
       "===================\n",
       "  Iteration:       309\n",
       "  Minimum:         13326\n",
       "  Minimizer:       [192.397, 5.34344, 1570.03, …, 716.828]\n",
       "  Function calls:  12978\n",
       "  Total time:      9810.2390 s\n",
       "  Stop reason:     \n",
       "</pre>\n"
      ],
      "text/plain": [
       "\u001b[34m\u001b[1mOptimization Result\u001b[22m\u001b[39m\n",
       "\u001b[39m===================\u001b[39m\n",
       "  Iteration:       309\n",
       "  Minimum:         13326\n",
       "  Minimizer:       [192.397, 5.34344, 1570.03, …, 716.828]\n",
       "  Function calls:  12978\n",
       "  Total time:      9810.2390 s\n",
       "  Stop reason:     \n"
      ]
     },
     "metadata": {},
     "output_type": "display_data"
    },
    {
     "name": "stderr",
     "output_type": "stream",
     "text": [
      "\u001b[36m\u001b[1m[ \u001b[22m\u001b[39m\u001b[36m\u001b[1mInfo: \u001b[22m\u001b[39mCurrent Status of ECA\n"
     ]
    },
    {
     "data": {
      "text/html": [
       "<pre>\n",
       "Optimization Result\n",
       "===================\n",
       "  Iteration:       310\n",
       "  Minimum:         13326\n",
       "  Minimizer:       [192.634, 5.34673, 1571.49, …, 713.621]\n",
       "  Function calls:  13020\n",
       "  Total time:      9840.7320 s\n",
       "  Stop reason:     \n",
       "</pre>\n"
      ],
      "text/plain": [
       "\u001b[34m\u001b[1mOptimization Result\u001b[22m\u001b[39m\n",
       "\u001b[39m===================\u001b[39m\n",
       "  Iteration:       310\n",
       "  Minimum:         13326\n",
       "  Minimizer:       [192.634, 5.34673, 1571.49, …, 713.621]\n",
       "  Function calls:  13020\n",
       "  Total time:      9840.7320 s\n",
       "  Stop reason:     \n"
      ]
     },
     "metadata": {},
     "output_type": "display_data"
    },
    {
     "name": "stderr",
     "output_type": "stream",
     "text": [
      "\u001b[36m\u001b[1m[ \u001b[22m\u001b[39m\u001b[36m\u001b[1mInfo: \u001b[22m\u001b[39mCurrent Status of ECA\n"
     ]
    },
    {
     "data": {
      "text/html": [
       "<pre>\n",
       "Optimization Result\n",
       "===================\n",
       "  Iteration:       311\n",
       "  Minimum:         13326\n",
       "  Minimizer:       [192.21, 5.34122, 1569.3, …, 719.871]\n",
       "  Function calls:  13062\n",
       "  Total time:      9870.7390 s\n",
       "  Stop reason:     \n",
       "</pre>\n"
      ],
      "text/plain": [
       "\u001b[34m\u001b[1mOptimization Result\u001b[22m\u001b[39m\n",
       "\u001b[39m===================\u001b[39m\n",
       "  Iteration:       311\n",
       "  Minimum:         13326\n",
       "  Minimizer:       [192.21, 5.34122, 1569.3, …, 719.871]\n",
       "  Function calls:  13062\n",
       "  Total time:      9870.7390 s\n",
       "  Stop reason:     \n"
      ]
     },
     "metadata": {},
     "output_type": "display_data"
    },
    {
     "name": "stderr",
     "output_type": "stream",
     "text": [
      "\u001b[36m\u001b[1m[ \u001b[22m\u001b[39m\u001b[36m\u001b[1mInfo: \u001b[22m\u001b[39mCurrent Status of ECA\n"
     ]
    },
    {
     "data": {
      "text/html": [
       "<pre>\n",
       "Optimization Result\n",
       "===================\n",
       "  Iteration:       312\n",
       "  Minimum:         13326\n",
       "  Minimizer:       [192.311, 5.34199, 1570.12, …, 716.608]\n",
       "  Function calls:  13104\n",
       "  Total time:      9900.8130 s\n",
       "  Stop reason:     \n",
       "</pre>\n"
      ],
      "text/plain": [
       "\u001b[34m\u001b[1mOptimization Result\u001b[22m\u001b[39m\n",
       "\u001b[39m===================\u001b[39m\n",
       "  Iteration:       312\n",
       "  Minimum:         13326\n",
       "  Minimizer:       [192.311, 5.34199, 1570.12, …, 716.608]\n",
       "  Function calls:  13104\n",
       "  Total time:      9900.8130 s\n",
       "  Stop reason:     \n"
      ]
     },
     "metadata": {},
     "output_type": "display_data"
    },
    {
     "name": "stderr",
     "output_type": "stream",
     "text": [
      "\u001b[36m\u001b[1m[ \u001b[22m\u001b[39m\u001b[36m\u001b[1mInfo: \u001b[22m\u001b[39mCurrent Status of ECA\n"
     ]
    },
    {
     "data": {
      "text/html": [
       "<pre>\n",
       "Optimization Result\n",
       "===================\n",
       "  Iteration:       313\n",
       "  Minimum:         13326\n",
       "  Minimizer:       [192.311, 5.34199, 1570.12, …, 716.608]\n",
       "  Function calls:  13146\n",
       "  Total time:      9930.6390 s\n",
       "  Stop reason:     \n",
       "</pre>\n"
      ],
      "text/plain": [
       "\u001b[34m\u001b[1mOptimization Result\u001b[22m\u001b[39m\n",
       "\u001b[39m===================\u001b[39m\n",
       "  Iteration:       313\n",
       "  Minimum:         13326\n",
       "  Minimizer:       [192.311, 5.34199, 1570.12, …, 716.608]\n",
       "  Function calls:  13146\n",
       "  Total time:      9930.6390 s\n",
       "  Stop reason:     \n"
      ]
     },
     "metadata": {},
     "output_type": "display_data"
    },
    {
     "name": "stderr",
     "output_type": "stream",
     "text": [
      "\u001b[36m\u001b[1m[ \u001b[22m\u001b[39m\u001b[36m\u001b[1mInfo: \u001b[22m\u001b[39mCurrent Status of ECA\n"
     ]
    },
    {
     "data": {
      "text/html": [
       "<pre>\n",
       "Optimization Result\n",
       "===================\n",
       "  Iteration:       314\n",
       "  Minimum:         13326\n",
       "  Minimizer:       [192.167, 5.33998, 1569.81, …, 717.879]\n",
       "  Function calls:  13188\n",
       "  Total time:      9962.3970 s\n",
       "  Stop reason:     \n",
       "</pre>\n"
      ],
      "text/plain": [
       "\u001b[34m\u001b[1mOptimization Result\u001b[22m\u001b[39m\n",
       "\u001b[39m===================\u001b[39m\n",
       "  Iteration:       314\n",
       "  Minimum:         13326\n",
       "  Minimizer:       [192.167, 5.33998, 1569.81, …, 717.879]\n",
       "  Function calls:  13188\n",
       "  Total time:      9962.3970 s\n",
       "  Stop reason:     \n"
      ]
     },
     "metadata": {},
     "output_type": "display_data"
    },
    {
     "name": "stderr",
     "output_type": "stream",
     "text": [
      "\u001b[36m\u001b[1m[ \u001b[22m\u001b[39m\u001b[36m\u001b[1mInfo: \u001b[22m\u001b[39mCurrent Status of ECA\n"
     ]
    },
    {
     "data": {
      "text/html": [
       "<pre>\n",
       "Optimization Result\n",
       "===================\n",
       "  Iteration:       315\n",
       "  Minimum:         13326\n",
       "  Minimizer:       [192.347, 5.34214, 1569.97, …, 715.67]\n",
       "  Function calls:  13230\n",
       "  Total time:      9992.4110 s\n",
       "  Stop reason:     \n",
       "</pre>\n"
      ],
      "text/plain": [
       "\u001b[34m\u001b[1mOptimization Result\u001b[22m\u001b[39m\n",
       "\u001b[39m===================\u001b[39m\n",
       "  Iteration:       315\n",
       "  Minimum:         13326\n",
       "  Minimizer:       [192.347, 5.34214, 1569.97, …, 715.67]\n",
       "  Function calls:  13230\n",
       "  Total time:      9992.4110 s\n",
       "  Stop reason:     \n"
      ]
     },
     "metadata": {},
     "output_type": "display_data"
    },
    {
     "name": "stderr",
     "output_type": "stream",
     "text": [
      "\u001b[36m\u001b[1m[ \u001b[22m\u001b[39m\u001b[36m\u001b[1mInfo: \u001b[22m\u001b[39mCurrent Status of ECA\n"
     ]
    },
    {
     "data": {
      "text/html": [
       "<pre>\n",
       "Optimization Result\n",
       "===================\n",
       "  Iteration:       316\n",
       "  Minimum:         13326\n",
       "  Minimizer:       [192.255, 5.34032, 1569.76, …, 715.038]\n",
       "  Function calls:  13272\n",
       "  Total time:      10023.7530 s\n",
       "  Stop reason:     \n",
       "</pre>\n"
      ],
      "text/plain": [
       "\u001b[34m\u001b[1mOptimization Result\u001b[22m\u001b[39m\n",
       "\u001b[39m===================\u001b[39m\n",
       "  Iteration:       316\n",
       "  Minimum:         13326\n",
       "  Minimizer:       [192.255, 5.34032, 1569.76, …, 715.038]\n",
       "  Function calls:  13272\n",
       "  Total time:      10023.7530 s\n",
       "  Stop reason:     \n"
      ]
     },
     "metadata": {},
     "output_type": "display_data"
    },
    {
     "name": "stderr",
     "output_type": "stream",
     "text": [
      "\u001b[36m\u001b[1m[ \u001b[22m\u001b[39m\u001b[36m\u001b[1mInfo: \u001b[22m\u001b[39mCurrent Status of ECA\n"
     ]
    },
    {
     "data": {
      "text/html": [
       "<pre>\n",
       "Optimization Result\n",
       "===================\n",
       "  Iteration:       317\n",
       "  Minimum:         13326\n",
       "  Minimizer:       [192.294, 5.34152, 1569.38, …, 716.944]\n",
       "  Function calls:  13314\n",
       "  Total time:      10053.4970 s\n",
       "  Stop reason:     \n",
       "</pre>\n"
      ],
      "text/plain": [
       "\u001b[34m\u001b[1mOptimization Result\u001b[22m\u001b[39m\n",
       "\u001b[39m===================\u001b[39m\n",
       "  Iteration:       317\n",
       "  Minimum:         13326\n",
       "  Minimizer:       [192.294, 5.34152, 1569.38, …, 716.944]\n",
       "  Function calls:  13314\n",
       "  Total time:      10053.4970 s\n",
       "  Stop reason:     \n"
      ]
     },
     "metadata": {},
     "output_type": "display_data"
    },
    {
     "name": "stderr",
     "output_type": "stream",
     "text": [
      "\u001b[36m\u001b[1m[ \u001b[22m\u001b[39m\u001b[36m\u001b[1mInfo: \u001b[22m\u001b[39mCurrent Status of ECA\n"
     ]
    },
    {
     "data": {
      "text/html": [
       "<pre>\n",
       "Optimization Result\n",
       "===================\n",
       "  Iteration:       318\n",
       "  Minimum:         13326\n",
       "  Minimizer:       [191.982, 5.33605, 1569.02, …, 716.427]\n",
       "  Function calls:  13356\n",
       "  Total time:      10083.0600 s\n",
       "  Stop reason:     \n",
       "</pre>\n"
      ],
      "text/plain": [
       "\u001b[34m\u001b[1mOptimization Result\u001b[22m\u001b[39m\n",
       "\u001b[39m===================\u001b[39m\n",
       "  Iteration:       318\n",
       "  Minimum:         13326\n",
       "  Minimizer:       [191.982, 5.33605, 1569.02, …, 716.427]\n",
       "  Function calls:  13356\n",
       "  Total time:      10083.0600 s\n",
       "  Stop reason:     \n"
      ]
     },
     "metadata": {},
     "output_type": "display_data"
    },
    {
     "name": "stderr",
     "output_type": "stream",
     "text": [
      "\u001b[36m\u001b[1m[ \u001b[22m\u001b[39m\u001b[36m\u001b[1mInfo: \u001b[22m\u001b[39mCurrent Status of ECA\n"
     ]
    },
    {
     "data": {
      "text/html": [
       "<pre>\n",
       "Optimization Result\n",
       "===================\n",
       "  Iteration:       319\n",
       "  Minimum:         13326\n",
       "  Minimizer:       [191.984, 5.33608, 1569.36, …, 716.047]\n",
       "  Function calls:  13398\n",
       "  Total time:      10113.0990 s\n",
       "  Stop reason:     \n",
       "</pre>\n"
      ],
      "text/plain": [
       "\u001b[34m\u001b[1mOptimization Result\u001b[22m\u001b[39m\n",
       "\u001b[39m===================\u001b[39m\n",
       "  Iteration:       319\n",
       "  Minimum:         13326\n",
       "  Minimizer:       [191.984, 5.33608, 1569.36, …, 716.047]\n",
       "  Function calls:  13398\n",
       "  Total time:      10113.0990 s\n",
       "  Stop reason:     \n"
      ]
     },
     "metadata": {},
     "output_type": "display_data"
    },
    {
     "name": "stderr",
     "output_type": "stream",
     "text": [
      "\u001b[36m\u001b[1m[ \u001b[22m\u001b[39m\u001b[36m\u001b[1mInfo: \u001b[22m\u001b[39mCurrent Status of ECA\n"
     ]
    },
    {
     "data": {
      "text/html": [
       "<pre>\n",
       "Optimization Result\n",
       "===================\n",
       "  Iteration:       320\n",
       "  Minimum:         13326\n",
       "  Minimizer:       [191.937, 5.33526, 1569.25, …, 716.021]\n",
       "  Function calls:  13440\n",
       "  Total time:      10144.7880 s\n",
       "  Stop reason:     \n",
       "</pre>\n"
      ],
      "text/plain": [
       "\u001b[34m\u001b[1mOptimization Result\u001b[22m\u001b[39m\n",
       "\u001b[39m===================\u001b[39m\n",
       "  Iteration:       320\n",
       "  Minimum:         13326\n",
       "  Minimizer:       [191.937, 5.33526, 1569.25, …, 716.021]\n",
       "  Function calls:  13440\n",
       "  Total time:      10144.7880 s\n",
       "  Stop reason:     \n"
      ]
     },
     "metadata": {},
     "output_type": "display_data"
    },
    {
     "name": "stderr",
     "output_type": "stream",
     "text": [
      "\u001b[36m\u001b[1m[ \u001b[22m\u001b[39m\u001b[36m\u001b[1mInfo: \u001b[22m\u001b[39mCurrent Status of ECA\n"
     ]
    },
    {
     "data": {
      "text/html": [
       "<pre>\n",
       "Optimization Result\n",
       "===================\n",
       "  Iteration:       321\n",
       "  Minimum:         13326\n",
       "  Minimizer:       [191.926, 5.33426, 1569.94, …, 713.108]\n",
       "  Function calls:  13482\n",
       "  Total time:      10174.7390 s\n",
       "  Stop reason:     \n",
       "</pre>\n"
      ],
      "text/plain": [
       "\u001b[34m\u001b[1mOptimization Result\u001b[22m\u001b[39m\n",
       "\u001b[39m===================\u001b[39m\n",
       "  Iteration:       321\n",
       "  Minimum:         13326\n",
       "  Minimizer:       [191.926, 5.33426, 1569.94, …, 713.108]\n",
       "  Function calls:  13482\n",
       "  Total time:      10174.7390 s\n",
       "  Stop reason:     \n"
      ]
     },
     "metadata": {},
     "output_type": "display_data"
    },
    {
     "name": "stderr",
     "output_type": "stream",
     "text": [
      "\u001b[36m\u001b[1m[ \u001b[22m\u001b[39m\u001b[36m\u001b[1mInfo: \u001b[22m\u001b[39mCurrent Status of ECA\n"
     ]
    },
    {
     "data": {
      "text/html": [
       "<pre>\n",
       "Optimization Result\n",
       "===================\n",
       "  Iteration:       322\n",
       "  Minimum:         13326\n",
       "  Minimizer:       [191.809, 5.3334, 1569.88, …, 715.966]\n",
       "  Function calls:  13524\n",
       "  Total time:      10204.9130 s\n",
       "  Stop reason:     \n",
       "</pre>\n"
      ],
      "text/plain": [
       "\u001b[34m\u001b[1mOptimization Result\u001b[22m\u001b[39m\n",
       "\u001b[39m===================\u001b[39m\n",
       "  Iteration:       322\n",
       "  Minimum:         13326\n",
       "  Minimizer:       [191.809, 5.3334, 1569.88, …, 715.966]\n",
       "  Function calls:  13524\n",
       "  Total time:      10204.9130 s\n",
       "  Stop reason:     \n"
      ]
     },
     "metadata": {},
     "output_type": "display_data"
    },
    {
     "name": "stderr",
     "output_type": "stream",
     "text": [
      "\u001b[36m\u001b[1m[ \u001b[22m\u001b[39m\u001b[36m\u001b[1mInfo: \u001b[22m\u001b[39mCurrent Status of ECA\n"
     ]
    },
    {
     "data": {
      "text/html": [
       "<pre>\n",
       "Optimization Result\n",
       "===================\n",
       "  Iteration:       323\n",
       "  Minimum:         13326\n",
       "  Minimizer:       [191.81, 5.33342, 1569.84, …, 715.994]\n",
       "  Function calls:  13566\n",
       "  Total time:      10234.9800 s\n",
       "  Stop reason:     \n",
       "</pre>\n"
      ],
      "text/plain": [
       "\u001b[34m\u001b[1mOptimization Result\u001b[22m\u001b[39m\n",
       "\u001b[39m===================\u001b[39m\n",
       "  Iteration:       323\n",
       "  Minimum:         13326\n",
       "  Minimizer:       [191.81, 5.33342, 1569.84, …, 715.994]\n",
       "  Function calls:  13566\n",
       "  Total time:      10234.9800 s\n",
       "  Stop reason:     \n"
      ]
     },
     "metadata": {},
     "output_type": "display_data"
    },
    {
     "name": "stderr",
     "output_type": "stream",
     "text": [
      "\u001b[36m\u001b[1m[ \u001b[22m\u001b[39m\u001b[36m\u001b[1mInfo: \u001b[22m\u001b[39mCurrent Status of ECA\n"
     ]
    },
    {
     "data": {
      "text/html": [
       "<pre>\n",
       "Optimization Result\n",
       "===================\n",
       "  Iteration:       324\n",
       "  Minimum:         13326\n",
       "  Minimizer:       [191.912, 5.33406, 1570.01, …, 713.105]\n",
       "  Function calls:  13608\n",
       "  Total time:      10268.3960 s\n",
       "  Stop reason:     \n",
       "</pre>\n"
      ],
      "text/plain": [
       "\u001b[34m\u001b[1mOptimization Result\u001b[22m\u001b[39m\n",
       "\u001b[39m===================\u001b[39m\n",
       "  Iteration:       324\n",
       "  Minimum:         13326\n",
       "  Minimizer:       [191.912, 5.33406, 1570.01, …, 713.105]\n",
       "  Function calls:  13608\n",
       "  Total time:      10268.3960 s\n",
       "  Stop reason:     \n"
      ]
     },
     "metadata": {},
     "output_type": "display_data"
    },
    {
     "name": "stderr",
     "output_type": "stream",
     "text": [
      "\u001b[36m\u001b[1m[ \u001b[22m\u001b[39m\u001b[36m\u001b[1mInfo: \u001b[22m\u001b[39mCurrent Status of ECA\n"
     ]
    },
    {
     "data": {
      "text/html": [
       "<pre>\n",
       "Optimization Result\n",
       "===================\n",
       "  Iteration:       325\n",
       "  Minimum:         13326\n",
       "  Minimizer:       [191.406, 5.3275, 1569.62, …, 718.044]\n",
       "  Function calls:  13650\n",
       "  Total time:      10300.2930 s\n",
       "  Stop reason:     \n",
       "</pre>\n"
      ],
      "text/plain": [
       "\u001b[34m\u001b[1mOptimization Result\u001b[22m\u001b[39m\n",
       "\u001b[39m===================\u001b[39m\n",
       "  Iteration:       325\n",
       "  Minimum:         13326\n",
       "  Minimizer:       [191.406, 5.3275, 1569.62, …, 718.044]\n",
       "  Function calls:  13650\n",
       "  Total time:      10300.2930 s\n",
       "  Stop reason:     \n"
      ]
     },
     "metadata": {},
     "output_type": "display_data"
    },
    {
     "name": "stderr",
     "output_type": "stream",
     "text": [
      "\u001b[36m\u001b[1m[ \u001b[22m\u001b[39m\u001b[36m\u001b[1mInfo: \u001b[22m\u001b[39mCurrent Status of ECA\n"
     ]
    },
    {
     "data": {
      "text/html": [
       "<pre>\n",
       "Optimization Result\n",
       "===================\n",
       "  Iteration:       326\n",
       "  Minimum:         13326\n",
       "  Minimizer:       [191.238, 5.32581, 1569.46, …, 721.003]\n",
       "  Function calls:  13692\n",
       "  Total time:      10331.0010 s\n",
       "  Stop reason:     \n",
       "</pre>\n"
      ],
      "text/plain": [
       "\u001b[34m\u001b[1mOptimization Result\u001b[22m\u001b[39m\n",
       "\u001b[39m===================\u001b[39m\n",
       "  Iteration:       326\n",
       "  Minimum:         13326\n",
       "  Minimizer:       [191.238, 5.32581, 1569.46, …, 721.003]\n",
       "  Function calls:  13692\n",
       "  Total time:      10331.0010 s\n",
       "  Stop reason:     \n"
      ]
     },
     "metadata": {},
     "output_type": "display_data"
    },
    {
     "name": "stderr",
     "output_type": "stream",
     "text": [
      "\u001b[36m\u001b[1m[ \u001b[22m\u001b[39m\u001b[36m\u001b[1mInfo: \u001b[22m\u001b[39mCurrent Status of ECA\n"
     ]
    },
    {
     "data": {
      "text/html": [
       "<pre>\n",
       "Optimization Result\n",
       "===================\n",
       "  Iteration:       327\n",
       "  Minimum:         13326\n",
       "  Minimizer:       [191.411, 5.32856, 1570.6, …, 719.526]\n",
       "  Function calls:  13734\n",
       "  Total time:      10361.0170 s\n",
       "  Stop reason:     \n",
       "</pre>\n"
      ],
      "text/plain": [
       "\u001b[34m\u001b[1mOptimization Result\u001b[22m\u001b[39m\n",
       "\u001b[39m===================\u001b[39m\n",
       "  Iteration:       327\n",
       "  Minimum:         13326\n",
       "  Minimizer:       [191.411, 5.32856, 1570.6, …, 719.526]\n",
       "  Function calls:  13734\n",
       "  Total time:      10361.0170 s\n",
       "  Stop reason:     \n"
      ]
     },
     "metadata": {},
     "output_type": "display_data"
    },
    {
     "name": "stderr",
     "output_type": "stream",
     "text": [
      "\u001b[36m\u001b[1m[ \u001b[22m\u001b[39m\u001b[36m\u001b[1mInfo: \u001b[22m\u001b[39mCurrent Status of ECA\n"
     ]
    },
    {
     "data": {
      "text/html": [
       "<pre>\n",
       "Optimization Result\n",
       "===================\n",
       "  Iteration:       328\n",
       "  Minimum:         13326\n",
       "  Minimizer:       [190.984, 5.3224, 1570.86, …, 721.418]\n",
       "  Function calls:  13776\n",
       "  Total time:      10390.9360 s\n",
       "  Stop reason:     \n",
       "</pre>\n"
      ],
      "text/plain": [
       "\u001b[34m\u001b[1mOptimization Result\u001b[22m\u001b[39m\n",
       "\u001b[39m===================\u001b[39m\n",
       "  Iteration:       328\n",
       "  Minimum:         13326\n",
       "  Minimizer:       [190.984, 5.3224, 1570.86, …, 721.418]\n",
       "  Function calls:  13776\n",
       "  Total time:      10390.9360 s\n",
       "  Stop reason:     \n"
      ]
     },
     "metadata": {},
     "output_type": "display_data"
    },
    {
     "name": "stderr",
     "output_type": "stream",
     "text": [
      "\u001b[36m\u001b[1m[ \u001b[22m\u001b[39m\u001b[36m\u001b[1mInfo: \u001b[22m\u001b[39mCurrent Status of ECA\n"
     ]
    },
    {
     "data": {
      "text/html": [
       "<pre>\n",
       "Optimization Result\n",
       "===================\n",
       "  Iteration:       329\n",
       "  Minimum:         13326\n",
       "  Minimizer:       [190.999, 5.32179, 1570.75, …, 719.257]\n",
       "  Function calls:  13818\n",
       "  Total time:      10420.2760 s\n",
       "  Stop reason:     \n",
       "</pre>\n"
      ],
      "text/plain": [
       "\u001b[34m\u001b[1mOptimization Result\u001b[22m\u001b[39m\n",
       "\u001b[39m===================\u001b[39m\n",
       "  Iteration:       329\n",
       "  Minimum:         13326\n",
       "  Minimizer:       [190.999, 5.32179, 1570.75, …, 719.257]\n",
       "  Function calls:  13818\n",
       "  Total time:      10420.2760 s\n",
       "  Stop reason:     \n"
      ]
     },
     "metadata": {},
     "output_type": "display_data"
    },
    {
     "name": "stderr",
     "output_type": "stream",
     "text": [
      "\u001b[36m\u001b[1m[ \u001b[22m\u001b[39m\u001b[36m\u001b[1mInfo: \u001b[22m\u001b[39mCurrent Status of ECA\n"
     ]
    },
    {
     "data": {
      "text/html": [
       "<pre>\n",
       "Optimization Result\n",
       "===================\n",
       "  Iteration:       330\n",
       "  Minimum:         13326\n",
       "  Minimizer:       [190.999, 5.32179, 1570.75, …, 719.257]\n",
       "  Function calls:  13860\n",
       "  Total time:      10450.4670 s\n",
       "  Stop reason:     \n",
       "</pre>\n"
      ],
      "text/plain": [
       "\u001b[34m\u001b[1mOptimization Result\u001b[22m\u001b[39m\n",
       "\u001b[39m===================\u001b[39m\n",
       "  Iteration:       330\n",
       "  Minimum:         13326\n",
       "  Minimizer:       [190.999, 5.32179, 1570.75, …, 719.257]\n",
       "  Function calls:  13860\n",
       "  Total time:      10450.4670 s\n",
       "  Stop reason:     \n"
      ]
     },
     "metadata": {},
     "output_type": "display_data"
    },
    {
     "name": "stderr",
     "output_type": "stream",
     "text": [
      "\u001b[36m\u001b[1m[ \u001b[22m\u001b[39m\u001b[36m\u001b[1mInfo: \u001b[22m\u001b[39mCurrent Status of ECA\n"
     ]
    },
    {
     "data": {
      "text/html": [
       "<pre>\n",
       "Optimization Result\n",
       "===================\n",
       "  Iteration:       331\n",
       "  Minimum:         13326\n",
       "  Minimizer:       [191.034, 5.32169, 1570.26, …, 718.043]\n",
       "  Function calls:  13902\n",
       "  Total time:      10481.5240 s\n",
       "  Stop reason:     \n",
       "</pre>\n"
      ],
      "text/plain": [
       "\u001b[34m\u001b[1mOptimization Result\u001b[22m\u001b[39m\n",
       "\u001b[39m===================\u001b[39m\n",
       "  Iteration:       331\n",
       "  Minimum:         13326\n",
       "  Minimizer:       [191.034, 5.32169, 1570.26, …, 718.043]\n",
       "  Function calls:  13902\n",
       "  Total time:      10481.5240 s\n",
       "  Stop reason:     \n"
      ]
     },
     "metadata": {},
     "output_type": "display_data"
    },
    {
     "name": "stderr",
     "output_type": "stream",
     "text": [
      "\u001b[36m\u001b[1m[ \u001b[22m\u001b[39m\u001b[36m\u001b[1mInfo: \u001b[22m\u001b[39mCurrent Status of ECA\n"
     ]
    },
    {
     "data": {
      "text/html": [
       "<pre>\n",
       "Optimization Result\n",
       "===================\n",
       "  Iteration:       332\n",
       "  Minimum:         13326\n",
       "  Minimizer:       [191.034, 5.32169, 1570.26, …, 718.043]\n",
       "  Function calls:  13944\n",
       "  Total time:      10512.4160 s\n",
       "  Stop reason:     \n",
       "</pre>\n"
      ],
      "text/plain": [
       "\u001b[34m\u001b[1mOptimization Result\u001b[22m\u001b[39m\n",
       "\u001b[39m===================\u001b[39m\n",
       "  Iteration:       332\n",
       "  Minimum:         13326\n",
       "  Minimizer:       [191.034, 5.32169, 1570.26, …, 718.043]\n",
       "  Function calls:  13944\n",
       "  Total time:      10512.4160 s\n",
       "  Stop reason:     \n"
      ]
     },
     "metadata": {},
     "output_type": "display_data"
    },
    {
     "name": "stderr",
     "output_type": "stream",
     "text": [
      "\u001b[36m\u001b[1m[ \u001b[22m\u001b[39m\u001b[36m\u001b[1mInfo: \u001b[22m\u001b[39mCurrent Status of ECA\n"
     ]
    },
    {
     "data": {
      "text/html": [
       "<pre>\n",
       "Optimization Result\n",
       "===================\n",
       "  Iteration:       333\n",
       "  Minimum:         13326\n",
       "  Minimizer:       [191.034, 5.32169, 1570.26, …, 718.043]\n",
       "  Function calls:  13986\n",
       "  Total time:      10542.4240 s\n",
       "  Stop reason:     \n",
       "</pre>\n"
      ],
      "text/plain": [
       "\u001b[34m\u001b[1mOptimization Result\u001b[22m\u001b[39m\n",
       "\u001b[39m===================\u001b[39m\n",
       "  Iteration:       333\n",
       "  Minimum:         13326\n",
       "  Minimizer:       [191.034, 5.32169, 1570.26, …, 718.043]\n",
       "  Function calls:  13986\n",
       "  Total time:      10542.4240 s\n",
       "  Stop reason:     \n"
      ]
     },
     "metadata": {},
     "output_type": "display_data"
    },
    {
     "name": "stderr",
     "output_type": "stream",
     "text": [
      "\u001b[36m\u001b[1m[ \u001b[22m\u001b[39m\u001b[36m\u001b[1mInfo: \u001b[22m\u001b[39mCurrent Status of ECA\n"
     ]
    },
    {
     "data": {
      "text/html": [
       "<pre>\n",
       "Optimization Result\n",
       "===================\n",
       "  Iteration:       334\n",
       "  Minimum:         13326\n",
       "  Minimizer:       [191.034, 5.32169, 1570.26, …, 718.043]\n",
       "  Function calls:  14028\n",
       "  Total time:      10572.3990 s\n",
       "  Stop reason:     \n",
       "</pre>\n"
      ],
      "text/plain": [
       "\u001b[34m\u001b[1mOptimization Result\u001b[22m\u001b[39m\n",
       "\u001b[39m===================\u001b[39m\n",
       "  Iteration:       334\n",
       "  Minimum:         13326\n",
       "  Minimizer:       [191.034, 5.32169, 1570.26, …, 718.043]\n",
       "  Function calls:  14028\n",
       "  Total time:      10572.3990 s\n",
       "  Stop reason:     \n"
      ]
     },
     "metadata": {},
     "output_type": "display_data"
    },
    {
     "name": "stderr",
     "output_type": "stream",
     "text": [
      "\u001b[36m\u001b[1m[ \u001b[22m\u001b[39m\u001b[36m\u001b[1mInfo: \u001b[22m\u001b[39mCurrent Status of ECA\n"
     ]
    },
    {
     "data": {
      "text/html": [
       "<pre>\n",
       "Optimization Result\n",
       "===================\n",
       "  Iteration:       335\n",
       "  Minimum:         13326\n",
       "  Minimizer:       [190.951, 5.31957, 1569.76, …, 716.601]\n",
       "  Function calls:  14070\n",
       "  Total time:      10602.3600 s\n",
       "  Stop reason:     \n",
       "</pre>\n"
      ],
      "text/plain": [
       "\u001b[34m\u001b[1mOptimization Result\u001b[22m\u001b[39m\n",
       "\u001b[39m===================\u001b[39m\n",
       "  Iteration:       335\n",
       "  Minimum:         13326\n",
       "  Minimizer:       [190.951, 5.31957, 1569.76, …, 716.601]\n",
       "  Function calls:  14070\n",
       "  Total time:      10602.3600 s\n",
       "  Stop reason:     \n"
      ]
     },
     "metadata": {},
     "output_type": "display_data"
    },
    {
     "name": "stderr",
     "output_type": "stream",
     "text": [
      "\u001b[36m\u001b[1m[ \u001b[22m\u001b[39m\u001b[36m\u001b[1mInfo: \u001b[22m\u001b[39mCurrent Status of ECA\n"
     ]
    },
    {
     "data": {
      "text/html": [
       "<pre>\n",
       "Optimization Result\n",
       "===================\n",
       "  Iteration:       336\n",
       "  Minimum:         13326\n",
       "  Minimizer:       [191.006, 5.31974, 1569.87, …, 714.517]\n",
       "  Function calls:  14112\n",
       "  Total time:      10632.3840 s\n",
       "  Stop reason:     \n",
       "</pre>\n"
      ],
      "text/plain": [
       "\u001b[34m\u001b[1mOptimization Result\u001b[22m\u001b[39m\n",
       "\u001b[39m===================\u001b[39m\n",
       "  Iteration:       336\n",
       "  Minimum:         13326\n",
       "  Minimizer:       [191.006, 5.31974, 1569.87, …, 714.517]\n",
       "  Function calls:  14112\n",
       "  Total time:      10632.3840 s\n",
       "  Stop reason:     \n"
      ]
     },
     "metadata": {},
     "output_type": "display_data"
    },
    {
     "name": "stderr",
     "output_type": "stream",
     "text": [
      "\u001b[36m\u001b[1m[ \u001b[22m\u001b[39m\u001b[36m\u001b[1mInfo: \u001b[22m\u001b[39mCurrent Status of ECA\n"
     ]
    },
    {
     "data": {
      "text/html": [
       "<pre>\n",
       "Optimization Result\n",
       "===================\n",
       "  Iteration:       337\n",
       "  Minimum:         13326\n",
       "  Minimizer:       [191.006, 5.31974, 1569.87, …, 714.517]\n",
       "  Function calls:  14154\n",
       "  Total time:      10663.6330 s\n",
       "  Stop reason:     \n",
       "</pre>\n"
      ],
      "text/plain": [
       "\u001b[34m\u001b[1mOptimization Result\u001b[22m\u001b[39m\n",
       "\u001b[39m===================\u001b[39m\n",
       "  Iteration:       337\n",
       "  Minimum:         13326\n",
       "  Minimizer:       [191.006, 5.31974, 1569.87, …, 714.517]\n",
       "  Function calls:  14154\n",
       "  Total time:      10663.6330 s\n",
       "  Stop reason:     \n"
      ]
     },
     "metadata": {},
     "output_type": "display_data"
    },
    {
     "name": "stderr",
     "output_type": "stream",
     "text": [
      "\u001b[36m\u001b[1m[ \u001b[22m\u001b[39m\u001b[36m\u001b[1mInfo: \u001b[22m\u001b[39mCurrent Status of ECA\n"
     ]
    },
    {
     "data": {
      "text/html": [
       "<pre>\n",
       "Optimization Result\n",
       "===================\n",
       "  Iteration:       338\n",
       "  Minimum:         13326\n",
       "  Minimizer:       [191.102, 5.32017, 1569.18, …, 712.306]\n",
       "  Function calls:  14196\n",
       "  Total time:      10694.6170 s\n",
       "  Stop reason:     \n",
       "</pre>\n"
      ],
      "text/plain": [
       "\u001b[34m\u001b[1mOptimization Result\u001b[22m\u001b[39m\n",
       "\u001b[39m===================\u001b[39m\n",
       "  Iteration:       338\n",
       "  Minimum:         13326\n",
       "  Minimizer:       [191.102, 5.32017, 1569.18, …, 712.306]\n",
       "  Function calls:  14196\n",
       "  Total time:      10694.6170 s\n",
       "  Stop reason:     \n"
      ]
     },
     "metadata": {},
     "output_type": "display_data"
    },
    {
     "name": "stderr",
     "output_type": "stream",
     "text": [
      "\u001b[36m\u001b[1m[ \u001b[22m\u001b[39m\u001b[36m\u001b[1mInfo: \u001b[22m\u001b[39mCurrent Status of ECA\n"
     ]
    },
    {
     "data": {
      "text/html": [
       "<pre>\n",
       "Optimization Result\n",
       "===================\n",
       "  Iteration:       339\n",
       "  Minimum:         13326\n",
       "  Minimizer:       [190.94, 5.31785, 1568.24, …, 714.166]\n",
       "  Function calls:  14238\n",
       "  Total time:      10724.2170 s\n",
       "  Stop reason:     \n",
       "</pre>\n"
      ],
      "text/plain": [
       "\u001b[34m\u001b[1mOptimization Result\u001b[22m\u001b[39m\n",
       "\u001b[39m===================\u001b[39m\n",
       "  Iteration:       339\n",
       "  Minimum:         13326\n",
       "  Minimizer:       [190.94, 5.31785, 1568.24, …, 714.166]\n",
       "  Function calls:  14238\n",
       "  Total time:      10724.2170 s\n",
       "  Stop reason:     \n"
      ]
     },
     "metadata": {},
     "output_type": "display_data"
    },
    {
     "name": "stderr",
     "output_type": "stream",
     "text": [
      "\u001b[36m\u001b[1m[ \u001b[22m\u001b[39m\u001b[36m\u001b[1mInfo: \u001b[22m\u001b[39mCurrent Status of ECA\n"
     ]
    },
    {
     "data": {
      "text/html": [
       "<pre>\n",
       "Optimization Result\n",
       "===================\n",
       "  Iteration:       340\n",
       "  Minimum:         13326\n",
       "  Minimizer:       [190.833, 5.31619, 1569.36, …, 713.152]\n",
       "  Function calls:  14280\n",
       "  Total time:      10754.0340 s\n",
       "  Stop reason:     \n",
       "</pre>\n"
      ],
      "text/plain": [
       "\u001b[34m\u001b[1mOptimization Result\u001b[22m\u001b[39m\n",
       "\u001b[39m===================\u001b[39m\n",
       "  Iteration:       340\n",
       "  Minimum:         13326\n",
       "  Minimizer:       [190.833, 5.31619, 1569.36, …, 713.152]\n",
       "  Function calls:  14280\n",
       "  Total time:      10754.0340 s\n",
       "  Stop reason:     \n"
      ]
     },
     "metadata": {},
     "output_type": "display_data"
    },
    {
     "name": "stderr",
     "output_type": "stream",
     "text": [
      "\u001b[36m\u001b[1m[ \u001b[22m\u001b[39m\u001b[36m\u001b[1mInfo: \u001b[22m\u001b[39mCurrent Status of ECA\n"
     ]
    },
    {
     "data": {
      "text/html": [
       "<pre>\n",
       "Optimization Result\n",
       "===================\n",
       "  Iteration:       341\n",
       "  Minimum:         13326\n",
       "  Minimizer:       [190.866, 5.31686, 1569.06, …, 713.837]\n",
       "  Function calls:  14322\n",
       "  Total time:      10784.2550 s\n",
       "  Stop reason:     \n",
       "</pre>\n"
      ],
      "text/plain": [
       "\u001b[34m\u001b[1mOptimization Result\u001b[22m\u001b[39m\n",
       "\u001b[39m===================\u001b[39m\n",
       "  Iteration:       341\n",
       "  Minimum:         13326\n",
       "  Minimizer:       [190.866, 5.31686, 1569.06, …, 713.837]\n",
       "  Function calls:  14322\n",
       "  Total time:      10784.2550 s\n",
       "  Stop reason:     \n"
      ]
     },
     "metadata": {},
     "output_type": "display_data"
    },
    {
     "name": "stderr",
     "output_type": "stream",
     "text": [
      "\u001b[36m\u001b[1m[ \u001b[22m\u001b[39m\u001b[36m\u001b[1mInfo: \u001b[22m\u001b[39mCurrent Status of ECA\n"
     ]
    },
    {
     "data": {
      "text/html": [
       "<pre>\n",
       "Optimization Result\n",
       "===================\n",
       "  Iteration:       342\n",
       "  Minimum:         13326\n",
       "  Minimizer:       [190.766, 5.31513, 1568.45, …, 714.233]\n",
       "  Function calls:  14364\n",
       "  Total time:      10814.0760 s\n",
       "  Stop reason:     \n",
       "</pre>\n"
      ],
      "text/plain": [
       "\u001b[34m\u001b[1mOptimization Result\u001b[22m\u001b[39m\n",
       "\u001b[39m===================\u001b[39m\n",
       "  Iteration:       342\n",
       "  Minimum:         13326\n",
       "  Minimizer:       [190.766, 5.31513, 1568.45, …, 714.233]\n",
       "  Function calls:  14364\n",
       "  Total time:      10814.0760 s\n",
       "  Stop reason:     \n"
      ]
     },
     "metadata": {},
     "output_type": "display_data"
    },
    {
     "name": "stderr",
     "output_type": "stream",
     "text": [
      "\u001b[36m\u001b[1m[ \u001b[22m\u001b[39m\u001b[36m\u001b[1mInfo: \u001b[22m\u001b[39mCurrent Status of ECA\n"
     ]
    },
    {
     "data": {
      "text/html": [
       "<pre>\n",
       "Optimization Result\n",
       "===================\n",
       "  Iteration:       343\n",
       "  Minimum:         13326\n",
       "  Minimizer:       [190.722, 5.31206, 1569.52, …, 706.799]\n",
       "  Function calls:  14406\n",
       "  Total time:      10845.4130 s\n",
       "  Stop reason:     \n",
       "</pre>\n"
      ],
      "text/plain": [
       "\u001b[34m\u001b[1mOptimization Result\u001b[22m\u001b[39m\n",
       "\u001b[39m===================\u001b[39m\n",
       "  Iteration:       343\n",
       "  Minimum:         13326\n",
       "  Minimizer:       [190.722, 5.31206, 1569.52, …, 706.799]\n",
       "  Function calls:  14406\n",
       "  Total time:      10845.4130 s\n",
       "  Stop reason:     \n"
      ]
     },
     "metadata": {},
     "output_type": "display_data"
    },
    {
     "name": "stderr",
     "output_type": "stream",
     "text": [
      "\u001b[36m\u001b[1m[ \u001b[22m\u001b[39m\u001b[36m\u001b[1mInfo: \u001b[22m\u001b[39mCurrent Status of ECA\n"
     ]
    },
    {
     "data": {
      "text/html": [
       "<pre>\n",
       "Optimization Result\n",
       "===================\n",
       "  Iteration:       344\n",
       "  Minimum:         13326\n",
       "  Minimizer:       [190.685, 5.31412, 1569.47, …, 713.927]\n",
       "  Function calls:  14448\n",
       "  Total time:      10875.7120 s\n",
       "  Stop reason:     \n",
       "</pre>\n"
      ],
      "text/plain": [
       "\u001b[34m\u001b[1mOptimization Result\u001b[22m\u001b[39m\n",
       "\u001b[39m===================\u001b[39m\n",
       "  Iteration:       344\n",
       "  Minimum:         13326\n",
       "  Minimizer:       [190.685, 5.31412, 1569.47, …, 713.927]\n",
       "  Function calls:  14448\n",
       "  Total time:      10875.7120 s\n",
       "  Stop reason:     \n"
      ]
     },
     "metadata": {},
     "output_type": "display_data"
    },
    {
     "name": "stderr",
     "output_type": "stream",
     "text": [
      "\u001b[36m\u001b[1m[ \u001b[22m\u001b[39m\u001b[36m\u001b[1mInfo: \u001b[22m\u001b[39mCurrent Status of ECA\n"
     ]
    },
    {
     "data": {
      "text/html": [
       "<pre>\n",
       "Optimization Result\n",
       "===================\n",
       "  Iteration:       345\n",
       "  Minimum:         13326\n",
       "  Minimizer:       [190.561, 5.312, 1569.66, …, 713.432]\n",
       "  Function calls:  14490\n",
       "  Total time:      10905.7830 s\n",
       "  Stop reason:     \n",
       "</pre>\n"
      ],
      "text/plain": [
       "\u001b[34m\u001b[1mOptimization Result\u001b[22m\u001b[39m\n",
       "\u001b[39m===================\u001b[39m\n",
       "  Iteration:       345\n",
       "  Minimum:         13326\n",
       "  Minimizer:       [190.561, 5.312, 1569.66, …, 713.432]\n",
       "  Function calls:  14490\n",
       "  Total time:      10905.7830 s\n",
       "  Stop reason:     \n"
      ]
     },
     "metadata": {},
     "output_type": "display_data"
    },
    {
     "name": "stderr",
     "output_type": "stream",
     "text": [
      "\u001b[36m\u001b[1m[ \u001b[22m\u001b[39m\u001b[36m\u001b[1mInfo: \u001b[22m\u001b[39mCurrent Status of ECA\n"
     ]
    },
    {
     "data": {
      "text/html": [
       "<pre>\n",
       "Optimization Result\n",
       "===================\n",
       "  Iteration:       346\n",
       "  Minimum:         13325.9\n",
       "  Minimizer:       [190.629, 5.31303, 1569.9, …, 712.976]\n",
       "  Function calls:  14532\n",
       "  Total time:      10935.7910 s\n",
       "  Stop reason:     \n",
       "</pre>\n"
      ],
      "text/plain": [
       "\u001b[34m\u001b[1mOptimization Result\u001b[22m\u001b[39m\n",
       "\u001b[39m===================\u001b[39m\n",
       "  Iteration:       346\n",
       "  Minimum:         13325.9\n",
       "  Minimizer:       [190.629, 5.31303, 1569.9, …, 712.976]\n",
       "  Function calls:  14532\n",
       "  Total time:      10935.7910 s\n",
       "  Stop reason:     \n"
      ]
     },
     "metadata": {},
     "output_type": "display_data"
    },
    {
     "name": "stderr",
     "output_type": "stream",
     "text": [
      "\u001b[36m\u001b[1m[ \u001b[22m\u001b[39m\u001b[36m\u001b[1mInfo: \u001b[22m\u001b[39mCurrent Status of ECA\n"
     ]
    },
    {
     "data": {
      "text/html": [
       "<pre>\n",
       "Optimization Result\n",
       "===================\n",
       "  Iteration:       347\n",
       "  Minimum:         13325.9\n",
       "  Minimizer:       [190.629, 5.31303, 1569.9, …, 712.976]\n",
       "  Function calls:  14574\n",
       "  Total time:      10965.4160 s\n",
       "  Stop reason:     \n",
       "</pre>\n"
      ],
      "text/plain": [
       "\u001b[34m\u001b[1mOptimization Result\u001b[22m\u001b[39m\n",
       "\u001b[39m===================\u001b[39m\n",
       "  Iteration:       347\n",
       "  Minimum:         13325.9\n",
       "  Minimizer:       [190.629, 5.31303, 1569.9, …, 712.976]\n",
       "  Function calls:  14574\n",
       "  Total time:      10965.4160 s\n",
       "  Stop reason:     \n"
      ]
     },
     "metadata": {},
     "output_type": "display_data"
    },
    {
     "name": "stderr",
     "output_type": "stream",
     "text": [
      "\u001b[36m\u001b[1m[ \u001b[22m\u001b[39m\u001b[36m\u001b[1mInfo: \u001b[22m\u001b[39mCurrent Status of ECA\n"
     ]
    },
    {
     "data": {
      "text/html": [
       "<pre>\n",
       "Optimization Result\n",
       "===================\n",
       "  Iteration:       348\n",
       "  Minimum:         13325.9\n",
       "  Minimizer:       [190.683, 5.31305, 1569.02, …, 711.705]\n",
       "  Function calls:  14616\n",
       "  Total time:      10995.0430 s\n",
       "  Stop reason:     \n",
       "</pre>\n"
      ],
      "text/plain": [
       "\u001b[34m\u001b[1mOptimization Result\u001b[22m\u001b[39m\n",
       "\u001b[39m===================\u001b[39m\n",
       "  Iteration:       348\n",
       "  Minimum:         13325.9\n",
       "  Minimizer:       [190.683, 5.31305, 1569.02, …, 711.705]\n",
       "  Function calls:  14616\n",
       "  Total time:      10995.0430 s\n",
       "  Stop reason:     \n"
      ]
     },
     "metadata": {},
     "output_type": "display_data"
    },
    {
     "name": "stderr",
     "output_type": "stream",
     "text": [
      "\u001b[36m\u001b[1m[ \u001b[22m\u001b[39m\u001b[36m\u001b[1mInfo: \u001b[22m\u001b[39mCurrent Status of ECA\n"
     ]
    },
    {
     "data": {
      "text/html": [
       "<pre>\n",
       "Optimization Result\n",
       "===================\n",
       "  Iteration:       349\n",
       "  Minimum:         13325.9\n",
       "  Minimizer:       [190.237, 5.30744, 1570.09, …, 714.856]\n",
       "  Function calls:  14658\n",
       "  Total time:      11026.1500 s\n",
       "  Stop reason:     \n",
       "</pre>\n"
      ],
      "text/plain": [
       "\u001b[34m\u001b[1mOptimization Result\u001b[22m\u001b[39m\n",
       "\u001b[39m===================\u001b[39m\n",
       "  Iteration:       349\n",
       "  Minimum:         13325.9\n",
       "  Minimizer:       [190.237, 5.30744, 1570.09, …, 714.856]\n",
       "  Function calls:  14658\n",
       "  Total time:      11026.1500 s\n",
       "  Stop reason:     \n"
      ]
     },
     "metadata": {},
     "output_type": "display_data"
    },
    {
     "name": "stderr",
     "output_type": "stream",
     "text": [
      "\u001b[36m\u001b[1m[ \u001b[22m\u001b[39m\u001b[36m\u001b[1mInfo: \u001b[22m\u001b[39mCurrent Status of ECA\n"
     ]
    },
    {
     "data": {
      "text/html": [
       "<pre>\n",
       "Optimization Result\n",
       "===================\n",
       "  Iteration:       350\n",
       "  Minimum:         13325.9\n",
       "  Minimizer:       [189.996, 5.30405, 1569.59, …, 716.849]\n",
       "  Function calls:  14700\n",
       "  Total time:      11056.6280 s\n",
       "  Stop reason:     \n",
       "</pre>\n"
      ],
      "text/plain": [
       "\u001b[34m\u001b[1mOptimization Result\u001b[22m\u001b[39m\n",
       "\u001b[39m===================\u001b[39m\n",
       "  Iteration:       350\n",
       "  Minimum:         13325.9\n",
       "  Minimizer:       [189.996, 5.30405, 1569.59, …, 716.849]\n",
       "  Function calls:  14700\n",
       "  Total time:      11056.6280 s\n",
       "  Stop reason:     \n"
      ]
     },
     "metadata": {},
     "output_type": "display_data"
    },
    {
     "name": "stderr",
     "output_type": "stream",
     "text": [
      "\u001b[36m\u001b[1m[ \u001b[22m\u001b[39m\u001b[36m\u001b[1mInfo: \u001b[22m\u001b[39mCurrent Status of ECA\n"
     ]
    },
    {
     "data": {
      "text/html": [
       "<pre>\n",
       "Optimization Result\n",
       "===================\n",
       "  Iteration:       351\n",
       "  Minimum:         13325.9\n",
       "  Minimizer:       [190.389, 5.30872, 1568.7, …, 713.23]\n",
       "  Function calls:  14742\n",
       "  Total time:      11086.6320 s\n",
       "  Stop reason:     \n",
       "</pre>\n"
      ],
      "text/plain": [
       "\u001b[34m\u001b[1mOptimization Result\u001b[22m\u001b[39m\n",
       "\u001b[39m===================\u001b[39m\n",
       "  Iteration:       351\n",
       "  Minimum:         13325.9\n",
       "  Minimizer:       [190.389, 5.30872, 1568.7, …, 713.23]\n",
       "  Function calls:  14742\n",
       "  Total time:      11086.6320 s\n",
       "  Stop reason:     \n"
      ]
     },
     "metadata": {},
     "output_type": "display_data"
    },
    {
     "name": "stderr",
     "output_type": "stream",
     "text": [
      "\u001b[36m\u001b[1m[ \u001b[22m\u001b[39m\u001b[36m\u001b[1mInfo: \u001b[22m\u001b[39mCurrent Status of ECA\n"
     ]
    },
    {
     "data": {
      "text/html": [
       "<pre>\n",
       "Optimization Result\n",
       "===================\n",
       "  Iteration:       352\n",
       "  Minimum:         13325.9\n",
       "  Minimizer:       [190.031, 5.30482, 1570.41, …, 716.424]\n",
       "  Function calls:  14784\n",
       "  Total time:      11121.1090 s\n",
       "  Stop reason:     \n",
       "</pre>\n"
      ],
      "text/plain": [
       "\u001b[34m\u001b[1mOptimization Result\u001b[22m\u001b[39m\n",
       "\u001b[39m===================\u001b[39m\n",
       "  Iteration:       352\n",
       "  Minimum:         13325.9\n",
       "  Minimizer:       [190.031, 5.30482, 1570.41, …, 716.424]\n",
       "  Function calls:  14784\n",
       "  Total time:      11121.1090 s\n",
       "  Stop reason:     \n"
      ]
     },
     "metadata": {},
     "output_type": "display_data"
    },
    {
     "name": "stderr",
     "output_type": "stream",
     "text": [
      "\u001b[36m\u001b[1m[ \u001b[22m\u001b[39m\u001b[36m\u001b[1mInfo: \u001b[22m\u001b[39mCurrent Status of ECA\n"
     ]
    },
    {
     "data": {
      "text/html": [
       "<pre>\n",
       "Optimization Result\n",
       "===================\n",
       "  Iteration:       353\n",
       "  Minimum:         13325.9\n",
       "  Minimizer:       [189.467, 5.29813, 1570.06, …, 723.44]\n",
       "  Function calls:  14826\n",
       "  Total time:      11153.7100 s\n",
       "  Stop reason:     \n",
       "</pre>\n"
      ],
      "text/plain": [
       "\u001b[34m\u001b[1mOptimization Result\u001b[22m\u001b[39m\n",
       "\u001b[39m===================\u001b[39m\n",
       "  Iteration:       353\n",
       "  Minimum:         13325.9\n",
       "  Minimizer:       [189.467, 5.29813, 1570.06, …, 723.44]\n",
       "  Function calls:  14826\n",
       "  Total time:      11153.7100 s\n",
       "  Stop reason:     \n"
      ]
     },
     "metadata": {},
     "output_type": "display_data"
    },
    {
     "name": "stderr",
     "output_type": "stream",
     "text": [
      "\u001b[36m\u001b[1m[ \u001b[22m\u001b[39m\u001b[36m\u001b[1mInfo: \u001b[22m\u001b[39mCurrent Status of ECA\n"
     ]
    },
    {
     "data": {
      "text/html": [
       "<pre>\n",
       "Optimization Result\n",
       "===================\n",
       "  Iteration:       354\n",
       "  Minimum:         13325.9\n",
       "  Minimizer:       [190.072, 5.30526, 1569.18, …, 717.23]\n",
       "  Function calls:  14868\n",
       "  Total time:      11184.1930 s\n",
       "  Stop reason:     \n",
       "</pre>\n"
      ],
      "text/plain": [
       "\u001b[34m\u001b[1mOptimization Result\u001b[22m\u001b[39m\n",
       "\u001b[39m===================\u001b[39m\n",
       "  Iteration:       354\n",
       "  Minimum:         13325.9\n",
       "  Minimizer:       [190.072, 5.30526, 1569.18, …, 717.23]\n",
       "  Function calls:  14868\n",
       "  Total time:      11184.1930 s\n",
       "  Stop reason:     \n"
      ]
     },
     "metadata": {},
     "output_type": "display_data"
    },
    {
     "name": "stderr",
     "output_type": "stream",
     "text": [
      "\u001b[36m\u001b[1m[ \u001b[22m\u001b[39m\u001b[36m\u001b[1mInfo: \u001b[22m\u001b[39mCurrent Status of ECA\n"
     ]
    },
    {
     "data": {
      "text/html": [
       "<pre>\n",
       "Optimization Result\n",
       "===================\n",
       "  Iteration:       355\n",
       "  Minimum:         13325.9\n",
       "  Minimizer:       [190.105, 5.30535, 1569.85, …, 715.289]\n",
       "  Function calls:  14910\n",
       "  Total time:      11221.0610 s\n",
       "  Stop reason:     \n",
       "</pre>\n"
      ],
      "text/plain": [
       "\u001b[34m\u001b[1mOptimization Result\u001b[22m\u001b[39m\n",
       "\u001b[39m===================\u001b[39m\n",
       "  Iteration:       355\n",
       "  Minimum:         13325.9\n",
       "  Minimizer:       [190.105, 5.30535, 1569.85, …, 715.289]\n",
       "  Function calls:  14910\n",
       "  Total time:      11221.0610 s\n",
       "  Stop reason:     \n"
      ]
     },
     "metadata": {},
     "output_type": "display_data"
    },
    {
     "name": "stderr",
     "output_type": "stream",
     "text": [
      "\u001b[36m\u001b[1m[ \u001b[22m\u001b[39m\u001b[36m\u001b[1mInfo: \u001b[22m\u001b[39mCurrent Status of ECA\n"
     ]
    },
    {
     "data": {
      "text/html": [
       "<pre>\n",
       "Optimization Result\n",
       "===================\n",
       "  Iteration:       356\n",
       "  Minimum:         13325.9\n",
       "  Minimizer:       [190.045, 5.30476, 1569.89, …, 716.276]\n",
       "  Function calls:  14952\n",
       "  Total time:      11250.8420 s\n",
       "  Stop reason:     \n",
       "</pre>\n"
      ],
      "text/plain": [
       "\u001b[34m\u001b[1mOptimization Result\u001b[22m\u001b[39m\n",
       "\u001b[39m===================\u001b[39m\n",
       "  Iteration:       356\n",
       "  Minimum:         13325.9\n",
       "  Minimizer:       [190.045, 5.30476, 1569.89, …, 716.276]\n",
       "  Function calls:  14952\n",
       "  Total time:      11250.8420 s\n",
       "  Stop reason:     \n"
      ]
     },
     "metadata": {},
     "output_type": "display_data"
    },
    {
     "name": "stderr",
     "output_type": "stream",
     "text": [
      "\u001b[36m\u001b[1m[ \u001b[22m\u001b[39m\u001b[36m\u001b[1mInfo: \u001b[22m\u001b[39mCurrent Status of ECA\n"
     ]
    },
    {
     "data": {
      "text/html": [
       "<pre>\n",
       "Optimization Result\n",
       "===================\n",
       "  Iteration:       357\n",
       "  Minimum:         13325.9\n",
       "  Minimizer:       [190.045, 5.30476, 1569.89, …, 716.276]\n",
       "  Function calls:  14994\n",
       "  Total time:      11281.4020 s\n",
       "  Stop reason:     \n",
       "</pre>\n"
      ],
      "text/plain": [
       "\u001b[34m\u001b[1mOptimization Result\u001b[22m\u001b[39m\n",
       "\u001b[39m===================\u001b[39m\n",
       "  Iteration:       357\n",
       "  Minimum:         13325.9\n",
       "  Minimizer:       [190.045, 5.30476, 1569.89, …, 716.276]\n",
       "  Function calls:  14994\n",
       "  Total time:      11281.4020 s\n",
       "  Stop reason:     \n"
      ]
     },
     "metadata": {},
     "output_type": "display_data"
    },
    {
     "name": "stderr",
     "output_type": "stream",
     "text": [
      "\u001b[36m\u001b[1m[ \u001b[22m\u001b[39m\u001b[36m\u001b[1mInfo: \u001b[22m\u001b[39mCurrent Status of ECA\n"
     ]
    },
    {
     "data": {
      "text/html": [
       "<pre>\n",
       "Optimization Result\n",
       "===================\n",
       "  Iteration:       358\n",
       "  Minimum:         13325.9\n",
       "  Minimizer:       [189.847, 5.30261, 1569.55, …, 719.477]\n",
       "  Function calls:  15036\n",
       "  Total time:      11311.4610 s\n",
       "  Stop reason:     \n",
       "</pre>\n"
      ],
      "text/plain": [
       "\u001b[34m\u001b[1mOptimization Result\u001b[22m\u001b[39m\n",
       "\u001b[39m===================\u001b[39m\n",
       "  Iteration:       358\n",
       "  Minimum:         13325.9\n",
       "  Minimizer:       [189.847, 5.30261, 1569.55, …, 719.477]\n",
       "  Function calls:  15036\n",
       "  Total time:      11311.4610 s\n",
       "  Stop reason:     \n"
      ]
     },
     "metadata": {},
     "output_type": "display_data"
    },
    {
     "name": "stderr",
     "output_type": "stream",
     "text": [
      "\u001b[36m\u001b[1m[ \u001b[22m\u001b[39m\u001b[36m\u001b[1mInfo: \u001b[22m\u001b[39mCurrent Status of ECA\n"
     ]
    },
    {
     "data": {
      "text/html": [
       "<pre>\n",
       "Optimization Result\n",
       "===================\n",
       "  Iteration:       359\n",
       "  Minimum:         13325.9\n",
       "  Minimizer:       [189.847, 5.30261, 1569.55, …, 719.477]\n",
       "  Function calls:  15078\n",
       "  Total time:      11341.5860 s\n",
       "  Stop reason:     \n",
       "</pre>\n"
      ],
      "text/plain": [
       "\u001b[34m\u001b[1mOptimization Result\u001b[22m\u001b[39m\n",
       "\u001b[39m===================\u001b[39m\n",
       "  Iteration:       359\n",
       "  Minimum:         13325.9\n",
       "  Minimizer:       [189.847, 5.30261, 1569.55, …, 719.477]\n",
       "  Function calls:  15078\n",
       "  Total time:      11341.5860 s\n",
       "  Stop reason:     \n"
      ]
     },
     "metadata": {},
     "output_type": "display_data"
    },
    {
     "name": "stderr",
     "output_type": "stream",
     "text": [
      "\u001b[36m\u001b[1m[ \u001b[22m\u001b[39m\u001b[36m\u001b[1mInfo: \u001b[22m\u001b[39mCurrent Status of ECA\n"
     ]
    },
    {
     "data": {
      "text/html": [
       "<pre>\n",
       "Optimization Result\n",
       "===================\n",
       "  Iteration:       360\n",
       "  Minimum:         13325.9\n",
       "  Minimizer:       [189.847, 5.30261, 1569.55, …, 719.477]\n",
       "  Function calls:  15120\n",
       "  Total time:      11371.5930 s\n",
       "  Stop reason:     \n",
       "</pre>\n"
      ],
      "text/plain": [
       "\u001b[34m\u001b[1mOptimization Result\u001b[22m\u001b[39m\n",
       "\u001b[39m===================\u001b[39m\n",
       "  Iteration:       360\n",
       "  Minimum:         13325.9\n",
       "  Minimizer:       [189.847, 5.30261, 1569.55, …, 719.477]\n",
       "  Function calls:  15120\n",
       "  Total time:      11371.5930 s\n",
       "  Stop reason:     \n"
      ]
     },
     "metadata": {},
     "output_type": "display_data"
    },
    {
     "name": "stderr",
     "output_type": "stream",
     "text": [
      "\u001b[36m\u001b[1m[ \u001b[22m\u001b[39m\u001b[36m\u001b[1mInfo: \u001b[22m\u001b[39mCurrent Status of ECA\n"
     ]
    },
    {
     "data": {
      "text/html": [
       "<pre>\n",
       "Optimization Result\n",
       "===================\n",
       "  Iteration:       361\n",
       "  Minimum:         13325.9\n",
       "  Minimizer:       [189.847, 5.30261, 1569.55, …, 719.477]\n",
       "  Function calls:  15162\n",
       "  Total time:      11403.5410 s\n",
       "  Stop reason:     \n",
       "</pre>\n"
      ],
      "text/plain": [
       "\u001b[34m\u001b[1mOptimization Result\u001b[22m\u001b[39m\n",
       "\u001b[39m===================\u001b[39m\n",
       "  Iteration:       361\n",
       "  Minimum:         13325.9\n",
       "  Minimizer:       [189.847, 5.30261, 1569.55, …, 719.477]\n",
       "  Function calls:  15162\n",
       "  Total time:      11403.5410 s\n",
       "  Stop reason:     \n"
      ]
     },
     "metadata": {},
     "output_type": "display_data"
    },
    {
     "name": "stderr",
     "output_type": "stream",
     "text": [
      "\u001b[36m\u001b[1m[ \u001b[22m\u001b[39m\u001b[36m\u001b[1mInfo: \u001b[22m\u001b[39mCurrent Status of ECA\n"
     ]
    },
    {
     "data": {
      "text/html": [
       "<pre>\n",
       "Optimization Result\n",
       "===================\n",
       "  Iteration:       362\n",
       "  Minimum:         13325.9\n",
       "  Minimizer:       [190.044, 5.30463, 1569.82, …, 716.023]\n",
       "  Function calls:  15204\n",
       "  Total time:      11433.5390 s\n",
       "  Stop reason:     \n",
       "</pre>\n"
      ],
      "text/plain": [
       "\u001b[34m\u001b[1mOptimization Result\u001b[22m\u001b[39m\n",
       "\u001b[39m===================\u001b[39m\n",
       "  Iteration:       362\n",
       "  Minimum:         13325.9\n",
       "  Minimizer:       [190.044, 5.30463, 1569.82, …, 716.023]\n",
       "  Function calls:  15204\n",
       "  Total time:      11433.5390 s\n",
       "  Stop reason:     \n"
      ]
     },
     "metadata": {},
     "output_type": "display_data"
    },
    {
     "name": "stderr",
     "output_type": "stream",
     "text": [
      "\u001b[36m\u001b[1m[ \u001b[22m\u001b[39m\u001b[36m\u001b[1mInfo: \u001b[22m\u001b[39mCurrent Status of ECA\n"
     ]
    },
    {
     "data": {
      "text/html": [
       "<pre>\n",
       "Optimization Result\n",
       "===================\n",
       "  Iteration:       363\n",
       "  Minimum:         13325.9\n",
       "  Minimizer:       [190.044, 5.30463, 1569.82, …, 716.023]\n",
       "  Function calls:  15246\n",
       "  Total time:      11463.5650 s\n",
       "  Stop reason:     \n",
       "</pre>\n"
      ],
      "text/plain": [
       "\u001b[34m\u001b[1mOptimization Result\u001b[22m\u001b[39m\n",
       "\u001b[39m===================\u001b[39m\n",
       "  Iteration:       363\n",
       "  Minimum:         13325.9\n",
       "  Minimizer:       [190.044, 5.30463, 1569.82, …, 716.023]\n",
       "  Function calls:  15246\n",
       "  Total time:      11463.5650 s\n",
       "  Stop reason:     \n"
      ]
     },
     "metadata": {},
     "output_type": "display_data"
    },
    {
     "name": "stderr",
     "output_type": "stream",
     "text": [
      "\u001b[36m\u001b[1m[ \u001b[22m\u001b[39m\u001b[36m\u001b[1mInfo: \u001b[22m\u001b[39mCurrent Status of ECA\n"
     ]
    },
    {
     "data": {
      "text/html": [
       "<pre>\n",
       "Optimization Result\n",
       "===================\n",
       "  Iteration:       364\n",
       "  Minimum:         13325.9\n",
       "  Minimizer:       [190.058, 5.3042, 1570.68, …, 713.331]\n",
       "  Function calls:  15288\n",
       "  Total time:      11493.2920 s\n",
       "  Stop reason:     \n",
       "</pre>\n"
      ],
      "text/plain": [
       "\u001b[34m\u001b[1mOptimization Result\u001b[22m\u001b[39m\n",
       "\u001b[39m===================\u001b[39m\n",
       "  Iteration:       364\n",
       "  Minimum:         13325.9\n",
       "  Minimizer:       [190.058, 5.3042, 1570.68, …, 713.331]\n",
       "  Function calls:  15288\n",
       "  Total time:      11493.2920 s\n",
       "  Stop reason:     \n"
      ]
     },
     "metadata": {},
     "output_type": "display_data"
    },
    {
     "name": "stderr",
     "output_type": "stream",
     "text": [
      "\u001b[36m\u001b[1m[ \u001b[22m\u001b[39m\u001b[36m\u001b[1mInfo: \u001b[22m\u001b[39mCurrent Status of ECA\n"
     ]
    },
    {
     "data": {
      "text/html": [
       "<pre>\n",
       "Optimization Result\n",
       "===================\n",
       "  Iteration:       365\n",
       "  Minimum:         13325.9\n",
       "  Minimizer:       [190.052, 5.30412, 1570.72, …, 713.306]\n",
       "  Function calls:  15330\n",
       "  Total time:      11523.1390 s\n",
       "  Stop reason:     \n",
       "</pre>\n"
      ],
      "text/plain": [
       "\u001b[34m\u001b[1mOptimization Result\u001b[22m\u001b[39m\n",
       "\u001b[39m===================\u001b[39m\n",
       "  Iteration:       365\n",
       "  Minimum:         13325.9\n",
       "  Minimizer:       [190.052, 5.30412, 1570.72, …, 713.306]\n",
       "  Function calls:  15330\n",
       "  Total time:      11523.1390 s\n",
       "  Stop reason:     \n"
      ]
     },
     "metadata": {},
     "output_type": "display_data"
    },
    {
     "name": "stderr",
     "output_type": "stream",
     "text": [
      "\u001b[36m\u001b[1m[ \u001b[22m\u001b[39m\u001b[36m\u001b[1mInfo: \u001b[22m\u001b[39mCurrent Status of ECA\n"
     ]
    },
    {
     "data": {
      "text/html": [
       "<pre>\n",
       "Optimization Result\n",
       "===================\n",
       "  Iteration:       366\n",
       "  Minimum:         13325.9\n",
       "  Minimizer:       [190.052, 5.30412, 1570.72, …, 713.306]\n",
       "  Function calls:  15372\n",
       "  Total time:      11553.1260 s\n",
       "  Stop reason:     \n",
       "</pre>\n"
      ],
      "text/plain": [
       "\u001b[34m\u001b[1mOptimization Result\u001b[22m\u001b[39m\n",
       "\u001b[39m===================\u001b[39m\n",
       "  Iteration:       366\n",
       "  Minimum:         13325.9\n",
       "  Minimizer:       [190.052, 5.30412, 1570.72, …, 713.306]\n",
       "  Function calls:  15372\n",
       "  Total time:      11553.1260 s\n",
       "  Stop reason:     \n"
      ]
     },
     "metadata": {},
     "output_type": "display_data"
    },
    {
     "name": "stderr",
     "output_type": "stream",
     "text": [
      "\u001b[36m\u001b[1m[ \u001b[22m\u001b[39m\u001b[36m\u001b[1mInfo: \u001b[22m\u001b[39mCurrent Status of ECA\n"
     ]
    },
    {
     "data": {
      "text/html": [
       "<pre>\n",
       "Optimization Result\n",
       "===================\n",
       "  Iteration:       367\n",
       "  Minimum:         13325.9\n",
       "  Minimizer:       [190.086, 5.30427, 1569.83, …, 713.262]\n",
       "  Function calls:  15414\n",
       "  Total time:      11586.7080 s\n",
       "  Stop reason:     \n",
       "</pre>\n"
      ],
      "text/plain": [
       "\u001b[34m\u001b[1mOptimization Result\u001b[22m\u001b[39m\n",
       "\u001b[39m===================\u001b[39m\n",
       "  Iteration:       367\n",
       "  Minimum:         13325.9\n",
       "  Minimizer:       [190.086, 5.30427, 1569.83, …, 713.262]\n",
       "  Function calls:  15414\n",
       "  Total time:      11586.7080 s\n",
       "  Stop reason:     \n"
      ]
     },
     "metadata": {},
     "output_type": "display_data"
    },
    {
     "name": "stderr",
     "output_type": "stream",
     "text": [
      "\u001b[36m\u001b[1m[ \u001b[22m\u001b[39m\u001b[36m\u001b[1mInfo: \u001b[22m\u001b[39mCurrent Status of ECA\n"
     ]
    },
    {
     "data": {
      "text/html": [
       "<pre>\n",
       "Optimization Result\n",
       "===================\n",
       "  Iteration:       368\n",
       "  Minimum:         13325.9\n",
       "  Minimizer:       [189.89, 5.30218, 1570.18, …, 715.767]\n",
       "  Function calls:  15456\n",
       "  Total time:      11617.0560 s\n",
       "  Stop reason:     \n",
       "</pre>\n"
      ],
      "text/plain": [
       "\u001b[34m\u001b[1mOptimization Result\u001b[22m\u001b[39m\n",
       "\u001b[39m===================\u001b[39m\n",
       "  Iteration:       368\n",
       "  Minimum:         13325.9\n",
       "  Minimizer:       [189.89, 5.30218, 1570.18, …, 715.767]\n",
       "  Function calls:  15456\n",
       "  Total time:      11617.0560 s\n",
       "  Stop reason:     \n"
      ]
     },
     "metadata": {},
     "output_type": "display_data"
    },
    {
     "name": "stderr",
     "output_type": "stream",
     "text": [
      "\u001b[36m\u001b[1m[ \u001b[22m\u001b[39m\u001b[36m\u001b[1mInfo: \u001b[22m\u001b[39mCurrent Status of ECA\n"
     ]
    },
    {
     "data": {
      "text/html": [
       "<pre>\n",
       "Optimization Result\n",
       "===================\n",
       "  Iteration:       369\n",
       "  Minimum:         13325.9\n",
       "  Minimizer:       [189.793, 5.30078, 1570.41, …, 715.952]\n",
       "  Function calls:  15498\n",
       "  Total time:      11647.3650 s\n",
       "  Stop reason:     \n",
       "</pre>\n"
      ],
      "text/plain": [
       "\u001b[34m\u001b[1mOptimization Result\u001b[22m\u001b[39m\n",
       "\u001b[39m===================\u001b[39m\n",
       "  Iteration:       369\n",
       "  Minimum:         13325.9\n",
       "  Minimizer:       [189.793, 5.30078, 1570.41, …, 715.952]\n",
       "  Function calls:  15498\n",
       "  Total time:      11647.3650 s\n",
       "  Stop reason:     \n"
      ]
     },
     "metadata": {},
     "output_type": "display_data"
    },
    {
     "name": "stderr",
     "output_type": "stream",
     "text": [
      "\u001b[36m\u001b[1m[ \u001b[22m\u001b[39m\u001b[36m\u001b[1mInfo: \u001b[22m\u001b[39mCurrent Status of ECA\n"
     ]
    },
    {
     "data": {
      "text/html": [
       "<pre>\n",
       "Optimization Result\n",
       "===================\n",
       "  Iteration:       370\n",
       "  Minimum:         13325.9\n",
       "  Minimizer:       [189.757, 5.3001, 1570.53, …, 715.57]\n",
       "  Function calls:  15540\n",
       "  Total time:      11677.4570 s\n",
       "  Stop reason:     \n",
       "</pre>\n"
      ],
      "text/plain": [
       "\u001b[34m\u001b[1mOptimization Result\u001b[22m\u001b[39m\n",
       "\u001b[39m===================\u001b[39m\n",
       "  Iteration:       370\n",
       "  Minimum:         13325.9\n",
       "  Minimizer:       [189.757, 5.3001, 1570.53, …, 715.57]\n",
       "  Function calls:  15540\n",
       "  Total time:      11677.4570 s\n",
       "  Stop reason:     \n"
      ]
     },
     "metadata": {},
     "output_type": "display_data"
    },
    {
     "name": "stderr",
     "output_type": "stream",
     "text": [
      "\u001b[36m\u001b[1m[ \u001b[22m\u001b[39m\u001b[36m\u001b[1mInfo: \u001b[22m\u001b[39mCurrent Status of ECA\n"
     ]
    },
    {
     "data": {
      "text/html": [
       "<pre>\n",
       "Optimization Result\n",
       "===================\n",
       "  Iteration:       371\n",
       "  Minimum:         13325.9\n",
       "  Minimizer:       [189.817, 5.3008, 1570.31, …, 715.126]\n",
       "  Function calls:  15582\n",
       "  Total time:      11707.4350 s\n",
       "  Stop reason:     \n",
       "</pre>\n"
      ],
      "text/plain": [
       "\u001b[34m\u001b[1mOptimization Result\u001b[22m\u001b[39m\n",
       "\u001b[39m===================\u001b[39m\n",
       "  Iteration:       371\n",
       "  Minimum:         13325.9\n",
       "  Minimizer:       [189.817, 5.3008, 1570.31, …, 715.126]\n",
       "  Function calls:  15582\n",
       "  Total time:      11707.4350 s\n",
       "  Stop reason:     \n"
      ]
     },
     "metadata": {},
     "output_type": "display_data"
    },
    {
     "name": "stderr",
     "output_type": "stream",
     "text": [
      "\u001b[36m\u001b[1m[ \u001b[22m\u001b[39m\u001b[36m\u001b[1mInfo: \u001b[22m\u001b[39mCurrent Status of ECA\n"
     ]
    },
    {
     "data": {
      "text/html": [
       "<pre>\n",
       "Optimization Result\n",
       "===================\n",
       "  Iteration:       372\n",
       "  Minimum:         13325.9\n",
       "  Minimizer:       [189.759, 5.29963, 1570.13, …, 714.706]\n",
       "  Function calls:  15624\n",
       "  Total time:      11737.5920 s\n",
       "  Stop reason:     \n",
       "</pre>\n"
      ],
      "text/plain": [
       "\u001b[34m\u001b[1mOptimization Result\u001b[22m\u001b[39m\n",
       "\u001b[39m===================\u001b[39m\n",
       "  Iteration:       372\n",
       "  Minimum:         13325.9\n",
       "  Minimizer:       [189.759, 5.29963, 1570.13, …, 714.706]\n",
       "  Function calls:  15624\n",
       "  Total time:      11737.5920 s\n",
       "  Stop reason:     \n"
      ]
     },
     "metadata": {},
     "output_type": "display_data"
    },
    {
     "name": "stderr",
     "output_type": "stream",
     "text": [
      "\u001b[36m\u001b[1m[ \u001b[22m\u001b[39m\u001b[36m\u001b[1mInfo: \u001b[22m\u001b[39mCurrent Status of ECA\n"
     ]
    },
    {
     "data": {
      "text/html": [
       "<pre>\n",
       "Optimization Result\n",
       "===================\n",
       "  Iteration:       373\n",
       "  Minimum:         13325.9\n",
       "  Minimizer:       [189.759, 5.29963, 1570.13, …, 714.706]\n",
       "  Function calls:  15666\n",
       "  Total time:      11770.3300 s\n",
       "  Stop reason:     \n",
       "</pre>\n"
      ],
      "text/plain": [
       "\u001b[34m\u001b[1mOptimization Result\u001b[22m\u001b[39m\n",
       "\u001b[39m===================\u001b[39m\n",
       "  Iteration:       373\n",
       "  Minimum:         13325.9\n",
       "  Minimizer:       [189.759, 5.29963, 1570.13, …, 714.706]\n",
       "  Function calls:  15666\n",
       "  Total time:      11770.3300 s\n",
       "  Stop reason:     \n"
      ]
     },
     "metadata": {},
     "output_type": "display_data"
    },
    {
     "name": "stderr",
     "output_type": "stream",
     "text": [
      "\u001b[36m\u001b[1m[ \u001b[22m\u001b[39m\u001b[36m\u001b[1mInfo: \u001b[22m\u001b[39mCurrent Status of ECA\n"
     ]
    },
    {
     "data": {
      "text/html": [
       "<pre>\n",
       "Optimization Result\n",
       "===================\n",
       "  Iteration:       374\n",
       "  Minimum:         13325.9\n",
       "  Minimizer:       [189.759, 5.29963, 1570.13, …, 714.706]\n",
       "  Function calls:  15708\n",
       "  Total time:      11800.4030 s\n",
       "  Stop reason:     \n",
       "</pre>\n"
      ],
      "text/plain": [
       "\u001b[34m\u001b[1mOptimization Result\u001b[22m\u001b[39m\n",
       "\u001b[39m===================\u001b[39m\n",
       "  Iteration:       374\n",
       "  Minimum:         13325.9\n",
       "  Minimizer:       [189.759, 5.29963, 1570.13, …, 714.706]\n",
       "  Function calls:  15708\n",
       "  Total time:      11800.4030 s\n",
       "  Stop reason:     \n"
      ]
     },
     "metadata": {},
     "output_type": "display_data"
    },
    {
     "name": "stderr",
     "output_type": "stream",
     "text": [
      "\u001b[36m\u001b[1m[ \u001b[22m\u001b[39m\u001b[36m\u001b[1mInfo: \u001b[22m\u001b[39mCurrent Status of ECA\n"
     ]
    },
    {
     "data": {
      "text/html": [
       "<pre>\n",
       "Optimization Result\n",
       "===================\n",
       "  Iteration:       375\n",
       "  Minimum:         13325.9\n",
       "  Minimizer:       [189.759, 5.29963, 1570.13, …, 714.706]\n",
       "  Function calls:  15750\n",
       "  Total time:      11830.1710 s\n",
       "  Stop reason:     \n",
       "</pre>\n"
      ],
      "text/plain": [
       "\u001b[34m\u001b[1mOptimization Result\u001b[22m\u001b[39m\n",
       "\u001b[39m===================\u001b[39m\n",
       "  Iteration:       375\n",
       "  Minimum:         13325.9\n",
       "  Minimizer:       [189.759, 5.29963, 1570.13, …, 714.706]\n",
       "  Function calls:  15750\n",
       "  Total time:      11830.1710 s\n",
       "  Stop reason:     \n"
      ]
     },
     "metadata": {},
     "output_type": "display_data"
    },
    {
     "name": "stderr",
     "output_type": "stream",
     "text": [
      "\u001b[36m\u001b[1m[ \u001b[22m\u001b[39m\u001b[36m\u001b[1mInfo: \u001b[22m\u001b[39mCurrent Status of ECA\n"
     ]
    },
    {
     "data": {
      "text/html": [
       "<pre>\n",
       "Optimization Result\n",
       "===================\n",
       "  Iteration:       376\n",
       "  Minimum:         13325.9\n",
       "  Minimizer:       [189.689, 5.2991, 1570.11, …, 716.316]\n",
       "  Function calls:  15792\n",
       "  Total time:      11859.7470 s\n",
       "  Stop reason:     \n",
       "</pre>\n"
      ],
      "text/plain": [
       "\u001b[34m\u001b[1mOptimization Result\u001b[22m\u001b[39m\n",
       "\u001b[39m===================\u001b[39m\n",
       "  Iteration:       376\n",
       "  Minimum:         13325.9\n",
       "  Minimizer:       [189.689, 5.2991, 1570.11, …, 716.316]\n",
       "  Function calls:  15792\n",
       "  Total time:      11859.7470 s\n",
       "  Stop reason:     \n"
      ]
     },
     "metadata": {},
     "output_type": "display_data"
    },
    {
     "name": "stderr",
     "output_type": "stream",
     "text": [
      "\u001b[36m\u001b[1m[ \u001b[22m\u001b[39m\u001b[36m\u001b[1mInfo: \u001b[22m\u001b[39mCurrent Status of ECA\n"
     ]
    },
    {
     "data": {
      "text/html": [
       "<pre>\n",
       "Optimization Result\n",
       "===================\n",
       "  Iteration:       377\n",
       "  Minimum:         13325.9\n",
       "  Minimizer:       [189.661, 5.29814, 1570.06, …, 715.038]\n",
       "  Function calls:  15834\n",
       "  Total time:      11889.3800 s\n",
       "  Stop reason:     \n",
       "</pre>\n"
      ],
      "text/plain": [
       "\u001b[34m\u001b[1mOptimization Result\u001b[22m\u001b[39m\n",
       "\u001b[39m===================\u001b[39m\n",
       "  Iteration:       377\n",
       "  Minimum:         13325.9\n",
       "  Minimizer:       [189.661, 5.29814, 1570.06, …, 715.038]\n",
       "  Function calls:  15834\n",
       "  Total time:      11889.3800 s\n",
       "  Stop reason:     \n"
      ]
     },
     "metadata": {},
     "output_type": "display_data"
    },
    {
     "name": "stderr",
     "output_type": "stream",
     "text": [
      "\u001b[36m\u001b[1m[ \u001b[22m\u001b[39m\u001b[36m\u001b[1mInfo: \u001b[22m\u001b[39mCurrent Status of ECA\n"
     ]
    },
    {
     "data": {
      "text/html": [
       "<pre>\n",
       "Optimization Result\n",
       "===================\n",
       "  Iteration:       378\n",
       "  Minimum:         13325.9\n",
       "  Minimizer:       [189.728, 5.2989, 1569.71, …, 714.524]\n",
       "  Function calls:  15876\n",
       "  Total time:      11919.3040 s\n",
       "  Stop reason:     \n",
       "</pre>\n"
      ],
      "text/plain": [
       "\u001b[34m\u001b[1mOptimization Result\u001b[22m\u001b[39m\n",
       "\u001b[39m===================\u001b[39m\n",
       "  Iteration:       378\n",
       "  Minimum:         13325.9\n",
       "  Minimizer:       [189.728, 5.2989, 1569.71, …, 714.524]\n",
       "  Function calls:  15876\n",
       "  Total time:      11919.3040 s\n",
       "  Stop reason:     \n"
      ]
     },
     "metadata": {},
     "output_type": "display_data"
    },
    {
     "name": "stderr",
     "output_type": "stream",
     "text": [
      "\u001b[36m\u001b[1m[ \u001b[22m\u001b[39m\u001b[36m\u001b[1mInfo: \u001b[22m\u001b[39mCurrent Status of ECA\n"
     ]
    },
    {
     "data": {
      "text/html": [
       "<pre>\n",
       "Optimization Result\n",
       "===================\n",
       "  Iteration:       379\n",
       "  Minimum:         13325.9\n",
       "  Minimizer:       [189.728, 5.2989, 1569.71, …, 714.524]\n",
       "  Function calls:  15918\n",
       "  Total time:      11951.4270 s\n",
       "  Stop reason:     \n",
       "</pre>\n"
      ],
      "text/plain": [
       "\u001b[34m\u001b[1mOptimization Result\u001b[22m\u001b[39m\n",
       "\u001b[39m===================\u001b[39m\n",
       "  Iteration:       379\n",
       "  Minimum:         13325.9\n",
       "  Minimizer:       [189.728, 5.2989, 1569.71, …, 714.524]\n",
       "  Function calls:  15918\n",
       "  Total time:      11951.4270 s\n",
       "  Stop reason:     \n"
      ]
     },
     "metadata": {},
     "output_type": "display_data"
    },
    {
     "name": "stderr",
     "output_type": "stream",
     "text": [
      "\u001b[36m\u001b[1m[ \u001b[22m\u001b[39m\u001b[36m\u001b[1mInfo: \u001b[22m\u001b[39mCurrent Status of ECA\n"
     ]
    },
    {
     "data": {
      "text/html": [
       "<pre>\n",
       "Optimization Result\n",
       "===================\n",
       "  Iteration:       380\n",
       "  Minimum:         13325.9\n",
       "  Minimizer:       [189.733, 5.29838, 1569.6, …, 713.063]\n",
       "  Function calls:  15960\n",
       "  Total time:      11981.4680 s\n",
       "  Stop reason:     \n",
       "</pre>\n"
      ],
      "text/plain": [
       "\u001b[34m\u001b[1mOptimization Result\u001b[22m\u001b[39m\n",
       "\u001b[39m===================\u001b[39m\n",
       "  Iteration:       380\n",
       "  Minimum:         13325.9\n",
       "  Minimizer:       [189.733, 5.29838, 1569.6, …, 713.063]\n",
       "  Function calls:  15960\n",
       "  Total time:      11981.4680 s\n",
       "  Stop reason:     \n"
      ]
     },
     "metadata": {},
     "output_type": "display_data"
    },
    {
     "name": "stderr",
     "output_type": "stream",
     "text": [
      "\u001b[36m\u001b[1m[ \u001b[22m\u001b[39m\u001b[36m\u001b[1mInfo: \u001b[22m\u001b[39mCurrent Status of ECA\n"
     ]
    },
    {
     "data": {
      "text/html": [
       "<pre>\n",
       "Optimization Result\n",
       "===================\n",
       "  Iteration:       381\n",
       "  Minimum:         13325.9\n",
       "  Minimizer:       [189.681, 5.29741, 1569.74, …, 712.528]\n",
       "  Function calls:  16002\n",
       "  Total time:      12011.5450 s\n",
       "  Stop reason:     \n",
       "</pre>\n"
      ],
      "text/plain": [
       "\u001b[34m\u001b[1mOptimization Result\u001b[22m\u001b[39m\n",
       "\u001b[39m===================\u001b[39m\n",
       "  Iteration:       381\n",
       "  Minimum:         13325.9\n",
       "  Minimizer:       [189.681, 5.29741, 1569.74, …, 712.528]\n",
       "  Function calls:  16002\n",
       "  Total time:      12011.5450 s\n",
       "  Stop reason:     \n"
      ]
     },
     "metadata": {},
     "output_type": "display_data"
    },
    {
     "name": "stderr",
     "output_type": "stream",
     "text": [
      "\u001b[36m\u001b[1m[ \u001b[22m\u001b[39m\u001b[36m\u001b[1mInfo: \u001b[22m\u001b[39mCurrent Status of ECA\n"
     ]
    },
    {
     "data": {
      "text/html": [
       "<pre>\n",
       "Optimization Result\n",
       "===================\n",
       "  Iteration:       382\n",
       "  Minimum:         13325.9\n",
       "  Minimizer:       [189.59, 5.29679, 1570.34, …, 714.159]\n",
       "  Function calls:  16044\n",
       "  Total time:      12041.6680 s\n",
       "  Stop reason:     \n",
       "</pre>\n"
      ],
      "text/plain": [
       "\u001b[34m\u001b[1mOptimization Result\u001b[22m\u001b[39m\n",
       "\u001b[39m===================\u001b[39m\n",
       "  Iteration:       382\n",
       "  Minimum:         13325.9\n",
       "  Minimizer:       [189.59, 5.29679, 1570.34, …, 714.159]\n",
       "  Function calls:  16044\n",
       "  Total time:      12041.6680 s\n",
       "  Stop reason:     \n"
      ]
     },
     "metadata": {},
     "output_type": "display_data"
    },
    {
     "name": "stderr",
     "output_type": "stream",
     "text": [
      "\u001b[36m\u001b[1m[ \u001b[22m\u001b[39m\u001b[36m\u001b[1mInfo: \u001b[22m\u001b[39mCurrent Status of ECA\n"
     ]
    },
    {
     "data": {
      "text/html": [
       "<pre>\n",
       "Optimization Result\n",
       "===================\n",
       "  Iteration:       383\n",
       "  Minimum:         13325.9\n",
       "  Minimizer:       [189.62, 5.2969, 1570.26, …, 713.28]\n",
       "  Function calls:  16086\n",
       "  Total time:      12072.2690 s\n",
       "  Stop reason:     \n",
       "</pre>\n"
      ],
      "text/plain": [
       "\u001b[34m\u001b[1mOptimization Result\u001b[22m\u001b[39m\n",
       "\u001b[39m===================\u001b[39m\n",
       "  Iteration:       383\n",
       "  Minimum:         13325.9\n",
       "  Minimizer:       [189.62, 5.2969, 1570.26, …, 713.28]\n",
       "  Function calls:  16086\n",
       "  Total time:      12072.2690 s\n",
       "  Stop reason:     \n"
      ]
     },
     "metadata": {},
     "output_type": "display_data"
    },
    {
     "name": "stderr",
     "output_type": "stream",
     "text": [
      "\u001b[36m\u001b[1m[ \u001b[22m\u001b[39m\u001b[36m\u001b[1mInfo: \u001b[22m\u001b[39mCurrent Status of ECA\n"
     ]
    },
    {
     "data": {
      "text/html": [
       "<pre>\n",
       "Optimization Result\n",
       "===================\n",
       "  Iteration:       384\n",
       "  Minimum:         13325.9\n",
       "  Minimizer:       [189.668, 5.29709, 1570.48, …, 711.44]\n",
       "  Function calls:  16128\n",
       "  Total time:      12102.0170 s\n",
       "  Stop reason:     \n",
       "</pre>\n"
      ],
      "text/plain": [
       "\u001b[34m\u001b[1mOptimization Result\u001b[22m\u001b[39m\n",
       "\u001b[39m===================\u001b[39m\n",
       "  Iteration:       384\n",
       "  Minimum:         13325.9\n",
       "  Minimizer:       [189.668, 5.29709, 1570.48, …, 711.44]\n",
       "  Function calls:  16128\n",
       "  Total time:      12102.0170 s\n",
       "  Stop reason:     \n"
      ]
     },
     "metadata": {},
     "output_type": "display_data"
    },
    {
     "name": "stderr",
     "output_type": "stream",
     "text": [
      "\u001b[36m\u001b[1m[ \u001b[22m\u001b[39m\u001b[36m\u001b[1mInfo: \u001b[22m\u001b[39mCurrent Status of ECA\n"
     ]
    },
    {
     "data": {
      "text/html": [
       "<pre>\n",
       "Optimization Result\n",
       "===================\n",
       "  Iteration:       385\n",
       "  Minimum:         13325.9\n",
       "  Minimizer:       [189.647, 5.29684, 1569.64, …, 712.605]\n",
       "  Function calls:  16170\n",
       "  Total time:      12133.9220 s\n",
       "  Stop reason:     \n",
       "</pre>\n"
      ],
      "text/plain": [
       "\u001b[34m\u001b[1mOptimization Result\u001b[22m\u001b[39m\n",
       "\u001b[39m===================\u001b[39m\n",
       "  Iteration:       385\n",
       "  Minimum:         13325.9\n",
       "  Minimizer:       [189.647, 5.29684, 1569.64, …, 712.605]\n",
       "  Function calls:  16170\n",
       "  Total time:      12133.9220 s\n",
       "  Stop reason:     \n"
      ]
     },
     "metadata": {},
     "output_type": "display_data"
    },
    {
     "name": "stderr",
     "output_type": "stream",
     "text": [
      "\u001b[36m\u001b[1m[ \u001b[22m\u001b[39m\u001b[36m\u001b[1mInfo: \u001b[22m\u001b[39mCurrent Status of ECA\n"
     ]
    },
    {
     "data": {
      "text/html": [
       "<pre>\n",
       "Optimization Result\n",
       "===================\n",
       "  Iteration:       386\n",
       "  Minimum:         13325.9\n",
       "  Minimizer:       [189.6, 5.29618, 1570.24, …, 712.234]\n",
       "  Function calls:  16212\n",
       "  Total time:      12164.3790 s\n",
       "  Stop reason:     \n",
       "</pre>\n"
      ],
      "text/plain": [
       "\u001b[34m\u001b[1mOptimization Result\u001b[22m\u001b[39m\n",
       "\u001b[39m===================\u001b[39m\n",
       "  Iteration:       386\n",
       "  Minimum:         13325.9\n",
       "  Minimizer:       [189.6, 5.29618, 1570.24, …, 712.234]\n",
       "  Function calls:  16212\n",
       "  Total time:      12164.3790 s\n",
       "  Stop reason:     \n"
      ]
     },
     "metadata": {},
     "output_type": "display_data"
    },
    {
     "name": "stderr",
     "output_type": "stream",
     "text": [
      "\u001b[36m\u001b[1m[ \u001b[22m\u001b[39m\u001b[36m\u001b[1mInfo: \u001b[22m\u001b[39mCurrent Status of ECA\n"
     ]
    },
    {
     "data": {
      "text/html": [
       "<pre>\n",
       "Optimization Result\n",
       "===================\n",
       "  Iteration:       387\n",
       "  Minimum:         13325.9\n",
       "  Minimizer:       [189.434, 5.29424, 1570.45, …, 713.98]\n",
       "  Function calls:  16254\n",
       "  Total time:      12194.5820 s\n",
       "  Stop reason:     \n",
       "</pre>\n"
      ],
      "text/plain": [
       "\u001b[34m\u001b[1mOptimization Result\u001b[22m\u001b[39m\n",
       "\u001b[39m===================\u001b[39m\n",
       "  Iteration:       387\n",
       "  Minimum:         13325.9\n",
       "  Minimizer:       [189.434, 5.29424, 1570.45, …, 713.98]\n",
       "  Function calls:  16254\n",
       "  Total time:      12194.5820 s\n",
       "  Stop reason:     \n"
      ]
     },
     "metadata": {},
     "output_type": "display_data"
    },
    {
     "data": {
      "text/html": [
       "<pre>\n",
       "Optimization Result\n",
       "===================\n",
       "  Iteration:       388\n",
       "  Minimum:         13325.9\n",
       "  Minimizer:       [189.434, 5.29424, 1570.45, …, 713.98]\n",
       "  Function calls:  16296\n",
       "  Total time:      12224.5460 s\n",
       "  Stop reason:     \n",
       "</pre>\n"
      ],
      "text/plain": [
       "\u001b[34m\u001b[1mOptimization Result\u001b[22m\u001b[39m\n",
       "\u001b[39m===================\u001b[39m\n",
       "  Iteration:       388\n",
       "  Minimum:         13325.9\n",
       "  Minimizer:       [189.434, 5.29424, 1570.45, …, 713.98]\n",
       "  Function calls:  16296\n",
       "  Total time:      12224.5460 s\n",
       "  Stop reason:     \n"
      ]
     },
     "metadata": {},
     "output_type": "display_data"
    },
    {
     "name": "stderr",
     "output_type": "stream",
     "text": [
      "\u001b[36m\u001b[1m[ \u001b[22m\u001b[39m\u001b[36m\u001b[1mInfo: \u001b[22m\u001b[39mCurrent Status of ECA\n",
      "\u001b[36m\u001b[1m[ \u001b[22m\u001b[39m\u001b[36m\u001b[1mInfo: \u001b[22m\u001b[39mCurrent Status of ECA\n"
     ]
    },
    {
     "data": {
      "text/html": [
       "<pre>\n",
       "Optimization Result\n",
       "===================\n",
       "  Iteration:       389\n",
       "  Minimum:         13325.9\n",
       "  Minimizer:       [189.554, 5.2955, 1569.99, …, 712.681]\n",
       "  Function calls:  16338\n",
       "  Total time:      12254.4910 s\n",
       "  Stop reason:     \n",
       "</pre>\n"
      ],
      "text/plain": [
       "\u001b[34m\u001b[1mOptimization Result\u001b[22m\u001b[39m\n",
       "\u001b[39m===================\u001b[39m\n",
       "  Iteration:       389\n",
       "  Minimum:         13325.9\n",
       "  Minimizer:       [189.554, 5.2955, 1569.99, …, 712.681]\n",
       "  Function calls:  16338\n",
       "  Total time:      12254.4910 s\n",
       "  Stop reason:     \n"
      ]
     },
     "metadata": {},
     "output_type": "display_data"
    },
    {
     "name": "stderr",
     "output_type": "stream",
     "text": [
      "\u001b[36m\u001b[1m[ \u001b[22m\u001b[39m\u001b[36m\u001b[1mInfo: \u001b[22m\u001b[39mCurrent Status of ECA\n"
     ]
    },
    {
     "data": {
      "text/html": [
       "<pre>\n",
       "Optimization Result\n",
       "===================\n",
       "  Iteration:       390\n",
       "  Minimum:         13325.9\n",
       "  Minimizer:       [189.427, 5.29353, 1569.99, …, 712.887]\n",
       "  Function calls:  16380\n",
       "  Total time:      12284.5110 s\n",
       "  Stop reason:     \n",
       "</pre>\n"
      ],
      "text/plain": [
       "\u001b[34m\u001b[1mOptimization Result\u001b[22m\u001b[39m\n",
       "\u001b[39m===================\u001b[39m\n",
       "  Iteration:       390\n",
       "  Minimum:         13325.9\n",
       "  Minimizer:       [189.427, 5.29353, 1569.99, …, 712.887]\n",
       "  Function calls:  16380\n",
       "  Total time:      12284.5110 s\n",
       "  Stop reason:     \n"
      ]
     },
     "metadata": {},
     "output_type": "display_data"
    },
    {
     "name": "stderr",
     "output_type": "stream",
     "text": [
      "\u001b[36m\u001b[1m[ \u001b[22m\u001b[39m\u001b[36m\u001b[1mInfo: \u001b[22m\u001b[39mCurrent Status of ECA\n"
     ]
    },
    {
     "data": {
      "text/html": [
       "<pre>\n",
       "Optimization Result\n",
       "===================\n",
       "  Iteration:       391\n",
       "  Minimum:         13325.9\n",
       "  Minimizer:       [189.427, 5.29353, 1569.99, …, 712.887]\n",
       "  Function calls:  16422\n",
       "  Total time:      12316.3360 s\n",
       "  Stop reason:     \n",
       "</pre>\n"
      ],
      "text/plain": [
       "\u001b[34m\u001b[1mOptimization Result\u001b[22m\u001b[39m\n",
       "\u001b[39m===================\u001b[39m\n",
       "  Iteration:       391\n",
       "  Minimum:         13325.9\n",
       "  Minimizer:       [189.427, 5.29353, 1569.99, …, 712.887]\n",
       "  Function calls:  16422\n",
       "  Total time:      12316.3360 s\n",
       "  Stop reason:     \n"
      ]
     },
     "metadata": {},
     "output_type": "display_data"
    },
    {
     "name": "stderr",
     "output_type": "stream",
     "text": [
      "\u001b[36m\u001b[1m[ \u001b[22m\u001b[39m\u001b[36m\u001b[1mInfo: \u001b[22m\u001b[39mCurrent Status of ECA\n"
     ]
    },
    {
     "data": {
      "text/html": [
       "<pre>\n",
       "Optimization Result\n",
       "===================\n",
       "  Iteration:       392\n",
       "  Minimum:         13325.9\n",
       "  Minimizer:       [189.427, 5.29353, 1569.99, …, 712.887]\n",
       "  Function calls:  16464\n",
       "  Total time:      12346.3590 s\n",
       "  Stop reason:     \n",
       "</pre>\n"
      ],
      "text/plain": [
       "\u001b[34m\u001b[1mOptimization Result\u001b[22m\u001b[39m\n",
       "\u001b[39m===================\u001b[39m\n",
       "  Iteration:       392\n",
       "  Minimum:         13325.9\n",
       "  Minimizer:       [189.427, 5.29353, 1569.99, …, 712.887]\n",
       "  Function calls:  16464\n",
       "  Total time:      12346.3590 s\n",
       "  Stop reason:     \n"
      ]
     },
     "metadata": {},
     "output_type": "display_data"
    },
    {
     "name": "stderr",
     "output_type": "stream",
     "text": [
      "\u001b[36m\u001b[1m[ \u001b[22m\u001b[39m\u001b[36m\u001b[1mInfo: \u001b[22m\u001b[39mCurrent Status of ECA\n"
     ]
    },
    {
     "data": {
      "text/html": [
       "<pre>\n",
       "Optimization Result\n",
       "===================\n",
       "  Iteration:       393\n",
       "  Minimum:         13325.9\n",
       "  Minimizer:       [189.427, 5.29353, 1569.99, …, 712.887]\n",
       "  Function calls:  16506\n",
       "  Total time:      12376.3020 s\n",
       "  Stop reason:     \n",
       "</pre>\n"
      ],
      "text/plain": [
       "\u001b[34m\u001b[1mOptimization Result\u001b[22m\u001b[39m\n",
       "\u001b[39m===================\u001b[39m\n",
       "  Iteration:       393\n",
       "  Minimum:         13325.9\n",
       "  Minimizer:       [189.427, 5.29353, 1569.99, …, 712.887]\n",
       "  Function calls:  16506\n",
       "  Total time:      12376.3020 s\n",
       "  Stop reason:     \n"
      ]
     },
     "metadata": {},
     "output_type": "display_data"
    },
    {
     "name": "stderr",
     "output_type": "stream",
     "text": [
      "\u001b[36m\u001b[1m[ \u001b[22m\u001b[39m\u001b[36m\u001b[1mInfo: \u001b[22m\u001b[39mCurrent Status of ECA\n"
     ]
    },
    {
     "data": {
      "text/html": [
       "<pre>\n",
       "Optimization Result\n",
       "===================\n",
       "  Iteration:       394\n",
       "  Minimum:         13325.9\n",
       "  Minimizer:       [189.387, 5.29308, 1570.06, …, 713.347]\n",
       "  Function calls:  16548\n",
       "  Total time:      12405.9100 s\n",
       "  Stop reason:     \n",
       "</pre>\n"
      ],
      "text/plain": [
       "\u001b[34m\u001b[1mOptimization Result\u001b[22m\u001b[39m\n",
       "\u001b[39m===================\u001b[39m\n",
       "  Iteration:       394\n",
       "  Minimum:         13325.9\n",
       "  Minimizer:       [189.387, 5.29308, 1570.06, …, 713.347]\n",
       "  Function calls:  16548\n",
       "  Total time:      12405.9100 s\n",
       "  Stop reason:     \n"
      ]
     },
     "metadata": {},
     "output_type": "display_data"
    },
    {
     "name": "stderr",
     "output_type": "stream",
     "text": [
      "\u001b[36m\u001b[1m[ \u001b[22m\u001b[39m\u001b[36m\u001b[1mInfo: \u001b[22m\u001b[39mCurrent Status of ECA\n"
     ]
    },
    {
     "data": {
      "text/html": [
       "<pre>\n",
       "Optimization Result\n",
       "===================\n",
       "  Iteration:       395\n",
       "  Minimum:         13325.9\n",
       "  Minimizer:       [189.425, 5.29349, 1569.57, …, 713.351]\n",
       "  Function calls:  16590\n",
       "  Total time:      12435.6660 s\n",
       "  Stop reason:     \n",
       "</pre>\n"
      ],
      "text/plain": [
       "\u001b[34m\u001b[1mOptimization Result\u001b[22m\u001b[39m\n",
       "\u001b[39m===================\u001b[39m\n",
       "  Iteration:       395\n",
       "  Minimum:         13325.9\n",
       "  Minimizer:       [189.425, 5.29349, 1569.57, …, 713.351]\n",
       "  Function calls:  16590\n",
       "  Total time:      12435.6660 s\n",
       "  Stop reason:     \n"
      ]
     },
     "metadata": {},
     "output_type": "display_data"
    },
    {
     "name": "stderr",
     "output_type": "stream",
     "text": [
      "\u001b[36m\u001b[1m[ \u001b[22m\u001b[39m\u001b[36m\u001b[1mInfo: \u001b[22m\u001b[39mCurrent Status of ECA\n"
     ]
    },
    {
     "data": {
      "text/html": [
       "<pre>\n",
       "Optimization Result\n",
       "===================\n",
       "  Iteration:       396\n",
       "  Minimum:         13325.9\n",
       "  Minimizer:       [189.379, 5.29305, 1569.98, …, 713.715]\n",
       "  Function calls:  16632\n",
       "  Total time:      12465.5430 s\n",
       "  Stop reason:     \n",
       "</pre>\n"
      ],
      "text/plain": [
       "\u001b[34m\u001b[1mOptimization Result\u001b[22m\u001b[39m\n",
       "\u001b[39m===================\u001b[39m\n",
       "  Iteration:       396\n",
       "  Minimum:         13325.9\n",
       "  Minimizer:       [189.379, 5.29305, 1569.98, …, 713.715]\n",
       "  Function calls:  16632\n",
       "  Total time:      12465.5430 s\n",
       "  Stop reason:     \n"
      ]
     },
     "metadata": {},
     "output_type": "display_data"
    },
    {
     "name": "stderr",
     "output_type": "stream",
     "text": [
      "\u001b[36m\u001b[1m[ \u001b[22m\u001b[39m\u001b[36m\u001b[1mInfo: \u001b[22m\u001b[39mCurrent Status of ECA\n"
     ]
    },
    {
     "data": {
      "text/html": [
       "<pre>\n",
       "Optimization Result\n",
       "===================\n",
       "  Iteration:       397\n",
       "  Minimum:         13325.9\n",
       "  Minimizer:       [189.379, 5.29305, 1569.98, …, 713.715]\n",
       "  Function calls:  16674\n",
       "  Total time:      12501.5450 s\n",
       "  Stop reason:     \n",
       "</pre>\n"
      ],
      "text/plain": [
       "\u001b[34m\u001b[1mOptimization Result\u001b[22m\u001b[39m\n",
       "\u001b[39m===================\u001b[39m\n",
       "  Iteration:       397\n",
       "  Minimum:         13325.9\n",
       "  Minimizer:       [189.379, 5.29305, 1569.98, …, 713.715]\n",
       "  Function calls:  16674\n",
       "  Total time:      12501.5450 s\n",
       "  Stop reason:     \n"
      ]
     },
     "metadata": {},
     "output_type": "display_data"
    },
    {
     "name": "stderr",
     "output_type": "stream",
     "text": [
      "\u001b[36m\u001b[1m[ \u001b[22m\u001b[39m\u001b[36m\u001b[1mInfo: \u001b[22m\u001b[39mCurrent Status of ECA\n"
     ]
    },
    {
     "data": {
      "text/html": [
       "<pre>\n",
       "Optimization Result\n",
       "===================\n",
       "  Iteration:       398\n",
       "  Minimum:         13325.9\n",
       "  Minimizer:       [189.363, 5.29289, 1570.08, …, 713.868]\n",
       "  Function calls:  16716\n",
       "  Total time:      12531.2730 s\n",
       "  Stop reason:     \n",
       "</pre>\n"
      ],
      "text/plain": [
       "\u001b[34m\u001b[1mOptimization Result\u001b[22m\u001b[39m\n",
       "\u001b[39m===================\u001b[39m\n",
       "  Iteration:       398\n",
       "  Minimum:         13325.9\n",
       "  Minimizer:       [189.363, 5.29289, 1570.08, …, 713.868]\n",
       "  Function calls:  16716\n",
       "  Total time:      12531.2730 s\n",
       "  Stop reason:     \n"
      ]
     },
     "metadata": {},
     "output_type": "display_data"
    },
    {
     "name": "stderr",
     "output_type": "stream",
     "text": [
      "\u001b[36m\u001b[1m[ \u001b[22m\u001b[39m\u001b[36m\u001b[1mInfo: \u001b[22m\u001b[39mCurrent Status of ECA\n"
     ]
    },
    {
     "data": {
      "text/html": [
       "<pre>\n",
       "Optimization Result\n",
       "===================\n",
       "  Iteration:       399\n",
       "  Minimum:         13325.9\n",
       "  Minimizer:       [189.363, 5.29289, 1570.08, …, 713.868]\n",
       "  Function calls:  16758\n",
       "  Total time:      12561.1640 s\n",
       "  Stop reason:     \n",
       "</pre>\n"
      ],
      "text/plain": [
       "\u001b[34m\u001b[1mOptimization Result\u001b[22m\u001b[39m\n",
       "\u001b[39m===================\u001b[39m\n",
       "  Iteration:       399\n",
       "  Minimum:         13325.9\n",
       "  Minimizer:       [189.363, 5.29289, 1570.08, …, 713.868]\n",
       "  Function calls:  16758\n",
       "  Total time:      12561.1640 s\n",
       "  Stop reason:     \n"
      ]
     },
     "metadata": {},
     "output_type": "display_data"
    },
    {
     "name": "stderr",
     "output_type": "stream",
     "text": [
      "\u001b[36m\u001b[1m[ \u001b[22m\u001b[39m\u001b[36m\u001b[1mInfo: \u001b[22m\u001b[39mCurrent Status of ECA\n"
     ]
    },
    {
     "data": {
      "text/html": [
       "<pre>\n",
       "Optimization Result\n",
       "===================\n",
       "  Iteration:       400\n",
       "  Minimum:         13325.9\n",
       "  Minimizer:       [189.412, 5.29257, 1569.78, …, 711.216]\n",
       "  Function calls:  16800\n",
       "  Total time:      12591.1090 s\n",
       "  Stop reason:     \n",
       "</pre>\n"
      ],
      "text/plain": [
       "\u001b[34m\u001b[1mOptimization Result\u001b[22m\u001b[39m\n",
       "\u001b[39m===================\u001b[39m\n",
       "  Iteration:       400\n",
       "  Minimum:         13325.9\n",
       "  Minimizer:       [189.412, 5.29257, 1569.78, …, 711.216]\n",
       "  Function calls:  16800\n",
       "  Total time:      12591.1090 s\n",
       "  Stop reason:     \n"
      ]
     },
     "metadata": {},
     "output_type": "display_data"
    },
    {
     "name": "stderr",
     "output_type": "stream",
     "text": [
      "\u001b[36m\u001b[1m[ \u001b[22m\u001b[39m\u001b[36m\u001b[1mInfo: \u001b[22m\u001b[39mCurrent Status of ECA\n"
     ]
    },
    {
     "data": {
      "text/html": [
       "<pre>\n",
       "Optimization Result\n",
       "===================\n",
       "  Iteration:       401\n",
       "  Minimum:         13325.9\n",
       "  Minimizer:       [189.266, 5.29143, 1569.75, …, 714.554]\n",
       "  Function calls:  16842\n",
       "  Total time:      12621.2020 s\n",
       "  Stop reason:     \n",
       "</pre>\n"
      ],
      "text/plain": [
       "\u001b[34m\u001b[1mOptimization Result\u001b[22m\u001b[39m\n",
       "\u001b[39m===================\u001b[39m\n",
       "  Iteration:       401\n",
       "  Minimum:         13325.9\n",
       "  Minimizer:       [189.266, 5.29143, 1569.75, …, 714.554]\n",
       "  Function calls:  16842\n",
       "  Total time:      12621.2020 s\n",
       "  Stop reason:     \n"
      ]
     },
     "metadata": {},
     "output_type": "display_data"
    },
    {
     "name": "stderr",
     "output_type": "stream",
     "text": [
      "\u001b[36m\u001b[1m[ \u001b[22m\u001b[39m\u001b[36m\u001b[1mInfo: \u001b[22m\u001b[39mCurrent Status of ECA\n"
     ]
    },
    {
     "data": {
      "text/html": [
       "<pre>\n",
       "Optimization Result\n",
       "===================\n",
       "  Iteration:       402\n",
       "  Minimum:         13325.9\n",
       "  Minimizer:       [189.345, 5.29193, 1569.6, …, 712.61]\n",
       "  Function calls:  16884\n",
       "  Total time:      12651.4500 s\n",
       "  Stop reason:     \n",
       "</pre>\n"
      ],
      "text/plain": [
       "\u001b[34m\u001b[1mOptimization Result\u001b[22m\u001b[39m\n",
       "\u001b[39m===================\u001b[39m\n",
       "  Iteration:       402\n",
       "  Minimum:         13325.9\n",
       "  Minimizer:       [189.345, 5.29193, 1569.6, …, 712.61]\n",
       "  Function calls:  16884\n",
       "  Total time:      12651.4500 s\n",
       "  Stop reason:     \n"
      ]
     },
     "metadata": {},
     "output_type": "display_data"
    },
    {
     "name": "stderr",
     "output_type": "stream",
     "text": [
      "\u001b[36m\u001b[1m[ \u001b[22m\u001b[39m\u001b[36m\u001b[1mInfo: \u001b[22m\u001b[39mCurrent Status of ECA\n"
     ]
    },
    {
     "data": {
      "text/html": [
       "<pre>\n",
       "Optimization Result\n",
       "===================\n",
       "  Iteration:       403\n",
       "  Minimum:         13325.9\n",
       "  Minimizer:       [189.345, 5.29193, 1569.6, …, 712.61]\n",
       "  Function calls:  16926\n",
       "  Total time:      12683.0740 s\n",
       "  Stop reason:     \n",
       "</pre>\n"
      ],
      "text/plain": [
       "\u001b[34m\u001b[1mOptimization Result\u001b[22m\u001b[39m\n",
       "\u001b[39m===================\u001b[39m\n",
       "  Iteration:       403\n",
       "  Minimum:         13325.9\n",
       "  Minimizer:       [189.345, 5.29193, 1569.6, …, 712.61]\n",
       "  Function calls:  16926\n",
       "  Total time:      12683.0740 s\n",
       "  Stop reason:     \n"
      ]
     },
     "metadata": {},
     "output_type": "display_data"
    },
    {
     "name": "stderr",
     "output_type": "stream",
     "text": [
      "\u001b[36m\u001b[1m[ \u001b[22m\u001b[39m\u001b[36m\u001b[1mInfo: \u001b[22m\u001b[39mCurrent Status of ECA\n"
     ]
    },
    {
     "data": {
      "text/html": [
       "<pre>\n",
       "Optimization Result\n",
       "===================\n",
       "  Iteration:       404\n",
       "  Minimum:         13325.9\n",
       "  Minimizer:       [189.345, 5.29193, 1569.6, …, 712.61]\n",
       "  Function calls:  16968\n",
       "  Total time:      12713.1460 s\n",
       "  Stop reason:     \n",
       "</pre>\n"
      ],
      "text/plain": [
       "\u001b[34m\u001b[1mOptimization Result\u001b[22m\u001b[39m\n",
       "\u001b[39m===================\u001b[39m\n",
       "  Iteration:       404\n",
       "  Minimum:         13325.9\n",
       "  Minimizer:       [189.345, 5.29193, 1569.6, …, 712.61]\n",
       "  Function calls:  16968\n",
       "  Total time:      12713.1460 s\n",
       "  Stop reason:     \n"
      ]
     },
     "metadata": {},
     "output_type": "display_data"
    },
    {
     "name": "stderr",
     "output_type": "stream",
     "text": [
      "\u001b[36m\u001b[1m[ \u001b[22m\u001b[39m\u001b[36m\u001b[1mInfo: \u001b[22m\u001b[39mCurrent Status of ECA\n"
     ]
    },
    {
     "data": {
      "text/html": [
       "<pre>\n",
       "Optimization Result\n",
       "===================\n",
       "  Iteration:       405\n",
       "  Minimum:         13325.9\n",
       "  Minimizer:       [189.298, 5.29142, 1569.81, …, 713.047]\n",
       "  Function calls:  17010\n",
       "  Total time:      12742.9930 s\n",
       "  Stop reason:     \n",
       "</pre>\n"
      ],
      "text/plain": [
       "\u001b[34m\u001b[1mOptimization Result\u001b[22m\u001b[39m\n",
       "\u001b[39m===================\u001b[39m\n",
       "  Iteration:       405\n",
       "  Minimum:         13325.9\n",
       "  Minimizer:       [189.298, 5.29142, 1569.81, …, 713.047]\n",
       "  Function calls:  17010\n",
       "  Total time:      12742.9930 s\n",
       "  Stop reason:     \n"
      ]
     },
     "metadata": {},
     "output_type": "display_data"
    },
    {
     "name": "stderr",
     "output_type": "stream",
     "text": [
      "\u001b[36m\u001b[1m[ \u001b[22m\u001b[39m\u001b[36m\u001b[1mInfo: \u001b[22m\u001b[39mCurrent Status of ECA\n"
     ]
    },
    {
     "data": {
      "text/html": [
       "<pre>\n",
       "Optimization Result\n",
       "===================\n",
       "  Iteration:       406\n",
       "  Minimum:         13325.9\n",
       "  Minimizer:       [189.266, 5.29106, 1569.73, …, 713.537]\n",
       "  Function calls:  17052\n",
       "  Total time:      12772.6190 s\n",
       "  Stop reason:     \n",
       "</pre>\n"
      ],
      "text/plain": [
       "\u001b[34m\u001b[1mOptimization Result\u001b[22m\u001b[39m\n",
       "\u001b[39m===================\u001b[39m\n",
       "  Iteration:       406\n",
       "  Minimum:         13325.9\n",
       "  Minimizer:       [189.266, 5.29106, 1569.73, …, 713.537]\n",
       "  Function calls:  17052\n",
       "  Total time:      12772.6190 s\n",
       "  Stop reason:     \n"
      ]
     },
     "metadata": {},
     "output_type": "display_data"
    },
    {
     "name": "stderr",
     "output_type": "stream",
     "text": [
      "\u001b[36m\u001b[1m[ \u001b[22m\u001b[39m\u001b[36m\u001b[1mInfo: \u001b[22m\u001b[39mCurrent Status of ECA\n"
     ]
    },
    {
     "data": {
      "text/html": [
       "<pre>\n",
       "Optimization Result\n",
       "===================\n",
       "  Iteration:       407\n",
       "  Minimum:         13325.9\n",
       "  Minimizer:       [189.203, 5.29008, 1569.75, …, 713.66]\n",
       "  Function calls:  17094\n",
       "  Total time:      12802.5210 s\n",
       "  Stop reason:     \n",
       "</pre>\n"
      ],
      "text/plain": [
       "\u001b[34m\u001b[1mOptimization Result\u001b[22m\u001b[39m\n",
       "\u001b[39m===================\u001b[39m\n",
       "  Iteration:       407\n",
       "  Minimum:         13325.9\n",
       "  Minimizer:       [189.203, 5.29008, 1569.75, …, 713.66]\n",
       "  Function calls:  17094\n",
       "  Total time:      12802.5210 s\n",
       "  Stop reason:     \n"
      ]
     },
     "metadata": {},
     "output_type": "display_data"
    },
    {
     "name": "stderr",
     "output_type": "stream",
     "text": [
      "\u001b[36m\u001b[1m[ \u001b[22m\u001b[39m\u001b[36m\u001b[1mInfo: \u001b[22m\u001b[39mCurrent Status of ECA\n"
     ]
    },
    {
     "data": {
      "text/html": [
       "<pre>\n",
       "Optimization Result\n",
       "===================\n",
       "  Iteration:       408\n",
       "  Minimum:         13325.9\n",
       "  Minimizer:       [189.301, 5.29111, 1569.42, …, 712.511]\n",
       "  Function calls:  17136\n",
       "  Total time:      12832.8050 s\n",
       "  Stop reason:     \n",
       "</pre>\n"
      ],
      "text/plain": [
       "\u001b[34m\u001b[1mOptimization Result\u001b[22m\u001b[39m\n",
       "\u001b[39m===================\u001b[39m\n",
       "  Iteration:       408\n",
       "  Minimum:         13325.9\n",
       "  Minimizer:       [189.301, 5.29111, 1569.42, …, 712.511]\n",
       "  Function calls:  17136\n",
       "  Total time:      12832.8050 s\n",
       "  Stop reason:     \n"
      ]
     },
     "metadata": {},
     "output_type": "display_data"
    },
    {
     "name": "stderr",
     "output_type": "stream",
     "text": [
      "\u001b[36m\u001b[1m[ \u001b[22m\u001b[39m\u001b[36m\u001b[1mInfo: \u001b[22m\u001b[39mCurrent Status of ECA\n"
     ]
    },
    {
     "data": {
      "text/html": [
       "<pre>\n",
       "Optimization Result\n",
       "===================\n",
       "  Iteration:       409\n",
       "  Minimum:         13325.9\n",
       "  Minimizer:       [189.159, 5.28961, 1569.92, …, 714.114]\n",
       "  Function calls:  17178\n",
       "  Total time:      12864.5330 s\n",
       "  Stop reason:     \n",
       "</pre>\n"
      ],
      "text/plain": [
       "\u001b[34m\u001b[1mOptimization Result\u001b[22m\u001b[39m\n",
       "\u001b[39m===================\u001b[39m\n",
       "  Iteration:       409\n",
       "  Minimum:         13325.9\n",
       "  Minimizer:       [189.159, 5.28961, 1569.92, …, 714.114]\n",
       "  Function calls:  17178\n",
       "  Total time:      12864.5330 s\n",
       "  Stop reason:     \n"
      ]
     },
     "metadata": {},
     "output_type": "display_data"
    },
    {
     "name": "stderr",
     "output_type": "stream",
     "text": [
      "\u001b[36m\u001b[1m[ \u001b[22m\u001b[39m\u001b[36m\u001b[1mInfo: \u001b[22m\u001b[39mCurrent Status of ECA\n"
     ]
    },
    {
     "data": {
      "text/html": [
       "<pre>\n",
       "Optimization Result\n",
       "===================\n",
       "  Iteration:       410\n",
       "  Minimum:         13325.9\n",
       "  Minimizer:       [189.159, 5.28961, 1569.92, …, 714.114]\n",
       "  Function calls:  17220\n",
       "  Total time:      12894.6420 s\n",
       "  Stop reason:     \n",
       "</pre>\n"
      ],
      "text/plain": [
       "\u001b[34m\u001b[1mOptimization Result\u001b[22m\u001b[39m\n",
       "\u001b[39m===================\u001b[39m\n",
       "  Iteration:       410\n",
       "  Minimum:         13325.9\n",
       "  Minimizer:       [189.159, 5.28961, 1569.92, …, 714.114]\n",
       "  Function calls:  17220\n",
       "  Total time:      12894.6420 s\n",
       "  Stop reason:     \n"
      ]
     },
     "metadata": {},
     "output_type": "display_data"
    },
    {
     "name": "stderr",
     "output_type": "stream",
     "text": [
      "\u001b[36m\u001b[1m[ \u001b[22m\u001b[39m\u001b[36m\u001b[1mInfo: \u001b[22m\u001b[39mCurrent Status of ECA\n"
     ]
    },
    {
     "data": {
      "text/html": [
       "<pre>\n",
       "Optimization Result\n",
       "===================\n",
       "  Iteration:       411\n",
       "  Minimum:         13325.9\n",
       "  Minimizer:       [189.283, 5.29087, 1569.34, …, 712.739]\n",
       "  Function calls:  17262\n",
       "  Total time:      12924.8680 s\n",
       "  Stop reason:     \n",
       "</pre>\n"
      ],
      "text/plain": [
       "\u001b[34m\u001b[1mOptimization Result\u001b[22m\u001b[39m\n",
       "\u001b[39m===================\u001b[39m\n",
       "  Iteration:       411\n",
       "  Minimum:         13325.9\n",
       "  Minimizer:       [189.283, 5.29087, 1569.34, …, 712.739]\n",
       "  Function calls:  17262\n",
       "  Total time:      12924.8680 s\n",
       "  Stop reason:     \n"
      ]
     },
     "metadata": {},
     "output_type": "display_data"
    },
    {
     "name": "stderr",
     "output_type": "stream",
     "text": [
      "\u001b[36m\u001b[1m[ \u001b[22m\u001b[39m\u001b[36m\u001b[1mInfo: \u001b[22m\u001b[39mCurrent Status of ECA\n"
     ]
    },
    {
     "data": {
      "text/html": [
       "<pre>\n",
       "Optimization Result\n",
       "===================\n",
       "  Iteration:       412\n",
       "  Minimum:         13325.9\n",
       "  Minimizer:       [189.193, 5.28977, 1569.63, …, 713.374]\n",
       "  Function calls:  17304\n",
       "  Total time:      12955.0910 s\n",
       "  Stop reason:     \n",
       "</pre>\n"
      ],
      "text/plain": [
       "\u001b[34m\u001b[1mOptimization Result\u001b[22m\u001b[39m\n",
       "\u001b[39m===================\u001b[39m\n",
       "  Iteration:       412\n",
       "  Minimum:         13325.9\n",
       "  Minimizer:       [189.193, 5.28977, 1569.63, …, 713.374]\n",
       "  Function calls:  17304\n",
       "  Total time:      12955.0910 s\n",
       "  Stop reason:     \n"
      ]
     },
     "metadata": {},
     "output_type": "display_data"
    },
    {
     "name": "stderr",
     "output_type": "stream",
     "text": [
      "\u001b[36m\u001b[1m[ \u001b[22m\u001b[39m\u001b[36m\u001b[1mInfo: \u001b[22m\u001b[39mCurrent Status of ECA\n"
     ]
    },
    {
     "data": {
      "text/html": [
       "<pre>\n",
       "Optimization Result\n",
       "===================\n",
       "  Iteration:       413\n",
       "  Minimum:         13325.9\n",
       "  Minimizer:       [189.197, 5.28965, 1569.48, …, 713.053]\n",
       "  Function calls:  17346\n",
       "  Total time:      12985.4970 s\n",
       "  Stop reason:     \n",
       "</pre>\n"
      ],
      "text/plain": [
       "\u001b[34m\u001b[1mOptimization Result\u001b[22m\u001b[39m\n",
       "\u001b[39m===================\u001b[39m\n",
       "  Iteration:       413\n",
       "  Minimum:         13325.9\n",
       "  Minimizer:       [189.197, 5.28965, 1569.48, …, 713.053]\n",
       "  Function calls:  17346\n",
       "  Total time:      12985.4970 s\n",
       "  Stop reason:     \n"
      ]
     },
     "metadata": {},
     "output_type": "display_data"
    },
    {
     "name": "stderr",
     "output_type": "stream",
     "text": [
      "\u001b[36m\u001b[1m[ \u001b[22m\u001b[39m\u001b[36m\u001b[1mInfo: \u001b[22m\u001b[39mCurrent Status of ECA\n"
     ]
    },
    {
     "data": {
      "text/html": [
       "<pre>\n",
       "Optimization Result\n",
       "===================\n",
       "  Iteration:       414\n",
       "  Minimum:         13325.9\n",
       "  Minimizer:       [189.197, 5.28965, 1569.48, …, 713.053]\n",
       "  Function calls:  17388\n",
       "  Total time:      13016.3600 s\n",
       "  Stop reason:     \n",
       "</pre>\n"
      ],
      "text/plain": [
       "\u001b[34m\u001b[1mOptimization Result\u001b[22m\u001b[39m\n",
       "\u001b[39m===================\u001b[39m\n",
       "  Iteration:       414\n",
       "  Minimum:         13325.9\n",
       "  Minimizer:       [189.197, 5.28965, 1569.48, …, 713.053]\n",
       "  Function calls:  17388\n",
       "  Total time:      13016.3600 s\n",
       "  Stop reason:     \n"
      ]
     },
     "metadata": {},
     "output_type": "display_data"
    },
    {
     "name": "stderr",
     "output_type": "stream",
     "text": [
      "\u001b[36m\u001b[1m[ \u001b[22m\u001b[39m\u001b[36m\u001b[1mInfo: \u001b[22m\u001b[39mCurrent Status of ECA\n"
     ]
    },
    {
     "data": {
      "text/html": [
       "<pre>\n",
       "Optimization Result\n",
       "===================\n",
       "  Iteration:       415\n",
       "  Minimum:         13325.9\n",
       "  Minimizer:       [189.177, 5.28934, 1569.4, …, 713.17]\n",
       "  Function calls:  17430\n",
       "  Total time:      13047.3650 s\n",
       "  Stop reason:     \n",
       "</pre>\n"
      ],
      "text/plain": [
       "\u001b[34m\u001b[1mOptimization Result\u001b[22m\u001b[39m\n",
       "\u001b[39m===================\u001b[39m\n",
       "  Iteration:       415\n",
       "  Minimum:         13325.9\n",
       "  Minimizer:       [189.177, 5.28934, 1569.4, …, 713.17]\n",
       "  Function calls:  17430\n",
       "  Total time:      13047.3650 s\n",
       "  Stop reason:     \n"
      ]
     },
     "metadata": {},
     "output_type": "display_data"
    },
    {
     "name": "stderr",
     "output_type": "stream",
     "text": [
      "\u001b[36m\u001b[1m[ \u001b[22m\u001b[39m\u001b[36m\u001b[1mInfo: \u001b[22m\u001b[39mCurrent Status of ECA\n"
     ]
    },
    {
     "data": {
      "text/html": [
       "<pre>\n",
       "Optimization Result\n",
       "===================\n",
       "  Iteration:       416\n",
       "  Minimum:         13325.9\n",
       "  Minimizer:       [189.177, 5.28934, 1569.4, …, 713.17]\n",
       "  Function calls:  17472\n",
       "  Total time:      13077.4520 s\n",
       "  Stop reason:     \n",
       "</pre>\n"
      ],
      "text/plain": [
       "\u001b[34m\u001b[1mOptimization Result\u001b[22m\u001b[39m\n",
       "\u001b[39m===================\u001b[39m\n",
       "  Iteration:       416\n",
       "  Minimum:         13325.9\n",
       "  Minimizer:       [189.177, 5.28934, 1569.4, …, 713.17]\n",
       "  Function calls:  17472\n",
       "  Total time:      13077.4520 s\n",
       "  Stop reason:     \n"
      ]
     },
     "metadata": {},
     "output_type": "display_data"
    },
    {
     "name": "stderr",
     "output_type": "stream",
     "text": [
      "\u001b[36m\u001b[1m[ \u001b[22m\u001b[39m\u001b[36m\u001b[1mInfo: \u001b[22m\u001b[39mCurrent Status of ECA\n"
     ]
    },
    {
     "data": {
      "text/html": [
       "<pre>\n",
       "Optimization Result\n",
       "===================\n",
       "  Iteration:       417\n",
       "  Minimum:         13325.9\n",
       "  Minimizer:       [189.168, 5.28888, 1569.43, …, 712.299]\n",
       "  Function calls:  17514\n",
       "  Total time:      13107.1010 s\n",
       "  Stop reason:     \n",
       "</pre>\n"
      ],
      "text/plain": [
       "\u001b[34m\u001b[1mOptimization Result\u001b[22m\u001b[39m\n",
       "\u001b[39m===================\u001b[39m\n",
       "  Iteration:       417\n",
       "  Minimum:         13325.9\n",
       "  Minimizer:       [189.168, 5.28888, 1569.43, …, 712.299]\n",
       "  Function calls:  17514\n",
       "  Total time:      13107.1010 s\n",
       "  Stop reason:     \n"
      ]
     },
     "metadata": {},
     "output_type": "display_data"
    },
    {
     "name": "stderr",
     "output_type": "stream",
     "text": [
      "\u001b[36m\u001b[1m[ \u001b[22m\u001b[39m\u001b[36m\u001b[1mInfo: \u001b[22m\u001b[39mCurrent Status of ECA\n"
     ]
    },
    {
     "data": {
      "text/html": [
       "<pre>\n",
       "Optimization Result\n",
       "===================\n",
       "  Iteration:       418\n",
       "  Minimum:         13325.9\n",
       "  Minimizer:       [189.072, 5.28786, 1569.52, …, 713.614]\n",
       "  Function calls:  17556\n",
       "  Total time:      13137.3350 s\n",
       "  Stop reason:     \n",
       "</pre>\n"
      ],
      "text/plain": [
       "\u001b[34m\u001b[1mOptimization Result\u001b[22m\u001b[39m\n",
       "\u001b[39m===================\u001b[39m\n",
       "  Iteration:       418\n",
       "  Minimum:         13325.9\n",
       "  Minimizer:       [189.072, 5.28786, 1569.52, …, 713.614]\n",
       "  Function calls:  17556\n",
       "  Total time:      13137.3350 s\n",
       "  Stop reason:     \n"
      ]
     },
     "metadata": {},
     "output_type": "display_data"
    },
    {
     "name": "stderr",
     "output_type": "stream",
     "text": [
      "\u001b[36m\u001b[1m[ \u001b[22m\u001b[39m\u001b[36m\u001b[1mInfo: \u001b[22m\u001b[39mCurrent Status of ECA\n"
     ]
    },
    {
     "data": {
      "text/html": [
       "<pre>\n",
       "Optimization Result\n",
       "===================\n",
       "  Iteration:       419\n",
       "  Minimum:         13325.9\n",
       "  Minimizer:       [189.072, 5.28786, 1569.52, …, 713.614]\n",
       "  Function calls:  17598\n",
       "  Total time:      13167.3770 s\n",
       "  Stop reason:     \n",
       "</pre>\n"
      ],
      "text/plain": [
       "\u001b[34m\u001b[1mOptimization Result\u001b[22m\u001b[39m\n",
       "\u001b[39m===================\u001b[39m\n",
       "  Iteration:       419\n",
       "  Minimum:         13325.9\n",
       "  Minimizer:       [189.072, 5.28786, 1569.52, …, 713.614]\n",
       "  Function calls:  17598\n",
       "  Total time:      13167.3770 s\n",
       "  Stop reason:     \n"
      ]
     },
     "metadata": {},
     "output_type": "display_data"
    },
    {
     "name": "stderr",
     "output_type": "stream",
     "text": [
      "\u001b[36m\u001b[1m[ \u001b[22m\u001b[39m\u001b[36m\u001b[1mInfo: \u001b[22m\u001b[39mCurrent Status of ECA\n"
     ]
    },
    {
     "data": {
      "text/html": [
       "<pre>\n",
       "Optimization Result\n",
       "===================\n",
       "  Iteration:       420\n",
       "  Minimum:         13325.9\n",
       "  Minimizer:       [189.072, 5.28786, 1569.52, …, 713.614]\n",
       "  Function calls:  17640\n",
       "  Total time:      13198.4350 s\n",
       "  Stop reason:     \n",
       "</pre>\n"
      ],
      "text/plain": [
       "\u001b[34m\u001b[1mOptimization Result\u001b[22m\u001b[39m\n",
       "\u001b[39m===================\u001b[39m\n",
       "  Iteration:       420\n",
       "  Minimum:         13325.9\n",
       "  Minimizer:       [189.072, 5.28786, 1569.52, …, 713.614]\n",
       "  Function calls:  17640\n",
       "  Total time:      13198.4350 s\n",
       "  Stop reason:     \n"
      ]
     },
     "metadata": {},
     "output_type": "display_data"
    },
    {
     "name": "stderr",
     "output_type": "stream",
     "text": [
      "\u001b[36m\u001b[1m[ \u001b[22m\u001b[39m\u001b[36m\u001b[1mInfo: \u001b[22m\u001b[39mCurrent Status of ECA\n"
     ]
    },
    {
     "data": {
      "text/html": [
       "<pre>\n",
       "Optimization Result\n",
       "===================\n",
       "  Iteration:       421\n",
       "  Minimum:         13325.9\n",
       "  Minimizer:       [189.072, 5.28786, 1569.52, …, 713.614]\n",
       "  Function calls:  17682\n",
       "  Total time:      13229.4250 s\n",
       "  Stop reason:     \n",
       "</pre>\n"
      ],
      "text/plain": [
       "\u001b[34m\u001b[1mOptimization Result\u001b[22m\u001b[39m\n",
       "\u001b[39m===================\u001b[39m\n",
       "  Iteration:       421\n",
       "  Minimum:         13325.9\n",
       "  Minimizer:       [189.072, 5.28786, 1569.52, …, 713.614]\n",
       "  Function calls:  17682\n",
       "  Total time:      13229.4250 s\n",
       "  Stop reason:     \n"
      ]
     },
     "metadata": {},
     "output_type": "display_data"
    },
    {
     "name": "stderr",
     "output_type": "stream",
     "text": [
      "\u001b[36m\u001b[1m[ \u001b[22m\u001b[39m\u001b[36m\u001b[1mInfo: \u001b[22m\u001b[39mCurrent Status of ECA\n"
     ]
    },
    {
     "data": {
      "text/html": [
       "<pre>\n",
       "Optimization Result\n",
       "===================\n",
       "  Iteration:       422\n",
       "  Minimum:         13325.9\n",
       "  Minimizer:       [189.062, 5.28745, 1569.87, …, 712.555]\n",
       "  Function calls:  17724\n",
       "  Total time:      13259.7900 s\n",
       "  Stop reason:     \n",
       "</pre>\n"
      ],
      "text/plain": [
       "\u001b[34m\u001b[1mOptimization Result\u001b[22m\u001b[39m\n",
       "\u001b[39m===================\u001b[39m\n",
       "  Iteration:       422\n",
       "  Minimum:         13325.9\n",
       "  Minimizer:       [189.062, 5.28745, 1569.87, …, 712.555]\n",
       "  Function calls:  17724\n",
       "  Total time:      13259.7900 s\n",
       "  Stop reason:     \n"
      ]
     },
     "metadata": {},
     "output_type": "display_data"
    },
    {
     "name": "stderr",
     "output_type": "stream",
     "text": [
      "\u001b[36m\u001b[1m[ \u001b[22m\u001b[39m\u001b[36m\u001b[1mInfo: \u001b[22m\u001b[39mCurrent Status of ECA\n"
     ]
    },
    {
     "data": {
      "text/html": [
       "<pre>\n",
       "Optimization Result\n",
       "===================\n",
       "  Iteration:       423\n",
       "  Minimum:         13325.9\n",
       "  Minimizer:       [189.126, 5.28834, 1569.69, …, 712.387]\n",
       "  Function calls:  17766\n",
       "  Total time:      13290.2910 s\n",
       "  Stop reason:     \n",
       "</pre>\n"
      ],
      "text/plain": [
       "\u001b[34m\u001b[1mOptimization Result\u001b[22m\u001b[39m\n",
       "\u001b[39m===================\u001b[39m\n",
       "  Iteration:       423\n",
       "  Minimum:         13325.9\n",
       "  Minimizer:       [189.126, 5.28834, 1569.69, …, 712.387]\n",
       "  Function calls:  17766\n",
       "  Total time:      13290.2910 s\n",
       "  Stop reason:     \n"
      ]
     },
     "metadata": {},
     "output_type": "display_data"
    },
    {
     "name": "stderr",
     "output_type": "stream",
     "text": [
      "\u001b[36m\u001b[1m[ \u001b[22m\u001b[39m\u001b[36m\u001b[1mInfo: \u001b[22m\u001b[39mCurrent Status of ECA\n"
     ]
    },
    {
     "data": {
      "text/html": [
       "<pre>\n",
       "Optimization Result\n",
       "===================\n",
       "  Iteration:       424\n",
       "  Minimum:         13325.9\n",
       "  Minimizer:       [189.062, 5.28798, 1569.79, …, 714.084]\n",
       "  Function calls:  17808\n",
       "  Total time:      13320.3260 s\n",
       "  Stop reason:     \n",
       "</pre>\n"
      ],
      "text/plain": [
       "\u001b[34m\u001b[1mOptimization Result\u001b[22m\u001b[39m\n",
       "\u001b[39m===================\u001b[39m\n",
       "  Iteration:       424\n",
       "  Minimum:         13325.9\n",
       "  Minimizer:       [189.062, 5.28798, 1569.79, …, 714.084]\n",
       "  Function calls:  17808\n",
       "  Total time:      13320.3260 s\n",
       "  Stop reason:     \n"
      ]
     },
     "metadata": {},
     "output_type": "display_data"
    },
    {
     "name": "stderr",
     "output_type": "stream",
     "text": [
      "\u001b[36m\u001b[1m[ \u001b[22m\u001b[39m\u001b[36m\u001b[1mInfo: \u001b[22m\u001b[39mCurrent Status of ECA\n"
     ]
    },
    {
     "data": {
      "text/html": [
       "<pre>\n",
       "Optimization Result\n",
       "===================\n",
       "  Iteration:       425\n",
       "  Minimum:         13325.9\n",
       "  Minimizer:       [189.013, 5.28697, 1569.83, …, 713.447]\n",
       "  Function calls:  17850\n",
       "  Total time:      13350.0690 s\n",
       "  Stop reason:     \n",
       "</pre>\n"
      ],
      "text/plain": [
       "\u001b[34m\u001b[1mOptimization Result\u001b[22m\u001b[39m\n",
       "\u001b[39m===================\u001b[39m\n",
       "  Iteration:       425\n",
       "  Minimum:         13325.9\n",
       "  Minimizer:       [189.013, 5.28697, 1569.83, …, 713.447]\n",
       "  Function calls:  17850\n",
       "  Total time:      13350.0690 s\n",
       "  Stop reason:     \n"
      ]
     },
     "metadata": {},
     "output_type": "display_data"
    },
    {
     "name": "stderr",
     "output_type": "stream",
     "text": [
      "\u001b[36m\u001b[1m[ \u001b[22m\u001b[39m\u001b[36m\u001b[1mInfo: \u001b[22m\u001b[39mCurrent Status of ECA\n"
     ]
    },
    {
     "data": {
      "text/html": [
       "<pre>\n",
       "Optimization Result\n",
       "===================\n",
       "  Iteration:       426\n",
       "  Minimum:         13325.9\n",
       "  Minimizer:       [189.107, 5.28803, 1569.8, …, 712.279]\n",
       "  Function calls:  17892\n",
       "  Total time:      13381.2010 s\n",
       "  Stop reason:     \n",
       "</pre>\n"
      ],
      "text/plain": [
       "\u001b[34m\u001b[1mOptimization Result\u001b[22m\u001b[39m\n",
       "\u001b[39m===================\u001b[39m\n",
       "  Iteration:       426\n",
       "  Minimum:         13325.9\n",
       "  Minimizer:       [189.107, 5.28803, 1569.8, …, 712.279]\n",
       "  Function calls:  17892\n",
       "  Total time:      13381.2010 s\n",
       "  Stop reason:     \n"
      ]
     },
     "metadata": {},
     "output_type": "display_data"
    },
    {
     "name": "stderr",
     "output_type": "stream",
     "text": [
      "\u001b[36m\u001b[1m[ \u001b[22m\u001b[39m\u001b[36m\u001b[1mInfo: \u001b[22m\u001b[39mCurrent Status of ECA\n"
     ]
    },
    {
     "data": {
      "text/html": [
       "<pre>\n",
       "Optimization Result\n",
       "===================\n",
       "  Iteration:       427\n",
       "  Minimum:         13325.9\n",
       "  Minimizer:       [189.107, 5.28803, 1569.8, …, 712.279]\n",
       "  Function calls:  17934\n",
       "  Total time:      13411.9910 s\n",
       "  Stop reason:     \n",
       "</pre>\n"
      ],
      "text/plain": [
       "\u001b[34m\u001b[1mOptimization Result\u001b[22m\u001b[39m\n",
       "\u001b[39m===================\u001b[39m\n",
       "  Iteration:       427\n",
       "  Minimum:         13325.9\n",
       "  Minimizer:       [189.107, 5.28803, 1569.8, …, 712.279]\n",
       "  Function calls:  17934\n",
       "  Total time:      13411.9910 s\n",
       "  Stop reason:     \n"
      ]
     },
     "metadata": {},
     "output_type": "display_data"
    },
    {
     "name": "stderr",
     "output_type": "stream",
     "text": [
      "\u001b[36m\u001b[1m[ \u001b[22m\u001b[39m\u001b[36m\u001b[1mInfo: \u001b[22m\u001b[39mCurrent Status of ECA\n"
     ]
    },
    {
     "data": {
      "text/html": [
       "<pre>\n",
       "Optimization Result\n",
       "===================\n",
       "  Iteration:       428\n",
       "  Minimum:         13325.9\n",
       "  Minimizer:       [189.107, 5.28803, 1569.8, …, 712.279]\n",
       "  Function calls:  17976\n",
       "  Total time:      13441.8140 s\n",
       "  Stop reason:     \n",
       "</pre>\n"
      ],
      "text/plain": [
       "\u001b[34m\u001b[1mOptimization Result\u001b[22m\u001b[39m\n",
       "\u001b[39m===================\u001b[39m\n",
       "  Iteration:       428\n",
       "  Minimum:         13325.9\n",
       "  Minimizer:       [189.107, 5.28803, 1569.8, …, 712.279]\n",
       "  Function calls:  17976\n",
       "  Total time:      13441.8140 s\n",
       "  Stop reason:     \n"
      ]
     },
     "metadata": {},
     "output_type": "display_data"
    },
    {
     "name": "stderr",
     "output_type": "stream",
     "text": [
      "\u001b[36m\u001b[1m[ \u001b[22m\u001b[39m\u001b[36m\u001b[1mInfo: \u001b[22m\u001b[39mCurrent Status of ECA\n"
     ]
    },
    {
     "data": {
      "text/html": [
       "<pre>\n",
       "Optimization Result\n",
       "===================\n",
       "  Iteration:       429\n",
       "  Minimum:         13325.9\n",
       "  Minimizer:       [189.107, 5.28803, 1569.8, …, 712.279]\n",
       "  Function calls:  18018\n",
       "  Total time:      13471.7050 s\n",
       "  Stop reason:     \n",
       "</pre>\n"
      ],
      "text/plain": [
       "\u001b[34m\u001b[1mOptimization Result\u001b[22m\u001b[39m\n",
       "\u001b[39m===================\u001b[39m\n",
       "  Iteration:       429\n",
       "  Minimum:         13325.9\n",
       "  Minimizer:       [189.107, 5.28803, 1569.8, …, 712.279]\n",
       "  Function calls:  18018\n",
       "  Total time:      13471.7050 s\n",
       "  Stop reason:     \n"
      ]
     },
     "metadata": {},
     "output_type": "display_data"
    },
    {
     "name": "stderr",
     "output_type": "stream",
     "text": [
      "\u001b[36m\u001b[1m[ \u001b[22m\u001b[39m\u001b[36m\u001b[1mInfo: \u001b[22m\u001b[39mCurrent Status of ECA\n"
     ]
    },
    {
     "data": {
      "text/html": [
       "<pre>\n",
       "Optimization Result\n",
       "===================\n",
       "  Iteration:       430\n",
       "  Minimum:         13325.9\n",
       "  Minimizer:       [189.107, 5.28803, 1569.8, …, 712.279]\n",
       "  Function calls:  18060\n",
       "  Total time:      13501.7660 s\n",
       "  Stop reason:     \n",
       "</pre>\n"
      ],
      "text/plain": [
       "\u001b[34m\u001b[1mOptimization Result\u001b[22m\u001b[39m\n",
       "\u001b[39m===================\u001b[39m\n",
       "  Iteration:       430\n",
       "  Minimum:         13325.9\n",
       "  Minimizer:       [189.107, 5.28803, 1569.8, …, 712.279]\n",
       "  Function calls:  18060\n",
       "  Total time:      13501.7660 s\n",
       "  Stop reason:     \n"
      ]
     },
     "metadata": {},
     "output_type": "display_data"
    },
    {
     "name": "stderr",
     "output_type": "stream",
     "text": [
      "\u001b[36m\u001b[1m[ \u001b[22m\u001b[39m\u001b[36m\u001b[1mInfo: \u001b[22m\u001b[39mCurrent Status of ECA\n"
     ]
    },
    {
     "data": {
      "text/html": [
       "<pre>\n",
       "Optimization Result\n",
       "===================\n",
       "  Iteration:       431\n",
       "  Minimum:         13325.9\n",
       "  Minimizer:       [189.101, 5.28806, 1569.83, …, 712.553]\n",
       "  Function calls:  18102\n",
       "  Total time:      13531.7050 s\n",
       "  Stop reason:     \n",
       "</pre>\n"
      ],
      "text/plain": [
       "\u001b[34m\u001b[1mOptimization Result\u001b[22m\u001b[39m\n",
       "\u001b[39m===================\u001b[39m\n",
       "  Iteration:       431\n",
       "  Minimum:         13325.9\n",
       "  Minimizer:       [189.101, 5.28806, 1569.83, …, 712.553]\n",
       "  Function calls:  18102\n",
       "  Total time:      13531.7050 s\n",
       "  Stop reason:     \n"
      ]
     },
     "metadata": {},
     "output_type": "display_data"
    },
    {
     "name": "stderr",
     "output_type": "stream",
     "text": [
      "\u001b[36m\u001b[1m[ \u001b[22m\u001b[39m\u001b[36m\u001b[1mInfo: \u001b[22m\u001b[39mCurrent Status of ECA\n"
     ]
    },
    {
     "data": {
      "text/html": [
       "<pre>\n",
       "Optimization Result\n",
       "===================\n",
       "  Iteration:       432\n",
       "  Minimum:         13325.9\n",
       "  Minimizer:       [189.101, 5.28806, 1569.83, …, 712.553]\n",
       "  Function calls:  18144\n",
       "  Total time:      13563.1800 s\n",
       "  Stop reason:     \n",
       "</pre>\n"
      ],
      "text/plain": [
       "\u001b[34m\u001b[1mOptimization Result\u001b[22m\u001b[39m\n",
       "\u001b[39m===================\u001b[39m\n",
       "  Iteration:       432\n",
       "  Minimum:         13325.9\n",
       "  Minimizer:       [189.101, 5.28806, 1569.83, …, 712.553]\n",
       "  Function calls:  18144\n",
       "  Total time:      13563.1800 s\n",
       "  Stop reason:     \n"
      ]
     },
     "metadata": {},
     "output_type": "display_data"
    },
    {
     "name": "stderr",
     "output_type": "stream",
     "text": [
      "\u001b[36m\u001b[1m[ \u001b[22m\u001b[39m\u001b[36m\u001b[1mInfo: \u001b[22m\u001b[39mCurrent Status of ECA\n"
     ]
    },
    {
     "data": {
      "text/html": [
       "<pre>\n",
       "Optimization Result\n",
       "===================\n",
       "  Iteration:       433\n",
       "  Minimum:         13325.9\n",
       "  Minimizer:       [189.108, 5.28796, 1569.89, …, 711.901]\n",
       "  Function calls:  18186\n",
       "  Total time:      13593.6030 s\n",
       "  Stop reason:     \n",
       "</pre>\n"
      ],
      "text/plain": [
       "\u001b[34m\u001b[1mOptimization Result\u001b[22m\u001b[39m\n",
       "\u001b[39m===================\u001b[39m\n",
       "  Iteration:       433\n",
       "  Minimum:         13325.9\n",
       "  Minimizer:       [189.108, 5.28796, 1569.89, …, 711.901]\n",
       "  Function calls:  18186\n",
       "  Total time:      13593.6030 s\n",
       "  Stop reason:     \n"
      ]
     },
     "metadata": {},
     "output_type": "display_data"
    },
    {
     "name": "stderr",
     "output_type": "stream",
     "text": [
      "\u001b[36m\u001b[1m[ \u001b[22m\u001b[39m\u001b[36m\u001b[1mInfo: \u001b[22m\u001b[39mCurrent Status of ECA\n"
     ]
    },
    {
     "data": {
      "text/html": [
       "<pre>\n",
       "Optimization Result\n",
       "===================\n",
       "  Iteration:       434\n",
       "  Minimum:         13325.9\n",
       "  Minimizer:       [189.108, 5.28796, 1569.89, …, 711.901]\n",
       "  Function calls:  18228\n",
       "  Total time:      13623.8450 s\n",
       "  Stop reason:     \n",
       "</pre>\n"
      ],
      "text/plain": [
       "\u001b[34m\u001b[1mOptimization Result\u001b[22m\u001b[39m\n",
       "\u001b[39m===================\u001b[39m\n",
       "  Iteration:       434\n",
       "  Minimum:         13325.9\n",
       "  Minimizer:       [189.108, 5.28796, 1569.89, …, 711.901]\n",
       "  Function calls:  18228\n",
       "  Total time:      13623.8450 s\n",
       "  Stop reason:     \n"
      ]
     },
     "metadata": {},
     "output_type": "display_data"
    },
    {
     "name": "stderr",
     "output_type": "stream",
     "text": [
      "\u001b[36m\u001b[1m[ \u001b[22m\u001b[39m\u001b[36m\u001b[1mInfo: \u001b[22m\u001b[39mCurrent Status of ECA\n"
     ]
    },
    {
     "data": {
      "text/html": [
       "<pre>\n",
       "Optimization Result\n",
       "===================\n",
       "  Iteration:       435\n",
       "  Minimum:         13325.9\n",
       "  Minimizer:       [189.003, 5.28703, 1569.87, …, 714.027]\n",
       "  Function calls:  18270\n",
       "  Total time:      13653.5050 s\n",
       "  Stop reason:     \n",
       "</pre>\n"
      ],
      "text/plain": [
       "\u001b[34m\u001b[1mOptimization Result\u001b[22m\u001b[39m\n",
       "\u001b[39m===================\u001b[39m\n",
       "  Iteration:       435\n",
       "  Minimum:         13325.9\n",
       "  Minimizer:       [189.003, 5.28703, 1569.87, …, 714.027]\n",
       "  Function calls:  18270\n",
       "  Total time:      13653.5050 s\n",
       "  Stop reason:     \n"
      ]
     },
     "metadata": {},
     "output_type": "display_data"
    },
    {
     "name": "stderr",
     "output_type": "stream",
     "text": [
      "\u001b[36m\u001b[1m[ \u001b[22m\u001b[39m\u001b[36m\u001b[1mInfo: \u001b[22m\u001b[39mCurrent Status of ECA\n"
     ]
    },
    {
     "data": {
      "text/html": [
       "<pre>\n",
       "Optimization Result\n",
       "===================\n",
       "  Iteration:       436\n",
       "  Minimum:         13325.9\n",
       "  Minimizer:       [189.003, 5.28703, 1569.87, …, 714.027]\n",
       "  Function calls:  18312\n",
       "  Total time:      13683.1540 s\n",
       "  Stop reason:     \n",
       "</pre>\n"
      ],
      "text/plain": [
       "\u001b[34m\u001b[1mOptimization Result\u001b[22m\u001b[39m\n",
       "\u001b[39m===================\u001b[39m\n",
       "  Iteration:       436\n",
       "  Minimum:         13325.9\n",
       "  Minimizer:       [189.003, 5.28703, 1569.87, …, 714.027]\n",
       "  Function calls:  18312\n",
       "  Total time:      13683.1540 s\n",
       "  Stop reason:     \n"
      ]
     },
     "metadata": {},
     "output_type": "display_data"
    },
    {
     "name": "stderr",
     "output_type": "stream",
     "text": [
      "\u001b[36m\u001b[1m[ \u001b[22m\u001b[39m\u001b[36m\u001b[1mInfo: \u001b[22m\u001b[39mCurrent Status of ECA\n"
     ]
    },
    {
     "data": {
      "text/html": [
       "<pre>\n",
       "Optimization Result\n",
       "===================\n",
       "  Iteration:       437\n",
       "  Minimum:         13325.9\n",
       "  Minimizer:       [189.003, 5.28703, 1569.87, …, 714.027]\n",
       "  Function calls:  18354\n",
       "  Total time:      13713.1740 s\n",
       "  Stop reason:     \n",
       "</pre>\n"
      ],
      "text/plain": [
       "\u001b[34m\u001b[1mOptimization Result\u001b[22m\u001b[39m\n",
       "\u001b[39m===================\u001b[39m\n",
       "  Iteration:       437\n",
       "  Minimum:         13325.9\n",
       "  Minimizer:       [189.003, 5.28703, 1569.87, …, 714.027]\n",
       "  Function calls:  18354\n",
       "  Total time:      13713.1740 s\n",
       "  Stop reason:     \n"
      ]
     },
     "metadata": {},
     "output_type": "display_data"
    },
    {
     "name": "stderr",
     "output_type": "stream",
     "text": [
      "\u001b[36m\u001b[1m[ \u001b[22m\u001b[39m\u001b[36m\u001b[1mInfo: \u001b[22m\u001b[39mCurrent Status of ECA\n"
     ]
    },
    {
     "data": {
      "text/html": [
       "<pre>\n",
       "Optimization Result\n",
       "===================\n",
       "  Iteration:       438\n",
       "  Minimum:         13325.9\n",
       "  Minimizer:       [189.104, 5.28761, 1569.71, …, 711.348]\n",
       "  Function calls:  18396\n",
       "  Total time:      13744.7140 s\n",
       "  Stop reason:     \n",
       "</pre>\n"
      ],
      "text/plain": [
       "\u001b[34m\u001b[1mOptimization Result\u001b[22m\u001b[39m\n",
       "\u001b[39m===================\u001b[39m\n",
       "  Iteration:       438\n",
       "  Minimum:         13325.9\n",
       "  Minimizer:       [189.104, 5.28761, 1569.71, …, 711.348]\n",
       "  Function calls:  18396\n",
       "  Total time:      13744.7140 s\n",
       "  Stop reason:     \n"
      ]
     },
     "metadata": {},
     "output_type": "display_data"
    },
    {
     "name": "stderr",
     "output_type": "stream",
     "text": [
      "\u001b[36m\u001b[1m[ \u001b[22m\u001b[39m\u001b[36m\u001b[1mInfo: \u001b[22m\u001b[39mCurrent Status of ECA\n"
     ]
    },
    {
     "data": {
      "text/html": [
       "<pre>\n",
       "Optimization Result\n",
       "===================\n",
       "  Iteration:       439\n",
       "  Minimum:         13325.9\n",
       "  Minimizer:       [189.111, 5.28731, 1569.74, …, 710.207]\n",
       "  Function calls:  18438\n",
       "  Total time:      13774.9230 s\n",
       "  Stop reason:     \n",
       "</pre>\n"
      ],
      "text/plain": [
       "\u001b[34m\u001b[1mOptimization Result\u001b[22m\u001b[39m\n",
       "\u001b[39m===================\u001b[39m\n",
       "  Iteration:       439\n",
       "  Minimum:         13325.9\n",
       "  Minimizer:       [189.111, 5.28731, 1569.74, …, 710.207]\n",
       "  Function calls:  18438\n",
       "  Total time:      13774.9230 s\n",
       "  Stop reason:     \n"
      ]
     },
     "metadata": {},
     "output_type": "display_data"
    },
    {
     "name": "stderr",
     "output_type": "stream",
     "text": [
      "\u001b[36m\u001b[1m[ \u001b[22m\u001b[39m\u001b[36m\u001b[1mInfo: \u001b[22m\u001b[39mCurrent Status of ECA\n"
     ]
    },
    {
     "data": {
      "text/html": [
       "<pre>\n",
       "Optimization Result\n",
       "===================\n",
       "  Iteration:       440\n",
       "  Minimum:         13325.9\n",
       "  Minimizer:       [189.111, 5.28731, 1569.74, …, 710.207]\n",
       "  Function calls:  18480\n",
       "  Total time:      13804.9980 s\n",
       "  Stop reason:     \n",
       "</pre>\n"
      ],
      "text/plain": [
       "\u001b[34m\u001b[1mOptimization Result\u001b[22m\u001b[39m\n",
       "\u001b[39m===================\u001b[39m\n",
       "  Iteration:       440\n",
       "  Minimum:         13325.9\n",
       "  Minimizer:       [189.111, 5.28731, 1569.74, …, 710.207]\n",
       "  Function calls:  18480\n",
       "  Total time:      13804.9980 s\n",
       "  Stop reason:     \n"
      ]
     },
     "metadata": {},
     "output_type": "display_data"
    },
    {
     "name": "stderr",
     "output_type": "stream",
     "text": [
      "\u001b[36m\u001b[1m[ \u001b[22m\u001b[39m\u001b[36m\u001b[1mInfo: \u001b[22m\u001b[39mCurrent Status of ECA\n"
     ]
    },
    {
     "data": {
      "text/html": [
       "<pre>\n",
       "Optimization Result\n",
       "===================\n",
       "  Iteration:       441\n",
       "  Minimum:         13325.9\n",
       "  Minimizer:       [189.108, 5.28761, 1569.76, …, 711.138]\n",
       "  Function calls:  18522\n",
       "  Total time:      13835.0540 s\n",
       "  Stop reason:     \n",
       "</pre>\n"
      ],
      "text/plain": [
       "\u001b[34m\u001b[1mOptimization Result\u001b[22m\u001b[39m\n",
       "\u001b[39m===================\u001b[39m\n",
       "  Iteration:       441\n",
       "  Minimum:         13325.9\n",
       "  Minimizer:       [189.108, 5.28761, 1569.76, …, 711.138]\n",
       "  Function calls:  18522\n",
       "  Total time:      13835.0540 s\n",
       "  Stop reason:     \n"
      ]
     },
     "metadata": {},
     "output_type": "display_data"
    },
    {
     "name": "stderr",
     "output_type": "stream",
     "text": [
      "\u001b[36m\u001b[1m[ \u001b[22m\u001b[39m\u001b[36m\u001b[1mInfo: \u001b[22m\u001b[39mCurrent Status of ECA\n"
     ]
    },
    {
     "data": {
      "text/html": [
       "<pre>\n",
       "Optimization Result\n",
       "===================\n",
       "  Iteration:       442\n",
       "  Minimum:         13325.9\n",
       "  Minimizer:       [189.108, 5.28761, 1569.76, …, 711.138]\n",
       "  Function calls:  18564\n",
       "  Total time:      13865.1700 s\n",
       "  Stop reason:     \n",
       "</pre>\n"
      ],
      "text/plain": [
       "\u001b[34m\u001b[1mOptimization Result\u001b[22m\u001b[39m\n",
       "\u001b[39m===================\u001b[39m\n",
       "  Iteration:       442\n",
       "  Minimum:         13325.9\n",
       "  Minimizer:       [189.108, 5.28761, 1569.76, …, 711.138]\n",
       "  Function calls:  18564\n",
       "  Total time:      13865.1700 s\n",
       "  Stop reason:     \n"
      ]
     },
     "metadata": {},
     "output_type": "display_data"
    },
    {
     "name": "stderr",
     "output_type": "stream",
     "text": [
      "\u001b[36m\u001b[1m[ \u001b[22m\u001b[39m\u001b[36m\u001b[1mInfo: \u001b[22m\u001b[39mCurrent Status of ECA\n"
     ]
    },
    {
     "data": {
      "text/html": [
       "<pre>\n",
       "Optimization Result\n",
       "===================\n",
       "  Iteration:       443\n",
       "  Minimum:         13325.9\n",
       "  Minimizer:       [189.106, 5.28758, 1569.77, …, 711.126]\n",
       "  Function calls:  18606\n",
       "  Total time:      13894.8880 s\n",
       "  Stop reason:     \n",
       "</pre>\n"
      ],
      "text/plain": [
       "\u001b[34m\u001b[1mOptimization Result\u001b[22m\u001b[39m\n",
       "\u001b[39m===================\u001b[39m\n",
       "  Iteration:       443\n",
       "  Minimum:         13325.9\n",
       "  Minimizer:       [189.106, 5.28758, 1569.77, …, 711.126]\n",
       "  Function calls:  18606\n",
       "  Total time:      13894.8880 s\n",
       "  Stop reason:     \n"
      ]
     },
     "metadata": {},
     "output_type": "display_data"
    },
    {
     "name": "stderr",
     "output_type": "stream",
     "text": [
      "\u001b[36m\u001b[1m[ \u001b[22m\u001b[39m\u001b[36m\u001b[1mInfo: \u001b[22m\u001b[39mCurrent Status of ECA\n"
     ]
    },
    {
     "data": {
      "text/html": [
       "<pre>\n",
       "Optimization Result\n",
       "===================\n",
       "  Iteration:       444\n",
       "  Minimum:         13325.9\n",
       "  Minimizer:       [189.078, 5.28706, 1569.87, …, 710.821]\n",
       "  Function calls:  18648\n",
       "  Total time:      13926.2970 s\n",
       "  Stop reason:     \n",
       "</pre>\n"
      ],
      "text/plain": [
       "\u001b[34m\u001b[1mOptimization Result\u001b[22m\u001b[39m\n",
       "\u001b[39m===================\u001b[39m\n",
       "  Iteration:       444\n",
       "  Minimum:         13325.9\n",
       "  Minimizer:       [189.078, 5.28706, 1569.87, …, 710.821]\n",
       "  Function calls:  18648\n",
       "  Total time:      13926.2970 s\n",
       "  Stop reason:     \n"
      ]
     },
     "metadata": {},
     "output_type": "display_data"
    },
    {
     "name": "stderr",
     "output_type": "stream",
     "text": [
      "\u001b[36m\u001b[1m[ \u001b[22m\u001b[39m\u001b[36m\u001b[1mInfo: \u001b[22m\u001b[39mCurrent Status of ECA\n"
     ]
    },
    {
     "data": {
      "text/html": [
       "<pre>\n",
       "Optimization Result\n",
       "===================\n",
       "  Iteration:       445\n",
       "  Minimum:         13325.9\n",
       "  Minimizer:       [189.076, 5.28706, 1569.76, …, 711.04]\n",
       "  Function calls:  18690\n",
       "  Total time:      13956.1210 s\n",
       "  Stop reason:     \n",
       "</pre>\n"
      ],
      "text/plain": [
       "\u001b[34m\u001b[1mOptimization Result\u001b[22m\u001b[39m\n",
       "\u001b[39m===================\u001b[39m\n",
       "  Iteration:       445\n",
       "  Minimum:         13325.9\n",
       "  Minimizer:       [189.076, 5.28706, 1569.76, …, 711.04]\n",
       "  Function calls:  18690\n",
       "  Total time:      13956.1210 s\n",
       "  Stop reason:     \n"
      ]
     },
     "metadata": {},
     "output_type": "display_data"
    },
    {
     "name": "stderr",
     "output_type": "stream",
     "text": [
      "\u001b[36m\u001b[1m[ \u001b[22m\u001b[39m\u001b[36m\u001b[1mInfo: \u001b[22m\u001b[39mCurrent Status of ECA\n"
     ]
    },
    {
     "data": {
      "text/html": [
       "<pre>\n",
       "Optimization Result\n",
       "===================\n",
       "  Iteration:       446\n",
       "  Minimum:         13325.9\n",
       "  Minimizer:       [189.076, 5.28706, 1569.76, …, 711.04]\n",
       "  Function calls:  18732\n",
       "  Total time:      13986.2850 s\n",
       "  Stop reason:     \n",
       "</pre>\n"
      ],
      "text/plain": [
       "\u001b[34m\u001b[1mOptimization Result\u001b[22m\u001b[39m\n",
       "\u001b[39m===================\u001b[39m\n",
       "  Iteration:       446\n",
       "  Minimum:         13325.9\n",
       "  Minimizer:       [189.076, 5.28706, 1569.76, …, 711.04]\n",
       "  Function calls:  18732\n",
       "  Total time:      13986.2850 s\n",
       "  Stop reason:     \n"
      ]
     },
     "metadata": {},
     "output_type": "display_data"
    },
    {
     "name": "stderr",
     "output_type": "stream",
     "text": [
      "\u001b[36m\u001b[1m[ \u001b[22m\u001b[39m\u001b[36m\u001b[1mInfo: \u001b[22m\u001b[39mCurrent Status of ECA\n"
     ]
    },
    {
     "data": {
      "text/html": [
       "<pre>\n",
       "Optimization Result\n",
       "===================\n",
       "  Iteration:       447\n",
       "  Minimum:         13325.9\n",
       "  Minimizer:       [189.065, 5.28708, 1569.83, …, 711.486]\n",
       "  Function calls:  18774\n",
       "  Total time:      14016.2550 s\n",
       "  Stop reason:     \n",
       "</pre>\n"
      ],
      "text/plain": [
       "\u001b[34m\u001b[1mOptimization Result\u001b[22m\u001b[39m\n",
       "\u001b[39m===================\u001b[39m\n",
       "  Iteration:       447\n",
       "  Minimum:         13325.9\n",
       "  Minimizer:       [189.065, 5.28708, 1569.83, …, 711.486]\n",
       "  Function calls:  18774\n",
       "  Total time:      14016.2550 s\n",
       "  Stop reason:     \n"
      ]
     },
     "metadata": {},
     "output_type": "display_data"
    },
    {
     "name": "stderr",
     "output_type": "stream",
     "text": [
      "\u001b[36m\u001b[1m[ \u001b[22m\u001b[39m\u001b[36m\u001b[1mInfo: \u001b[22m\u001b[39mCurrent Status of ECA\n"
     ]
    },
    {
     "data": {
      "text/html": [
       "<pre>\n",
       "Optimization Result\n",
       "===================\n",
       "  Iteration:       448\n",
       "  Minimum:         13325.9\n",
       "  Minimizer:       [189.019, 5.28645, 1569.68, …, 711.962]\n",
       "  Function calls:  18816\n",
       "  Total time:      14046.1800 s\n",
       "  Stop reason:     \n",
       "</pre>\n"
      ],
      "text/plain": [
       "\u001b[34m\u001b[1mOptimization Result\u001b[22m\u001b[39m\n",
       "\u001b[39m===================\u001b[39m\n",
       "  Iteration:       448\n",
       "  Minimum:         13325.9\n",
       "  Minimizer:       [189.019, 5.28645, 1569.68, …, 711.962]\n",
       "  Function calls:  18816\n",
       "  Total time:      14046.1800 s\n",
       "  Stop reason:     \n"
      ]
     },
     "metadata": {},
     "output_type": "display_data"
    },
    {
     "name": "stderr",
     "output_type": "stream",
     "text": [
      "\u001b[36m\u001b[1m[ \u001b[22m\u001b[39m\u001b[36m\u001b[1mInfo: \u001b[22m\u001b[39mCurrent Status of ECA\n"
     ]
    },
    {
     "data": {
      "text/html": [
       "<pre>\n",
       "Optimization Result\n",
       "===================\n",
       "  Iteration:       449\n",
       "  Minimum:         13325.9\n",
       "  Minimizer:       [189.022, 5.28654, 1569.74, …, 712.003]\n",
       "  Function calls:  18858\n",
       "  Total time:      14076.0940 s\n",
       "  Stop reason:     \n",
       "</pre>\n"
      ],
      "text/plain": [
       "\u001b[34m\u001b[1mOptimization Result\u001b[22m\u001b[39m\n",
       "\u001b[39m===================\u001b[39m\n",
       "  Iteration:       449\n",
       "  Minimum:         13325.9\n",
       "  Minimizer:       [189.022, 5.28654, 1569.74, …, 712.003]\n",
       "  Function calls:  18858\n",
       "  Total time:      14076.0940 s\n",
       "  Stop reason:     \n"
      ]
     },
     "metadata": {},
     "output_type": "display_data"
    },
    {
     "name": "stderr",
     "output_type": "stream",
     "text": [
      "\u001b[36m\u001b[1m[ \u001b[22m\u001b[39m\u001b[36m\u001b[1mInfo: \u001b[22m\u001b[39mCurrent Status of ECA\n"
     ]
    },
    {
     "data": {
      "text/html": [
       "<pre>\n",
       "Optimization Result\n",
       "===================\n",
       "  Iteration:       450\n",
       "  Minimum:         13325.9\n",
       "  Minimizer:       [189.001, 5.28612, 1569.83, …, 711.673]\n",
       "  Function calls:  18900\n",
       "  Total time:      14107.7290 s\n",
       "  Stop reason:     \n",
       "</pre>\n"
      ],
      "text/plain": [
       "\u001b[34m\u001b[1mOptimization Result\u001b[22m\u001b[39m\n",
       "\u001b[39m===================\u001b[39m\n",
       "  Iteration:       450\n",
       "  Minimum:         13325.9\n",
       "  Minimizer:       [189.001, 5.28612, 1569.83, …, 711.673]\n",
       "  Function calls:  18900\n",
       "  Total time:      14107.7290 s\n",
       "  Stop reason:     \n"
      ]
     },
     "metadata": {},
     "output_type": "display_data"
    },
    {
     "name": "stderr",
     "output_type": "stream",
     "text": [
      "\u001b[36m\u001b[1m[ \u001b[22m\u001b[39m\u001b[36m\u001b[1mInfo: \u001b[22m\u001b[39mCurrent Status of ECA\n"
     ]
    },
    {
     "data": {
      "text/html": [
       "<pre>\n",
       "Optimization Result\n",
       "===================\n",
       "  Iteration:       451\n",
       "  Minimum:         13325.9\n",
       "  Minimizer:       [188.933, 5.28523, 1569.68, …, 712.428]\n",
       "  Function calls:  18942\n",
       "  Total time:      14138.0040 s\n",
       "  Stop reason:     \n",
       "</pre>\n"
      ],
      "text/plain": [
       "\u001b[34m\u001b[1mOptimization Result\u001b[22m\u001b[39m\n",
       "\u001b[39m===================\u001b[39m\n",
       "  Iteration:       451\n",
       "  Minimum:         13325.9\n",
       "  Minimizer:       [188.933, 5.28523, 1569.68, …, 712.428]\n",
       "  Function calls:  18942\n",
       "  Total time:      14138.0040 s\n",
       "  Stop reason:     \n"
      ]
     },
     "metadata": {},
     "output_type": "display_data"
    },
    {
     "name": "stderr",
     "output_type": "stream",
     "text": [
      "\u001b[36m\u001b[1m[ \u001b[22m\u001b[39m\u001b[36m\u001b[1mInfo: \u001b[22m\u001b[39mCurrent Status of ECA\n"
     ]
    },
    {
     "data": {
      "text/html": [
       "<pre>\n",
       "Optimization Result\n",
       "===================\n",
       "  Iteration:       452\n",
       "  Minimum:         13325.9\n",
       "  Minimizer:       [188.916, 5.28518, 1569.8, …, 712.86]\n",
       "  Function calls:  18984\n",
       "  Total time:      14168.3000 s\n",
       "  Stop reason:     \n",
       "</pre>\n"
      ],
      "text/plain": [
       "\u001b[34m\u001b[1mOptimization Result\u001b[22m\u001b[39m\n",
       "\u001b[39m===================\u001b[39m\n",
       "  Iteration:       452\n",
       "  Minimum:         13325.9\n",
       "  Minimizer:       [188.916, 5.28518, 1569.8, …, 712.86]\n",
       "  Function calls:  18984\n",
       "  Total time:      14168.3000 s\n",
       "  Stop reason:     \n"
      ]
     },
     "metadata": {},
     "output_type": "display_data"
    },
    {
     "name": "stderr",
     "output_type": "stream",
     "text": [
      "\u001b[36m\u001b[1m[ \u001b[22m\u001b[39m\u001b[36m\u001b[1mInfo: \u001b[22m\u001b[39mCurrent Status of ECA\n"
     ]
    },
    {
     "data": {
      "text/html": [
       "<pre>\n",
       "Optimization Result\n",
       "===================\n",
       "  Iteration:       453\n",
       "  Minimum:         13325.9\n",
       "  Minimizer:       [188.868, 5.28451, 1569.64, …, 713.367]\n",
       "  Function calls:  19026\n",
       "  Total time:      14197.8850 s\n",
       "  Stop reason:     \n",
       "</pre>\n"
      ],
      "text/plain": [
       "\u001b[34m\u001b[1mOptimization Result\u001b[22m\u001b[39m\n",
       "\u001b[39m===================\u001b[39m\n",
       "  Iteration:       453\n",
       "  Minimum:         13325.9\n",
       "  Minimizer:       [188.868, 5.28451, 1569.64, …, 713.367]\n",
       "  Function calls:  19026\n",
       "  Total time:      14197.8850 s\n",
       "  Stop reason:     \n"
      ]
     },
     "metadata": {},
     "output_type": "display_data"
    },
    {
     "name": "stderr",
     "output_type": "stream",
     "text": [
      "\u001b[36m\u001b[1m[ \u001b[22m\u001b[39m\u001b[36m\u001b[1mInfo: \u001b[22m\u001b[39mCurrent Status of ECA\n"
     ]
    },
    {
     "data": {
      "text/html": [
       "<pre>\n",
       "Optimization Result\n",
       "===================\n",
       "  Iteration:       454\n",
       "  Minimum:         13325.9\n",
       "  Minimizer:       [188.909, 5.28501, 1569.37, …, 713.213]\n",
       "  Function calls:  19068\n",
       "  Total time:      14227.5610 s\n",
       "  Stop reason:     \n",
       "</pre>\n"
      ],
      "text/plain": [
       "\u001b[34m\u001b[1mOptimization Result\u001b[22m\u001b[39m\n",
       "\u001b[39m===================\u001b[39m\n",
       "  Iteration:       454\n",
       "  Minimum:         13325.9\n",
       "  Minimizer:       [188.909, 5.28501, 1569.37, …, 713.213]\n",
       "  Function calls:  19068\n",
       "  Total time:      14227.5610 s\n",
       "  Stop reason:     \n"
      ]
     },
     "metadata": {},
     "output_type": "display_data"
    },
    {
     "name": "stderr",
     "output_type": "stream",
     "text": [
      "\u001b[36m\u001b[1m[ \u001b[22m\u001b[39m\u001b[36m\u001b[1mInfo: \u001b[22m\u001b[39mCurrent Status of ECA\n"
     ]
    },
    {
     "data": {
      "text/html": [
       "<pre>\n",
       "Optimization Result\n",
       "===================\n",
       "  Iteration:       455\n",
       "  Minimum:         13325.9\n",
       "  Minimizer:       [188.858, 5.28445, 1569.95, …, 713.245]\n",
       "  Function calls:  19110\n",
       "  Total time:      14257.6180 s\n",
       "  Stop reason:     \n",
       "</pre>\n"
      ],
      "text/plain": [
       "\u001b[34m\u001b[1mOptimization Result\u001b[22m\u001b[39m\n",
       "\u001b[39m===================\u001b[39m\n",
       "  Iteration:       455\n",
       "  Minimum:         13325.9\n",
       "  Minimizer:       [188.858, 5.28445, 1569.95, …, 713.245]\n",
       "  Function calls:  19110\n",
       "  Total time:      14257.6180 s\n",
       "  Stop reason:     \n"
      ]
     },
     "metadata": {},
     "output_type": "display_data"
    },
    {
     "name": "stderr",
     "output_type": "stream",
     "text": [
      "\u001b[36m\u001b[1m[ \u001b[22m\u001b[39m\u001b[36m\u001b[1mInfo: \u001b[22m\u001b[39mCurrent Status of ECA\n"
     ]
    },
    {
     "data": {
      "text/html": [
       "<pre>\n",
       "Optimization Result\n",
       "===================\n",
       "  Iteration:       456\n",
       "  Minimum:         13325.9\n",
       "  Minimizer:       [188.864, 5.28438, 1569.69, …, 713.102]\n",
       "  Function calls:  19152\n",
       "  Total time:      14289.5920 s\n",
       "  Stop reason:     \n",
       "</pre>\n"
      ],
      "text/plain": [
       "\u001b[34m\u001b[1mOptimization Result\u001b[22m\u001b[39m\n",
       "\u001b[39m===================\u001b[39m\n",
       "  Iteration:       456\n",
       "  Minimum:         13325.9\n",
       "  Minimizer:       [188.864, 5.28438, 1569.69, …, 713.102]\n",
       "  Function calls:  19152\n",
       "  Total time:      14289.5920 s\n",
       "  Stop reason:     \n"
      ]
     },
     "metadata": {},
     "output_type": "display_data"
    },
    {
     "name": "stderr",
     "output_type": "stream",
     "text": [
      "\u001b[36m\u001b[1m[ \u001b[22m\u001b[39m\u001b[36m\u001b[1mInfo: \u001b[22m\u001b[39mCurrent Status of ECA\n"
     ]
    },
    {
     "data": {
      "text/html": [
       "<pre>\n",
       "Optimization Result\n",
       "===================\n",
       "  Iteration:       457\n",
       "  Minimum:         13325.9\n",
       "  Minimizer:       [188.927, 5.28523, 1569.57, …, 712.77]\n",
       "  Function calls:  19194\n",
       "  Total time:      14320.1320 s\n",
       "  Stop reason:     \n",
       "</pre>\n"
      ],
      "text/plain": [
       "\u001b[34m\u001b[1mOptimization Result\u001b[22m\u001b[39m\n",
       "\u001b[39m===================\u001b[39m\n",
       "  Iteration:       457\n",
       "  Minimum:         13325.9\n",
       "  Minimizer:       [188.927, 5.28523, 1569.57, …, 712.77]\n",
       "  Function calls:  19194\n",
       "  Total time:      14320.1320 s\n",
       "  Stop reason:     \n"
      ]
     },
     "metadata": {},
     "output_type": "display_data"
    },
    {
     "name": "stderr",
     "output_type": "stream",
     "text": [
      "\u001b[36m\u001b[1m[ \u001b[22m\u001b[39m\u001b[36m\u001b[1mInfo: \u001b[22m\u001b[39mCurrent Status of ECA\n"
     ]
    },
    {
     "data": {
      "text/html": [
       "<pre>\n",
       "Optimization Result\n",
       "===================\n",
       "  Iteration:       458\n",
       "  Minimum:         13325.9\n",
       "  Minimizer:       [188.885, 5.28453, 1569.77, …, 712.494]\n",
       "  Function calls:  19236\n",
       "  Total time:      14350.0630 s\n",
       "  Stop reason:     \n",
       "</pre>\n"
      ],
      "text/plain": [
       "\u001b[34m\u001b[1mOptimization Result\u001b[22m\u001b[39m\n",
       "\u001b[39m===================\u001b[39m\n",
       "  Iteration:       458\n",
       "  Minimum:         13325.9\n",
       "  Minimizer:       [188.885, 5.28453, 1569.77, …, 712.494]\n",
       "  Function calls:  19236\n",
       "  Total time:      14350.0630 s\n",
       "  Stop reason:     \n"
      ]
     },
     "metadata": {},
     "output_type": "display_data"
    },
    {
     "name": "stderr",
     "output_type": "stream",
     "text": [
      "\u001b[36m\u001b[1m[ \u001b[22m\u001b[39m\u001b[36m\u001b[1mInfo: \u001b[22m\u001b[39mCurrent Status of ECA\n"
     ]
    },
    {
     "data": {
      "text/html": [
       "<pre>\n",
       "Optimization Result\n",
       "===================\n",
       "  Iteration:       459\n",
       "  Minimum:         13325.9\n",
       "  Minimizer:       [188.885, 5.28453, 1569.77, …, 712.494]\n",
       "  Function calls:  19278\n",
       "  Total time:      14379.9500 s\n",
       "  Stop reason:     \n",
       "</pre>\n"
      ],
      "text/plain": [
       "\u001b[34m\u001b[1mOptimization Result\u001b[22m\u001b[39m\n",
       "\u001b[39m===================\u001b[39m\n",
       "  Iteration:       459\n",
       "  Minimum:         13325.9\n",
       "  Minimizer:       [188.885, 5.28453, 1569.77, …, 712.494]\n",
       "  Function calls:  19278\n",
       "  Total time:      14379.9500 s\n",
       "  Stop reason:     \n"
      ]
     },
     "metadata": {},
     "output_type": "display_data"
    },
    {
     "name": "stderr",
     "output_type": "stream",
     "text": [
      "\u001b[36m\u001b[1m[ \u001b[22m\u001b[39m\u001b[36m\u001b[1mInfo: \u001b[22m\u001b[39mCurrent Status of ECA\n"
     ]
    },
    {
     "data": {
      "text/html": [
       "<pre>\n",
       "Optimization Result\n",
       "===================\n",
       "  Iteration:       460\n",
       "  Minimum:         13325.9\n",
       "  Minimizer:       [188.849, 5.28409, 1569.78, …, 712.871]\n",
       "  Function calls:  19320\n",
       "  Total time:      14409.8420 s\n",
       "  Stop reason:     \n",
       "</pre>\n"
      ],
      "text/plain": [
       "\u001b[34m\u001b[1mOptimization Result\u001b[22m\u001b[39m\n",
       "\u001b[39m===================\u001b[39m\n",
       "  Iteration:       460\n",
       "  Minimum:         13325.9\n",
       "  Minimizer:       [188.849, 5.28409, 1569.78, …, 712.871]\n",
       "  Function calls:  19320\n",
       "  Total time:      14409.8420 s\n",
       "  Stop reason:     \n"
      ]
     },
     "metadata": {},
     "output_type": "display_data"
    },
    {
     "name": "stderr",
     "output_type": "stream",
     "text": [
      "\u001b[36m\u001b[1m[ \u001b[22m\u001b[39m\u001b[36m\u001b[1mInfo: \u001b[22m\u001b[39mCurrent Status of ECA\n"
     ]
    },
    {
     "data": {
      "text/html": [
       "<pre>\n",
       "Optimization Result\n",
       "===================\n",
       "  Iteration:       461\n",
       "  Minimum:         13325.9\n",
       "  Minimizer:       [188.82, 5.28362, 1569.57, …, 713.135]\n",
       "  Function calls:  19362\n",
       "  Total time:      14439.6330 s\n",
       "  Stop reason:     \n",
       "</pre>\n"
      ],
      "text/plain": [
       "\u001b[34m\u001b[1mOptimization Result\u001b[22m\u001b[39m\n",
       "\u001b[39m===================\u001b[39m\n",
       "  Iteration:       461\n",
       "  Minimum:         13325.9\n",
       "  Minimizer:       [188.82, 5.28362, 1569.57, …, 713.135]\n",
       "  Function calls:  19362\n",
       "  Total time:      14439.6330 s\n",
       "  Stop reason:     \n"
      ]
     },
     "metadata": {},
     "output_type": "display_data"
    },
    {
     "name": "stderr",
     "output_type": "stream",
     "text": [
      "\u001b[36m\u001b[1m[ \u001b[22m\u001b[39m\u001b[36m\u001b[1mInfo: \u001b[22m\u001b[39mCurrent Status of ECA\n"
     ]
    },
    {
     "data": {
      "text/html": [
       "<pre>\n",
       "Optimization Result\n",
       "===================\n",
       "  Iteration:       462\n",
       "  Minimum:         13325.9\n",
       "  Minimizer:       [188.82, 5.28362, 1569.57, …, 713.135]\n",
       "  Function calls:  19404\n",
       "  Total time:      14471.2910 s\n",
       "  Stop reason:     \n",
       "</pre>\n"
      ],
      "text/plain": [
       "\u001b[34m\u001b[1mOptimization Result\u001b[22m\u001b[39m\n",
       "\u001b[39m===================\u001b[39m\n",
       "  Iteration:       462\n",
       "  Minimum:         13325.9\n",
       "  Minimizer:       [188.82, 5.28362, 1569.57, …, 713.135]\n",
       "  Function calls:  19404\n",
       "  Total time:      14471.2910 s\n",
       "  Stop reason:     \n"
      ]
     },
     "metadata": {},
     "output_type": "display_data"
    },
    {
     "name": "stderr",
     "output_type": "stream",
     "text": [
      "\u001b[36m\u001b[1m[ \u001b[22m\u001b[39m\u001b[36m\u001b[1mInfo: \u001b[22m\u001b[39mCurrent Status of ECA\n"
     ]
    },
    {
     "data": {
      "text/html": [
       "<pre>\n",
       "Optimization Result\n",
       "===================\n",
       "  Iteration:       463\n",
       "  Minimum:         13325.9\n",
       "  Minimizer:       [188.778, 5.28292, 1569.49, …, 713.157]\n",
       "  Function calls:  19446\n",
       "  Total time:      14501.2000 s\n",
       "  Stop reason:     \n",
       "</pre>\n"
      ],
      "text/plain": [
       "\u001b[34m\u001b[1mOptimization Result\u001b[22m\u001b[39m\n",
       "\u001b[39m===================\u001b[39m\n",
       "  Iteration:       463\n",
       "  Minimum:         13325.9\n",
       "  Minimizer:       [188.778, 5.28292, 1569.49, …, 713.157]\n",
       "  Function calls:  19446\n",
       "  Total time:      14501.2000 s\n",
       "  Stop reason:     \n"
      ]
     },
     "metadata": {},
     "output_type": "display_data"
    },
    {
     "name": "stderr",
     "output_type": "stream",
     "text": [
      "\u001b[36m\u001b[1m[ \u001b[22m\u001b[39m\u001b[36m\u001b[1mInfo: \u001b[22m\u001b[39mCurrent Status of ECA\n"
     ]
    },
    {
     "data": {
      "text/html": [
       "<pre>\n",
       "Optimization Result\n",
       "===================\n",
       "  Iteration:       464\n",
       "  Minimum:         13325.9\n",
       "  Minimizer:       [188.778, 5.28292, 1569.49, …, 713.157]\n",
       "  Function calls:  19488\n",
       "  Total time:      14530.8570 s\n",
       "  Stop reason:     \n",
       "</pre>\n"
      ],
      "text/plain": [
       "\u001b[34m\u001b[1mOptimization Result\u001b[22m\u001b[39m\n",
       "\u001b[39m===================\u001b[39m\n",
       "  Iteration:       464\n",
       "  Minimum:         13325.9\n",
       "  Minimizer:       [188.778, 5.28292, 1569.49, …, 713.157]\n",
       "  Function calls:  19488\n",
       "  Total time:      14530.8570 s\n",
       "  Stop reason:     \n"
      ]
     },
     "metadata": {},
     "output_type": "display_data"
    },
    {
     "name": "stderr",
     "output_type": "stream",
     "text": [
      "\u001b[36m\u001b[1m[ \u001b[22m\u001b[39m\u001b[36m\u001b[1mInfo: \u001b[22m\u001b[39mCurrent Status of ECA\n"
     ]
    },
    {
     "data": {
      "text/html": [
       "<pre>\n",
       "Optimization Result\n",
       "===================\n",
       "  Iteration:       465\n",
       "  Minimum:         13325.9\n",
       "  Minimizer:       [188.778, 5.28292, 1569.49, …, 713.157]\n",
       "  Function calls:  19530\n",
       "  Total time:      14561.1200 s\n",
       "  Stop reason:     \n",
       "</pre>\n"
      ],
      "text/plain": [
       "\u001b[34m\u001b[1mOptimization Result\u001b[22m\u001b[39m\n",
       "\u001b[39m===================\u001b[39m\n",
       "  Iteration:       465\n",
       "  Minimum:         13325.9\n",
       "  Minimizer:       [188.778, 5.28292, 1569.49, …, 713.157]\n",
       "  Function calls:  19530\n",
       "  Total time:      14561.1200 s\n",
       "  Stop reason:     \n"
      ]
     },
     "metadata": {},
     "output_type": "display_data"
    },
    {
     "name": "stderr",
     "output_type": "stream",
     "text": [
      "\u001b[36m\u001b[1m[ \u001b[22m\u001b[39m\u001b[36m\u001b[1mInfo: \u001b[22m\u001b[39mCurrent Status of ECA\n"
     ]
    },
    {
     "data": {
      "text/html": [
       "<pre>\n",
       "Optimization Result\n",
       "===================\n",
       "  Iteration:       466\n",
       "  Minimum:         13325.9\n",
       "  Minimizer:       [188.778, 5.28292, 1569.49, …, 713.157]\n",
       "  Function calls:  19572\n",
       "  Total time:      14591.0940 s\n",
       "  Stop reason:     \n",
       "</pre>\n"
      ],
      "text/plain": [
       "\u001b[34m\u001b[1mOptimization Result\u001b[22m\u001b[39m\n",
       "\u001b[39m===================\u001b[39m\n",
       "  Iteration:       466\n",
       "  Minimum:         13325.9\n",
       "  Minimizer:       [188.778, 5.28292, 1569.49, …, 713.157]\n",
       "  Function calls:  19572\n",
       "  Total time:      14591.0940 s\n",
       "  Stop reason:     \n"
      ]
     },
     "metadata": {},
     "output_type": "display_data"
    },
    {
     "name": "stderr",
     "output_type": "stream",
     "text": [
      "\u001b[36m\u001b[1m[ \u001b[22m\u001b[39m\u001b[36m\u001b[1mInfo: \u001b[22m\u001b[39mCurrent Status of ECA\n"
     ]
    },
    {
     "data": {
      "text/html": [
       "<pre>\n",
       "Optimization Result\n",
       "===================\n",
       "  Iteration:       467\n",
       "  Minimum:         13325.9\n",
       "  Minimizer:       [188.817, 5.28281, 1569.62, …, 711.012]\n",
       "  Function calls:  19614\n",
       "  Total time:      14621.0820 s\n",
       "  Stop reason:     \n",
       "</pre>\n"
      ],
      "text/plain": [
       "\u001b[34m\u001b[1mOptimization Result\u001b[22m\u001b[39m\n",
       "\u001b[39m===================\u001b[39m\n",
       "  Iteration:       467\n",
       "  Minimum:         13325.9\n",
       "  Minimizer:       [188.817, 5.28281, 1569.62, …, 711.012]\n",
       "  Function calls:  19614\n",
       "  Total time:      14621.0820 s\n",
       "  Stop reason:     \n"
      ]
     },
     "metadata": {},
     "output_type": "display_data"
    },
    {
     "name": "stderr",
     "output_type": "stream",
     "text": [
      "\u001b[36m\u001b[1m[ \u001b[22m\u001b[39m\u001b[36m\u001b[1mInfo: \u001b[22m\u001b[39mCurrent Status of ECA\n"
     ]
    },
    {
     "data": {
      "text/html": [
       "<pre>\n",
       "Optimization Result\n",
       "===================\n",
       "  Iteration:       468\n",
       "  Minimum:         13325.9\n",
       "  Minimizer:       [188.808, 5.28273, 1569.6, …, 711.195]\n",
       "  Function calls:  19656\n",
       "  Total time:      14652.9190 s\n",
       "  Stop reason:     \n",
       "</pre>\n"
      ],
      "text/plain": [
       "\u001b[34m\u001b[1mOptimization Result\u001b[22m\u001b[39m\n",
       "\u001b[39m===================\u001b[39m\n",
       "  Iteration:       468\n",
       "  Minimum:         13325.9\n",
       "  Minimizer:       [188.808, 5.28273, 1569.6, …, 711.195]\n",
       "  Function calls:  19656\n",
       "  Total time:      14652.9190 s\n",
       "  Stop reason:     \n"
      ]
     },
     "metadata": {},
     "output_type": "display_data"
    },
    {
     "name": "stderr",
     "output_type": "stream",
     "text": [
      "\u001b[36m\u001b[1m[ \u001b[22m\u001b[39m\u001b[36m\u001b[1mInfo: \u001b[22m\u001b[39mCurrent Status of ECA\n"
     ]
    },
    {
     "data": {
      "text/html": [
       "<pre>\n",
       "Optimization Result\n",
       "===================\n",
       "  Iteration:       469\n",
       "  Minimum:         13325.9\n",
       "  Minimizer:       [188.811, 5.28262, 1569.71, …, 710.628]\n",
       "  Function calls:  19698\n",
       "  Total time:      14683.0630 s\n",
       "  Stop reason:     \n",
       "</pre>\n"
      ],
      "text/plain": [
       "\u001b[34m\u001b[1mOptimization Result\u001b[22m\u001b[39m\n",
       "\u001b[39m===================\u001b[39m\n",
       "  Iteration:       469\n",
       "  Minimum:         13325.9\n",
       "  Minimizer:       [188.811, 5.28262, 1569.71, …, 710.628]\n",
       "  Function calls:  19698\n",
       "  Total time:      14683.0630 s\n",
       "  Stop reason:     \n"
      ]
     },
     "metadata": {},
     "output_type": "display_data"
    },
    {
     "name": "stderr",
     "output_type": "stream",
     "text": [
      "\u001b[36m\u001b[1m[ \u001b[22m\u001b[39m\u001b[36m\u001b[1mInfo: \u001b[22m\u001b[39mCurrent Status of ECA\n"
     ]
    },
    {
     "data": {
      "text/html": [
       "<pre>\n",
       "Optimization Result\n",
       "===================\n",
       "  Iteration:       470\n",
       "  Minimum:         13325.9\n",
       "  Minimizer:       [188.79, 5.28266, 1569.39, …, 712.02]\n",
       "  Function calls:  19740\n",
       "  Total time:      14713.0680 s\n",
       "  Stop reason:     \n",
       "</pre>\n"
      ],
      "text/plain": [
       "\u001b[34m\u001b[1mOptimization Result\u001b[22m\u001b[39m\n",
       "\u001b[39m===================\u001b[39m\n",
       "  Iteration:       470\n",
       "  Minimum:         13325.9\n",
       "  Minimizer:       [188.79, 5.28266, 1569.39, …, 712.02]\n",
       "  Function calls:  19740\n",
       "  Total time:      14713.0680 s\n",
       "  Stop reason:     \n"
      ]
     },
     "metadata": {},
     "output_type": "display_data"
    },
    {
     "name": "stderr",
     "output_type": "stream",
     "text": [
      "\u001b[36m\u001b[1m[ \u001b[22m\u001b[39m\u001b[36m\u001b[1mInfo: \u001b[22m\u001b[39mCurrent Status of ECA\n"
     ]
    },
    {
     "data": {
      "text/html": [
       "<pre>\n",
       "Optimization Result\n",
       "===================\n",
       "  Iteration:       471\n",
       "  Minimum:         13325.9\n",
       "  Minimizer:       [188.79, 5.28266, 1569.39, …, 712.02]\n",
       "  Function calls:  19782\n",
       "  Total time:      14742.8750 s\n",
       "  Stop reason:     \n",
       "</pre>\n"
      ],
      "text/plain": [
       "\u001b[34m\u001b[1mOptimization Result\u001b[22m\u001b[39m\n",
       "\u001b[39m===================\u001b[39m\n",
       "  Iteration:       471\n",
       "  Minimum:         13325.9\n",
       "  Minimizer:       [188.79, 5.28266, 1569.39, …, 712.02]\n",
       "  Function calls:  19782\n",
       "  Total time:      14742.8750 s\n",
       "  Stop reason:     \n"
      ]
     },
     "metadata": {},
     "output_type": "display_data"
    },
    {
     "name": "stderr",
     "output_type": "stream",
     "text": [
      "\u001b[36m\u001b[1m[ \u001b[22m\u001b[39m\u001b[36m\u001b[1mInfo: \u001b[22m\u001b[39mCurrent Status of ECA\n"
     ]
    },
    {
     "data": {
      "text/html": [
       "<pre>\n",
       "Optimization Result\n",
       "===================\n",
       "  Iteration:       472\n",
       "  Minimum:         13325.9\n",
       "  Minimizer:       [188.79, 5.28239, 1569.49, …, 711.195]\n",
       "  Function calls:  19824\n",
       "  Total time:      14773.0660 s\n",
       "  Stop reason:     \n",
       "</pre>\n"
      ],
      "text/plain": [
       "\u001b[34m\u001b[1mOptimization Result\u001b[22m\u001b[39m\n",
       "\u001b[39m===================\u001b[39m\n",
       "  Iteration:       472\n",
       "  Minimum:         13325.9\n",
       "  Minimizer:       [188.79, 5.28239, 1569.49, …, 711.195]\n",
       "  Function calls:  19824\n",
       "  Total time:      14773.0660 s\n",
       "  Stop reason:     \n"
      ]
     },
     "metadata": {},
     "output_type": "display_data"
    },
    {
     "name": "stderr",
     "output_type": "stream",
     "text": [
      "\u001b[36m\u001b[1m[ \u001b[22m\u001b[39m\u001b[36m\u001b[1mInfo: \u001b[22m\u001b[39mCurrent Status of ECA\n"
     ]
    },
    {
     "data": {
      "text/html": [
       "<pre>\n",
       "Optimization Result\n",
       "===================\n",
       "  Iteration:       473\n",
       "  Minimum:         13325.9\n",
       "  Minimizer:       [188.782, 5.28245, 1569.63, …, 711.544]\n",
       "  Function calls:  19866\n",
       "  Total time:      14802.9440 s\n",
       "  Stop reason:     \n",
       "</pre>\n"
      ],
      "text/plain": [
       "\u001b[34m\u001b[1mOptimization Result\u001b[22m\u001b[39m\n",
       "\u001b[39m===================\u001b[39m\n",
       "  Iteration:       473\n",
       "  Minimum:         13325.9\n",
       "  Minimizer:       [188.782, 5.28245, 1569.63, …, 711.544]\n",
       "  Function calls:  19866\n",
       "  Total time:      14802.9440 s\n",
       "  Stop reason:     \n"
      ]
     },
     "metadata": {},
     "output_type": "display_data"
    },
    {
     "name": "stderr",
     "output_type": "stream",
     "text": [
      "\u001b[36m\u001b[1m[ \u001b[22m\u001b[39m\u001b[36m\u001b[1mInfo: \u001b[22m\u001b[39mCurrent Status of ECA\n"
     ]
    },
    {
     "data": {
      "text/html": [
       "<pre>\n",
       "Optimization Result\n",
       "===================\n",
       "  Iteration:       474\n",
       "  Minimum:         13325.9\n",
       "  Minimizer:       [188.782, 5.28245, 1569.63, …, 711.544]\n",
       "  Function calls:  19908\n",
       "  Total time:      14834.9500 s\n",
       "  Stop reason:     \n",
       "</pre>\n"
      ],
      "text/plain": [
       "\u001b[34m\u001b[1mOptimization Result\u001b[22m\u001b[39m\n",
       "\u001b[39m===================\u001b[39m\n",
       "  Iteration:       474\n",
       "  Minimum:         13325.9\n",
       "  Minimizer:       [188.782, 5.28245, 1569.63, …, 711.544]\n",
       "  Function calls:  19908\n",
       "  Total time:      14834.9500 s\n",
       "  Stop reason:     \n"
      ]
     },
     "metadata": {},
     "output_type": "display_data"
    },
    {
     "name": "stderr",
     "output_type": "stream",
     "text": [
      "\u001b[36m\u001b[1m[ \u001b[22m\u001b[39m\u001b[36m\u001b[1mInfo: \u001b[22m\u001b[39mCurrent Status of ECA\n"
     ]
    },
    {
     "data": {
      "text/html": [
       "<pre>\n",
       "Optimization Result\n",
       "===================\n",
       "  Iteration:       475\n",
       "  Minimum:         13325.9\n",
       "  Minimizer:       [188.782, 5.28245, 1569.63, …, 711.544]\n",
       "  Function calls:  19950\n",
       "  Total time:      14865.0740 s\n",
       "  Stop reason:     \n",
       "</pre>\n"
      ],
      "text/plain": [
       "\u001b[34m\u001b[1mOptimization Result\u001b[22m\u001b[39m\n",
       "\u001b[39m===================\u001b[39m\n",
       "  Iteration:       475\n",
       "  Minimum:         13325.9\n",
       "  Minimizer:       [188.782, 5.28245, 1569.63, …, 711.544]\n",
       "  Function calls:  19950\n",
       "  Total time:      14865.0740 s\n",
       "  Stop reason:     \n"
      ]
     },
     "metadata": {},
     "output_type": "display_data"
    },
    {
     "name": "stderr",
     "output_type": "stream",
     "text": [
      "\u001b[36m\u001b[1m[ \u001b[22m\u001b[39m\u001b[36m\u001b[1mInfo: \u001b[22m\u001b[39mCurrent Status of ECA\n"
     ]
    },
    {
     "data": {
      "text/html": [
       "<pre>\n",
       "Optimization Result\n",
       "===================\n",
       "  Iteration:       476\n",
       "  Minimum:         13325.9\n",
       "  Minimizer:       [188.773, 5.28234, 1569.4, …, 711.889]\n",
       "  Function calls:  19992\n",
       "  Total time:      14895.1680 s\n",
       "  Stop reason:     \n",
       "</pre>\n"
      ],
      "text/plain": [
       "\u001b[34m\u001b[1mOptimization Result\u001b[22m\u001b[39m\n",
       "\u001b[39m===================\u001b[39m\n",
       "  Iteration:       476\n",
       "  Minimum:         13325.9\n",
       "  Minimizer:       [188.773, 5.28234, 1569.4, …, 711.889]\n",
       "  Function calls:  19992\n",
       "  Total time:      14895.1680 s\n",
       "  Stop reason:     \n"
      ]
     },
     "metadata": {},
     "output_type": "display_data"
    },
    {
     "name": "stderr",
     "output_type": "stream",
     "text": [
      "\u001b[36m\u001b[1m[ \u001b[22m\u001b[39m\u001b[36m\u001b[1mInfo: \u001b[22m\u001b[39mCurrent Status of ECA\n"
     ]
    },
    {
     "data": {
      "text/html": [
       "<pre>\n",
       "Optimization Result\n",
       "===================\n",
       "  Iteration:       477\n",
       "  Minimum:         13325.9\n",
       "  Minimizer:       [188.746, 5.28187, 1569.37, …, 711.851]\n",
       "  Function calls:  20034\n",
       "  Total time:      14925.0940 s\n",
       "  Stop reason:     \n",
       "</pre>\n"
      ],
      "text/plain": [
       "\u001b[34m\u001b[1mOptimization Result\u001b[22m\u001b[39m\n",
       "\u001b[39m===================\u001b[39m\n",
       "  Iteration:       477\n",
       "  Minimum:         13325.9\n",
       "  Minimizer:       [188.746, 5.28187, 1569.37, …, 711.851]\n",
       "  Function calls:  20034\n",
       "  Total time:      14925.0940 s\n",
       "  Stop reason:     \n"
      ]
     },
     "metadata": {},
     "output_type": "display_data"
    },
    {
     "name": "stderr",
     "output_type": "stream",
     "text": [
      "\u001b[36m\u001b[1m[ \u001b[22m\u001b[39m\u001b[36m\u001b[1mInfo: \u001b[22m\u001b[39mCurrent Status of ECA\n"
     ]
    },
    {
     "data": {
      "text/html": [
       "<pre>\n",
       "Optimization Result\n",
       "===================\n",
       "  Iteration:       478\n",
       "  Minimum:         13325.9\n",
       "  Minimizer:       [188.725, 5.28165, 1569.42, …, 712.101]\n",
       "  Function calls:  20076\n",
       "  Total time:      14954.9650 s\n",
       "  Stop reason:     \n",
       "</pre>\n"
      ],
      "text/plain": [
       "\u001b[34m\u001b[1mOptimization Result\u001b[22m\u001b[39m\n",
       "\u001b[39m===================\u001b[39m\n",
       "  Iteration:       478\n",
       "  Minimum:         13325.9\n",
       "  Minimizer:       [188.725, 5.28165, 1569.42, …, 712.101]\n",
       "  Function calls:  20076\n",
       "  Total time:      14954.9650 s\n",
       "  Stop reason:     \n"
      ]
     },
     "metadata": {},
     "output_type": "display_data"
    },
    {
     "name": "stderr",
     "output_type": "stream",
     "text": [
      "\u001b[36m\u001b[1m[ \u001b[22m\u001b[39m\u001b[36m\u001b[1mInfo: \u001b[22m\u001b[39mCurrent Status of ECA\n"
     ]
    },
    {
     "data": {
      "text/html": [
       "<pre>\n",
       "Optimization Result\n",
       "===================\n",
       "  Iteration:       479\n",
       "  Minimum:         13325.9\n",
       "  Minimizer:       [188.737, 5.28184, 1569.5, …, 711.998]\n",
       "  Function calls:  20118\n",
       "  Total time:      14984.8600 s\n",
       "  Stop reason:     \n",
       "</pre>\n"
      ],
      "text/plain": [
       "\u001b[34m\u001b[1mOptimization Result\u001b[22m\u001b[39m\n",
       "\u001b[39m===================\u001b[39m\n",
       "  Iteration:       479\n",
       "  Minimum:         13325.9\n",
       "  Minimizer:       [188.737, 5.28184, 1569.5, …, 711.998]\n",
       "  Function calls:  20118\n",
       "  Total time:      14984.8600 s\n",
       "  Stop reason:     \n"
      ]
     },
     "metadata": {},
     "output_type": "display_data"
    },
    {
     "name": "stderr",
     "output_type": "stream",
     "text": [
      "\u001b[36m\u001b[1m[ \u001b[22m\u001b[39m\u001b[36m\u001b[1mInfo: \u001b[22m\u001b[39mCurrent Status of ECA\n"
     ]
    },
    {
     "data": {
      "text/html": [
       "<pre>\n",
       "Optimization Result\n",
       "===================\n",
       "  Iteration:       480\n",
       "  Minimum:         13325.9\n",
       "  Minimizer:       [188.735, 5.28181, 1569.5, …, 712.009]\n",
       "  Function calls:  20160\n",
       "  Total time:      15017.3150 s\n",
       "  Stop reason:     \n",
       "</pre>\n"
      ],
      "text/plain": [
       "\u001b[34m\u001b[1mOptimization Result\u001b[22m\u001b[39m\n",
       "\u001b[39m===================\u001b[39m\n",
       "  Iteration:       480\n",
       "  Minimum:         13325.9\n",
       "  Minimizer:       [188.735, 5.28181, 1569.5, …, 712.009]\n",
       "  Function calls:  20160\n",
       "  Total time:      15017.3150 s\n",
       "  Stop reason:     \n"
      ]
     },
     "metadata": {},
     "output_type": "display_data"
    },
    {
     "name": "stderr",
     "output_type": "stream",
     "text": [
      "\u001b[36m\u001b[1m[ \u001b[22m\u001b[39m\u001b[36m\u001b[1mInfo: \u001b[22m\u001b[39mCurrent Status of ECA\n"
     ]
    },
    {
     "data": {
      "text/html": [
       "<pre>\n",
       "Optimization Result\n",
       "===================\n",
       "  Iteration:       481\n",
       "  Minimum:         13325.9\n",
       "  Minimizer:       [188.735, 5.28181, 1569.5, …, 712.009]\n",
       "  Function calls:  20202\n",
       "  Total time:      15047.1730 s\n",
       "  Stop reason:     \n",
       "</pre>\n"
      ],
      "text/plain": [
       "\u001b[34m\u001b[1mOptimization Result\u001b[22m\u001b[39m\n",
       "\u001b[39m===================\u001b[39m\n",
       "  Iteration:       481\n",
       "  Minimum:         13325.9\n",
       "  Minimizer:       [188.735, 5.28181, 1569.5, …, 712.009]\n",
       "  Function calls:  20202\n",
       "  Total time:      15047.1730 s\n",
       "  Stop reason:     \n"
      ]
     },
     "metadata": {},
     "output_type": "display_data"
    },
    {
     "name": "stderr",
     "output_type": "stream",
     "text": [
      "\u001b[36m\u001b[1m[ \u001b[22m\u001b[39m\u001b[36m\u001b[1mInfo: \u001b[22m\u001b[39mCurrent Status of ECA\n"
     ]
    },
    {
     "data": {
      "text/html": [
       "<pre>\n",
       "Optimization Result\n",
       "===================\n",
       "  Iteration:       482\n",
       "  Minimum:         13325.9\n",
       "  Minimizer:       [188.735, 5.28181, 1569.5, …, 712.009]\n",
       "  Function calls:  20244\n",
       "  Total time:      15076.8240 s\n",
       "  Stop reason:     \n",
       "</pre>\n"
      ],
      "text/plain": [
       "\u001b[34m\u001b[1mOptimization Result\u001b[22m\u001b[39m\n",
       "\u001b[39m===================\u001b[39m\n",
       "  Iteration:       482\n",
       "  Minimum:         13325.9\n",
       "  Minimizer:       [188.735, 5.28181, 1569.5, …, 712.009]\n",
       "  Function calls:  20244\n",
       "  Total time:      15076.8240 s\n",
       "  Stop reason:     \n"
      ]
     },
     "metadata": {},
     "output_type": "display_data"
    },
    {
     "name": "stderr",
     "output_type": "stream",
     "text": [
      "\u001b[36m\u001b[1m[ \u001b[22m\u001b[39m\u001b[36m\u001b[1mInfo: \u001b[22m\u001b[39mCurrent Status of ECA\n"
     ]
    },
    {
     "data": {
      "text/html": [
       "<pre>\n",
       "Optimization Result\n",
       "===================\n",
       "  Iteration:       483\n",
       "  Minimum:         13325.9\n",
       "  Minimizer:       [188.686, 5.28119, 1569.5, …, 712.473]\n",
       "  Function calls:  20286\n",
       "  Total time:      15107.6290 s\n",
       "  Stop reason:     \n",
       "</pre>\n"
      ],
      "text/plain": [
       "\u001b[34m\u001b[1mOptimization Result\u001b[22m\u001b[39m\n",
       "\u001b[39m===================\u001b[39m\n",
       "  Iteration:       483\n",
       "  Minimum:         13325.9\n",
       "  Minimizer:       [188.686, 5.28119, 1569.5, …, 712.473]\n",
       "  Function calls:  20286\n",
       "  Total time:      15107.6290 s\n",
       "  Stop reason:     \n"
      ]
     },
     "metadata": {},
     "output_type": "display_data"
    },
    {
     "name": "stderr",
     "output_type": "stream",
     "text": [
      "\u001b[36m\u001b[1m[ \u001b[22m\u001b[39m\u001b[36m\u001b[1mInfo: \u001b[22m\u001b[39mCurrent Status of ECA\n"
     ]
    },
    {
     "data": {
      "text/html": [
       "<pre>\n",
       "Optimization Result\n",
       "===================\n",
       "  Iteration:       484\n",
       "  Minimum:         13325.9\n",
       "  Minimizer:       [188.686, 5.28119, 1569.5, …, 712.473]\n",
       "  Function calls:  20328\n",
       "  Total time:      15138.4650 s\n",
       "  Stop reason:     \n",
       "</pre>\n"
      ],
      "text/plain": [
       "\u001b[34m\u001b[1mOptimization Result\u001b[22m\u001b[39m\n",
       "\u001b[39m===================\u001b[39m\n",
       "  Iteration:       484\n",
       "  Minimum:         13325.9\n",
       "  Minimizer:       [188.686, 5.28119, 1569.5, …, 712.473]\n",
       "  Function calls:  20328\n",
       "  Total time:      15138.4650 s\n",
       "  Stop reason:     \n"
      ]
     },
     "metadata": {},
     "output_type": "display_data"
    },
    {
     "name": "stderr",
     "output_type": "stream",
     "text": [
      "\u001b[36m\u001b[1m[ \u001b[22m\u001b[39m\u001b[36m\u001b[1mInfo: \u001b[22m\u001b[39mCurrent Status of ECA\n"
     ]
    },
    {
     "data": {
      "text/html": [
       "<pre>\n",
       "Optimization Result\n",
       "===================\n",
       "  Iteration:       485\n",
       "  Minimum:         13325.9\n",
       "  Minimizer:       [188.677, 5.28107, 1569.52, …, 712.537]\n",
       "  Function calls:  20370\n",
       "  Total time:      15177.3630 s\n",
       "  Stop reason:     \n",
       "</pre>\n"
      ],
      "text/plain": [
       "\u001b[34m\u001b[1mOptimization Result\u001b[22m\u001b[39m\n",
       "\u001b[39m===================\u001b[39m\n",
       "  Iteration:       485\n",
       "  Minimum:         13325.9\n",
       "  Minimizer:       [188.677, 5.28107, 1569.52, …, 712.537]\n",
       "  Function calls:  20370\n",
       "  Total time:      15177.3630 s\n",
       "  Stop reason:     \n"
      ]
     },
     "metadata": {},
     "output_type": "display_data"
    },
    {
     "name": "stderr",
     "output_type": "stream",
     "text": [
      "\u001b[36m\u001b[1m[ \u001b[22m\u001b[39m\u001b[36m\u001b[1mInfo: \u001b[22m\u001b[39mCurrent Status of ECA\n"
     ]
    },
    {
     "data": {
      "text/html": [
       "<pre>\n",
       "Optimization Result\n",
       "===================\n",
       "  Iteration:       486\n",
       "  Minimum:         13325.9\n",
       "  Minimizer:       [188.677, 5.28107, 1569.52, …, 712.537]\n",
       "  Function calls:  20412\n",
       "  Total time:      15216.4980 s\n",
       "  Stop reason:     \n",
       "</pre>\n"
      ],
      "text/plain": [
       "\u001b[34m\u001b[1mOptimization Result\u001b[22m\u001b[39m\n",
       "\u001b[39m===================\u001b[39m\n",
       "  Iteration:       486\n",
       "  Minimum:         13325.9\n",
       "  Minimizer:       [188.677, 5.28107, 1569.52, …, 712.537]\n",
       "  Function calls:  20412\n",
       "  Total time:      15216.4980 s\n",
       "  Stop reason:     \n"
      ]
     },
     "metadata": {},
     "output_type": "display_data"
    },
    {
     "name": "stderr",
     "output_type": "stream",
     "text": [
      "\u001b[36m\u001b[1m[ \u001b[22m\u001b[39m\u001b[36m\u001b[1mInfo: \u001b[22m\u001b[39mCurrent Status of ECA\n"
     ]
    },
    {
     "data": {
      "text/html": [
       "<pre>\n",
       "Optimization Result\n",
       "===================\n",
       "  Iteration:       487\n",
       "  Minimum:         13325.9\n",
       "  Minimizer:       [188.66, 5.28081, 1569.53, …, 712.54]\n",
       "  Function calls:  20454\n",
       "  Total time:      15248.3550 s\n",
       "  Stop reason:     \n",
       "</pre>\n"
      ],
      "text/plain": [
       "\u001b[34m\u001b[1mOptimization Result\u001b[22m\u001b[39m\n",
       "\u001b[39m===================\u001b[39m\n",
       "  Iteration:       487\n",
       "  Minimum:         13325.9\n",
       "  Minimizer:       [188.66, 5.28081, 1569.53, …, 712.54]\n",
       "  Function calls:  20454\n",
       "  Total time:      15248.3550 s\n",
       "  Stop reason:     \n"
      ]
     },
     "metadata": {},
     "output_type": "display_data"
    },
    {
     "name": "stderr",
     "output_type": "stream",
     "text": [
      "\u001b[36m\u001b[1m[ \u001b[22m\u001b[39m\u001b[36m\u001b[1mInfo: \u001b[22m\u001b[39mCurrent Status of ECA\n"
     ]
    },
    {
     "data": {
      "text/html": [
       "<pre>\n",
       "Optimization Result\n",
       "===================\n",
       "  Iteration:       488\n",
       "  Minimum:         13325.9\n",
       "  Minimizer:       [188.678, 5.28104, 1569.51, …, 712.386]\n",
       "  Function calls:  20496\n",
       "  Total time:      15278.4960 s\n",
       "  Stop reason:     \n",
       "</pre>\n"
      ],
      "text/plain": [
       "\u001b[34m\u001b[1mOptimization Result\u001b[22m\u001b[39m\n",
       "\u001b[39m===================\u001b[39m\n",
       "  Iteration:       488\n",
       "  Minimum:         13325.9\n",
       "  Minimizer:       [188.678, 5.28104, 1569.51, …, 712.386]\n",
       "  Function calls:  20496\n",
       "  Total time:      15278.4960 s\n",
       "  Stop reason:     \n"
      ]
     },
     "metadata": {},
     "output_type": "display_data"
    },
    {
     "name": "stderr",
     "output_type": "stream",
     "text": [
      "\u001b[36m\u001b[1m[ \u001b[22m\u001b[39m\u001b[36m\u001b[1mInfo: \u001b[22m\u001b[39mCurrent Status of ECA\n"
     ]
    },
    {
     "data": {
      "text/html": [
       "<pre>\n",
       "Optimization Result\n",
       "===================\n",
       "  Iteration:       489\n",
       "  Minimum:         13325.9\n",
       "  Minimizer:       [188.675, 5.281, 1569.46, …, 712.459]\n",
       "  Function calls:  20538\n",
       "  Total time:      15308.5870 s\n",
       "  Stop reason:     \n",
       "</pre>\n"
      ],
      "text/plain": [
       "\u001b[34m\u001b[1mOptimization Result\u001b[22m\u001b[39m\n",
       "\u001b[39m===================\u001b[39m\n",
       "  Iteration:       489\n",
       "  Minimum:         13325.9\n",
       "  Minimizer:       [188.675, 5.281, 1569.46, …, 712.459]\n",
       "  Function calls:  20538\n",
       "  Total time:      15308.5870 s\n",
       "  Stop reason:     \n"
      ]
     },
     "metadata": {},
     "output_type": "display_data"
    },
    {
     "name": "stderr",
     "output_type": "stream",
     "text": [
      "\u001b[36m\u001b[1m[ \u001b[22m\u001b[39m\u001b[36m\u001b[1mInfo: \u001b[22m\u001b[39mCurrent Status of ECA\n"
     ]
    },
    {
     "data": {
      "text/html": [
       "<pre>\n",
       "Optimization Result\n",
       "===================\n",
       "  Iteration:       490\n",
       "  Minimum:         13325.9\n",
       "  Minimizer:       [188.653, 5.28072, 1569.51, …, 712.613]\n",
       "  Function calls:  20580\n",
       "  Total time:      15338.7370 s\n",
       "  Stop reason:     \n",
       "</pre>\n"
      ],
      "text/plain": [
       "\u001b[34m\u001b[1mOptimization Result\u001b[22m\u001b[39m\n",
       "\u001b[39m===================\u001b[39m\n",
       "  Iteration:       490\n",
       "  Minimum:         13325.9\n",
       "  Minimizer:       [188.653, 5.28072, 1569.51, …, 712.613]\n",
       "  Function calls:  20580\n",
       "  Total time:      15338.7370 s\n",
       "  Stop reason:     \n"
      ]
     },
     "metadata": {},
     "output_type": "display_data"
    },
    {
     "name": "stderr",
     "output_type": "stream",
     "text": [
      "\u001b[36m\u001b[1m[ \u001b[22m\u001b[39m\u001b[36m\u001b[1mInfo: \u001b[22m\u001b[39mCurrent Status of ECA\n"
     ]
    },
    {
     "data": {
      "text/html": [
       "<pre>\n",
       "Optimization Result\n",
       "===================\n",
       "  Iteration:       491\n",
       "  Minimum:         13325.9\n",
       "  Minimizer:       [188.653, 5.28072, 1569.51, …, 712.613]\n",
       "  Function calls:  20622\n",
       "  Total time:      15369.0000 s\n",
       "  Stop reason:     \n",
       "</pre>\n"
      ],
      "text/plain": [
       "\u001b[34m\u001b[1mOptimization Result\u001b[22m\u001b[39m\n",
       "\u001b[39m===================\u001b[39m\n",
       "  Iteration:       491\n",
       "  Minimum:         13325.9\n",
       "  Minimizer:       [188.653, 5.28072, 1569.51, …, 712.613]\n",
       "  Function calls:  20622\n",
       "  Total time:      15369.0000 s\n",
       "  Stop reason:     \n"
      ]
     },
     "metadata": {},
     "output_type": "display_data"
    },
    {
     "name": "stderr",
     "output_type": "stream",
     "text": [
      "\u001b[36m\u001b[1m[ \u001b[22m\u001b[39m\u001b[36m\u001b[1mInfo: \u001b[22m\u001b[39mCurrent Status of ECA\n"
     ]
    },
    {
     "data": {
      "text/html": [
       "<pre>\n",
       "Optimization Result\n",
       "===================\n",
       "  Iteration:       492\n",
       "  Minimum:         13325.9\n",
       "  Minimizer:       [188.653, 5.28072, 1569.51, …, 712.613]\n",
       "  Function calls:  20664\n",
       "  Total time:      15400.4080 s\n",
       "  Stop reason:     \n",
       "</pre>\n"
      ],
      "text/plain": [
       "\u001b[34m\u001b[1mOptimization Result\u001b[22m\u001b[39m\n",
       "\u001b[39m===================\u001b[39m\n",
       "  Iteration:       492\n",
       "  Minimum:         13325.9\n",
       "  Minimizer:       [188.653, 5.28072, 1569.51, …, 712.613]\n",
       "  Function calls:  20664\n",
       "  Total time:      15400.4080 s\n",
       "  Stop reason:     \n"
      ]
     },
     "metadata": {},
     "output_type": "display_data"
    },
    {
     "name": "stderr",
     "output_type": "stream",
     "text": [
      "\u001b[36m\u001b[1m[ \u001b[22m\u001b[39m\u001b[36m\u001b[1mInfo: \u001b[22m\u001b[39mCurrent Status of ECA\n"
     ]
    },
    {
     "data": {
      "text/html": [
       "<pre>\n",
       "Optimization Result\n",
       "===================\n",
       "  Iteration:       493\n",
       "  Minimum:         13325.9\n",
       "  Minimizer:       [188.646, 5.2806, 1569.51, …, 712.621]\n",
       "  Function calls:  20706\n",
       "  Total time:      15429.9510 s\n",
       "  Stop reason:     \n",
       "</pre>\n"
      ],
      "text/plain": [
       "\u001b[34m\u001b[1mOptimization Result\u001b[22m\u001b[39m\n",
       "\u001b[39m===================\u001b[39m\n",
       "  Iteration:       493\n",
       "  Minimum:         13325.9\n",
       "  Minimizer:       [188.646, 5.2806, 1569.51, …, 712.621]\n",
       "  Function calls:  20706\n",
       "  Total time:      15429.9510 s\n",
       "  Stop reason:     \n"
      ]
     },
     "metadata": {},
     "output_type": "display_data"
    },
    {
     "name": "stderr",
     "output_type": "stream",
     "text": [
      "\u001b[36m\u001b[1m[ \u001b[22m\u001b[39m\u001b[36m\u001b[1mInfo: \u001b[22m\u001b[39mCurrent Status of ECA\n"
     ]
    },
    {
     "data": {
      "text/html": [
       "<pre>\n",
       "Optimization Result\n",
       "===================\n",
       "  Iteration:       494\n",
       "  Minimum:         13325.9\n",
       "  Minimizer:       [188.662, 5.28073, 1569.54, …, 712.23]\n",
       "  Function calls:  20748\n",
       "  Total time:      15459.5230 s\n",
       "  Stop reason:     \n",
       "</pre>\n"
      ],
      "text/plain": [
       "\u001b[34m\u001b[1mOptimization Result\u001b[22m\u001b[39m\n",
       "\u001b[39m===================\u001b[39m\n",
       "  Iteration:       494\n",
       "  Minimum:         13325.9\n",
       "  Minimizer:       [188.662, 5.28073, 1569.54, …, 712.23]\n",
       "  Function calls:  20748\n",
       "  Total time:      15459.5230 s\n",
       "  Stop reason:     \n"
      ]
     },
     "metadata": {},
     "output_type": "display_data"
    },
    {
     "name": "stderr",
     "output_type": "stream",
     "text": [
      "\u001b[36m\u001b[1m[ \u001b[22m\u001b[39m\u001b[36m\u001b[1mInfo: \u001b[22m\u001b[39mCurrent Status of ECA\n"
     ]
    },
    {
     "data": {
      "text/html": [
       "<pre>\n",
       "Optimization Result\n",
       "===================\n",
       "  Iteration:       495\n",
       "  Minimum:         13325.9\n",
       "  Minimizer:       [188.662, 5.28073, 1569.56, …, 712.195]\n",
       "  Function calls:  20790\n",
       "  Total time:      15489.5000 s\n",
       "  Stop reason:     \n",
       "</pre>\n"
      ],
      "text/plain": [
       "\u001b[34m\u001b[1mOptimization Result\u001b[22m\u001b[39m\n",
       "\u001b[39m===================\u001b[39m\n",
       "  Iteration:       495\n",
       "  Minimum:         13325.9\n",
       "  Minimizer:       [188.662, 5.28073, 1569.56, …, 712.195]\n",
       "  Function calls:  20790\n",
       "  Total time:      15489.5000 s\n",
       "  Stop reason:     \n"
      ]
     },
     "metadata": {},
     "output_type": "display_data"
    },
    {
     "name": "stderr",
     "output_type": "stream",
     "text": [
      "\u001b[36m\u001b[1m[ \u001b[22m\u001b[39m\u001b[36m\u001b[1mInfo: \u001b[22m\u001b[39mCurrent Status of ECA\n"
     ]
    },
    {
     "data": {
      "text/html": [
       "<pre>\n",
       "Optimization Result\n",
       "===================\n",
       "  Iteration:       496\n",
       "  Minimum:         13325.9\n",
       "  Minimizer:       [188.666, 5.28048, 1569.49, …, 711.467]\n",
       "  Function calls:  20832\n",
       "  Total time:      15519.4750 s\n",
       "  Stop reason:     \n",
       "</pre>\n"
      ],
      "text/plain": [
       "\u001b[34m\u001b[1mOptimization Result\u001b[22m\u001b[39m\n",
       "\u001b[39m===================\u001b[39m\n",
       "  Iteration:       496\n",
       "  Minimum:         13325.9\n",
       "  Minimizer:       [188.666, 5.28048, 1569.49, …, 711.467]\n",
       "  Function calls:  20832\n",
       "  Total time:      15519.4750 s\n",
       "  Stop reason:     \n"
      ]
     },
     "metadata": {},
     "output_type": "display_data"
    },
    {
     "name": "stderr",
     "output_type": "stream",
     "text": [
      "\u001b[36m\u001b[1m[ \u001b[22m\u001b[39m\u001b[36m\u001b[1mInfo: \u001b[22m\u001b[39mCurrent Status of ECA\n"
     ]
    },
    {
     "data": {
      "text/html": [
       "<pre>\n",
       "Optimization Result\n",
       "===================\n",
       "  Iteration:       497\n",
       "  Minimum:         13325.9\n",
       "  Minimizer:       [188.67, 5.28071, 1569.43, …, 711.918]\n",
       "  Function calls:  20874\n",
       "  Total time:      15549.7090 s\n",
       "  Stop reason:     \n",
       "</pre>\n"
      ],
      "text/plain": [
       "\u001b[34m\u001b[1mOptimization Result\u001b[22m\u001b[39m\n",
       "\u001b[39m===================\u001b[39m\n",
       "  Iteration:       497\n",
       "  Minimum:         13325.9\n",
       "  Minimizer:       [188.67, 5.28071, 1569.43, …, 711.918]\n",
       "  Function calls:  20874\n",
       "  Total time:      15549.7090 s\n",
       "  Stop reason:     \n"
      ]
     },
     "metadata": {},
     "output_type": "display_data"
    },
    {
     "name": "stderr",
     "output_type": "stream",
     "text": [
      "\u001b[36m\u001b[1m[ \u001b[22m\u001b[39m\u001b[36m\u001b[1mInfo: \u001b[22m\u001b[39mCurrent Status of ECA\n"
     ]
    },
    {
     "data": {
      "text/html": [
       "<pre>\n",
       "Optimization Result\n",
       "===================\n",
       "  Iteration:       498\n",
       "  Minimum:         13325.9\n",
       "  Minimizer:       [188.653, 5.28045, 1569.56, …, 711.81]\n",
       "  Function calls:  20916\n",
       "  Total time:      15581.2250 s\n",
       "  Stop reason:     \n",
       "</pre>\n"
      ],
      "text/plain": [
       "\u001b[34m\u001b[1mOptimization Result\u001b[22m\u001b[39m\n",
       "\u001b[39m===================\u001b[39m\n",
       "  Iteration:       498\n",
       "  Minimum:         13325.9\n",
       "  Minimizer:       [188.653, 5.28045, 1569.56, …, 711.81]\n",
       "  Function calls:  20916\n",
       "  Total time:      15581.2250 s\n",
       "  Stop reason:     \n"
      ]
     },
     "metadata": {},
     "output_type": "display_data"
    },
    {
     "name": "stderr",
     "output_type": "stream",
     "text": [
      "\u001b[36m\u001b[1m[ \u001b[22m\u001b[39m\u001b[36m\u001b[1mInfo: \u001b[22m\u001b[39mCurrent Status of ECA\n"
     ]
    },
    {
     "data": {
      "text/html": [
       "<pre>\n",
       "Optimization Result\n",
       "===================\n",
       "  Iteration:       499\n",
       "  Minimum:         13325.9\n",
       "  Minimizer:       [188.655, 5.28029, 1569.55, …, 711.327]\n",
       "  Function calls:  20958\n",
       "  Total time:      15611.8590 s\n",
       "  Stop reason:     \n",
       "</pre>\n"
      ],
      "text/plain": [
       "\u001b[34m\u001b[1mOptimization Result\u001b[22m\u001b[39m\n",
       "\u001b[39m===================\u001b[39m\n",
       "  Iteration:       499\n",
       "  Minimum:         13325.9\n",
       "  Minimizer:       [188.655, 5.28029, 1569.55, …, 711.327]\n",
       "  Function calls:  20958\n",
       "  Total time:      15611.8590 s\n",
       "  Stop reason:     \n"
      ]
     },
     "metadata": {},
     "output_type": "display_data"
    },
    {
     "name": "stderr",
     "output_type": "stream",
     "text": [
      "\u001b[36m\u001b[1m[ \u001b[22m\u001b[39m\u001b[36m\u001b[1mInfo: \u001b[22m\u001b[39mCurrent Status of ECA\n"
     ]
    },
    {
     "data": {
      "text/html": [
       "<pre>\n",
       "Optimization Result\n",
       "===================\n",
       "  Iteration:       500\n",
       "  Minimum:         13325.9\n",
       "  Minimizer:       [188.659, 5.28035, 1569.46, …, 711.44]\n",
       "  Function calls:  21000\n",
       "  Total time:      15641.9450 s\n",
       "  Stop reason:     \n",
       "</pre>\n"
      ],
      "text/plain": [
       "\u001b[34m\u001b[1mOptimization Result\u001b[22m\u001b[39m\n",
       "\u001b[39m===================\u001b[39m\n",
       "  Iteration:       500\n",
       "  Minimum:         13325.9\n",
       "  Minimizer:       [188.659, 5.28035, 1569.46, …, 711.44]\n",
       "  Function calls:  21000\n",
       "  Total time:      15641.9450 s\n",
       "  Stop reason:     \n"
      ]
     },
     "metadata": {},
     "output_type": "display_data"
    },
    {
     "name": "stdout",
     "output_type": "stream",
     "text": [
      "[188.65888741279775, 5.280354844172764, 1569.4567086385125, 800.0000181267834, 999.999994812133, 711.4402346774001]\n"
     ]
    },
    {
     "name": "stderr",
     "output_type": "stream",
     "text": [
      "\u001b[36m\u001b[1m[ \u001b[22m\u001b[39m\u001b[36m\u001b[1mInfo: \u001b[22m\u001b[39mTermination reason: Maximum number of iterations exceeded.\n"
     ]
    }
   ],
   "source": [
    "params, model = optimize(objective, estimator, method);\n",
    "println(params)"
   ]
  },
  {
   "cell_type": "code",
   "execution_count": null,
   "metadata": {},
   "outputs": [
    {
     "name": "stdout",
     "output_type": "stream",
     "text": [
      "model.params.bondvol = AssocParam{Float64}(\"bondvol\")[9.5225e-29, 2.6192e-29, 3.4608e-28, 4.5918e-28, 2.245e-29, 9.99999994812133e-28, 7.114402346774002e-28, 6.2309e-29, 1.3002e-28, 4.9019e-28, 3.0327e-28, 3.0327e-28, 1.0169e-28, 3.5341e-28, 3.5341e-28, 8.4999e-28]\n"
     ]
    },
    {
     "data": {
      "text/plain": [
       "AssocParam{Float64}([\"NH2\", \"CH2\", \"CH2OH\", \"H2O\", \"SO2\"]) with 16 values:\n",
       "(\"NH2\", \"e\") >=< (\"NH2\", \"H\"): 9.5225e-29\n",
       "(\"NH2\", \"e\") >=< (\"CH2OH\", \"H\"): 2.6192e-29\n",
       "(\"NH2\", \"H\") >=< (\"CH2OH\", \"e\"): 3.4608e-28\n",
       "(\"NH2\", \"e\") >=< (\"H2O\", \"H\"): 4.5918e-28\n",
       "(\"NH2\", \"H\") >=< (\"H2O\", \"e\"): 2.245e-29\n",
       "(\"NH2\", \"e\") >=< (\"SO2\", \"H\"): 9.99999994812133e-28\n",
       "(\"NH2\", \"H\") >=< (\"SO2\", \"e\"): 7.114402346774002e-28\n",
       "(\"CH2OH\", \"e\") >=< (\"CH2OH\", \"H\"): 6.2309e-29\n",
       "(\"CH2OH\", \"e\") >=< (\"H2O\", \"H\"): 1.3002e-28\n",
       "(\"CH2OH\", \"H\") >=< (\"H2O\", \"e\"): 4.9019e-28\n",
       "(\"CH2OH\", \"e\") >=< (\"SO2\", \"H\"): 3.0327e-28\n",
       "(\"CH2OH\", \"H\") >=< (\"SO2\", \"e\"): 3.0327e-28\n",
       "(\"H2O\", \"e\") >=< (\"H2O\", \"H\"): 1.0169e-28\n",
       "(\"H2O\", \"e\") >=< (\"SO2\", \"H\"): 3.5341e-28\n",
       "(\"H2O\", \"H\") >=< (\"SO2\", \"e\"): 3.5341e-28\n",
       "(\"SO2\", \"e\") >=< (\"SO2\", \"H\"): 8.4999e-28"
      ]
     },
     "execution_count": 127,
     "metadata": {},
     "output_type": "execute_result"
    }
   ],
   "source": [
    "#@show model.params.epsilon\n",
    "# @show model.params.lambda_r\n",
    "# @show model.params.epsilon_assoc\n",
    "# @show model.params.bondvol"
   ]
  },
  {
   "cell_type": "code",
   "execution_count": 128,
   "metadata": {},
   "outputs": [],
   "source": [
    "data1 = CSV.read(\"SO2_EXP_0.1wt.csv\", DataFrame; header=false)\n",
    "data2 = CSV.read(\"SO2_EXP_0.2wt.csv\", DataFrame; header=false)\n",
    "data3 = CSV.read(\"SO2_EXP_0.3wt.csv\", DataFrame; header=false)\n",
    "data4 = CSV.read(\"SO2_EXP_0.4wt.csv\", DataFrame; header=false)\n",
    "data5 = CSV.read(\"SO2_EXP_0.5wt.csv\", DataFrame; header=false)\n",
    "\n",
    "data1 .= convert.(Float64, data1)\n",
    "data2 .= convert.(Float64, data2)\n",
    "data3 .= convert.(Float64, data3)\n",
    "data4 .= convert.(Float64, data4)\n",
    "data5 .= convert.(Float64, data5);\n",
    "\n",
    "#Data is in the order temp, partial pressure, wtMEA, Loading SO2"
   ]
  },
  {
   "cell_type": "code",
   "execution_count": 129,
   "metadata": {},
   "outputs": [
    {
     "data": {
      "text/plain": [
       "5-element Vector{Float64}:\n",
       " 30.514096922168292\n",
       " 13.56182085429702\n",
       "  7.911062165006595\n",
       "  5.085682820361383\n",
       "  3.3904552135742545"
      ]
     },
     "execution_count": 129,
     "metadata": {},
     "output_type": "execute_result"
    }
   ],
   "source": [
    "wt_MEA = [0.1, 0.2, 0.3, 0.4, 0.5]\n",
    "wt_H2O = 1 .- wt_MEA\n",
    "\n",
    "mw_MEA = 61.08\n",
    "mw_H2O = 18.01528\n",
    "\n",
    "x_MEA = (wt_MEA ./ mw_MEA) .* (1 ./ ((wt_MEA ./ mw_MEA) .+ (wt_H2O ./ mw_H2O)))\n",
    "x_H2O = 1 .- x_MEA\n",
    "solvrat = x_H2O ./ x_MEA\n",
    "\n"
   ]
  },
  {
   "cell_type": "code",
   "execution_count": 130,
   "metadata": {},
   "outputs": [],
   "source": [
    "\n",
    "load = LinRange(0, 0.5, 100) #these are the ratio of SO2 mols to MEA mols in solution\n",
    "\n",
    "N = length(load)\n",
    "\n",
    "# intialise new composition vectors\n",
    "x_MEA = zeros(N, 5)\n",
    "x_H2O = zeros(N, 5)\n",
    "x_SO2 = zeros(N, 5)\n",
    "z = zeros(N, 15)\n",
    "\n",
    "# calculate the new liquid compositions at these loadings\n",
    "for i in 1:5\n",
    "    x_MEA[:,i] = 1 ./ (1 .+ load .+ solvrat[i])\n",
    "    x_SO2[:,i] = x_MEA[:,i] .* load\n",
    "    x_H2O[:,i] = 1 .- x_MEA[:,i] .- x_SO2[:,i]\n",
    "    ind = 3*(i-1) + 1\n",
    "    z[:, ind] = x_MEA[:,i]\n",
    "    z[:, ind + 1] = x_H2O[:,i]\n",
    "    z[:, ind + 2] = x_SO2[:,i]\n",
    "end\n",
    "\n",
    "# each 3 columns represents the composition\n",
    "# under loading at a different MEA wt in solution"
   ]
  },
  {
   "cell_type": "code",
   "execution_count": 131,
   "metadata": {},
   "outputs": [],
   "source": [
    "\n",
    "T = [293, 313, 333]\n",
    "\n",
    "pvap1 = zeros(N, 3)\n",
    "y1 = zeros(N, 3, 3)\n",
    "partial1 = zeros(N, 3)\n",
    "\n",
    "pvap2 = zeros(N, 3)\n",
    "y2 = zeros(N, 3, 3)\n",
    "partial2 = zeros(N, 3)\n",
    "\n",
    "pvap3 = zeros(N, 3)\n",
    "y3 = zeros(N, 3, 3)\n",
    "partial3 = zeros(N, 3)\n",
    "\n",
    "pvap4 = zeros(N, 3)\n",
    "y4 = zeros(N, 3, 3)\n",
    "partial4 = zeros(N, 3)\n",
    "\n",
    "pvap5 = zeros(N, 3)\n",
    "y5 = zeros(N, 3, 3)\n",
    "partial5 = zeros(N, 3)\n",
    "\n",
    "for j in 1:3\n",
    "        \n",
    "    for i in 1:N\n",
    "\n",
    "        # ------------- Wt = 0.1 ----------------#\n",
    "        x_bub = z[i, 1:3]\n",
    "        calc = bubble_pressure(model, T[j], x_bub)\n",
    "        pvap1[i, j] = calc[1]\n",
    "        y1[i, 1, j] = calc[4][1]\n",
    "        y1[i, 2, j] = calc[4][2]\n",
    "        y1[i, 3, j] = calc[4][3]\n",
    "\n",
    "        # ------------- Wt = 0.2 ----------------#\n",
    "        x_bub = z[i, 4:6]\n",
    "        calc = bubble_pressure(model, T[j], x_bub)\n",
    "        pvap2[i, j] = calc[1]\n",
    "        y2[i, 1, j] = calc[4][1]\n",
    "        y2[i, 2, j] = calc[4][2]\n",
    "        y2[i, 3, j] = calc[4][3]\n",
    "\n",
    "        # ------------- Wt = 0.3 ----------------#\n",
    "        x_bub = z[i, 7:9]\n",
    "        calc = bubble_pressure(model, T[j], x_bub)\n",
    "        pvap3[i, j] = calc[1]\n",
    "        y3[i, 1, j] = calc[4][1]\n",
    "        y3[i, 2, j] = calc[4][2]\n",
    "        y3[i, 3, j] = calc[4][3]\n",
    "\n",
    "        # ------------- Wt = 0.4 ----------------#\n",
    "        x_bub = z[i, 10:12]\n",
    "        calc = bubble_pressure(model, T[j], x_bub)\n",
    "        pvap4[i, j] = calc[1]\n",
    "        y4[i, 1, j] = calc[4][1]\n",
    "        y4[i, 2, j] = calc[4][2]\n",
    "        y4[i, 3, j] = calc[4][3]\n",
    "\n",
    "        # ------------- Wt = 0.5 ----------------#\n",
    "        x_bub = z[i, 13:15]\n",
    "        calc = bubble_pressure(model, T[j], x_bub)\n",
    "        pvap5[i, j] = calc[1]\n",
    "        y5[i, 1, j] = calc[4][1]\n",
    "        y5[i, 2, j] = calc[4][2]\n",
    "        y5[i, 3, j] = calc[4][3]\n",
    "\n",
    "    end\n",
    "\n",
    "end\n",
    "\n",
    "# --------------- Wt = 0.1 ------------------ #\n",
    "partial1T1 = pvap1[2:100, 1] .* y5[2:100, 3, 1]\n",
    "partial1T2 = pvap1[2:100, 2] .* y5[2:100, 3, 2]\n",
    "partial1T3 = pvap1[2:100, 3] .* y5[2:100, 3, 3]\n",
    "\n",
    "# --------------- Wt = 0.2 ------------------ #\n",
    "partial2T1 = pvap2[2:100, 1] .* y5[2:100, 3, 1]\n",
    "partial2T2 = pvap2[2:100, 2] .* y5[2:100, 3, 2]\n",
    "partial2T3 = pvap2[2:100, 3] .* y5[2:100, 3, 3]\n",
    "\n",
    "# --------------- Wt = 0.3 ------------------ #\n",
    "partial3T1 = pvap3[2:100, 1] .* y5[2:100, 3, 1]\n",
    "partial3T2 = pvap3[2:100, 2] .* y5[2:100, 3, 2]\n",
    "partial3T3 = pvap3[2:100, 3] .* y5[2:100, 3, 3]\n",
    "\n",
    "# --------------- Wt = 0.4 ------------------ #\n",
    "partial4T1 = pvap4[2:100, 1] .* y5[2:100, 3, 1]\n",
    "partial4T2 = pvap4[2:100, 2] .* y5[2:100, 3, 2]\n",
    "partial4T3 = pvap4[2:100, 3] .* y5[2:100, 3, 3]\n",
    "\n",
    "# --------------- Wt = 0.5 ------------------ #\n",
    "partial5T1 = pvap5[2:100, 1] .* y5[2:100, 3, 1]\n",
    "partial5T2 = pvap5[2:100, 2] .* y5[2:100, 3, 2]\n",
    "partial5T3 = pvap5[2:100, 3] .* y5[2:100, 3, 3]\n",
    "\n",
    "\n",
    "loadfil = load[2:100];"
   ]
  },
  {
   "cell_type": "markdown",
   "metadata": {},
   "source": [
    "#### Wt = 0.1"
   ]
  },
  {
   "cell_type": "code",
   "execution_count": null,
   "metadata": {},
   "outputs": [
    {
     "data": {
      "text/plain": [
       "\"C:\\\\Users\\\\fjm21\\\\OneDrive - Imperial College London\\\\Fourth Year\\\\Masters Project\\\\Figures_Formatted\\\\Param_Estimation\\\\All_500_iter\\\\p_SO2_10%MEA.png\""
      ]
     },
     "execution_count": 146,
     "metadata": {},
     "output_type": "execute_result"
    }
   ],
   "source": [
    "plt = plot(grid = :off, \n",
    "            framestyle = :box, \n",
    "            foreground_color_legend = nothing, \n",
    "            legend_font = font(12),\n",
    "            xtickfont = font(12),\n",
    "            ytickfont = font(12),\n",
    "            yaxis = :log,\n",
    "            legend =:bottomright,\n",
    "            legend_background_color = :transparent,\n",
    "            legendtitle = L\"10 \\ w_{MEA} \\ \\%\",\n",
    "            left_margin = 4mm,\n",
    "            right_margin = 4mm,\n",
    "            xguidefontsize=16,\n",
    "            yguidefontsize=16,\n",
    "            xlims = (0, 0.15))\n",
    "\n",
    "plot!(plt, loadfil, partial1T3./1e5,\n",
    "      color = \"deepskyblue1\", \n",
    "      line = (:path, 3), \n",
    "      label = L\"\\mathrm{SAFT-\\gamma \\ Mie} \\ (T = 333.15 \\ \\mathrm{K})\")\n",
    "\n",
    "plot!(plt, loadfil, partial1T2./1e5, \n",
    "      color = \"mediumorchid2\", \n",
    "      line = (:path, 3), \n",
    "      label = L\"\\mathrm{SAFT-\\gamma \\ Mie} \\ (T = 313.15 \\ \\mathrm{K})\")\n",
    "\n",
    "plot!(plt, loadfil, partial1T1./1e5, \n",
    "      color = \"orange4\", \n",
    "      line = (:path, 3), \n",
    "      label = L\"\\mathrm{SAFT-\\gamma \\ Mie} \\ (T = 293.15 \\ \\mathrm{K})\")\n",
    "\n",
    "plot!(plt, data1[11:15,4], data1[11:15, 2]./1e5, \n",
    "      seriestype = :scatter, \n",
    "      color = \"deepskyblue1\", \n",
    "      markerstrokecolor = \"deepskyblue1\",\n",
    "      marker = :square, \n",
    "      markerstrokewidth = 1,\n",
    "      line = (:scatter, 0.4), \n",
    "      label = L\"\\mathrm{Experimental \\ Data} \\ (T = 333.15 \\ \\mathrm{K})\")\n",
    "\n",
    "plot!(plt, data1[6:10,4], data1[6:10, 2]./1e5, \n",
    "      seriestype = :scatter, \n",
    "      color = \"mediumorchid2\", \n",
    "      markerstrokecolor = \"mediumorchid2\",\n",
    "      marker = :square,\n",
    "      markerstrokewidth = 1, \n",
    "      line = (:scatter, 0.4), \n",
    "      label = L\"\\mathrm{Experimental \\ Data} \\ (T = 313.15 \\ \\mathrm{K})\")\n",
    "\n",
    "plot!(plt, data1[1:5,4], data1[1:5, 2]./1e5, \n",
    "      seriestype = :scatter, \n",
    "      color = \"orange4\", \n",
    "      markerstrokecolor = \"orange4\", \n",
    "      line = (:scatter, 0.4), \n",
    "      marker = :square,\n",
    "      markerstrokewidth = 1,\n",
    "      label = L\"\\mathrm{Experimental \\ Data} \\ (T = 293.15 \\ \\mathrm{K})\")\n",
    "\n",
    "xlabel!(plt, L\"\\theta_{\\mathrm{SO_2}}\")\n",
    "ylabel!(plt, L\"P_{\\mathrm{SO_2}} \\ / \\ \\mathrm{(bar)}\")\n",
    "\n",
    "#savefig(plt, \"C:\\\\Users\\\\fjm21\\\\OneDrive - Imperial College London\\\\Fourth Year\\\\Masters Project\\\\Figures_Formatted\\\\Param_Estimation\\\\All_500_iter\\\\p_SO2_10%MEA.png\")"
   ]
  },
  {
   "cell_type": "markdown",
   "metadata": {},
   "source": [
    "#### Wt = 0.2"
   ]
  },
  {
   "cell_type": "code",
   "execution_count": null,
   "metadata": {},
   "outputs": [
    {
     "data": {
      "text/plain": [
       "\"C:\\\\Users\\\\fjm21\\\\OneDrive - Imperial College London\\\\Fourth Year\\\\Masters Project\\\\Figures_Formatted\\\\Param_Estimation\\\\All_500_iter\\\\p_SO2_20%MEA.png\""
      ]
     },
     "execution_count": 145,
     "metadata": {},
     "output_type": "execute_result"
    }
   ],
   "source": [
    "plt2 = plot(grid = :off, \n",
    "            framestyle = :box, \n",
    "            foreground_color_legend = nothing, \n",
    "            legend_font = font(12),\n",
    "            xtickfont = font(12),\n",
    "            ytickfont = font(12),\n",
    "            yaxis = :log,\n",
    "            legend =:bottomright,\n",
    "            legend_background_color = :transparent,\n",
    "            legendtitle = L\"20 \\ w_{MEA} \\ \\%\",\n",
    "            left_margin = 4mm,\n",
    "            right_margin = 4mm,\n",
    "            xguidefontsize=16,\n",
    "            yguidefontsize=16,\n",
    "            xlims = (0, 0.15))\n",
    "\n",
    "plot!(plt2, loadfil, partial2T3./1e5, \n",
    "      color = \"deepskyblue1\", \n",
    "      line = (:path, 3), \n",
    "      label = L\"\\mathrm{SAFT-\\gamma \\ Mie} \\ (T = 333.15 \\ \\mathrm{K})\")\n",
    "\n",
    "plot!(plt2, loadfil, partial2T2./1e5, \n",
    "      color = \"mediumorchid2\", \n",
    "      line = (:path, 3), \n",
    "      label = L\"\\mathrm{SAFT-\\gamma \\ Mie} \\ (T = 313.15 \\ \\mathrm{K})\")\n",
    "\n",
    "plot!(plt2, loadfil, partial2T1./1e5, \n",
    "      color = \"orange4\", \n",
    "      line = (:path, 3), \n",
    "      label = L\"\\mathrm{SAFT-\\gamma \\ Mie} \\ (T = 293.15 \\ \\mathrm{K})\")\n",
    "\n",
    "plot!(plt2, data2[11:15,4], data2[11:15, 2]./1e5, \n",
    "      seriestype = :scatter, \n",
    "      color = \"deepskyblue1\", \n",
    "      marker = :square,\n",
    "      markerstrokecolor = \"deepskyblue1\", \n",
    "      line = (:scatter, 0.4), \n",
    "      label = L\"\\mathrm{Experimental \\ Data} \\ (T = 333.15 \\ \\mathrm{K})\")\n",
    "\n",
    "plot!(plt2, data2[6:10,4], data2[6:10, 2]./1e5, \n",
    "      seriestype = :scatter, \n",
    "      color = \"mediumorchid2\", \n",
    "      marker = :square,\n",
    "      markerstrokecolor = \"mediumorchid2\", \n",
    "      line = (:scatter, 0.4), \n",
    "      label = L\"\\mathrm{Experimental \\ Data} \\ (T = 313.15 \\ \\mathrm{K})\")\n",
    "\n",
    "plot!(plt2, data2[1:5,4], data2[1:5, 2]./1e5, \n",
    "      seriestype = :scatter, \n",
    "      color = \"orange4\", \n",
    "      marker = :square,\n",
    "      markerstrokecolor = \"orange4\", \n",
    "      line = (:scatter, 0.4), \n",
    "      label = L\"\\mathrm{Experimental \\ Data} \\ (T = 293.15 \\ \\mathrm{K})\")\n",
    "\n",
    "\n",
    "xlabel!(plt2, L\"\\theta_{\\mathrm{SO_2}}\")\n",
    "ylabel!(plt2, L\"P_{\\mathrm{SO_2}} \\ / \\ \\mathrm{(bar)}\")\n",
    "\n",
    "#savefig(plt2, \"C:\\\\Users\\\\fjm21\\\\OneDrive - Imperial College London\\\\Fourth Year\\\\Masters Project\\\\Figures_Formatted\\\\Param_Estimation\\\\All_500_iter\\\\p_SO2_20%MEA.png\")\n"
   ]
  },
  {
   "cell_type": "markdown",
   "metadata": {},
   "source": [
    "#### Wt = 0.3"
   ]
  },
  {
   "cell_type": "code",
   "execution_count": null,
   "metadata": {},
   "outputs": [
    {
     "data": {
      "text/plain": [
       "\"C:\\\\Users\\\\fjm21\\\\OneDrive - Imperial College London\\\\Fourth Year\\\\Masters Project\\\\Figures_Formatted\\\\Param_Estimation\\\\All_500_iter\\\\p_SO2_30%MEA.png\""
      ]
     },
     "execution_count": 144,
     "metadata": {},
     "output_type": "execute_result"
    }
   ],
   "source": [
    "plt3 = plot(grid = :off, \n",
    "            framestyle = :box, \n",
    "            foreground_color_legend = nothing, \n",
    "            legend_font = font(12),\n",
    "            xtickfont = font(12),\n",
    "            ytickfont = font(12),\n",
    "            yaxis = :log,\n",
    "            legend =:bottomright,\n",
    "            legend_background_color = :transparent,\n",
    "            legendtitle = L\"30 \\ w_{MEA} \\ \\%\",\n",
    "            left_margin = 4mm,\n",
    "            right_margin = 4mm,\n",
    "            xguidefontsize=16,\n",
    "            yguidefontsize=16,\n",
    "            xlims = (0, 0.25))\n",
    "\n",
    "plot!(plt3, loadfil, partial3T3./1e5, \n",
    "      color = \"deepskyblue1\", \n",
    "      line = (:path, 3), \n",
    "      label = L\"\\mathrm{SAFT-\\gamma \\ Mie} \\ (T = 333.15 \\ \\mathrm{K})\")\n",
    "\n",
    "plot!(plt3, loadfil, partial3T2./1e5, \n",
    "      color = \"mediumorchid2\", \n",
    "      line = (:path, 3), \n",
    "      label = L\"\\mathrm{SAFT-\\gamma \\ Mie} \\ (T = 313.15 \\ \\mathrm{K})\")\n",
    "\n",
    "plot!(plt3, loadfil, partial3T1./1e5, \n",
    "      color = \"orange4\", \n",
    "      line = (:path, 3), \n",
    "      label = L\"\\mathrm{SAFT-\\gamma \\ Mie} \\ (T = 293.15 \\ \\mathrm{K})\")\n",
    "\n",
    "plot!(plt3, data3[11:15,4], data3[11:15, 2]./1e5, \n",
    "      seriestype = :scatter, \n",
    "      color = \"deepskyblue1\", \n",
    "      markerstrokecolor = \"deepskyblue1\",\n",
    "      marker = :square, \n",
    "      line = (:scatter, 0.4), \n",
    "      label = L\"\\mathrm{Experimental \\ Data} \\ (T = 333.15 \\ \\mathrm{K})\")\n",
    "\n",
    "plot!(plt3, data3[6:10,4], data3[6:10, 2]./1e5, \n",
    "      seriestype = :scatter, \n",
    "      color = \"mediumorchid2\", \n",
    "      markerstrokecolor = \"mediumorchid2\", \n",
    "      marker = :square,\n",
    "      line = (:scatter, 0.4), \n",
    "      label = L\"\\mathrm{Experimental \\ Data} \\ (T = 313.15 \\ \\mathrm{K})\")\n",
    "\n",
    "plot!(plt3, data3[1:5,4], data3[1:5, 2]./1e5, \n",
    "      seriestype = :scatter, \n",
    "      color = \"orange4\", \n",
    "      markerstrokecolor = \"orange4\", \n",
    "      marker = :square,\n",
    "      line = (:scatter, 0.4), \n",
    "      label = L\"\\mathrm{Experimental \\ Data} \\ (T = 293.15 \\ \\mathrm{K})\")\n",
    "\n",
    "xlabel!(plt3, L\"\\theta_{\\mathrm{SO_2}}\")\n",
    "ylabel!(plt3, L\"P_{\\mathrm{SO_2}} \\ / \\ \\mathrm{(bar)}\")\n",
    "#savefig(plt3, \"C:\\\\Users\\\\fjm21\\\\OneDrive - Imperial College London\\\\Fourth Year\\\\Masters Project\\\\Figures_Formatted\\\\Param_Estimation\\\\All_500_iter\\\\p_SO2_30%MEA.png\")"
   ]
  },
  {
   "cell_type": "markdown",
   "metadata": {},
   "source": [
    "#### Wt = 0.4"
   ]
  },
  {
   "cell_type": "code",
   "execution_count": null,
   "metadata": {},
   "outputs": [
    {
     "data": {
      "text/plain": [
       "\"C:\\\\Users\\\\fjm21\\\\OneDrive - Imperial College London\\\\Fourth Year\\\\Masters Project\\\\Figures_Formatted\\\\Param_Estimation\\\\All_500_iter\\\\p_SO2_40%MEA.png\""
      ]
     },
     "execution_count": 142,
     "metadata": {},
     "output_type": "execute_result"
    }
   ],
   "source": [
    "plt4 = plot(grid = :off, \n",
    "            framestyle = :box, \n",
    "            foreground_color_legend = nothing, \n",
    "            legend_font = font(12),\n",
    "            xtickfont = font(12),\n",
    "            ytickfont = font(12),\n",
    "            yaxis = :log,\n",
    "            legend =:bottomright,\n",
    "            legend_background_color = :transparent,\n",
    "            legendtitle = L\"40 \\ w_{MEA} \\ \\%\",\n",
    "            left_margin = 4mm,\n",
    "            right_margin = 4mm,\n",
    "            xguidefontsize=16,\n",
    "            yguidefontsize=16,\n",
    "            xlims = (0, 0.35))\n",
    "\n",
    "plot!(plt4, loadfil, partial4T3./1e5, \n",
    "      color = \"deepskyblue1\", \n",
    "      line = (:path, 3), \n",
    "      label = L\"\\mathrm{SAFT-\\gamma \\ Mie} \\ (T = 333.15 \\ \\mathrm{K})\")\n",
    "\n",
    "plot!(plt4, loadfil, partial4T2./1e5, \n",
    "      color = \"mediumorchid2\", \n",
    "      line = (:path, 3), \n",
    "      label = L\"\\mathrm{SAFT-\\gamma \\ Mie} \\ (T = 313.15 \\ \\mathrm{K})\")\n",
    "\n",
    "plot!(plt4, loadfil, partial4T1./1e5, \n",
    "      color = \"orange4\", \n",
    "      line = (:path, 3), \n",
    "      label = L\"\\mathrm{SAFT-\\gamma \\ Mie} \\ (T = 293.15 \\ \\mathrm{K})\")\n",
    "\n",
    "plot!(plt4, data4[11:15,4], data4[11:15, 2]./1e5, \n",
    "      seriestype = :scatter, \n",
    "      color = \"deepskyblue1\",\n",
    "      marker = :square, \n",
    "      markerstrokecolor = \"deepskyblue1\", \n",
    "      line = (:scatter, 0.4), \n",
    "      label = L\"\\mathrm{Experimental \\ Data} \\ (T = 333.15 \\ \\mathrm{K})\")\n",
    "\n",
    "\n",
    "plot!(plt4, data4[6:10,4], data4[6:10, 2]./1e5, \n",
    "      seriestype = :scatter, \n",
    "      color = \"mediumorchid2\", \n",
    "      marker = :square, \n",
    "      markerstrokecolor = \"mediumorchid2\", \n",
    "      line = (:scatter, 0.4), \n",
    "      label = L\"\\mathrm{Experimental \\ Data} \\ (T = 313.15 \\ \\mathrm{K})\")\n",
    "\n",
    "\n",
    "plot!(plt4, data4[1:5,4], data4[1:5, 2]./1e5, \n",
    "      seriestype = :scatter, \n",
    "      color = \"orange4\", \n",
    "      marker = :square, \n",
    "      markerstrokecolor = \"orange4\", \n",
    "      line = (:scatter, 0.4), \n",
    "      label = L\"\\mathrm{Experimental \\ Data} \\ (T = 293.15 \\ \\mathrm{K})\")\n",
    "\n",
    "xlabel!(plt4, L\"\\theta_{\\mathrm{SO_2}}\")\n",
    "ylabel!(plt4, L\"P_{\\mathrm{SO_2}} \\ / \\ \\mathrm{(bar)}\")\n",
    "\n",
    "#savefig(plt4, \"C:\\\\Users\\\\fjm21\\\\OneDrive - Imperial College London\\\\Fourth Year\\\\Masters Project\\\\Figures_Formatted\\\\Param_Estimation\\\\All_500_iter\\\\p_SO2_40%MEA.png\")"
   ]
  },
  {
   "cell_type": "markdown",
   "metadata": {},
   "source": [
    "#### Wt = 0.5"
   ]
  },
  {
   "cell_type": "code",
   "execution_count": null,
   "metadata": {},
   "outputs": [
    {
     "data": {
      "text/plain": [
       "\"C:\\\\Users\\\\fjm21\\\\OneDrive - Imperial College London\\\\Fourth Year\\\\Masters Project\\\\Figures_Formatted\\\\Param_Estimation\\\\All_500_iter\\\\p_SO2_50%MEA.png\""
      ]
     },
     "execution_count": 141,
     "metadata": {},
     "output_type": "execute_result"
    }
   ],
   "source": [
    "plt5 = plot(grid = :off, \n",
    "            framestyle = :box, \n",
    "            foreground_color_legend = nothing, \n",
    "            legend_font = font(12),\n",
    "            xtickfont = font(12),\n",
    "            ytickfont = font(12),\n",
    "            yaxis = :log,\n",
    "            legend =:bottomright,\n",
    "            legend_background_color = :transparent,\n",
    "            legendtitle = L\"50 \\ w_{MEA} \\ \\%\",\n",
    "            left_margin = 4mm,\n",
    "            right_margin = 4mm,\n",
    "            xguidefontsize=16,\n",
    "            yguidefontsize=16,\n",
    "            xlims = (0, 0.45))\n",
    "\n",
    "plot!(plt5, loadfil, partial5T3./1e5, \n",
    "      color = \"deepskyblue1\", \n",
    "      line = (:path, 3), \n",
    "      label = L\"\\mathrm{SAFT-\\gamma \\ Mie} \\ (T = 333.15 \\ \\mathrm{K})\")\n",
    "\n",
    "plot!(plt5, loadfil, partial5T2./1e5, \n",
    "      color = \"mediumorchid2\", \n",
    "      line = (:path, 3), \n",
    "      label = L\"\\mathrm{SAFT-\\gamma \\ Mie} \\ (T = 313.15 \\ \\mathrm{K})\")\n",
    "\n",
    "plot!(plt5, loadfil, partial5T1./1e5, \n",
    "      color = \"orange4\", \n",
    "      line = (:path, 3), \n",
    "      label = L\"\\mathrm{SAFT-\\gamma \\ Mie} \\ (T = 293.15 \\ \\mathrm{K})\")\n",
    "\n",
    "plot!(plt5, data5[11:15,4], data5[11:15, 2]./1e5, \n",
    "      seriestype = :scatter, \n",
    "      color = \"deepskyblue1\", \n",
    "      markerstrokecolor = \"deepskyblue1\",\n",
    "      marker = :square, \n",
    "      line = (:scatter, 0.4), \n",
    "      label = L\"\\mathrm{Experimental \\ Data} \\ (T = 333.15 \\ \\mathrm{K})\")\n",
    "\n",
    "plot!(plt5, data5[6:10,4], data5[6:10, 2]./1e5, \n",
    "      seriestype = :scatter, \n",
    "      color = \"mediumorchid2\", \n",
    "      markerstrokecolor = \"mediumorchid2\",\n",
    "      marker = :square, \n",
    "      line = (:scatter, 0.4), \n",
    "      label = L\"\\mathrm{Experimental \\ Data} \\ (T = 313.15 \\ \\mathrm{K})\")\n",
    "\n",
    "\n",
    "plot!(plt5, data5[1:5,4], data5[1:5, 2]./1e5, \n",
    "      seriestype = :scatter, \n",
    "      color = \"orange4\", \n",
    "      markerstrokecolor = \"orange4\",\n",
    "      marker = :square, \n",
    "      line = (:scatter, 0.4), \n",
    "      label = L\"\\mathrm{Experimental \\ Data} \\ (T = 293.15 \\ \\mathrm{K})\")\n",
    "\n",
    "xlabel!(plt5, L\"\\theta_{\\mathrm{SO_2}}\")\n",
    "ylabel!(plt5, L\"P_{\\mathrm{SO_2}} \\ / \\ \\mathrm{(bar)}\")\n",
    "\n",
    "#savefig(plt5, \"C:\\\\Users\\\\fjm21\\\\OneDrive - Imperial College London\\\\Fourth Year\\\\Masters Project\\\\Figures_Formatted\\\\Param_Estimation\\\\All_500_iter\\\\p_SO2_50%MEA.png\")"
   ]
  },
  {
   "cell_type": "code",
   "execution_count": null,
   "metadata": {},
   "outputs": [
    {
     "data": {
      "text/plain": [
       "\"C:\\\\Users\\\\fjm21\\\\OneDrive - Imperial College London\\\\Fourth Year\\\\Masters Project\\\\Figures_Formatted\\\\Param_Estimation\\\\All_500_iter\\\\p_SO2_combined.png\""
      ]
     },
     "execution_count": 140,
     "metadata": {},
     "output_type": "execute_result"
    }
   ],
   "source": [
    "plt6 = plot(\n",
    "    plt, plt2, plt3, plt4, plt5,\n",
    "    layout = (3, 2),\n",
    "    size = (1200, 1200)\n",
    ")\n",
    "\n",
    "#savefig(plt6, \"C:\\\\Users\\\\fjm21\\\\OneDrive - Imperial College London\\\\Fourth Year\\\\Masters Project\\\\Figures_Formatted\\\\Param_Estimation\\\\All_500_iter\\\\p_SO2_combined.png\")"
   ]
  },
  {
   "cell_type": "code",
   "execution_count": 112,
   "metadata": {},
   "outputs": [
    {
     "data": {
      "text/plain": [
       "error_calc (generic function with 1 method)"
      ]
     },
     "execution_count": 112,
     "metadata": {},
     "output_type": "execute_result"
    }
   ],
   "source": [
    "function error_calc(model, data)\n",
    "    \n",
    "    N       = size(data)[1]\n",
    "    T       = data[:, 1]\n",
    "    w       = data[:, 2]\n",
    "    loading = data[:, 3]\n",
    "\n",
    "    partial_pred = zeros(N, 1)\n",
    "    abs_diff = zeros(N, 1)\n",
    "    exp_partial_pressure = data[:, 4]\n",
    "    for i in 1:N\n",
    "        partial_pred[i] = partial_SO2(model, T[i], w[i], loading[i])\n",
    "        abs_diff[i] = abs(partial_pred[i] - exp_partial_pressure[i])\n",
    "    end\n",
    "    accum_abs_diff = sum(abs_diff)\n",
    "    accum_abs_diff2 = sum(abs_diff./exp_partial_pressure)\n",
    "    apd = accum_abs_diff2 * (100/N)\n",
    "    return apd\n",
    "end"
   ]
  },
  {
   "cell_type": "code",
   "execution_count": 113,
   "metadata": {},
   "outputs": [
    {
     "data": {
      "text/plain": [
       "get_df (generic function with 1 method)"
      ]
     },
     "execution_count": 113,
     "metadata": {},
     "output_type": "execute_result"
    }
   ],
   "source": [
    "function get_df(csv_str)\n",
    "df = CSV.read(csv_str, DataFrame)\n",
    "    df_filt = df[3:end, :]\n",
    "    for i in 1:size(df_filt)[2]\n",
    "        df_filt[!, i] .= parse.(Float64, df_filt[!, i])\n",
    "    end \n",
    "    return df_filt\n",
    "end"
   ]
  },
  {
   "cell_type": "code",
   "execution_count": 139,
   "metadata": {},
   "outputs": [
    {
     "name": "stdout",
     "output_type": "stream",
     "text": [
      "29.600227707515472"
     ]
    }
   ],
   "source": [
    "df = get_df(\"SO2_EXP_All_Data_0.3.csv\")\n",
    "apd = error_calc(model, df)\n",
    "print(apd)"
   ]
  },
  {
   "cell_type": "code",
   "execution_count": null,
   "metadata": {},
   "outputs": [],
   "source": []
  }
 ],
 "metadata": {
  "kernelspec": {
   "display_name": "Julia 1.10.4",
   "language": "julia",
   "name": "julia-1.10"
  },
  "language_info": {
   "file_extension": ".jl",
   "mimetype": "application/julia",
   "name": "julia",
   "version": "1.10.4"
  }
 },
 "nbformat": 4,
 "nbformat_minor": 2
}
