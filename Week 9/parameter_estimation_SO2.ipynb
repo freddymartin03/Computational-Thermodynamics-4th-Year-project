{
 "cells": [
  {
   "cell_type": "code",
   "execution_count": 1,
   "metadata": {},
   "outputs": [],
   "source": [
    "using Clapeyron\n",
    "using Plots\n",
    "using CSV\n",
    "using DataFrames\n",
    "using LaTeXStrings\n",
    "using Measures\n",
    "using Metaheuristics"
   ]
  },
  {
   "cell_type": "code",
   "execution_count": 2,
   "metadata": {},
   "outputs": [
    {
     "data": {
      "text/plain": [
       "partial_SO2"
      ]
     },
     "execution_count": 2,
     "metadata": {},
     "output_type": "execute_result"
    }
   ],
   "source": [
    "@doc \"\"\"\n",
    "Inputs:\n",
    "    model::EoSModel\n",
    "    T = 292, 313, 333 / K\n",
    "    w = wt% MEA\n",
    "    loading = SO2 loading\n",
    "\n",
    "Outputs:\n",
    "    partial pressure of SO2 at given T, wt % MEA & SO2 loading\n",
    "\n",
    "\"\"\"\n",
    "function partial_SO2(model::EoSModel, T, w, loading)\n",
    "\n",
    "    mw_MEA = 61.08\n",
    "    mw_H2O = 18.01528\n",
    "\n",
    "    wt_MEA = w\n",
    "    wt_H2O = 1 - w\n",
    "\n",
    "    x_MEA = (wt_MEA / mw_MEA) * (1 / ((wt_MEA / mw_MEA) + (wt_H2O / mw_H2O)))\n",
    "    x_H2O = 1 - x_MEA\n",
    "    solvrat = x_H2O / x_MEA\n",
    "\n",
    "    x_MEA = 1 / (1 + loading + solvrat)\n",
    "    x_SO2 = x_MEA * loading\n",
    "    x_H2O = 1 - x_MEA - x_SO2\n",
    "\n",
    "    x_bub = [x_MEA, x_H2O, x_SO2]\n",
    "\n",
    "    calc = bubble_pressure(model, T, x_bub)\n",
    "    pvap = calc[1]\n",
    "    y_MEA = calc[4][1]\n",
    "    y_H2O = calc[4][2]\n",
    "    y_SO2 = calc[4][3]\n",
    "\n",
    "    out_partial = y_SO2 * pvap\n",
    "    return out_partial\n",
    "end \n"
   ]
  },
  {
   "cell_type": "code",
   "execution_count": 3,
   "metadata": {},
   "outputs": [
    {
     "data": {
      "text/plain": [
       "SAFTgammaMie{BasicIdeal} with 3 components:\n",
       " \"MEA\": \"NH2\" => 1, \"CH2\" => 1, \"CH2OH\" => 1\n",
       " \"Water\": \"H2O\" => 1\n",
       " \"Sulphur Dioxide\": \"SO2\" => 1\n",
       "Group Type: SAFTgammaMie\n",
       "Contains parameters: segment, shapefactor, lambda_a, lambda_r, sigma, epsilon, epsilon_assoc, bondvol"
      ]
     },
     "execution_count": 3,
     "metadata": {},
     "output_type": "execute_result"
    }
   ],
   "source": [
    "model = SAFTgammaMie([(\"MEA\",[\"NH2\"=>1, \"CH2\"=>1, \"CH2OH\"=>1]),(\"Water\",[\"H2O\"=>1]),(\"Sulphur Dioxide\",[\"SO2\"=>1])];\n",
    "        userlocations = (Mw = [16.02285, 14.02658, 31.03392, 18.01528, 64.066],\n",
    "        epsilon = [284.78 348.39 528.21 339.89 259.90;\n",
    "                   348.39 473.39 423.17 423.63 301.96;\n",
    "                   528.21 423.17 407.22 358.02 302.89;\n",
    "                   339.89 423.63 358.02 266.68 239.53;\n",
    "                   259.90 301.96 302.89 239.53 237.54],\n",
    "        sigma = [3.2477, 4.8801, 3.4054, 3.0063, 3.1605],\n",
    "        lambda_a = [6, 6, 6, 6, 6],\n",
    "        lambda_r = [10.354 14.063 52.305 13.085 12.412;\n",
    "                    14.063 19.871 21.230 100.00 17.354;\n",
    "                    52.305 21.230 22.699 19.619 18.511;\n",
    "                    13.085 100.00 19.619 17.020 16.085;\n",
    "                    12.412 17.354 18.511 16.085 15.213],\n",
    "        vst = [1, 1, 2, 1, 3],\n",
    "        S = [0.79675, 0.22932, 0.58538, 1, 0.62547],\n",
    "        n_H=[2, 0, 1, 2, 1],\n",
    "        n_e=[1, 0, 2, 2, 1],\n",
    "        epsilon_assoc = Dict([((\"NH2\",\"H\"),(\"NH2\",\"e\")) => 1070.80,\n",
    "                              ((\"NH2\",\"H\"),(\"CH2OH\",\"e\")) => 629.88,\n",
    "                              ((\"NH2\",\"H\"),(\"H2O\",\"e\")) => 1364.40,\n",
    "                              ((\"NH2\",\"H\"),(\"SO2\",\"e\")) => 1011.60,\n",
    "                              ((\"CH2OH\",\"H\"),(\"NH2\",\"e\")) => 2403.78,\n",
    "                              ((\"CH2OH\",\"H\"),(\"CH2OH\",\"e\")) => 2097.90,\n",
    "                              ((\"CH2OH\",\"H\"),(\"H2O\",\"e\")) => 600.00,\n",
    "                              ((\"CH2OH\",\"H\"),(\"SO2\",\"e\")) => 1415.90,\n",
    "                              ((\"H2O\",\"H\"),(\"NH2\",\"e\")) => 1877.50,\n",
    "                              ((\"H2O\",\"H\"),(\"CH2OH\",\"e\")) => 2000.60,\n",
    "                              ((\"H2O\",\"H\"),(\"H2O\",\"e\")) => 1985.40,\n",
    "                              ((\"H2O\",\"H\"),(\"SO2\",\"e\")) => 1343.90,\n",
    "                              ((\"SO2\",\"H\"),(\"NH2\",\"e\")) => 1011.60,\n",
    "                              ((\"SO2\",\"H\"),(\"CH2OH\",\"e\")) => 1415.90,\n",
    "                              ((\"SO2\",\"H\"),(\"H2O\",\"e\")) => 1343.90,\n",
    "                              ((\"SO2\",\"H\"),(\"SO2\",\"e\")) => 955.58]),\n",
    "        bondvol = Dict([((\"NH2\",\"H\"),(\"NH2\",\"e\")) => 95.225e-30,\n",
    "                        ((\"NH2\",\"H\"),(\"CH2OH\",\"e\")) => 346.08e-30,\n",
    "                        ((\"NH2\",\"H\"),(\"H2O\",\"e\")) => 22.450e-30,\n",
    "                        ((\"NH2\",\"H\"),(\"SO2\",\"e\")) => 345.890e-30,\n",
    "                        ((\"CH2OH\",\"H\"),(\"NH2\",\"e\")) => 26.192e-30,\n",
    "                        ((\"CH2OH\",\"H\"),(\"CH2OH\",\"e\")) => 62.309e-30,\n",
    "                        ((\"CH2OH\",\"H\"),(\"H2O\",\"e\")) => 490.19e-30,\n",
    "                        ((\"CH2OH\",\"H\"),(\"SO2\",\"e\")) => 303.270e-30,\n",
    "                        ((\"H2O\",\"H\"),(\"NH2\",\"e\")) => 459.18e-30,\n",
    "                        ((\"H2O\",\"H\"),(\"CH2OH\",\"e\")) => 130.02e-30,\n",
    "                        ((\"H2O\",\"H\"),(\"H2O\",\"e\")) => 101.69e-30,\n",
    "                        ((\"H2O\",\"H\"),(\"SO2\",\"e\")) => 353.41e-30,\n",
    "                        ((\"SO2\",\"H\"),(\"NH2\",\"e\")) => 345.890e-30,\n",
    "                        ((\"SO2\",\"H\"),(\"CH2OH\",\"e\")) => 303.270e-30,\n",
    "                        ((\"SO2\",\"H\"),(\"H2O\",\"e\")) => 353.41e-30,\n",
    "                        ((\"SO2\",\"H\"),(\"SO2\",\"e\")) => 849.99e-30])))\n",
    "                        "
   ]
  },
  {
   "cell_type": "code",
   "execution_count": 29,
   "metadata": {},
   "outputs": [
    {
     "data": {
      "text/plain": [
       "5×5 PairParam{Float64}([\"NH2\", \"CH2\", \"CH2OH\", \"H2O\", \"SO2\"]) with values:\n",
       " 284.78   348.39  528.21  339.89  392.491\n",
       " 348.39   473.39  423.17  423.63  301.96\n",
       " 528.21   423.17  407.22  358.02  302.89\n",
       " 339.89   423.63  358.02  266.68  239.53\n",
       " 392.491  301.96  302.89  239.53  237.54"
      ]
     },
     "execution_count": 29,
     "metadata": {},
     "output_type": "execute_result"
    }
   ],
   "source": [
    "model.params.epsilon"
   ]
  },
  {
   "cell_type": "code",
   "execution_count": 4,
   "metadata": {},
   "outputs": [
    {
     "data": {
      "text/plain": [
       "5-element Vector{Dict{Symbol, Any}}:\n",
       " Dict(:symmetric => true, :upper => 800.0, :param => :epsilon, :indices => (1, 5), :guess => 259.9, :lower => 250.0)\n",
       " Dict(:upper => 3500.0, :param => :epsilon_assoc, :indices => 6, :guess => 1100.0, :cross_assoc => false, :lower => 800.0)\n",
       " Dict(:upper => 3500.0, :param => :epsilon_assoc, :indices => 7, :guess => 1100.0, :cross_assoc => false, :lower => 800.0)\n",
       " Dict(:upper => 1000.0, :param => :bondvol, :indices => 6, :guess => 345.0, :cross_assoc => false, :lower => 20.0, :factor => 1.0e-30)\n",
       " Dict(:upper => 1000.0, :param => :bondvol, :indices => 7, :guess => 345.0, :cross_assoc => false, :lower => 20.0, :factor => 1.0e-30)"
      ]
     },
     "execution_count": 4,
     "metadata": {},
     "output_type": "execute_result"
    }
   ],
   "source": [
    "toestimate = [\n",
    "    Dict(\n",
    "        :param => :epsilon,\n",
    "        :indices => (1,5),\n",
    "        :symmetric => true,\n",
    "        :lower => 250.00,\n",
    "        :upper => 800.00,\n",
    "        :guess => 259.90,\n",
    "    ),\n",
    "    Dict(\n",
    "        :param => :epsilon_assoc,\n",
    "        :indices => 6,\n",
    "        :cross_assoc => false,\n",
    "        :lower => 800.00,\n",
    "        :upper => 3500.00,\n",
    "        :guess => 1100.00,\n",
    "    ),\n",
    "    Dict(\n",
    "        :param => :epsilon_assoc,\n",
    "        :indices => 7,\n",
    "        :cross_assoc => false,\n",
    "        :lower => 800.00,\n",
    "        :upper => 3500.00,\n",
    "        :guess => 1100.00,\n",
    "    ),\n",
    "    Dict(\n",
    "        :param => :bondvol,\n",
    "        :indices => 6,\n",
    "        :cross_assoc => false,\n",
    "        :lower => 20.00,\n",
    "        :upper => 1000.00,\n",
    "        :guess => 345.00,\n",
    "        :factor => 1e-30,\n",
    "    ),\n",
    "    Dict(\n",
    "        :param => :bondvol,\n",
    "        :indices => 7,\n",
    "        :cross_assoc => false,\n",
    "        :lower => 20.00,\n",
    "        :upper => 1000.00,\n",
    "        :guess => 345.00,\n",
    "        :factor => 1e-30,\n",
    "    )\n",
    "]"
   ]
  },
  {
   "cell_type": "code",
   "execution_count": 5,
   "metadata": {},
   "outputs": [],
   "source": [
    "error(pred,exp) = abs(pred-exp)\n",
    "estimator,objective,initial,upper,lower = Estimation(model,toestimate,[\"SO2_EXP_All_Data.csv\"], [:vrmodel], error)\n",
    "method = ECA(;options=Options(iterations=1000));"
   ]
  },
  {
   "cell_type": "code",
   "execution_count": 6,
   "metadata": {},
   "outputs": [
    {
     "name": "stdout",
     "output_type": "stream",
     "text": [
      "[392.4906141952594, 1603.318712667631, 800.0000003573126, 999.9999952404572, 999.9998733377447]\n"
     ]
    }
   ],
   "source": [
    "params, model = optimize(objective, estimator, method);\n",
    "println(params)"
   ]
  },
  {
   "cell_type": "code",
   "execution_count": 7,
   "metadata": {},
   "outputs": [],
   "source": [
    "data1 = CSV.read(\"SO2_EXP_0.1wt.csv\", DataFrame; header=false)\n",
    "data2 = CSV.read(\"SO2_EXP_0.2wt.csv\", DataFrame; header=false)\n",
    "data3 = CSV.read(\"SO2_EXP_0.3wt.csv\", DataFrame; header=false)\n",
    "data4 = CSV.read(\"SO2_EXP_0.4wt.csv\", DataFrame; header=false)\n",
    "data5 = CSV.read(\"SO2_EXP_0.5wt.csv\", DataFrame; header=false)\n",
    "\n",
    "data1 .= convert.(Float64, data1)\n",
    "data2 .= convert.(Float64, data2)\n",
    "data3 .= convert.(Float64, data3)\n",
    "data4 .= convert.(Float64, data4)\n",
    "data5 .= convert.(Float64, data5);\n",
    "\n",
    "#Data is in the order temp, partial pressure, wtMEA, Loading SO2"
   ]
  },
  {
   "cell_type": "code",
   "execution_count": 8,
   "metadata": {},
   "outputs": [
    {
     "data": {
      "text/plain": [
       "5-element Vector{Float64}:\n",
       " 30.514096922168292\n",
       " 13.56182085429702\n",
       "  7.911062165006595\n",
       "  5.085682820361383\n",
       "  3.3904552135742545"
      ]
     },
     "execution_count": 8,
     "metadata": {},
     "output_type": "execute_result"
    }
   ],
   "source": [
    "wt_MEA = [0.1, 0.2, 0.3, 0.4, 0.5]\n",
    "wt_H2O = 1 .- wt_MEA\n",
    "\n",
    "mw_MEA = 61.08\n",
    "mw_H2O = 18.01528\n",
    "\n",
    "x_MEA = (wt_MEA ./ mw_MEA) .* (1 ./ ((wt_MEA ./ mw_MEA) .+ (wt_H2O ./ mw_H2O)))\n",
    "x_H2O = 1 .- x_MEA\n",
    "solvrat = x_H2O ./ x_MEA\n",
    "\n"
   ]
  },
  {
   "cell_type": "code",
   "execution_count": 9,
   "metadata": {},
   "outputs": [],
   "source": [
    "\n",
    "load = LinRange(0, 0.5, 100) #these are the ratio of SO2 mols to MEA mols in solution\n",
    "\n",
    "N = length(load)\n",
    "\n",
    "# intialise new composition vectors\n",
    "x_MEA = zeros(N, 5)\n",
    "x_H2O = zeros(N, 5)\n",
    "x_SO2 = zeros(N, 5)\n",
    "z = zeros(N, 15)\n",
    "\n",
    "# calculate the new liquid compositions at these loadings\n",
    "for i in 1:5\n",
    "    x_MEA[:,i] = 1 ./ (1 .+ load .+ solvrat[i])\n",
    "    x_SO2[:,i] = x_MEA[:,i] .* load\n",
    "    x_H2O[:,i] = 1 .- x_MEA[:,i] .- x_SO2[:,i]\n",
    "    ind = 3*(i-1) + 1\n",
    "    z[:, ind] = x_MEA[:,i]\n",
    "    z[:, ind + 1] = x_H2O[:,i]\n",
    "    z[:, ind + 2] = x_SO2[:,i]\n",
    "end\n",
    "\n",
    "# each 3 columns represents the composition\n",
    "# under loading at a different MEA wt in solution"
   ]
  },
  {
   "cell_type": "code",
   "execution_count": 10,
   "metadata": {},
   "outputs": [],
   "source": [
    "\n",
    "T = [293, 313, 333]\n",
    "\n",
    "pvap1 = zeros(N, 3)\n",
    "y1 = zeros(N, 3, 3)\n",
    "partial1 = zeros(N, 3)\n",
    "\n",
    "pvap2 = zeros(N, 3)\n",
    "y2 = zeros(N, 3, 3)\n",
    "partial2 = zeros(N, 3)\n",
    "\n",
    "pvap3 = zeros(N, 3)\n",
    "y3 = zeros(N, 3, 3)\n",
    "partial3 = zeros(N, 3)\n",
    "\n",
    "pvap4 = zeros(N, 3)\n",
    "y4 = zeros(N, 3, 3)\n",
    "partial4 = zeros(N, 3)\n",
    "\n",
    "pvap5 = zeros(N, 3)\n",
    "y5 = zeros(N, 3, 3)\n",
    "partial5 = zeros(N, 3)\n",
    "\n",
    "for j in 1:3\n",
    "        \n",
    "    for i in 1:N\n",
    "\n",
    "        # ------------- Wt = 0.1 ----------------#\n",
    "        x_bub = z[i, 1:3]\n",
    "        calc = bubble_pressure(model, T[j], x_bub)\n",
    "        pvap1[i, j] = calc[1]\n",
    "        y1[i, 1, j] = calc[4][1]\n",
    "        y1[i, 2, j] = calc[4][2]\n",
    "        y1[i, 3, j] = calc[4][3]\n",
    "\n",
    "        # ------------- Wt = 0.2 ----------------#\n",
    "        x_bub = z[i, 4:6]\n",
    "        calc = bubble_pressure(model, T[j], x_bub)\n",
    "        pvap2[i, j] = calc[1]\n",
    "        y2[i, 1, j] = calc[4][1]\n",
    "        y2[i, 2, j] = calc[4][2]\n",
    "        y2[i, 3, j] = calc[4][3]\n",
    "\n",
    "        # ------------- Wt = 0.3 ----------------#\n",
    "        x_bub = z[i, 7:9]\n",
    "        calc = bubble_pressure(model, T[j], x_bub)\n",
    "        pvap3[i, j] = calc[1]\n",
    "        y3[i, 1, j] = calc[4][1]\n",
    "        y3[i, 2, j] = calc[4][2]\n",
    "        y3[i, 3, j] = calc[4][3]\n",
    "\n",
    "        # ------------- Wt = 0.4 ----------------#\n",
    "        x_bub = z[i, 10:12]\n",
    "        calc = bubble_pressure(model, T[j], x_bub)\n",
    "        pvap4[i, j] = calc[1]\n",
    "        y4[i, 1, j] = calc[4][1]\n",
    "        y4[i, 2, j] = calc[4][2]\n",
    "        y4[i, 3, j] = calc[4][3]\n",
    "\n",
    "        # ------------- Wt = 0.5 ----------------#\n",
    "        x_bub = z[i, 13:15]\n",
    "        calc = bubble_pressure(model, T[j], x_bub)\n",
    "        pvap5[i, j] = calc[1]\n",
    "        y5[i, 1, j] = calc[4][1]\n",
    "        y5[i, 2, j] = calc[4][2]\n",
    "        y5[i, 3, j] = calc[4][3]\n",
    "\n",
    "    end\n",
    "\n",
    "end\n",
    "\n",
    "# --------------- Wt = 0.1 ------------------ #\n",
    "partial1T1 = pvap1[2:100, 1] .* y5[2:100, 3, 1]\n",
    "partial1T2 = pvap1[2:100, 2] .* y5[2:100, 3, 2]\n",
    "partial1T3 = pvap1[2:100, 3] .* y5[2:100, 3, 3]\n",
    "\n",
    "# --------------- Wt = 0.2 ------------------ #\n",
    "partial2T1 = pvap2[2:100, 1] .* y5[2:100, 3, 1]\n",
    "partial2T2 = pvap2[2:100, 2] .* y5[2:100, 3, 2]\n",
    "partial2T3 = pvap2[2:100, 3] .* y5[2:100, 3, 3]\n",
    "\n",
    "# --------------- Wt = 0.3 ------------------ #\n",
    "partial3T1 = pvap3[2:100, 1] .* y5[2:100, 3, 1]\n",
    "partial3T2 = pvap3[2:100, 2] .* y5[2:100, 3, 2]\n",
    "partial3T3 = pvap3[2:100, 3] .* y5[2:100, 3, 3]\n",
    "\n",
    "# --------------- Wt = 0.4 ------------------ #\n",
    "partial4T1 = pvap4[2:100, 1] .* y5[2:100, 3, 1]\n",
    "partial4T2 = pvap4[2:100, 2] .* y5[2:100, 3, 2]\n",
    "partial4T3 = pvap4[2:100, 3] .* y5[2:100, 3, 3]\n",
    "\n",
    "# --------------- Wt = 0.5 ------------------ #\n",
    "partial5T1 = pvap5[2:100, 1] .* y5[2:100, 3, 1]\n",
    "partial5T2 = pvap5[2:100, 2] .* y5[2:100, 3, 2]\n",
    "partial5T3 = pvap5[2:100, 3] .* y5[2:100, 3, 3]\n",
    "\n",
    "\n",
    "loadfil = load[2:100];"
   ]
  },
  {
   "cell_type": "markdown",
   "metadata": {},
   "source": [
    "#### Wt = 0.1"
   ]
  },
  {
   "cell_type": "code",
   "execution_count": null,
   "metadata": {},
   "outputs": [
    {
     "data": {
      "text/plain": [
       "\"C:\\\\Users\\\\fjm21\\\\OneDrive - Imperial College London\\\\Fourth Year\\\\Masters Project\\\\Figures_Formatted\\\\Param_Estimation\\\\5_param\\\\p_SO2_10%MEA.png\""
      ]
     },
     "execution_count": 20,
     "metadata": {},
     "output_type": "execute_result"
    }
   ],
   "source": [
    "plt = plot(grid = :off, \n",
    "            framestyle = :box, \n",
    "            foreground_color_legend = nothing, \n",
    "            legend_font = font(12),\n",
    "            xtickfont = font(12),\n",
    "            ytickfont = font(12),\n",
    "            yaxis = :log,\n",
    "            legend =:bottomright,\n",
    "            legend_background_color = :transparent,\n",
    "            legendtitle = L\"10 \\ w_{MEA} \\ \\%\",\n",
    "            left_margin = 4mm,\n",
    "            right_margin = 4mm,\n",
    "            xguidefontsize=16,\n",
    "            yguidefontsize=16,\n",
    "            xlims = (0, 0.15))\n",
    "\n",
    "plot!(plt, loadfil, partial1T3./1e5,\n",
    "      color = \"deepskyblue1\", \n",
    "      line = (:path, 3), \n",
    "      label = L\"\\mathrm{SAFT-\\gamma \\ Mie} \\ (T = 333.15 \\ \\mathrm{K})\")\n",
    "\n",
    "plot!(plt, loadfil, partial1T2./1e5, \n",
    "      color = \"mediumorchid2\", \n",
    "      line = (:path, 3), \n",
    "      label = L\"\\mathrm{SAFT-\\gamma \\ Mie} \\ (T = 313.15 \\ \\mathrm{K})\")\n",
    "\n",
    "plot!(plt, loadfil, partial1T1./1e5, \n",
    "      color = \"orange4\", \n",
    "      line = (:path, 3), \n",
    "      label = L\"\\mathrm{SAFT-\\gamma \\ Mie} \\ (T = 293.15 \\ \\mathrm{K})\")\n",
    "\n",
    "plot!(plt, data1[11:15,4], data1[11:15, 2]./1e5, \n",
    "      seriestype = :scatter, \n",
    "      color = \"deepskyblue1\", \n",
    "      markerstrokecolor = \"deepskyblue1\",\n",
    "      marker = :square, \n",
    "      markerstrokewidth = 1,\n",
    "      line = (:scatter, 0.4), \n",
    "      label = L\"\\mathrm{Experimental \\ Data} \\ (T = 333.15 \\ \\mathrm{K})\")\n",
    "\n",
    "plot!(plt, data1[6:10,4], data1[6:10, 2]./1e5, \n",
    "      seriestype = :scatter, \n",
    "      color = \"mediumorchid2\", \n",
    "      markerstrokecolor = \"mediumorchid2\",\n",
    "      marker = :square,\n",
    "      markerstrokewidth = 1, \n",
    "      line = (:scatter, 0.4), \n",
    "      label = L\"\\mathrm{Experimental \\ Data} \\ (T = 313.15 \\ \\mathrm{K})\")\n",
    "\n",
    "plot!(plt, data1[1:5,4], data1[1:5, 2]./1e5, \n",
    "      seriestype = :scatter, \n",
    "      color = \"orange4\", \n",
    "      markerstrokecolor = \"orange4\", \n",
    "      line = (:scatter, 0.4), \n",
    "      marker = :square,\n",
    "      markerstrokewidth = 1,\n",
    "      label = L\"\\mathrm{Experimental \\ Data} \\ (T = 293.15 \\ \\mathrm{K})\")\n",
    "\n",
    "xlabel!(plt, L\"\\theta_{\\mathrm{SO_2}}\")\n",
    "ylabel!(plt, L\"P_{\\mathrm{SO_2}} \\ / \\ \\mathrm{(bar)}\")\n",
    "\n",
    "#savefig(plt, \"C:\\\\Users\\\\fjm21\\\\OneDrive - Imperial College London\\\\Fourth Year\\\\Masters Project\\\\Figures_Formatted\\\\Param_Estimation\\\\5_param\\\\p_SO2_10%MEA.png\")"
   ]
  },
  {
   "cell_type": "markdown",
   "metadata": {},
   "source": [
    "#### Wt = 0.2"
   ]
  },
  {
   "cell_type": "code",
   "execution_count": null,
   "metadata": {},
   "outputs": [
    {
     "data": {
      "text/plain": [
       "\"C:\\\\Users\\\\fjm21\\\\OneDrive - Imperial College London\\\\Fourth Year\\\\Masters Project\\\\Figures_Formatted\\\\Param_Estimation\\\\5_param\\\\p_SO2_20%MEA.png\""
      ]
     },
     "execution_count": 21,
     "metadata": {},
     "output_type": "execute_result"
    }
   ],
   "source": [
    "plt2 = plot(grid = :off, \n",
    "            framestyle = :box, \n",
    "            foreground_color_legend = nothing, \n",
    "            legend_font = font(12),\n",
    "            xtickfont = font(12),\n",
    "            ytickfont = font(12),\n",
    "            yaxis = :log,\n",
    "            legend =:bottomright,\n",
    "            legend_background_color = :transparent,\n",
    "            legendtitle = L\"20 \\ w_{MEA} \\ \\%\",\n",
    "            left_margin = 4mm,\n",
    "            right_margin = 4mm,\n",
    "            xguidefontsize=16,\n",
    "            yguidefontsize=16,\n",
    "            xlims = (0, 0.15))\n",
    "\n",
    "plot!(plt2, loadfil, partial2T3./1e5, \n",
    "      color = \"deepskyblue1\", \n",
    "      line = (:path, 3), \n",
    "      label = L\"\\mathrm{SAFT-\\gamma \\ Mie} \\ (T = 333.15 \\ \\mathrm{K})\")\n",
    "\n",
    "plot!(plt2, loadfil, partial2T2./1e5, \n",
    "      color = \"mediumorchid2\", \n",
    "      line = (:path, 3), \n",
    "      label = L\"\\mathrm{SAFT-\\gamma \\ Mie} \\ (T = 313.15 \\ \\mathrm{K})\")\n",
    "\n",
    "plot!(plt2, loadfil, partial2T1./1e5, \n",
    "      color = \"orange4\", \n",
    "      line = (:path, 3), \n",
    "      label = L\"\\mathrm{SAFT-\\gamma \\ Mie} \\ (T = 293.15 \\ \\mathrm{K})\")\n",
    "\n",
    "plot!(plt2, data2[11:15,4], data2[11:15, 2]./1e5, \n",
    "      seriestype = :scatter, \n",
    "      color = \"deepskyblue1\", \n",
    "      marker = :square,\n",
    "      markerstrokecolor = \"deepskyblue1\", \n",
    "      line = (:scatter, 0.4), \n",
    "      label = L\"\\mathrm{Experimental \\ Data} \\ (T = 333.15 \\ \\mathrm{K})\")\n",
    "\n",
    "plot!(plt2, data2[6:10,4], data2[6:10, 2]./1e5, \n",
    "      seriestype = :scatter, \n",
    "      color = \"mediumorchid2\", \n",
    "      marker = :square,\n",
    "      markerstrokecolor = \"mediumorchid2\", \n",
    "      line = (:scatter, 0.4), \n",
    "      label = L\"\\mathrm{Experimental \\ Data} \\ (T = 313.15 \\ \\mathrm{K})\")\n",
    "\n",
    "plot!(plt2, data2[1:5,4], data2[1:5, 2]./1e5, \n",
    "      seriestype = :scatter, \n",
    "      color = \"orange4\", \n",
    "      marker = :square,\n",
    "      markerstrokecolor = \"orange4\", \n",
    "      line = (:scatter, 0.4), \n",
    "      label = L\"\\mathrm{Experimental \\ Data} \\ (T = 293.15 \\ \\mathrm{K})\")\n",
    "\n",
    "\n",
    "xlabel!(plt2, L\"\\theta_{\\mathrm{SO_2}}\")\n",
    "ylabel!(plt2, L\"P_{\\mathrm{SO_2}} \\ / \\ \\mathrm{(bar)}\")\n",
    "\n",
    "#savefig(plt2, \"C:\\\\Users\\\\fjm21\\\\OneDrive - Imperial College London\\\\Fourth Year\\\\Masters Project\\\\Figures_Formatted\\\\Param_Estimation\\\\5_param\\\\p_SO2_20%MEA.png\")\n"
   ]
  },
  {
   "cell_type": "markdown",
   "metadata": {},
   "source": [
    "#### Wt = 0.3"
   ]
  },
  {
   "cell_type": "code",
   "execution_count": null,
   "metadata": {},
   "outputs": [
    {
     "data": {
      "text/plain": [
       "\"C:\\\\Users\\\\fjm21\\\\OneDrive - Imperial College London\\\\Fourth Year\\\\Masters Project\\\\Figures_Formatted\\\\Param_Estimation\\\\5_param\\\\p_SO2_30%MEA.png\""
      ]
     },
     "execution_count": 22,
     "metadata": {},
     "output_type": "execute_result"
    }
   ],
   "source": [
    "plt3 = plot(grid = :off, \n",
    "            framestyle = :box, \n",
    "            foreground_color_legend = nothing, \n",
    "            legend_font = font(12),\n",
    "            xtickfont = font(12),\n",
    "            ytickfont = font(12),\n",
    "            yaxis = :log,\n",
    "            legend =:bottomright,\n",
    "            legend_background_color = :transparent,\n",
    "            legendtitle = L\"30 \\ w_{MEA} \\ \\%\",\n",
    "            left_margin = 4mm,\n",
    "            right_margin = 4mm,\n",
    "            xguidefontsize=16,\n",
    "            yguidefontsize=16,\n",
    "            xlims = (0, 0.25))\n",
    "\n",
    "plot!(plt3, loadfil, partial3T3./1e5, \n",
    "      color = \"deepskyblue1\", \n",
    "      line = (:path, 3), \n",
    "      label = L\"\\mathrm{SAFT-\\gamma \\ Mie} \\ (T = 333.15 \\ \\mathrm{K})\")\n",
    "\n",
    "plot!(plt3, loadfil, partial3T2./1e5, \n",
    "      color = \"mediumorchid2\", \n",
    "      line = (:path, 3), \n",
    "      label = L\"\\mathrm{SAFT-\\gamma \\ Mie} \\ (T = 313.15 \\ \\mathrm{K})\")\n",
    "\n",
    "plot!(plt3, loadfil, partial3T1./1e5, \n",
    "      color = \"orange4\", \n",
    "      line = (:path, 3), \n",
    "      label = L\"\\mathrm{SAFT-\\gamma \\ Mie} \\ (T = 293.15 \\ \\mathrm{K})\")\n",
    "\n",
    "plot!(plt3, data3[11:15,4], data3[11:15, 2]./1e5, \n",
    "      seriestype = :scatter, \n",
    "      color = \"deepskyblue1\", \n",
    "      markerstrokecolor = \"deepskyblue1\",\n",
    "      marker = :square, \n",
    "      line = (:scatter, 0.4), \n",
    "      label = L\"\\mathrm{Experimental \\ Data} \\ (T = 333.15 \\ \\mathrm{K})\")\n",
    "\n",
    "plot!(plt3, data3[6:10,4], data3[6:10, 2]./1e5, \n",
    "      seriestype = :scatter, \n",
    "      color = \"mediumorchid2\", \n",
    "      markerstrokecolor = \"mediumorchid2\", \n",
    "      marker = :square,\n",
    "      line = (:scatter, 0.4), \n",
    "      label = L\"\\mathrm{Experimental \\ Data} \\ (T = 313.15 \\ \\mathrm{K})\")\n",
    "\n",
    "plot!(plt3, data3[1:5,4], data3[1:5, 2]./1e5, \n",
    "      seriestype = :scatter, \n",
    "      color = \"orange4\", \n",
    "      markerstrokecolor = \"orange4\", \n",
    "      marker = :square,\n",
    "      line = (:scatter, 0.4), \n",
    "      label = L\"\\mathrm{Experimental \\ Data} \\ (T = 293.15 \\ \\mathrm{K})\")\n",
    "\n",
    "xlabel!(plt3, L\"\\theta_{\\mathrm{SO_2}}\")\n",
    "ylabel!(plt3, L\"P_{\\mathrm{SO_2}} \\ / \\ \\mathrm{(bar)}\")\n",
    "#savefig(plt, \"C:\\\\Users\\\\fjm21\\\\OneDrive - Imperial College London\\\\Fourth Year\\\\Masters Project\\\\Figures_Formatted\\\\Param_Estimation\\\\5_param\\\\p_SO2_30%MEA.png\")"
   ]
  },
  {
   "cell_type": "markdown",
   "metadata": {},
   "source": [
    "#### Wt = 0.4"
   ]
  },
  {
   "cell_type": "code",
   "execution_count": null,
   "metadata": {},
   "outputs": [
    {
     "data": {
      "text/plain": [
       "\"C:\\\\Users\\\\fjm21\\\\OneDrive - Imperial College London\\\\Fourth Year\\\\Masters Project\\\\Figures_Formatted\\\\Param_Estimation\\\\5_param\\\\p_SO2_40%MEA.png\""
      ]
     },
     "execution_count": 23,
     "metadata": {},
     "output_type": "execute_result"
    }
   ],
   "source": [
    "plt4 = plot(grid = :off, \n",
    "            framestyle = :box, \n",
    "            foreground_color_legend = nothing, \n",
    "            legend_font = font(12),\n",
    "            xtickfont = font(12),\n",
    "            ytickfont = font(12),\n",
    "            yaxis = :log,\n",
    "            legend =:bottomright,\n",
    "            legend_background_color = :transparent,\n",
    "            legendtitle = L\"40 \\ w_{MEA} \\ \\%\",\n",
    "            left_margin = 4mm,\n",
    "            right_margin = 4mm,\n",
    "            xguidefontsize=16,\n",
    "            yguidefontsize=16,\n",
    "            xlims = (0, 0.35))\n",
    "\n",
    "plot!(plt4, loadfil, partial4T3./1e5, \n",
    "      color = \"deepskyblue1\", \n",
    "      line = (:path, 3), \n",
    "      label = L\"\\mathrm{SAFT-\\gamma \\ Mie} \\ (T = 333.15 \\ \\mathrm{K})\")\n",
    "\n",
    "plot!(plt4, loadfil, partial4T2./1e5, \n",
    "      color = \"mediumorchid2\", \n",
    "      line = (:path, 3), \n",
    "      label = L\"\\mathrm{SAFT-\\gamma \\ Mie} \\ (T = 313.15 \\ \\mathrm{K})\")\n",
    "\n",
    "plot!(plt4, loadfil, partial4T1./1e5, \n",
    "      color = \"orange4\", \n",
    "      line = (:path, 3), \n",
    "      label = L\"\\mathrm{SAFT-\\gamma \\ Mie} \\ (T = 293.15 \\ \\mathrm{K})\")\n",
    "\n",
    "plot!(plt4, data4[11:15,4], data4[11:15, 2]./1e5, \n",
    "      seriestype = :scatter, \n",
    "      color = \"deepskyblue1\",\n",
    "      marker = :square, \n",
    "      markerstrokecolor = \"deepskyblue1\", \n",
    "      line = (:scatter, 0.4), \n",
    "      label = L\"\\mathrm{Experimental \\ Data} \\ (T = 333.15 \\ \\mathrm{K})\")\n",
    "\n",
    "\n",
    "plot!(plt4, data4[6:10,4], data4[6:10, 2]./1e5, \n",
    "      seriestype = :scatter, \n",
    "      color = \"mediumorchid2\", \n",
    "      marker = :square, \n",
    "      markerstrokecolor = \"mediumorchid2\", \n",
    "      line = (:scatter, 0.4), \n",
    "      label = L\"\\mathrm{Experimental \\ Data} \\ (T = 313.15 \\ \\mathrm{K})\")\n",
    "\n",
    "\n",
    "plot!(plt4, data4[1:5,4], data4[1:5, 2]./1e5, \n",
    "      seriestype = :scatter, \n",
    "      color = \"orange4\", \n",
    "      marker = :square, \n",
    "      markerstrokecolor = \"orange4\", \n",
    "      line = (:scatter, 0.4), \n",
    "      label = L\"\\mathrm{Experimental \\ Data} \\ (T = 293.15 \\ \\mathrm{K})\")\n",
    "\n",
    "xlabel!(plt4, L\"\\theta_{\\mathrm{SO_2}}\")\n",
    "ylabel!(plt4, L\"P_{\\mathrm{SO_2}} \\ / \\ \\mathrm{(bar)}\")\n",
    "\n",
    "#savefig(plt4, \"C:\\\\Users\\\\fjm21\\\\OneDrive - Imperial College London\\\\Fourth Year\\\\Masters Project\\\\Figures_Formatted\\\\Param_Estimation\\\\5_param\\\\p_SO2_40%MEA.png\")"
   ]
  },
  {
   "cell_type": "markdown",
   "metadata": {},
   "source": [
    "#### Wt = 0.5"
   ]
  },
  {
   "cell_type": "code",
   "execution_count": null,
   "metadata": {},
   "outputs": [
    {
     "data": {
      "text/plain": [
       "\"C:\\\\Users\\\\fjm21\\\\OneDrive - Imperial College London\\\\Fourth Year\\\\Masters Project\\\\Figures_Formatted\\\\Param_Estimation\\\\5_param\\\\p_SO2_50%MEA.png\""
      ]
     },
     "execution_count": 24,
     "metadata": {},
     "output_type": "execute_result"
    }
   ],
   "source": [
    "plt5 = plot(grid = :off, \n",
    "            framestyle = :box, \n",
    "            foreground_color_legend = nothing, \n",
    "            legend_font = font(12),\n",
    "            xtickfont = font(12),\n",
    "            ytickfont = font(12),\n",
    "            yaxis = :log,\n",
    "            legend =:bottomright,\n",
    "            legend_background_color = :transparent,\n",
    "            legendtitle = L\"50 \\ w_{MEA} \\ \\%\",\n",
    "            left_margin = 4mm,\n",
    "            right_margin = 4mm,\n",
    "            xguidefontsize=16,\n",
    "            yguidefontsize=16,\n",
    "            xlims = (0, 0.45))\n",
    "\n",
    "plot!(plt5, loadfil, partial5T3./1e5, \n",
    "      color = \"deepskyblue1\", \n",
    "      line = (:path, 3), \n",
    "      label = L\"\\mathrm{SAFT-\\gamma \\ Mie} \\ (T = 333.15 \\ \\mathrm{K})\")\n",
    "\n",
    "plot!(plt5, loadfil, partial5T2./1e5, \n",
    "      color = \"mediumorchid2\", \n",
    "      line = (:path, 3), \n",
    "      label = L\"\\mathrm{SAFT-\\gamma \\ Mie} \\ (T = 313.15 \\ \\mathrm{K})\")\n",
    "\n",
    "plot!(plt5, loadfil, partial5T1./1e5, \n",
    "      color = \"orange4\", \n",
    "      line = (:path, 3), \n",
    "      label = L\"\\mathrm{SAFT-\\gamma \\ Mie} \\ (T = 293.15 \\ \\mathrm{K})\")\n",
    "\n",
    "plot!(plt5, data5[11:15,4], data5[11:15, 2]./1e5, \n",
    "      seriestype = :scatter, \n",
    "      color = \"deepskyblue1\", \n",
    "      markerstrokecolor = \"deepskyblue1\",\n",
    "      marker = :square, \n",
    "      line = (:scatter, 0.4), \n",
    "      label = L\"\\mathrm{Experimental \\ Data} \\ (T = 333.15 \\ \\mathrm{K})\")\n",
    "\n",
    "plot!(plt5, data5[6:10,4], data5[6:10, 2]./1e5, \n",
    "      seriestype = :scatter, \n",
    "      color = \"mediumorchid2\", \n",
    "      markerstrokecolor = \"mediumorchid2\",\n",
    "      marker = :square, \n",
    "      line = (:scatter, 0.4), \n",
    "      label = L\"\\mathrm{Experimental \\ Data} \\ (T = 313.15 \\ \\mathrm{K})\")\n",
    "\n",
    "\n",
    "plot!(plt5, data5[1:5,4], data5[1:5, 2]./1e5, \n",
    "      seriestype = :scatter, \n",
    "      color = \"orange4\", \n",
    "      markerstrokecolor = \"orange4\",\n",
    "      marker = :square, \n",
    "      line = (:scatter, 0.4), \n",
    "      label = L\"\\mathrm{Experimental \\ Data} \\ (T = 293.15 \\ \\mathrm{K})\")\n",
    "\n",
    "xlabel!(plt5, L\"\\theta_{\\mathrm{SO_2}}\")\n",
    "ylabel!(plt5, L\"P_{\\mathrm{SO_2}} \\ / \\ \\mathrm{(bar)}\")\n",
    "\n",
    "#savefig(plt5, \"C:\\\\Users\\\\fjm21\\\\OneDrive - Imperial College London\\\\Fourth Year\\\\Masters Project\\\\Figures_Formatted\\\\Param_Estimation\\\\5_param\\\\p_SO2_50%MEA.png\")"
   ]
  },
  {
   "cell_type": "code",
   "execution_count": null,
   "metadata": {},
   "outputs": [
    {
     "data": {
      "text/plain": [
       "\"C:\\\\Users\\\\fjm21\\\\OneDrive - Imperial College London\\\\Fourth Year\\\\Masters Project\\\\Figures_Formatted\\\\Param_Estimation\\\\5_param\\\\p_SO2_combined.png\""
      ]
     },
     "execution_count": 25,
     "metadata": {},
     "output_type": "execute_result"
    }
   ],
   "source": [
    "plt6 = plot(\n",
    "    plt, plt2, plt3, plt4, plt5,\n",
    "    layout = (3, 2),\n",
    "    size = (1200, 1200)\n",
    ")\n",
    "\n",
    "#savefig(plt6, \"C:\\\\Users\\\\fjm21\\\\OneDrive - Imperial College London\\\\Fourth Year\\\\Masters Project\\\\Figures_Formatted\\\\Param_Estimation\\\\5_param\\\\p_SO2_combined.png\")"
   ]
  },
  {
   "cell_type": "code",
   "execution_count": 17,
   "metadata": {},
   "outputs": [
    {
     "data": {
      "text/plain": [
       "error_calc (generic function with 1 method)"
      ]
     },
     "execution_count": 17,
     "metadata": {},
     "output_type": "execute_result"
    }
   ],
   "source": [
    "function error_calc(model, data)\n",
    "    \n",
    "    N       = size(data)[1]\n",
    "    T       = data[:, 1]\n",
    "    w       = data[:, 2]\n",
    "    loading = data[:, 3]\n",
    "\n",
    "    partial_pred = zeros(N, 1)\n",
    "    abs_diff = zeros(N, 1)\n",
    "    exp_partial_pressure = data[:, 4]\n",
    "    for i in 1:N\n",
    "        partial_pred[i] = partial_SO2(model, T[i], w[i], loading[i])\n",
    "        abs_diff[i] = abs(partial_pred[i] - exp_partial_pressure[i])\n",
    "    end\n",
    "    accum_abs_diff = sum(abs_diff)\n",
    "    accum_abs_diff2 = sum(abs_diff./exp_partial_pressure)\n",
    "    apd = accum_abs_diff2 * (100/N)\n",
    "    return apd\n",
    "end"
   ]
  },
  {
   "cell_type": "code",
   "execution_count": 18,
   "metadata": {},
   "outputs": [
    {
     "data": {
      "text/plain": [
       "get_df (generic function with 1 method)"
      ]
     },
     "execution_count": 18,
     "metadata": {},
     "output_type": "execute_result"
    }
   ],
   "source": [
    "function get_df(csv_str)\n",
    "df = CSV.read(csv_str, DataFrame)\n",
    "    df_filt = df[3:end, :]\n",
    "    for i in 1:size(df_filt)[2]\n",
    "        df_filt[!, i] .= parse.(Float64, df_filt[!, i])\n",
    "    end \n",
    "    return df_filt\n",
    "end"
   ]
  },
  {
   "cell_type": "code",
   "execution_count": 19,
   "metadata": {},
   "outputs": [
    {
     "name": "stdout",
     "output_type": "stream",
     "text": [
      "36.10074414610896"
     ]
    }
   ],
   "source": [
    "df = get_df(\"SO2_EXP_All_Data.csv\")\n",
    "apd = error_calc(model, df)\n",
    "print(apd)"
   ]
  },
  {
   "cell_type": "code",
   "execution_count": null,
   "metadata": {},
   "outputs": [],
   "source": []
  }
 ],
 "metadata": {
  "kernelspec": {
   "display_name": "Julia 1.10.4",
   "language": "julia",
   "name": "julia-1.10"
  },
  "language_info": {
   "file_extension": ".jl",
   "mimetype": "application/julia",
   "name": "julia",
   "version": "1.10.4"
  }
 },
 "nbformat": 4,
 "nbformat_minor": 2
}
