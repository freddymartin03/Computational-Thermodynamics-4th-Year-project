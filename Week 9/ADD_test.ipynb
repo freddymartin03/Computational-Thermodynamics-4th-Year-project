{
 "cells": [
  {
   "cell_type": "code",
   "execution_count": 1,
   "metadata": {},
   "outputs": [],
   "source": [
    "using Clapeyron\n",
    "using Plots\n",
    "using CSV\n",
    "using DataFrames\n",
    "using LaTeXStrings\n",
    "using Measures\n",
    "using Metaheuristics"
   ]
  },
  {
   "cell_type": "code",
   "execution_count": 15,
   "metadata": {},
   "outputs": [],
   "source": [
    "model = SAFTgammaMie([(\"MEA\",[\"NH2\"=>1, \"CH2\"=>1, \"CH2OH\"=>1]),(\"Water\",[\"H2O\"=>1]),(\"Sulphur Dioxide\",[\"SO2\"=>1])];\n",
    "\n",
    "        userlocations = (Mw = [16.02285, 14.02658, 31.03392, 18.01528, 64.066],\n",
    "\n",
    "        epsilon = [284.78 348.39 528.21 339.89 453.85;\n",
    "                   348.39 473.39 423.17 423.63 301.96;\n",
    "                   528.21 423.17 407.22 358.02 302.89;\n",
    "                   339.89 423.63 358.02 266.68 239.53;\n",
    "                   453.85 301.96 302.89 239.53 237.54],\n",
    "        sigma = [3.2477, 4.8801, 3.4054, 3.0063, 3.1605],\n",
    "        lambda_a = [6, 6, 6, 6, 6],\n",
    "        lambda_r = [10.354 14.063 52.305 13.085 12.412;\n",
    "                    14.063 19.871 21.230 100.00 17.354;\n",
    "                    52.305 21.230 22.699 19.619 18.511;\n",
    "                    13.085 100.00 19.619 17.020 16.085;\n",
    "                    12.412 17.354 18.511 16.085 15.213],\n",
    "        vst = [1, 1, 2, 1, 3],\n",
    "        S = [0.79675, 0.22932, 0.58538, 1, 0.62547],\n",
    "        n_H=[2, 0, 1, 2, 1],\n",
    "        n_e=[1, 0, 2, 2, 1],\n",
    "        epsilon_assoc = Dict([((\"NH2\",\"H\"),(\"NH2\",\"e\")) => 1070.80,\n",
    "                              ((\"NH2\",\"H\"),(\"CH2OH\",\"e\")) => 629.88,\n",
    "                              ((\"NH2\",\"H\"),(\"H2O\",\"e\")) => 1364.40,\n",
    "                              ((\"NH2\",\"H\"),(\"SO2\",\"e\")) => 663.02,\n",
    "                              ((\"CH2OH\",\"H\"),(\"NH2\",\"e\")) => 2403.78,\n",
    "                              ((\"CH2OH\",\"H\"),(\"CH2OH\",\"e\")) => 2097.90,\n",
    "                              ((\"CH2OH\",\"H\"),(\"H2O\",\"e\")) => 600.00,\n",
    "                              ((\"CH2OH\",\"H\"),(\"SO2\",\"e\")) => 1415.90,\n",
    "                              ((\"H2O\",\"H\"),(\"NH2\",\"e\")) => 1877.50,\n",
    "                              ((\"H2O\",\"H\"),(\"CH2OH\",\"e\")) => 2000.60,\n",
    "                              ((\"H2O\",\"H\"),(\"H2O\",\"e\")) => 1985.40,\n",
    "                              ((\"H2O\",\"H\"),(\"SO2\",\"e\")) => 1343.90,\n",
    "                              ((\"SO2\",\"H\"),(\"NH2\",\"e\")) => 663.02,\n",
    "                              ((\"SO2\",\"H\"),(\"CH2OH\",\"e\")) => 1415.90,\n",
    "                              ((\"SO2\",\"H\"),(\"H2O\",\"e\")) => 1343.90,\n",
    "                              ((\"SO2\",\"H\"),(\"SO2\",\"e\")) => 955.58,\n",
    "                             ]),\n",
    "        bondvol = Dict([((\"NH2\",\"H\"),(\"NH2\",\"e\")) => 95.225e-30,\n",
    "                        ((\"NH2\",\"H\"),(\"CH2OH\",\"e\")) => 346.08e-30,\n",
    "                        ((\"NH2\",\"H\"),(\"H2O\",\"e\")) => 22.450e-30,\n",
    "                        ((\"NH2\",\"H\"),(\"SO2\",\"e\")) => 345.890e-30,\n",
    "                        ((\"CH2OH\",\"H\"),(\"NH2\",\"e\")) => 26.192e-30,\n",
    "                        ((\"CH2OH\",\"H\"),(\"CH2OH\",\"e\")) => 62.309e-30,\n",
    "                        ((\"CH2OH\",\"H\"),(\"H2O\",\"e\")) => 490.19e-30,\n",
    "                        ((\"CH2OH\",\"H\"),(\"SO2\",\"e\")) => 303.270e-30,\n",
    "                        ((\"H2O\",\"H\"),(\"NH2\",\"e\")) => 459.18e-30,\n",
    "                        ((\"H2O\",\"H\"),(\"CH2OH\",\"e\")) => 130.02e-30,\n",
    "                        ((\"H2O\",\"H\"),(\"H2O\",\"e\")) => 101.69e-30,\n",
    "                        ((\"H2O\",\"H\"),(\"SO2\",\"e\")) => 353.41e-30,\n",
    "                        ((\"SO2\",\"H\"),(\"NH2\",\"e\")) => 345.890e-30,\n",
    "                        ((\"SO2\",\"H\"),(\"CH2OH\",\"e\")) => 303.270e-30,\n",
    "                        ((\"SO2\",\"H\"),(\"H2O\",\"e\")) => 353.41e-30,\n",
    "                        ((\"SO2\",\"H\"),(\"SO2\",\"e\")) => 849.99e-30,\n",
    "\n",
    "                       ])));"
   ]
  },
  {
   "cell_type": "code",
   "execution_count": 3,
   "metadata": {},
   "outputs": [
    {
     "data": {
      "text/plain": [
       "partial_SO2"
      ]
     },
     "execution_count": 3,
     "metadata": {},
     "output_type": "execute_result"
    }
   ],
   "source": [
    "@doc \"\"\"\n",
    "Inputs:\n",
    "    model::EoSModel\n",
    "    T = 292, 313, 333 / K\n",
    "    w = wt% MEA\n",
    "    loading = SO2 loading\n",
    "\n",
    "Outputs:\n",
    "    partial pressure of SO2 at given T, wt % MEA & SO2 loading\n",
    "\n",
    "\"\"\"\n",
    "function partial_SO2(model::EoSModel, T, w, loading)\n",
    "\n",
    "    mw_MEA = 61.08\n",
    "    mw_H2O = 18.01528\n",
    "\n",
    "    wt_MEA = w\n",
    "    wt_H2O = 1 - w\n",
    "\n",
    "    x_MEA = (wt_MEA / mw_MEA) * (1 / ((wt_MEA / mw_MEA) + (wt_H2O / mw_H2O)))\n",
    "    x_H2O = 1 - x_MEA\n",
    "    solvrat = x_H2O / x_MEA\n",
    "\n",
    "    x_MEA = 1 / (1 + loading + solvrat)\n",
    "    x_SO2 = x_MEA * loading\n",
    "    x_H2O = 1 - x_MEA - x_SO2\n",
    "\n",
    "    x_bub = [x_MEA, x_H2O, x_SO2]\n",
    "\n",
    "    calc = bubble_pressure(model, T, x_bub)\n",
    "    pvap = calc[1]\n",
    "    y_MEA = calc[4][1]\n",
    "    y_H2O = calc[4][2]\n",
    "    y_SO2 = calc[4][3]\n",
    "\n",
    "    out_partial = y_SO2 * pvap\n",
    "    out_partial = log(out_partial)\n",
    "    return out_partial\n",
    "end \n"
   ]
  },
  {
   "cell_type": "code",
   "execution_count": 17,
   "metadata": {},
   "outputs": [
    {
     "data": {
      "text/plain": [
       "error_calc (generic function with 1 method)"
      ]
     },
     "execution_count": 17,
     "metadata": {},
     "output_type": "execute_result"
    }
   ],
   "source": [
    "function error_calc(model, data)\n",
    "    \n",
    "    N                    = size(data)[1]\n",
    "    T                    = data[:, 1]\n",
    "    w                    = data[:, 2]\n",
    "    loading              = data[:, 3]\n",
    "    exp_partial_pressure = data[:, 4]\n",
    "\n",
    "    partial_pred = zeros(N, 1)\n",
    "    abs_diff = zeros(N, 1)\n",
    "    \n",
    "    for i in 1:N\n",
    "        partial_pred[i] = partial_SO2(model, T[i], w[i], loading[i])\n",
    "        abs_diff[i] = abs(partial_pred[i] - (exp_partial_pressure[i]))\n",
    "    end\n",
    "    accum_abs_diff = sum(abs_diff)\n",
    "    accum_abs_diff2 = sum(abs_diff./exp_partial_pressure)\n",
    "    apd = accum_abs_diff2 * (100/N)\n",
    "    return apd\n",
    "end"
   ]
  },
  {
   "cell_type": "code",
   "execution_count": 12,
   "metadata": {},
   "outputs": [
    {
     "data": {
      "text/plain": [
       "get_df (generic function with 1 method)"
      ]
     },
     "execution_count": 12,
     "metadata": {},
     "output_type": "execute_result"
    }
   ],
   "source": [
    "function get_df(csv_str)\n",
    "    df = CSV.read(csv_str, DataFrame)\n",
    "        df_filt = df[3:end, :]\n",
    "        for i in 1:size(df_filt)[2]\n",
    "            df_filt[!, i] .= parse.(Float64, df_filt[!, i])\n",
    "        end \n",
    "        df_filt[!, 4] = log.(df_filt[:, 4])\n",
    "        return df_filt\n",
    "    end"
   ]
  },
  {
   "cell_type": "code",
   "execution_count": 13,
   "metadata": {},
   "outputs": [
    {
     "data": {
      "text/html": [
       "<div><div style = \"float: left;\"><span>75×4 DataFrame</span></div><div style = \"float: right;\"><span style = \"font-style: italic;\">50 rows omitted</span></div><div style = \"clear: both;\"></div></div><div class = \"data-frame\" style = \"overflow-x: scroll;\"><table class = \"data-frame\" style = \"margin-bottom: 6px;\"><thead><tr class = \"header\"><th class = \"rowNumber\" style = \"font-weight: bold; text-align: right;\">Row</th><th style = \"text-align: left;\">Clapeyron Estimator </th><th style = \"text-align: left;\">Column2</th><th style = \"text-align: left;\">Column3</th><th style = \"text-align: left;\">Column4</th></tr><tr class = \"subheader headerLastRow\"><th class = \"rowNumber\" style = \"font-weight: bold; text-align: right;\"></th><th title = \"Float64\" style = \"text-align: left;\">Float64</th><th title = \"Float64\" style = \"text-align: left;\">Float64</th><th title = \"Float64\" style = \"text-align: left;\">Float64</th><th title = \"Float64\" style = \"text-align: left;\">Float64</th></tr></thead><tbody><tr><td class = \"rowNumber\" style = \"font-weight: bold; text-align: right;\">1</td><td style = \"text-align: right;\">293.0</td><td style = \"text-align: right;\">0.1</td><td style = \"text-align: right;\">0.0341914</td><td style = \"text-align: right;\">9.49469</td></tr><tr><td class = \"rowNumber\" style = \"font-weight: bold; text-align: right;\">2</td><td style = \"text-align: right;\">293.0</td><td style = \"text-align: right;\">0.1</td><td style = \"text-align: right;\">0.0463291</td><td style = \"text-align: right;\">10.1878</td></tr><tr><td class = \"rowNumber\" style = \"font-weight: bold; text-align: right;\">3</td><td style = \"text-align: right;\">293.0</td><td style = \"text-align: right;\">0.1</td><td style = \"text-align: right;\">0.0683923</td><td style = \"text-align: right;\">10.5933</td></tr><tr><td class = \"rowNumber\" style = \"font-weight: bold; text-align: right;\">4</td><td style = \"text-align: right;\">293.0</td><td style = \"text-align: right;\">0.1</td><td style = \"text-align: right;\">0.108695</td><td style = \"text-align: right;\">10.8809</td></tr><tr><td class = \"rowNumber\" style = \"font-weight: bold; text-align: right;\">5</td><td style = \"text-align: right;\">293.0</td><td style = \"text-align: right;\">0.1</td><td style = \"text-align: right;\">0.122807</td><td style = \"text-align: right;\">11.1265</td></tr><tr><td class = \"rowNumber\" style = \"font-weight: bold; text-align: right;\">6</td><td style = \"text-align: right;\">313.0</td><td style = \"text-align: right;\">0.1</td><td style = \"text-align: right;\">0.0285087</td><td style = \"text-align: right;\">9.49469</td></tr><tr><td class = \"rowNumber\" style = \"font-weight: bold; text-align: right;\">7</td><td style = \"text-align: right;\">313.0</td><td style = \"text-align: right;\">0.1</td><td style = \"text-align: right;\">0.0386155</td><td style = \"text-align: right;\">10.1878</td></tr><tr><td class = \"rowNumber\" style = \"font-weight: bold; text-align: right;\">8</td><td style = \"text-align: right;\">313.0</td><td style = \"text-align: right;\">0.1</td><td style = \"text-align: right;\">0.0570175</td><td style = \"text-align: right;\">10.5933</td></tr><tr><td class = \"rowNumber\" style = \"font-weight: bold; text-align: right;\">9</td><td style = \"text-align: right;\">313.0</td><td style = \"text-align: right;\">0.1</td><td style = \"text-align: right;\">0.0906749</td><td style = \"text-align: right;\">10.8809</td></tr><tr><td class = \"rowNumber\" style = \"font-weight: bold; text-align: right;\">10</td><td style = \"text-align: right;\">313.0</td><td style = \"text-align: right;\">0.1</td><td style = \"text-align: right;\">0.102498</td><td style = \"text-align: right;\">11.1265</td></tr><tr><td class = \"rowNumber\" style = \"font-weight: bold; text-align: right;\">11</td><td style = \"text-align: right;\">333.0</td><td style = \"text-align: right;\">0.1</td><td style = \"text-align: right;\">0.0237414</td><td style = \"text-align: right;\">9.49469</td></tr><tr><td class = \"rowNumber\" style = \"font-weight: bold; text-align: right;\">12</td><td style = \"text-align: right;\">333.0</td><td style = \"text-align: right;\">0.1</td><td style = \"text-align: right;\">0.0322273</td><td style = \"text-align: right;\">10.1878</td></tr><tr><td class = \"rowNumber\" style = \"font-weight: bold; text-align: right;\">13</td><td style = \"text-align: right;\">333.0</td><td style = \"text-align: right;\">0.1</td><td style = \"text-align: right;\">0.0475781</td><td style = \"text-align: right;\">10.5933</td></tr><tr><td style = \"text-align: right;\">&vellip;</td><td style = \"text-align: right;\">&vellip;</td><td style = \"text-align: right;\">&vellip;</td><td style = \"text-align: right;\">&vellip;</td><td style = \"text-align: right;\">&vellip;</td></tr><tr><td class = \"rowNumber\" style = \"font-weight: bold; text-align: right;\">64</td><td style = \"text-align: right;\">293.0</td><td style = \"text-align: right;\">0.5</td><td style = \"text-align: right;\">0.293096</td><td style = \"text-align: right;\">10.8809</td></tr><tr><td class = \"rowNumber\" style = \"font-weight: bold; text-align: right;\">65</td><td style = \"text-align: right;\">293.0</td><td style = \"text-align: right;\">0.5</td><td style = \"text-align: right;\">0.426487</td><td style = \"text-align: right;\">11.1265</td></tr><tr><td class = \"rowNumber\" style = \"font-weight: bold; text-align: right;\">66</td><td style = \"text-align: right;\">313.0</td><td style = \"text-align: right;\">0.5</td><td style = \"text-align: right;\">0.0987794</td><td style = \"text-align: right;\">9.49469</td></tr><tr><td class = \"rowNumber\" style = \"font-weight: bold; text-align: right;\">67</td><td style = \"text-align: right;\">313.0</td><td style = \"text-align: right;\">0.5</td><td style = \"text-align: right;\">0.178585</td><td style = \"text-align: right;\">10.1878</td></tr><tr><td class = \"rowNumber\" style = \"font-weight: bold; text-align: right;\">68</td><td style = \"text-align: right;\">313.0</td><td style = \"text-align: right;\">0.5</td><td style = \"text-align: right;\">0.194794</td><td style = \"text-align: right;\">10.5933</td></tr><tr><td class = \"rowNumber\" style = \"font-weight: bold; text-align: right;\">69</td><td style = \"text-align: right;\">313.0</td><td style = \"text-align: right;\">0.5</td><td style = \"text-align: right;\">0.24466</td><td style = \"text-align: right;\">10.8809</td></tr><tr><td class = \"rowNumber\" style = \"font-weight: bold; text-align: right;\">70</td><td style = \"text-align: right;\">313.0</td><td style = \"text-align: right;\">0.5</td><td style = \"text-align: right;\">0.356025</td><td style = \"text-align: right;\">11.1265</td></tr><tr><td class = \"rowNumber\" style = \"font-weight: bold; text-align: right;\">71</td><td style = \"text-align: right;\">333.0</td><td style = \"text-align: right;\">0.5</td><td style = \"text-align: right;\">0.0855262</td><td style = \"text-align: right;\">9.49469</td></tr><tr><td class = \"rowNumber\" style = \"font-weight: bold; text-align: right;\">72</td><td style = \"text-align: right;\">333.0</td><td style = \"text-align: right;\">0.5</td><td style = \"text-align: right;\">0.122521</td><td style = \"text-align: right;\">10.1878</td></tr><tr><td class = \"rowNumber\" style = \"font-weight: bold; text-align: right;\">73</td><td style = \"text-align: right;\">333.0</td><td style = \"text-align: right;\">0.5</td><td style = \"text-align: right;\">0.129481</td><td style = \"text-align: right;\">10.5933</td></tr><tr><td class = \"rowNumber\" style = \"font-weight: bold; text-align: right;\">74</td><td style = \"text-align: right;\">333.0</td><td style = \"text-align: right;\">0.5</td><td style = \"text-align: right;\">0.192982</td><td style = \"text-align: right;\">10.8809</td></tr><tr><td class = \"rowNumber\" style = \"font-weight: bold; text-align: right;\">75</td><td style = \"text-align: right;\">333.0</td><td style = \"text-align: right;\">0.5</td><td style = \"text-align: right;\">0.244565</td><td style = \"text-align: right;\">11.1265</td></tr></tbody></table></div>"
      ],
      "text/latex": [
       "\\begin{tabular}{r|cccc}\n",
       "\t& Clapeyron Estimator  & Column2 & Column3 & Column4\\\\\n",
       "\t\\hline\n",
       "\t& Float64 & Float64 & Float64 & Float64\\\\\n",
       "\t\\hline\n",
       "\t1 & 293.0 & 0.1 & 0.0341914 & 9.49469 \\\\\n",
       "\t2 & 293.0 & 0.1 & 0.0463291 & 10.1878 \\\\\n",
       "\t3 & 293.0 & 0.1 & 0.0683923 & 10.5933 \\\\\n",
       "\t4 & 293.0 & 0.1 & 0.108695 & 10.8809 \\\\\n",
       "\t5 & 293.0 & 0.1 & 0.122807 & 11.1265 \\\\\n",
       "\t6 & 313.0 & 0.1 & 0.0285087 & 9.49469 \\\\\n",
       "\t7 & 313.0 & 0.1 & 0.0386155 & 10.1878 \\\\\n",
       "\t8 & 313.0 & 0.1 & 0.0570175 & 10.5933 \\\\\n",
       "\t9 & 313.0 & 0.1 & 0.0906749 & 10.8809 \\\\\n",
       "\t10 & 313.0 & 0.1 & 0.102498 & 11.1265 \\\\\n",
       "\t11 & 333.0 & 0.1 & 0.0237414 & 9.49469 \\\\\n",
       "\t12 & 333.0 & 0.1 & 0.0322273 & 10.1878 \\\\\n",
       "\t13 & 333.0 & 0.1 & 0.0475781 & 10.5933 \\\\\n",
       "\t14 & 333.0 & 0.1 & 0.0756101 & 10.8809 \\\\\n",
       "\t15 & 333.0 & 0.1 & 0.0855262 & 11.1265 \\\\\n",
       "\t16 & 293.0 & 0.2 & 0.0468153 & 9.49469 \\\\\n",
       "\t17 & 293.0 & 0.2 & 0.0768496 & 10.1878 \\\\\n",
       "\t18 & 293.0 & 0.2 & 0.102689 & 10.5933 \\\\\n",
       "\t19 & 293.0 & 0.2 & 0.146834 & 10.8809 \\\\\n",
       "\t20 & 293.0 & 0.2 & 0.179729 & 11.1265 \\\\\n",
       "\t21 & 313.0 & 0.2 & 0.0387108 & 9.49469 \\\\\n",
       "\t22 & 313.0 & 0.2 & 0.0641685 & 10.1878 \\\\\n",
       "\t23 & 313.0 & 0.2 & 0.0857169 & 10.5933 \\\\\n",
       "\t24 & 313.0 & 0.2 & 0.122425 & 10.8809 \\\\\n",
       "\t25 & 313.0 & 0.2 & 0.149981 & 11.1265 \\\\\n",
       "\t26 & 333.0 & 0.2 & 0.0326086 & 9.49469 \\\\\n",
       "\t27 & 333.0 & 0.2 & 0.053585 & 10.1878 \\\\\n",
       "\t28 & 333.0 & 0.2 & 0.0715102 & 10.5933 \\\\\n",
       "\t29 & 333.0 & 0.2 & 0.102212 & 10.8809 \\\\\n",
       "\t30 & 333.0 & 0.2 & 0.12519 & 11.1265 \\\\\n",
       "\t$\\dots$ & $\\dots$ & $\\dots$ & $\\dots$ & $\\dots$ \\\\\n",
       "\\end{tabular}\n"
      ],
      "text/plain": [
       "\u001b[1m75×4 DataFrame\u001b[0m\n",
       "\u001b[1m Row \u001b[0m│\u001b[1m Clapeyron Estimator  \u001b[0m\u001b[1m Column2 \u001b[0m\u001b[1m Column3   \u001b[0m\u001b[1m Column4  \u001b[0m\n",
       "     │\u001b[90m Float64              \u001b[0m\u001b[90m Float64 \u001b[0m\u001b[90m Float64   \u001b[0m\u001b[90m Float64  \u001b[0m\n",
       "─────┼────────────────────────────────────────────────────\n",
       "   1 │                293.0      0.1  0.0341914   9.49469\n",
       "   2 │                293.0      0.1  0.0463291  10.1878\n",
       "   3 │                293.0      0.1  0.0683923  10.5933\n",
       "   4 │                293.0      0.1  0.108695   10.8809\n",
       "   5 │                293.0      0.1  0.122807   11.1265\n",
       "   6 │                313.0      0.1  0.0285087   9.49469\n",
       "   7 │                313.0      0.1  0.0386155  10.1878\n",
       "   8 │                313.0      0.1  0.0570175  10.5933\n",
       "   9 │                313.0      0.1  0.0906749  10.8809\n",
       "  10 │                313.0      0.1  0.102498   11.1265\n",
       "  11 │                333.0      0.1  0.0237414   9.49469\n",
       "  ⋮  │          ⋮               ⋮         ⋮         ⋮\n",
       "  66 │                313.0      0.5  0.0987794   9.49469\n",
       "  67 │                313.0      0.5  0.178585   10.1878\n",
       "  68 │                313.0      0.5  0.194794   10.5933\n",
       "  69 │                313.0      0.5  0.24466    10.8809\n",
       "  70 │                313.0      0.5  0.356025   11.1265\n",
       "  71 │                333.0      0.5  0.0855262   9.49469\n",
       "  72 │                333.0      0.5  0.122521   10.1878\n",
       "  73 │                333.0      0.5  0.129481   10.5933\n",
       "  74 │                333.0      0.5  0.192982   10.8809\n",
       "  75 │                333.0      0.5  0.244565   11.1265\n",
       "\u001b[36m                                           54 rows omitted\u001b[0m"
      ]
     },
     "execution_count": 13,
     "metadata": {},
     "output_type": "execute_result"
    }
   ],
   "source": [
    "df = get_df(\"SO2_EXP_All_Data.csv\")\n",
    "df"
   ]
  },
  {
   "cell_type": "code",
   "execution_count": 18,
   "metadata": {},
   "outputs": [
    {
     "name": "stdout",
     "output_type": "stream",
     "text": [
      "4.244800067694826"
     ]
    }
   ],
   "source": [
    "apd = error_calc(model, df)\n",
    "print(apd)"
   ]
  }
 ],
 "metadata": {
  "kernelspec": {
   "display_name": "Julia 1.10.4",
   "language": "julia",
   "name": "julia-1.10"
  },
  "language_info": {
   "file_extension": ".jl",
   "mimetype": "application/julia",
   "name": "julia",
   "version": "1.10.4"
  }
 },
 "nbformat": 4,
 "nbformat_minor": 2
}
