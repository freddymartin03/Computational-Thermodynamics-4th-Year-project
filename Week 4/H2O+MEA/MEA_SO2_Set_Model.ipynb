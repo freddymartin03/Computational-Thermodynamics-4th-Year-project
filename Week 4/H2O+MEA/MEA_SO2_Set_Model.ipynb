{
 "cells": [
  {
   "cell_type": "code",
   "execution_count": 14,
   "id": "688e6e88-69ba-472f-a267-84e575895b96",
   "metadata": {},
   "outputs": [],
   "source": [
    "using Clapeyron\n",
    "using Plots\n",
    "using CSV\n",
    "using DataFrames\n",
    "using LaTeXStrings"
   ]
  },
  {
   "cell_type": "markdown",
   "id": "6b98f111-f9e5-4586-b005-576b0abe718f",
   "metadata": {},
   "source": [
    "Setup H20+MEA Model"
   ]
  },
  {
   "cell_type": "code",
   "execution_count": 17,
   "id": "b7234de2-872a-4bf0-8650-fb3328d7fe0d",
   "metadata": {},
   "outputs": [],
   "source": [
    "model = SAFTgammaMie([(\"MEA\",[\"NH2\"=>1, \"CH2\"=>1, \"CH2OH\"=>1]),(\"Water\",[\"H2O\"=>1])];userlocations=(Mw = [16.02285, 14.02658, 31.03392, 18.01528],\n",
    "        epsilon = [284.78 348.39 528.21 358.55;\n",
    "                   348.39 473.39 423.17 423.63;\n",
    "                   528.21 423.17 407.22 353.37;\n",
    "                   358.55 423.63 353.37 266.68],\n",
    "        sigma = [3.2477, 4.8801, 3.4054, 3.0063],\n",
    "        lambda_a = [6, 6, 6, 6],\n",
    "        lambda_r = [10.254 14.06265 52.305 13.0847;\n",
    "                    14.06265 19.871 21.23024 100;\n",
    "                    52.305 21.23024 22.699 19.61866;\n",
    "                    13.0847 100 19.61866 17.02],\n",
    "        vst = [1, 1, 2, 1],\n",
    "        S = [0.79675, 0.22932, 0.58538, 1], \n",
    "        n_H=[2, 0, 1, 2],\n",
    "        n_e=[1, 0, 2, 2],\n",
    "        #Need to add in all the cross association epsilons\n",
    "        epsilon_assoc = Dict([((\"NH2\",\"H\"),(\"NH2\",\"e\")) => 1070.8, \n",
    "                              ((\"NH2\",\"H\"),(\"CH2OH\",\"e\")) => 629.88,\n",
    "                              ((\"NH2\",\"H\"),(\"H2O\",\"e\")) => 1988.3,\n",
    "                              ((\"CH2OH\",\"H\"),(\"NH2\",\"e\")) => 2403.78,\n",
    "                              ((\"CH2OH\",\"H\"),(\"CH2OH\",\"e\")) => 2097.9,\n",
    "                              ((\"CH2OH\",\"H\"),(\"H2O\",\"e\")) => 621.68,\n",
    "                              ((\"H2O\",\"H\"),(\"NH2\",\"e\")) => 1460,\n",
    "                              ((\"H2O\",\"H\"),(\"CH2OH\",\"e\")) => 2153.2,\n",
    "                              ((\"H2O\",\"H\"),(\"H2O\",\"e\")) => 1985.4]),\n",
    "        bondvol = Dict([((\"NH2\",\"H\"),(\"NH2\",\"e\")) => 95.225e-30, \n",
    "                              ((\"NH2\",\"H\"),(\"CH2OH\",\"e\")) => 346.08e-30,\n",
    "                              ((\"NH2\",\"H\"),(\"H2O\",\"e\")) => 55.824e-30,\n",
    "                              ((\"CH2OH\",\"H\"),(\"NH2\",\"e\")) => 26.192e-30,\n",
    "                              ((\"CH2OH\",\"H\"),(\"CH2OH\",\"e\")) => 62.309e-30,\n",
    "                              ((\"CH2OH\",\"H\"),(\"H2O\",\"e\")) => 425e-30,\n",
    "                              ((\"H2O\",\"H\"),(\"NH2\",\"e\")) => 179.6e-30,\n",
    "                              ((\"H2O\",\"H\"),(\"CH2OH\",\"e\")) => 147.4e-30,\n",
    "                              ((\"H2O\",\"H\"),(\"H2O\",\"e\")) => 101.69e-30])));\n",
    "       "
   ]
  },
  {
   "cell_type": "code",
   "execution_count": null,
   "id": "e38195c3-9c98-445f-a538-f76121a7711c",
   "metadata": {},
   "outputs": [],
   "source": []
  }
 ],
 "metadata": {
  "kernelspec": {
   "display_name": "Julia 1.10.5",
   "language": "julia",
   "name": "julia-1.10"
  },
  "language_info": {
   "file_extension": ".jl",
   "mimetype": "application/julia",
   "name": "julia",
   "version": "1.10.5"
  }
 },
 "nbformat": 4,
 "nbformat_minor": 5
}
