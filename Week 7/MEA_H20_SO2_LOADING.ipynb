{
 "cells": [
  {
   "cell_type": "code",
   "execution_count": 1,
   "metadata": {},
   "outputs": [],
   "source": [
    "using Clapeyron\n",
    "using Plots\n",
    "using CSV\n",
    "using DataFrames\n",
    "using LaTeXStrings\n",
    "using Measures"
   ]
  },
  {
   "cell_type": "code",
   "execution_count": 2,
   "metadata": {},
   "outputs": [],
   "source": [
    "model_mix = SAFTgammaMie([(\"MEA\",[\"NH2\"=>1, \"CH2\"=>1, \"CH2OH\"=>1]),(\"Water\",[\"H2O\"=>1]),(\"Sulphur Dioxide\",[\"SO2\"=>1])];\n",
    "\n",
    "        userlocations = (Mw = [16.02285, 14.02658, 31.03392, 18.01528, 64.066],\n",
    "\n",
    "        epsilon = [284.78 348.39 528.21 339.89 259.90;\n",
    "                   348.39 473.39 423.17 423.63 301.96;\n",
    "                   528.21 423.17 407.22 358.02 302.89;\n",
    "                   339.89 423.63 358.02 266.68 239.53;\n",
    "                   259.90 301.96 302.89 239.53 237.54],\n",
    "        sigma = [3.2477, 4.8801, 3.4054, 3.0063, 3.1605],\n",
    "        lambda_a = [6, 6, 6, 6, 6],\n",
    "        lambda_r = [10.354 14.063 52.305 13.085 12.412;\n",
    "                    14.063 19.871 21.230 100.00 17.354;\n",
    "                    52.305 21.230 22.699 19.619 18.511;\n",
    "                    13.085 100.00 19.619 17.020 16.085;\n",
    "                    12.412 17.354 18.511 16.085 15.213],\n",
    "        vst = [1, 1, 2, 1, 3],\n",
    "        S = [0.79675, 0.22932, 0.58538, 1, 0.62547],\n",
    "        n_H=[2, 0, 1, 2, 1],\n",
    "        n_e=[1, 0, 2, 2, 1],\n",
    "        # n_a1=[0, 0, 0, 0, 1],\n",
    "        # n_a1e=[1, 0, 0, 1, 0],\n",
    "        # n_a2=[0, 0, 0, 0, 1],\n",
    "        # n_a2e=[1, 0, 0, 0, 0],\n",
    "        epsilon_assoc = Dict([((\"NH2\",\"H\"),(\"NH2\",\"e\")) => 1070.80,\n",
    "                              ((\"NH2\",\"H\"),(\"CH2OH\",\"e\")) => 629.88,\n",
    "                              ((\"NH2\",\"H\"),(\"H2O\",\"e\")) => 1364.40,\n",
    "                              ((\"NH2\",\"H\"),(\"SO2\",\"e\")) => 1011.60,\n",
    "                              ((\"CH2OH\",\"H\"),(\"NH2\",\"e\")) => 2403.78,\n",
    "                              ((\"CH2OH\",\"H\"),(\"CH2OH\",\"e\")) => 2097.90,\n",
    "                              ((\"CH2OH\",\"H\"),(\"H2O\",\"e\")) => 600.00,\n",
    "                              ((\"CH2OH\",\"H\"),(\"SO2\",\"e\")) => 1415.90,\n",
    "                              ((\"H2O\",\"H\"),(\"NH2\",\"e\")) => 1877.50,\n",
    "                              ((\"H2O\",\"H\"),(\"CH2OH\",\"e\")) => 2000.60,\n",
    "                              ((\"H2O\",\"H\"),(\"H2O\",\"e\")) => 1985.40,\n",
    "                              ((\"H2O\",\"H\"),(\"SO2\",\"e\")) => 1343.90,\n",
    "                              ((\"SO2\",\"H\"),(\"NH2\",\"e\")) => 1011.60,\n",
    "                              ((\"SO2\",\"H\"),(\"CH2OH\",\"e\")) => 1415.90,\n",
    "                              ((\"SO2\",\"H\"),(\"H2O\",\"e\")) => 1343.90,\n",
    "                              ((\"SO2\",\"H\"),(\"SO2\",\"e\")) => 955.58]),\n",
    "                              #((\"CO2\",\"a1\"),(\"NH2\",\"a1e\")) => 3313,\n",
    "                \n",
    "                              #((\"CO2\",\"a1\"),(\"H2O\",\"a1e\")) => 1398.1,\n",
    "                 \n",
    "                              #((\"CO2\",\"a2\"),(\"NH2\",\"a2e\")) => 4943.6]),\n",
    "\n",
    "        bondvol = Dict([((\"NH2\",\"H\"),(\"NH2\",\"e\")) => 95.225e-30,\n",
    "                        ((\"NH2\",\"H\"),(\"CH2OH\",\"e\")) => 346.08e-30,\n",
    "                        ((\"NH2\",\"H\"),(\"H2O\",\"e\")) => 22.450e-30,\n",
    "                        ((\"NH2\",\"H\"),(\"SO2\",\"e\")) => 345.890e-30,\n",
    "                        ((\"CH2OH\",\"H\"),(\"NH2\",\"e\")) => 26.192e-30,\n",
    "                        ((\"CH2OH\",\"H\"),(\"CH2OH\",\"e\")) => 62.309e-30,\n",
    "                        ((\"CH2OH\",\"H\"),(\"H2O\",\"e\")) => 490.19e-30,\n",
    "                        ((\"CH2OH\",\"H\"),(\"SO2\",\"e\")) => 303.270e-30,\n",
    "                        ((\"H2O\",\"H\"),(\"NH2\",\"e\")) => 459.18e-30,\n",
    "                        ((\"H2O\",\"H\"),(\"CH2OH\",\"e\")) => 130.02e-30,\n",
    "                        ((\"H2O\",\"H\"),(\"H2O\",\"e\")) => 101.69e-30,\n",
    "                        ((\"H2O\",\"H\"),(\"SO2\",\"e\")) => 353.41e-30,\n",
    "                        ((\"SO2\",\"H\"),(\"NH2\",\"e\")) => 345.890e-30,\n",
    "                        ((\"SO2\",\"H\"),(\"CH2OH\",\"e\")) => 303.270e-30,\n",
    "                        ((\"SO2\",\"H\"),(\"H2O\",\"e\")) => 353.41e-30,\n",
    "                        ((\"SO2\",\"H\"),(\"SO2\",\"e\")) => 849.99e-30])));\n",
    "        \n",
    "                              #((\"CO2\",\"a1\"),(\"NH2\",\"a1e\")) => 3280.3e-30,\n",
    "                \n",
    "                              #((\"CO2\",\"a1\"),(\"H2O\",\"a1e\")) => 91.419e-30,\n",
    "                 \n",
    "                              #((\"CO2\",\"a2\"),(\"NH2\",\"a2e\")) => 142.64e-30])));"
   ]
  },
  {
   "cell_type": "code",
   "execution_count": 3,
   "metadata": {},
   "outputs": [
    {
     "data": {
      "text/plain": [
       "7.911062165006595"
      ]
     },
     "execution_count": 3,
     "metadata": {},
     "output_type": "execute_result"
    }
   ],
   "source": [
    "wt_MEA = 0.3\n",
    "wt_H2O = 1-wt_MEA\n",
    "\n",
    "mw_MEA = 61.08\n",
    "mw_H2O = 18.01528\n",
    "\n",
    "x_MEA = (wt_MEA/mw_MEA)*(1/((wt_MEA/mw_MEA)+(wt_H2O/mw_H2O)))\n",
    "x_H2O = 1-x_MEA\n",
    "solvrat = x_H2O/x_MEA"
   ]
  },
  {
   "cell_type": "code",
   "execution_count": 4,
   "metadata": {},
   "outputs": [],
   "source": [
    "load = LinRange(0, 1.2, 100) #these are the ratio of CO2 mols to MEA mols in solution\n",
    "\n",
    "N = length(load)\n",
    "\n",
    "# intialise new composition vectors\n",
    "x_MEA = zeros(N, 1)\n",
    "x_H2O = zeros(N, 1)\n",
    "x_SO2 = zeros(N, 1)\n",
    "z = zeros(N, 3)\n",
    "\n",
    "# calculate the new liquid compositions at these loadings\n",
    "x_MEA = 1 ./ (1 .+ load .+ solvrat)\n",
    "x_SO2 = x_MEA .* load\n",
    "x_H2O = 1 .- x_MEA .- x_SO2\n",
    "z = hcat(x_MEA, x_H2O, x_SO2);"
   ]
  },
  {
   "cell_type": "code",
   "execution_count": 5,
   "metadata": {},
   "outputs": [],
   "source": [
    "T = [298.15, 313.15, 333.15, 353.15, 373.15]\n",
    "\n",
    "pvap = zeros(N, 5)\n",
    "y = zeros(N, 3, 5)\n",
    "partial = zeros(N, 5)\n",
    "\n",
    "for j in 1:5\n",
    "        \n",
    "    for i in 1:N\n",
    "        x_bub = z[i, :]\n",
    "        calc = bubble_pressure(model_mix, T[j], x_bub)\n",
    "        pvap[i, j] = calc[1]\n",
    "        y[i, 1, j] = calc[4][1]\n",
    "        y[i, 2, j] = calc[4][2]\n",
    "        y[i, 3, j] = calc[4][3]\n",
    "    end\n",
    "\n",
    "end\n",
    "\n",
    "partialT1 = pvap[2:100, 1] .* y[2:100, 3, 1]\n",
    "partialT2 = pvap[2:100, 2] .* y[2:100, 3, 2]\n",
    "partialT3 = pvap[2:100, 3] .* y[2:100, 3, 3]\n",
    "partialT4 = pvap[2:100, 4] .* y[2:100, 3, 4]\n",
    "partialT5 = pvap[2:100, 5] .* y[2:100, 3, 5]\n",
    "\n",
    "#partial = pvap.*y[:,3]\n",
    "#partialfil = partial[2:100]\n",
    "\n",
    "\n",
    "loadfil = load[2:100];"
   ]
  },
  {
   "cell_type": "code",
   "execution_count": 8,
   "metadata": {},
   "outputs": [
    {
     "data": {
      "text/plain": [
       "\"c:\\\\Users\\\\fjm21\\\\OneDrive - Imperial College London\\\\Julia Scripts\\\\Week 7\\\\SO2_All_Temps_Loading_298.png\""
      ]
     },
     "execution_count": 8,
     "metadata": {},
     "output_type": "execute_result"
    }
   ],
   "source": [
    "plt = plot(grid = :off, \n",
    "      framestyle = :box, \n",
    "      foreground_color_legend = nothing, \n",
    "      legend_font = font(12),\n",
    "      xtickfont = font(12),\n",
    "      ytickfont = font(12),\n",
    "      yaxis = :log,\n",
    "      xlims = (0, 1),\n",
    "      legend =:bottomright,\n",
    "      left_margin = 4mm,\n",
    "      right_margin = 4mm,\n",
    "      xguidefontsize=16,\n",
    "      yguidefontsize=16)\n",
    "\n",
    "plot!(plt, loadfil, partialT5, \n",
    "      color = \"indianred2\", \n",
    "      line = (:path, 3), \n",
    "      label = \"373.15K\")\n",
    "\n",
    "plot!(plt, loadfil, partialT4, \n",
    "      color = \"springgreen4\", \n",
    "      line = (:path, 3), \n",
    "      label = \"353.15K\")\n",
    "\n",
    "plot!(plt, loadfil, partialT3, \n",
    "      color = \"deepskyblue1\", \n",
    "      line = (:path, 3), \n",
    "      label = \"333.15K\")\n",
    "\n",
    "plot!(plt, loadfil, partialT2, \n",
    "      color = \"mediumorchid2\", \n",
    "      line = (:path, 3), \n",
    "      label = \"313.15K\")\n",
    "\n",
    "plot!(plt, loadfil, partialT1, \n",
    "      color = \"chocolate1\", \n",
    "      line = (:solid, 3), \n",
    "      label = \"298.15K\")\n",
    "\n",
    "xlabel!(plt, \"θ\"*L\"\\mathrm{_{SO_2}}\")\n",
    "ylabel!(plt, \"P\"*L\"\\mathrm{_{SO_2}}\"*\" / Pa\")\n",
    "\n",
    "savefig(plt, \"SO2_All_Temps_Loading_298\")"
   ]
  },
  {
   "cell_type": "code",
   "execution_count": null,
   "metadata": {},
   "outputs": [],
   "source": []
  }
 ],
 "metadata": {
  "kernelspec": {
   "display_name": "Julia 1.10.4",
   "language": "julia",
   "name": "julia-1.10"
  },
  "language_info": {
   "file_extension": ".jl",
   "mimetype": "application/julia",
   "name": "julia",
   "version": "1.10.4"
  }
 },
 "nbformat": 4,
 "nbformat_minor": 2
}
