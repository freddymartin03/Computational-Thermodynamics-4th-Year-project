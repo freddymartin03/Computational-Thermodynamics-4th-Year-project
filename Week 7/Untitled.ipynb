{
 "cells": [
  {
   "cell_type": "code",
   "execution_count": 1,
   "id": "b5164d25-25c3-4487-9772-f9515d5e2e20",
   "metadata": {},
   "outputs": [
    {
     "name": "stderr",
     "output_type": "stream",
     "text": [
      "\u001b[32m\u001b[1m   Resolving\u001b[22m\u001b[39m package versions...\n",
      "\u001b[32m\u001b[1m  No Changes\u001b[22m\u001b[39m to `C:\\Users\\gk321\\OneDrive - Imperial College London\\Documents\\4th year\\Research Project\\Project.toml`\n",
      "\u001b[32m\u001b[1m  No Changes\u001b[22m\u001b[39m to `C:\\Users\\gk321\\OneDrive - Imperial College London\\Documents\\4th year\\Research Project\\Manifest.toml`\n",
      "\u001b[36m\u001b[1m[ \u001b[22m\u001b[39m\u001b[36m\u001b[1mInfo: \u001b[22m\u001b[39mRunning `conda install -y python-ternary` in root environment\n"
     ]
    },
    {
     "name": "stdout",
     "output_type": "stream",
     "text": [
      "Retrieving notices: ...working... done\n",
      "Channels:\n",
      " - defaults\n",
      " - conda-forge\n",
      "Platform: win-64\n",
      "Collecting package metadata (repodata.json): ...working... done\n",
      "Solving environment: ...working... done\n"
     ]
    },
    {
     "name": "stderr",
     "output_type": "stream",
     "text": [
      "\n",
      "\n",
      "==> WARNING: A newer version of conda exists. <==\n",
      "    current version: 24.9.0\n",
      "    latest version: 24.9.2\n",
      "\n",
      "Please update conda by running\n",
      "\n",
      "    $ conda update -n base -c conda-forge conda\n",
      "\n",
      "\n"
     ]
    },
    {
     "name": "stdout",
     "output_type": "stream",
     "text": [
      "\n",
      "# All requested packages already installed.\n",
      "\n"
     ]
    },
    {
     "name": "stderr",
     "output_type": "stream",
     "text": [
      "\u001b[32m\u001b[1m  Activating\u001b[22m\u001b[39m project at `C:\\Users\\gk321\\OneDrive - Imperial College London\\Documents\\4th year\\Research Project`\n"
     ]
    },
    {
     "data": {
      "text/plain": [
       "PyObject <module 'ternary' from 'C:\\\\Users\\\\gk321\\\\.julia\\\\conda\\\\3\\\\x86_64\\\\Lib\\\\site-packages\\\\ternary\\\\__init__.py'>"
      ]
     },
     "execution_count": 1,
     "metadata": {},
     "output_type": "execute_result"
    }
   ],
   "source": [
    "import Pkg; Pkg.add(\"Conda\")\n",
    "using Conda\n",
    "Conda.add(\"python-ternary\")\n",
    "using Pkg\n",
    "Pkg.activate(\"..\")\n",
    "using Clapeyron, PyCall\n",
    "import PyPlot; const plt=PyPlot\n",
    "ternary = pyimport(\"ternary\")"
   ]
  },
  {
   "cell_type": "markdown",
   "id": "151c8f20-de83-455f-b53c-4bbdff3e6c6c",
   "metadata": {},
   "source": [
    "define the model"
   ]
  },
  {
   "cell_type": "code",
   "execution_count": 3,
   "id": "44472c93-ba5d-471a-8786-f21eb1ca2fd1",
   "metadata": {},
   "outputs": [],
   "source": [
    "model_mix = SAFTgammaMie([(\"MEA\",[\"NH2\"=>1, \"CH2\"=>1, \"CH2OH\"=>1]),(\"Water\",[\"H2O\"=>1]),(\"Carbon Dioxide\",[\"CO2\"=>1])];\n",
    "\n",
    "        userlocations = (Mw = [16.02285, 14.02658, 31.03392, 18.01528, 44.01],\n",
    "\n",
    "        epsilon = [284.78 348.39 528.21 339.89 134.58;\n",
    "\n",
    "                   348.39 473.39 423.17 423.63 276.45;\n",
    "\n",
    "                   528.21 423.17 407.22 358.02 312.3;\n",
    "\n",
    "                   339.89 423.63 358.02 266.68 226.38;\n",
    "                   \n",
    "                   134.58 276.45 312.3 226.38 207.89],\n",
    "\n",
    "        sigma = [3.2477, 4.8801, 3.4054, 3.0063, 3.05],\n",
    "\n",
    "        lambda_a = [6, 6, 6, 6, 5.055],\n",
    "\n",
    "        lambda_r = [10.354 14.063 52.305 13.085 50.06;\n",
    "\n",
    "                    14.063 19.871 21.230 100.00 22.873;\n",
    "\n",
    "                    52.305 21.230 22.699 19.619 24.474;\n",
    "\n",
    "                    13.085 100.00 19.619 17.020 21.116;\n",
    "            \n",
    "                    50.06  22.873 24.474 21.116 26.408],\n",
    "\n",
    "        vst = [1, 1, 2, 1, 2],\n",
    "\n",
    "        S = [0.79675, 0.22932, 0.58538, 1, 0.84680],\n",
    "\n",
    "        n_H=[2, 0, 1, 2, 0],\n",
    "\n",
    "        n_e=[1, 0, 2, 2, 0],\n",
    "\n",
    "        n_a1=[0, 0, 0, 0, 1],\n",
    "\n",
    "        #n_a1e=[1, 0, 0, 1, 0],\n",
    "\n",
    "        n_a2=[0, 0, 0, 0, 1],\n",
    "\n",
    "        #n_a2e=[1, 0, 0, 0, 0],\n",
    "\n",
    "        epsilon_assoc = Dict([((\"NH2\",\"H\"),(\"NH2\",\"e\")) => 1070.80,\n",
    "\n",
    "                              ((\"NH2\",\"H\"),(\"CH2OH\",\"e\")) => 629.88,\n",
    "\n",
    "                              ((\"NH2\",\"H\"),(\"H2O\",\"e\")) => 1364.40,\n",
    "\n",
    "                              ((\"CH2OH\",\"H\"),(\"NH2\",\"e\")) => 2403.78,\n",
    "\n",
    "                              ((\"CH2OH\",\"H\"),(\"CH2OH\",\"e\")) => 2097.90,\n",
    "\n",
    "                              ((\"CH2OH\",\"H\"),(\"H2O\",\"e\")) => 600.00,\n",
    "\n",
    "                              ((\"H2O\",\"H\"),(\"NH2\",\"e\")) => 1877.50,\n",
    "\n",
    "                              ((\"H2O\",\"H\"),(\"CH2OH\",\"e\")) => 2000.6,\n",
    "\n",
    "                              ((\"H2O\",\"H\"),(\"H2O\",\"e\")) => 1985.40,\n",
    "\n",
    "                              ((\"CO2\",\"a1\"),(\"NH2\",\"e\")) => 3313,\n",
    "                \n",
    "                              ((\"CO2\",\"a1\"),(\"H2O\",\"e\")) => 1398.1,\n",
    "                 \n",
    "                              ((\"CO2\",\"a2\"),(\"NH2\",\"e\")) => 4943.6]),\n",
    "                \n",
    "                              #((\"CO2\",\"a1\"),(\"NH2\",\"a1e\")) => 3313,\n",
    "                \n",
    "                              #((\"CO2\",\"a1\"),(\"H2O\",\"a1e\")) => 1398.1,\n",
    "                 \n",
    "                              #((\"CO2\",\"a2\"),(\"NH2\",\"a2e\")) => 4943.6]),\n",
    "        \n",
    "\n",
    "        bondvol = Dict([((\"NH2\",\"H\"),(\"NH2\",\"e\")) => 95.225e-30,\n",
    "\n",
    "                              ((\"NH2\",\"H\"),(\"CH2OH\",\"e\")) => 346.08e-30,\n",
    "\n",
    "                              ((\"NH2\",\"H\"),(\"H2O\",\"e\")) => 22.450e-30,\n",
    "\n",
    "                              ((\"CH2OH\",\"H\"),(\"NH2\",\"e\")) => 26.192e-30,\n",
    "\n",
    "                              ((\"CH2OH\",\"H\"),(\"CH2OH\",\"e\")) => 62.309e-30,\n",
    "\n",
    "                              ((\"CH2OH\",\"H\"),(\"H2O\",\"e\")) => 490.19e-30,\n",
    "\n",
    "                              ((\"H2O\",\"H\"),(\"NH2\",\"e\")) => 459.18e-30,\n",
    "\n",
    "                              ((\"H2O\",\"H\"),(\"CH2OH\",\"e\")) => 130.02e-30,\n",
    "\n",
    "                              ((\"H2O\",\"H\"),(\"H2O\",\"e\")) => 101.69e-30,\n",
    "\n",
    "                              ((\"CO2\",\"a1\"),(\"NH2\",\"e\")) => 3280.3e-30,\n",
    "                \n",
    "                              ((\"CO2\",\"a1\"),(\"H2O\",\"e\")) => 91.419e-30,\n",
    "                 \n",
    "                              ((\"CO2\",\"a2\"),(\"NH2\",\"e\")) => 142.64e-30])));\n",
    "                \n",
    "                              #((\"CO2\",\"a1\"),(\"NH2\",\"a1e\")) => 3280.3e-30,\n",
    "                \n",
    "                              #((\"CO2\",\"a1\"),(\"H2O\",\"a1e\")) => 91.419e-30,\n",
    "                 \n",
    "                              #((\"CO2\",\"a2\"),(\"NH2\",\"a2e\")) => 142.64e-30])));"
   ]
  },
  {
   "cell_type": "markdown",
   "id": "6d62c019-c3d4-422d-9d4e-1c444510feff",
   "metadata": {},
   "source": [
    "Choose initial conditions and predict phases"
   ]
  },
  {
   "cell_type": "code",
   "execution_count": null,
   "id": "b8e83248-74ee-4619-9830-df2097433599",
   "metadata": {},
   "outputs": [],
   "source": [
    "T = 273.15\n",
    "P = 1e5\n",
    "(x3,n3,G3) = tp_flash(model_mix,P,T,[0.2,0.6,0.2],DETPFlash(numphases=3))"
   ]
  },
  {
   "cell_type": "code",
   "execution_count": null,
   "id": "06f49e50-91df-4dfe-b170-bfb70f968bab",
   "metadata": {},
   "outputs": [],
   "source": []
  }
 ],
 "metadata": {
  "kernelspec": {
   "display_name": "Julia 1.10.5",
   "language": "julia",
   "name": "julia-1.10"
  },
  "language_info": {
   "file_extension": ".jl",
   "mimetype": "application/julia",
   "name": "julia",
   "version": "1.10.5"
  }
 },
 "nbformat": 4,
 "nbformat_minor": 5
}
